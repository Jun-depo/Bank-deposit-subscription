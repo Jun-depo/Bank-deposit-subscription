{
 "cells": [
  {
   "cell_type": "markdown",
   "metadata": {},
   "source": [
    "data: https://archive.ics.uci.edu/ml/datasets/Bank+Marketing"
   ]
  },
  {
   "cell_type": "code",
   "execution_count": 57,
   "metadata": {},
   "outputs": [],
   "source": [
    "import pandas as pd\n",
    "import numpy as np\n",
    "import matplotlib.pyplot as plt\n",
    "\n",
    "import warnings\n",
    "warnings.filterwarnings(\"ignore\")"
   ]
  },
  {
   "cell_type": "code",
   "execution_count": 2,
   "metadata": {},
   "outputs": [
    {
     "data": {
      "text/html": [
       "<div>\n",
       "<style scoped>\n",
       "    .dataframe tbody tr th:only-of-type {\n",
       "        vertical-align: middle;\n",
       "    }\n",
       "\n",
       "    .dataframe tbody tr th {\n",
       "        vertical-align: top;\n",
       "    }\n",
       "\n",
       "    .dataframe thead th {\n",
       "        text-align: right;\n",
       "    }\n",
       "</style>\n",
       "<table border=\"1\" class=\"dataframe\">\n",
       "  <thead>\n",
       "    <tr style=\"text-align: right;\">\n",
       "      <th></th>\n",
       "      <th>age</th>\n",
       "      <th>job</th>\n",
       "      <th>marital</th>\n",
       "      <th>education</th>\n",
       "      <th>default</th>\n",
       "      <th>housing</th>\n",
       "      <th>loan</th>\n",
       "      <th>contact</th>\n",
       "      <th>month</th>\n",
       "      <th>day_of_week</th>\n",
       "      <th>...</th>\n",
       "      <th>campaign</th>\n",
       "      <th>pdays</th>\n",
       "      <th>previous</th>\n",
       "      <th>poutcome</th>\n",
       "      <th>emp.var.rate</th>\n",
       "      <th>cons.price.idx</th>\n",
       "      <th>cons.conf.idx</th>\n",
       "      <th>euribor3m</th>\n",
       "      <th>nr.employed</th>\n",
       "      <th>y</th>\n",
       "    </tr>\n",
       "  </thead>\n",
       "  <tbody>\n",
       "    <tr>\n",
       "      <th>0</th>\n",
       "      <td>56</td>\n",
       "      <td>housemaid</td>\n",
       "      <td>married</td>\n",
       "      <td>basic.4y</td>\n",
       "      <td>no</td>\n",
       "      <td>no</td>\n",
       "      <td>no</td>\n",
       "      <td>telephone</td>\n",
       "      <td>may</td>\n",
       "      <td>mon</td>\n",
       "      <td>...</td>\n",
       "      <td>1</td>\n",
       "      <td>999</td>\n",
       "      <td>0</td>\n",
       "      <td>nonexistent</td>\n",
       "      <td>1.1</td>\n",
       "      <td>93.994</td>\n",
       "      <td>-36.4</td>\n",
       "      <td>4.857</td>\n",
       "      <td>5191.0</td>\n",
       "      <td>no</td>\n",
       "    </tr>\n",
       "    <tr>\n",
       "      <th>1</th>\n",
       "      <td>57</td>\n",
       "      <td>services</td>\n",
       "      <td>married</td>\n",
       "      <td>high.school</td>\n",
       "      <td>unknown</td>\n",
       "      <td>no</td>\n",
       "      <td>no</td>\n",
       "      <td>telephone</td>\n",
       "      <td>may</td>\n",
       "      <td>mon</td>\n",
       "      <td>...</td>\n",
       "      <td>1</td>\n",
       "      <td>999</td>\n",
       "      <td>0</td>\n",
       "      <td>nonexistent</td>\n",
       "      <td>1.1</td>\n",
       "      <td>93.994</td>\n",
       "      <td>-36.4</td>\n",
       "      <td>4.857</td>\n",
       "      <td>5191.0</td>\n",
       "      <td>no</td>\n",
       "    </tr>\n",
       "    <tr>\n",
       "      <th>2</th>\n",
       "      <td>37</td>\n",
       "      <td>services</td>\n",
       "      <td>married</td>\n",
       "      <td>high.school</td>\n",
       "      <td>no</td>\n",
       "      <td>yes</td>\n",
       "      <td>no</td>\n",
       "      <td>telephone</td>\n",
       "      <td>may</td>\n",
       "      <td>mon</td>\n",
       "      <td>...</td>\n",
       "      <td>1</td>\n",
       "      <td>999</td>\n",
       "      <td>0</td>\n",
       "      <td>nonexistent</td>\n",
       "      <td>1.1</td>\n",
       "      <td>93.994</td>\n",
       "      <td>-36.4</td>\n",
       "      <td>4.857</td>\n",
       "      <td>5191.0</td>\n",
       "      <td>no</td>\n",
       "    </tr>\n",
       "    <tr>\n",
       "      <th>3</th>\n",
       "      <td>40</td>\n",
       "      <td>admin.</td>\n",
       "      <td>married</td>\n",
       "      <td>basic.6y</td>\n",
       "      <td>no</td>\n",
       "      <td>no</td>\n",
       "      <td>no</td>\n",
       "      <td>telephone</td>\n",
       "      <td>may</td>\n",
       "      <td>mon</td>\n",
       "      <td>...</td>\n",
       "      <td>1</td>\n",
       "      <td>999</td>\n",
       "      <td>0</td>\n",
       "      <td>nonexistent</td>\n",
       "      <td>1.1</td>\n",
       "      <td>93.994</td>\n",
       "      <td>-36.4</td>\n",
       "      <td>4.857</td>\n",
       "      <td>5191.0</td>\n",
       "      <td>no</td>\n",
       "    </tr>\n",
       "    <tr>\n",
       "      <th>4</th>\n",
       "      <td>56</td>\n",
       "      <td>services</td>\n",
       "      <td>married</td>\n",
       "      <td>high.school</td>\n",
       "      <td>no</td>\n",
       "      <td>no</td>\n",
       "      <td>yes</td>\n",
       "      <td>telephone</td>\n",
       "      <td>may</td>\n",
       "      <td>mon</td>\n",
       "      <td>...</td>\n",
       "      <td>1</td>\n",
       "      <td>999</td>\n",
       "      <td>0</td>\n",
       "      <td>nonexistent</td>\n",
       "      <td>1.1</td>\n",
       "      <td>93.994</td>\n",
       "      <td>-36.4</td>\n",
       "      <td>4.857</td>\n",
       "      <td>5191.0</td>\n",
       "      <td>no</td>\n",
       "    </tr>\n",
       "  </tbody>\n",
       "</table>\n",
       "<p>5 rows × 21 columns</p>\n",
       "</div>"
      ],
      "text/plain": [
       "   age        job  marital    education  default housing loan    contact  \\\n",
       "0   56  housemaid  married     basic.4y       no      no   no  telephone   \n",
       "1   57   services  married  high.school  unknown      no   no  telephone   \n",
       "2   37   services  married  high.school       no     yes   no  telephone   \n",
       "3   40     admin.  married     basic.6y       no      no   no  telephone   \n",
       "4   56   services  married  high.school       no      no  yes  telephone   \n",
       "\n",
       "  month day_of_week  ...  campaign  pdays  previous     poutcome emp.var.rate  \\\n",
       "0   may         mon  ...         1    999         0  nonexistent          1.1   \n",
       "1   may         mon  ...         1    999         0  nonexistent          1.1   \n",
       "2   may         mon  ...         1    999         0  nonexistent          1.1   \n",
       "3   may         mon  ...         1    999         0  nonexistent          1.1   \n",
       "4   may         mon  ...         1    999         0  nonexistent          1.1   \n",
       "\n",
       "   cons.price.idx  cons.conf.idx  euribor3m  nr.employed   y  \n",
       "0          93.994          -36.4      4.857       5191.0  no  \n",
       "1          93.994          -36.4      4.857       5191.0  no  \n",
       "2          93.994          -36.4      4.857       5191.0  no  \n",
       "3          93.994          -36.4      4.857       5191.0  no  \n",
       "4          93.994          -36.4      4.857       5191.0  no  \n",
       "\n",
       "[5 rows x 21 columns]"
      ]
     },
     "execution_count": 2,
     "metadata": {},
     "output_type": "execute_result"
    }
   ],
   "source": [
    "df_ori = pd.read_csv(\"bank-additional/bank-additional-full.csv\",  sep=';')\n",
    "df_ori.head()"
   ]
  },
  {
   "cell_type": "code",
   "execution_count": 3,
   "metadata": {},
   "outputs": [
    {
     "data": {
      "text/html": [
       "<div>\n",
       "<style scoped>\n",
       "    .dataframe tbody tr th:only-of-type {\n",
       "        vertical-align: middle;\n",
       "    }\n",
       "\n",
       "    .dataframe tbody tr th {\n",
       "        vertical-align: top;\n",
       "    }\n",
       "\n",
       "    .dataframe thead th {\n",
       "        text-align: right;\n",
       "    }\n",
       "</style>\n",
       "<table border=\"1\" class=\"dataframe\">\n",
       "  <thead>\n",
       "    <tr style=\"text-align: right;\">\n",
       "      <th></th>\n",
       "      <th>age</th>\n",
       "      <th>job</th>\n",
       "      <th>marital</th>\n",
       "      <th>education</th>\n",
       "      <th>default</th>\n",
       "      <th>housing</th>\n",
       "      <th>loan</th>\n",
       "      <th>contact</th>\n",
       "      <th>month</th>\n",
       "      <th>day_of_week</th>\n",
       "      <th>...</th>\n",
       "      <th>campaign</th>\n",
       "      <th>pdays</th>\n",
       "      <th>previous</th>\n",
       "      <th>poutcome</th>\n",
       "      <th>emp.var.rate</th>\n",
       "      <th>cons.price.idx</th>\n",
       "      <th>cons.conf.idx</th>\n",
       "      <th>euribor3m</th>\n",
       "      <th>nr.employed</th>\n",
       "      <th>y</th>\n",
       "    </tr>\n",
       "  </thead>\n",
       "  <tbody>\n",
       "    <tr>\n",
       "      <th>0</th>\n",
       "      <td>1.642226</td>\n",
       "      <td>0</td>\n",
       "      <td>0</td>\n",
       "      <td>0</td>\n",
       "      <td>0</td>\n",
       "      <td>0</td>\n",
       "      <td>0</td>\n",
       "      <td>0</td>\n",
       "      <td>5</td>\n",
       "      <td>1</td>\n",
       "      <td>...</td>\n",
       "      <td>-0.559326</td>\n",
       "      <td>0.211884</td>\n",
       "      <td>-0.37161</td>\n",
       "      <td>1</td>\n",
       "      <td>0.727466</td>\n",
       "      <td>0.804082</td>\n",
       "      <td>0.877437</td>\n",
       "      <td>0.786089</td>\n",
       "      <td>0.401641</td>\n",
       "      <td>0</td>\n",
       "    </tr>\n",
       "    <tr>\n",
       "      <th>1</th>\n",
       "      <td>-0.196449</td>\n",
       "      <td>1</td>\n",
       "      <td>0</td>\n",
       "      <td>1</td>\n",
       "      <td>0</td>\n",
       "      <td>1</td>\n",
       "      <td>0</td>\n",
       "      <td>0</td>\n",
       "      <td>5</td>\n",
       "      <td>1</td>\n",
       "      <td>...</td>\n",
       "      <td>-0.559326</td>\n",
       "      <td>0.211884</td>\n",
       "      <td>-0.37161</td>\n",
       "      <td>1</td>\n",
       "      <td>0.727466</td>\n",
       "      <td>0.804082</td>\n",
       "      <td>0.877437</td>\n",
       "      <td>0.786089</td>\n",
       "      <td>0.401641</td>\n",
       "      <td>0</td>\n",
       "    </tr>\n",
       "    <tr>\n",
       "      <th>2</th>\n",
       "      <td>0.093868</td>\n",
       "      <td>2</td>\n",
       "      <td>0</td>\n",
       "      <td>2</td>\n",
       "      <td>0</td>\n",
       "      <td>0</td>\n",
       "      <td>0</td>\n",
       "      <td>0</td>\n",
       "      <td>5</td>\n",
       "      <td>1</td>\n",
       "      <td>...</td>\n",
       "      <td>-0.559326</td>\n",
       "      <td>0.211884</td>\n",
       "      <td>-0.37161</td>\n",
       "      <td>1</td>\n",
       "      <td>0.727466</td>\n",
       "      <td>0.804082</td>\n",
       "      <td>0.877437</td>\n",
       "      <td>0.786089</td>\n",
       "      <td>0.401641</td>\n",
       "      <td>0</td>\n",
       "    </tr>\n",
       "    <tr>\n",
       "      <th>3</th>\n",
       "      <td>1.642226</td>\n",
       "      <td>1</td>\n",
       "      <td>0</td>\n",
       "      <td>1</td>\n",
       "      <td>0</td>\n",
       "      <td>0</td>\n",
       "      <td>1</td>\n",
       "      <td>0</td>\n",
       "      <td>5</td>\n",
       "      <td>1</td>\n",
       "      <td>...</td>\n",
       "      <td>-0.559326</td>\n",
       "      <td>0.211884</td>\n",
       "      <td>-0.37161</td>\n",
       "      <td>1</td>\n",
       "      <td>0.727466</td>\n",
       "      <td>0.804082</td>\n",
       "      <td>0.877437</td>\n",
       "      <td>0.786089</td>\n",
       "      <td>0.401641</td>\n",
       "      <td>0</td>\n",
       "    </tr>\n",
       "    <tr>\n",
       "      <th>4</th>\n",
       "      <td>1.932543</td>\n",
       "      <td>2</td>\n",
       "      <td>0</td>\n",
       "      <td>3</td>\n",
       "      <td>0</td>\n",
       "      <td>0</td>\n",
       "      <td>0</td>\n",
       "      <td>0</td>\n",
       "      <td>5</td>\n",
       "      <td>1</td>\n",
       "      <td>...</td>\n",
       "      <td>-0.559326</td>\n",
       "      <td>0.211884</td>\n",
       "      <td>-0.37161</td>\n",
       "      <td>1</td>\n",
       "      <td>0.727466</td>\n",
       "      <td>0.804082</td>\n",
       "      <td>0.877437</td>\n",
       "      <td>0.786089</td>\n",
       "      <td>0.401641</td>\n",
       "      <td>0</td>\n",
       "    </tr>\n",
       "  </tbody>\n",
       "</table>\n",
       "<p>5 rows × 21 columns</p>\n",
       "</div>"
      ],
      "text/plain": [
       "        age  job  marital  education  default  housing  loan  contact  month  \\\n",
       "0  1.642226    0        0          0        0        0     0        0      5   \n",
       "1 -0.196449    1        0          1        0        1     0        0      5   \n",
       "2  0.093868    2        0          2        0        0     0        0      5   \n",
       "3  1.642226    1        0          1        0        0     1        0      5   \n",
       "4  1.932543    2        0          3        0        0     0        0      5   \n",
       "\n",
       "   day_of_week  ...  campaign     pdays  previous  poutcome  emp.var.rate  \\\n",
       "0            1  ... -0.559326  0.211884  -0.37161         1      0.727466   \n",
       "1            1  ... -0.559326  0.211884  -0.37161         1      0.727466   \n",
       "2            1  ... -0.559326  0.211884  -0.37161         1      0.727466   \n",
       "3            1  ... -0.559326  0.211884  -0.37161         1      0.727466   \n",
       "4            1  ... -0.559326  0.211884  -0.37161         1      0.727466   \n",
       "\n",
       "   cons.price.idx  cons.conf.idx  euribor3m  nr.employed  y  \n",
       "0        0.804082       0.877437   0.786089     0.401641  0  \n",
       "1        0.804082       0.877437   0.786089     0.401641  0  \n",
       "2        0.804082       0.877437   0.786089     0.401641  0  \n",
       "3        0.804082       0.877437   0.786089     0.401641  0  \n",
       "4        0.804082       0.877437   0.786089     0.401641  0  \n",
       "\n",
       "[5 rows x 21 columns]"
      ]
     },
     "execution_count": 3,
     "metadata": {},
     "output_type": "execute_result"
    }
   ],
   "source": [
    "df=pd.read_csv('bank_additional_full_clean_normalized.csv')\n",
    "df.head()"
   ]
  },
  {
   "cell_type": "code",
   "execution_count": 4,
   "metadata": {},
   "outputs": [],
   "source": [
    "X = df.iloc[:, 0:-1]\n",
    "y = df.y"
   ]
  },
  {
   "cell_type": "code",
   "execution_count": 5,
   "metadata": {},
   "outputs": [
    {
     "data": {
      "text/html": [
       "<div>\n",
       "<style scoped>\n",
       "    .dataframe tbody tr th:only-of-type {\n",
       "        vertical-align: middle;\n",
       "    }\n",
       "\n",
       "    .dataframe tbody tr th {\n",
       "        vertical-align: top;\n",
       "    }\n",
       "\n",
       "    .dataframe thead th {\n",
       "        text-align: right;\n",
       "    }\n",
       "</style>\n",
       "<table border=\"1\" class=\"dataframe\">\n",
       "  <thead>\n",
       "    <tr style=\"text-align: right;\">\n",
       "      <th></th>\n",
       "      <th>age</th>\n",
       "      <th>job</th>\n",
       "      <th>marital</th>\n",
       "      <th>education</th>\n",
       "      <th>default</th>\n",
       "      <th>housing</th>\n",
       "      <th>loan</th>\n",
       "      <th>contact</th>\n",
       "      <th>month</th>\n",
       "      <th>day_of_week</th>\n",
       "      <th>duration</th>\n",
       "      <th>campaign</th>\n",
       "      <th>pdays</th>\n",
       "      <th>previous</th>\n",
       "      <th>poutcome</th>\n",
       "      <th>emp.var.rate</th>\n",
       "      <th>cons.price.idx</th>\n",
       "      <th>cons.conf.idx</th>\n",
       "      <th>euribor3m</th>\n",
       "      <th>nr.employed</th>\n",
       "    </tr>\n",
       "  </thead>\n",
       "  <tbody>\n",
       "    <tr>\n",
       "      <th>0</th>\n",
       "      <td>1.642226</td>\n",
       "      <td>0</td>\n",
       "      <td>0</td>\n",
       "      <td>0</td>\n",
       "      <td>0</td>\n",
       "      <td>0</td>\n",
       "      <td>0</td>\n",
       "      <td>0</td>\n",
       "      <td>5</td>\n",
       "      <td>1</td>\n",
       "      <td>0.005792</td>\n",
       "      <td>-0.559326</td>\n",
       "      <td>0.211884</td>\n",
       "      <td>-0.37161</td>\n",
       "      <td>1</td>\n",
       "      <td>0.727466</td>\n",
       "      <td>0.804082</td>\n",
       "      <td>0.877437</td>\n",
       "      <td>0.786089</td>\n",
       "      <td>0.401641</td>\n",
       "    </tr>\n",
       "    <tr>\n",
       "      <th>1</th>\n",
       "      <td>-0.196449</td>\n",
       "      <td>1</td>\n",
       "      <td>0</td>\n",
       "      <td>1</td>\n",
       "      <td>0</td>\n",
       "      <td>1</td>\n",
       "      <td>0</td>\n",
       "      <td>0</td>\n",
       "      <td>5</td>\n",
       "      <td>1</td>\n",
       "      <td>-0.127941</td>\n",
       "      <td>-0.559326</td>\n",
       "      <td>0.211884</td>\n",
       "      <td>-0.37161</td>\n",
       "      <td>1</td>\n",
       "      <td>0.727466</td>\n",
       "      <td>0.804082</td>\n",
       "      <td>0.877437</td>\n",
       "      <td>0.786089</td>\n",
       "      <td>0.401641</td>\n",
       "    </tr>\n",
       "    <tr>\n",
       "      <th>2</th>\n",
       "      <td>0.093868</td>\n",
       "      <td>2</td>\n",
       "      <td>0</td>\n",
       "      <td>2</td>\n",
       "      <td>0</td>\n",
       "      <td>0</td>\n",
       "      <td>0</td>\n",
       "      <td>0</td>\n",
       "      <td>5</td>\n",
       "      <td>1</td>\n",
       "      <td>-0.414513</td>\n",
       "      <td>-0.559326</td>\n",
       "      <td>0.211884</td>\n",
       "      <td>-0.37161</td>\n",
       "      <td>1</td>\n",
       "      <td>0.727466</td>\n",
       "      <td>0.804082</td>\n",
       "      <td>0.877437</td>\n",
       "      <td>0.786089</td>\n",
       "      <td>0.401641</td>\n",
       "    </tr>\n",
       "    <tr>\n",
       "      <th>3</th>\n",
       "      <td>1.642226</td>\n",
       "      <td>1</td>\n",
       "      <td>0</td>\n",
       "      <td>1</td>\n",
       "      <td>0</td>\n",
       "      <td>0</td>\n",
       "      <td>1</td>\n",
       "      <td>0</td>\n",
       "      <td>5</td>\n",
       "      <td>1</td>\n",
       "      <td>0.181556</td>\n",
       "      <td>-0.559326</td>\n",
       "      <td>0.211884</td>\n",
       "      <td>-0.37161</td>\n",
       "      <td>1</td>\n",
       "      <td>0.727466</td>\n",
       "      <td>0.804082</td>\n",
       "      <td>0.877437</td>\n",
       "      <td>0.786089</td>\n",
       "      <td>0.401641</td>\n",
       "    </tr>\n",
       "    <tr>\n",
       "      <th>4</th>\n",
       "      <td>1.932543</td>\n",
       "      <td>2</td>\n",
       "      <td>0</td>\n",
       "      <td>3</td>\n",
       "      <td>0</td>\n",
       "      <td>0</td>\n",
       "      <td>0</td>\n",
       "      <td>0</td>\n",
       "      <td>5</td>\n",
       "      <td>1</td>\n",
       "      <td>-0.460365</td>\n",
       "      <td>-0.559326</td>\n",
       "      <td>0.211884</td>\n",
       "      <td>-0.37161</td>\n",
       "      <td>1</td>\n",
       "      <td>0.727466</td>\n",
       "      <td>0.804082</td>\n",
       "      <td>0.877437</td>\n",
       "      <td>0.786089</td>\n",
       "      <td>0.401641</td>\n",
       "    </tr>\n",
       "  </tbody>\n",
       "</table>\n",
       "</div>"
      ],
      "text/plain": [
       "        age  job  marital  education  default  housing  loan  contact  month  \\\n",
       "0  1.642226    0        0          0        0        0     0        0      5   \n",
       "1 -0.196449    1        0          1        0        1     0        0      5   \n",
       "2  0.093868    2        0          2        0        0     0        0      5   \n",
       "3  1.642226    1        0          1        0        0     1        0      5   \n",
       "4  1.932543    2        0          3        0        0     0        0      5   \n",
       "\n",
       "   day_of_week  duration  campaign     pdays  previous  poutcome  \\\n",
       "0            1  0.005792 -0.559326  0.211884  -0.37161         1   \n",
       "1            1 -0.127941 -0.559326  0.211884  -0.37161         1   \n",
       "2            1 -0.414513 -0.559326  0.211884  -0.37161         1   \n",
       "3            1  0.181556 -0.559326  0.211884  -0.37161         1   \n",
       "4            1 -0.460365 -0.559326  0.211884  -0.37161         1   \n",
       "\n",
       "   emp.var.rate  cons.price.idx  cons.conf.idx  euribor3m  nr.employed  \n",
       "0      0.727466        0.804082       0.877437   0.786089     0.401641  \n",
       "1      0.727466        0.804082       0.877437   0.786089     0.401641  \n",
       "2      0.727466        0.804082       0.877437   0.786089     0.401641  \n",
       "3      0.727466        0.804082       0.877437   0.786089     0.401641  \n",
       "4      0.727466        0.804082       0.877437   0.786089     0.401641  "
      ]
     },
     "execution_count": 5,
     "metadata": {},
     "output_type": "execute_result"
    }
   ],
   "source": [
    "X.head()"
   ]
  },
  {
   "cell_type": "code",
   "execution_count": 6,
   "metadata": {},
   "outputs": [
    {
     "data": {
      "text/plain": [
       "(0.2118836362185938, -4.749052297919588)"
      ]
     },
     "execution_count": 6,
     "metadata": {},
     "output_type": "execute_result"
    }
   ],
   "source": [
    "X.pdays.max(), X.pdays.min()"
   ]
  },
  {
   "cell_type": "code",
   "execution_count": 7,
   "metadata": {},
   "outputs": [
    {
     "data": {
      "text/plain": [
       "0    0\n",
       "1    0\n",
       "Name: y, dtype: int64"
      ]
     },
     "execution_count": 7,
     "metadata": {},
     "output_type": "execute_result"
    }
   ],
   "source": [
    "y.head(2)"
   ]
  },
  {
   "cell_type": "code",
   "execution_count": 8,
   "metadata": {},
   "outputs": [],
   "source": [
    "from sklearn.model_selection import train_test_split"
   ]
  },
  {
   "cell_type": "code",
   "execution_count": 9,
   "metadata": {},
   "outputs": [],
   "source": [
    "X_train, X_temp, y_train, y_temp = train_test_split(X, y, test_size=0.4, random_state=101)"
   ]
  },
  {
   "cell_type": "code",
   "execution_count": 10,
   "metadata": {},
   "outputs": [],
   "source": [
    "X_cv, X_test, y_cv, y_test = train_test_split(X_temp, y_temp, test_size=0.5, random_state=101)"
   ]
  },
  {
   "cell_type": "code",
   "execution_count": 11,
   "metadata": {},
   "outputs": [],
   "source": [
    "from sklearn.metrics import classification_report"
   ]
  },
  {
   "cell_type": "code",
   "execution_count": 12,
   "metadata": {},
   "outputs": [
    {
     "data": {
      "text/plain": [
       "Index(['age', 'job', 'marital', 'education', 'default', 'housing', 'loan',\n",
       "       'contact', 'month', 'day_of_week', 'duration', 'campaign', 'pdays',\n",
       "       'previous', 'poutcome', 'emp.var.rate', 'cons.price.idx',\n",
       "       'cons.conf.idx', 'euribor3m', 'nr.employed', 'y'],\n",
       "      dtype='object')"
      ]
     },
     "execution_count": 12,
     "metadata": {},
     "output_type": "execute_result"
    }
   ],
   "source": [
    "df_ori.columns"
   ]
  },
  {
   "cell_type": "code",
   "execution_count": 13,
   "metadata": {},
   "outputs": [
    {
     "name": "stdout",
     "output_type": "stream",
     "text": [
      "Number of samples: 30488\n",
      "Number of features: 19\n",
      "Number of categorical features: 10\n",
      "Number of numerical features: 9\n"
     ]
    }
   ],
   "source": [
    "categorical_columns_subset = [\n",
    "    'job', 'marital', 'education', 'default', 'housing', 'loan', 'contact', 'month', 'day_of_week', 'poutcome'\n",
    "]\n",
    "\n",
    "numerical_columns_subset = [\n",
    "    'duration', 'campaign', 'pdays',\n",
    "    'previous', 'emp.var.rate', 'cons.price.idx', \n",
    "    'cons.conf.idx', 'euribor3m', 'nr.employed'\n",
    "]\n",
    "\n",
    "X = X[categorical_columns_subset + numerical_columns_subset]\n",
    "X[categorical_columns_subset] = X[categorical_columns_subset].astype(\"category\")\n",
    "\n",
    "n_categorical_features = X.select_dtypes(include=\"category\").shape[1]\n",
    "n_numerical_features = X.select_dtypes(include=\"number\").shape[1]\n",
    "\n",
    "print(f\"Number of samples: {X.shape[0]}\")\n",
    "print(f\"Number of features: {X.shape[1]}\")\n",
    "print(f\"Number of categorical features: {n_categorical_features}\")\n",
    "print(f\"Number of numerical features: {n_numerical_features}\")"
   ]
  },
  {
   "cell_type": "code",
   "execution_count": 14,
   "metadata": {},
   "outputs": [],
   "source": [
    "from sklearn.preprocessing import OneHotEncoder\n",
    "from sklearn.compose import make_column_transformer\n",
    "from sklearn.compose import make_column_selector\n",
    "from sklearn.pipeline import make_pipeline\n",
    "\n",
    "one_hot_encoder = make_column_transformer(\n",
    "    (\n",
    "        OneHotEncoder(sparse=False, handle_unknown=\"ignore\"),\n",
    "        make_column_selector(dtype_include=\"category\"),\n",
    "    ),\n",
    "    remainder=\"passthrough\",\n",
    ")"
   ]
  },
  {
   "cell_type": "code",
   "execution_count": 20,
   "metadata": {},
   "outputs": [],
   "source": [
    "import lightgbm as lgbm\n",
    "\n",
    "import optuna  # pip install optuna\n",
    "from sklearn.metrics import log_loss"
   ]
  },
  {
   "cell_type": "code",
   "execution_count": 64,
   "metadata": {},
   "outputs": [],
   "source": [
    "from optuna.integration import LightGBMPruningCallback\n",
    "\n",
    "def objective(trial, X, y):\n",
    "    param_grid = {\n",
    "        # \"device_type\": trial.suggest_categorical(\"device_type\", ['gpu']),\n",
    "        \"n_estimators\": trial.suggest_categorical(\"n_estimators\", [10000]),\n",
    "        \"learning_rate\": trial.suggest_float(\"learning_rate\", 0.01, 0.05, step=0.02),\n",
    "        \"num_leaves\": trial.suggest_int(\"num_leaves\", 30, 210, step=30),\n",
    "        \"max_depth\": trial.suggest_int(\"max_depth\", 3, 12, step=1),\n",
    "        \"min_data_in_leaf\": trial.suggest_int(\"min_data_in_leaf\", 20, 120, step=20),\n",
    "        \"lambda_l1\": trial.suggest_int(\"lambda_l1\", 0, 100, step=20),\n",
    "        \"lambda_l2\": trial.suggest_int(\"lambda_l2\", 0, 100, step=20),\n",
    "        \"min_gain_to_split\": trial.suggest_float(\"min_gain_to_split\", 0, 4.0, step=1.0),\n",
    "        \"bagging_fraction\": trial.suggest_float(\n",
    "            \"bagging_fraction\", 0.25, 0.95, step=0.1\n",
    "        ),\n",
    "        \"bagging_freq\": trial.suggest_categorical(\"bagging_freq\", [1]),\n",
    "        \"feature_fraction\": trial.suggest_float(\n",
    "            \"feature_fraction\", 0.25, 0.95, step=0.1\n",
    "        ),\n",
    "    }\n",
    "\n",
    "#     cv = StratifiedKFold(n_splits=5, shuffle=True, random_state=1121218)\n",
    "\n",
    "#     cv_scores = np.empty(5)\n",
    "#     for idx, (train_idx, test_idx) in enumerate(cv.split(X, y)):\n",
    "#         X_train, X_test = X.iloc[train_idx], X.iloc[test_idx]\n",
    "#         y_train, y_test = y[train_idx], y[test_idx]\n",
    "\n",
    "    model = lgbm.LGBMClassifier(objective=\"binary\", **param_grid)\n",
    "    model.fit(\n",
    "        X_train,\n",
    "        y_train,\n",
    "        eval_set=[(X_cv, y_cv)],\n",
    "        eval_metric=\"binary_logloss\",\n",
    "        early_stopping_rounds=100,\n",
    "        callbacks=[\n",
    "            LightGBMPruningCallback(trial, \"binary_logloss\")\n",
    "        ],  # Add a pruning callback\n",
    "    )\n",
    "    preds = model.predict_proba(X_cv)\n",
    "    cv_scores = log_loss(y_cv, preds)\n",
    "    mean_loss = np.mean(cv_scores)\n",
    "    print(f\"mean_loss {mean_loss:.5f}\")\n",
    "    return mean_loss"
   ]
  },
  {
   "cell_type": "code",
   "execution_count": 75,
   "metadata": {},
   "outputs": [
    {
     "name": "stderr",
     "output_type": "stream",
     "text": [
      "\u001b[32m[I 2022-05-08 15:19:42,815]\u001b[0m A new study created in memory with name: LGBM Classifier\u001b[0m\n"
     ]
    },
    {
     "name": "stdout",
     "output_type": "stream",
     "text": [
      "[LightGBM] [Warning] lambda_l1 is set=20, reg_alpha=0.0 will be ignored. Current value: lambda_l1=20\n",
      "[LightGBM] [Warning] bagging_fraction is set=0.8500000000000001, subsample=1.0 will be ignored. Current value: bagging_fraction=0.8500000000000001\n",
      "[LightGBM] [Warning] min_gain_to_split is set=0.0, min_split_gain=0.0 will be ignored. Current value: min_gain_to_split=0.0\n",
      "[LightGBM] [Warning] lambda_l2 is set=60, reg_lambda=0.0 will be ignored. Current value: lambda_l2=60\n",
      "[LightGBM] [Warning] feature_fraction is set=0.25, colsample_bytree=1.0 will be ignored. Current value: feature_fraction=0.25\n",
      "[LightGBM] [Warning] min_data_in_leaf is set=40, min_child_samples=20 will be ignored. Current value: min_data_in_leaf=40\n",
      "[LightGBM] [Warning] bagging_freq is set=1, subsample_freq=0 will be ignored. Current value: bagging_freq=1\n"
     ]
    },
    {
     "name": "stderr",
     "output_type": "stream",
     "text": [
      "\u001b[32m[I 2022-05-08 15:20:14,216]\u001b[0m Trial 0 finished with value: 0.1883037486646485 and parameters: {'n_estimators': 10000, 'learning_rate': 0.03, 'num_leaves': 120, 'max_depth': 9, 'min_data_in_leaf': 40, 'lambda_l1': 20, 'lambda_l2': 60, 'min_gain_to_split': 0.0, 'bagging_fraction': 0.8500000000000001, 'bagging_freq': 1, 'feature_fraction': 0.25}. Best is trial 0 with value: 0.1883037486646485.\u001b[0m\n"
     ]
    },
    {
     "name": "stdout",
     "output_type": "stream",
     "text": [
      "mean_loss 0.18830\n",
      "[LightGBM] [Warning] lambda_l1 is set=100, reg_alpha=0.0 will be ignored. Current value: lambda_l1=100\n",
      "[LightGBM] [Warning] bagging_fraction is set=0.8500000000000001, subsample=1.0 will be ignored. Current value: bagging_fraction=0.8500000000000001\n",
      "[LightGBM] [Warning] min_gain_to_split is set=3.0, min_split_gain=0.0 will be ignored. Current value: min_gain_to_split=3.0\n",
      "[LightGBM] [Warning] lambda_l2 is set=80, reg_lambda=0.0 will be ignored. Current value: lambda_l2=80\n",
      "[LightGBM] [Warning] feature_fraction is set=0.45, colsample_bytree=1.0 will be ignored. Current value: feature_fraction=0.45\n",
      "[LightGBM] [Warning] min_data_in_leaf is set=80, min_child_samples=20 will be ignored. Current value: min_data_in_leaf=80\n",
      "[LightGBM] [Warning] bagging_freq is set=1, subsample_freq=0 will be ignored. Current value: bagging_freq=1\n"
     ]
    },
    {
     "name": "stderr",
     "output_type": "stream",
     "text": [
      "\u001b[32m[I 2022-05-08 15:20:17,339]\u001b[0m Trial 1 finished with value: 0.2213143383812373 and parameters: {'n_estimators': 10000, 'learning_rate': 0.03, 'num_leaves': 120, 'max_depth': 11, 'min_data_in_leaf': 80, 'lambda_l1': 100, 'lambda_l2': 80, 'min_gain_to_split': 3.0, 'bagging_fraction': 0.8500000000000001, 'bagging_freq': 1, 'feature_fraction': 0.45}. Best is trial 0 with value: 0.1883037486646485.\u001b[0m\n"
     ]
    },
    {
     "name": "stdout",
     "output_type": "stream",
     "text": [
      "mean_loss 0.22131\n",
      "[LightGBM] [Warning] lambda_l1 is set=80, reg_alpha=0.0 will be ignored. Current value: lambda_l1=80\n",
      "[LightGBM] [Warning] bagging_fraction is set=0.55, subsample=1.0 will be ignored. Current value: bagging_fraction=0.55\n",
      "[LightGBM] [Warning] min_gain_to_split is set=1.0, min_split_gain=0.0 will be ignored. Current value: min_gain_to_split=1.0\n",
      "[LightGBM] [Warning] lambda_l2 is set=60, reg_lambda=0.0 will be ignored. Current value: lambda_l2=60\n",
      "[LightGBM] [Warning] feature_fraction is set=0.95, colsample_bytree=1.0 will be ignored. Current value: feature_fraction=0.95\n",
      "[LightGBM] [Warning] min_data_in_leaf is set=60, min_child_samples=20 will be ignored. Current value: min_data_in_leaf=60\n",
      "[LightGBM] [Warning] bagging_freq is set=1, subsample_freq=0 will be ignored. Current value: bagging_freq=1\n"
     ]
    },
    {
     "name": "stderr",
     "output_type": "stream",
     "text": [
      "\u001b[32m[I 2022-05-08 15:20:21,287]\u001b[0m Trial 2 finished with value: 0.21499905230607186 and parameters: {'n_estimators': 10000, 'learning_rate': 0.03, 'num_leaves': 210, 'max_depth': 3, 'min_data_in_leaf': 60, 'lambda_l1': 80, 'lambda_l2': 60, 'min_gain_to_split': 1.0, 'bagging_fraction': 0.55, 'bagging_freq': 1, 'feature_fraction': 0.95}. Best is trial 0 with value: 0.1883037486646485.\u001b[0m\n"
     ]
    },
    {
     "name": "stdout",
     "output_type": "stream",
     "text": [
      "mean_loss 0.21500\n",
      "[LightGBM] [Warning] lambda_l1 is set=20, reg_alpha=0.0 will be ignored. Current value: lambda_l1=20\n",
      "[LightGBM] [Warning] bagging_fraction is set=0.8500000000000001, subsample=1.0 will be ignored. Current value: bagging_fraction=0.8500000000000001\n",
      "[LightGBM] [Warning] min_gain_to_split is set=1.0, min_split_gain=0.0 will be ignored. Current value: min_gain_to_split=1.0\n",
      "[LightGBM] [Warning] lambda_l2 is set=20, reg_lambda=0.0 will be ignored. Current value: lambda_l2=20\n",
      "[LightGBM] [Warning] feature_fraction is set=0.95, colsample_bytree=1.0 will be ignored. Current value: feature_fraction=0.95\n",
      "[LightGBM] [Warning] min_data_in_leaf is set=100, min_child_samples=20 will be ignored. Current value: min_data_in_leaf=100\n",
      "[LightGBM] [Warning] bagging_freq is set=1, subsample_freq=0 will be ignored. Current value: bagging_freq=1\n"
     ]
    },
    {
     "name": "stderr",
     "output_type": "stream",
     "text": [
      "\u001b[32m[I 2022-05-08 15:20:24,045]\u001b[0m Trial 3 finished with value: 0.19566787944863176 and parameters: {'n_estimators': 10000, 'learning_rate': 0.05, 'num_leaves': 30, 'max_depth': 3, 'min_data_in_leaf': 100, 'lambda_l1': 20, 'lambda_l2': 20, 'min_gain_to_split': 1.0, 'bagging_fraction': 0.8500000000000001, 'bagging_freq': 1, 'feature_fraction': 0.95}. Best is trial 0 with value: 0.1883037486646485.\u001b[0m\n"
     ]
    },
    {
     "name": "stdout",
     "output_type": "stream",
     "text": [
      "mean_loss 0.19567\n",
      "[LightGBM] [Warning] lambda_l1 is set=40, reg_alpha=0.0 will be ignored. Current value: lambda_l1=40\n",
      "[LightGBM] [Warning] bagging_fraction is set=0.8500000000000001, subsample=1.0 will be ignored. Current value: bagging_fraction=0.8500000000000001\n",
      "[LightGBM] [Warning] min_gain_to_split is set=1.0, min_split_gain=0.0 will be ignored. Current value: min_gain_to_split=1.0\n",
      "[LightGBM] [Warning] lambda_l2 is set=100, reg_lambda=0.0 will be ignored. Current value: lambda_l2=100\n",
      "[LightGBM] [Warning] feature_fraction is set=0.65, colsample_bytree=1.0 will be ignored. Current value: feature_fraction=0.65\n",
      "[LightGBM] [Warning] min_data_in_leaf is set=80, min_child_samples=20 will be ignored. Current value: min_data_in_leaf=80\n",
      "[LightGBM] [Warning] bagging_freq is set=1, subsample_freq=0 will be ignored. Current value: bagging_freq=1\n"
     ]
    },
    {
     "name": "stderr",
     "output_type": "stream",
     "text": [
      "\u001b[32m[I 2022-05-08 15:20:30,763]\u001b[0m Trial 4 finished with value: 0.20328216047813955 and parameters: {'n_estimators': 10000, 'learning_rate': 0.03, 'num_leaves': 210, 'max_depth': 9, 'min_data_in_leaf': 80, 'lambda_l1': 40, 'lambda_l2': 100, 'min_gain_to_split': 1.0, 'bagging_fraction': 0.8500000000000001, 'bagging_freq': 1, 'feature_fraction': 0.65}. Best is trial 0 with value: 0.1883037486646485.\u001b[0m\n",
      "\u001b[32m[I 2022-05-08 15:20:30,846]\u001b[0m Trial 5 pruned. Trial was pruned at iteration 0.\u001b[0m\n"
     ]
    },
    {
     "name": "stdout",
     "output_type": "stream",
     "text": [
      "mean_loss 0.20328\n",
      "[LightGBM] [Warning] lambda_l1 is set=100, reg_alpha=0.0 will be ignored. Current value: lambda_l1=100\n",
      "[LightGBM] [Warning] bagging_fraction is set=0.8500000000000001, subsample=1.0 will be ignored. Current value: bagging_fraction=0.8500000000000001\n",
      "[LightGBM] [Warning] min_gain_to_split is set=4.0, min_split_gain=0.0 will be ignored. Current value: min_gain_to_split=4.0\n",
      "[LightGBM] [Warning] lambda_l2 is set=80, reg_lambda=0.0 will be ignored. Current value: lambda_l2=80\n",
      "[LightGBM] [Warning] feature_fraction is set=0.55, colsample_bytree=1.0 will be ignored. Current value: feature_fraction=0.55\n",
      "[LightGBM] [Warning] min_data_in_leaf is set=80, min_child_samples=20 will be ignored. Current value: min_data_in_leaf=80\n",
      "[LightGBM] [Warning] bagging_freq is set=1, subsample_freq=0 will be ignored. Current value: bagging_freq=1\n"
     ]
    },
    {
     "name": "stderr",
     "output_type": "stream",
     "text": [
      "\u001b[32m[I 2022-05-08 15:20:30,956]\u001b[0m Trial 6 pruned. Trial was pruned at iteration 2.\u001b[0m\n",
      "\u001b[32m[I 2022-05-08 15:20:31,043]\u001b[0m Trial 7 pruned. Trial was pruned at iteration 0.\u001b[0m\n",
      "\u001b[32m[I 2022-05-08 15:20:31,176]\u001b[0m Trial 8 pruned. Trial was pruned at iteration 1.\u001b[0m\n",
      "\u001b[32m[I 2022-05-08 15:20:31,247]\u001b[0m Trial 9 pruned. Trial was pruned at iteration 0.\u001b[0m\n",
      "\u001b[32m[I 2022-05-08 15:20:31,338]\u001b[0m Trial 10 pruned. Trial was pruned at iteration 0.\u001b[0m\n",
      "\u001b[32m[I 2022-05-08 15:20:33,963]\u001b[0m Trial 11 pruned. Trial was pruned at iteration 761.\u001b[0m\n",
      "\u001b[32m[I 2022-05-08 15:20:46,822]\u001b[0m Trial 12 finished with value: 0.18792852634761473 and parameters: {'n_estimators': 10000, 'learning_rate': 0.05, 'num_leaves': 150, 'max_depth': 8, 'min_data_in_leaf': 120, 'lambda_l1': 20, 'lambda_l2': 0, 'min_gain_to_split': 0.0, 'bagging_fraction': 0.75, 'bagging_freq': 1, 'feature_fraction': 0.25}. Best is trial 12 with value: 0.18792852634761473.\u001b[0m\n"
     ]
    },
    {
     "name": "stdout",
     "output_type": "stream",
     "text": [
      "mean_loss 0.18793\n",
      "[LightGBM] [Warning] lambda_l1 is set=20, reg_alpha=0.0 will be ignored. Current value: lambda_l1=20\n",
      "[LightGBM] [Warning] bagging_fraction is set=0.65, subsample=1.0 will be ignored. Current value: bagging_fraction=0.65\n",
      "[LightGBM] [Warning] min_gain_to_split is set=0.0, min_split_gain=0.0 will be ignored. Current value: min_gain_to_split=0.0\n",
      "[LightGBM] [Warning] lambda_l2 is set=0, reg_lambda=0.0 will be ignored. Current value: lambda_l2=0\n",
      "[LightGBM] [Warning] feature_fraction is set=0.25, colsample_bytree=1.0 will be ignored. Current value: feature_fraction=0.25\n",
      "[LightGBM] [Warning] min_data_in_leaf is set=120, min_child_samples=20 will be ignored. Current value: min_data_in_leaf=120\n",
      "[LightGBM] [Warning] bagging_freq is set=1, subsample_freq=0 will be ignored. Current value: bagging_freq=1\n"
     ]
    },
    {
     "name": "stderr",
     "output_type": "stream",
     "text": [
      "\u001b[32m[I 2022-05-08 15:21:04,727]\u001b[0m Trial 13 finished with value: 0.18791593436918702 and parameters: {'n_estimators': 10000, 'learning_rate': 0.05, 'num_leaves': 150, 'max_depth': 8, 'min_data_in_leaf': 120, 'lambda_l1': 20, 'lambda_l2': 0, 'min_gain_to_split': 0.0, 'bagging_fraction': 0.65, 'bagging_freq': 1, 'feature_fraction': 0.25}. Best is trial 13 with value: 0.18791593436918702.\u001b[0m\n"
     ]
    },
    {
     "name": "stdout",
     "output_type": "stream",
     "text": [
      "mean_loss 0.18792\n",
      "[LightGBM] [Warning] lambda_l1 is set=60, reg_alpha=0.0 will be ignored. Current value: lambda_l1=60\n",
      "[LightGBM] [Warning] bagging_fraction is set=0.65, subsample=1.0 will be ignored. Current value: bagging_fraction=0.65\n",
      "[LightGBM] [Warning] min_gain_to_split is set=0.0, min_split_gain=0.0 will be ignored. Current value: min_gain_to_split=0.0\n",
      "[LightGBM] [Warning] lambda_l2 is set=0, reg_lambda=0.0 will be ignored. Current value: lambda_l2=0\n",
      "[LightGBM] [Warning] feature_fraction is set=0.35, colsample_bytree=1.0 will be ignored. Current value: feature_fraction=0.35\n",
      "[LightGBM] [Warning] min_data_in_leaf is set=120, min_child_samples=20 will be ignored. Current value: min_data_in_leaf=120\n",
      "[LightGBM] [Warning] bagging_freq is set=1, subsample_freq=0 will be ignored. Current value: bagging_freq=1\n"
     ]
    },
    {
     "name": "stderr",
     "output_type": "stream",
     "text": [
      "\u001b[32m[I 2022-05-08 15:21:05,308]\u001b[0m Trial 14 pruned. Trial was pruned at iteration 125.\u001b[0m\n",
      "\u001b[32m[I 2022-05-08 15:21:23,229]\u001b[0m Trial 15 finished with value: 0.1876043830901936 and parameters: {'n_estimators': 10000, 'learning_rate': 0.05, 'num_leaves': 150, 'max_depth': 8, 'min_data_in_leaf': 120, 'lambda_l1': 20, 'lambda_l2': 0, 'min_gain_to_split': 0.0, 'bagging_fraction': 0.65, 'bagging_freq': 1, 'feature_fraction': 0.35}. Best is trial 15 with value: 0.1876043830901936.\u001b[0m\n"
     ]
    },
    {
     "name": "stdout",
     "output_type": "stream",
     "text": [
      "mean_loss 0.18760\n",
      "[LightGBM] [Warning] lambda_l1 is set=0, reg_alpha=0.0 will be ignored. Current value: lambda_l1=0\n",
      "[LightGBM] [Warning] bagging_fraction is set=0.55, subsample=1.0 will be ignored. Current value: bagging_fraction=0.55\n",
      "[LightGBM] [Warning] min_gain_to_split is set=3.0, min_split_gain=0.0 will be ignored. Current value: min_gain_to_split=3.0\n",
      "[LightGBM] [Warning] lambda_l2 is set=20, reg_lambda=0.0 will be ignored. Current value: lambda_l2=20\n",
      "[LightGBM] [Warning] feature_fraction is set=0.45, colsample_bytree=1.0 will be ignored. Current value: feature_fraction=0.45\n",
      "[LightGBM] [Warning] min_data_in_leaf is set=100, min_child_samples=20 will be ignored. Current value: min_data_in_leaf=100\n",
      "[LightGBM] [Warning] bagging_freq is set=1, subsample_freq=0 will be ignored. Current value: bagging_freq=1\n"
     ]
    },
    {
     "name": "stderr",
     "output_type": "stream",
     "text": [
      "\u001b[32m[I 2022-05-08 15:21:28,263]\u001b[0m Trial 16 finished with value: 0.18984466381970666 and parameters: {'n_estimators': 10000, 'learning_rate': 0.05, 'num_leaves': 180, 'max_depth': 12, 'min_data_in_leaf': 100, 'lambda_l1': 0, 'lambda_l2': 20, 'min_gain_to_split': 3.0, 'bagging_fraction': 0.55, 'bagging_freq': 1, 'feature_fraction': 0.45}. Best is trial 15 with value: 0.1876043830901936.\u001b[0m\n",
      "\u001b[32m[I 2022-05-08 15:21:28,332]\u001b[0m Trial 17 pruned. Trial was pruned at iteration 0.\u001b[0m\n",
      "\u001b[32m[I 2022-05-08 15:21:28,404]\u001b[0m Trial 18 pruned. Trial was pruned at iteration 0.\u001b[0m\n"
     ]
    },
    {
     "name": "stdout",
     "output_type": "stream",
     "text": [
      "mean_loss 0.18984\n",
      "[LightGBM] [Warning] lambda_l1 is set=40, reg_alpha=0.0 will be ignored. Current value: lambda_l1=40\n",
      "[LightGBM] [Warning] bagging_fraction is set=0.65, subsample=1.0 will be ignored. Current value: bagging_fraction=0.65\n",
      "[LightGBM] [Warning] min_gain_to_split is set=1.0, min_split_gain=0.0 will be ignored. Current value: min_gain_to_split=1.0\n",
      "[LightGBM] [Warning] lambda_l2 is set=0, reg_lambda=0.0 will be ignored. Current value: lambda_l2=0\n",
      "[LightGBM] [Warning] feature_fraction is set=0.35, colsample_bytree=1.0 will be ignored. Current value: feature_fraction=0.35\n",
      "[LightGBM] [Warning] min_data_in_leaf is set=120, min_child_samples=20 will be ignored. Current value: min_data_in_leaf=120\n",
      "[LightGBM] [Warning] bagging_freq is set=1, subsample_freq=0 will be ignored. Current value: bagging_freq=1\n"
     ]
    },
    {
     "name": "stderr",
     "output_type": "stream",
     "text": [
      "\u001b[32m[I 2022-05-08 15:21:28,489]\u001b[0m Trial 19 pruned. Trial was pruned at iteration 0.\u001b[0m\n",
      "\u001b[32m[I 2022-05-08 15:21:28,562]\u001b[0m Trial 20 pruned. Trial was pruned at iteration 0.\u001b[0m\n",
      "\u001b[32m[I 2022-05-08 15:21:42,805]\u001b[0m Trial 21 finished with value: 0.18792852634761473 and parameters: {'n_estimators': 10000, 'learning_rate': 0.05, 'num_leaves': 150, 'max_depth': 8, 'min_data_in_leaf': 120, 'lambda_l1': 20, 'lambda_l2': 0, 'min_gain_to_split': 0.0, 'bagging_fraction': 0.75, 'bagging_freq': 1, 'feature_fraction': 0.25}. Best is trial 15 with value: 0.1876043830901936.\u001b[0m\n",
      "\u001b[32m[I 2022-05-08 15:21:42,904]\u001b[0m Trial 22 pruned. Trial was pruned at iteration 5.\u001b[0m\n",
      "\u001b[32m[I 2022-05-08 15:21:42,972]\u001b[0m Trial 23 pruned. Trial was pruned at iteration 0.\u001b[0m\n"
     ]
    },
    {
     "name": "stdout",
     "output_type": "stream",
     "text": [
      "mean_loss 0.18793\n",
      "[LightGBM] [Warning] lambda_l1 is set=40, reg_alpha=0.0 will be ignored. Current value: lambda_l1=40\n",
      "[LightGBM] [Warning] bagging_fraction is set=0.55, subsample=1.0 will be ignored. Current value: bagging_fraction=0.55\n",
      "[LightGBM] [Warning] min_gain_to_split is set=0.0, min_split_gain=0.0 will be ignored. Current value: min_gain_to_split=0.0\n",
      "[LightGBM] [Warning] lambda_l2 is set=0, reg_lambda=0.0 will be ignored. Current value: lambda_l2=0\n",
      "[LightGBM] [Warning] feature_fraction is set=0.25, colsample_bytree=1.0 will be ignored. Current value: feature_fraction=0.25\n",
      "[LightGBM] [Warning] min_data_in_leaf is set=120, min_child_samples=20 will be ignored. Current value: min_data_in_leaf=120\n",
      "[LightGBM] [Warning] bagging_freq is set=1, subsample_freq=0 will be ignored. Current value: bagging_freq=1\n"
     ]
    },
    {
     "name": "stderr",
     "output_type": "stream",
     "text": [
      "\u001b[32m[I 2022-05-08 15:21:43,068]\u001b[0m Trial 24 pruned. Trial was pruned at iteration 2.\u001b[0m\n",
      "\u001b[32m[I 2022-05-08 15:21:46,974]\u001b[0m Trial 25 finished with value: 0.18428332355694269 and parameters: {'n_estimators': 10000, 'learning_rate': 0.05, 'num_leaves': 90, 'max_depth': 9, 'min_data_in_leaf': 120, 'lambda_l1': 0, 'lambda_l2': 0, 'min_gain_to_split': 1.0, 'bagging_fraction': 0.95, 'bagging_freq': 1, 'feature_fraction': 0.25}. Best is trial 25 with value: 0.18428332355694269.\u001b[0m\n",
      "\u001b[32m[I 2022-05-08 15:21:47,156]\u001b[0m Trial 26 pruned. Trial was pruned at iteration 7.\u001b[0m\n"
     ]
    },
    {
     "name": "stdout",
     "output_type": "stream",
     "text": [
      "mean_loss 0.18428\n",
      "[LightGBM] [Warning] lambda_l1 is set=0, reg_alpha=0.0 will be ignored. Current value: lambda_l1=0\n",
      "[LightGBM] [Warning] bagging_fraction is set=0.95, subsample=1.0 will be ignored. Current value: bagging_fraction=0.95\n",
      "[LightGBM] [Warning] min_gain_to_split is set=1.0, min_split_gain=0.0 will be ignored. Current value: min_gain_to_split=1.0\n",
      "[LightGBM] [Warning] lambda_l2 is set=20, reg_lambda=0.0 will be ignored. Current value: lambda_l2=20\n",
      "[LightGBM] [Warning] feature_fraction is set=0.35, colsample_bytree=1.0 will be ignored. Current value: feature_fraction=0.35\n",
      "[LightGBM] [Warning] min_data_in_leaf is set=100, min_child_samples=20 will be ignored. Current value: min_data_in_leaf=100\n",
      "[LightGBM] [Warning] bagging_freq is set=1, subsample_freq=0 will be ignored. Current value: bagging_freq=1\n"
     ]
    },
    {
     "name": "stderr",
     "output_type": "stream",
     "text": [
      "\u001b[32m[I 2022-05-08 15:21:47,255]\u001b[0m Trial 27 pruned. Trial was pruned at iteration 0.\u001b[0m\n",
      "\u001b[32m[I 2022-05-08 15:21:49,898]\u001b[0m Trial 28 finished with value: 0.18382858214871625 and parameters: {'n_estimators': 10000, 'learning_rate': 0.05, 'num_leaves': 90, 'max_depth': 11, 'min_data_in_leaf': 120, 'lambda_l1': 0, 'lambda_l2': 0, 'min_gain_to_split': 1.0, 'bagging_fraction': 0.25, 'bagging_freq': 1, 'feature_fraction': 0.75}. Best is trial 28 with value: 0.18382858214871625.\u001b[0m\n",
      "\u001b[32m[I 2022-05-08 15:21:49,985]\u001b[0m Trial 29 pruned. Trial was pruned at iteration 0.\u001b[0m\n",
      "\u001b[32m[I 2022-05-08 15:21:50,087]\u001b[0m Trial 30 pruned. Trial was pruned at iteration 0.\u001b[0m\n"
     ]
    },
    {
     "name": "stdout",
     "output_type": "stream",
     "text": [
      "mean_loss 0.18383\n",
      "[LightGBM] [Warning] lambda_l1 is set=0, reg_alpha=0.0 will be ignored. Current value: lambda_l1=0\n",
      "[LightGBM] [Warning] bagging_fraction is set=0.25, subsample=1.0 will be ignored. Current value: bagging_fraction=0.25\n",
      "[LightGBM] [Warning] min_gain_to_split is set=2.0, min_split_gain=0.0 will be ignored. Current value: min_gain_to_split=2.0\n",
      "[LightGBM] [Warning] lambda_l2 is set=60, reg_lambda=0.0 will be ignored. Current value: lambda_l2=60\n",
      "[LightGBM] [Warning] feature_fraction is set=0.75, colsample_bytree=1.0 will be ignored. Current value: feature_fraction=0.75\n",
      "[LightGBM] [Warning] min_data_in_leaf is set=20, min_child_samples=20 will be ignored. Current value: min_data_in_leaf=20\n",
      "[LightGBM] [Warning] bagging_freq is set=1, subsample_freq=0 will be ignored. Current value: bagging_freq=1\n"
     ]
    },
    {
     "name": "stderr",
     "output_type": "stream",
     "text": [
      "\u001b[32m[I 2022-05-08 15:22:02,267]\u001b[0m Trial 31 finished with value: 0.18808267898278208 and parameters: {'n_estimators': 10000, 'learning_rate': 0.05, 'num_leaves': 120, 'max_depth': 10, 'min_data_in_leaf': 120, 'lambda_l1': 20, 'lambda_l2': 0, 'min_gain_to_split': 0.0, 'bagging_fraction': 0.35, 'bagging_freq': 1, 'feature_fraction': 0.75}. Best is trial 28 with value: 0.18382858214871625.\u001b[0m\n",
      "\u001b[32m[I 2022-05-08 15:22:02,347]\u001b[0m Trial 32 pruned. Trial was pruned at iteration 1.\u001b[0m\n"
     ]
    },
    {
     "name": "stdout",
     "output_type": "stream",
     "text": [
      "mean_loss 0.18808\n",
      "[LightGBM] [Warning] lambda_l1 is set=20, reg_alpha=0.0 will be ignored. Current value: lambda_l1=20\n",
      "[LightGBM] [Warning] bagging_fraction is set=0.55, subsample=1.0 will be ignored. Current value: bagging_fraction=0.55\n",
      "[LightGBM] [Warning] min_gain_to_split is set=2.0, min_split_gain=0.0 will be ignored. Current value: min_gain_to_split=2.0\n",
      "[LightGBM] [Warning] lambda_l2 is set=0, reg_lambda=0.0 will be ignored. Current value: lambda_l2=0\n",
      "[LightGBM] [Warning] feature_fraction is set=0.25, colsample_bytree=1.0 will be ignored. Current value: feature_fraction=0.25\n",
      "[LightGBM] [Warning] min_data_in_leaf is set=120, min_child_samples=20 will be ignored. Current value: min_data_in_leaf=120\n",
      "[LightGBM] [Warning] bagging_freq is set=1, subsample_freq=0 will be ignored. Current value: bagging_freq=1\n"
     ]
    },
    {
     "name": "stderr",
     "output_type": "stream",
     "text": [
      "\u001b[32m[I 2022-05-08 15:22:05,805]\u001b[0m Trial 33 finished with value: 0.1844918309078826 and parameters: {'n_estimators': 10000, 'learning_rate': 0.05, 'num_leaves': 120, 'max_depth': 9, 'min_data_in_leaf': 100, 'lambda_l1': 0, 'lambda_l2': 0, 'min_gain_to_split': 0.0, 'bagging_fraction': 0.45, 'bagging_freq': 1, 'feature_fraction': 0.65}. Best is trial 28 with value: 0.18382858214871625.\u001b[0m\n",
      "\u001b[32m[I 2022-05-08 15:22:05,875]\u001b[0m Trial 34 pruned. Trial was pruned at iteration 0.\u001b[0m\n"
     ]
    },
    {
     "name": "stdout",
     "output_type": "stream",
     "text": [
      "mean_loss 0.18449\n",
      "[LightGBM] [Warning] lambda_l1 is set=0, reg_alpha=0.0 will be ignored. Current value: lambda_l1=0\n",
      "[LightGBM] [Warning] bagging_fraction is set=0.25, subsample=1.0 will be ignored. Current value: bagging_fraction=0.25\n",
      "[LightGBM] [Warning] min_gain_to_split is set=1.0, min_split_gain=0.0 will be ignored. Current value: min_gain_to_split=1.0\n",
      "[LightGBM] [Warning] lambda_l2 is set=20, reg_lambda=0.0 will be ignored. Current value: lambda_l2=20\n",
      "[LightGBM] [Warning] feature_fraction is set=0.65, colsample_bytree=1.0 will be ignored. Current value: feature_fraction=0.65\n",
      "[LightGBM] [Warning] min_data_in_leaf is set=100, min_child_samples=20 will be ignored. Current value: min_data_in_leaf=100\n",
      "[LightGBM] [Warning] bagging_freq is set=1, subsample_freq=0 will be ignored. Current value: bagging_freq=1\n"
     ]
    },
    {
     "name": "stderr",
     "output_type": "stream",
     "text": [
      "\u001b[32m[I 2022-05-08 15:22:08,979]\u001b[0m Trial 35 finished with value: 0.1849742662116266 and parameters: {'n_estimators': 10000, 'learning_rate': 0.05, 'num_leaves': 90, 'max_depth': 9, 'min_data_in_leaf': 80, 'lambda_l1': 0, 'lambda_l2': 0, 'min_gain_to_split': 1.0, 'bagging_fraction': 0.35, 'bagging_freq': 1, 'feature_fraction': 0.8500000000000001}. Best is trial 28 with value: 0.18382858214871625.\u001b[0m\n",
      "\u001b[32m[I 2022-05-08 15:22:09,046]\u001b[0m Trial 36 pruned. Trial was pruned at iteration 0.\u001b[0m\n",
      "\u001b[32m[I 2022-05-08 15:22:09,113]\u001b[0m Trial 37 pruned. Trial was pruned at iteration 0.\u001b[0m\n"
     ]
    },
    {
     "name": "stdout",
     "output_type": "stream",
     "text": [
      "mean_loss 0.18497\n",
      "[LightGBM] [Warning] lambda_l1 is set=80, reg_alpha=0.0 will be ignored. Current value: lambda_l1=80\n",
      "[LightGBM] [Warning] bagging_fraction is set=0.35, subsample=1.0 will be ignored. Current value: bagging_fraction=0.35\n",
      "[LightGBM] [Warning] min_gain_to_split is set=1.0, min_split_gain=0.0 will be ignored. Current value: min_gain_to_split=1.0\n",
      "[LightGBM] [Warning] lambda_l2 is set=100, reg_lambda=0.0 will be ignored. Current value: lambda_l2=100\n",
      "[LightGBM] [Warning] feature_fraction is set=0.8500000000000001, colsample_bytree=1.0 will be ignored. Current value: feature_fraction=0.8500000000000001\n",
      "[LightGBM] [Warning] min_data_in_leaf is set=80, min_child_samples=20 will be ignored. Current value: min_data_in_leaf=80\n",
      "[LightGBM] [Warning] bagging_freq is set=1, subsample_freq=0 will be ignored. Current value: bagging_freq=1\n"
     ]
    },
    {
     "name": "stderr",
     "output_type": "stream",
     "text": [
      "\u001b[32m[I 2022-05-08 15:22:09,196]\u001b[0m Trial 38 pruned. Trial was pruned at iteration 0.\u001b[0m\n",
      "\u001b[32m[I 2022-05-08 15:22:09,267]\u001b[0m Trial 39 pruned. Trial was pruned at iteration 0.\u001b[0m\n",
      "\u001b[32m[I 2022-05-08 15:22:09,340]\u001b[0m Trial 40 pruned. Trial was pruned at iteration 0.\u001b[0m\n",
      "\u001b[32m[I 2022-05-08 15:22:09,416]\u001b[0m Trial 41 pruned. Trial was pruned at iteration 0.\u001b[0m\n",
      "\u001b[32m[I 2022-05-08 15:22:12,973]\u001b[0m Trial 42 finished with value: 0.18409203609243185 and parameters: {'n_estimators': 10000, 'learning_rate': 0.05, 'num_leaves': 120, 'max_depth': 10, 'min_data_in_leaf': 100, 'lambda_l1': 0, 'lambda_l2': 0, 'min_gain_to_split': 1.0, 'bagging_fraction': 0.35, 'bagging_freq': 1, 'feature_fraction': 0.75}. Best is trial 28 with value: 0.18382858214871625.\u001b[0m\n",
      "\u001b[32m[I 2022-05-08 15:22:13,067]\u001b[0m Trial 43 pruned. Trial was pruned at iteration 0.\u001b[0m\n"
     ]
    },
    {
     "name": "stdout",
     "output_type": "stream",
     "text": [
      "mean_loss 0.18409\n",
      "[LightGBM] [Warning] lambda_l1 is set=0, reg_alpha=0.0 will be ignored. Current value: lambda_l1=0\n",
      "[LightGBM] [Warning] bagging_fraction is set=0.35, subsample=1.0 will be ignored. Current value: bagging_fraction=0.35\n",
      "[LightGBM] [Warning] min_gain_to_split is set=1.0, min_split_gain=0.0 will be ignored. Current value: min_gain_to_split=1.0\n",
      "[LightGBM] [Warning] lambda_l2 is set=20, reg_lambda=0.0 will be ignored. Current value: lambda_l2=20\n",
      "[LightGBM] [Warning] feature_fraction is set=0.75, colsample_bytree=1.0 will be ignored. Current value: feature_fraction=0.75\n",
      "[LightGBM] [Warning] min_data_in_leaf is set=80, min_child_samples=20 will be ignored. Current value: min_data_in_leaf=80\n",
      "[LightGBM] [Warning] bagging_freq is set=1, subsample_freq=0 will be ignored. Current value: bagging_freq=1\n"
     ]
    },
    {
     "name": "stderr",
     "output_type": "stream",
     "text": [
      "\u001b[32m[I 2022-05-08 15:22:16,048]\u001b[0m Trial 44 finished with value: 0.18426372866441573 and parameters: {'n_estimators': 10000, 'learning_rate': 0.05, 'num_leaves': 120, 'max_depth': 11, 'min_data_in_leaf': 100, 'lambda_l1': 0, 'lambda_l2': 0, 'min_gain_to_split': 2.0, 'bagging_fraction': 0.35, 'bagging_freq': 1, 'feature_fraction': 0.8500000000000001}. Best is trial 28 with value: 0.18382858214871625.\u001b[0m\n",
      "\u001b[32m[I 2022-05-08 15:22:16,119]\u001b[0m Trial 45 pruned. Trial was pruned at iteration 0.\u001b[0m\n",
      "\u001b[32m[I 2022-05-08 15:22:16,185]\u001b[0m Trial 46 pruned. Trial was pruned at iteration 0.\u001b[0m\n"
     ]
    },
    {
     "name": "stdout",
     "output_type": "stream",
     "text": [
      "mean_loss 0.18426\n",
      "[LightGBM] [Warning] lambda_l1 is set=0, reg_alpha=0.0 will be ignored. Current value: lambda_l1=0\n",
      "[LightGBM] [Warning] bagging_fraction is set=0.45, subsample=1.0 will be ignored. Current value: bagging_fraction=0.45\n",
      "[LightGBM] [Warning] min_gain_to_split is set=2.0, min_split_gain=0.0 will be ignored. Current value: min_gain_to_split=2.0\n",
      "[LightGBM] [Warning] lambda_l2 is set=0, reg_lambda=0.0 will be ignored. Current value: lambda_l2=0\n",
      "[LightGBM] [Warning] feature_fraction is set=0.65, colsample_bytree=1.0 will be ignored. Current value: feature_fraction=0.65\n",
      "[LightGBM] [Warning] min_data_in_leaf is set=100, min_child_samples=20 will be ignored. Current value: min_data_in_leaf=100\n",
      "[LightGBM] [Warning] bagging_freq is set=1, subsample_freq=0 will be ignored. Current value: bagging_freq=1\n"
     ]
    },
    {
     "name": "stderr",
     "output_type": "stream",
     "text": [
      "\u001b[32m[I 2022-05-08 15:22:16,259]\u001b[0m Trial 47 pruned. Trial was pruned at iteration 0.\u001b[0m\n",
      "\u001b[32m[I 2022-05-08 15:22:20,032]\u001b[0m Trial 48 finished with value: 0.1882706420298331 and parameters: {'n_estimators': 10000, 'learning_rate': 0.05, 'num_leaves': 90, 'max_depth': 11, 'min_data_in_leaf': 120, 'lambda_l1': 0, 'lambda_l2': 0, 'min_gain_to_split': 4.0, 'bagging_fraction': 0.45, 'bagging_freq': 1, 'feature_fraction': 0.65}. Best is trial 28 with value: 0.18382858214871625.\u001b[0m\n",
      "\u001b[32m[I 2022-05-08 15:22:20,119]\u001b[0m Trial 49 pruned. Trial was pruned at iteration 0.\u001b[0m\n",
      "\u001b[32m[I 2022-05-08 15:22:20,183]\u001b[0m Trial 50 pruned. Trial was pruned at iteration 0.\u001b[0m\n"
     ]
    },
    {
     "name": "stdout",
     "output_type": "stream",
     "text": [
      "mean_loss 0.18827\n",
      "[LightGBM] [Warning] lambda_l1 is set=20, reg_alpha=0.0 will be ignored. Current value: lambda_l1=20\n",
      "[LightGBM] [Warning] bagging_fraction is set=0.8500000000000001, subsample=1.0 will be ignored. Current value: bagging_fraction=0.8500000000000001\n",
      "[LightGBM] [Warning] min_gain_to_split is set=2.0, min_split_gain=0.0 will be ignored. Current value: min_gain_to_split=2.0\n",
      "[LightGBM] [Warning] lambda_l2 is set=20, reg_lambda=0.0 will be ignored. Current value: lambda_l2=20\n",
      "[LightGBM] [Warning] feature_fraction is set=0.8500000000000001, colsample_bytree=1.0 will be ignored. Current value: feature_fraction=0.8500000000000001\n",
      "[LightGBM] [Warning] min_data_in_leaf is set=100, min_child_samples=20 will be ignored. Current value: min_data_in_leaf=100\n",
      "[LightGBM] [Warning] bagging_freq is set=1, subsample_freq=0 will be ignored. Current value: bagging_freq=1\n"
     ]
    },
    {
     "name": "stderr",
     "output_type": "stream",
     "text": [
      "\u001b[32m[I 2022-05-08 15:22:26,009]\u001b[0m Trial 51 finished with value: 0.18369743566816352 and parameters: {'n_estimators': 10000, 'learning_rate': 0.05, 'num_leaves': 90, 'max_depth': 11, 'min_data_in_leaf': 80, 'lambda_l1': 0, 'lambda_l2': 0, 'min_gain_to_split': 1.0, 'bagging_fraction': 0.35, 'bagging_freq': 1, 'feature_fraction': 0.8500000000000001}. Best is trial 51 with value: 0.18369743566816352.\u001b[0m\n"
     ]
    },
    {
     "name": "stdout",
     "output_type": "stream",
     "text": [
      "mean_loss 0.18370\n",
      "[LightGBM] [Warning] lambda_l1 is set=0, reg_alpha=0.0 will be ignored. Current value: lambda_l1=0\n",
      "[LightGBM] [Warning] bagging_fraction is set=0.35, subsample=1.0 will be ignored. Current value: bagging_fraction=0.35\n",
      "[LightGBM] [Warning] min_gain_to_split is set=1.0, min_split_gain=0.0 will be ignored. Current value: min_gain_to_split=1.0\n",
      "[LightGBM] [Warning] lambda_l2 is set=0, reg_lambda=0.0 will be ignored. Current value: lambda_l2=0\n",
      "[LightGBM] [Warning] feature_fraction is set=0.8500000000000001, colsample_bytree=1.0 will be ignored. Current value: feature_fraction=0.8500000000000001\n",
      "[LightGBM] [Warning] min_data_in_leaf is set=80, min_child_samples=20 will be ignored. Current value: min_data_in_leaf=80\n",
      "[LightGBM] [Warning] bagging_freq is set=1, subsample_freq=0 will be ignored. Current value: bagging_freq=1\n"
     ]
    },
    {
     "name": "stderr",
     "output_type": "stream",
     "text": [
      "\u001b[32m[I 2022-05-08 15:22:29,804]\u001b[0m Trial 52 finished with value: 0.18369743566816352 and parameters: {'n_estimators': 10000, 'learning_rate': 0.05, 'num_leaves': 90, 'max_depth': 11, 'min_data_in_leaf': 80, 'lambda_l1': 0, 'lambda_l2': 0, 'min_gain_to_split': 1.0, 'bagging_fraction': 0.35, 'bagging_freq': 1, 'feature_fraction': 0.8500000000000001}. Best is trial 51 with value: 0.18369743566816352.\u001b[0m\n"
     ]
    },
    {
     "name": "stdout",
     "output_type": "stream",
     "text": [
      "mean_loss 0.18370\n",
      "[LightGBM] [Warning] lambda_l1 is set=0, reg_alpha=0.0 will be ignored. Current value: lambda_l1=0\n",
      "[LightGBM] [Warning] bagging_fraction is set=0.35, subsample=1.0 will be ignored. Current value: bagging_fraction=0.35\n",
      "[LightGBM] [Warning] min_gain_to_split is set=1.0, min_split_gain=0.0 will be ignored. Current value: min_gain_to_split=1.0\n",
      "[LightGBM] [Warning] lambda_l2 is set=0, reg_lambda=0.0 will be ignored. Current value: lambda_l2=0\n",
      "[LightGBM] [Warning] feature_fraction is set=0.95, colsample_bytree=1.0 will be ignored. Current value: feature_fraction=0.95\n",
      "[LightGBM] [Warning] min_data_in_leaf is set=80, min_child_samples=20 will be ignored. Current value: min_data_in_leaf=80\n",
      "[LightGBM] [Warning] bagging_freq is set=1, subsample_freq=0 will be ignored. Current value: bagging_freq=1\n"
     ]
    },
    {
     "name": "stderr",
     "output_type": "stream",
     "text": [
      "\u001b[32m[I 2022-05-08 15:22:33,252]\u001b[0m Trial 53 finished with value: 0.18354605170829275 and parameters: {'n_estimators': 10000, 'learning_rate': 0.05, 'num_leaves': 90, 'max_depth': 11, 'min_data_in_leaf': 80, 'lambda_l1': 0, 'lambda_l2': 0, 'min_gain_to_split': 1.0, 'bagging_fraction': 0.35, 'bagging_freq': 1, 'feature_fraction': 0.95}. Best is trial 53 with value: 0.18354605170829275.\u001b[0m\n"
     ]
    },
    {
     "name": "stdout",
     "output_type": "stream",
     "text": [
      "mean_loss 0.18355\n",
      "[LightGBM] [Warning] lambda_l1 is set=0, reg_alpha=0.0 will be ignored. Current value: lambda_l1=0\n",
      "[LightGBM] [Warning] bagging_fraction is set=0.35, subsample=1.0 will be ignored. Current value: bagging_fraction=0.35\n",
      "[LightGBM] [Warning] min_gain_to_split is set=1.0, min_split_gain=0.0 will be ignored. Current value: min_gain_to_split=1.0\n",
      "[LightGBM] [Warning] lambda_l2 is set=0, reg_lambda=0.0 will be ignored. Current value: lambda_l2=0\n",
      "[LightGBM] [Warning] feature_fraction is set=0.95, colsample_bytree=1.0 will be ignored. Current value: feature_fraction=0.95\n",
      "[LightGBM] [Warning] min_data_in_leaf is set=80, min_child_samples=20 will be ignored. Current value: min_data_in_leaf=80\n",
      "[LightGBM] [Warning] bagging_freq is set=1, subsample_freq=0 will be ignored. Current value: bagging_freq=1\n"
     ]
    },
    {
     "name": "stderr",
     "output_type": "stream",
     "text": [
      "\u001b[32m[I 2022-05-08 15:22:35,792]\u001b[0m Trial 54 finished with value: 0.18354605170829275 and parameters: {'n_estimators': 10000, 'learning_rate': 0.05, 'num_leaves': 90, 'max_depth': 11, 'min_data_in_leaf': 80, 'lambda_l1': 0, 'lambda_l2': 0, 'min_gain_to_split': 1.0, 'bagging_fraction': 0.35, 'bagging_freq': 1, 'feature_fraction': 0.95}. Best is trial 53 with value: 0.18354605170829275.\u001b[0m\n"
     ]
    },
    {
     "name": "stdout",
     "output_type": "stream",
     "text": [
      "mean_loss 0.18355\n",
      "[LightGBM] [Warning] lambda_l1 is set=0, reg_alpha=0.0 will be ignored. Current value: lambda_l1=0\n",
      "[LightGBM] [Warning] bagging_fraction is set=0.35, subsample=1.0 will be ignored. Current value: bagging_fraction=0.35\n",
      "[LightGBM] [Warning] min_gain_to_split is set=1.0, min_split_gain=0.0 will be ignored. Current value: min_gain_to_split=1.0\n",
      "[LightGBM] [Warning] lambda_l2 is set=0, reg_lambda=0.0 will be ignored. Current value: lambda_l2=0\n",
      "[LightGBM] [Warning] feature_fraction is set=0.95, colsample_bytree=1.0 will be ignored. Current value: feature_fraction=0.95\n",
      "[LightGBM] [Warning] min_data_in_leaf is set=80, min_child_samples=20 will be ignored. Current value: min_data_in_leaf=80\n",
      "[LightGBM] [Warning] bagging_freq is set=1, subsample_freq=0 will be ignored. Current value: bagging_freq=1\n"
     ]
    },
    {
     "name": "stderr",
     "output_type": "stream",
     "text": [
      "\u001b[32m[I 2022-05-08 15:22:39,135]\u001b[0m Trial 55 finished with value: 0.1836457744097807 and parameters: {'n_estimators': 10000, 'learning_rate': 0.05, 'num_leaves': 60, 'max_depth': 12, 'min_data_in_leaf': 80, 'lambda_l1': 0, 'lambda_l2': 0, 'min_gain_to_split': 1.0, 'bagging_fraction': 0.35, 'bagging_freq': 1, 'feature_fraction': 0.95}. Best is trial 53 with value: 0.18354605170829275.\u001b[0m\n",
      "\u001b[32m[I 2022-05-08 15:22:39,220]\u001b[0m Trial 56 pruned. Trial was pruned at iteration 0.\u001b[0m\n",
      "\u001b[32m[I 2022-05-08 15:22:39,296]\u001b[0m Trial 57 pruned. Trial was pruned at iteration 0.\u001b[0m\n"
     ]
    },
    {
     "name": "stdout",
     "output_type": "stream",
     "text": [
      "mean_loss 0.18365\n",
      "[LightGBM] [Warning] lambda_l1 is set=20, reg_alpha=0.0 will be ignored. Current value: lambda_l1=20\n",
      "[LightGBM] [Warning] bagging_fraction is set=0.25, subsample=1.0 will be ignored. Current value: bagging_fraction=0.25\n",
      "[LightGBM] [Warning] min_gain_to_split is set=1.0, min_split_gain=0.0 will be ignored. Current value: min_gain_to_split=1.0\n",
      "[LightGBM] [Warning] lambda_l2 is set=0, reg_lambda=0.0 will be ignored. Current value: lambda_l2=0\n",
      "[LightGBM] [Warning] feature_fraction is set=0.95, colsample_bytree=1.0 will be ignored. Current value: feature_fraction=0.95\n",
      "[LightGBM] [Warning] min_data_in_leaf is set=60, min_child_samples=20 will be ignored. Current value: min_data_in_leaf=60\n",
      "[LightGBM] [Warning] bagging_freq is set=1, subsample_freq=0 will be ignored. Current value: bagging_freq=1\n"
     ]
    },
    {
     "name": "stderr",
     "output_type": "stream",
     "text": [
      "\u001b[32m[I 2022-05-08 15:22:39,382]\u001b[0m Trial 58 pruned. Trial was pruned at iteration 0.\u001b[0m\n",
      "\u001b[32m[I 2022-05-08 15:22:39,465]\u001b[0m Trial 59 pruned. Trial was pruned at iteration 0.\u001b[0m\n",
      "\u001b[32m[I 2022-05-08 15:22:39,540]\u001b[0m Trial 60 pruned. Trial was pruned at iteration 0.\u001b[0m\n",
      "\u001b[32m[I 2022-05-08 15:22:42,406]\u001b[0m Trial 61 finished with value: 0.18354605170829275 and parameters: {'n_estimators': 10000, 'learning_rate': 0.05, 'num_leaves': 90, 'max_depth': 11, 'min_data_in_leaf': 80, 'lambda_l1': 0, 'lambda_l2': 0, 'min_gain_to_split': 1.0, 'bagging_fraction': 0.35, 'bagging_freq': 1, 'feature_fraction': 0.95}. Best is trial 53 with value: 0.18354605170829275.\u001b[0m\n",
      "\u001b[32m[I 2022-05-08 15:22:42,491]\u001b[0m Trial 62 pruned. Trial was pruned at iteration 0.\u001b[0m\n",
      "\u001b[32m[I 2022-05-08 15:22:42,566]\u001b[0m Trial 63 pruned. Trial was pruned at iteration 0.\u001b[0m\n"
     ]
    },
    {
     "name": "stdout",
     "output_type": "stream",
     "text": [
      "mean_loss 0.18355\n",
      "[LightGBM] [Warning] lambda_l1 is set=0, reg_alpha=0.0 will be ignored. Current value: lambda_l1=0\n",
      "[LightGBM] [Warning] bagging_fraction is set=0.35, subsample=1.0 will be ignored. Current value: bagging_fraction=0.35\n",
      "[LightGBM] [Warning] min_gain_to_split is set=1.0, min_split_gain=0.0 will be ignored. Current value: min_gain_to_split=1.0\n",
      "[LightGBM] [Warning] lambda_l2 is set=0, reg_lambda=0.0 will be ignored. Current value: lambda_l2=0\n",
      "[LightGBM] [Warning] feature_fraction is set=0.95, colsample_bytree=1.0 will be ignored. Current value: feature_fraction=0.95\n",
      "[LightGBM] [Warning] min_data_in_leaf is set=80, min_child_samples=20 will be ignored. Current value: min_data_in_leaf=80\n",
      "[LightGBM] [Warning] bagging_freq is set=1, subsample_freq=0 will be ignored. Current value: bagging_freq=1\n"
     ]
    },
    {
     "name": "stderr",
     "output_type": "stream",
     "text": [
      "\u001b[32m[I 2022-05-08 15:22:46,157]\u001b[0m Trial 64 finished with value: 0.18289464443599987 and parameters: {'n_estimators': 10000, 'learning_rate': 0.05, 'num_leaves': 90, 'max_depth': 11, 'min_data_in_leaf': 80, 'lambda_l1': 0, 'lambda_l2': 0, 'min_gain_to_split': 1.0, 'bagging_fraction': 0.45, 'bagging_freq': 1, 'feature_fraction': 0.8500000000000001}. Best is trial 64 with value: 0.18289464443599987.\u001b[0m\n"
     ]
    },
    {
     "name": "stdout",
     "output_type": "stream",
     "text": [
      "mean_loss 0.18289\n",
      "[LightGBM] [Warning] lambda_l1 is set=0, reg_alpha=0.0 will be ignored. Current value: lambda_l1=0\n",
      "[LightGBM] [Warning] bagging_fraction is set=0.45, subsample=1.0 will be ignored. Current value: bagging_fraction=0.45\n",
      "[LightGBM] [Warning] min_gain_to_split is set=1.0, min_split_gain=0.0 will be ignored. Current value: min_gain_to_split=1.0\n",
      "[LightGBM] [Warning] lambda_l2 is set=0, reg_lambda=0.0 will be ignored. Current value: lambda_l2=0\n",
      "[LightGBM] [Warning] feature_fraction is set=0.95, colsample_bytree=1.0 will be ignored. Current value: feature_fraction=0.95\n",
      "[LightGBM] [Warning] min_data_in_leaf is set=80, min_child_samples=20 will be ignored. Current value: min_data_in_leaf=80\n",
      "[LightGBM] [Warning] bagging_freq is set=1, subsample_freq=0 will be ignored. Current value: bagging_freq=1\n"
     ]
    },
    {
     "name": "stderr",
     "output_type": "stream",
     "text": [
      "\u001b[32m[I 2022-05-08 15:22:50,017]\u001b[0m Trial 65 finished with value: 0.18141170011576987 and parameters: {'n_estimators': 10000, 'learning_rate': 0.05, 'num_leaves': 60, 'max_depth': 12, 'min_data_in_leaf': 80, 'lambda_l1': 0, 'lambda_l2': 0, 'min_gain_to_split': 1.0, 'bagging_fraction': 0.45, 'bagging_freq': 1, 'feature_fraction': 0.95}. Best is trial 65 with value: 0.18141170011576987.\u001b[0m\n"
     ]
    },
    {
     "name": "stdout",
     "output_type": "stream",
     "text": [
      "mean_loss 0.18141\n",
      "[LightGBM] [Warning] lambda_l1 is set=0, reg_alpha=0.0 will be ignored. Current value: lambda_l1=0\n",
      "[LightGBM] [Warning] bagging_fraction is set=0.45, subsample=1.0 will be ignored. Current value: bagging_fraction=0.45\n",
      "[LightGBM] [Warning] min_gain_to_split is set=1.0, min_split_gain=0.0 will be ignored. Current value: min_gain_to_split=1.0\n",
      "[LightGBM] [Warning] lambda_l2 is set=0, reg_lambda=0.0 will be ignored. Current value: lambda_l2=0\n",
      "[LightGBM] [Warning] feature_fraction is set=0.95, colsample_bytree=1.0 will be ignored. Current value: feature_fraction=0.95\n",
      "[LightGBM] [Warning] min_data_in_leaf is set=80, min_child_samples=20 will be ignored. Current value: min_data_in_leaf=80\n",
      "[LightGBM] [Warning] bagging_freq is set=1, subsample_freq=0 will be ignored. Current value: bagging_freq=1\n"
     ]
    },
    {
     "name": "stderr",
     "output_type": "stream",
     "text": [
      "\u001b[32m[I 2022-05-08 15:22:53,733]\u001b[0m Trial 66 finished with value: 0.18141170011576987 and parameters: {'n_estimators': 10000, 'learning_rate': 0.05, 'num_leaves': 60, 'max_depth': 12, 'min_data_in_leaf': 80, 'lambda_l1': 0, 'lambda_l2': 0, 'min_gain_to_split': 1.0, 'bagging_fraction': 0.45, 'bagging_freq': 1, 'feature_fraction': 0.95}. Best is trial 65 with value: 0.18141170011576987.\u001b[0m\n",
      "\u001b[32m[I 2022-05-08 15:22:53,835]\u001b[0m Trial 67 pruned. Trial was pruned at iteration 0.\u001b[0m\n",
      "\u001b[32m[I 2022-05-08 15:22:53,913]\u001b[0m Trial 68 pruned. Trial was pruned at iteration 0.\u001b[0m\n"
     ]
    },
    {
     "name": "stdout",
     "output_type": "stream",
     "text": [
      "mean_loss 0.18141\n",
      "[LightGBM] [Warning] lambda_l1 is set=60, reg_alpha=0.0 will be ignored. Current value: lambda_l1=60\n",
      "[LightGBM] [Warning] bagging_fraction is set=0.55, subsample=1.0 will be ignored. Current value: bagging_fraction=0.55\n",
      "[LightGBM] [Warning] min_gain_to_split is set=1.0, min_split_gain=0.0 will be ignored. Current value: min_gain_to_split=1.0\n",
      "[LightGBM] [Warning] lambda_l2 is set=20, reg_lambda=0.0 will be ignored. Current value: lambda_l2=20\n",
      "[LightGBM] [Warning] feature_fraction is set=0.95, colsample_bytree=1.0 will be ignored. Current value: feature_fraction=0.95\n",
      "[LightGBM] [Warning] min_data_in_leaf is set=80, min_child_samples=20 will be ignored. Current value: min_data_in_leaf=80\n",
      "[LightGBM] [Warning] bagging_freq is set=1, subsample_freq=0 will be ignored. Current value: bagging_freq=1\n"
     ]
    },
    {
     "name": "stderr",
     "output_type": "stream",
     "text": [
      "\u001b[32m[I 2022-05-08 15:22:58,794]\u001b[0m Trial 69 finished with value: 0.18370853598625123 and parameters: {'n_estimators': 10000, 'learning_rate': 0.05, 'num_leaves': 60, 'max_depth': 12, 'min_data_in_leaf': 80, 'lambda_l1': 0, 'lambda_l2': 0, 'min_gain_to_split': 0.0, 'bagging_fraction': 0.45, 'bagging_freq': 1, 'feature_fraction': 0.95}. Best is trial 65 with value: 0.18141170011576987.\u001b[0m\n",
      "\u001b[32m[I 2022-05-08 15:22:58,872]\u001b[0m Trial 70 pruned. Trial was pruned at iteration 0.\u001b[0m\n"
     ]
    },
    {
     "name": "stdout",
     "output_type": "stream",
     "text": [
      "mean_loss 0.18371\n",
      "[LightGBM] [Warning] lambda_l1 is set=0, reg_alpha=0.0 will be ignored. Current value: lambda_l1=0\n",
      "[LightGBM] [Warning] bagging_fraction is set=0.45, subsample=1.0 will be ignored. Current value: bagging_fraction=0.45\n",
      "[LightGBM] [Warning] min_gain_to_split is set=1.0, min_split_gain=0.0 will be ignored. Current value: min_gain_to_split=1.0\n",
      "[LightGBM] [Warning] lambda_l2 is set=20, reg_lambda=0.0 will be ignored. Current value: lambda_l2=20\n",
      "[LightGBM] [Warning] feature_fraction is set=0.95, colsample_bytree=1.0 will be ignored. Current value: feature_fraction=0.95\n",
      "[LightGBM] [Warning] min_data_in_leaf is set=80, min_child_samples=20 will be ignored. Current value: min_data_in_leaf=80\n",
      "[LightGBM] [Warning] bagging_freq is set=1, subsample_freq=0 will be ignored. Current value: bagging_freq=1\n"
     ]
    },
    {
     "name": "stderr",
     "output_type": "stream",
     "text": [
      "\u001b[32m[I 2022-05-08 15:23:03,117]\u001b[0m Trial 71 finished with value: 0.18220029567308504 and parameters: {'n_estimators': 10000, 'learning_rate': 0.05, 'num_leaves': 60, 'max_depth': 11, 'min_data_in_leaf': 80, 'lambda_l1': 0, 'lambda_l2': 0, 'min_gain_to_split': 1.0, 'bagging_fraction': 0.45, 'bagging_freq': 1, 'feature_fraction': 0.95}. Best is trial 65 with value: 0.18141170011576987.\u001b[0m\n"
     ]
    },
    {
     "name": "stdout",
     "output_type": "stream",
     "text": [
      "mean_loss 0.18220\n",
      "[LightGBM] [Warning] lambda_l1 is set=0, reg_alpha=0.0 will be ignored. Current value: lambda_l1=0\n",
      "[LightGBM] [Warning] bagging_fraction is set=0.45, subsample=1.0 will be ignored. Current value: bagging_fraction=0.45\n",
      "[LightGBM] [Warning] min_gain_to_split is set=1.0, min_split_gain=0.0 will be ignored. Current value: min_gain_to_split=1.0\n",
      "[LightGBM] [Warning] lambda_l2 is set=0, reg_lambda=0.0 will be ignored. Current value: lambda_l2=0\n",
      "[LightGBM] [Warning] feature_fraction is set=0.95, colsample_bytree=1.0 will be ignored. Current value: feature_fraction=0.95\n",
      "[LightGBM] [Warning] min_data_in_leaf is set=80, min_child_samples=20 will be ignored. Current value: min_data_in_leaf=80\n",
      "[LightGBM] [Warning] bagging_freq is set=1, subsample_freq=0 will be ignored. Current value: bagging_freq=1\n"
     ]
    },
    {
     "name": "stderr",
     "output_type": "stream",
     "text": [
      "\u001b[32m[I 2022-05-08 15:23:06,731]\u001b[0m Trial 72 finished with value: 0.18141170011576987 and parameters: {'n_estimators': 10000, 'learning_rate': 0.05, 'num_leaves': 60, 'max_depth': 12, 'min_data_in_leaf': 80, 'lambda_l1': 0, 'lambda_l2': 0, 'min_gain_to_split': 1.0, 'bagging_fraction': 0.45, 'bagging_freq': 1, 'feature_fraction': 0.95}. Best is trial 65 with value: 0.18141170011576987.\u001b[0m\n"
     ]
    },
    {
     "name": "stdout",
     "output_type": "stream",
     "text": [
      "mean_loss 0.18141\n",
      "[LightGBM] [Warning] lambda_l1 is set=0, reg_alpha=0.0 will be ignored. Current value: lambda_l1=0\n",
      "[LightGBM] [Warning] bagging_fraction is set=0.55, subsample=1.0 will be ignored. Current value: bagging_fraction=0.55\n",
      "[LightGBM] [Warning] min_gain_to_split is set=1.0, min_split_gain=0.0 will be ignored. Current value: min_gain_to_split=1.0\n",
      "[LightGBM] [Warning] lambda_l2 is set=0, reg_lambda=0.0 will be ignored. Current value: lambda_l2=0\n",
      "[LightGBM] [Warning] feature_fraction is set=0.95, colsample_bytree=1.0 will be ignored. Current value: feature_fraction=0.95\n",
      "[LightGBM] [Warning] min_data_in_leaf is set=80, min_child_samples=20 will be ignored. Current value: min_data_in_leaf=80\n",
      "[LightGBM] [Warning] bagging_freq is set=1, subsample_freq=0 will be ignored. Current value: bagging_freq=1\n"
     ]
    },
    {
     "name": "stderr",
     "output_type": "stream",
     "text": [
      "\u001b[32m[I 2022-05-08 15:23:09,521]\u001b[0m Trial 73 finished with value: 0.18284749286839416 and parameters: {'n_estimators': 10000, 'learning_rate': 0.05, 'num_leaves': 30, 'max_depth': 11, 'min_data_in_leaf': 80, 'lambda_l1': 0, 'lambda_l2': 0, 'min_gain_to_split': 1.0, 'bagging_fraction': 0.55, 'bagging_freq': 1, 'feature_fraction': 0.95}. Best is trial 65 with value: 0.18141170011576987.\u001b[0m\n"
     ]
    },
    {
     "name": "stdout",
     "output_type": "stream",
     "text": [
      "mean_loss 0.18285\n",
      "[LightGBM] [Warning] lambda_l1 is set=0, reg_alpha=0.0 will be ignored. Current value: lambda_l1=0\n",
      "[LightGBM] [Warning] bagging_fraction is set=0.55, subsample=1.0 will be ignored. Current value: bagging_fraction=0.55\n",
      "[LightGBM] [Warning] min_gain_to_split is set=1.0, min_split_gain=0.0 will be ignored. Current value: min_gain_to_split=1.0\n",
      "[LightGBM] [Warning] lambda_l2 is set=0, reg_lambda=0.0 will be ignored. Current value: lambda_l2=0\n",
      "[LightGBM] [Warning] feature_fraction is set=0.8500000000000001, colsample_bytree=1.0 will be ignored. Current value: feature_fraction=0.8500000000000001\n",
      "[LightGBM] [Warning] min_data_in_leaf is set=80, min_child_samples=20 will be ignored. Current value: min_data_in_leaf=80\n",
      "[LightGBM] [Warning] bagging_freq is set=1, subsample_freq=0 will be ignored. Current value: bagging_freq=1\n"
     ]
    },
    {
     "name": "stderr",
     "output_type": "stream",
     "text": [
      "\u001b[32m[I 2022-05-08 15:23:13,210]\u001b[0m Trial 74 finished with value: 0.18297317379034214 and parameters: {'n_estimators': 10000, 'learning_rate': 0.05, 'num_leaves': 30, 'max_depth': 12, 'min_data_in_leaf': 80, 'lambda_l1': 0, 'lambda_l2': 0, 'min_gain_to_split': 1.0, 'bagging_fraction': 0.55, 'bagging_freq': 1, 'feature_fraction': 0.8500000000000001}. Best is trial 65 with value: 0.18141170011576987.\u001b[0m\n"
     ]
    },
    {
     "name": "stdout",
     "output_type": "stream",
     "text": [
      "mean_loss 0.18297\n",
      "[LightGBM] [Warning] lambda_l1 is set=0, reg_alpha=0.0 will be ignored. Current value: lambda_l1=0\n",
      "[LightGBM] [Warning] bagging_fraction is set=0.55, subsample=1.0 will be ignored. Current value: bagging_fraction=0.55\n",
      "[LightGBM] [Warning] min_gain_to_split is set=1.0, min_split_gain=0.0 will be ignored. Current value: min_gain_to_split=1.0\n",
      "[LightGBM] [Warning] lambda_l2 is set=0, reg_lambda=0.0 will be ignored. Current value: lambda_l2=0\n",
      "[LightGBM] [Warning] feature_fraction is set=0.8500000000000001, colsample_bytree=1.0 will be ignored. Current value: feature_fraction=0.8500000000000001\n",
      "[LightGBM] [Warning] min_data_in_leaf is set=60, min_child_samples=20 will be ignored. Current value: min_data_in_leaf=60\n",
      "[LightGBM] [Warning] bagging_freq is set=1, subsample_freq=0 will be ignored. Current value: bagging_freq=1\n"
     ]
    },
    {
     "name": "stderr",
     "output_type": "stream",
     "text": [
      "\u001b[32m[I 2022-05-08 15:23:15,868]\u001b[0m Trial 75 finished with value: 0.1833805150968092 and parameters: {'n_estimators': 10000, 'learning_rate': 0.05, 'num_leaves': 30, 'max_depth': 12, 'min_data_in_leaf': 60, 'lambda_l1': 0, 'lambda_l2': 0, 'min_gain_to_split': 1.0, 'bagging_fraction': 0.55, 'bagging_freq': 1, 'feature_fraction': 0.8500000000000001}. Best is trial 65 with value: 0.18141170011576987.\u001b[0m\n"
     ]
    },
    {
     "name": "stdout",
     "output_type": "stream",
     "text": [
      "mean_loss 0.18338\n",
      "[LightGBM] [Warning] lambda_l1 is set=0, reg_alpha=0.0 will be ignored. Current value: lambda_l1=0\n",
      "[LightGBM] [Warning] bagging_fraction is set=0.55, subsample=1.0 will be ignored. Current value: bagging_fraction=0.55\n",
      "[LightGBM] [Warning] min_gain_to_split is set=1.0, min_split_gain=0.0 will be ignored. Current value: min_gain_to_split=1.0\n",
      "[LightGBM] [Warning] lambda_l2 is set=0, reg_lambda=0.0 will be ignored. Current value: lambda_l2=0\n",
      "[LightGBM] [Warning] feature_fraction is set=0.8500000000000001, colsample_bytree=1.0 will be ignored. Current value: feature_fraction=0.8500000000000001\n",
      "[LightGBM] [Warning] min_data_in_leaf is set=60, min_child_samples=20 will be ignored. Current value: min_data_in_leaf=60\n",
      "[LightGBM] [Warning] bagging_freq is set=1, subsample_freq=0 will be ignored. Current value: bagging_freq=1\n"
     ]
    },
    {
     "name": "stderr",
     "output_type": "stream",
     "text": [
      "\u001b[32m[I 2022-05-08 15:23:18,554]\u001b[0m Trial 76 finished with value: 0.1833805150968092 and parameters: {'n_estimators': 10000, 'learning_rate': 0.05, 'num_leaves': 30, 'max_depth': 12, 'min_data_in_leaf': 60, 'lambda_l1': 0, 'lambda_l2': 0, 'min_gain_to_split': 1.0, 'bagging_fraction': 0.55, 'bagging_freq': 1, 'feature_fraction': 0.8500000000000001}. Best is trial 65 with value: 0.18141170011576987.\u001b[0m\n",
      "\u001b[32m[I 2022-05-08 15:23:18,636]\u001b[0m Trial 77 pruned. Trial was pruned at iteration 0.\u001b[0m\n",
      "\u001b[32m[I 2022-05-08 15:23:18,705]\u001b[0m Trial 78 pruned. Trial was pruned at iteration 0.\u001b[0m\n"
     ]
    },
    {
     "name": "stdout",
     "output_type": "stream",
     "text": [
      "mean_loss 0.18338\n",
      "[LightGBM] [Warning] lambda_l1 is set=20, reg_alpha=0.0 will be ignored. Current value: lambda_l1=20\n",
      "[LightGBM] [Warning] bagging_fraction is set=0.55, subsample=1.0 will be ignored. Current value: bagging_fraction=0.55\n",
      "[LightGBM] [Warning] min_gain_to_split is set=0.0, min_split_gain=0.0 will be ignored. Current value: min_gain_to_split=0.0\n",
      "[LightGBM] [Warning] lambda_l2 is set=0, reg_lambda=0.0 will be ignored. Current value: lambda_l2=0\n",
      "[LightGBM] [Warning] feature_fraction is set=0.8500000000000001, colsample_bytree=1.0 will be ignored. Current value: feature_fraction=0.8500000000000001\n",
      "[LightGBM] [Warning] min_data_in_leaf is set=60, min_child_samples=20 will be ignored. Current value: min_data_in_leaf=60\n",
      "[LightGBM] [Warning] bagging_freq is set=1, subsample_freq=0 will be ignored. Current value: bagging_freq=1\n"
     ]
    },
    {
     "name": "stderr",
     "output_type": "stream",
     "text": [
      "\u001b[32m[I 2022-05-08 15:23:18,795]\u001b[0m Trial 79 pruned. Trial was pruned at iteration 0.\u001b[0m\n",
      "\u001b[32m[I 2022-05-08 15:23:18,868]\u001b[0m Trial 80 pruned. Trial was pruned at iteration 0.\u001b[0m\n",
      "\u001b[32m[I 2022-05-08 15:23:21,521]\u001b[0m Trial 81 finished with value: 0.18267141374093185 and parameters: {'n_estimators': 10000, 'learning_rate': 0.05, 'num_leaves': 30, 'max_depth': 12, 'min_data_in_leaf': 60, 'lambda_l1': 0, 'lambda_l2': 0, 'min_gain_to_split': 1.0, 'bagging_fraction': 0.65, 'bagging_freq': 1, 'feature_fraction': 0.8500000000000001}. Best is trial 65 with value: 0.18141170011576987.\u001b[0m\n"
     ]
    },
    {
     "name": "stdout",
     "output_type": "stream",
     "text": [
      "mean_loss 0.18267\n",
      "[LightGBM] [Warning] lambda_l1 is set=0, reg_alpha=0.0 will be ignored. Current value: lambda_l1=0\n",
      "[LightGBM] [Warning] bagging_fraction is set=0.65, subsample=1.0 will be ignored. Current value: bagging_fraction=0.65\n",
      "[LightGBM] [Warning] min_gain_to_split is set=1.0, min_split_gain=0.0 will be ignored. Current value: min_gain_to_split=1.0\n",
      "[LightGBM] [Warning] lambda_l2 is set=0, reg_lambda=0.0 will be ignored. Current value: lambda_l2=0\n",
      "[LightGBM] [Warning] feature_fraction is set=0.8500000000000001, colsample_bytree=1.0 will be ignored. Current value: feature_fraction=0.8500000000000001\n",
      "[LightGBM] [Warning] min_data_in_leaf is set=60, min_child_samples=20 will be ignored. Current value: min_data_in_leaf=60\n",
      "[LightGBM] [Warning] bagging_freq is set=1, subsample_freq=0 will be ignored. Current value: bagging_freq=1\n"
     ]
    },
    {
     "name": "stderr",
     "output_type": "stream",
     "text": [
      "\u001b[32m[I 2022-05-08 15:23:23,728]\u001b[0m Trial 82 finished with value: 0.18267141374093185 and parameters: {'n_estimators': 10000, 'learning_rate': 0.05, 'num_leaves': 30, 'max_depth': 12, 'min_data_in_leaf': 60, 'lambda_l1': 0, 'lambda_l2': 0, 'min_gain_to_split': 1.0, 'bagging_fraction': 0.65, 'bagging_freq': 1, 'feature_fraction': 0.8500000000000001}. Best is trial 65 with value: 0.18141170011576987.\u001b[0m\n"
     ]
    },
    {
     "name": "stdout",
     "output_type": "stream",
     "text": [
      "mean_loss 0.18267\n",
      "[LightGBM] [Warning] lambda_l1 is set=0, reg_alpha=0.0 will be ignored. Current value: lambda_l1=0\n",
      "[LightGBM] [Warning] bagging_fraction is set=0.65, subsample=1.0 will be ignored. Current value: bagging_fraction=0.65\n",
      "[LightGBM] [Warning] min_gain_to_split is set=1.0, min_split_gain=0.0 will be ignored. Current value: min_gain_to_split=1.0\n",
      "[LightGBM] [Warning] lambda_l2 is set=0, reg_lambda=0.0 will be ignored. Current value: lambda_l2=0\n",
      "[LightGBM] [Warning] feature_fraction is set=0.95, colsample_bytree=1.0 will be ignored. Current value: feature_fraction=0.95\n",
      "[LightGBM] [Warning] min_data_in_leaf is set=60, min_child_samples=20 will be ignored. Current value: min_data_in_leaf=60\n",
      "[LightGBM] [Warning] bagging_freq is set=1, subsample_freq=0 will be ignored. Current value: bagging_freq=1\n"
     ]
    },
    {
     "name": "stderr",
     "output_type": "stream",
     "text": [
      "\u001b[32m[I 2022-05-08 15:23:28,052]\u001b[0m Trial 83 finished with value: 0.1819061253335701 and parameters: {'n_estimators': 10000, 'learning_rate': 0.05, 'num_leaves': 30, 'max_depth': 12, 'min_data_in_leaf': 60, 'lambda_l1': 0, 'lambda_l2': 0, 'min_gain_to_split': 1.0, 'bagging_fraction': 0.65, 'bagging_freq': 1, 'feature_fraction': 0.95}. Best is trial 65 with value: 0.18141170011576987.\u001b[0m\n"
     ]
    },
    {
     "name": "stdout",
     "output_type": "stream",
     "text": [
      "mean_loss 0.18191\n",
      "[LightGBM] [Warning] lambda_l1 is set=0, reg_alpha=0.0 will be ignored. Current value: lambda_l1=0\n",
      "[LightGBM] [Warning] bagging_fraction is set=0.65, subsample=1.0 will be ignored. Current value: bagging_fraction=0.65\n",
      "[LightGBM] [Warning] min_gain_to_split is set=1.0, min_split_gain=0.0 will be ignored. Current value: min_gain_to_split=1.0\n",
      "[LightGBM] [Warning] lambda_l2 is set=0, reg_lambda=0.0 will be ignored. Current value: lambda_l2=0\n",
      "[LightGBM] [Warning] feature_fraction is set=0.95, colsample_bytree=1.0 will be ignored. Current value: feature_fraction=0.95\n",
      "[LightGBM] [Warning] min_data_in_leaf is set=60, min_child_samples=20 will be ignored. Current value: min_data_in_leaf=60\n",
      "[LightGBM] [Warning] bagging_freq is set=1, subsample_freq=0 will be ignored. Current value: bagging_freq=1\n"
     ]
    },
    {
     "name": "stderr",
     "output_type": "stream",
     "text": [
      "\u001b[32m[I 2022-05-08 15:23:30,416]\u001b[0m Trial 84 finished with value: 0.1819061253335701 and parameters: {'n_estimators': 10000, 'learning_rate': 0.05, 'num_leaves': 30, 'max_depth': 12, 'min_data_in_leaf': 60, 'lambda_l1': 0, 'lambda_l2': 0, 'min_gain_to_split': 1.0, 'bagging_fraction': 0.65, 'bagging_freq': 1, 'feature_fraction': 0.95}. Best is trial 65 with value: 0.18141170011576987.\u001b[0m\n",
      "\u001b[32m[I 2022-05-08 15:23:30,527]\u001b[0m Trial 85 pruned. Trial was pruned at iteration 0.\u001b[0m\n"
     ]
    },
    {
     "name": "stdout",
     "output_type": "stream",
     "text": [
      "mean_loss 0.18191\n",
      "[LightGBM] [Warning] lambda_l1 is set=0, reg_alpha=0.0 will be ignored. Current value: lambda_l1=0\n",
      "[LightGBM] [Warning] bagging_fraction is set=0.65, subsample=1.0 will be ignored. Current value: bagging_fraction=0.65\n",
      "[LightGBM] [Warning] min_gain_to_split is set=1.0, min_split_gain=0.0 will be ignored. Current value: min_gain_to_split=1.0\n",
      "[LightGBM] [Warning] lambda_l2 is set=0, reg_lambda=0.0 will be ignored. Current value: lambda_l2=0\n",
      "[LightGBM] [Warning] feature_fraction is set=0.95, colsample_bytree=1.0 will be ignored. Current value: feature_fraction=0.95\n",
      "[LightGBM] [Warning] min_data_in_leaf is set=60, min_child_samples=20 will be ignored. Current value: min_data_in_leaf=60\n",
      "[LightGBM] [Warning] bagging_freq is set=1, subsample_freq=0 will be ignored. Current value: bagging_freq=1\n"
     ]
    },
    {
     "name": "stderr",
     "output_type": "stream",
     "text": [
      "\u001b[32m[I 2022-05-08 15:23:30,621]\u001b[0m Trial 86 pruned. Trial was pruned at iteration 0.\u001b[0m\n",
      "\u001b[32m[I 2022-05-08 15:23:33,311]\u001b[0m Trial 87 finished with value: 0.1819061253335701 and parameters: {'n_estimators': 10000, 'learning_rate': 0.05, 'num_leaves': 30, 'max_depth': 12, 'min_data_in_leaf': 60, 'lambda_l1': 0, 'lambda_l2': 0, 'min_gain_to_split': 1.0, 'bagging_fraction': 0.65, 'bagging_freq': 1, 'feature_fraction': 0.95}. Best is trial 65 with value: 0.18141170011576987.\u001b[0m\n"
     ]
    },
    {
     "name": "stdout",
     "output_type": "stream",
     "text": [
      "mean_loss 0.18191\n",
      "[LightGBM] [Warning] lambda_l1 is set=0, reg_alpha=0.0 will be ignored. Current value: lambda_l1=0\n",
      "[LightGBM] [Warning] bagging_fraction is set=0.65, subsample=1.0 will be ignored. Current value: bagging_fraction=0.65\n",
      "[LightGBM] [Warning] min_gain_to_split is set=1.0, min_split_gain=0.0 will be ignored. Current value: min_gain_to_split=1.0\n",
      "[LightGBM] [Warning] lambda_l2 is set=0, reg_lambda=0.0 will be ignored. Current value: lambda_l2=0\n",
      "[LightGBM] [Warning] feature_fraction is set=0.95, colsample_bytree=1.0 will be ignored. Current value: feature_fraction=0.95\n",
      "[LightGBM] [Warning] min_data_in_leaf is set=40, min_child_samples=20 will be ignored. Current value: min_data_in_leaf=40\n",
      "[LightGBM] [Warning] bagging_freq is set=1, subsample_freq=0 will be ignored. Current value: bagging_freq=1\n"
     ]
    },
    {
     "name": "stderr",
     "output_type": "stream",
     "text": [
      "\u001b[32m[I 2022-05-08 15:23:36,018]\u001b[0m Trial 88 finished with value: 0.18168593431569888 and parameters: {'n_estimators': 10000, 'learning_rate': 0.05, 'num_leaves': 30, 'max_depth': 12, 'min_data_in_leaf': 40, 'lambda_l1': 0, 'lambda_l2': 0, 'min_gain_to_split': 1.0, 'bagging_fraction': 0.65, 'bagging_freq': 1, 'feature_fraction': 0.95}. Best is trial 65 with value: 0.18141170011576987.\u001b[0m\n",
      "\u001b[32m[I 2022-05-08 15:23:36,141]\u001b[0m Trial 89 pruned. Trial was pruned at iteration 0.\u001b[0m\n"
     ]
    },
    {
     "name": "stdout",
     "output_type": "stream",
     "text": [
      "mean_loss 0.18169\n",
      "[LightGBM] [Warning] lambda_l1 is set=0, reg_alpha=0.0 will be ignored. Current value: lambda_l1=0\n",
      "[LightGBM] [Warning] bagging_fraction is set=0.75, subsample=1.0 will be ignored. Current value: bagging_fraction=0.75\n",
      "[LightGBM] [Warning] min_gain_to_split is set=1.0, min_split_gain=0.0 will be ignored. Current value: min_gain_to_split=1.0\n",
      "[LightGBM] [Warning] lambda_l2 is set=20, reg_lambda=0.0 will be ignored. Current value: lambda_l2=20\n",
      "[LightGBM] [Warning] feature_fraction is set=0.95, colsample_bytree=1.0 will be ignored. Current value: feature_fraction=0.95\n",
      "[LightGBM] [Warning] min_data_in_leaf is set=40, min_child_samples=20 will be ignored. Current value: min_data_in_leaf=40\n",
      "[LightGBM] [Warning] bagging_freq is set=1, subsample_freq=0 will be ignored. Current value: bagging_freq=1\n"
     ]
    },
    {
     "name": "stderr",
     "output_type": "stream",
     "text": [
      "\u001b[32m[I 2022-05-08 15:23:38,483]\u001b[0m Trial 90 finished with value: 0.18167293296153397 and parameters: {'n_estimators': 10000, 'learning_rate': 0.05, 'num_leaves': 30, 'max_depth': 12, 'min_data_in_leaf': 40, 'lambda_l1': 0, 'lambda_l2': 0, 'min_gain_to_split': 0.0, 'bagging_fraction': 0.65, 'bagging_freq': 1, 'feature_fraction': 0.95}. Best is trial 65 with value: 0.18141170011576987.\u001b[0m\n"
     ]
    },
    {
     "name": "stdout",
     "output_type": "stream",
     "text": [
      "mean_loss 0.18167\n",
      "[LightGBM] [Warning] lambda_l1 is set=0, reg_alpha=0.0 will be ignored. Current value: lambda_l1=0\n",
      "[LightGBM] [Warning] bagging_fraction is set=0.65, subsample=1.0 will be ignored. Current value: bagging_fraction=0.65\n",
      "[LightGBM] [Warning] min_gain_to_split is set=0.0, min_split_gain=0.0 will be ignored. Current value: min_gain_to_split=0.0\n",
      "[LightGBM] [Warning] lambda_l2 is set=0, reg_lambda=0.0 will be ignored. Current value: lambda_l2=0\n",
      "[LightGBM] [Warning] feature_fraction is set=0.95, colsample_bytree=1.0 will be ignored. Current value: feature_fraction=0.95\n",
      "[LightGBM] [Warning] min_data_in_leaf is set=40, min_child_samples=20 will be ignored. Current value: min_data_in_leaf=40\n",
      "[LightGBM] [Warning] bagging_freq is set=1, subsample_freq=0 will be ignored. Current value: bagging_freq=1\n"
     ]
    },
    {
     "name": "stderr",
     "output_type": "stream",
     "text": [
      "\u001b[32m[I 2022-05-08 15:23:40,660]\u001b[0m Trial 91 finished with value: 0.18167293296153397 and parameters: {'n_estimators': 10000, 'learning_rate': 0.05, 'num_leaves': 30, 'max_depth': 12, 'min_data_in_leaf': 40, 'lambda_l1': 0, 'lambda_l2': 0, 'min_gain_to_split': 0.0, 'bagging_fraction': 0.65, 'bagging_freq': 1, 'feature_fraction': 0.95}. Best is trial 65 with value: 0.18141170011576987.\u001b[0m\n"
     ]
    },
    {
     "name": "stdout",
     "output_type": "stream",
     "text": [
      "mean_loss 0.18167\n",
      "[LightGBM] [Warning] lambda_l1 is set=0, reg_alpha=0.0 will be ignored. Current value: lambda_l1=0\n",
      "[LightGBM] [Warning] bagging_fraction is set=0.65, subsample=1.0 will be ignored. Current value: bagging_fraction=0.65\n",
      "[LightGBM] [Warning] min_gain_to_split is set=0.0, min_split_gain=0.0 will be ignored. Current value: min_gain_to_split=0.0\n",
      "[LightGBM] [Warning] lambda_l2 is set=0, reg_lambda=0.0 will be ignored. Current value: lambda_l2=0\n",
      "[LightGBM] [Warning] feature_fraction is set=0.95, colsample_bytree=1.0 will be ignored. Current value: feature_fraction=0.95\n",
      "[LightGBM] [Warning] min_data_in_leaf is set=40, min_child_samples=20 will be ignored. Current value: min_data_in_leaf=40\n",
      "[LightGBM] [Warning] bagging_freq is set=1, subsample_freq=0 will be ignored. Current value: bagging_freq=1\n"
     ]
    },
    {
     "name": "stderr",
     "output_type": "stream",
     "text": [
      "\u001b[32m[I 2022-05-08 15:23:43,850]\u001b[0m Trial 92 finished with value: 0.18167293296153397 and parameters: {'n_estimators': 10000, 'learning_rate': 0.05, 'num_leaves': 30, 'max_depth': 12, 'min_data_in_leaf': 40, 'lambda_l1': 0, 'lambda_l2': 0, 'min_gain_to_split': 0.0, 'bagging_fraction': 0.65, 'bagging_freq': 1, 'feature_fraction': 0.95}. Best is trial 65 with value: 0.18141170011576987.\u001b[0m\n"
     ]
    },
    {
     "name": "stdout",
     "output_type": "stream",
     "text": [
      "mean_loss 0.18167\n",
      "[LightGBM] [Warning] lambda_l1 is set=0, reg_alpha=0.0 will be ignored. Current value: lambda_l1=0\n",
      "[LightGBM] [Warning] bagging_fraction is set=0.65, subsample=1.0 will be ignored. Current value: bagging_fraction=0.65\n",
      "[LightGBM] [Warning] min_gain_to_split is set=0.0, min_split_gain=0.0 will be ignored. Current value: min_gain_to_split=0.0\n",
      "[LightGBM] [Warning] lambda_l2 is set=0, reg_lambda=0.0 will be ignored. Current value: lambda_l2=0\n",
      "[LightGBM] [Warning] feature_fraction is set=0.95, colsample_bytree=1.0 will be ignored. Current value: feature_fraction=0.95\n",
      "[LightGBM] [Warning] min_data_in_leaf is set=40, min_child_samples=20 will be ignored. Current value: min_data_in_leaf=40\n",
      "[LightGBM] [Warning] bagging_freq is set=1, subsample_freq=0 will be ignored. Current value: bagging_freq=1\n"
     ]
    },
    {
     "name": "stderr",
     "output_type": "stream",
     "text": [
      "\u001b[32m[I 2022-05-08 15:23:46,337]\u001b[0m Trial 93 finished with value: 0.18167293296153397 and parameters: {'n_estimators': 10000, 'learning_rate': 0.05, 'num_leaves': 30, 'max_depth': 12, 'min_data_in_leaf': 40, 'lambda_l1': 0, 'lambda_l2': 0, 'min_gain_to_split': 0.0, 'bagging_fraction': 0.65, 'bagging_freq': 1, 'feature_fraction': 0.95}. Best is trial 65 with value: 0.18141170011576987.\u001b[0m\n"
     ]
    },
    {
     "name": "stdout",
     "output_type": "stream",
     "text": [
      "mean_loss 0.18167\n",
      "[LightGBM] [Warning] lambda_l1 is set=0, reg_alpha=0.0 will be ignored. Current value: lambda_l1=0\n",
      "[LightGBM] [Warning] bagging_fraction is set=0.75, subsample=1.0 will be ignored. Current value: bagging_fraction=0.75\n",
      "[LightGBM] [Warning] min_gain_to_split is set=0.0, min_split_gain=0.0 will be ignored. Current value: min_gain_to_split=0.0\n",
      "[LightGBM] [Warning] lambda_l2 is set=0, reg_lambda=0.0 will be ignored. Current value: lambda_l2=0\n",
      "[LightGBM] [Warning] feature_fraction is set=0.95, colsample_bytree=1.0 will be ignored. Current value: feature_fraction=0.95\n",
      "[LightGBM] [Warning] min_data_in_leaf is set=40, min_child_samples=20 will be ignored. Current value: min_data_in_leaf=40\n",
      "[LightGBM] [Warning] bagging_freq is set=1, subsample_freq=0 will be ignored. Current value: bagging_freq=1\n"
     ]
    },
    {
     "name": "stderr",
     "output_type": "stream",
     "text": [
      "\u001b[32m[I 2022-05-08 15:23:49,275]\u001b[0m Trial 94 finished with value: 0.18268622612632124 and parameters: {'n_estimators': 10000, 'learning_rate': 0.05, 'num_leaves': 30, 'max_depth': 12, 'min_data_in_leaf': 40, 'lambda_l1': 0, 'lambda_l2': 0, 'min_gain_to_split': 0.0, 'bagging_fraction': 0.75, 'bagging_freq': 1, 'feature_fraction': 0.95}. Best is trial 65 with value: 0.18141170011576987.\u001b[0m\n"
     ]
    },
    {
     "name": "stdout",
     "output_type": "stream",
     "text": [
      "mean_loss 0.18269\n",
      "[LightGBM] [Warning] lambda_l1 is set=0, reg_alpha=0.0 will be ignored. Current value: lambda_l1=0\n",
      "[LightGBM] [Warning] bagging_fraction is set=0.65, subsample=1.0 will be ignored. Current value: bagging_fraction=0.65\n",
      "[LightGBM] [Warning] min_gain_to_split is set=0.0, min_split_gain=0.0 will be ignored. Current value: min_gain_to_split=0.0\n",
      "[LightGBM] [Warning] lambda_l2 is set=0, reg_lambda=0.0 will be ignored. Current value: lambda_l2=0\n",
      "[LightGBM] [Warning] feature_fraction is set=0.95, colsample_bytree=1.0 will be ignored. Current value: feature_fraction=0.95\n",
      "[LightGBM] [Warning] min_data_in_leaf is set=20, min_child_samples=20 will be ignored. Current value: min_data_in_leaf=20\n",
      "[LightGBM] [Warning] bagging_freq is set=1, subsample_freq=0 will be ignored. Current value: bagging_freq=1\n"
     ]
    },
    {
     "name": "stderr",
     "output_type": "stream",
     "text": [
      "\u001b[32m[I 2022-05-08 15:23:51,486]\u001b[0m Trial 95 finished with value: 0.18282599480560427 and parameters: {'n_estimators': 10000, 'learning_rate': 0.05, 'num_leaves': 30, 'max_depth': 12, 'min_data_in_leaf': 20, 'lambda_l1': 0, 'lambda_l2': 0, 'min_gain_to_split': 0.0, 'bagging_fraction': 0.65, 'bagging_freq': 1, 'feature_fraction': 0.95}. Best is trial 65 with value: 0.18141170011576987.\u001b[0m\n"
     ]
    },
    {
     "name": "stdout",
     "output_type": "stream",
     "text": [
      "mean_loss 0.18283\n",
      "[LightGBM] [Warning] lambda_l1 is set=0, reg_alpha=0.0 will be ignored. Current value: lambda_l1=0\n",
      "[LightGBM] [Warning] bagging_fraction is set=0.65, subsample=1.0 will be ignored. Current value: bagging_fraction=0.65\n",
      "[LightGBM] [Warning] min_gain_to_split is set=0.0, min_split_gain=0.0 will be ignored. Current value: min_gain_to_split=0.0\n",
      "[LightGBM] [Warning] lambda_l2 is set=0, reg_lambda=0.0 will be ignored. Current value: lambda_l2=0\n",
      "[LightGBM] [Warning] feature_fraction is set=0.95, colsample_bytree=1.0 will be ignored. Current value: feature_fraction=0.95\n",
      "[LightGBM] [Warning] min_data_in_leaf is set=40, min_child_samples=20 will be ignored. Current value: min_data_in_leaf=40\n",
      "[LightGBM] [Warning] bagging_freq is set=1, subsample_freq=0 will be ignored. Current value: bagging_freq=1\n"
     ]
    },
    {
     "name": "stderr",
     "output_type": "stream",
     "text": [
      "\u001b[32m[I 2022-05-08 15:23:53,793]\u001b[0m Trial 96 finished with value: 0.18167293296153397 and parameters: {'n_estimators': 10000, 'learning_rate': 0.05, 'num_leaves': 30, 'max_depth': 12, 'min_data_in_leaf': 40, 'lambda_l1': 0, 'lambda_l2': 0, 'min_gain_to_split': 0.0, 'bagging_fraction': 0.65, 'bagging_freq': 1, 'feature_fraction': 0.95}. Best is trial 65 with value: 0.18141170011576987.\u001b[0m\n"
     ]
    },
    {
     "name": "stdout",
     "output_type": "stream",
     "text": [
      "mean_loss 0.18167\n",
      "[LightGBM] [Warning] lambda_l1 is set=0, reg_alpha=0.0 will be ignored. Current value: lambda_l1=0\n",
      "[LightGBM] [Warning] bagging_fraction is set=0.65, subsample=1.0 will be ignored. Current value: bagging_fraction=0.65\n",
      "[LightGBM] [Warning] min_gain_to_split is set=0.0, min_split_gain=0.0 will be ignored. Current value: min_gain_to_split=0.0\n",
      "[LightGBM] [Warning] lambda_l2 is set=0, reg_lambda=0.0 will be ignored. Current value: lambda_l2=0\n",
      "[LightGBM] [Warning] feature_fraction is set=0.95, colsample_bytree=1.0 will be ignored. Current value: feature_fraction=0.95\n",
      "[LightGBM] [Warning] min_data_in_leaf is set=40, min_child_samples=20 will be ignored. Current value: min_data_in_leaf=40\n",
      "[LightGBM] [Warning] bagging_freq is set=1, subsample_freq=0 will be ignored. Current value: bagging_freq=1\n"
     ]
    },
    {
     "name": "stderr",
     "output_type": "stream",
     "text": [
      "\u001b[32m[I 2022-05-08 15:23:56,929]\u001b[0m Trial 97 finished with value: 0.18167293296153397 and parameters: {'n_estimators': 10000, 'learning_rate': 0.05, 'num_leaves': 30, 'max_depth': 12, 'min_data_in_leaf': 40, 'lambda_l1': 0, 'lambda_l2': 0, 'min_gain_to_split': 0.0, 'bagging_fraction': 0.65, 'bagging_freq': 1, 'feature_fraction': 0.95}. Best is trial 65 with value: 0.18141170011576987.\u001b[0m\n"
     ]
    },
    {
     "name": "stdout",
     "output_type": "stream",
     "text": [
      "mean_loss 0.18167\n",
      "[LightGBM] [Warning] lambda_l1 is set=0, reg_alpha=0.0 will be ignored. Current value: lambda_l1=0\n",
      "[LightGBM] [Warning] bagging_fraction is set=0.75, subsample=1.0 will be ignored. Current value: bagging_fraction=0.75\n",
      "[LightGBM] [Warning] min_gain_to_split is set=0.0, min_split_gain=0.0 will be ignored. Current value: min_gain_to_split=0.0\n",
      "[LightGBM] [Warning] lambda_l2 is set=0, reg_lambda=0.0 will be ignored. Current value: lambda_l2=0\n",
      "[LightGBM] [Warning] feature_fraction is set=0.95, colsample_bytree=1.0 will be ignored. Current value: feature_fraction=0.95\n",
      "[LightGBM] [Warning] min_data_in_leaf is set=40, min_child_samples=20 will be ignored. Current value: min_data_in_leaf=40\n",
      "[LightGBM] [Warning] bagging_freq is set=1, subsample_freq=0 will be ignored. Current value: bagging_freq=1\n"
     ]
    },
    {
     "name": "stderr",
     "output_type": "stream",
     "text": [
      "\u001b[32m[I 2022-05-08 15:24:00,369]\u001b[0m Trial 98 finished with value: 0.1827639439231499 and parameters: {'n_estimators': 10000, 'learning_rate': 0.05, 'num_leaves': 30, 'max_depth': 11, 'min_data_in_leaf': 40, 'lambda_l1': 0, 'lambda_l2': 0, 'min_gain_to_split': 0.0, 'bagging_fraction': 0.75, 'bagging_freq': 1, 'feature_fraction': 0.95}. Best is trial 65 with value: 0.18141170011576987.\u001b[0m\n",
      "\u001b[32m[I 2022-05-08 15:24:00,443]\u001b[0m Trial 99 pruned. Trial was pruned at iteration 0.\u001b[0m\n",
      "\u001b[32m[I 2022-05-08 15:24:00,526]\u001b[0m Trial 100 pruned. Trial was pruned at iteration 0.\u001b[0m\n"
     ]
    },
    {
     "name": "stdout",
     "output_type": "stream",
     "text": [
      "mean_loss 0.18276\n",
      "[LightGBM] [Warning] lambda_l1 is set=0, reg_alpha=0.0 will be ignored. Current value: lambda_l1=0\n",
      "[LightGBM] [Warning] bagging_fraction is set=0.65, subsample=1.0 will be ignored. Current value: bagging_fraction=0.65\n",
      "[LightGBM] [Warning] min_gain_to_split is set=0.0, min_split_gain=0.0 will be ignored. Current value: min_gain_to_split=0.0\n",
      "[LightGBM] [Warning] lambda_l2 is set=20, reg_lambda=0.0 will be ignored. Current value: lambda_l2=20\n",
      "[LightGBM] [Warning] feature_fraction is set=0.95, colsample_bytree=1.0 will be ignored. Current value: feature_fraction=0.95\n",
      "[LightGBM] [Warning] min_data_in_leaf is set=40, min_child_samples=20 will be ignored. Current value: min_data_in_leaf=40\n",
      "[LightGBM] [Warning] bagging_freq is set=1, subsample_freq=0 will be ignored. Current value: bagging_freq=1\n"
     ]
    },
    {
     "name": "stderr",
     "output_type": "stream",
     "text": [
      "\u001b[32m[I 2022-05-08 15:24:03,084]\u001b[0m Trial 101 finished with value: 0.18167293296153397 and parameters: {'n_estimators': 10000, 'learning_rate': 0.05, 'num_leaves': 30, 'max_depth': 12, 'min_data_in_leaf': 40, 'lambda_l1': 0, 'lambda_l2': 0, 'min_gain_to_split': 0.0, 'bagging_fraction': 0.65, 'bagging_freq': 1, 'feature_fraction': 0.95}. Best is trial 65 with value: 0.18141170011576987.\u001b[0m\n"
     ]
    },
    {
     "name": "stdout",
     "output_type": "stream",
     "text": [
      "mean_loss 0.18167\n",
      "[LightGBM] [Warning] lambda_l1 is set=0, reg_alpha=0.0 will be ignored. Current value: lambda_l1=0\n",
      "[LightGBM] [Warning] bagging_fraction is set=0.65, subsample=1.0 will be ignored. Current value: bagging_fraction=0.65\n",
      "[LightGBM] [Warning] min_gain_to_split is set=0.0, min_split_gain=0.0 will be ignored. Current value: min_gain_to_split=0.0\n",
      "[LightGBM] [Warning] lambda_l2 is set=0, reg_lambda=0.0 will be ignored. Current value: lambda_l2=0\n",
      "[LightGBM] [Warning] feature_fraction is set=0.95, colsample_bytree=1.0 will be ignored. Current value: feature_fraction=0.95\n",
      "[LightGBM] [Warning] min_data_in_leaf is set=40, min_child_samples=20 will be ignored. Current value: min_data_in_leaf=40\n",
      "[LightGBM] [Warning] bagging_freq is set=1, subsample_freq=0 will be ignored. Current value: bagging_freq=1\n"
     ]
    },
    {
     "name": "stderr",
     "output_type": "stream",
     "text": [
      "\u001b[32m[I 2022-05-08 15:24:05,702]\u001b[0m Trial 102 finished with value: 0.18167293296153397 and parameters: {'n_estimators': 10000, 'learning_rate': 0.05, 'num_leaves': 30, 'max_depth': 12, 'min_data_in_leaf': 40, 'lambda_l1': 0, 'lambda_l2': 0, 'min_gain_to_split': 0.0, 'bagging_fraction': 0.65, 'bagging_freq': 1, 'feature_fraction': 0.95}. Best is trial 65 with value: 0.18141170011576987.\u001b[0m\n"
     ]
    },
    {
     "name": "stdout",
     "output_type": "stream",
     "text": [
      "mean_loss 0.18167\n",
      "[LightGBM] [Warning] lambda_l1 is set=0, reg_alpha=0.0 will be ignored. Current value: lambda_l1=0\n",
      "[LightGBM] [Warning] bagging_fraction is set=0.75, subsample=1.0 will be ignored. Current value: bagging_fraction=0.75\n",
      "[LightGBM] [Warning] min_gain_to_split is set=0.0, min_split_gain=0.0 will be ignored. Current value: min_gain_to_split=0.0\n",
      "[LightGBM] [Warning] lambda_l2 is set=0, reg_lambda=0.0 will be ignored. Current value: lambda_l2=0\n",
      "[LightGBM] [Warning] feature_fraction is set=0.95, colsample_bytree=1.0 will be ignored. Current value: feature_fraction=0.95\n",
      "[LightGBM] [Warning] min_data_in_leaf is set=40, min_child_samples=20 will be ignored. Current value: min_data_in_leaf=40\n",
      "[LightGBM] [Warning] bagging_freq is set=1, subsample_freq=0 will be ignored. Current value: bagging_freq=1\n"
     ]
    },
    {
     "name": "stderr",
     "output_type": "stream",
     "text": [
      "\u001b[32m[I 2022-05-08 15:24:09,623]\u001b[0m Trial 103 pruned. Trial was pruned at iteration 97.\u001b[0m\n",
      "\u001b[32m[I 2022-05-08 15:24:11,786]\u001b[0m Trial 104 finished with value: 0.18167293296153397 and parameters: {'n_estimators': 10000, 'learning_rate': 0.05, 'num_leaves': 30, 'max_depth': 12, 'min_data_in_leaf': 40, 'lambda_l1': 0, 'lambda_l2': 0, 'min_gain_to_split': 0.0, 'bagging_fraction': 0.65, 'bagging_freq': 1, 'feature_fraction': 0.95}. Best is trial 65 with value: 0.18141170011576987.\u001b[0m\n"
     ]
    },
    {
     "name": "stdout",
     "output_type": "stream",
     "text": [
      "mean_loss 0.18167\n",
      "[LightGBM] [Warning] lambda_l1 is set=0, reg_alpha=0.0 will be ignored. Current value: lambda_l1=0\n",
      "[LightGBM] [Warning] bagging_fraction is set=0.65, subsample=1.0 will be ignored. Current value: bagging_fraction=0.65\n",
      "[LightGBM] [Warning] min_gain_to_split is set=0.0, min_split_gain=0.0 will be ignored. Current value: min_gain_to_split=0.0\n",
      "[LightGBM] [Warning] lambda_l2 is set=0, reg_lambda=0.0 will be ignored. Current value: lambda_l2=0\n",
      "[LightGBM] [Warning] feature_fraction is set=0.95, colsample_bytree=1.0 will be ignored. Current value: feature_fraction=0.95\n",
      "[LightGBM] [Warning] min_data_in_leaf is set=40, min_child_samples=20 will be ignored. Current value: min_data_in_leaf=40\n",
      "[LightGBM] [Warning] bagging_freq is set=1, subsample_freq=0 will be ignored. Current value: bagging_freq=1\n"
     ]
    },
    {
     "name": "stderr",
     "output_type": "stream",
     "text": [
      "\u001b[32m[I 2022-05-08 15:24:13,470]\u001b[0m Trial 105 finished with value: 0.18160014069339817 and parameters: {'n_estimators': 10000, 'learning_rate': 0.05, 'num_leaves': 30, 'max_depth': 11, 'min_data_in_leaf': 40, 'lambda_l1': 0, 'lambda_l2': 0, 'min_gain_to_split': 0.0, 'bagging_fraction': 0.65, 'bagging_freq': 1, 'feature_fraction': 0.95}. Best is trial 65 with value: 0.18141170011576987.\u001b[0m\n"
     ]
    },
    {
     "name": "stdout",
     "output_type": "stream",
     "text": [
      "mean_loss 0.18160\n",
      "[LightGBM] [Warning] lambda_l1 is set=0, reg_alpha=0.0 will be ignored. Current value: lambda_l1=0\n",
      "[LightGBM] [Warning] bagging_fraction is set=0.65, subsample=1.0 will be ignored. Current value: bagging_fraction=0.65\n",
      "[LightGBM] [Warning] min_gain_to_split is set=0.0, min_split_gain=0.0 will be ignored. Current value: min_gain_to_split=0.0\n",
      "[LightGBM] [Warning] lambda_l2 is set=0, reg_lambda=0.0 will be ignored. Current value: lambda_l2=0\n",
      "[LightGBM] [Warning] feature_fraction is set=0.95, colsample_bytree=1.0 will be ignored. Current value: feature_fraction=0.95\n",
      "[LightGBM] [Warning] min_data_in_leaf is set=40, min_child_samples=20 will be ignored. Current value: min_data_in_leaf=40\n",
      "[LightGBM] [Warning] bagging_freq is set=1, subsample_freq=0 will be ignored. Current value: bagging_freq=1\n"
     ]
    },
    {
     "name": "stderr",
     "output_type": "stream",
     "text": [
      "\u001b[32m[I 2022-05-08 15:24:15,084]\u001b[0m Trial 106 pruned. Trial was pruned at iteration 134.\u001b[0m\n",
      "\u001b[32m[I 2022-05-08 15:24:17,155]\u001b[0m Trial 107 finished with value: 0.1827639439231499 and parameters: {'n_estimators': 10000, 'learning_rate': 0.05, 'num_leaves': 30, 'max_depth': 11, 'min_data_in_leaf': 40, 'lambda_l1': 0, 'lambda_l2': 0, 'min_gain_to_split': 0.0, 'bagging_fraction': 0.75, 'bagging_freq': 1, 'feature_fraction': 0.95}. Best is trial 65 with value: 0.18141170011576987.\u001b[0m\n",
      "\u001b[32m[I 2022-05-08 15:24:17,234]\u001b[0m Trial 108 pruned. Trial was pruned at iteration 0.\u001b[0m\n",
      "\u001b[32m[I 2022-05-08 15:24:17,347]\u001b[0m Trial 109 pruned. Trial was pruned at iteration 0.\u001b[0m\n"
     ]
    },
    {
     "name": "stdout",
     "output_type": "stream",
     "text": [
      "mean_loss 0.18276\n",
      "[LightGBM] [Warning] lambda_l1 is set=0, reg_alpha=0.0 will be ignored. Current value: lambda_l1=0\n",
      "[LightGBM] [Warning] bagging_fraction is set=0.65, subsample=1.0 will be ignored. Current value: bagging_fraction=0.65\n",
      "[LightGBM] [Warning] min_gain_to_split is set=0.0, min_split_gain=0.0 will be ignored. Current value: min_gain_to_split=0.0\n",
      "[LightGBM] [Warning] lambda_l2 is set=40, reg_lambda=0.0 will be ignored. Current value: lambda_l2=40\n",
      "[LightGBM] [Warning] feature_fraction is set=0.95, colsample_bytree=1.0 will be ignored. Current value: feature_fraction=0.95\n",
      "[LightGBM] [Warning] min_data_in_leaf is set=20, min_child_samples=20 will be ignored. Current value: min_data_in_leaf=20\n",
      "[LightGBM] [Warning] bagging_freq is set=1, subsample_freq=0 will be ignored. Current value: bagging_freq=1\n"
     ]
    },
    {
     "name": "stderr",
     "output_type": "stream",
     "text": [
      "\u001b[32m[I 2022-05-08 15:24:19,239]\u001b[0m Trial 110 finished with value: 0.18167293296153397 and parameters: {'n_estimators': 10000, 'learning_rate': 0.05, 'num_leaves': 30, 'max_depth': 12, 'min_data_in_leaf': 40, 'lambda_l1': 0, 'lambda_l2': 0, 'min_gain_to_split': 0.0, 'bagging_fraction': 0.65, 'bagging_freq': 1, 'feature_fraction': 0.95}. Best is trial 65 with value: 0.18141170011576987.\u001b[0m\n"
     ]
    },
    {
     "name": "stdout",
     "output_type": "stream",
     "text": [
      "mean_loss 0.18167\n",
      "[LightGBM] [Warning] lambda_l1 is set=0, reg_alpha=0.0 will be ignored. Current value: lambda_l1=0\n",
      "[LightGBM] [Warning] bagging_fraction is set=0.65, subsample=1.0 will be ignored. Current value: bagging_fraction=0.65\n",
      "[LightGBM] [Warning] min_gain_to_split is set=0.0, min_split_gain=0.0 will be ignored. Current value: min_gain_to_split=0.0\n",
      "[LightGBM] [Warning] lambda_l2 is set=0, reg_lambda=0.0 will be ignored. Current value: lambda_l2=0\n",
      "[LightGBM] [Warning] feature_fraction is set=0.95, colsample_bytree=1.0 will be ignored. Current value: feature_fraction=0.95\n",
      "[LightGBM] [Warning] min_data_in_leaf is set=40, min_child_samples=20 will be ignored. Current value: min_data_in_leaf=40\n",
      "[LightGBM] [Warning] bagging_freq is set=1, subsample_freq=0 will be ignored. Current value: bagging_freq=1\n"
     ]
    },
    {
     "name": "stderr",
     "output_type": "stream",
     "text": [
      "\u001b[32m[I 2022-05-08 15:24:21,702]\u001b[0m Trial 111 finished with value: 0.18167293296153397 and parameters: {'n_estimators': 10000, 'learning_rate': 0.05, 'num_leaves': 30, 'max_depth': 12, 'min_data_in_leaf': 40, 'lambda_l1': 0, 'lambda_l2': 0, 'min_gain_to_split': 0.0, 'bagging_fraction': 0.65, 'bagging_freq': 1, 'feature_fraction': 0.95}. Best is trial 65 with value: 0.18141170011576987.\u001b[0m\n"
     ]
    },
    {
     "name": "stdout",
     "output_type": "stream",
     "text": [
      "mean_loss 0.18167\n",
      "[LightGBM] [Warning] lambda_l1 is set=0, reg_alpha=0.0 will be ignored. Current value: lambda_l1=0\n",
      "[LightGBM] [Warning] bagging_fraction is set=0.65, subsample=1.0 will be ignored. Current value: bagging_fraction=0.65\n",
      "[LightGBM] [Warning] min_gain_to_split is set=0.0, min_split_gain=0.0 will be ignored. Current value: min_gain_to_split=0.0\n",
      "[LightGBM] [Warning] lambda_l2 is set=0, reg_lambda=0.0 will be ignored. Current value: lambda_l2=0\n",
      "[LightGBM] [Warning] feature_fraction is set=0.95, colsample_bytree=1.0 will be ignored. Current value: feature_fraction=0.95\n",
      "[LightGBM] [Warning] min_data_in_leaf is set=40, min_child_samples=20 will be ignored. Current value: min_data_in_leaf=40\n",
      "[LightGBM] [Warning] bagging_freq is set=1, subsample_freq=0 will be ignored. Current value: bagging_freq=1\n"
     ]
    },
    {
     "name": "stderr",
     "output_type": "stream",
     "text": [
      "\u001b[32m[I 2022-05-08 15:24:23,963]\u001b[0m Trial 112 finished with value: 0.18167293296153397 and parameters: {'n_estimators': 10000, 'learning_rate': 0.05, 'num_leaves': 30, 'max_depth': 12, 'min_data_in_leaf': 40, 'lambda_l1': 0, 'lambda_l2': 0, 'min_gain_to_split': 0.0, 'bagging_fraction': 0.65, 'bagging_freq': 1, 'feature_fraction': 0.95}. Best is trial 65 with value: 0.18141170011576987.\u001b[0m\n"
     ]
    },
    {
     "name": "stdout",
     "output_type": "stream",
     "text": [
      "mean_loss 0.18167\n",
      "[LightGBM] [Warning] lambda_l1 is set=0, reg_alpha=0.0 will be ignored. Current value: lambda_l1=0\n",
      "[LightGBM] [Warning] bagging_fraction is set=0.65, subsample=1.0 will be ignored. Current value: bagging_fraction=0.65\n",
      "[LightGBM] [Warning] min_gain_to_split is set=0.0, min_split_gain=0.0 will be ignored. Current value: min_gain_to_split=0.0\n",
      "[LightGBM] [Warning] lambda_l2 is set=0, reg_lambda=0.0 will be ignored. Current value: lambda_l2=0\n",
      "[LightGBM] [Warning] feature_fraction is set=0.95, colsample_bytree=1.0 will be ignored. Current value: feature_fraction=0.95\n",
      "[LightGBM] [Warning] min_data_in_leaf is set=40, min_child_samples=20 will be ignored. Current value: min_data_in_leaf=40\n",
      "[LightGBM] [Warning] bagging_freq is set=1, subsample_freq=0 will be ignored. Current value: bagging_freq=1\n"
     ]
    },
    {
     "name": "stderr",
     "output_type": "stream",
     "text": [
      "\u001b[32m[I 2022-05-08 15:24:26,276]\u001b[0m Trial 113 finished with value: 0.18167293296153397 and parameters: {'n_estimators': 10000, 'learning_rate': 0.05, 'num_leaves': 30, 'max_depth': 12, 'min_data_in_leaf': 40, 'lambda_l1': 0, 'lambda_l2': 0, 'min_gain_to_split': 0.0, 'bagging_fraction': 0.65, 'bagging_freq': 1, 'feature_fraction': 0.95}. Best is trial 65 with value: 0.18141170011576987.\u001b[0m\n",
      "\u001b[32m[I 2022-05-08 15:24:26,359]\u001b[0m Trial 114 pruned. Trial was pruned at iteration 0.\u001b[0m\n",
      "\u001b[32m[I 2022-05-08 15:24:26,472]\u001b[0m Trial 115 pruned. Trial was pruned at iteration 0.\u001b[0m\n"
     ]
    },
    {
     "name": "stdout",
     "output_type": "stream",
     "text": [
      "mean_loss 0.18167\n",
      "[LightGBM] [Warning] lambda_l1 is set=0, reg_alpha=0.0 will be ignored. Current value: lambda_l1=0\n",
      "[LightGBM] [Warning] bagging_fraction is set=0.65, subsample=1.0 will be ignored. Current value: bagging_fraction=0.65\n",
      "[LightGBM] [Warning] min_gain_to_split is set=0.0, min_split_gain=0.0 will be ignored. Current value: min_gain_to_split=0.0\n",
      "[LightGBM] [Warning] lambda_l2 is set=0, reg_lambda=0.0 will be ignored. Current value: lambda_l2=0\n",
      "[LightGBM] [Warning] feature_fraction is set=0.95, colsample_bytree=1.0 will be ignored. Current value: feature_fraction=0.95\n",
      "[LightGBM] [Warning] min_data_in_leaf is set=20, min_child_samples=20 will be ignored. Current value: min_data_in_leaf=20\n",
      "[LightGBM] [Warning] bagging_freq is set=1, subsample_freq=0 will be ignored. Current value: bagging_freq=1\n"
     ]
    },
    {
     "name": "stderr",
     "output_type": "stream",
     "text": [
      "\u001b[32m[I 2022-05-08 15:24:30,604]\u001b[0m Trial 116 pruned. Trial was pruned at iteration 99.\u001b[0m\n",
      "\u001b[32m[I 2022-05-08 15:24:33,799]\u001b[0m Trial 117 finished with value: 0.1827639439231499 and parameters: {'n_estimators': 10000, 'learning_rate': 0.05, 'num_leaves': 30, 'max_depth': 11, 'min_data_in_leaf': 40, 'lambda_l1': 0, 'lambda_l2': 0, 'min_gain_to_split': 0.0, 'bagging_fraction': 0.75, 'bagging_freq': 1, 'feature_fraction': 0.95}. Best is trial 65 with value: 0.18141170011576987.\u001b[0m\n",
      "\u001b[32m[I 2022-05-08 15:24:33,886]\u001b[0m Trial 118 pruned. Trial was pruned at iteration 0.\u001b[0m\n",
      "\u001b[32m[I 2022-05-08 15:24:33,958]\u001b[0m Trial 119 pruned. Trial was pruned at iteration 0.\u001b[0m\n"
     ]
    },
    {
     "name": "stdout",
     "output_type": "stream",
     "text": [
      "mean_loss 0.18276\n",
      "[LightGBM] [Warning] lambda_l1 is set=0, reg_alpha=0.0 will be ignored. Current value: lambda_l1=0\n",
      "[LightGBM] [Warning] bagging_fraction is set=0.55, subsample=1.0 will be ignored. Current value: bagging_fraction=0.55\n",
      "[LightGBM] [Warning] min_gain_to_split is set=0.0, min_split_gain=0.0 will be ignored. Current value: min_gain_to_split=0.0\n",
      "[LightGBM] [Warning] lambda_l2 is set=0, reg_lambda=0.0 will be ignored. Current value: lambda_l2=0\n",
      "[LightGBM] [Warning] feature_fraction is set=0.95, colsample_bytree=1.0 will be ignored. Current value: feature_fraction=0.95\n",
      "[LightGBM] [Warning] min_data_in_leaf is set=40, min_child_samples=20 will be ignored. Current value: min_data_in_leaf=40\n",
      "[LightGBM] [Warning] bagging_freq is set=1, subsample_freq=0 will be ignored. Current value: bagging_freq=1\n"
     ]
    },
    {
     "name": "stderr",
     "output_type": "stream",
     "text": [
      "\u001b[32m[I 2022-05-08 15:24:35,723]\u001b[0m Trial 120 finished with value: 0.18268622612632124 and parameters: {'n_estimators': 10000, 'learning_rate': 0.05, 'num_leaves': 30, 'max_depth': 12, 'min_data_in_leaf': 40, 'lambda_l1': 0, 'lambda_l2': 0, 'min_gain_to_split': 0.0, 'bagging_fraction': 0.75, 'bagging_freq': 1, 'feature_fraction': 0.95}. Best is trial 65 with value: 0.18141170011576987.\u001b[0m\n"
     ]
    },
    {
     "name": "stdout",
     "output_type": "stream",
     "text": [
      "mean_loss 0.18269\n",
      "[LightGBM] [Warning] lambda_l1 is set=0, reg_alpha=0.0 will be ignored. Current value: lambda_l1=0\n",
      "[LightGBM] [Warning] bagging_fraction is set=0.65, subsample=1.0 will be ignored. Current value: bagging_fraction=0.65\n",
      "[LightGBM] [Warning] min_gain_to_split is set=0.0, min_split_gain=0.0 will be ignored. Current value: min_gain_to_split=0.0\n",
      "[LightGBM] [Warning] lambda_l2 is set=0, reg_lambda=0.0 will be ignored. Current value: lambda_l2=0\n",
      "[LightGBM] [Warning] feature_fraction is set=0.95, colsample_bytree=1.0 will be ignored. Current value: feature_fraction=0.95\n",
      "[LightGBM] [Warning] min_data_in_leaf is set=40, min_child_samples=20 will be ignored. Current value: min_data_in_leaf=40\n",
      "[LightGBM] [Warning] bagging_freq is set=1, subsample_freq=0 will be ignored. Current value: bagging_freq=1\n"
     ]
    },
    {
     "name": "stderr",
     "output_type": "stream",
     "text": [
      "\u001b[32m[I 2022-05-08 15:24:37,785]\u001b[0m Trial 121 finished with value: 0.18288556694417413 and parameters: {'n_estimators': 10000, 'learning_rate': 0.05, 'num_leaves': 30, 'max_depth': 6, 'min_data_in_leaf': 40, 'lambda_l1': 0, 'lambda_l2': 0, 'min_gain_to_split': 0.0, 'bagging_fraction': 0.65, 'bagging_freq': 1, 'feature_fraction': 0.95}. Best is trial 65 with value: 0.18141170011576987.\u001b[0m\n"
     ]
    },
    {
     "name": "stdout",
     "output_type": "stream",
     "text": [
      "mean_loss 0.18289\n",
      "[LightGBM] [Warning] lambda_l1 is set=0, reg_alpha=0.0 will be ignored. Current value: lambda_l1=0\n",
      "[LightGBM] [Warning] bagging_fraction is set=0.65, subsample=1.0 will be ignored. Current value: bagging_fraction=0.65\n",
      "[LightGBM] [Warning] min_gain_to_split is set=0.0, min_split_gain=0.0 will be ignored. Current value: min_gain_to_split=0.0\n",
      "[LightGBM] [Warning] lambda_l2 is set=0, reg_lambda=0.0 will be ignored. Current value: lambda_l2=0\n",
      "[LightGBM] [Warning] feature_fraction is set=0.95, colsample_bytree=1.0 will be ignored. Current value: feature_fraction=0.95\n",
      "[LightGBM] [Warning] min_data_in_leaf is set=40, min_child_samples=20 will be ignored. Current value: min_data_in_leaf=40\n",
      "[LightGBM] [Warning] bagging_freq is set=1, subsample_freq=0 will be ignored. Current value: bagging_freq=1\n"
     ]
    },
    {
     "name": "stderr",
     "output_type": "stream",
     "text": [
      "\u001b[32m[I 2022-05-08 15:24:40,713]\u001b[0m Trial 122 finished with value: 0.18167293296153397 and parameters: {'n_estimators': 10000, 'learning_rate': 0.05, 'num_leaves': 30, 'max_depth': 12, 'min_data_in_leaf': 40, 'lambda_l1': 0, 'lambda_l2': 0, 'min_gain_to_split': 0.0, 'bagging_fraction': 0.65, 'bagging_freq': 1, 'feature_fraction': 0.95}. Best is trial 65 with value: 0.18141170011576987.\u001b[0m\n"
     ]
    },
    {
     "name": "stdout",
     "output_type": "stream",
     "text": [
      "mean_loss 0.18167\n",
      "[LightGBM] [Warning] lambda_l1 is set=0, reg_alpha=0.0 will be ignored. Current value: lambda_l1=0\n",
      "[LightGBM] [Warning] bagging_fraction is set=0.65, subsample=1.0 will be ignored. Current value: bagging_fraction=0.65\n",
      "[LightGBM] [Warning] min_gain_to_split is set=0.0, min_split_gain=0.0 will be ignored. Current value: min_gain_to_split=0.0\n",
      "[LightGBM] [Warning] lambda_l2 is set=0, reg_lambda=0.0 will be ignored. Current value: lambda_l2=0\n",
      "[LightGBM] [Warning] feature_fraction is set=0.95, colsample_bytree=1.0 will be ignored. Current value: feature_fraction=0.95\n",
      "[LightGBM] [Warning] min_data_in_leaf is set=40, min_child_samples=20 will be ignored. Current value: min_data_in_leaf=40\n",
      "[LightGBM] [Warning] bagging_freq is set=1, subsample_freq=0 will be ignored. Current value: bagging_freq=1\n"
     ]
    },
    {
     "name": "stderr",
     "output_type": "stream",
     "text": [
      "\u001b[32m[I 2022-05-08 15:24:44,137]\u001b[0m Trial 123 finished with value: 0.18167293296153397 and parameters: {'n_estimators': 10000, 'learning_rate': 0.05, 'num_leaves': 30, 'max_depth': 12, 'min_data_in_leaf': 40, 'lambda_l1': 0, 'lambda_l2': 0, 'min_gain_to_split': 0.0, 'bagging_fraction': 0.65, 'bagging_freq': 1, 'feature_fraction': 0.95}. Best is trial 65 with value: 0.18141170011576987.\u001b[0m\n"
     ]
    },
    {
     "name": "stdout",
     "output_type": "stream",
     "text": [
      "mean_loss 0.18167\n",
      "[LightGBM] [Warning] lambda_l1 is set=0, reg_alpha=0.0 will be ignored. Current value: lambda_l1=0\n",
      "[LightGBM] [Warning] bagging_fraction is set=0.65, subsample=1.0 will be ignored. Current value: bagging_fraction=0.65\n",
      "[LightGBM] [Warning] min_gain_to_split is set=0.0, min_split_gain=0.0 will be ignored. Current value: min_gain_to_split=0.0\n",
      "[LightGBM] [Warning] lambda_l2 is set=0, reg_lambda=0.0 will be ignored. Current value: lambda_l2=0\n",
      "[LightGBM] [Warning] feature_fraction is set=0.95, colsample_bytree=1.0 will be ignored. Current value: feature_fraction=0.95\n",
      "[LightGBM] [Warning] min_data_in_leaf is set=40, min_child_samples=20 will be ignored. Current value: min_data_in_leaf=40\n",
      "[LightGBM] [Warning] bagging_freq is set=1, subsample_freq=0 will be ignored. Current value: bagging_freq=1\n"
     ]
    },
    {
     "name": "stderr",
     "output_type": "stream",
     "text": [
      "\u001b[32m[I 2022-05-08 15:24:46,866]\u001b[0m Trial 124 finished with value: 0.18167293296153397 and parameters: {'n_estimators': 10000, 'learning_rate': 0.05, 'num_leaves': 30, 'max_depth': 12, 'min_data_in_leaf': 40, 'lambda_l1': 0, 'lambda_l2': 0, 'min_gain_to_split': 0.0, 'bagging_fraction': 0.65, 'bagging_freq': 1, 'feature_fraction': 0.95}. Best is trial 65 with value: 0.18141170011576987.\u001b[0m\n",
      "\u001b[32m[I 2022-05-08 15:24:46,948]\u001b[0m Trial 125 pruned. Trial was pruned at iteration 0.\u001b[0m\n",
      "\u001b[32m[I 2022-05-08 15:24:47,027]\u001b[0m Trial 126 pruned. Trial was pruned at iteration 0.\u001b[0m\n"
     ]
    },
    {
     "name": "stdout",
     "output_type": "stream",
     "text": [
      "mean_loss 0.18167\n",
      "[LightGBM] [Warning] lambda_l1 is set=0, reg_alpha=0.0 will be ignored. Current value: lambda_l1=0\n",
      "[LightGBM] [Warning] bagging_fraction is set=0.65, subsample=1.0 will be ignored. Current value: bagging_fraction=0.65\n",
      "[LightGBM] [Warning] min_gain_to_split is set=0.0, min_split_gain=0.0 will be ignored. Current value: min_gain_to_split=0.0\n",
      "[LightGBM] [Warning] lambda_l2 is set=0, reg_lambda=0.0 will be ignored. Current value: lambda_l2=0\n",
      "[LightGBM] [Warning] feature_fraction is set=0.95, colsample_bytree=1.0 will be ignored. Current value: feature_fraction=0.95\n",
      "[LightGBM] [Warning] min_data_in_leaf is set=20, min_child_samples=20 will be ignored. Current value: min_data_in_leaf=20\n",
      "[LightGBM] [Warning] bagging_freq is set=1, subsample_freq=0 will be ignored. Current value: bagging_freq=1\n"
     ]
    },
    {
     "name": "stderr",
     "output_type": "stream",
     "text": [
      "\u001b[32m[I 2022-05-08 15:24:47,148]\u001b[0m Trial 127 pruned. Trial was pruned at iteration 2.\u001b[0m\n",
      "\u001b[32m[I 2022-05-08 15:24:47,238]\u001b[0m Trial 128 pruned. Trial was pruned at iteration 0.\u001b[0m\n",
      "\u001b[32m[I 2022-05-08 15:24:48,248]\u001b[0m Trial 129 pruned. Trial was pruned at iteration 89.\u001b[0m\n",
      "\u001b[32m[I 2022-05-08 15:24:49,034]\u001b[0m Trial 130 pruned. Trial was pruned at iteration 73.\u001b[0m\n",
      "\u001b[32m[I 2022-05-08 15:24:51,329]\u001b[0m Trial 131 finished with value: 0.18167293296153397 and parameters: {'n_estimators': 10000, 'learning_rate': 0.05, 'num_leaves': 30, 'max_depth': 12, 'min_data_in_leaf': 40, 'lambda_l1': 0, 'lambda_l2': 0, 'min_gain_to_split': 0.0, 'bagging_fraction': 0.65, 'bagging_freq': 1, 'feature_fraction': 0.95}. Best is trial 65 with value: 0.18141170011576987.\u001b[0m\n"
     ]
    },
    {
     "name": "stdout",
     "output_type": "stream",
     "text": [
      "mean_loss 0.18167\n",
      "[LightGBM] [Warning] lambda_l1 is set=0, reg_alpha=0.0 will be ignored. Current value: lambda_l1=0\n",
      "[LightGBM] [Warning] bagging_fraction is set=0.65, subsample=1.0 will be ignored. Current value: bagging_fraction=0.65\n",
      "[LightGBM] [Warning] min_gain_to_split is set=0.0, min_split_gain=0.0 will be ignored. Current value: min_gain_to_split=0.0\n",
      "[LightGBM] [Warning] lambda_l2 is set=0, reg_lambda=0.0 will be ignored. Current value: lambda_l2=0\n",
      "[LightGBM] [Warning] feature_fraction is set=0.95, colsample_bytree=1.0 will be ignored. Current value: feature_fraction=0.95\n",
      "[LightGBM] [Warning] min_data_in_leaf is set=40, min_child_samples=20 will be ignored. Current value: min_data_in_leaf=40\n",
      "[LightGBM] [Warning] bagging_freq is set=1, subsample_freq=0 will be ignored. Current value: bagging_freq=1\n"
     ]
    },
    {
     "name": "stderr",
     "output_type": "stream",
     "text": [
      "\u001b[32m[I 2022-05-08 15:24:53,979]\u001b[0m Trial 132 finished with value: 0.18167293296153397 and parameters: {'n_estimators': 10000, 'learning_rate': 0.05, 'num_leaves': 30, 'max_depth': 12, 'min_data_in_leaf': 40, 'lambda_l1': 0, 'lambda_l2': 0, 'min_gain_to_split': 0.0, 'bagging_fraction': 0.65, 'bagging_freq': 1, 'feature_fraction': 0.95}. Best is trial 65 with value: 0.18141170011576987.\u001b[0m\n"
     ]
    },
    {
     "name": "stdout",
     "output_type": "stream",
     "text": [
      "mean_loss 0.18167\n",
      "[LightGBM] [Warning] lambda_l1 is set=0, reg_alpha=0.0 will be ignored. Current value: lambda_l1=0\n",
      "[LightGBM] [Warning] bagging_fraction is set=0.65, subsample=1.0 will be ignored. Current value: bagging_fraction=0.65\n",
      "[LightGBM] [Warning] min_gain_to_split is set=0.0, min_split_gain=0.0 will be ignored. Current value: min_gain_to_split=0.0\n",
      "[LightGBM] [Warning] lambda_l2 is set=0, reg_lambda=0.0 will be ignored. Current value: lambda_l2=0\n",
      "[LightGBM] [Warning] feature_fraction is set=0.95, colsample_bytree=1.0 will be ignored. Current value: feature_fraction=0.95\n",
      "[LightGBM] [Warning] min_data_in_leaf is set=40, min_child_samples=20 will be ignored. Current value: min_data_in_leaf=40\n",
      "[LightGBM] [Warning] bagging_freq is set=1, subsample_freq=0 will be ignored. Current value: bagging_freq=1\n"
     ]
    },
    {
     "name": "stderr",
     "output_type": "stream",
     "text": [
      "\u001b[32m[I 2022-05-08 15:24:56,101]\u001b[0m Trial 133 finished with value: 0.18167293296153397 and parameters: {'n_estimators': 10000, 'learning_rate': 0.05, 'num_leaves': 30, 'max_depth': 12, 'min_data_in_leaf': 40, 'lambda_l1': 0, 'lambda_l2': 0, 'min_gain_to_split': 0.0, 'bagging_fraction': 0.65, 'bagging_freq': 1, 'feature_fraction': 0.95}. Best is trial 65 with value: 0.18141170011576987.\u001b[0m\n"
     ]
    },
    {
     "name": "stdout",
     "output_type": "stream",
     "text": [
      "mean_loss 0.18167\n",
      "[LightGBM] [Warning] lambda_l1 is set=0, reg_alpha=0.0 will be ignored. Current value: lambda_l1=0\n",
      "[LightGBM] [Warning] bagging_fraction is set=0.65, subsample=1.0 will be ignored. Current value: bagging_fraction=0.65\n",
      "[LightGBM] [Warning] min_gain_to_split is set=0.0, min_split_gain=0.0 will be ignored. Current value: min_gain_to_split=0.0\n",
      "[LightGBM] [Warning] lambda_l2 is set=0, reg_lambda=0.0 will be ignored. Current value: lambda_l2=0\n",
      "[LightGBM] [Warning] feature_fraction is set=0.95, colsample_bytree=1.0 will be ignored. Current value: feature_fraction=0.95\n",
      "[LightGBM] [Warning] min_data_in_leaf is set=40, min_child_samples=20 will be ignored. Current value: min_data_in_leaf=40\n",
      "[LightGBM] [Warning] bagging_freq is set=1, subsample_freq=0 will be ignored. Current value: bagging_freq=1\n"
     ]
    },
    {
     "name": "stderr",
     "output_type": "stream",
     "text": [
      "\u001b[32m[I 2022-05-08 15:24:59,033]\u001b[0m Trial 134 finished with value: 0.18167293296153397 and parameters: {'n_estimators': 10000, 'learning_rate': 0.05, 'num_leaves': 30, 'max_depth': 12, 'min_data_in_leaf': 40, 'lambda_l1': 0, 'lambda_l2': 0, 'min_gain_to_split': 0.0, 'bagging_fraction': 0.65, 'bagging_freq': 1, 'feature_fraction': 0.95}. Best is trial 65 with value: 0.18141170011576987.\u001b[0m\n",
      "\u001b[32m[I 2022-05-08 15:24:59,122]\u001b[0m Trial 135 pruned. Trial was pruned at iteration 0.\u001b[0m\n"
     ]
    },
    {
     "name": "stdout",
     "output_type": "stream",
     "text": [
      "mean_loss 0.18167\n",
      "[LightGBM] [Warning] lambda_l1 is set=0, reg_alpha=0.0 will be ignored. Current value: lambda_l1=0\n",
      "[LightGBM] [Warning] bagging_fraction is set=0.55, subsample=1.0 will be ignored. Current value: bagging_fraction=0.55\n",
      "[LightGBM] [Warning] min_gain_to_split is set=0.0, min_split_gain=0.0 will be ignored. Current value: min_gain_to_split=0.0\n",
      "[LightGBM] [Warning] lambda_l2 is set=0, reg_lambda=0.0 will be ignored. Current value: lambda_l2=0\n",
      "[LightGBM] [Warning] feature_fraction is set=0.95, colsample_bytree=1.0 will be ignored. Current value: feature_fraction=0.95\n",
      "[LightGBM] [Warning] min_data_in_leaf is set=40, min_child_samples=20 will be ignored. Current value: min_data_in_leaf=40\n",
      "[LightGBM] [Warning] bagging_freq is set=1, subsample_freq=0 will be ignored. Current value: bagging_freq=1\n"
     ]
    },
    {
     "name": "stderr",
     "output_type": "stream",
     "text": [
      "\u001b[32m[I 2022-05-08 15:25:03,440]\u001b[0m Trial 136 finished with value: 0.18167293296153397 and parameters: {'n_estimators': 10000, 'learning_rate': 0.05, 'num_leaves': 30, 'max_depth': 12, 'min_data_in_leaf': 40, 'lambda_l1': 0, 'lambda_l2': 0, 'min_gain_to_split': 0.0, 'bagging_fraction': 0.65, 'bagging_freq': 1, 'feature_fraction': 0.95}. Best is trial 65 with value: 0.18141170011576987.\u001b[0m\n",
      "\u001b[32m[I 2022-05-08 15:25:03,528]\u001b[0m Trial 137 pruned. Trial was pruned at iteration 0.\u001b[0m\n"
     ]
    },
    {
     "name": "stdout",
     "output_type": "stream",
     "text": [
      "mean_loss 0.18167\n",
      "[LightGBM] [Warning] lambda_l1 is set=0, reg_alpha=0.0 will be ignored. Current value: lambda_l1=0\n",
      "[LightGBM] [Warning] bagging_fraction is set=0.75, subsample=1.0 will be ignored. Current value: bagging_fraction=0.75\n",
      "[LightGBM] [Warning] min_gain_to_split is set=3.0, min_split_gain=0.0 will be ignored. Current value: min_gain_to_split=3.0\n",
      "[LightGBM] [Warning] lambda_l2 is set=0, reg_lambda=0.0 will be ignored. Current value: lambda_l2=0\n",
      "[LightGBM] [Warning] feature_fraction is set=0.55, colsample_bytree=1.0 will be ignored. Current value: feature_fraction=0.55\n",
      "[LightGBM] [Warning] min_data_in_leaf is set=40, min_child_samples=20 will be ignored. Current value: min_data_in_leaf=40\n",
      "[LightGBM] [Warning] bagging_freq is set=1, subsample_freq=0 will be ignored. Current value: bagging_freq=1\n"
     ]
    },
    {
     "name": "stderr",
     "output_type": "stream",
     "text": [
      "\u001b[32m[I 2022-05-08 15:25:03,709]\u001b[0m Trial 138 pruned. Trial was pruned at iteration 2.\u001b[0m\n",
      "\u001b[32m[I 2022-05-08 15:25:03,896]\u001b[0m Trial 139 pruned. Trial was pruned at iteration 0.\u001b[0m\n",
      "\u001b[32m[I 2022-05-08 15:25:07,402]\u001b[0m Trial 140 finished with value: 0.18160014069339817 and parameters: {'n_estimators': 10000, 'learning_rate': 0.05, 'num_leaves': 30, 'max_depth': 11, 'min_data_in_leaf': 40, 'lambda_l1': 0, 'lambda_l2': 0, 'min_gain_to_split': 0.0, 'bagging_fraction': 0.65, 'bagging_freq': 1, 'feature_fraction': 0.95}. Best is trial 65 with value: 0.18141170011576987.\u001b[0m\n"
     ]
    },
    {
     "name": "stdout",
     "output_type": "stream",
     "text": [
      "mean_loss 0.18160\n",
      "[LightGBM] [Warning] lambda_l1 is set=0, reg_alpha=0.0 will be ignored. Current value: lambda_l1=0\n",
      "[LightGBM] [Warning] bagging_fraction is set=0.65, subsample=1.0 will be ignored. Current value: bagging_fraction=0.65\n",
      "[LightGBM] [Warning] min_gain_to_split is set=4.0, min_split_gain=0.0 will be ignored. Current value: min_gain_to_split=4.0\n",
      "[LightGBM] [Warning] lambda_l2 is set=0, reg_lambda=0.0 will be ignored. Current value: lambda_l2=0\n",
      "[LightGBM] [Warning] feature_fraction is set=0.95, colsample_bytree=1.0 will be ignored. Current value: feature_fraction=0.95\n",
      "[LightGBM] [Warning] min_data_in_leaf is set=40, min_child_samples=20 will be ignored. Current value: min_data_in_leaf=40\n",
      "[LightGBM] [Warning] bagging_freq is set=1, subsample_freq=0 will be ignored. Current value: bagging_freq=1\n"
     ]
    },
    {
     "name": "stderr",
     "output_type": "stream",
     "text": [
      "\u001b[32m[I 2022-05-08 15:25:08,483]\u001b[0m Trial 141 pruned. Trial was pruned at iteration 39.\u001b[0m\n",
      "\u001b[32m[I 2022-05-08 15:25:11,633]\u001b[0m Trial 142 finished with value: 0.18258876247033048 and parameters: {'n_estimators': 10000, 'learning_rate': 0.05, 'num_leaves': 30, 'max_depth': 10, 'min_data_in_leaf': 40, 'lambda_l1': 0, 'lambda_l2': 0, 'min_gain_to_split': 0.0, 'bagging_fraction': 0.65, 'bagging_freq': 1, 'feature_fraction': 0.95}. Best is trial 65 with value: 0.18141170011576987.\u001b[0m\n",
      "\u001b[32m[I 2022-05-08 15:25:11,745]\u001b[0m Trial 143 pruned. Trial was pruned at iteration 1.\u001b[0m\n"
     ]
    },
    {
     "name": "stdout",
     "output_type": "stream",
     "text": [
      "mean_loss 0.18259\n",
      "[LightGBM] [Warning] lambda_l1 is set=0, reg_alpha=0.0 will be ignored. Current value: lambda_l1=0\n",
      "[LightGBM] [Warning] bagging_fraction is set=0.45, subsample=1.0 will be ignored. Current value: bagging_fraction=0.45\n",
      "[LightGBM] [Warning] min_gain_to_split is set=0.0, min_split_gain=0.0 will be ignored. Current value: min_gain_to_split=0.0\n",
      "[LightGBM] [Warning] lambda_l2 is set=0, reg_lambda=0.0 will be ignored. Current value: lambda_l2=0\n",
      "[LightGBM] [Warning] feature_fraction is set=0.95, colsample_bytree=1.0 will be ignored. Current value: feature_fraction=0.95\n",
      "[LightGBM] [Warning] min_data_in_leaf is set=40, min_child_samples=20 will be ignored. Current value: min_data_in_leaf=40\n",
      "[LightGBM] [Warning] bagging_freq is set=1, subsample_freq=0 will be ignored. Current value: bagging_freq=1\n"
     ]
    },
    {
     "name": "stderr",
     "output_type": "stream",
     "text": [
      "\u001b[32m[I 2022-05-08 15:25:15,302]\u001b[0m Trial 144 finished with value: 0.18167293296153397 and parameters: {'n_estimators': 10000, 'learning_rate': 0.05, 'num_leaves': 30, 'max_depth': 12, 'min_data_in_leaf': 40, 'lambda_l1': 0, 'lambda_l2': 0, 'min_gain_to_split': 0.0, 'bagging_fraction': 0.65, 'bagging_freq': 1, 'feature_fraction': 0.95}. Best is trial 65 with value: 0.18141170011576987.\u001b[0m\n"
     ]
    },
    {
     "name": "stdout",
     "output_type": "stream",
     "text": [
      "mean_loss 0.18167\n",
      "[LightGBM] [Warning] lambda_l1 is set=0, reg_alpha=0.0 will be ignored. Current value: lambda_l1=0\n",
      "[LightGBM] [Warning] bagging_fraction is set=0.65, subsample=1.0 will be ignored. Current value: bagging_fraction=0.65\n",
      "[LightGBM] [Warning] min_gain_to_split is set=0.0, min_split_gain=0.0 will be ignored. Current value: min_gain_to_split=0.0\n",
      "[LightGBM] [Warning] lambda_l2 is set=0, reg_lambda=0.0 will be ignored. Current value: lambda_l2=0\n",
      "[LightGBM] [Warning] feature_fraction is set=0.95, colsample_bytree=1.0 will be ignored. Current value: feature_fraction=0.95\n",
      "[LightGBM] [Warning] min_data_in_leaf is set=40, min_child_samples=20 will be ignored. Current value: min_data_in_leaf=40\n",
      "[LightGBM] [Warning] bagging_freq is set=1, subsample_freq=0 will be ignored. Current value: bagging_freq=1\n"
     ]
    },
    {
     "name": "stderr",
     "output_type": "stream",
     "text": [
      "\u001b[32m[I 2022-05-08 15:25:18,337]\u001b[0m Trial 145 finished with value: 0.18160014069339817 and parameters: {'n_estimators': 10000, 'learning_rate': 0.05, 'num_leaves': 30, 'max_depth': 11, 'min_data_in_leaf': 40, 'lambda_l1': 0, 'lambda_l2': 0, 'min_gain_to_split': 0.0, 'bagging_fraction': 0.65, 'bagging_freq': 1, 'feature_fraction': 0.95}. Best is trial 65 with value: 0.18141170011576987.\u001b[0m\n",
      "\u001b[32m[I 2022-05-08 15:25:18,423]\u001b[0m Trial 146 pruned. Trial was pruned at iteration 0.\u001b[0m\n"
     ]
    },
    {
     "name": "stdout",
     "output_type": "stream",
     "text": [
      "mean_loss 0.18160\n",
      "[LightGBM] [Warning] lambda_l1 is set=100, reg_alpha=0.0 will be ignored. Current value: lambda_l1=100\n",
      "[LightGBM] [Warning] bagging_fraction is set=0.55, subsample=1.0 will be ignored. Current value: bagging_fraction=0.55\n",
      "[LightGBM] [Warning] min_gain_to_split is set=0.0, min_split_gain=0.0 will be ignored. Current value: min_gain_to_split=0.0\n",
      "[LightGBM] [Warning] lambda_l2 is set=0, reg_lambda=0.0 will be ignored. Current value: lambda_l2=0\n",
      "[LightGBM] [Warning] feature_fraction is set=0.95, colsample_bytree=1.0 will be ignored. Current value: feature_fraction=0.95\n",
      "[LightGBM] [Warning] min_data_in_leaf is set=40, min_child_samples=20 will be ignored. Current value: min_data_in_leaf=40\n",
      "[LightGBM] [Warning] bagging_freq is set=1, subsample_freq=0 will be ignored. Current value: bagging_freq=1\n"
     ]
    },
    {
     "name": "stderr",
     "output_type": "stream",
     "text": [
      "\u001b[32m[I 2022-05-08 15:25:20,822]\u001b[0m Trial 147 finished with value: 0.18160014069339817 and parameters: {'n_estimators': 10000, 'learning_rate': 0.05, 'num_leaves': 30, 'max_depth': 11, 'min_data_in_leaf': 40, 'lambda_l1': 0, 'lambda_l2': 0, 'min_gain_to_split': 0.0, 'bagging_fraction': 0.65, 'bagging_freq': 1, 'feature_fraction': 0.95}. Best is trial 65 with value: 0.18141170011576987.\u001b[0m\n",
      "\u001b[32m[I 2022-05-08 15:25:20,904]\u001b[0m Trial 148 pruned. Trial was pruned at iteration 0.\u001b[0m\n",
      "\u001b[32m[I 2022-05-08 15:25:21,010]\u001b[0m Trial 149 pruned. Trial was pruned at iteration 0.\u001b[0m\n"
     ]
    },
    {
     "name": "stdout",
     "output_type": "stream",
     "text": [
      "mean_loss 0.18160\n",
      "[LightGBM] [Warning] lambda_l1 is set=20, reg_alpha=0.0 will be ignored. Current value: lambda_l1=20\n",
      "[LightGBM] [Warning] bagging_fraction is set=0.65, subsample=1.0 will be ignored. Current value: bagging_fraction=0.65\n",
      "[LightGBM] [Warning] min_gain_to_split is set=0.0, min_split_gain=0.0 will be ignored. Current value: min_gain_to_split=0.0\n",
      "[LightGBM] [Warning] lambda_l2 is set=0, reg_lambda=0.0 will be ignored. Current value: lambda_l2=0\n",
      "[LightGBM] [Warning] feature_fraction is set=0.95, colsample_bytree=1.0 will be ignored. Current value: feature_fraction=0.95\n",
      "[LightGBM] [Warning] min_data_in_leaf is set=40, min_child_samples=20 will be ignored. Current value: min_data_in_leaf=40\n",
      "[LightGBM] [Warning] bagging_freq is set=1, subsample_freq=0 will be ignored. Current value: bagging_freq=1\n"
     ]
    },
    {
     "name": "stderr",
     "output_type": "stream",
     "text": [
      "\u001b[32m[I 2022-05-08 15:25:22,114]\u001b[0m Trial 150 pruned. Trial was pruned at iteration 98.\u001b[0m\n",
      "\u001b[32m[I 2022-05-08 15:25:23,293]\u001b[0m Trial 151 pruned. Trial was pruned at iteration 99.\u001b[0m\n",
      "\u001b[32m[I 2022-05-08 15:25:27,254]\u001b[0m Trial 152 finished with value: 0.18160014069339817 and parameters: {'n_estimators': 10000, 'learning_rate': 0.05, 'num_leaves': 30, 'max_depth': 11, 'min_data_in_leaf': 40, 'lambda_l1': 0, 'lambda_l2': 0, 'min_gain_to_split': 0.0, 'bagging_fraction': 0.65, 'bagging_freq': 1, 'feature_fraction': 0.95}. Best is trial 65 with value: 0.18141170011576987.\u001b[0m\n",
      "\u001b[32m[I 2022-05-08 15:25:27,384]\u001b[0m Trial 153 pruned. Trial was pruned at iteration 0.\u001b[0m\n"
     ]
    },
    {
     "name": "stdout",
     "output_type": "stream",
     "text": [
      "mean_loss 0.18160\n",
      "[LightGBM] [Warning] lambda_l1 is set=80, reg_alpha=0.0 will be ignored. Current value: lambda_l1=80\n",
      "[LightGBM] [Warning] bagging_fraction is set=0.65, subsample=1.0 will be ignored. Current value: bagging_fraction=0.65\n",
      "[LightGBM] [Warning] min_gain_to_split is set=0.0, min_split_gain=0.0 will be ignored. Current value: min_gain_to_split=0.0\n",
      "[LightGBM] [Warning] lambda_l2 is set=0, reg_lambda=0.0 will be ignored. Current value: lambda_l2=0\n",
      "[LightGBM] [Warning] feature_fraction is set=0.95, colsample_bytree=1.0 will be ignored. Current value: feature_fraction=0.95\n",
      "[LightGBM] [Warning] min_data_in_leaf is set=40, min_child_samples=20 will be ignored. Current value: min_data_in_leaf=40\n",
      "[LightGBM] [Warning] bagging_freq is set=1, subsample_freq=0 will be ignored. Current value: bagging_freq=1\n"
     ]
    },
    {
     "name": "stderr",
     "output_type": "stream",
     "text": [
      "\u001b[32m[I 2022-05-08 15:25:29,063]\u001b[0m Trial 154 finished with value: 0.18160014069339817 and parameters: {'n_estimators': 10000, 'learning_rate': 0.05, 'num_leaves': 30, 'max_depth': 11, 'min_data_in_leaf': 40, 'lambda_l1': 0, 'lambda_l2': 0, 'min_gain_to_split': 0.0, 'bagging_fraction': 0.65, 'bagging_freq': 1, 'feature_fraction': 0.95}. Best is trial 65 with value: 0.18141170011576987.\u001b[0m\n",
      "\u001b[32m[I 2022-05-08 15:25:29,166]\u001b[0m Trial 155 pruned. Trial was pruned at iteration 1.\u001b[0m\n"
     ]
    },
    {
     "name": "stdout",
     "output_type": "stream",
     "text": [
      "mean_loss 0.18160\n",
      "[LightGBM] [Warning] lambda_l1 is set=0, reg_alpha=0.0 will be ignored. Current value: lambda_l1=0\n",
      "[LightGBM] [Warning] bagging_fraction is set=0.45, subsample=1.0 will be ignored. Current value: bagging_fraction=0.45\n",
      "[LightGBM] [Warning] min_gain_to_split is set=0.0, min_split_gain=0.0 will be ignored. Current value: min_gain_to_split=0.0\n",
      "[LightGBM] [Warning] lambda_l2 is set=0, reg_lambda=0.0 will be ignored. Current value: lambda_l2=0\n",
      "[LightGBM] [Warning] feature_fraction is set=0.95, colsample_bytree=1.0 will be ignored. Current value: feature_fraction=0.95\n",
      "[LightGBM] [Warning] min_data_in_leaf is set=40, min_child_samples=20 will be ignored. Current value: min_data_in_leaf=40\n",
      "[LightGBM] [Warning] bagging_freq is set=1, subsample_freq=0 will be ignored. Current value: bagging_freq=1\n"
     ]
    },
    {
     "name": "stderr",
     "output_type": "stream",
     "text": [
      "\u001b[32m[I 2022-05-08 15:25:30,853]\u001b[0m Trial 156 finished with value: 0.18160014069339817 and parameters: {'n_estimators': 10000, 'learning_rate': 0.05, 'num_leaves': 30, 'max_depth': 11, 'min_data_in_leaf': 40, 'lambda_l1': 0, 'lambda_l2': 0, 'min_gain_to_split': 0.0, 'bagging_fraction': 0.65, 'bagging_freq': 1, 'feature_fraction': 0.95}. Best is trial 65 with value: 0.18141170011576987.\u001b[0m\n",
      "\u001b[32m[I 2022-05-08 15:25:30,947]\u001b[0m Trial 157 pruned. Trial was pruned at iteration 0.\u001b[0m\n"
     ]
    },
    {
     "name": "stdout",
     "output_type": "stream",
     "text": [
      "mean_loss 0.18160\n",
      "[LightGBM] [Warning] lambda_l1 is set=0, reg_alpha=0.0 will be ignored. Current value: lambda_l1=0\n",
      "[LightGBM] [Warning] bagging_fraction is set=0.65, subsample=1.0 will be ignored. Current value: bagging_fraction=0.65\n",
      "[LightGBM] [Warning] min_gain_to_split is set=0.0, min_split_gain=0.0 will be ignored. Current value: min_gain_to_split=0.0\n",
      "[LightGBM] [Warning] lambda_l2 is set=0, reg_lambda=0.0 will be ignored. Current value: lambda_l2=0\n",
      "[LightGBM] [Warning] feature_fraction is set=0.95, colsample_bytree=1.0 will be ignored. Current value: feature_fraction=0.95\n",
      "[LightGBM] [Warning] min_data_in_leaf is set=80, min_child_samples=20 will be ignored. Current value: min_data_in_leaf=80\n",
      "[LightGBM] [Warning] bagging_freq is set=1, subsample_freq=0 will be ignored. Current value: bagging_freq=1\n"
     ]
    },
    {
     "name": "stderr",
     "output_type": "stream",
     "text": [
      "\u001b[32m[I 2022-05-08 15:25:33,118]\u001b[0m Trial 158 finished with value: 0.18160014069339817 and parameters: {'n_estimators': 10000, 'learning_rate': 0.05, 'num_leaves': 30, 'max_depth': 11, 'min_data_in_leaf': 40, 'lambda_l1': 0, 'lambda_l2': 0, 'min_gain_to_split': 0.0, 'bagging_fraction': 0.65, 'bagging_freq': 1, 'feature_fraction': 0.95}. Best is trial 65 with value: 0.18141170011576987.\u001b[0m\n"
     ]
    },
    {
     "name": "stdout",
     "output_type": "stream",
     "text": [
      "mean_loss 0.18160\n",
      "[LightGBM] [Warning] lambda_l1 is set=0, reg_alpha=0.0 will be ignored. Current value: lambda_l1=0\n",
      "[LightGBM] [Warning] bagging_fraction is set=0.65, subsample=1.0 will be ignored. Current value: bagging_fraction=0.65\n",
      "[LightGBM] [Warning] min_gain_to_split is set=0.0, min_split_gain=0.0 will be ignored. Current value: min_gain_to_split=0.0\n",
      "[LightGBM] [Warning] lambda_l2 is set=0, reg_lambda=0.0 will be ignored. Current value: lambda_l2=0\n",
      "[LightGBM] [Warning] feature_fraction is set=0.95, colsample_bytree=1.0 will be ignored. Current value: feature_fraction=0.95\n",
      "[LightGBM] [Warning] min_data_in_leaf is set=40, min_child_samples=20 will be ignored. Current value: min_data_in_leaf=40\n",
      "[LightGBM] [Warning] bagging_freq is set=1, subsample_freq=0 will be ignored. Current value: bagging_freq=1\n"
     ]
    },
    {
     "name": "stderr",
     "output_type": "stream",
     "text": [
      "\u001b[32m[I 2022-05-08 15:25:33,706]\u001b[0m Trial 159 pruned. Trial was pruned at iteration 62.\u001b[0m\n",
      "\u001b[32m[I 2022-05-08 15:25:36,027]\u001b[0m Trial 160 finished with value: 0.18160014069339817 and parameters: {'n_estimators': 10000, 'learning_rate': 0.05, 'num_leaves': 30, 'max_depth': 11, 'min_data_in_leaf': 40, 'lambda_l1': 0, 'lambda_l2': 0, 'min_gain_to_split': 0.0, 'bagging_fraction': 0.65, 'bagging_freq': 1, 'feature_fraction': 0.95}. Best is trial 65 with value: 0.18141170011576987.\u001b[0m\n"
     ]
    },
    {
     "name": "stdout",
     "output_type": "stream",
     "text": [
      "mean_loss 0.18160\n",
      "[LightGBM] [Warning] lambda_l1 is set=0, reg_alpha=0.0 will be ignored. Current value: lambda_l1=0\n",
      "[LightGBM] [Warning] bagging_fraction is set=0.65, subsample=1.0 will be ignored. Current value: bagging_fraction=0.65\n",
      "[LightGBM] [Warning] min_gain_to_split is set=0.0, min_split_gain=0.0 will be ignored. Current value: min_gain_to_split=0.0\n",
      "[LightGBM] [Warning] lambda_l2 is set=0, reg_lambda=0.0 will be ignored. Current value: lambda_l2=0\n",
      "[LightGBM] [Warning] feature_fraction is set=0.95, colsample_bytree=1.0 will be ignored. Current value: feature_fraction=0.95\n",
      "[LightGBM] [Warning] min_data_in_leaf is set=40, min_child_samples=20 will be ignored. Current value: min_data_in_leaf=40\n",
      "[LightGBM] [Warning] bagging_freq is set=1, subsample_freq=0 will be ignored. Current value: bagging_freq=1\n"
     ]
    },
    {
     "name": "stderr",
     "output_type": "stream",
     "text": [
      "\u001b[32m[I 2022-05-08 15:25:37,884]\u001b[0m Trial 161 finished with value: 0.18160014069339817 and parameters: {'n_estimators': 10000, 'learning_rate': 0.05, 'num_leaves': 30, 'max_depth': 11, 'min_data_in_leaf': 40, 'lambda_l1': 0, 'lambda_l2': 0, 'min_gain_to_split': 0.0, 'bagging_fraction': 0.65, 'bagging_freq': 1, 'feature_fraction': 0.95}. Best is trial 65 with value: 0.18141170011576987.\u001b[0m\n"
     ]
    },
    {
     "name": "stdout",
     "output_type": "stream",
     "text": [
      "mean_loss 0.18160\n",
      "[LightGBM] [Warning] lambda_l1 is set=0, reg_alpha=0.0 will be ignored. Current value: lambda_l1=0\n",
      "[LightGBM] [Warning] bagging_fraction is set=0.65, subsample=1.0 will be ignored. Current value: bagging_fraction=0.65\n",
      "[LightGBM] [Warning] min_gain_to_split is set=0.0, min_split_gain=0.0 will be ignored. Current value: min_gain_to_split=0.0\n",
      "[LightGBM] [Warning] lambda_l2 is set=0, reg_lambda=0.0 will be ignored. Current value: lambda_l2=0\n",
      "[LightGBM] [Warning] feature_fraction is set=0.95, colsample_bytree=1.0 will be ignored. Current value: feature_fraction=0.95\n",
      "[LightGBM] [Warning] min_data_in_leaf is set=40, min_child_samples=20 will be ignored. Current value: min_data_in_leaf=40\n",
      "[LightGBM] [Warning] bagging_freq is set=1, subsample_freq=0 will be ignored. Current value: bagging_freq=1\n"
     ]
    },
    {
     "name": "stderr",
     "output_type": "stream",
     "text": [
      "\u001b[32m[I 2022-05-08 15:25:40,335]\u001b[0m Trial 162 finished with value: 0.18160014069339817 and parameters: {'n_estimators': 10000, 'learning_rate': 0.05, 'num_leaves': 30, 'max_depth': 11, 'min_data_in_leaf': 40, 'lambda_l1': 0, 'lambda_l2': 0, 'min_gain_to_split': 0.0, 'bagging_fraction': 0.65, 'bagging_freq': 1, 'feature_fraction': 0.95}. Best is trial 65 with value: 0.18141170011576987.\u001b[0m\n"
     ]
    },
    {
     "name": "stdout",
     "output_type": "stream",
     "text": [
      "mean_loss 0.18160\n",
      "[LightGBM] [Warning] lambda_l1 is set=0, reg_alpha=0.0 will be ignored. Current value: lambda_l1=0\n",
      "[LightGBM] [Warning] bagging_fraction is set=0.65, subsample=1.0 will be ignored. Current value: bagging_fraction=0.65\n",
      "[LightGBM] [Warning] min_gain_to_split is set=0.0, min_split_gain=0.0 will be ignored. Current value: min_gain_to_split=0.0\n",
      "[LightGBM] [Warning] lambda_l2 is set=0, reg_lambda=0.0 will be ignored. Current value: lambda_l2=0\n",
      "[LightGBM] [Warning] feature_fraction is set=0.95, colsample_bytree=1.0 will be ignored. Current value: feature_fraction=0.95\n",
      "[LightGBM] [Warning] min_data_in_leaf is set=40, min_child_samples=20 will be ignored. Current value: min_data_in_leaf=40\n",
      "[LightGBM] [Warning] bagging_freq is set=1, subsample_freq=0 will be ignored. Current value: bagging_freq=1\n"
     ]
    },
    {
     "name": "stderr",
     "output_type": "stream",
     "text": [
      "\u001b[32m[I 2022-05-08 15:25:42,520]\u001b[0m Trial 163 finished with value: 0.18160014069339817 and parameters: {'n_estimators': 10000, 'learning_rate': 0.05, 'num_leaves': 30, 'max_depth': 11, 'min_data_in_leaf': 40, 'lambda_l1': 0, 'lambda_l2': 0, 'min_gain_to_split': 0.0, 'bagging_fraction': 0.65, 'bagging_freq': 1, 'feature_fraction': 0.95}. Best is trial 65 with value: 0.18141170011576987.\u001b[0m\n"
     ]
    },
    {
     "name": "stdout",
     "output_type": "stream",
     "text": [
      "mean_loss 0.18160\n",
      "[LightGBM] [Warning] lambda_l1 is set=0, reg_alpha=0.0 will be ignored. Current value: lambda_l1=0\n",
      "[LightGBM] [Warning] bagging_fraction is set=0.65, subsample=1.0 will be ignored. Current value: bagging_fraction=0.65\n",
      "[LightGBM] [Warning] min_gain_to_split is set=0.0, min_split_gain=0.0 will be ignored. Current value: min_gain_to_split=0.0\n",
      "[LightGBM] [Warning] lambda_l2 is set=0, reg_lambda=0.0 will be ignored. Current value: lambda_l2=0\n",
      "[LightGBM] [Warning] feature_fraction is set=0.95, colsample_bytree=1.0 will be ignored. Current value: feature_fraction=0.95\n",
      "[LightGBM] [Warning] min_data_in_leaf is set=40, min_child_samples=20 will be ignored. Current value: min_data_in_leaf=40\n",
      "[LightGBM] [Warning] bagging_freq is set=1, subsample_freq=0 will be ignored. Current value: bagging_freq=1\n"
     ]
    },
    {
     "name": "stderr",
     "output_type": "stream",
     "text": [
      "\u001b[32m[I 2022-05-08 15:25:44,790]\u001b[0m Trial 164 finished with value: 0.18160014069339817 and parameters: {'n_estimators': 10000, 'learning_rate': 0.05, 'num_leaves': 30, 'max_depth': 11, 'min_data_in_leaf': 40, 'lambda_l1': 0, 'lambda_l2': 0, 'min_gain_to_split': 0.0, 'bagging_fraction': 0.65, 'bagging_freq': 1, 'feature_fraction': 0.95}. Best is trial 65 with value: 0.18141170011576987.\u001b[0m\n",
      "\u001b[32m[I 2022-05-08 15:25:44,886]\u001b[0m Trial 165 pruned. Trial was pruned at iteration 1.\u001b[0m\n",
      "\u001b[32m[I 2022-05-08 15:25:44,965]\u001b[0m Trial 166 pruned. Trial was pruned at iteration 0.\u001b[0m\n"
     ]
    },
    {
     "name": "stdout",
     "output_type": "stream",
     "text": [
      "mean_loss 0.18160\n",
      "[LightGBM] [Warning] lambda_l1 is set=0, reg_alpha=0.0 will be ignored. Current value: lambda_l1=0\n",
      "[LightGBM] [Warning] bagging_fraction is set=0.45, subsample=1.0 will be ignored. Current value: bagging_fraction=0.45\n",
      "[LightGBM] [Warning] min_gain_to_split is set=0.0, min_split_gain=0.0 will be ignored. Current value: min_gain_to_split=0.0\n",
      "[LightGBM] [Warning] lambda_l2 is set=0, reg_lambda=0.0 will be ignored. Current value: lambda_l2=0\n",
      "[LightGBM] [Warning] feature_fraction is set=0.95, colsample_bytree=1.0 will be ignored. Current value: feature_fraction=0.95\n",
      "[LightGBM] [Warning] min_data_in_leaf is set=40, min_child_samples=20 will be ignored. Current value: min_data_in_leaf=40\n",
      "[LightGBM] [Warning] bagging_freq is set=1, subsample_freq=0 will be ignored. Current value: bagging_freq=1\n"
     ]
    },
    {
     "name": "stderr",
     "output_type": "stream",
     "text": [
      "\u001b[32m[I 2022-05-08 15:25:45,071]\u001b[0m Trial 167 pruned. Trial was pruned at iteration 0.\u001b[0m\n",
      "\u001b[32m[I 2022-05-08 15:25:45,156]\u001b[0m Trial 168 pruned. Trial was pruned at iteration 0.\u001b[0m\n",
      "\u001b[32m[I 2022-05-08 15:25:45,235]\u001b[0m Trial 169 pruned. Trial was pruned at iteration 0.\u001b[0m\n",
      "\u001b[32m[I 2022-05-08 15:25:46,280]\u001b[0m Trial 170 pruned. Trial was pruned at iteration 55.\u001b[0m\n",
      "\u001b[32m[I 2022-05-08 15:25:48,583]\u001b[0m Trial 171 finished with value: 0.18160014069339817 and parameters: {'n_estimators': 10000, 'learning_rate': 0.05, 'num_leaves': 30, 'max_depth': 11, 'min_data_in_leaf': 40, 'lambda_l1': 0, 'lambda_l2': 0, 'min_gain_to_split': 0.0, 'bagging_fraction': 0.65, 'bagging_freq': 1, 'feature_fraction': 0.95}. Best is trial 65 with value: 0.18141170011576987.\u001b[0m\n"
     ]
    },
    {
     "name": "stdout",
     "output_type": "stream",
     "text": [
      "mean_loss 0.18160\n",
      "[LightGBM] [Warning] lambda_l1 is set=0, reg_alpha=0.0 will be ignored. Current value: lambda_l1=0\n",
      "[LightGBM] [Warning] bagging_fraction is set=0.65, subsample=1.0 will be ignored. Current value: bagging_fraction=0.65\n",
      "[LightGBM] [Warning] min_gain_to_split is set=0.0, min_split_gain=0.0 will be ignored. Current value: min_gain_to_split=0.0\n",
      "[LightGBM] [Warning] lambda_l2 is set=0, reg_lambda=0.0 will be ignored. Current value: lambda_l2=0\n",
      "[LightGBM] [Warning] feature_fraction is set=0.95, colsample_bytree=1.0 will be ignored. Current value: feature_fraction=0.95\n",
      "[LightGBM] [Warning] min_data_in_leaf is set=40, min_child_samples=20 will be ignored. Current value: min_data_in_leaf=40\n",
      "[LightGBM] [Warning] bagging_freq is set=1, subsample_freq=0 will be ignored. Current value: bagging_freq=1\n"
     ]
    },
    {
     "name": "stderr",
     "output_type": "stream",
     "text": [
      "\u001b[32m[I 2022-05-08 15:25:50,614]\u001b[0m Trial 172 finished with value: 0.18160014069339817 and parameters: {'n_estimators': 10000, 'learning_rate': 0.05, 'num_leaves': 30, 'max_depth': 11, 'min_data_in_leaf': 40, 'lambda_l1': 0, 'lambda_l2': 0, 'min_gain_to_split': 0.0, 'bagging_fraction': 0.65, 'bagging_freq': 1, 'feature_fraction': 0.95}. Best is trial 65 with value: 0.18141170011576987.\u001b[0m\n"
     ]
    },
    {
     "name": "stdout",
     "output_type": "stream",
     "text": [
      "mean_loss 0.18160\n",
      "[LightGBM] [Warning] lambda_l1 is set=0, reg_alpha=0.0 will be ignored. Current value: lambda_l1=0\n",
      "[LightGBM] [Warning] bagging_fraction is set=0.65, subsample=1.0 will be ignored. Current value: bagging_fraction=0.65\n",
      "[LightGBM] [Warning] min_gain_to_split is set=0.0, min_split_gain=0.0 will be ignored. Current value: min_gain_to_split=0.0\n",
      "[LightGBM] [Warning] lambda_l2 is set=0, reg_lambda=0.0 will be ignored. Current value: lambda_l2=0\n",
      "[LightGBM] [Warning] feature_fraction is set=0.95, colsample_bytree=1.0 will be ignored. Current value: feature_fraction=0.95\n",
      "[LightGBM] [Warning] min_data_in_leaf is set=40, min_child_samples=20 will be ignored. Current value: min_data_in_leaf=40\n",
      "[LightGBM] [Warning] bagging_freq is set=1, subsample_freq=0 will be ignored. Current value: bagging_freq=1\n"
     ]
    },
    {
     "name": "stderr",
     "output_type": "stream",
     "text": [
      "\u001b[32m[I 2022-05-08 15:25:50,835]\u001b[0m Trial 173 pruned. Trial was pruned at iteration 12.\u001b[0m\n",
      "\u001b[32m[I 2022-05-08 15:25:51,199]\u001b[0m Trial 174 pruned. Trial was pruned at iteration 26.\u001b[0m\n",
      "\u001b[32m[I 2022-05-08 15:25:51,501]\u001b[0m Trial 175 pruned. Trial was pruned at iteration 17.\u001b[0m\n",
      "\u001b[32m[I 2022-05-08 15:25:51,586]\u001b[0m Trial 176 pruned. Trial was pruned at iteration 0.\u001b[0m\n",
      "\u001b[32m[I 2022-05-08 15:25:51,735]\u001b[0m Trial 177 pruned. Trial was pruned at iteration 7.\u001b[0m\n",
      "\u001b[32m[I 2022-05-08 15:25:51,830]\u001b[0m Trial 178 pruned. Trial was pruned at iteration 1.\u001b[0m\n",
      "\u001b[32m[I 2022-05-08 15:25:51,909]\u001b[0m Trial 179 pruned. Trial was pruned at iteration 0.\u001b[0m\n",
      "\u001b[32m[I 2022-05-08 15:25:54,368]\u001b[0m Trial 180 finished with value: 0.18160014069339817 and parameters: {'n_estimators': 10000, 'learning_rate': 0.05, 'num_leaves': 30, 'max_depth': 11, 'min_data_in_leaf': 40, 'lambda_l1': 0, 'lambda_l2': 0, 'min_gain_to_split': 0.0, 'bagging_fraction': 0.65, 'bagging_freq': 1, 'feature_fraction': 0.95}. Best is trial 65 with value: 0.18141170011576987.\u001b[0m\n"
     ]
    },
    {
     "name": "stdout",
     "output_type": "stream",
     "text": [
      "mean_loss 0.18160\n",
      "[LightGBM] [Warning] lambda_l1 is set=0, reg_alpha=0.0 will be ignored. Current value: lambda_l1=0\n",
      "[LightGBM] [Warning] bagging_fraction is set=0.65, subsample=1.0 will be ignored. Current value: bagging_fraction=0.65\n",
      "[LightGBM] [Warning] min_gain_to_split is set=0.0, min_split_gain=0.0 will be ignored. Current value: min_gain_to_split=0.0\n",
      "[LightGBM] [Warning] lambda_l2 is set=0, reg_lambda=0.0 will be ignored. Current value: lambda_l2=0\n",
      "[LightGBM] [Warning] feature_fraction is set=0.95, colsample_bytree=1.0 will be ignored. Current value: feature_fraction=0.95\n",
      "[LightGBM] [Warning] min_data_in_leaf is set=40, min_child_samples=20 will be ignored. Current value: min_data_in_leaf=40\n",
      "[LightGBM] [Warning] bagging_freq is set=1, subsample_freq=0 will be ignored. Current value: bagging_freq=1\n"
     ]
    },
    {
     "name": "stderr",
     "output_type": "stream",
     "text": [
      "\u001b[32m[I 2022-05-08 15:25:54,662]\u001b[0m Trial 181 pruned. Trial was pruned at iteration 18.\u001b[0m\n",
      "\u001b[32m[I 2022-05-08 15:25:55,024]\u001b[0m Trial 182 pruned. Trial was pruned at iteration 28.\u001b[0m\n",
      "\u001b[32m[I 2022-05-08 15:25:57,030]\u001b[0m Trial 183 finished with value: 0.18160014069339817 and parameters: {'n_estimators': 10000, 'learning_rate': 0.05, 'num_leaves': 30, 'max_depth': 11, 'min_data_in_leaf': 40, 'lambda_l1': 0, 'lambda_l2': 0, 'min_gain_to_split': 0.0, 'bagging_fraction': 0.65, 'bagging_freq': 1, 'feature_fraction': 0.95}. Best is trial 65 with value: 0.18141170011576987.\u001b[0m\n",
      "\u001b[32m[I 2022-05-08 15:25:57,124]\u001b[0m Trial 184 pruned. Trial was pruned at iteration 0.\u001b[0m\n"
     ]
    },
    {
     "name": "stdout",
     "output_type": "stream",
     "text": [
      "mean_loss 0.18160\n",
      "[LightGBM] [Warning] lambda_l1 is set=0, reg_alpha=0.0 will be ignored. Current value: lambda_l1=0\n",
      "[LightGBM] [Warning] bagging_fraction is set=0.65, subsample=1.0 will be ignored. Current value: bagging_fraction=0.65\n",
      "[LightGBM] [Warning] min_gain_to_split is set=3.0, min_split_gain=0.0 will be ignored. Current value: min_gain_to_split=3.0\n",
      "[LightGBM] [Warning] lambda_l2 is set=0, reg_lambda=0.0 will be ignored. Current value: lambda_l2=0\n",
      "[LightGBM] [Warning] feature_fraction is set=0.95, colsample_bytree=1.0 will be ignored. Current value: feature_fraction=0.95\n",
      "[LightGBM] [Warning] min_data_in_leaf is set=40, min_child_samples=20 will be ignored. Current value: min_data_in_leaf=40\n",
      "[LightGBM] [Warning] bagging_freq is set=1, subsample_freq=0 will be ignored. Current value: bagging_freq=1\n"
     ]
    },
    {
     "name": "stderr",
     "output_type": "stream",
     "text": [
      "\u001b[32m[I 2022-05-08 15:25:59,292]\u001b[0m Trial 185 finished with value: 0.18160014069339817 and parameters: {'n_estimators': 10000, 'learning_rate': 0.05, 'num_leaves': 30, 'max_depth': 11, 'min_data_in_leaf': 40, 'lambda_l1': 0, 'lambda_l2': 0, 'min_gain_to_split': 0.0, 'bagging_fraction': 0.65, 'bagging_freq': 1, 'feature_fraction': 0.95}. Best is trial 65 with value: 0.18141170011576987.\u001b[0m\n",
      "\u001b[32m[I 2022-05-08 15:25:59,390]\u001b[0m Trial 186 pruned. Trial was pruned at iteration 0.\u001b[0m\n"
     ]
    },
    {
     "name": "stdout",
     "output_type": "stream",
     "text": [
      "mean_loss 0.18160\n",
      "[LightGBM] [Warning] lambda_l1 is set=0, reg_alpha=0.0 will be ignored. Current value: lambda_l1=0\n",
      "[LightGBM] [Warning] bagging_fraction is set=0.65, subsample=1.0 will be ignored. Current value: bagging_fraction=0.65\n",
      "[LightGBM] [Warning] min_gain_to_split is set=0.0, min_split_gain=0.0 will be ignored. Current value: min_gain_to_split=0.0\n",
      "[LightGBM] [Warning] lambda_l2 is set=0, reg_lambda=0.0 will be ignored. Current value: lambda_l2=0\n",
      "[LightGBM] [Warning] feature_fraction is set=0.95, colsample_bytree=1.0 will be ignored. Current value: feature_fraction=0.95\n",
      "[LightGBM] [Warning] min_data_in_leaf is set=80, min_child_samples=20 will be ignored. Current value: min_data_in_leaf=80\n",
      "[LightGBM] [Warning] bagging_freq is set=1, subsample_freq=0 will be ignored. Current value: bagging_freq=1\n"
     ]
    },
    {
     "name": "stderr",
     "output_type": "stream",
     "text": [
      "\u001b[32m[I 2022-05-08 15:26:01,508]\u001b[0m Trial 187 finished with value: 0.18160014069339817 and parameters: {'n_estimators': 10000, 'learning_rate': 0.05, 'num_leaves': 30, 'max_depth': 11, 'min_data_in_leaf': 40, 'lambda_l1': 0, 'lambda_l2': 0, 'min_gain_to_split': 0.0, 'bagging_fraction': 0.65, 'bagging_freq': 1, 'feature_fraction': 0.95}. Best is trial 65 with value: 0.18141170011576987.\u001b[0m\n"
     ]
    },
    {
     "name": "stdout",
     "output_type": "stream",
     "text": [
      "mean_loss 0.18160\n",
      "[LightGBM] [Warning] lambda_l1 is set=0, reg_alpha=0.0 will be ignored. Current value: lambda_l1=0\n",
      "[LightGBM] [Warning] bagging_fraction is set=0.75, subsample=1.0 will be ignored. Current value: bagging_fraction=0.75\n",
      "[LightGBM] [Warning] min_gain_to_split is set=0.0, min_split_gain=0.0 will be ignored. Current value: min_gain_to_split=0.0\n",
      "[LightGBM] [Warning] lambda_l2 is set=0, reg_lambda=0.0 will be ignored. Current value: lambda_l2=0\n",
      "[LightGBM] [Warning] feature_fraction is set=0.95, colsample_bytree=1.0 will be ignored. Current value: feature_fraction=0.95\n",
      "[LightGBM] [Warning] min_data_in_leaf is set=40, min_child_samples=20 will be ignored. Current value: min_data_in_leaf=40\n",
      "[LightGBM] [Warning] bagging_freq is set=1, subsample_freq=0 will be ignored. Current value: bagging_freq=1\n"
     ]
    },
    {
     "name": "stderr",
     "output_type": "stream",
     "text": [
      "\u001b[32m[I 2022-05-08 15:26:02,855]\u001b[0m Trial 188 pruned. Trial was pruned at iteration 68.\u001b[0m\n",
      "\u001b[32m[I 2022-05-08 15:26:02,954]\u001b[0m Trial 189 pruned. Trial was pruned at iteration 1.\u001b[0m\n",
      "\u001b[32m[I 2022-05-08 15:26:03,168]\u001b[0m Trial 190 pruned. Trial was pruned at iteration 11.\u001b[0m\n",
      "\u001b[32m[I 2022-05-08 15:26:05,138]\u001b[0m Trial 191 finished with value: 0.18160014069339817 and parameters: {'n_estimators': 10000, 'learning_rate': 0.05, 'num_leaves': 30, 'max_depth': 11, 'min_data_in_leaf': 40, 'lambda_l1': 0, 'lambda_l2': 0, 'min_gain_to_split': 0.0, 'bagging_fraction': 0.65, 'bagging_freq': 1, 'feature_fraction': 0.95}. Best is trial 65 with value: 0.18141170011576987.\u001b[0m\n"
     ]
    },
    {
     "name": "stdout",
     "output_type": "stream",
     "text": [
      "mean_loss 0.18160\n",
      "[LightGBM] [Warning] lambda_l1 is set=0, reg_alpha=0.0 will be ignored. Current value: lambda_l1=0\n",
      "[LightGBM] [Warning] bagging_fraction is set=0.65, subsample=1.0 will be ignored. Current value: bagging_fraction=0.65\n",
      "[LightGBM] [Warning] min_gain_to_split is set=0.0, min_split_gain=0.0 will be ignored. Current value: min_gain_to_split=0.0\n",
      "[LightGBM] [Warning] lambda_l2 is set=0, reg_lambda=0.0 will be ignored. Current value: lambda_l2=0\n",
      "[LightGBM] [Warning] feature_fraction is set=0.95, colsample_bytree=1.0 will be ignored. Current value: feature_fraction=0.95\n",
      "[LightGBM] [Warning] min_data_in_leaf is set=40, min_child_samples=20 will be ignored. Current value: min_data_in_leaf=40\n",
      "[LightGBM] [Warning] bagging_freq is set=1, subsample_freq=0 will be ignored. Current value: bagging_freq=1\n"
     ]
    },
    {
     "name": "stderr",
     "output_type": "stream",
     "text": [
      "\u001b[32m[I 2022-05-08 15:26:07,159]\u001b[0m Trial 192 finished with value: 0.18160014069339817 and parameters: {'n_estimators': 10000, 'learning_rate': 0.05, 'num_leaves': 30, 'max_depth': 11, 'min_data_in_leaf': 40, 'lambda_l1': 0, 'lambda_l2': 0, 'min_gain_to_split': 0.0, 'bagging_fraction': 0.65, 'bagging_freq': 1, 'feature_fraction': 0.95}. Best is trial 65 with value: 0.18141170011576987.\u001b[0m\n",
      "\u001b[32m[I 2022-05-08 15:26:07,337]\u001b[0m Trial 193 pruned. Trial was pruned at iteration 7.\u001b[0m\n"
     ]
    },
    {
     "name": "stdout",
     "output_type": "stream",
     "text": [
      "mean_loss 0.18160\n",
      "[LightGBM] [Warning] lambda_l1 is set=0, reg_alpha=0.0 will be ignored. Current value: lambda_l1=0\n",
      "[LightGBM] [Warning] bagging_fraction is set=0.65, subsample=1.0 will be ignored. Current value: bagging_fraction=0.65\n",
      "[LightGBM] [Warning] min_gain_to_split is set=0.0, min_split_gain=0.0 will be ignored. Current value: min_gain_to_split=0.0\n",
      "[LightGBM] [Warning] lambda_l2 is set=0, reg_lambda=0.0 will be ignored. Current value: lambda_l2=0\n",
      "[LightGBM] [Warning] feature_fraction is set=0.95, colsample_bytree=1.0 will be ignored. Current value: feature_fraction=0.95\n",
      "[LightGBM] [Warning] min_data_in_leaf is set=40, min_child_samples=20 will be ignored. Current value: min_data_in_leaf=40\n",
      "[LightGBM] [Warning] bagging_freq is set=1, subsample_freq=0 will be ignored. Current value: bagging_freq=1\n"
     ]
    },
    {
     "name": "stderr",
     "output_type": "stream",
     "text": [
      "\u001b[32m[I 2022-05-08 15:26:07,552]\u001b[0m Trial 194 pruned. Trial was pruned at iteration 12.\u001b[0m\n",
      "\u001b[32m[I 2022-05-08 15:26:07,756]\u001b[0m Trial 195 pruned. Trial was pruned at iteration 11.\u001b[0m\n",
      "\u001b[32m[I 2022-05-08 15:26:08,042]\u001b[0m Trial 196 pruned. Trial was pruned at iteration 17.\u001b[0m\n",
      "\u001b[32m[I 2022-05-08 15:26:08,404]\u001b[0m Trial 197 pruned. Trial was pruned at iteration 31.\u001b[0m\n",
      "\u001b[32m[I 2022-05-08 15:26:08,501]\u001b[0m Trial 198 pruned. Trial was pruned at iteration 0.\u001b[0m\n",
      "\u001b[32m[I 2022-05-08 15:26:08,647]\u001b[0m Trial 199 pruned. Trial was pruned at iteration 0.\u001b[0m\n",
      "\u001b[32m[I 2022-05-08 15:26:08,739]\u001b[0m Trial 200 pruned. Trial was pruned at iteration 0.\u001b[0m\n",
      "\u001b[32m[I 2022-05-08 15:26:10,771]\u001b[0m Trial 201 finished with value: 0.18160014069339817 and parameters: {'n_estimators': 10000, 'learning_rate': 0.05, 'num_leaves': 30, 'max_depth': 11, 'min_data_in_leaf': 40, 'lambda_l1': 0, 'lambda_l2': 0, 'min_gain_to_split': 0.0, 'bagging_fraction': 0.65, 'bagging_freq': 1, 'feature_fraction': 0.95}. Best is trial 65 with value: 0.18141170011576987.\u001b[0m\n"
     ]
    },
    {
     "name": "stdout",
     "output_type": "stream",
     "text": [
      "mean_loss 0.18160\n",
      "[LightGBM] [Warning] lambda_l1 is set=0, reg_alpha=0.0 will be ignored. Current value: lambda_l1=0\n",
      "[LightGBM] [Warning] bagging_fraction is set=0.65, subsample=1.0 will be ignored. Current value: bagging_fraction=0.65\n",
      "[LightGBM] [Warning] min_gain_to_split is set=0.0, min_split_gain=0.0 will be ignored. Current value: min_gain_to_split=0.0\n",
      "[LightGBM] [Warning] lambda_l2 is set=0, reg_lambda=0.0 will be ignored. Current value: lambda_l2=0\n",
      "[LightGBM] [Warning] feature_fraction is set=0.95, colsample_bytree=1.0 will be ignored. Current value: feature_fraction=0.95\n",
      "[LightGBM] [Warning] min_data_in_leaf is set=40, min_child_samples=20 will be ignored. Current value: min_data_in_leaf=40\n",
      "[LightGBM] [Warning] bagging_freq is set=1, subsample_freq=0 will be ignored. Current value: bagging_freq=1\n"
     ]
    },
    {
     "name": "stderr",
     "output_type": "stream",
     "text": [
      "\u001b[32m[I 2022-05-08 15:26:12,512]\u001b[0m Trial 202 finished with value: 0.18160014069339817 and parameters: {'n_estimators': 10000, 'learning_rate': 0.05, 'num_leaves': 30, 'max_depth': 11, 'min_data_in_leaf': 40, 'lambda_l1': 0, 'lambda_l2': 0, 'min_gain_to_split': 0.0, 'bagging_fraction': 0.65, 'bagging_freq': 1, 'feature_fraction': 0.95}. Best is trial 65 with value: 0.18141170011576987.\u001b[0m\n"
     ]
    },
    {
     "name": "stdout",
     "output_type": "stream",
     "text": [
      "mean_loss 0.18160\n",
      "[LightGBM] [Warning] lambda_l1 is set=0, reg_alpha=0.0 will be ignored. Current value: lambda_l1=0\n",
      "[LightGBM] [Warning] bagging_fraction is set=0.65, subsample=1.0 will be ignored. Current value: bagging_fraction=0.65\n",
      "[LightGBM] [Warning] min_gain_to_split is set=0.0, min_split_gain=0.0 will be ignored. Current value: min_gain_to_split=0.0\n",
      "[LightGBM] [Warning] lambda_l2 is set=0, reg_lambda=0.0 will be ignored. Current value: lambda_l2=0\n",
      "[LightGBM] [Warning] feature_fraction is set=0.95, colsample_bytree=1.0 will be ignored. Current value: feature_fraction=0.95\n",
      "[LightGBM] [Warning] min_data_in_leaf is set=40, min_child_samples=20 will be ignored. Current value: min_data_in_leaf=40\n",
      "[LightGBM] [Warning] bagging_freq is set=1, subsample_freq=0 will be ignored. Current value: bagging_freq=1\n"
     ]
    },
    {
     "name": "stderr",
     "output_type": "stream",
     "text": [
      "\u001b[32m[I 2022-05-08 15:26:13,373]\u001b[0m Trial 203 pruned. Trial was pruned at iteration 72.\u001b[0m\n",
      "\u001b[32m[I 2022-05-08 15:26:13,548]\u001b[0m Trial 204 pruned. Trial was pruned at iteration 11.\u001b[0m\n",
      "\u001b[32m[I 2022-05-08 15:26:13,764]\u001b[0m Trial 205 pruned. Trial was pruned at iteration 12.\u001b[0m\n",
      "\u001b[32m[I 2022-05-08 15:26:15,398]\u001b[0m Trial 206 pruned. Trial was pruned at iteration 63.\u001b[0m\n",
      "\u001b[32m[I 2022-05-08 15:26:15,611]\u001b[0m Trial 207 pruned. Trial was pruned at iteration 7.\u001b[0m\n",
      "\u001b[32m[I 2022-05-08 15:26:15,709]\u001b[0m Trial 208 pruned. Trial was pruned at iteration 1.\u001b[0m\n",
      "\u001b[32m[I 2022-05-08 15:26:15,812]\u001b[0m Trial 209 pruned. Trial was pruned at iteration 0.\u001b[0m\n",
      "\u001b[32m[I 2022-05-08 15:26:16,605]\u001b[0m Trial 210 pruned. Trial was pruned at iteration 72.\u001b[0m\n",
      "\u001b[32m[I 2022-05-08 15:26:16,999]\u001b[0m Trial 211 pruned. Trial was pruned at iteration 33.\u001b[0m\n",
      "\u001b[32m[I 2022-05-08 15:26:17,183]\u001b[0m Trial 212 pruned. Trial was pruned at iteration 19.\u001b[0m\n",
      "\u001b[32m[I 2022-05-08 15:26:17,282]\u001b[0m Trial 213 pruned. Trial was pruned at iteration 1.\u001b[0m\n",
      "\u001b[32m[I 2022-05-08 15:26:17,568]\u001b[0m Trial 214 pruned. Trial was pruned at iteration 18.\u001b[0m\n",
      "\u001b[32m[I 2022-05-08 15:26:17,736]\u001b[0m Trial 215 pruned. Trial was pruned at iteration 8.\u001b[0m\n",
      "\u001b[32m[I 2022-05-08 15:26:17,827]\u001b[0m Trial 216 pruned. Trial was pruned at iteration 0.\u001b[0m\n",
      "\u001b[32m[I 2022-05-08 15:26:18,525]\u001b[0m Trial 217 pruned. Trial was pruned at iteration 54.\u001b[0m\n",
      "\u001b[32m[I 2022-05-08 15:26:20,011]\u001b[0m Trial 218 finished with value: 0.18160014069339817 and parameters: {'n_estimators': 10000, 'learning_rate': 0.05, 'num_leaves': 30, 'max_depth': 11, 'min_data_in_leaf': 40, 'lambda_l1': 0, 'lambda_l2': 0, 'min_gain_to_split': 0.0, 'bagging_fraction': 0.65, 'bagging_freq': 1, 'feature_fraction': 0.95}. Best is trial 65 with value: 0.18141170011576987.\u001b[0m\n",
      "\u001b[32m[I 2022-05-08 15:26:20,207]\u001b[0m Trial 219 pruned. Trial was pruned at iteration 7.\u001b[0m\n"
     ]
    },
    {
     "name": "stdout",
     "output_type": "stream",
     "text": [
      "mean_loss 0.18160\n",
      "[LightGBM] [Warning] lambda_l1 is set=0, reg_alpha=0.0 will be ignored. Current value: lambda_l1=0\n",
      "[LightGBM] [Warning] bagging_fraction is set=0.65, subsample=1.0 will be ignored. Current value: bagging_fraction=0.65\n",
      "[LightGBM] [Warning] min_gain_to_split is set=0.0, min_split_gain=0.0 will be ignored. Current value: min_gain_to_split=0.0\n",
      "[LightGBM] [Warning] lambda_l2 is set=0, reg_lambda=0.0 will be ignored. Current value: lambda_l2=0\n",
      "[LightGBM] [Warning] feature_fraction is set=0.95, colsample_bytree=1.0 will be ignored. Current value: feature_fraction=0.95\n",
      "[LightGBM] [Warning] min_data_in_leaf is set=40, min_child_samples=20 will be ignored. Current value: min_data_in_leaf=40\n",
      "[LightGBM] [Warning] bagging_freq is set=1, subsample_freq=0 will be ignored. Current value: bagging_freq=1\n"
     ]
    },
    {
     "name": "stderr",
     "output_type": "stream",
     "text": [
      "\u001b[32m[I 2022-05-08 15:26:20,392]\u001b[0m Trial 220 pruned. Trial was pruned at iteration 7.\u001b[0m\n",
      "\u001b[32m[I 2022-05-08 15:26:22,475]\u001b[0m Trial 221 finished with value: 0.18160014069339817 and parameters: {'n_estimators': 10000, 'learning_rate': 0.05, 'num_leaves': 30, 'max_depth': 11, 'min_data_in_leaf': 40, 'lambda_l1': 0, 'lambda_l2': 0, 'min_gain_to_split': 0.0, 'bagging_fraction': 0.65, 'bagging_freq': 1, 'feature_fraction': 0.95}. Best is trial 65 with value: 0.18141170011576987.\u001b[0m\n",
      "\u001b[32m[I 2022-05-08 15:26:22,672]\u001b[0m Trial 222 pruned. Trial was pruned at iteration 12.\u001b[0m\n"
     ]
    },
    {
     "name": "stdout",
     "output_type": "stream",
     "text": [
      "mean_loss 0.18160\n",
      "[LightGBM] [Warning] lambda_l1 is set=0, reg_alpha=0.0 will be ignored. Current value: lambda_l1=0\n",
      "[LightGBM] [Warning] bagging_fraction is set=0.65, subsample=1.0 will be ignored. Current value: bagging_fraction=0.65\n",
      "[LightGBM] [Warning] min_gain_to_split is set=0.0, min_split_gain=0.0 will be ignored. Current value: min_gain_to_split=0.0\n",
      "[LightGBM] [Warning] lambda_l2 is set=0, reg_lambda=0.0 will be ignored. Current value: lambda_l2=0\n",
      "[LightGBM] [Warning] feature_fraction is set=0.95, colsample_bytree=1.0 will be ignored. Current value: feature_fraction=0.95\n",
      "[LightGBM] [Warning] min_data_in_leaf is set=40, min_child_samples=20 will be ignored. Current value: min_data_in_leaf=40\n",
      "[LightGBM] [Warning] bagging_freq is set=1, subsample_freq=0 will be ignored. Current value: bagging_freq=1\n"
     ]
    },
    {
     "name": "stderr",
     "output_type": "stream",
     "text": [
      "\u001b[32m[I 2022-05-08 15:26:22,808]\u001b[0m Trial 223 pruned. Trial was pruned at iteration 4.\u001b[0m\n",
      "\u001b[32m[I 2022-05-08 15:26:23,262]\u001b[0m Trial 224 pruned. Trial was pruned at iteration 32.\u001b[0m\n",
      "\u001b[32m[I 2022-05-08 15:26:23,715]\u001b[0m Trial 225 pruned. Trial was pruned at iteration 35.\u001b[0m\n",
      "\u001b[32m[I 2022-05-08 15:26:23,808]\u001b[0m Trial 226 pruned. Trial was pruned at iteration 0.\u001b[0m\n",
      "\u001b[32m[I 2022-05-08 15:26:23,902]\u001b[0m Trial 227 pruned. Trial was pruned at iteration 0.\u001b[0m\n",
      "\u001b[32m[I 2022-05-08 15:26:24,100]\u001b[0m Trial 228 pruned. Trial was pruned at iteration 11.\u001b[0m\n",
      "\u001b[32m[I 2022-05-08 15:26:24,244]\u001b[0m Trial 229 pruned. Trial was pruned at iteration 3.\u001b[0m\n",
      "\u001b[32m[I 2022-05-08 15:26:26,323]\u001b[0m Trial 230 finished with value: 0.18160014069339817 and parameters: {'n_estimators': 10000, 'learning_rate': 0.05, 'num_leaves': 30, 'max_depth': 11, 'min_data_in_leaf': 40, 'lambda_l1': 0, 'lambda_l2': 0, 'min_gain_to_split': 0.0, 'bagging_fraction': 0.65, 'bagging_freq': 1, 'feature_fraction': 0.95}. Best is trial 65 with value: 0.18141170011576987.\u001b[0m\n"
     ]
    },
    {
     "name": "stdout",
     "output_type": "stream",
     "text": [
      "mean_loss 0.18160\n",
      "[LightGBM] [Warning] lambda_l1 is set=0, reg_alpha=0.0 will be ignored. Current value: lambda_l1=0\n",
      "[LightGBM] [Warning] bagging_fraction is set=0.65, subsample=1.0 will be ignored. Current value: bagging_fraction=0.65\n",
      "[LightGBM] [Warning] min_gain_to_split is set=0.0, min_split_gain=0.0 will be ignored. Current value: min_gain_to_split=0.0\n",
      "[LightGBM] [Warning] lambda_l2 is set=0, reg_lambda=0.0 will be ignored. Current value: lambda_l2=0\n",
      "[LightGBM] [Warning] feature_fraction is set=0.95, colsample_bytree=1.0 will be ignored. Current value: feature_fraction=0.95\n",
      "[LightGBM] [Warning] min_data_in_leaf is set=40, min_child_samples=20 will be ignored. Current value: min_data_in_leaf=40\n",
      "[LightGBM] [Warning] bagging_freq is set=1, subsample_freq=0 will be ignored. Current value: bagging_freq=1\n"
     ]
    },
    {
     "name": "stderr",
     "output_type": "stream",
     "text": [
      "\u001b[32m[I 2022-05-08 15:26:26,766]\u001b[0m Trial 231 pruned. Trial was pruned at iteration 23.\u001b[0m\n",
      "\u001b[32m[I 2022-05-08 15:26:28,844]\u001b[0m Trial 232 finished with value: 0.18160014069339817 and parameters: {'n_estimators': 10000, 'learning_rate': 0.05, 'num_leaves': 30, 'max_depth': 11, 'min_data_in_leaf': 40, 'lambda_l1': 0, 'lambda_l2': 0, 'min_gain_to_split': 0.0, 'bagging_fraction': 0.65, 'bagging_freq': 1, 'feature_fraction': 0.95}. Best is trial 65 with value: 0.18141170011576987.\u001b[0m\n"
     ]
    },
    {
     "name": "stdout",
     "output_type": "stream",
     "text": [
      "mean_loss 0.18160\n",
      "[LightGBM] [Warning] lambda_l1 is set=0, reg_alpha=0.0 will be ignored. Current value: lambda_l1=0\n",
      "[LightGBM] [Warning] bagging_fraction is set=0.8500000000000001, subsample=1.0 will be ignored. Current value: bagging_fraction=0.8500000000000001\n",
      "[LightGBM] [Warning] min_gain_to_split is set=0.0, min_split_gain=0.0 will be ignored. Current value: min_gain_to_split=0.0\n",
      "[LightGBM] [Warning] lambda_l2 is set=0, reg_lambda=0.0 will be ignored. Current value: lambda_l2=0\n",
      "[LightGBM] [Warning] feature_fraction is set=0.95, colsample_bytree=1.0 will be ignored. Current value: feature_fraction=0.95\n",
      "[LightGBM] [Warning] min_data_in_leaf is set=40, min_child_samples=20 will be ignored. Current value: min_data_in_leaf=40\n",
      "[LightGBM] [Warning] bagging_freq is set=1, subsample_freq=0 will be ignored. Current value: bagging_freq=1\n"
     ]
    },
    {
     "name": "stderr",
     "output_type": "stream",
     "text": [
      "\u001b[32m[I 2022-05-08 15:26:29,504]\u001b[0m Trial 233 pruned. Trial was pruned at iteration 64.\u001b[0m\n",
      "\u001b[32m[I 2022-05-08 15:26:31,619]\u001b[0m Trial 234 pruned. Trial was pruned at iteration 63.\u001b[0m\n",
      "\u001b[32m[I 2022-05-08 15:26:31,837]\u001b[0m Trial 235 pruned. Trial was pruned at iteration 12.\u001b[0m\n",
      "\u001b[32m[I 2022-05-08 15:26:32,056]\u001b[0m Trial 236 pruned. Trial was pruned at iteration 15.\u001b[0m\n",
      "\u001b[32m[I 2022-05-08 15:26:32,246]\u001b[0m Trial 237 pruned. Trial was pruned at iteration 7.\u001b[0m\n",
      "\u001b[32m[I 2022-05-08 15:26:32,659]\u001b[0m Trial 238 pruned. Trial was pruned at iteration 33.\u001b[0m\n",
      "\u001b[32m[I 2022-05-08 15:26:32,767]\u001b[0m Trial 239 pruned. Trial was pruned at iteration 0.\u001b[0m\n",
      "\u001b[32m[I 2022-05-08 15:26:32,854]\u001b[0m Trial 240 pruned. Trial was pruned at iteration 0.\u001b[0m\n",
      "\u001b[32m[I 2022-05-08 15:26:33,341]\u001b[0m Trial 241 pruned. Trial was pruned at iteration 28.\u001b[0m\n",
      "\u001b[32m[I 2022-05-08 15:26:33,498]\u001b[0m Trial 242 pruned. Trial was pruned at iteration 8.\u001b[0m\n",
      "\u001b[32m[I 2022-05-08 15:26:33,584]\u001b[0m Trial 243 pruned. Trial was pruned at iteration 0.\u001b[0m\n",
      "\u001b[32m[I 2022-05-08 15:26:33,860]\u001b[0m Trial 244 pruned. Trial was pruned at iteration 33.\u001b[0m\n",
      "\u001b[32m[I 2022-05-08 15:26:36,057]\u001b[0m Trial 245 finished with value: 0.18160014069339817 and parameters: {'n_estimators': 10000, 'learning_rate': 0.05, 'num_leaves': 30, 'max_depth': 11, 'min_data_in_leaf': 40, 'lambda_l1': 0, 'lambda_l2': 0, 'min_gain_to_split': 0.0, 'bagging_fraction': 0.65, 'bagging_freq': 1, 'feature_fraction': 0.95}. Best is trial 65 with value: 0.18141170011576987.\u001b[0m\n"
     ]
    },
    {
     "name": "stdout",
     "output_type": "stream",
     "text": [
      "mean_loss 0.18160\n",
      "[LightGBM] [Warning] lambda_l1 is set=0, reg_alpha=0.0 will be ignored. Current value: lambda_l1=0\n",
      "[LightGBM] [Warning] bagging_fraction is set=0.65, subsample=1.0 will be ignored. Current value: bagging_fraction=0.65\n",
      "[LightGBM] [Warning] min_gain_to_split is set=0.0, min_split_gain=0.0 will be ignored. Current value: min_gain_to_split=0.0\n",
      "[LightGBM] [Warning] lambda_l2 is set=0, reg_lambda=0.0 will be ignored. Current value: lambda_l2=0\n",
      "[LightGBM] [Warning] feature_fraction is set=0.95, colsample_bytree=1.0 will be ignored. Current value: feature_fraction=0.95\n",
      "[LightGBM] [Warning] min_data_in_leaf is set=40, min_child_samples=20 will be ignored. Current value: min_data_in_leaf=40\n",
      "[LightGBM] [Warning] bagging_freq is set=1, subsample_freq=0 will be ignored. Current value: bagging_freq=1\n"
     ]
    },
    {
     "name": "stderr",
     "output_type": "stream",
     "text": [
      "\u001b[32m[I 2022-05-08 15:26:36,326]\u001b[0m Trial 246 pruned. Trial was pruned at iteration 15.\u001b[0m\n",
      "\u001b[32m[I 2022-05-08 15:26:36,862]\u001b[0m Trial 247 pruned. Trial was pruned at iteration 35.\u001b[0m\n",
      "\u001b[32m[I 2022-05-08 15:26:37,137]\u001b[0m Trial 248 pruned. Trial was pruned at iteration 15.\u001b[0m\n",
      "\u001b[32m[I 2022-05-08 15:26:37,903]\u001b[0m Trial 249 pruned. Trial was pruned at iteration 54.\u001b[0m\n",
      "\u001b[32m[I 2022-05-08 15:26:38,012]\u001b[0m Trial 250 pruned. Trial was pruned at iteration 1.\u001b[0m\n",
      "\u001b[32m[I 2022-05-08 15:26:38,366]\u001b[0m Trial 251 pruned. Trial was pruned at iteration 16.\u001b[0m\n",
      "\u001b[32m[I 2022-05-08 15:26:38,469]\u001b[0m Trial 252 pruned. Trial was pruned at iteration 0.\u001b[0m\n",
      "\u001b[32m[I 2022-05-08 15:26:38,611]\u001b[0m Trial 253 pruned. Trial was pruned at iteration 3.\u001b[0m\n",
      "\u001b[32m[I 2022-05-08 15:26:38,712]\u001b[0m Trial 254 pruned. Trial was pruned at iteration 0.\u001b[0m\n",
      "\u001b[32m[I 2022-05-08 15:26:38,924]\u001b[0m Trial 255 pruned. Trial was pruned at iteration 12.\u001b[0m\n",
      "\u001b[32m[I 2022-05-08 15:26:39,025]\u001b[0m Trial 256 pruned. Trial was pruned at iteration 0.\u001b[0m\n",
      "\u001b[32m[I 2022-05-08 15:26:39,845]\u001b[0m Trial 257 pruned. Trial was pruned at iteration 54.\u001b[0m\n",
      "\u001b[32m[I 2022-05-08 15:26:40,164]\u001b[0m Trial 258 pruned. Trial was pruned at iteration 16.\u001b[0m\n",
      "\u001b[32m[I 2022-05-08 15:26:40,272]\u001b[0m Trial 259 pruned. Trial was pruned at iteration 1.\u001b[0m\n",
      "\u001b[32m[I 2022-05-08 15:26:40,371]\u001b[0m Trial 260 pruned. Trial was pruned at iteration 0.\u001b[0m\n",
      "\u001b[32m[I 2022-05-08 15:26:40,466]\u001b[0m Trial 261 pruned. Trial was pruned at iteration 0.\u001b[0m\n",
      "\u001b[32m[I 2022-05-08 15:26:41,419]\u001b[0m Trial 262 pruned. Trial was pruned at iteration 64.\u001b[0m\n",
      "\u001b[32m[I 2022-05-08 15:26:43,371]\u001b[0m Trial 263 finished with value: 0.18160014069339817 and parameters: {'n_estimators': 10000, 'learning_rate': 0.05, 'num_leaves': 30, 'max_depth': 11, 'min_data_in_leaf': 40, 'lambda_l1': 0, 'lambda_l2': 0, 'min_gain_to_split': 0.0, 'bagging_fraction': 0.65, 'bagging_freq': 1, 'feature_fraction': 0.95}. Best is trial 65 with value: 0.18141170011576987.\u001b[0m\n"
     ]
    },
    {
     "name": "stdout",
     "output_type": "stream",
     "text": [
      "mean_loss 0.18160\n",
      "[LightGBM] [Warning] lambda_l1 is set=0, reg_alpha=0.0 will be ignored. Current value: lambda_l1=0\n",
      "[LightGBM] [Warning] bagging_fraction is set=0.65, subsample=1.0 will be ignored. Current value: bagging_fraction=0.65\n",
      "[LightGBM] [Warning] min_gain_to_split is set=0.0, min_split_gain=0.0 will be ignored. Current value: min_gain_to_split=0.0\n",
      "[LightGBM] [Warning] lambda_l2 is set=0, reg_lambda=0.0 will be ignored. Current value: lambda_l2=0\n",
      "[LightGBM] [Warning] feature_fraction is set=0.95, colsample_bytree=1.0 will be ignored. Current value: feature_fraction=0.95\n",
      "[LightGBM] [Warning] min_data_in_leaf is set=40, min_child_samples=20 will be ignored. Current value: min_data_in_leaf=40\n",
      "[LightGBM] [Warning] bagging_freq is set=1, subsample_freq=0 will be ignored. Current value: bagging_freq=1\n"
     ]
    },
    {
     "name": "stderr",
     "output_type": "stream",
     "text": [
      "\u001b[32m[I 2022-05-08 15:26:44,398]\u001b[0m Trial 264 pruned. Trial was pruned at iteration 54.\u001b[0m\n",
      "\u001b[32m[I 2022-05-08 15:26:44,513]\u001b[0m Trial 265 pruned. Trial was pruned at iteration 1.\u001b[0m\n",
      "\u001b[32m[I 2022-05-08 15:26:44,688]\u001b[0m Trial 266 pruned. Trial was pruned at iteration 0.\u001b[0m\n",
      "\u001b[32m[I 2022-05-08 15:26:44,998]\u001b[0m Trial 267 pruned. Trial was pruned at iteration 25.\u001b[0m\n",
      "\u001b[32m[I 2022-05-08 15:26:45,127]\u001b[0m Trial 268 pruned. Trial was pruned at iteration 2.\u001b[0m\n",
      "\u001b[32m[I 2022-05-08 15:26:45,265]\u001b[0m Trial 269 pruned. Trial was pruned at iteration 3.\u001b[0m\n",
      "\u001b[32m[I 2022-05-08 15:26:45,373]\u001b[0m Trial 270 pruned. Trial was pruned at iteration 0.\u001b[0m\n",
      "\u001b[32m[I 2022-05-08 15:26:45,495]\u001b[0m Trial 271 pruned. Trial was pruned at iteration 0.\u001b[0m\n",
      "\u001b[32m[I 2022-05-08 15:26:45,599]\u001b[0m Trial 272 pruned. Trial was pruned at iteration 0.\u001b[0m\n",
      "\u001b[32m[I 2022-05-08 15:26:45,974]\u001b[0m Trial 273 pruned. Trial was pruned at iteration 27.\u001b[0m\n",
      "\u001b[32m[I 2022-05-08 15:26:46,095]\u001b[0m Trial 274 pruned. Trial was pruned at iteration 1.\u001b[0m\n",
      "\u001b[32m[I 2022-05-08 15:26:46,230]\u001b[0m Trial 275 pruned. Trial was pruned at iteration 0.\u001b[0m\n",
      "\u001b[32m[I 2022-05-08 15:26:46,342]\u001b[0m Trial 276 pruned. Trial was pruned at iteration 0.\u001b[0m\n",
      "\u001b[32m[I 2022-05-08 15:26:46,720]\u001b[0m Trial 277 pruned. Trial was pruned at iteration 37.\u001b[0m\n",
      "\u001b[32m[I 2022-05-08 15:26:46,825]\u001b[0m Trial 278 pruned. Trial was pruned at iteration 0.\u001b[0m\n",
      "\u001b[32m[I 2022-05-08 15:26:46,955]\u001b[0m Trial 279 pruned. Trial was pruned at iteration 2.\u001b[0m\n",
      "\u001b[32m[I 2022-05-08 15:26:47,060]\u001b[0m Trial 280 pruned. Trial was pruned at iteration 0.\u001b[0m\n",
      "\u001b[32m[I 2022-05-08 15:26:47,952]\u001b[0m Trial 281 pruned. Trial was pruned at iteration 69.\u001b[0m\n",
      "\u001b[32m[I 2022-05-08 15:26:48,152]\u001b[0m Trial 282 pruned. Trial was pruned at iteration 1.\u001b[0m\n",
      "\u001b[32m[I 2022-05-08 15:26:48,299]\u001b[0m Trial 283 pruned. Trial was pruned at iteration 1.\u001b[0m\n",
      "\u001b[32m[I 2022-05-08 15:26:48,398]\u001b[0m Trial 284 pruned. Trial was pruned at iteration 0.\u001b[0m\n",
      "\u001b[32m[I 2022-05-08 15:26:48,498]\u001b[0m Trial 285 pruned. Trial was pruned at iteration 0.\u001b[0m\n",
      "\u001b[32m[I 2022-05-08 15:26:48,637]\u001b[0m Trial 286 pruned. Trial was pruned at iteration 0.\u001b[0m\n",
      "\u001b[32m[I 2022-05-08 15:26:48,778]\u001b[0m Trial 287 pruned. Trial was pruned at iteration 0.\u001b[0m\n",
      "\u001b[32m[I 2022-05-08 15:26:48,901]\u001b[0m Trial 288 pruned. Trial was pruned at iteration 2.\u001b[0m\n",
      "\u001b[32m[I 2022-05-08 15:26:49,020]\u001b[0m Trial 289 pruned. Trial was pruned at iteration 0.\u001b[0m\n",
      "\u001b[32m[I 2022-05-08 15:26:49,129]\u001b[0m Trial 290 pruned. Trial was pruned at iteration 0.\u001b[0m\n",
      "\u001b[32m[I 2022-05-08 15:26:49,245]\u001b[0m Trial 291 pruned. Trial was pruned at iteration 0.\u001b[0m\n",
      "\u001b[32m[I 2022-05-08 15:26:49,341]\u001b[0m Trial 292 pruned. Trial was pruned at iteration 0.\u001b[0m\n",
      "\u001b[32m[I 2022-05-08 15:26:49,665]\u001b[0m Trial 293 pruned. Trial was pruned at iteration 23.\u001b[0m\n",
      "\u001b[32m[I 2022-05-08 15:26:49,762]\u001b[0m Trial 294 pruned. Trial was pruned at iteration 0.\u001b[0m\n",
      "\u001b[32m[I 2022-05-08 15:26:49,892]\u001b[0m Trial 295 pruned. Trial was pruned at iteration 0.\u001b[0m\n",
      "\u001b[32m[I 2022-05-08 15:26:50,021]\u001b[0m Trial 296 pruned. Trial was pruned at iteration 2.\u001b[0m\n",
      "\u001b[32m[I 2022-05-08 15:26:50,214]\u001b[0m Trial 297 pruned. Trial was pruned at iteration 0.\u001b[0m\n",
      "\u001b[32m[I 2022-05-08 15:26:51,197]\u001b[0m Trial 298 pruned. Trial was pruned at iteration 61.\u001b[0m\n",
      "\u001b[32m[I 2022-05-08 15:26:51,316]\u001b[0m Trial 299 pruned. Trial was pruned at iteration 0.\u001b[0m\n",
      "\u001b[32m[I 2022-05-08 15:26:52,458]\u001b[0m Trial 300 pruned. Trial was pruned at iteration 54.\u001b[0m\n",
      "\u001b[32m[I 2022-05-08 15:26:52,589]\u001b[0m Trial 301 pruned. Trial was pruned at iteration 1.\u001b[0m\n",
      "\u001b[32m[I 2022-05-08 15:26:52,727]\u001b[0m Trial 302 pruned. Trial was pruned at iteration 0.\u001b[0m\n",
      "\u001b[32m[I 2022-05-08 15:26:53,104]\u001b[0m Trial 303 pruned. Trial was pruned at iteration 18.\u001b[0m\n",
      "\u001b[32m[I 2022-05-08 15:26:53,235]\u001b[0m Trial 304 pruned. Trial was pruned at iteration 1.\u001b[0m\n",
      "\u001b[32m[I 2022-05-08 15:26:53,487]\u001b[0m Trial 305 pruned. Trial was pruned at iteration 12.\u001b[0m\n",
      "\u001b[32m[I 2022-05-08 15:26:53,694]\u001b[0m Trial 306 pruned. Trial was pruned at iteration 11.\u001b[0m\n",
      "\u001b[32m[I 2022-05-08 15:26:55,371]\u001b[0m Trial 307 pruned. Trial was pruned at iteration 50.\u001b[0m\n",
      "\u001b[32m[I 2022-05-08 15:26:55,504]\u001b[0m Trial 308 pruned. Trial was pruned at iteration 1.\u001b[0m\n",
      "\u001b[32m[I 2022-05-08 15:26:55,606]\u001b[0m Trial 309 pruned. Trial was pruned at iteration 0.\u001b[0m\n",
      "\u001b[32m[I 2022-05-08 15:26:55,719]\u001b[0m Trial 310 pruned. Trial was pruned at iteration 0.\u001b[0m\n",
      "\u001b[32m[I 2022-05-08 15:26:56,691]\u001b[0m Trial 311 pruned. Trial was pruned at iteration 66.\u001b[0m\n",
      "\u001b[32m[I 2022-05-08 15:26:56,794]\u001b[0m Trial 312 pruned. Trial was pruned at iteration 0.\u001b[0m\n",
      "\u001b[32m[I 2022-05-08 15:26:56,907]\u001b[0m Trial 313 pruned. Trial was pruned at iteration 2.\u001b[0m\n",
      "\u001b[32m[I 2022-05-08 15:26:57,078]\u001b[0m Trial 314 pruned. Trial was pruned at iteration 12.\u001b[0m\n",
      "\u001b[32m[I 2022-05-08 15:26:57,229]\u001b[0m Trial 315 pruned. Trial was pruned at iteration 7.\u001b[0m\n",
      "\u001b[32m[I 2022-05-08 15:26:57,333]\u001b[0m Trial 316 pruned. Trial was pruned at iteration 0.\u001b[0m\n",
      "\u001b[32m[I 2022-05-08 15:26:57,436]\u001b[0m Trial 317 pruned. Trial was pruned at iteration 0.\u001b[0m\n",
      "\u001b[32m[I 2022-05-08 15:26:57,537]\u001b[0m Trial 318 pruned. Trial was pruned at iteration 0.\u001b[0m\n",
      "\u001b[32m[I 2022-05-08 15:26:57,923]\u001b[0m Trial 319 pruned. Trial was pruned at iteration 19.\u001b[0m\n",
      "\u001b[32m[I 2022-05-08 15:26:58,025]\u001b[0m Trial 320 pruned. Trial was pruned at iteration 0.\u001b[0m\n",
      "\u001b[32m[I 2022-05-08 15:26:58,128]\u001b[0m Trial 321 pruned. Trial was pruned at iteration 0.\u001b[0m\n",
      "\u001b[32m[I 2022-05-08 15:26:58,246]\u001b[0m Trial 322 pruned. Trial was pruned at iteration 1.\u001b[0m\n",
      "\u001b[32m[I 2022-05-08 15:26:58,471]\u001b[0m Trial 323 pruned. Trial was pruned at iteration 12.\u001b[0m\n",
      "\u001b[32m[I 2022-05-08 15:26:58,794]\u001b[0m Trial 324 pruned. Trial was pruned at iteration 5.\u001b[0m\n",
      "\u001b[32m[I 2022-05-08 15:26:58,908]\u001b[0m Trial 325 pruned. Trial was pruned at iteration 0.\u001b[0m\n",
      "\u001b[32m[I 2022-05-08 15:26:59,018]\u001b[0m Trial 326 pruned. Trial was pruned at iteration 0.\u001b[0m\n",
      "\u001b[32m[I 2022-05-08 15:27:01,035]\u001b[0m Trial 327 finished with value: 0.18160014069339817 and parameters: {'n_estimators': 10000, 'learning_rate': 0.05, 'num_leaves': 30, 'max_depth': 11, 'min_data_in_leaf': 40, 'lambda_l1': 0, 'lambda_l2': 0, 'min_gain_to_split': 0.0, 'bagging_fraction': 0.65, 'bagging_freq': 1, 'feature_fraction': 0.95}. Best is trial 65 with value: 0.18141170011576987.\u001b[0m\n",
      "\u001b[32m[I 2022-05-08 15:27:01,139]\u001b[0m Trial 328 pruned. Trial was pruned at iteration 0.\u001b[0m\n"
     ]
    },
    {
     "name": "stdout",
     "output_type": "stream",
     "text": [
      "mean_loss 0.18160\n",
      "[LightGBM] [Warning] lambda_l1 is set=0, reg_alpha=0.0 will be ignored. Current value: lambda_l1=0\n",
      "[LightGBM] [Warning] bagging_fraction is set=0.65, subsample=1.0 will be ignored. Current value: bagging_fraction=0.65\n",
      "[LightGBM] [Warning] min_gain_to_split is set=0.0, min_split_gain=0.0 will be ignored. Current value: min_gain_to_split=0.0\n",
      "[LightGBM] [Warning] lambda_l2 is set=0, reg_lambda=0.0 will be ignored. Current value: lambda_l2=0\n",
      "[LightGBM] [Warning] feature_fraction is set=0.95, colsample_bytree=1.0 will be ignored. Current value: feature_fraction=0.95\n",
      "[LightGBM] [Warning] min_data_in_leaf is set=80, min_child_samples=20 will be ignored. Current value: min_data_in_leaf=80\n",
      "[LightGBM] [Warning] bagging_freq is set=1, subsample_freq=0 will be ignored. Current value: bagging_freq=1\n"
     ]
    },
    {
     "name": "stderr",
     "output_type": "stream",
     "text": [
      "\u001b[32m[I 2022-05-08 15:27:01,532]\u001b[0m Trial 329 pruned. Trial was pruned at iteration 16.\u001b[0m\n",
      "\u001b[32m[I 2022-05-08 15:27:01,837]\u001b[0m Trial 330 pruned. Trial was pruned at iteration 16.\u001b[0m\n",
      "\u001b[32m[I 2022-05-08 15:27:02,046]\u001b[0m Trial 331 pruned. Trial was pruned at iteration 16.\u001b[0m\n",
      "\u001b[32m[I 2022-05-08 15:27:02,150]\u001b[0m Trial 332 pruned. Trial was pruned at iteration 0.\u001b[0m\n",
      "\u001b[32m[I 2022-05-08 15:27:02,250]\u001b[0m Trial 333 pruned. Trial was pruned at iteration 0.\u001b[0m\n",
      "\u001b[32m[I 2022-05-08 15:27:02,439]\u001b[0m Trial 334 pruned. Trial was pruned at iteration 1.\u001b[0m\n",
      "\u001b[32m[I 2022-05-08 15:27:02,636]\u001b[0m Trial 335 pruned. Trial was pruned at iteration 0.\u001b[0m\n",
      "\u001b[32m[I 2022-05-08 15:27:02,818]\u001b[0m Trial 336 pruned. Trial was pruned at iteration 0.\u001b[0m\n",
      "\u001b[32m[I 2022-05-08 15:27:03,305]\u001b[0m Trial 337 pruned. Trial was pruned at iteration 27.\u001b[0m\n",
      "\u001b[32m[I 2022-05-08 15:27:03,442]\u001b[0m Trial 338 pruned. Trial was pruned at iteration 3.\u001b[0m\n",
      "\u001b[32m[I 2022-05-08 15:27:03,576]\u001b[0m Trial 339 pruned. Trial was pruned at iteration 2.\u001b[0m\n",
      "\u001b[32m[I 2022-05-08 15:27:04,241]\u001b[0m Trial 340 pruned. Trial was pruned at iteration 64.\u001b[0m\n",
      "\u001b[32m[I 2022-05-08 15:27:04,576]\u001b[0m Trial 341 pruned. Trial was pruned at iteration 16.\u001b[0m\n",
      "\u001b[32m[I 2022-05-08 15:27:04,710]\u001b[0m Trial 342 pruned. Trial was pruned at iteration 0.\u001b[0m\n",
      "\u001b[32m[I 2022-05-08 15:27:04,821]\u001b[0m Trial 343 pruned. Trial was pruned at iteration 0.\u001b[0m\n",
      "\u001b[32m[I 2022-05-08 15:27:05,014]\u001b[0m Trial 344 pruned. Trial was pruned at iteration 0.\u001b[0m\n",
      "\u001b[32m[I 2022-05-08 15:27:05,139]\u001b[0m Trial 345 pruned. Trial was pruned at iteration 0.\u001b[0m\n",
      "\u001b[32m[I 2022-05-08 15:27:05,254]\u001b[0m Trial 346 pruned. Trial was pruned at iteration 0.\u001b[0m\n",
      "\u001b[32m[I 2022-05-08 15:27:05,476]\u001b[0m Trial 347 pruned. Trial was pruned at iteration 11.\u001b[0m\n",
      "\u001b[32m[I 2022-05-08 15:27:05,756]\u001b[0m Trial 348 pruned. Trial was pruned at iteration 17.\u001b[0m\n",
      "\u001b[32m[I 2022-05-08 15:27:07,839]\u001b[0m Trial 349 finished with value: 0.18160014069339817 and parameters: {'n_estimators': 10000, 'learning_rate': 0.05, 'num_leaves': 30, 'max_depth': 11, 'min_data_in_leaf': 40, 'lambda_l1': 0, 'lambda_l2': 0, 'min_gain_to_split': 0.0, 'bagging_fraction': 0.65, 'bagging_freq': 1, 'feature_fraction': 0.95}. Best is trial 65 with value: 0.18141170011576987.\u001b[0m\n"
     ]
    },
    {
     "name": "stdout",
     "output_type": "stream",
     "text": [
      "mean_loss 0.18160\n",
      "[LightGBM] [Warning] lambda_l1 is set=0, reg_alpha=0.0 will be ignored. Current value: lambda_l1=0\n",
      "[LightGBM] [Warning] bagging_fraction is set=0.65, subsample=1.0 will be ignored. Current value: bagging_fraction=0.65\n",
      "[LightGBM] [Warning] min_gain_to_split is set=0.0, min_split_gain=0.0 will be ignored. Current value: min_gain_to_split=0.0\n",
      "[LightGBM] [Warning] lambda_l2 is set=0, reg_lambda=0.0 will be ignored. Current value: lambda_l2=0\n",
      "[LightGBM] [Warning] feature_fraction is set=0.95, colsample_bytree=1.0 will be ignored. Current value: feature_fraction=0.95\n",
      "[LightGBM] [Warning] min_data_in_leaf is set=40, min_child_samples=20 will be ignored. Current value: min_data_in_leaf=40\n",
      "[LightGBM] [Warning] bagging_freq is set=1, subsample_freq=0 will be ignored. Current value: bagging_freq=1\n"
     ]
    },
    {
     "name": "stderr",
     "output_type": "stream",
     "text": [
      "\u001b[32m[I 2022-05-08 15:27:08,523]\u001b[0m Trial 350 pruned. Trial was pruned at iteration 54.\u001b[0m\n",
      "\u001b[32m[I 2022-05-08 15:27:08,692]\u001b[0m Trial 351 pruned. Trial was pruned at iteration 5.\u001b[0m\n",
      "\u001b[32m[I 2022-05-08 15:27:08,824]\u001b[0m Trial 352 pruned. Trial was pruned at iteration 0.\u001b[0m\n",
      "\u001b[32m[I 2022-05-08 15:27:08,937]\u001b[0m Trial 353 pruned. Trial was pruned at iteration 0.\u001b[0m\n",
      "\u001b[32m[I 2022-05-08 15:27:09,743]\u001b[0m Trial 354 pruned. Trial was pruned at iteration 64.\u001b[0m\n",
      "\u001b[32m[I 2022-05-08 15:27:09,868]\u001b[0m Trial 355 pruned. Trial was pruned at iteration 0.\u001b[0m\n",
      "\u001b[32m[I 2022-05-08 15:27:09,987]\u001b[0m Trial 356 pruned. Trial was pruned at iteration 0.\u001b[0m\n",
      "\u001b[32m[I 2022-05-08 15:27:10,495]\u001b[0m Trial 357 pruned. Trial was pruned at iteration 35.\u001b[0m\n",
      "\u001b[32m[I 2022-05-08 15:27:11,915]\u001b[0m Trial 358 pruned. Trial was pruned at iteration 66.\u001b[0m\n",
      "\u001b[32m[I 2022-05-08 15:27:12,098]\u001b[0m Trial 359 pruned. Trial was pruned at iteration 11.\u001b[0m\n",
      "\u001b[32m[I 2022-05-08 15:27:12,219]\u001b[0m Trial 360 pruned. Trial was pruned at iteration 0.\u001b[0m\n",
      "\u001b[32m[I 2022-05-08 15:27:13,240]\u001b[0m Trial 361 pruned. Trial was pruned at iteration 54.\u001b[0m\n",
      "\u001b[32m[I 2022-05-08 15:27:13,370]\u001b[0m Trial 362 pruned. Trial was pruned at iteration 0.\u001b[0m\n",
      "\u001b[32m[I 2022-05-08 15:27:13,486]\u001b[0m Trial 363 pruned. Trial was pruned at iteration 0.\u001b[0m\n",
      "\u001b[32m[I 2022-05-08 15:27:13,612]\u001b[0m Trial 364 pruned. Trial was pruned at iteration 0.\u001b[0m\n",
      "\u001b[32m[I 2022-05-08 15:27:13,838]\u001b[0m Trial 365 pruned. Trial was pruned at iteration 15.\u001b[0m\n",
      "\u001b[32m[I 2022-05-08 15:27:13,969]\u001b[0m Trial 366 pruned. Trial was pruned at iteration 1.\u001b[0m\n",
      "\u001b[32m[I 2022-05-08 15:27:14,114]\u001b[0m Trial 367 pruned. Trial was pruned at iteration 1.\u001b[0m\n",
      "\u001b[32m[I 2022-05-08 15:27:14,256]\u001b[0m Trial 368 pruned. Trial was pruned at iteration 0.\u001b[0m\n",
      "\u001b[32m[I 2022-05-08 15:27:14,373]\u001b[0m Trial 369 pruned. Trial was pruned at iteration 0.\u001b[0m\n",
      "\u001b[32m[I 2022-05-08 15:27:14,504]\u001b[0m Trial 370 pruned. Trial was pruned at iteration 0.\u001b[0m\n",
      "\u001b[32m[I 2022-05-08 15:27:14,651]\u001b[0m Trial 371 pruned. Trial was pruned at iteration 0.\u001b[0m\n",
      "\u001b[32m[I 2022-05-08 15:27:15,582]\u001b[0m Trial 372 pruned. Trial was pruned at iteration 54.\u001b[0m\n",
      "\u001b[32m[I 2022-05-08 15:27:15,723]\u001b[0m Trial 373 pruned. Trial was pruned at iteration 0.\u001b[0m\n",
      "\u001b[32m[I 2022-05-08 15:27:15,852]\u001b[0m Trial 374 pruned. Trial was pruned at iteration 0.\u001b[0m\n",
      "\u001b[32m[I 2022-05-08 15:27:15,980]\u001b[0m Trial 375 pruned. Trial was pruned at iteration 0.\u001b[0m\n",
      "\u001b[32m[I 2022-05-08 15:27:16,360]\u001b[0m Trial 376 pruned. Trial was pruned at iteration 23.\u001b[0m\n",
      "\u001b[32m[I 2022-05-08 15:27:17,115]\u001b[0m Trial 377 pruned. Trial was pruned at iteration 64.\u001b[0m\n",
      "\u001b[32m[I 2022-05-08 15:27:17,232]\u001b[0m Trial 378 pruned. Trial was pruned at iteration 0.\u001b[0m\n",
      "\u001b[32m[I 2022-05-08 15:27:18,097]\u001b[0m Trial 379 pruned. Trial was pruned at iteration 54.\u001b[0m\n",
      "\u001b[32m[I 2022-05-08 15:27:18,230]\u001b[0m Trial 380 pruned. Trial was pruned at iteration 1.\u001b[0m\n",
      "\u001b[32m[I 2022-05-08 15:27:20,223]\u001b[0m Trial 381 pruned. Trial was pruned at iteration 63.\u001b[0m\n",
      "\u001b[32m[I 2022-05-08 15:27:20,349]\u001b[0m Trial 382 pruned. Trial was pruned at iteration 0.\u001b[0m\n",
      "\u001b[32m[I 2022-05-08 15:27:20,548]\u001b[0m Trial 383 pruned. Trial was pruned at iteration 7.\u001b[0m\n",
      "\u001b[32m[I 2022-05-08 15:27:20,672]\u001b[0m Trial 384 pruned. Trial was pruned at iteration 0.\u001b[0m\n",
      "\u001b[32m[I 2022-05-08 15:27:21,864]\u001b[0m Trial 385 pruned. Trial was pruned at iteration 56.\u001b[0m\n",
      "\u001b[32m[I 2022-05-08 15:27:22,158]\u001b[0m Trial 386 pruned. Trial was pruned at iteration 28.\u001b[0m\n",
      "\u001b[32m[I 2022-05-08 15:27:22,272]\u001b[0m Trial 387 pruned. Trial was pruned at iteration 0.\u001b[0m\n",
      "\u001b[32m[I 2022-05-08 15:27:22,632]\u001b[0m Trial 388 pruned. Trial was pruned at iteration 23.\u001b[0m\n",
      "\u001b[32m[I 2022-05-08 15:27:22,758]\u001b[0m Trial 389 pruned. Trial was pruned at iteration 1.\u001b[0m\n",
      "\u001b[32m[I 2022-05-08 15:27:22,885]\u001b[0m Trial 390 pruned. Trial was pruned at iteration 1.\u001b[0m\n",
      "\u001b[32m[I 2022-05-08 15:27:22,996]\u001b[0m Trial 391 pruned. Trial was pruned at iteration 0.\u001b[0m\n",
      "\u001b[32m[I 2022-05-08 15:27:24,808]\u001b[0m Trial 392 pruned. Trial was pruned at iteration 59.\u001b[0m\n",
      "\u001b[32m[I 2022-05-08 15:27:25,042]\u001b[0m Trial 393 pruned. Trial was pruned at iteration 11.\u001b[0m\n",
      "\u001b[32m[I 2022-05-08 15:27:25,160]\u001b[0m Trial 394 pruned. Trial was pruned at iteration 0.\u001b[0m\n",
      "\u001b[32m[I 2022-05-08 15:27:27,553]\u001b[0m Trial 395 finished with value: 0.18160014069339817 and parameters: {'n_estimators': 10000, 'learning_rate': 0.05, 'num_leaves': 30, 'max_depth': 11, 'min_data_in_leaf': 40, 'lambda_l1': 0, 'lambda_l2': 0, 'min_gain_to_split': 0.0, 'bagging_fraction': 0.65, 'bagging_freq': 1, 'feature_fraction': 0.95}. Best is trial 65 with value: 0.18141170011576987.\u001b[0m\n",
      "\u001b[32m[I 2022-05-08 15:27:27,716]\u001b[0m Trial 396 pruned. Trial was pruned at iteration 2.\u001b[0m\n"
     ]
    },
    {
     "name": "stdout",
     "output_type": "stream",
     "text": [
      "mean_loss 0.18160\n",
      "[LightGBM] [Warning] lambda_l1 is set=0, reg_alpha=0.0 will be ignored. Current value: lambda_l1=0\n",
      "[LightGBM] [Warning] bagging_fraction is set=0.65, subsample=1.0 will be ignored. Current value: bagging_fraction=0.65\n",
      "[LightGBM] [Warning] min_gain_to_split is set=0.0, min_split_gain=0.0 will be ignored. Current value: min_gain_to_split=0.0\n",
      "[LightGBM] [Warning] lambda_l2 is set=0, reg_lambda=0.0 will be ignored. Current value: lambda_l2=0\n",
      "[LightGBM] [Warning] feature_fraction is set=0.8500000000000001, colsample_bytree=1.0 will be ignored. Current value: feature_fraction=0.8500000000000001\n",
      "[LightGBM] [Warning] min_data_in_leaf is set=40, min_child_samples=20 will be ignored. Current value: min_data_in_leaf=40\n",
      "[LightGBM] [Warning] bagging_freq is set=1, subsample_freq=0 will be ignored. Current value: bagging_freq=1\n"
     ]
    },
    {
     "name": "stderr",
     "output_type": "stream",
     "text": [
      "\u001b[32m[I 2022-05-08 15:27:27,862]\u001b[0m Trial 397 pruned. Trial was pruned at iteration 0.\u001b[0m\n",
      "\u001b[32m[I 2022-05-08 15:27:28,209]\u001b[0m Trial 398 pruned. Trial was pruned at iteration 18.\u001b[0m\n",
      "\u001b[32m[I 2022-05-08 15:27:28,359]\u001b[0m Trial 399 pruned. Trial was pruned at iteration 3.\u001b[0m\n"
     ]
    }
   ],
   "source": [
    "study = optuna.create_study(direction=\"minimize\", study_name=\"LGBM Classifier\")\n",
    "func = lambda trial: objective(trial, X, y)\n",
    "study.optimize(func, n_trials=400)"
   ]
  },
  {
   "cell_type": "code",
   "execution_count": 78,
   "metadata": {},
   "outputs": [
    {
     "name": "stdout",
     "output_type": "stream",
     "text": [
      "\tBest value (binary_logloss): 0.18141\n",
      "\tBest params:\n",
      "\t\tn_estimators: 10000\n",
      "\t\tlearning_rate: 0.05\n",
      "\t\tnum_leaves: 60\n",
      "\t\tmax_depth: 12\n",
      "\t\tmin_data_in_leaf: 80\n",
      "\t\tlambda_l1: 0\n",
      "\t\tlambda_l2: 0\n",
      "\t\tmin_gain_to_split: 1.0\n",
      "\t\tbagging_fraction: 0.45\n",
      "\t\tbagging_freq: 1\n",
      "\t\tfeature_fraction: 0.95\n"
     ]
    }
   ],
   "source": [
    "print(f\"\\tBest value (binary_logloss): {study.best_value:.5f}\")\n",
    "print(f\"\\tBest params:\")\n",
    "\n",
    "selected_params = {}\n",
    "for key, value in study.best_params.items():\n",
    "    print(f\"\\t\\t{key}: {value}\")\n",
    "    selected_params[key] = value"
   ]
  },
  {
   "cell_type": "code",
   "execution_count": 79,
   "metadata": {},
   "outputs": [
    {
     "data": {
      "text/plain": [
       "{'n_estimators': 10000,\n",
       " 'learning_rate': 0.05,\n",
       " 'num_leaves': 60,\n",
       " 'max_depth': 12,\n",
       " 'min_data_in_leaf': 80,\n",
       " 'lambda_l1': 0,\n",
       " 'lambda_l2': 0,\n",
       " 'min_gain_to_split': 1.0,\n",
       " 'bagging_fraction': 0.45,\n",
       " 'bagging_freq': 1,\n",
       " 'feature_fraction': 0.95}"
      ]
     },
     "execution_count": 79,
     "metadata": {},
     "output_type": "execute_result"
    }
   ],
   "source": [
    "selected_params"
   ]
  },
  {
   "cell_type": "code",
   "execution_count": 80,
   "metadata": {},
   "outputs": [],
   "source": [
    "classifier = lgbm.LGBMClassifier(objective=\"binary\", **selected_params)"
   ]
  },
  {
   "cell_type": "code",
   "execution_count": 81,
   "metadata": {},
   "outputs": [
    {
     "name": "stdout",
     "output_type": "stream",
     "text": [
      "[LightGBM] [Warning] lambda_l1 is set=0, reg_alpha=0.0 will be ignored. Current value: lambda_l1=0\n",
      "[LightGBM] [Warning] bagging_fraction is set=0.45, subsample=1.0 will be ignored. Current value: bagging_fraction=0.45\n",
      "[LightGBM] [Warning] min_gain_to_split is set=1.0, min_split_gain=0.0 will be ignored. Current value: min_gain_to_split=1.0\n",
      "[LightGBM] [Warning] lambda_l2 is set=0, reg_lambda=0.0 will be ignored. Current value: lambda_l2=0\n",
      "[LightGBM] [Warning] feature_fraction is set=0.95, colsample_bytree=1.0 will be ignored. Current value: feature_fraction=0.95\n",
      "[LightGBM] [Warning] min_data_in_leaf is set=80, min_child_samples=20 will be ignored. Current value: min_data_in_leaf=80\n",
      "[LightGBM] [Warning] bagging_freq is set=1, subsample_freq=0 will be ignored. Current value: bagging_freq=1\n"
     ]
    },
    {
     "data": {
      "text/plain": [
       "LGBMClassifier(bagging_fraction=0.45, bagging_freq=1, feature_fraction=0.95,\n",
       "               lambda_l1=0, lambda_l2=0, learning_rate=0.05, max_depth=12,\n",
       "               min_data_in_leaf=80, min_gain_to_split=1.0, n_estimators=10000,\n",
       "               num_leaves=60, objective='binary')"
      ]
     },
     "execution_count": 81,
     "metadata": {},
     "output_type": "execute_result"
    }
   ],
   "source": [
    "classifier.fit(X_train, y_train)"
   ]
  },
  {
   "cell_type": "code",
   "execution_count": 82,
   "metadata": {},
   "outputs": [
    {
     "name": "stdout",
     "output_type": "stream",
     "text": [
      "Lightgbm model:\n",
      "Classification report on cross-validation data:\n",
      "f1-score of macro average: 0.7640\n",
      "\n"
     ]
    }
   ],
   "source": [
    "print(\"Lightgbm model:\")\n",
    "#           \"\\nClassification report on trainng data\\n\", \n",
    "#           classification_report(y_sc_train, lr_lst[i].predict(X_sc_train)))\n",
    "\n",
    "cl_rep = classification_report(y_cv, classifier.predict(X_cv), output_dict=True)\n",
    "f1_sc = cl_rep['macro avg']['f1-score']\n",
    "print('Classification report on cross-validation data:')\n",
    "print(f\"f1-score of macro average: {f1_sc:.4f}\\n\")"
   ]
  },
  {
   "cell_type": "code",
   "execution_count": 83,
   "metadata": {},
   "outputs": [
    {
     "name": "stdout",
     "output_type": "stream",
     "text": [
      "roc_auc_score on cross-validation data 0.9377\n",
      "\n"
     ]
    }
   ],
   "source": [
    "from sklearn.metrics import roc_curve, auc, roc_auc_score\n",
    "auc_sc = roc_auc_score(y_cv, classifier.predict_proba(X_cv)[:, 1])\n",
    "print(f\"roc_auc_score on cross-validation data {auc_sc:.4f}\\n\")"
   ]
  },
  {
   "cell_type": "code",
   "execution_count": 84,
   "metadata": {},
   "outputs": [
    {
     "data": {
      "text/plain": [
       "LGBMClassifier(bagging_fraction=0.45, bagging_freq=1, feature_fraction=0.95,\n",
       "               lambda_l1=0, lambda_l2=0, learning_rate=0.05, max_depth=12,\n",
       "               min_data_in_leaf=80, min_gain_to_split=1.0, n_estimators=10000,\n",
       "               num_leaves=60, objective='binary')"
      ]
     },
     "execution_count": 84,
     "metadata": {},
     "output_type": "execute_result"
    }
   ],
   "source": [
    "import joblib\n",
    "joblib.dump(classifier, \"best_lightgbm_model_one_hot_400_search_classifier.sav\")\n",
    "clf_load = joblib.load(\"best_lightgbm_model_one_hot_400_search_classifier.sav\")\n",
    "clf_load"
   ]
  },
  {
   "cell_type": "code",
   "execution_count": 106,
   "metadata": {},
   "outputs": [
    {
     "data": {
      "text/plain": [
       "0.9315195861926729"
      ]
     },
     "execution_count": 106,
     "metadata": {},
     "output_type": "execute_result"
    }
   ],
   "source": [
    "roc_auc_score(y_test, clf_load.predict(X_test))"
   ]
  },
  {
   "cell_type": "code",
   "execution_count": null,
   "metadata": {},
   "outputs": [],
   "source": []
  }
 ],
 "metadata": {
  "kernelspec": {
   "display_name": "torch18",
   "language": "python",
   "name": "torch18"
  },
  "language_info": {
   "codemirror_mode": {
    "name": "ipython",
    "version": 3
   },
   "file_extension": ".py",
   "mimetype": "text/x-python",
   "name": "python",
   "nbconvert_exporter": "python",
   "pygments_lexer": "ipython3",
   "version": "3.8.2"
  }
 },
 "nbformat": 4,
 "nbformat_minor": 2
}
