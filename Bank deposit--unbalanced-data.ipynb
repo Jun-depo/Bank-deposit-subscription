{
 "cells": [
  {
   "cell_type": "markdown",
   "metadata": {},
   "source": [
    "data: https://archive.ics.uci.edu/ml/datasets/Bank+Marketing"
   ]
  },
  {
   "cell_type": "code",
   "execution_count": 176,
   "metadata": {},
   "outputs": [],
   "source": [
    "import pandas as pd\n",
    "import numpy as np\n",
    "import matplotlib.pyplot as plt"
   ]
  },
  {
   "cell_type": "code",
   "execution_count": 177,
   "metadata": {},
   "outputs": [],
   "source": [
    "df=pd.read_csv('bank_additional_full_clean_scaled.csv')"
   ]
  },
  {
   "cell_type": "code",
   "execution_count": 179,
   "metadata": {},
   "outputs": [],
   "source": [
    "X = df.iloc[:, 0:-1]"
   ]
  },
  {
   "cell_type": "code",
   "execution_count": 180,
   "metadata": {},
   "outputs": [
    {
     "data": {
      "text/html": [
       "<div>\n",
       "<style scoped>\n",
       "    .dataframe tbody tr th:only-of-type {\n",
       "        vertical-align: middle;\n",
       "    }\n",
       "\n",
       "    .dataframe tbody tr th {\n",
       "        vertical-align: top;\n",
       "    }\n",
       "\n",
       "    .dataframe thead th {\n",
       "        text-align: right;\n",
       "    }\n",
       "</style>\n",
       "<table border=\"1\" class=\"dataframe\">\n",
       "  <thead>\n",
       "    <tr style=\"text-align: right;\">\n",
       "      <th></th>\n",
       "      <th>age</th>\n",
       "      <th>job</th>\n",
       "      <th>marital</th>\n",
       "      <th>education</th>\n",
       "      <th>default</th>\n",
       "      <th>housing</th>\n",
       "      <th>loan</th>\n",
       "      <th>contact</th>\n",
       "      <th>month</th>\n",
       "      <th>day_of_week</th>\n",
       "      <th>duration</th>\n",
       "      <th>campaign</th>\n",
       "      <th>pdays</th>\n",
       "      <th>previous</th>\n",
       "      <th>poutcome</th>\n",
       "      <th>emp.var.rate</th>\n",
       "      <th>cons.price.idx</th>\n",
       "      <th>cons.conf.idx</th>\n",
       "      <th>euribor3m</th>\n",
       "      <th>nr.employed</th>\n",
       "    </tr>\n",
       "  </thead>\n",
       "  <tbody>\n",
       "    <tr>\n",
       "      <th>0</th>\n",
       "      <td>1.642226</td>\n",
       "      <td>0</td>\n",
       "      <td>1</td>\n",
       "      <td>1</td>\n",
       "      <td>0</td>\n",
       "      <td>0</td>\n",
       "      <td>0</td>\n",
       "      <td>0</td>\n",
       "      <td>5</td>\n",
       "      <td>1</td>\n",
       "      <td>0.005792</td>\n",
       "      <td>-0.559326</td>\n",
       "      <td>0.211884</td>\n",
       "      <td>-0.37161</td>\n",
       "      <td>1</td>\n",
       "      <td>0.727466</td>\n",
       "      <td>0.804082</td>\n",
       "      <td>0.877437</td>\n",
       "      <td>0.786089</td>\n",
       "      <td>0.401641</td>\n",
       "    </tr>\n",
       "    <tr>\n",
       "      <th>1</th>\n",
       "      <td>-0.196449</td>\n",
       "      <td>1</td>\n",
       "      <td>1</td>\n",
       "      <td>4</td>\n",
       "      <td>0</td>\n",
       "      <td>1</td>\n",
       "      <td>0</td>\n",
       "      <td>0</td>\n",
       "      <td>5</td>\n",
       "      <td>1</td>\n",
       "      <td>-0.127941</td>\n",
       "      <td>-0.559326</td>\n",
       "      <td>0.211884</td>\n",
       "      <td>-0.37161</td>\n",
       "      <td>1</td>\n",
       "      <td>0.727466</td>\n",
       "      <td>0.804082</td>\n",
       "      <td>0.877437</td>\n",
       "      <td>0.786089</td>\n",
       "      <td>0.401641</td>\n",
       "    </tr>\n",
       "  </tbody>\n",
       "</table>\n",
       "</div>"
      ],
      "text/plain": [
       "        age  job  marital  education  default  housing  loan  contact  month  \\\n",
       "0  1.642226    0        1          1        0        0     0        0      5   \n",
       "1 -0.196449    1        1          4        0        1     0        0      5   \n",
       "\n",
       "   day_of_week  duration  campaign     pdays  previous  poutcome  \\\n",
       "0            1  0.005792 -0.559326  0.211884  -0.37161         1   \n",
       "1            1 -0.127941 -0.559326  0.211884  -0.37161         1   \n",
       "\n",
       "   emp.var.rate  cons.price.idx  cons.conf.idx  euribor3m  nr.employed  \n",
       "0      0.727466        0.804082       0.877437   0.786089     0.401641  \n",
       "1      0.727466        0.804082       0.877437   0.786089     0.401641  "
      ]
     },
     "execution_count": 180,
     "metadata": {},
     "output_type": "execute_result"
    }
   ],
   "source": [
    "X.head(2)"
   ]
  },
  {
   "cell_type": "code",
   "execution_count": 182,
   "metadata": {},
   "outputs": [
    {
     "data": {
      "text/plain": [
       "0    0\n",
       "1    0\n",
       "Name: y, dtype: int64"
      ]
     },
     "execution_count": 182,
     "metadata": {},
     "output_type": "execute_result"
    }
   ],
   "source": [
    "y.head(2)"
   ]
  },
  {
   "cell_type": "code",
   "execution_count": 183,
   "metadata": {},
   "outputs": [],
   "source": [
    "X_sc = df.iloc[:, 0:-1]"
   ]
  },
  {
   "cell_type": "code",
   "execution_count": 184,
   "metadata": {},
   "outputs": [],
   "source": [
    "from sklearn.model_selection import train_test_split"
   ]
  },
  {
   "cell_type": "code",
   "execution_count": 185,
   "metadata": {},
   "outputs": [],
   "source": [
    "X_sc_train, X_sc_temp, y_sc_train, y_temp = train_test_split(X_sc, y, test_size=0.4, random_state=101)"
   ]
  },
  {
   "cell_type": "code",
   "execution_count": 186,
   "metadata": {},
   "outputs": [],
   "source": [
    "X_sc_cv, X_sc_test, y_sc_cv, y_sc_test = train_test_split(X_sc_temp, y_temp, test_size=0.5, random_state=101)"
   ]
  },
  {
   "cell_type": "code",
   "execution_count": 187,
   "metadata": {},
   "outputs": [],
   "source": [
    "from sklearn.svm import SVC"
   ]
  },
  {
   "cell_type": "code",
   "execution_count": 188,
   "metadata": {},
   "outputs": [],
   "source": [
    "from sklearn.metrics import classification_report"
   ]
  },
  {
   "cell_type": "code",
   "execution_count": 189,
   "metadata": {},
   "outputs": [],
   "source": [
    "clf_svc1 = SVC(C=1.0).fit(X_sc_train, y_sc_train)\n",
    "clf_svc2 = SVC(C=3.0).fit(X_sc_train, y_sc_train)\n",
    "clf_svc3 = SVC(C=10).fit(X_sc_train, y_sc_train)"
   ]
  },
  {
   "cell_type": "code",
   "execution_count": 190,
   "metadata": {},
   "outputs": [],
   "source": [
    "clf_svc4 = SVC(C=30).fit(X_sc_train, y_sc_train)"
   ]
  },
  {
   "cell_type": "code",
   "execution_count": 191,
   "metadata": {},
   "outputs": [],
   "source": [
    "clf_svc5 = SVC(C=100).fit(X_sc_train, y_sc_train)"
   ]
  },
  {
   "cell_type": "code",
   "execution_count": 192,
   "metadata": {},
   "outputs": [],
   "source": [
    "clf_svc6 = SVC(C=300).fit(X_sc_train, y_sc_train)"
   ]
  },
  {
   "cell_type": "code",
   "execution_count": 193,
   "metadata": {},
   "outputs": [],
   "source": [
    "clf_svc7 = SVC(C=1000).fit(X_sc_train, y_sc_train)"
   ]
  },
  {
   "cell_type": "code",
   "execution_count": 194,
   "metadata": {},
   "outputs": [],
   "source": [
    "clf_svc8 = SVC(C=3000).fit(X_sc_train, y_sc_train)"
   ]
  },
  {
   "cell_type": "code",
   "execution_count": 195,
   "metadata": {},
   "outputs": [],
   "source": [
    "svc_lst = [clf_svc1, clf_svc2, clf_svc3, clf_svc4, clf_svc5, clf_svc6, clf_svc7, clf_svc8]\n",
    "svc_c = [1, 3, 10, 30, 100, 300, 1000, 3000]"
   ]
  },
  {
   "cell_type": "code",
   "execution_count": 196,
   "metadata": {},
   "outputs": [
    {
     "name": "stdout",
     "output_type": "stream",
     "text": [
      "svc model, C= 1 \n",
      "Classification report on trainng data\n",
      "              precision    recall  f1-score   support\n",
      "\n",
      "          0       0.92      0.98      0.95     15941\n",
      "          1       0.77      0.44      0.56      2351\n",
      "\n",
      "avg / total       0.90      0.91      0.90     18292\n",
      "\n",
      "Classification report on cross-validation data\n",
      "              precision    recall  f1-score   support\n",
      "\n",
      "          0       0.92      0.97      0.94      5362\n",
      "          1       0.65      0.39      0.48       736\n",
      "\n",
      "avg / total       0.89      0.90      0.89      6098\n",
      "\n",
      "svc model, C= 3 \n",
      "Classification report on trainng data\n",
      "              precision    recall  f1-score   support\n",
      "\n",
      "          0       0.94      0.98      0.96     15941\n",
      "          1       0.82      0.56      0.67      2351\n",
      "\n",
      "avg / total       0.92      0.93      0.92     18292\n",
      "\n",
      "Classification report on cross-validation data\n",
      "              precision    recall  f1-score   support\n",
      "\n",
      "          0       0.93      0.97      0.95      5362\n",
      "          1       0.64      0.44      0.52       736\n",
      "\n",
      "avg / total       0.89      0.90      0.90      6098\n",
      "\n",
      "svc model, C= 10 \n",
      "Classification report on trainng data\n",
      "              precision    recall  f1-score   support\n",
      "\n",
      "          0       0.95      0.99      0.97     15941\n",
      "          1       0.87      0.65      0.75      2351\n",
      "\n",
      "avg / total       0.94      0.94      0.94     18292\n",
      "\n",
      "Classification report on cross-validation data\n",
      "              precision    recall  f1-score   support\n",
      "\n",
      "          0       0.93      0.96      0.94      5362\n",
      "          1       0.61      0.47      0.53       736\n",
      "\n",
      "avg / total       0.89      0.90      0.89      6098\n",
      "\n",
      "svc model, C= 30 \n",
      "Classification report on trainng data\n",
      "              precision    recall  f1-score   support\n",
      "\n",
      "          0       0.96      0.99      0.98     15941\n",
      "          1       0.92      0.74      0.82      2351\n",
      "\n",
      "avg / total       0.96      0.96      0.96     18292\n",
      "\n",
      "Classification report on cross-validation data\n",
      "              precision    recall  f1-score   support\n",
      "\n",
      "          0       0.93      0.95      0.94      5362\n",
      "          1       0.56      0.46      0.51       736\n",
      "\n",
      "avg / total       0.88      0.89      0.89      6098\n",
      "\n",
      "svc model, C= 100 \n",
      "Classification report on trainng data\n",
      "              precision    recall  f1-score   support\n",
      "\n",
      "          0       0.98      0.99      0.98     15941\n",
      "          1       0.95      0.83      0.89      2351\n",
      "\n",
      "avg / total       0.97      0.97      0.97     18292\n",
      "\n",
      "Classification report on cross-validation data\n",
      "              precision    recall  f1-score   support\n",
      "\n",
      "          0       0.93      0.94      0.94      5362\n",
      "          1       0.54      0.49      0.51       736\n",
      "\n",
      "avg / total       0.88      0.89      0.89      6098\n",
      "\n",
      "svc model, C= 300 \n",
      "Classification report on trainng data\n",
      "              precision    recall  f1-score   support\n",
      "\n",
      "          0       0.99      1.00      0.99     15941\n",
      "          1       0.97      0.90      0.93      2351\n",
      "\n",
      "avg / total       0.98      0.98      0.98     18292\n",
      "\n",
      "Classification report on cross-validation data\n",
      "              precision    recall  f1-score   support\n",
      "\n",
      "          0       0.93      0.93      0.93      5362\n",
      "          1       0.51      0.50      0.51       736\n",
      "\n",
      "avg / total       0.88      0.88      0.88      6098\n",
      "\n",
      "svc model, C= 1000 \n",
      "Classification report on trainng data\n",
      "              precision    recall  f1-score   support\n",
      "\n",
      "          0       0.99      1.00      1.00     15941\n",
      "          1       0.98      0.95      0.97      2351\n",
      "\n",
      "avg / total       0.99      0.99      0.99     18292\n",
      "\n",
      "Classification report on cross-validation data\n",
      "              precision    recall  f1-score   support\n",
      "\n",
      "          0       0.93      0.93      0.93      5362\n",
      "          1       0.48      0.49      0.48       736\n",
      "\n",
      "avg / total       0.88      0.88      0.88      6098\n",
      "\n",
      "svc model, C= 3000 \n",
      "Classification report on trainng data\n",
      "              precision    recall  f1-score   support\n",
      "\n",
      "          0       1.00      1.00      1.00     15941\n",
      "          1       0.99      0.98      0.98      2351\n",
      "\n",
      "avg / total       1.00      1.00      1.00     18292\n",
      "\n",
      "Classification report on cross-validation data\n",
      "              precision    recall  f1-score   support\n",
      "\n",
      "          0       0.93      0.92      0.93      5362\n",
      "          1       0.48      0.50      0.49       736\n",
      "\n",
      "avg / total       0.88      0.87      0.87      6098\n",
      "\n"
     ]
    }
   ],
   "source": [
    "for i in range(len(svc_lst)):\n",
    "    print(\"svc model, C=\", svc_c[i], \"\\nClassification report on trainng data\\n\", \n",
    "          classification_report(y_sc_train, svc_lst[i].predict(X_sc_train)))\n",
    "    print(\"Classification report on cross-validation data\\n\", \n",
    "          classification_report(y_sc_cv, svc_lst[i].predict(X_sc_cv)))"
   ]
  },
  {
   "cell_type": "markdown",
   "metadata": {},
   "source": [
    "#### clf_svc2 (C=3) and clf_svc3 (C=10) had the best f1-scores on the cross-validation data."
   ]
  },
  {
   "cell_type": "code",
   "execution_count": 198,
   "metadata": {},
   "outputs": [],
   "source": [
    "from sklearn.metrics import roc_curve, auc, roc_auc_score"
   ]
  },
  {
   "cell_type": "code",
   "execution_count": 199,
   "metadata": {},
   "outputs": [
    {
     "name": "stdout",
     "output_type": "stream",
     "text": [
      "\n",
      "svc model 1 , C = 1 \n",
      " roc_auc_score on trainng data\n",
      " 0.712860636058\n",
      "roc_auc_score on cross-validation data\n",
      " 0.678387971717\n",
      "\n",
      "svc model 2 , C = 3 \n",
      " roc_auc_score on trainng data\n",
      " 0.770185083548\n",
      "roc_auc_score on cross-validation data\n",
      " 0.704096510468\n",
      "\n",
      "svc model 3 , C = 10 \n",
      " roc_auc_score on trainng data\n",
      " 0.819399553185\n",
      "roc_auc_score on cross-validation data\n",
      " 0.714166619367\n",
      "\n",
      "svc model 4 , C = 30 \n",
      " roc_auc_score on trainng data\n",
      " 0.866650980723\n",
      "roc_auc_score on cross-validation data\n",
      " 0.706080834536\n",
      "\n",
      "svc model 5 , C = 100 \n",
      " roc_auc_score on trainng data\n",
      " 0.912093139283\n",
      "roc_auc_score on cross-validation data\n",
      " 0.717909240549\n",
      "\n",
      "svc model 6 , C = 300 \n",
      " roc_auc_score on trainng data\n",
      " 0.946636831355\n",
      "roc_auc_score on cross-validation data\n",
      " 0.716776825244\n",
      "\n",
      "svc model 7 , C = 1000 \n",
      " roc_auc_score on trainng data\n",
      " 0.974137751846\n",
      "roc_auc_score on cross-validation data\n",
      " 0.706812888199\n",
      "\n",
      "svc model 8 , C = 3000 \n",
      " roc_auc_score on trainng data\n",
      " 0.988100887548\n",
      "roc_auc_score on cross-validation data\n",
      " 0.71399253807\n"
     ]
    }
   ],
   "source": [
    "for i in range(len(svc_lst)):\n",
    "    print(\"\\nsvc model\",i+1, \", C =\", svc_c[i], \"\\n roc_auc_score on trainng data\\n\", \n",
    "          roc_auc_score(y_sc_train, svc_lst[i].predict(X_sc_train)))\n",
    "    print(\"roc_auc_score on cross-validation data\\n\", \n",
    "          roc_auc_score(y_sc_cv, svc_lst[i].predict(X_sc_cv)))"
   ]
  },
  {
   "cell_type": "markdown",
   "metadata": {},
   "source": [
    "### clf_svc5 (C=100) had the best roc_auc_score on the cross-validation data. "
   ]
  },
  {
   "cell_type": "code",
   "execution_count": 200,
   "metadata": {},
   "outputs": [],
   "source": [
    "from sklearn.ensemble import RandomForestClassifier"
   ]
  },
  {
   "cell_type": "code",
   "execution_count": 201,
   "metadata": {},
   "outputs": [],
   "source": [
    "clf_rf1 = RandomForestClassifier(n_estimators=10).fit(X_sc_train, y_sc_train)"
   ]
  },
  {
   "cell_type": "code",
   "execution_count": 202,
   "metadata": {},
   "outputs": [],
   "source": [
    "clf_rf2 = RandomForestClassifier(n_estimators=20).fit(X_sc_train, y_sc_train)"
   ]
  },
  {
   "cell_type": "code",
   "execution_count": 203,
   "metadata": {},
   "outputs": [],
   "source": [
    "clf_rf3 = RandomForestClassifier(n_estimators=30).fit(X_sc_train, y_sc_train)"
   ]
  },
  {
   "cell_type": "code",
   "execution_count": 204,
   "metadata": {},
   "outputs": [],
   "source": [
    "clf_rf4 = RandomForestClassifier(n_estimators=10, min_samples_leaf=3).fit(X_sc_train, y_sc_train)"
   ]
  },
  {
   "cell_type": "code",
   "execution_count": 205,
   "metadata": {},
   "outputs": [],
   "source": [
    "clf_rf5 = RandomForestClassifier(n_estimators=10, min_samples_leaf=6).fit(X_sc_train, y_sc_train)"
   ]
  },
  {
   "cell_type": "code",
   "execution_count": 206,
   "metadata": {},
   "outputs": [],
   "source": [
    "clf_rf6 = RandomForestClassifier(n_estimators=20, min_samples_leaf=3).fit(X_sc_train, y_sc_train)"
   ]
  },
  {
   "cell_type": "code",
   "execution_count": 207,
   "metadata": {},
   "outputs": [],
   "source": [
    "clf_rf7 = RandomForestClassifier(n_estimators=20, min_samples_leaf=6).fit(X_sc_train, y_sc_train)"
   ]
  },
  {
   "cell_type": "code",
   "execution_count": 208,
   "metadata": {},
   "outputs": [],
   "source": [
    "clf_rf8 = RandomForestClassifier(n_estimators=30, min_samples_leaf=3).fit(X_sc_train, y_sc_train)"
   ]
  },
  {
   "cell_type": "code",
   "execution_count": 209,
   "metadata": {},
   "outputs": [],
   "source": [
    "clf_rf9 = RandomForestClassifier(n_estimators=30, min_samples_leaf=6).fit(X_sc_train, y_sc_train)"
   ]
  },
  {
   "cell_type": "code",
   "execution_count": 210,
   "metadata": {},
   "outputs": [],
   "source": [
    "rf_lst = [clf_rf1, clf_rf2, clf_rf3, clf_rf4, clf_rf5, clf_rf6, clf_rf7, clf_rf8, clf_rf9]\n",
    "n_est_lst = [10, 20, 30, 10, 10, 20, 20, 30, 30]\n",
    "min_samp_lst = [1, 1, 1, 3, 6, 3, 6, 3, 6]"
   ]
  },
  {
   "cell_type": "code",
   "execution_count": 211,
   "metadata": {},
   "outputs": [
    {
     "name": "stdout",
     "output_type": "stream",
     "text": [
      "Random Forest model, n_estimators= 10 min_samples_leaf= 1 \n",
      "Classification report on trainng data\n",
      "              precision    recall  f1-score   support\n",
      "\n",
      "          0       0.99      1.00      1.00     15941\n",
      "          1       0.99      0.95      0.97      2351\n",
      "\n",
      "avg / total       0.99      0.99      0.99     18292\n",
      "\n",
      "Classification report on cross-validation data\n",
      "              precision    recall  f1-score   support\n",
      "\n",
      "          0       0.93      0.96      0.94      5362\n",
      "          1       0.60      0.45      0.52       736\n",
      "\n",
      "avg / total       0.89      0.90      0.89      6098\n",
      "\n",
      "Random Forest model, n_estimators= 20 min_samples_leaf= 1 \n",
      "Classification report on trainng data\n",
      "              precision    recall  f1-score   support\n",
      "\n",
      "          0       1.00      1.00      1.00     15941\n",
      "          1       1.00      0.98      0.99      2351\n",
      "\n",
      "avg / total       1.00      1.00      1.00     18292\n",
      "\n",
      "Classification report on cross-validation data\n",
      "              precision    recall  f1-score   support\n",
      "\n",
      "          0       0.93      0.96      0.95      5362\n",
      "          1       0.62      0.48      0.55       736\n",
      "\n",
      "avg / total       0.89      0.90      0.90      6098\n",
      "\n",
      "Random Forest model, n_estimators= 30 min_samples_leaf= 1 \n",
      "Classification report on trainng data\n",
      "              precision    recall  f1-score   support\n",
      "\n",
      "          0       1.00      1.00      1.00     15941\n",
      "          1       1.00      1.00      1.00      2351\n",
      "\n",
      "avg / total       1.00      1.00      1.00     18292\n",
      "\n",
      "Classification report on cross-validation data\n",
      "              precision    recall  f1-score   support\n",
      "\n",
      "          0       0.93      0.96      0.94      5362\n",
      "          1       0.61      0.50      0.55       736\n",
      "\n",
      "avg / total       0.89      0.90      0.90      6098\n",
      "\n",
      "Random Forest model, n_estimators= 10 min_samples_leaf= 3 \n",
      "Classification report on trainng data\n",
      "              precision    recall  f1-score   support\n",
      "\n",
      "          0       0.97      0.99      0.98     15941\n",
      "          1       0.90      0.77      0.83      2351\n",
      "\n",
      "avg / total       0.96      0.96      0.96     18292\n",
      "\n",
      "Classification report on cross-validation data\n",
      "              precision    recall  f1-score   support\n",
      "\n",
      "          0       0.93      0.96      0.94      5362\n",
      "          1       0.61      0.51      0.56       736\n",
      "\n",
      "avg / total       0.90      0.90      0.90      6098\n",
      "\n",
      "Random Forest model, n_estimators= 10 min_samples_leaf= 6 \n",
      "Classification report on trainng data\n",
      "              precision    recall  f1-score   support\n",
      "\n",
      "          0       0.95      0.98      0.97     15941\n",
      "          1       0.83      0.67      0.74      2351\n",
      "\n",
      "avg / total       0.94      0.94      0.94     18292\n",
      "\n",
      "Classification report on cross-validation data\n",
      "              precision    recall  f1-score   support\n",
      "\n",
      "          0       0.94      0.96      0.95      5362\n",
      "          1       0.66      0.54      0.59       736\n",
      "\n",
      "avg / total       0.90      0.91      0.91      6098\n",
      "\n",
      "Random Forest model, n_estimators= 20 min_samples_leaf= 3 \n",
      "Classification report on trainng data\n",
      "              precision    recall  f1-score   support\n",
      "\n",
      "          0       0.97      0.99      0.98     15941\n",
      "          1       0.92      0.78      0.84      2351\n",
      "\n",
      "avg / total       0.96      0.96      0.96     18292\n",
      "\n",
      "Classification report on cross-validation data\n",
      "              precision    recall  f1-score   support\n",
      "\n",
      "          0       0.94      0.96      0.95      5362\n",
      "          1       0.64      0.56      0.59       736\n",
      "\n",
      "avg / total       0.90      0.91      0.91      6098\n",
      "\n",
      "Random Forest model, n_estimators= 20 min_samples_leaf= 6 \n",
      "Classification report on trainng data\n",
      "              precision    recall  f1-score   support\n",
      "\n",
      "          0       0.95      0.98      0.97     15941\n",
      "          1       0.84      0.68      0.75      2351\n",
      "\n",
      "avg / total       0.94      0.94      0.94     18292\n",
      "\n",
      "Classification report on cross-validation data\n",
      "              precision    recall  f1-score   support\n",
      "\n",
      "          0       0.94      0.96      0.95      5362\n",
      "          1       0.64      0.53      0.58       736\n",
      "\n",
      "avg / total       0.90      0.91      0.90      6098\n",
      "\n",
      "Random Forest model, n_estimators= 30 min_samples_leaf= 3 \n",
      "Classification report on trainng data\n",
      "              precision    recall  f1-score   support\n",
      "\n",
      "          0       0.97      0.99      0.98     15941\n",
      "          1       0.92      0.79      0.85      2351\n",
      "\n",
      "avg / total       0.96      0.96      0.96     18292\n",
      "\n",
      "Classification report on cross-validation data\n",
      "              precision    recall  f1-score   support\n",
      "\n",
      "          0       0.94      0.96      0.95      5362\n",
      "          1       0.65      0.53      0.58       736\n",
      "\n",
      "avg / total       0.90      0.91      0.90      6098\n",
      "\n",
      "Random Forest model, n_estimators= 30 min_samples_leaf= 6 \n",
      "Classification report on trainng data\n",
      "              precision    recall  f1-score   support\n",
      "\n",
      "          0       0.95      0.98      0.97     15941\n",
      "          1       0.86      0.68      0.76      2351\n",
      "\n",
      "avg / total       0.94      0.94      0.94     18292\n",
      "\n",
      "Classification report on cross-validation data\n",
      "              precision    recall  f1-score   support\n",
      "\n",
      "          0       0.93      0.96      0.95      5362\n",
      "          1       0.65      0.51      0.57       736\n",
      "\n",
      "avg / total       0.90      0.91      0.90      6098\n",
      "\n"
     ]
    }
   ],
   "source": [
    "for i in range(len(rf_lst)):\n",
    "    print(\"Random Forest model, n_estimators=\", n_est_lst[i], \"min_samples_leaf=\", min_samp_lst[i],\n",
    "          \"\\nClassification report on trainng data\\n\", \n",
    "          classification_report(y_sc_train, rf_lst[i].predict(X_sc_train)))\n",
    "    print(\"Classification report on cross-validation data\\n\", \n",
    "          classification_report(y_sc_cv, rf_lst[i].predict(X_sc_cv)))"
   ]
  },
  {
   "cell_type": "markdown",
   "metadata": {},
   "source": [
    "#### clf_rf5 and clf_rf6 had the best f1-scores."
   ]
  },
  {
   "cell_type": "code",
   "execution_count": 213,
   "metadata": {},
   "outputs": [
    {
     "name": "stdout",
     "output_type": "stream",
     "text": [
      "\n",
      "Random Forest model 1 ---nn_estimators= 10 , min_samples_leaf= 1 \n",
      "roc_auc_score on trainng data\n",
      " 0.973339068184\n",
      "roc_auc_score on cross-validation data\n",
      " 0.706294191817\n",
      "\n",
      "Random Forest model 2 ---nn_estimators= 20 , min_samples_leaf= 1 \n",
      "roc_auc_score on trainng data\n",
      " 0.991092112287\n",
      "roc_auc_score on cross-validation data\n",
      " 0.721892585505\n",
      "\n",
      "Random Forest model 3 ---nn_estimators= 30 , min_samples_leaf= 1 \n",
      "roc_auc_score on trainng data\n",
      " 0.99766056997\n",
      "roc_auc_score on cross-validation data\n",
      " 0.726514735336\n",
      "\n",
      "Random Forest model 4 ---nn_estimators= 10 , min_samples_leaf= 3 \n",
      "roc_auc_score on trainng data\n",
      " 0.880057192501\n",
      "roc_auc_score on cross-validation data\n",
      " 0.732069373044\n",
      "\n",
      "Random Forest model 5 ---nn_estimators= 10 , min_samples_leaf= 6 \n",
      "roc_auc_score on trainng data\n",
      " 0.82513950915\n",
      "roc_auc_score on cross-validation data\n",
      " 0.748547041986\n",
      "\n",
      "Random Forest model 6 ---nn_estimators= 20 , min_samples_leaf= 3 \n",
      "roc_auc_score on trainng data\n",
      " 0.883288629373\n",
      "roc_auc_score on cross-validation data\n",
      " 0.756406039683\n",
      "\n",
      "Random Forest model 7 ---nn_estimators= 20 , min_samples_leaf= 6 \n",
      "roc_auc_score on trainng data\n",
      " 0.830226122801\n",
      "roc_auc_score on cross-validation data\n",
      " 0.745110266692\n",
      "\n",
      "Random Forest model 8 ---nn_estimators= 30 , min_samples_leaf= 3 \n",
      "roc_auc_score on trainng data\n",
      " 0.88943862031\n",
      "roc_auc_score on cross-validation data\n",
      " 0.743818213515\n",
      "\n",
      "Random Forest model 9 ---nn_estimators= 30 , min_samples_leaf= 6 \n",
      "roc_auc_score on trainng data\n",
      " 0.831937465811\n",
      "roc_auc_score on cross-validation data\n",
      " 0.737464372882\n"
     ]
    }
   ],
   "source": [
    "for i in range(len(rf_lst)):\n",
    "    print(\"\\nRandom Forest model\",i+1, \"---nn_estimators=\", n_est_lst[i], \", min_samples_leaf=\", min_samp_lst[i],\n",
    "          \"\\nroc_auc_score on trainng data\\n\", roc_auc_score(y_sc_train, rf_lst[i].predict(X_sc_train)))\n",
    "    print(\"roc_auc_score on cross-validation data\\n\", roc_auc_score(y_sc_cv, rf_lst[i].predict(X_sc_cv)))"
   ]
  },
  {
   "cell_type": "markdown",
   "metadata": {},
   "source": [
    "### clf_rf6 had the best roc_auc_score."
   ]
  },
  {
   "cell_type": "code",
   "execution_count": 215,
   "metadata": {},
   "outputs": [],
   "source": [
    "from sklearn.neural_network import MLPClassifier"
   ]
  },
  {
   "cell_type": "code",
   "execution_count": 216,
   "metadata": {},
   "outputs": [],
   "source": [
    "clf_nn1 = MLPClassifier(hidden_layer_sizes=(20,4), solver='lbfgs', alpha=0.001, \n",
    "                        max_iter=600).fit(X_sc_train, y_sc_train)"
   ]
  },
  {
   "cell_type": "code",
   "execution_count": 217,
   "metadata": {},
   "outputs": [],
   "source": [
    "clf_nn2 = MLPClassifier(hidden_layer_sizes=(20,4), solver='lbfgs', alpha=0.003,\n",
    "                       max_iter=600).fit(X_sc_train, y_sc_train)"
   ]
  },
  {
   "cell_type": "code",
   "execution_count": 218,
   "metadata": {},
   "outputs": [],
   "source": [
    "clf_nn3 = MLPClassifier(hidden_layer_sizes=(20,4), solver='lbfgs', alpha=0.01,\n",
    "                       max_iter=600).fit(X_sc_train, y_sc_train)"
   ]
  },
  {
   "cell_type": "code",
   "execution_count": 219,
   "metadata": {},
   "outputs": [],
   "source": [
    "clf_nn4 = MLPClassifier(hidden_layer_sizes=(20,4), solver='lbfgs', alpha=0.03,\n",
    "                       max_iter=600).fit(X_sc_train, y_sc_train)"
   ]
  },
  {
   "cell_type": "code",
   "execution_count": 220,
   "metadata": {},
   "outputs": [],
   "source": [
    "clf_nn5 = MLPClassifier(hidden_layer_sizes=(20,4), solver='lbfgs', alpha=0.1,\n",
    "                       max_iter=600).fit(X_sc_train, y_sc_train)"
   ]
  },
  {
   "cell_type": "code",
   "execution_count": 221,
   "metadata": {},
   "outputs": [],
   "source": [
    "clf_nn6 = MLPClassifier(hidden_layer_sizes=(20,4), solver='lbfgs', alpha=0.3, \n",
    "                       max_iter=600).fit(X_sc_train, y_sc_train)"
   ]
  },
  {
   "cell_type": "code",
   "execution_count": 222,
   "metadata": {},
   "outputs": [],
   "source": [
    "clf_nn7 = MLPClassifier(hidden_layer_sizes=(20,4), solver='lbfgs', alpha=1,\n",
    "                       max_iter=600).fit(X_sc_train, y_sc_train)"
   ]
  },
  {
   "cell_type": "code",
   "execution_count": 223,
   "metadata": {},
   "outputs": [],
   "source": [
    "clf_nn8 = MLPClassifier(hidden_layer_sizes=(20,4), solver='lbfgs', alpha=3,\n",
    "                       max_iter=600).fit(X_sc_train, y_sc_train)"
   ]
  },
  {
   "cell_type": "code",
   "execution_count": 224,
   "metadata": {},
   "outputs": [],
   "source": [
    "clf_nn9 = MLPClassifier(hidden_layer_sizes=(16,8,4), solver='lbfgs', alpha=0.001,\n",
    "                       max_iter=600).fit(X_sc_train, y_sc_train)"
   ]
  },
  {
   "cell_type": "code",
   "execution_count": 225,
   "metadata": {},
   "outputs": [],
   "source": [
    "clf_nn10 = MLPClassifier(hidden_layer_sizes=(16,8,4), solver='lbfgs', alpha=0.003,\n",
    "                        max_iter=600).fit(X_sc_train, y_sc_train)"
   ]
  },
  {
   "cell_type": "code",
   "execution_count": 226,
   "metadata": {},
   "outputs": [],
   "source": [
    "clf_nn11 = MLPClassifier(hidden_layer_sizes=(16,8,4), solver='lbfgs', alpha=0.01,\n",
    "                        max_iter=600).fit(X_sc_train, y_sc_train)"
   ]
  },
  {
   "cell_type": "code",
   "execution_count": 227,
   "metadata": {},
   "outputs": [],
   "source": [
    "clf_nn12 = MLPClassifier(hidden_layer_sizes=(16,8,4), solver='lbfgs', alpha=0.03,\n",
    "                        max_iter=600).fit(X_sc_train, y_sc_train)"
   ]
  },
  {
   "cell_type": "code",
   "execution_count": 228,
   "metadata": {},
   "outputs": [],
   "source": [
    "clf_nn13 = MLPClassifier(hidden_layer_sizes=(16,8,4), solver='lbfgs', alpha=0.1,\n",
    "                        max_iter=600).fit(X_sc_train, y_sc_train)"
   ]
  },
  {
   "cell_type": "code",
   "execution_count": 229,
   "metadata": {},
   "outputs": [],
   "source": [
    "clf_nn14 = MLPClassifier(hidden_layer_sizes=(16,8,4), solver='lbfgs', alpha=0.3,\n",
    "                        max_iter=600).fit(X_sc_train, y_sc_train)"
   ]
  },
  {
   "cell_type": "code",
   "execution_count": 230,
   "metadata": {},
   "outputs": [],
   "source": [
    "clf_nn15 = MLPClassifier(hidden_layer_sizes=(16,8,4), solver='lbfgs', alpha=0.01,\n",
    "                        max_iter=600).fit(X_sc_train, y_sc_train)"
   ]
  },
  {
   "cell_type": "code",
   "execution_count": 231,
   "metadata": {},
   "outputs": [],
   "source": [
    "nn_lst = [clf_nn1, clf_nn2, clf_nn3, clf_nn4, clf_nn5, clf_nn6, clf_nn7, clf_nn8, clf_nn9, clf_nn10, clf_nn11, \n",
    "          clf_nn12, clf_nn13, clf_nn14, clf_nn15]"
   ]
  },
  {
   "cell_type": "code",
   "execution_count": 232,
   "metadata": {},
   "outputs": [
    {
     "data": {
      "text/plain": [
       "15"
      ]
     },
     "execution_count": 232,
     "metadata": {},
     "output_type": "execute_result"
    }
   ],
   "source": [
    "len(nn_lst)"
   ]
  },
  {
   "cell_type": "code",
   "execution_count": 233,
   "metadata": {},
   "outputs": [
    {
     "name": "stdout",
     "output_type": "stream",
     "text": [
      "Neural Network model  1 \n",
      "Classification report on trainng data\n",
      "              precision    recall  f1-score   support\n",
      "\n",
      "          0       0.94      0.96      0.95     15941\n",
      "          1       0.68      0.58      0.63      2351\n",
      "\n",
      "avg / total       0.91      0.91      0.91     18292\n",
      "\n",
      "Classification report on cross-validation data\n",
      "              precision    recall  f1-score   support\n",
      "\n",
      "          0       0.94      0.95      0.95      5362\n",
      "          1       0.61      0.55      0.58       736\n",
      "\n",
      "avg / total       0.90      0.90      0.90      6098\n",
      "\n",
      "Neural Network model  2 \n",
      "Classification report on trainng data\n",
      "              precision    recall  f1-score   support\n",
      "\n",
      "          0       0.92      0.97      0.94     15941\n",
      "          1       0.66      0.45      0.54      2351\n",
      "\n",
      "avg / total       0.89      0.90      0.89     18292\n",
      "\n",
      "Classification report on cross-validation data\n",
      "              precision    recall  f1-score   support\n",
      "\n",
      "          0       0.93      0.96      0.94      5362\n",
      "          1       0.61      0.44      0.51       736\n",
      "\n",
      "avg / total       0.89      0.90      0.89      6098\n",
      "\n",
      "Neural Network model  3 \n",
      "Classification report on trainng data\n",
      "              precision    recall  f1-score   support\n",
      "\n",
      "          0       0.94      0.96      0.95     15941\n",
      "          1       0.67      0.60      0.63      2351\n",
      "\n",
      "avg / total       0.91      0.91      0.91     18292\n",
      "\n",
      "Classification report on cross-validation data\n",
      "              precision    recall  f1-score   support\n",
      "\n",
      "          0       0.94      0.95      0.95      5362\n",
      "          1       0.61      0.57      0.59       736\n",
      "\n",
      "avg / total       0.90      0.90      0.90      6098\n",
      "\n",
      "Neural Network model  4 \n",
      "Classification report on trainng data\n",
      "              precision    recall  f1-score   support\n",
      "\n",
      "          0       0.95      0.95      0.95     15941\n",
      "          1       0.67      0.64      0.66      2351\n",
      "\n",
      "avg / total       0.91      0.91      0.91     18292\n",
      "\n",
      "Classification report on cross-validation data\n",
      "              precision    recall  f1-score   support\n",
      "\n",
      "          0       0.95      0.95      0.95      5362\n",
      "          1       0.62      0.63      0.62       736\n",
      "\n",
      "avg / total       0.91      0.91      0.91      6098\n",
      "\n",
      "Neural Network model  5 \n",
      "Classification report on trainng data\n",
      "              precision    recall  f1-score   support\n",
      "\n",
      "          0       0.96      0.94      0.95     15941\n",
      "          1       0.62      0.71      0.66      2351\n",
      "\n",
      "avg / total       0.91      0.91      0.91     18292\n",
      "\n",
      "Classification report on cross-validation data\n",
      "              precision    recall  f1-score   support\n",
      "\n",
      "          0       0.96      0.93      0.94      5362\n",
      "          1       0.58      0.71      0.64       736\n",
      "\n",
      "avg / total       0.91      0.90      0.91      6098\n",
      "\n",
      "Neural Network model  6 \n",
      "Classification report on trainng data\n",
      "              precision    recall  f1-score   support\n",
      "\n",
      "          0       0.94      0.96      0.95     15941\n",
      "          1       0.67      0.57      0.62      2351\n",
      "\n",
      "avg / total       0.90      0.91      0.91     18292\n",
      "\n",
      "Classification report on cross-validation data\n",
      "              precision    recall  f1-score   support\n",
      "\n",
      "          0       0.94      0.96      0.95      5362\n",
      "          1       0.63      0.55      0.59       736\n",
      "\n",
      "avg / total       0.90      0.91      0.90      6098\n",
      "\n",
      "Neural Network model  7 \n",
      "Classification report on trainng data\n",
      "              precision    recall  f1-score   support\n",
      "\n",
      "          0       0.94      0.96      0.95     15941\n",
      "          1       0.70      0.57      0.62      2351\n",
      "\n",
      "avg / total       0.91      0.91      0.91     18292\n",
      "\n",
      "Classification report on cross-validation data\n",
      "              precision    recall  f1-score   support\n",
      "\n",
      "          0       0.94      0.96      0.95      5362\n",
      "          1       0.63      0.54      0.58       736\n",
      "\n",
      "avg / total       0.90      0.91      0.90      6098\n",
      "\n",
      "Neural Network model  8 \n",
      "Classification report on trainng data\n",
      "              precision    recall  f1-score   support\n",
      "\n",
      "          0       0.87      1.00      0.93     15941\n",
      "          1       0.00      0.00      0.00      2351\n",
      "\n",
      "avg / total       0.76      0.87      0.81     18292\n",
      "\n",
      "Classification report on cross-validation data\n",
      "              precision    recall  f1-score   support\n",
      "\n",
      "          0       0.88      1.00      0.94      5362\n",
      "          1       0.00      0.00      0.00       736\n",
      "\n",
      "avg / total       0.77      0.88      0.82      6098\n",
      "\n",
      "Neural Network model  9 \n",
      "Classification report on trainng data\n",
      "              precision    recall  f1-score   support\n",
      "\n",
      "          0       0.94      0.96      0.95     15941\n",
      "          1       0.67      0.62      0.64      2351\n",
      "\n",
      "avg / total       0.91      0.91      0.91     18292\n",
      "\n",
      "Classification report on cross-validation data\n",
      "              precision    recall  f1-score   support\n",
      "\n",
      "          0       0.94      0.95      0.95      5362\n",
      "          1       0.61      0.59      0.60       736\n",
      "\n",
      "avg / total       0.90      0.91      0.90      6098\n",
      "\n",
      "Neural Network model  10 \n",
      "Classification report on trainng data\n",
      "              precision    recall  f1-score   support\n",
      "\n",
      "          0       0.93      0.96      0.95     15941\n",
      "          1       0.67      0.52      0.58      2351\n",
      "\n",
      "avg / total       0.90      0.90      0.90     18292\n",
      "\n",
      "Classification report on cross-validation data\n",
      "              precision    recall  f1-score   support\n",
      "\n",
      "          0       0.94      0.96      0.95      5362\n",
      "          1       0.65      0.55      0.59       736\n",
      "\n",
      "avg / total       0.90      0.91      0.91      6098\n",
      "\n",
      "Neural Network model  11 \n",
      "Classification report on trainng data\n",
      "              precision    recall  f1-score   support\n",
      "\n",
      "          0       0.95      0.95      0.95     15941\n",
      "          1       0.67      0.65      0.66      2351\n",
      "\n",
      "avg / total       0.91      0.91      0.91     18292\n",
      "\n",
      "Classification report on cross-validation data\n",
      "              precision    recall  f1-score   support\n",
      "\n",
      "          0       0.95      0.95      0.95      5362\n",
      "          1       0.61      0.61      0.61       736\n",
      "\n",
      "avg / total       0.91      0.91      0.91      6098\n",
      "\n",
      "Neural Network model  12 \n",
      "Classification report on trainng data\n",
      "              precision    recall  f1-score   support\n",
      "\n",
      "          0       0.94      0.96      0.95     15941\n",
      "          1       0.67      0.56      0.61      2351\n",
      "\n",
      "avg / total       0.90      0.91      0.90     18292\n",
      "\n",
      "Classification report on cross-validation data\n",
      "              precision    recall  f1-score   support\n",
      "\n",
      "          0       0.94      0.96      0.95      5362\n",
      "          1       0.62      0.54      0.58       736\n",
      "\n",
      "avg / total       0.90      0.91      0.90      6098\n",
      "\n",
      "Neural Network model  13 \n",
      "Classification report on trainng data\n",
      "              precision    recall  f1-score   support\n",
      "\n",
      "          0       0.95      0.95      0.95     15941\n",
      "          1       0.65      0.63      0.64      2351\n",
      "\n",
      "avg / total       0.91      0.91      0.91     18292\n",
      "\n",
      "Classification report on cross-validation data\n",
      "              precision    recall  f1-score   support\n",
      "\n",
      "          0       0.95      0.95      0.95      5362\n",
      "          1       0.62      0.63      0.63       736\n",
      "\n",
      "avg / total       0.91      0.91      0.91      6098\n",
      "\n",
      "Neural Network model  14 \n",
      "Classification report on trainng data\n",
      "              precision    recall  f1-score   support\n",
      "\n",
      "          0       0.93      0.97      0.95     15941\n",
      "          1       0.69      0.51      0.59      2351\n",
      "\n",
      "avg / total       0.90      0.91      0.90     18292\n",
      "\n",
      "Classification report on cross-validation data\n",
      "              precision    recall  f1-score   support\n",
      "\n",
      "          0       0.94      0.96      0.95      5362\n",
      "          1       0.63      0.52      0.57       736\n",
      "\n",
      "avg / total       0.90      0.91      0.90      6098\n",
      "\n",
      "Neural Network model  15 \n",
      "Classification report on trainng data\n",
      "              precision    recall  f1-score   support\n",
      "\n",
      "          0       0.94      0.96      0.95     15941\n",
      "          1       0.66      0.59      0.62      2351\n",
      "\n",
      "avg / total       0.90      0.91      0.91     18292\n",
      "\n",
      "Classification report on cross-validation data\n",
      "              precision    recall  f1-score   support\n",
      "\n",
      "          0       0.94      0.95      0.95      5362\n",
      "          1       0.62      0.58      0.60       736\n",
      "\n",
      "avg / total       0.90      0.91      0.91      6098\n",
      "\n"
     ]
    },
    {
     "name": "stderr",
     "output_type": "stream",
     "text": [
      "/home/jun2/anaconda3/lib/python3.6/site-packages/sklearn/metrics/classification.py:1135: UndefinedMetricWarning: Precision and F-score are ill-defined and being set to 0.0 in labels with no predicted samples.\n",
      "  'precision', 'predicted', average, warn_for)\n"
     ]
    }
   ],
   "source": [
    "for i in range(len(nn_lst)):\n",
    "    print(\"Neural Network model \", i+1, \n",
    "          \"\\nClassification report on trainng data\\n\", \n",
    "          classification_report(y_sc_train, nn_lst[i].predict(X_sc_train)))\n",
    "    print(\"Classification report on cross-validation data\\n\", \n",
    "          classification_report(y_sc_cv, nn_lst[i].predict(X_sc_cv)))"
   ]
  },
  {
   "cell_type": "markdown",
   "metadata": {},
   "source": [
    "### nn5 and 13 are the best models based on f1-score on cross-validation data"
   ]
  },
  {
   "cell_type": "code",
   "execution_count": 234,
   "metadata": {},
   "outputs": [
    {
     "name": "stdout",
     "output_type": "stream",
     "text": [
      "\n",
      "Neural Network model 1 \n",
      " roc_auc_score on trainng data\n",
      " 0.769733009785\n",
      "roc_auc_score on cross-validation data\n",
      " 0.752156631611\n",
      "\n",
      "Neural Network model 2 \n",
      " roc_auc_score on trainng data\n",
      " 0.708066292732\n",
      "roc_auc_score on cross-validation data\n",
      " 0.701765290774\n",
      "\n",
      "Neural Network model 3 \n",
      " roc_auc_score on trainng data\n",
      " 0.777567580858\n",
      "roc_auc_score on cross-validation data\n",
      " 0.76209370895\n",
      "\n",
      "Neural Network model 4 \n",
      " roc_auc_score on trainng data\n",
      " 0.798546725269\n",
      "roc_auc_score on cross-validation data\n",
      " 0.787589143814\n",
      "\n",
      "Neural Network model 5 \n",
      " roc_auc_score on trainng data\n",
      " 0.821386423047\n",
      "roc_auc_score on cross-validation data\n",
      " 0.820450472731\n",
      "\n",
      "Neural Network model 6 \n",
      " roc_auc_score on trainng data\n",
      " 0.765734254912\n",
      "roc_auc_score on cross-validation data\n",
      " 0.754208104941\n",
      "\n",
      "Neural Network model 7 \n",
      " roc_auc_score on trainng data\n",
      " 0.764572177856\n",
      "roc_auc_score on cross-validation data\n",
      " 0.746335677392\n",
      "\n",
      "Neural Network model 8 \n",
      " roc_auc_score on trainng data\n",
      " 0.5\n",
      "roc_auc_score on cross-validation data\n",
      " 0.5\n",
      "\n",
      "Neural Network model 9 \n",
      " roc_auc_score on trainng data\n",
      " 0.785314939119\n",
      "roc_auc_score on cross-validation data\n",
      " 0.76851419206\n",
      "\n",
      "Neural Network model 10 \n",
      " roc_auc_score on trainng data\n",
      " 0.738999104818\n",
      "roc_auc_score on cross-validation data\n",
      " 0.752583092778\n",
      "\n",
      "Neural Network model 11 \n",
      " roc_auc_score on trainng data\n",
      " 0.80129390889\n",
      "roc_auc_score on cross-validation data\n",
      " 0.777891776673\n",
      "\n",
      "Neural Network model 12 \n",
      " roc_auc_score on trainng data\n",
      " 0.76045561831\n",
      "roc_auc_score on cross-validation data\n",
      " 0.748680073545\n",
      "\n",
      "Neural Network model 13 \n",
      " roc_auc_score on trainng data\n",
      " 0.789653379696\n",
      "roc_auc_score on cross-validation data\n",
      " 0.789227585829\n",
      "\n",
      "Neural Network model 14 \n",
      " roc_auc_score on trainng data\n",
      " 0.738628827254\n",
      "roc_auc_score on cross-validation data\n",
      " 0.737450943029\n",
      "\n",
      "Neural Network model 15 \n",
      " roc_auc_score on trainng data\n",
      " 0.772373101887\n",
      "roc_auc_score on cross-validation data\n",
      " 0.766236438383\n"
     ]
    }
   ],
   "source": [
    "for i in range(len(nn_lst)):\n",
    "    print(\"\\nNeural Network model\", i+1, \n",
    "          \"\\n roc_auc_score on trainng data\\n\", roc_auc_score(y_sc_train, nn_lst[i].predict(X_sc_train)))\n",
    "    print(\"roc_auc_score on cross-validation data\\n\", roc_auc_score(y_sc_cv, nn_lst[i].predict(X_sc_cv)))"
   ]
  },
  {
   "cell_type": "markdown",
   "metadata": {},
   "source": [
    "### Neural Network model 5 (clf_nn5) is the best model based on roc_auc_score of cross-validation data."
   ]
  },
  {
   "cell_type": "code",
   "execution_count": 235,
   "metadata": {},
   "outputs": [],
   "source": [
    "import seaborn as sns"
   ]
  },
  {
   "cell_type": "code",
   "execution_count": 236,
   "metadata": {},
   "outputs": [],
   "source": [
    "from sklearn.linear_model import LogisticRegression"
   ]
  },
  {
   "cell_type": "code",
   "execution_count": 237,
   "metadata": {},
   "outputs": [],
   "source": [
    "clf_lr1 = LogisticRegression(C=1.0).fit(X_sc_train, y_sc_train)"
   ]
  },
  {
   "cell_type": "code",
   "execution_count": 238,
   "metadata": {},
   "outputs": [],
   "source": [
    "clf_lr2 = LogisticRegression(C=3.0).fit(X_sc_train, y_sc_train)"
   ]
  },
  {
   "cell_type": "code",
   "execution_count": 239,
   "metadata": {},
   "outputs": [],
   "source": [
    "clf_lr3 = LogisticRegression(C=10.0).fit(X_sc_train, y_sc_train)"
   ]
  },
  {
   "cell_type": "code",
   "execution_count": 240,
   "metadata": {},
   "outputs": [],
   "source": [
    "clf_lr4 = LogisticRegression(C=30.0).fit(X_sc_train, y_sc_train)"
   ]
  },
  {
   "cell_type": "code",
   "execution_count": 241,
   "metadata": {},
   "outputs": [],
   "source": [
    "clf_lr5 = LogisticRegression(C=100.0).fit(X_sc_train, y_sc_train)"
   ]
  },
  {
   "cell_type": "code",
   "execution_count": 242,
   "metadata": {},
   "outputs": [],
   "source": [
    "clf_lr6 = LogisticRegression(C=300).fit(X_sc_train, y_sc_train)"
   ]
  },
  {
   "cell_type": "code",
   "execution_count": 243,
   "metadata": {},
   "outputs": [],
   "source": [
    "clf_lr7 = LogisticRegression(C=1000).fit(X_sc_train, y_sc_train)"
   ]
  },
  {
   "cell_type": "code",
   "execution_count": 244,
   "metadata": {},
   "outputs": [],
   "source": [
    "clf_lr8 = LogisticRegression(C=3000).fit(X_sc_train, y_sc_train)"
   ]
  },
  {
   "cell_type": "code",
   "execution_count": 245,
   "metadata": {},
   "outputs": [],
   "source": [
    "lr_lst = [clf_lr1, clf_lr2, clf_lr3,clf_lr4,clf_lr5, clf_lr6, clf_lr7, clf_lr8]\n",
    "cc_lst = [1, 3, 10, 30, 100, 300, 1000, 3000]"
   ]
  },
  {
   "cell_type": "code",
   "execution_count": 246,
   "metadata": {},
   "outputs": [
    {
     "name": "stdout",
     "output_type": "stream",
     "text": [
      "Logistic Regression model 1 , C= 1 \n",
      "Classification report on trainng data\n",
      "              precision    recall  f1-score   support\n",
      "\n",
      "          0       0.92      0.97      0.94     15941\n",
      "          1       0.67      0.41      0.51      2351\n",
      "\n",
      "avg / total       0.89      0.90      0.89     18292\n",
      "\n",
      "Classification report on cross-validation data\n",
      "              precision    recall  f1-score   support\n",
      "\n",
      "          0       0.93      0.97      0.95      5362\n",
      "          1       0.65      0.43      0.52       736\n",
      "\n",
      "avg / total       0.89      0.90      0.89      6098\n",
      "\n",
      "Logistic Regression model 2 , C= 3 \n",
      "Classification report on trainng data\n",
      "              precision    recall  f1-score   support\n",
      "\n",
      "          0       0.92      0.97      0.94     15941\n",
      "          1       0.67      0.41      0.51      2351\n",
      "\n",
      "avg / total       0.89      0.90      0.89     18292\n",
      "\n",
      "Classification report on cross-validation data\n",
      "              precision    recall  f1-score   support\n",
      "\n",
      "          0       0.93      0.97      0.95      5362\n",
      "          1       0.65      0.43      0.52       736\n",
      "\n",
      "avg / total       0.89      0.90      0.89      6098\n",
      "\n",
      "Logistic Regression model 3 , C= 10 \n",
      "Classification report on trainng data\n",
      "              precision    recall  f1-score   support\n",
      "\n",
      "          0       0.92      0.97      0.94     15941\n",
      "          1       0.67      0.41      0.51      2351\n",
      "\n",
      "avg / total       0.89      0.90      0.89     18292\n",
      "\n",
      "Classification report on cross-validation data\n",
      "              precision    recall  f1-score   support\n",
      "\n",
      "          0       0.93      0.97      0.95      5362\n",
      "          1       0.65      0.43      0.52       736\n",
      "\n",
      "avg / total       0.89      0.90      0.89      6098\n",
      "\n",
      "Logistic Regression model 4 , C= 30 \n",
      "Classification report on trainng data\n",
      "              precision    recall  f1-score   support\n",
      "\n",
      "          0       0.92      0.97      0.94     15941\n",
      "          1       0.67      0.41      0.51      2351\n",
      "\n",
      "avg / total       0.89      0.90      0.89     18292\n",
      "\n",
      "Classification report on cross-validation data\n",
      "              precision    recall  f1-score   support\n",
      "\n",
      "          0       0.93      0.97      0.95      5362\n",
      "          1       0.65      0.43      0.52       736\n",
      "\n",
      "avg / total       0.89      0.90      0.89      6098\n",
      "\n",
      "Logistic Regression model 5 , C= 100 \n",
      "Classification report on trainng data\n",
      "              precision    recall  f1-score   support\n",
      "\n",
      "          0       0.92      0.97      0.94     15941\n",
      "          1       0.67      0.41      0.51      2351\n",
      "\n",
      "avg / total       0.89      0.90      0.89     18292\n",
      "\n",
      "Classification report on cross-validation data\n",
      "              precision    recall  f1-score   support\n",
      "\n",
      "          0       0.93      0.97      0.95      5362\n",
      "          1       0.65      0.43      0.52       736\n",
      "\n",
      "avg / total       0.89      0.90      0.89      6098\n",
      "\n",
      "Logistic Regression model 6 , C= 300 \n",
      "Classification report on trainng data\n",
      "              precision    recall  f1-score   support\n",
      "\n",
      "          0       0.92      0.97      0.94     15941\n",
      "          1       0.67      0.41      0.51      2351\n",
      "\n",
      "avg / total       0.89      0.90      0.89     18292\n",
      "\n",
      "Classification report on cross-validation data\n",
      "              precision    recall  f1-score   support\n",
      "\n",
      "          0       0.93      0.97      0.95      5362\n",
      "          1       0.65      0.43      0.52       736\n",
      "\n",
      "avg / total       0.89      0.90      0.89      6098\n",
      "\n",
      "Logistic Regression model 7 , C= 1000 \n",
      "Classification report on trainng data\n",
      "              precision    recall  f1-score   support\n",
      "\n",
      "          0       0.92      0.97      0.94     15941\n",
      "          1       0.67      0.41      0.51      2351\n",
      "\n",
      "avg / total       0.89      0.90      0.89     18292\n",
      "\n",
      "Classification report on cross-validation data\n",
      "              precision    recall  f1-score   support\n",
      "\n",
      "          0       0.93      0.97      0.95      5362\n",
      "          1       0.65      0.43      0.52       736\n",
      "\n",
      "avg / total       0.89      0.90      0.89      6098\n",
      "\n",
      "Logistic Regression model 8 , C= 3000 \n",
      "Classification report on trainng data\n",
      "              precision    recall  f1-score   support\n",
      "\n",
      "          0       0.92      0.97      0.94     15941\n",
      "          1       0.67      0.41      0.51      2351\n",
      "\n",
      "avg / total       0.89      0.90      0.89     18292\n",
      "\n",
      "Classification report on cross-validation data\n",
      "              precision    recall  f1-score   support\n",
      "\n",
      "          0       0.93      0.97      0.95      5362\n",
      "          1       0.65      0.43      0.52       736\n",
      "\n",
      "avg / total       0.89      0.90      0.89      6098\n",
      "\n"
     ]
    }
   ],
   "source": [
    "for i in range(len(lr_lst)):\n",
    "    print(\"Logistic Regression model\", i+1, \", C=\", cc_lst[i],\n",
    "          \"\\nClassification report on trainng data\\n\", \n",
    "          classification_report(y_sc_train, lr_lst[i].predict(X_sc_train)))\n",
    "    print(\"Classification report on cross-validation data\\n\", \n",
    "          classification_report(y_sc_cv, lr_lst[i].predict(X_sc_cv)))"
   ]
  },
  {
   "cell_type": "markdown",
   "metadata": {},
   "source": [
    "#### all Logistic Regression models performed identically on f1-score"
   ]
  },
  {
   "cell_type": "code",
   "execution_count": 247,
   "metadata": {},
   "outputs": [
    {
     "name": "stdout",
     "output_type": "stream",
     "text": [
      "\n",
      "Logistic Regression model 1 , C= 1 \n",
      "roc_auc_score on trainng data\n",
      " 0.690639899773\n",
      "roc_auc_score on cross-validation data\n",
      " 0.698635121548\n",
      "\n",
      "Logistic Regression model 2 , C= 3 \n",
      "roc_auc_score on trainng data\n",
      " 0.690427224316\n",
      "roc_auc_score on cross-validation data\n",
      " 0.699407718162\n",
      "\n",
      "Logistic Regression model 3 , C= 10 \n",
      "roc_auc_score on trainng data\n",
      " 0.690458589977\n",
      "roc_auc_score on cross-validation data\n",
      " 0.698821619123\n",
      "\n",
      "Logistic Regression model 4 , C= 30 \n",
      "roc_auc_score on trainng data\n",
      " 0.690183183198\n",
      "roc_auc_score on cross-validation data\n",
      " 0.698821619123\n",
      "\n",
      "Logistic Regression model 5 , C= 100 \n",
      "roc_auc_score on trainng data\n",
      " 0.690183183198\n",
      "roc_auc_score on cross-validation data\n",
      " 0.698821619123\n",
      "\n",
      "Logistic Regression model 6 , C= 300 \n",
      "roc_auc_score on trainng data\n",
      " 0.690183183198\n",
      "roc_auc_score on cross-validation data\n",
      " 0.698821619123\n",
      "\n",
      "Logistic Regression model 7 , C= 1000 \n",
      "roc_auc_score on trainng data\n",
      " 0.690183183198\n",
      "roc_auc_score on cross-validation data\n",
      " 0.698821619123\n",
      "\n",
      "Logistic Regression model 8 , C= 3000 \n",
      "roc_auc_score on trainng data\n",
      " 0.690183183198\n",
      "roc_auc_score on cross-validation data\n",
      " 0.698821619123\n"
     ]
    }
   ],
   "source": [
    "for i in range(len(lr_lst)):\n",
    "    print(\"\\nLogistic Regression model\", i+1, \", C=\", cc_lst[i],\n",
    "          \"\\nroc_auc_score on trainng data\\n\", \n",
    "          roc_auc_score(y_sc_train, lr_lst[i].predict(X_sc_train)))\n",
    "    print(\"roc_auc_score on cross-validation data\\n\", \n",
    "          roc_auc_score(y_sc_cv, lr_lst[i].predict(X_sc_cv)))"
   ]
  },
  {
   "cell_type": "markdown",
   "metadata": {},
   "source": [
    "#### Logistic Regression model 2 (C= 3) was the best on roc_auc_score on cross-validation data, but very close to other Logistic Regression models."
   ]
  },
  {
   "cell_type": "code",
   "execution_count": 248,
   "metadata": {},
   "outputs": [
    {
     "data": {
      "text/plain": [
       "0.82045047273081095"
      ]
     },
     "execution_count": 248,
     "metadata": {},
     "output_type": "execute_result"
    }
   ],
   "source": [
    "roc_auc_score(y_sc_cv, clf_nn5.predict(X_sc_cv))"
   ]
  },
  {
   "cell_type": "code",
   "execution_count": 249,
   "metadata": {},
   "outputs": [
    {
     "data": {
      "text/plain": [
       "0.78279103975219821"
      ]
     },
     "execution_count": 249,
     "metadata": {},
     "output_type": "execute_result"
    }
   ],
   "source": [
    "roc_auc_score(y_sc_test, clf_nn5.predict(X_sc_test))\n",
    "### The best neural network model on test data"
   ]
  },
  {
   "cell_type": "code",
   "execution_count": 250,
   "metadata": {},
   "outputs": [
    {
     "data": {
      "text/plain": [
       "0.74007532702024881"
      ]
     },
     "execution_count": 250,
     "metadata": {},
     "output_type": "execute_result"
    }
   ],
   "source": [
    "roc_auc_score(y_sc_test, clf_rf6.predict(X_sc_test))\n",
    "### The best random forest model on test data"
   ]
  },
  {
   "cell_type": "code",
   "execution_count": 251,
   "metadata": {},
   "outputs": [
    {
     "data": {
      "text/plain": [
       "0.70259398123196593"
      ]
     },
     "execution_count": 251,
     "metadata": {},
     "output_type": "execute_result"
    }
   ],
   "source": [
    "roc_auc_score(y_sc_test, clf_svc5.predict(X_sc_test))\n",
    "### The best SVM.SVC model on test data"
   ]
  },
  {
   "cell_type": "code",
   "execution_count": 252,
   "metadata": {},
   "outputs": [
    {
     "data": {
      "text/plain": [
       "0.68843161614058712"
      ]
     },
     "execution_count": 252,
     "metadata": {},
     "output_type": "execute_result"
    }
   ],
   "source": [
    "roc_auc_score(y_sc_test, clf_lr2.predict(X_sc_test))\n",
    "### The best logistic regression model on test data"
   ]
  },
  {
   "cell_type": "code",
   "execution_count": 253,
   "metadata": {},
   "outputs": [],
   "source": [
    "roc_auc_test = pd.DataFrame.from_dict({\"classification method\":[\"neural network\", 'random forest', \n",
    "'logistic regression', 'SVM.SVC'], \n",
    "\"roc_auc_score_test_data\": [roc_auc_score(y_sc_test, clf_nn5.predict(X_sc_test)), \n",
    "                            roc_auc_score(y_sc_test, clf_rf6.predict(X_sc_test)), \n",
    "                            roc_auc_score(y_sc_test, clf_lr2.predict(X_sc_test)), \n",
    "                            roc_auc_score(y_sc_test, clf_svc5.predict(X_sc_test))]})"
   ]
  },
  {
   "cell_type": "code",
   "execution_count": 254,
   "metadata": {},
   "outputs": [
    {
     "data": {
      "text/html": [
       "<div>\n",
       "<style scoped>\n",
       "    .dataframe tbody tr th:only-of-type {\n",
       "        vertical-align: middle;\n",
       "    }\n",
       "\n",
       "    .dataframe tbody tr th {\n",
       "        vertical-align: top;\n",
       "    }\n",
       "\n",
       "    .dataframe thead th {\n",
       "        text-align: right;\n",
       "    }\n",
       "</style>\n",
       "<table border=\"1\" class=\"dataframe\">\n",
       "  <thead>\n",
       "    <tr style=\"text-align: right;\">\n",
       "      <th></th>\n",
       "      <th>classification method</th>\n",
       "      <th>roc_auc_score_test_data</th>\n",
       "    </tr>\n",
       "  </thead>\n",
       "  <tbody>\n",
       "    <tr>\n",
       "      <th>0</th>\n",
       "      <td>neural network</td>\n",
       "      <td>0.782791</td>\n",
       "    </tr>\n",
       "    <tr>\n",
       "      <th>1</th>\n",
       "      <td>random forest</td>\n",
       "      <td>0.740075</td>\n",
       "    </tr>\n",
       "    <tr>\n",
       "      <th>2</th>\n",
       "      <td>logistic regression</td>\n",
       "      <td>0.688432</td>\n",
       "    </tr>\n",
       "    <tr>\n",
       "      <th>3</th>\n",
       "      <td>SVM.SVC</td>\n",
       "      <td>0.702594</td>\n",
       "    </tr>\n",
       "  </tbody>\n",
       "</table>\n",
       "</div>"
      ],
      "text/plain": [
       "  classification method  roc_auc_score_test_data\n",
       "0        neural network                 0.782791\n",
       "1         random forest                 0.740075\n",
       "2   logistic regression                 0.688432\n",
       "3               SVM.SVC                 0.702594"
      ]
     },
     "execution_count": 254,
     "metadata": {},
     "output_type": "execute_result"
    }
   ],
   "source": [
    "roc_auc_test"
   ]
  },
  {
   "cell_type": "code",
   "execution_count": 255,
   "metadata": {},
   "outputs": [
    {
     "data": {
      "text/plain": [
       "0.81344808358857923"
      ]
     },
     "execution_count": 255,
     "metadata": {},
     "output_type": "execute_result"
    }
   ],
   "source": [
    "roc_auc_score(y, clf_nn5.predict(X_sc))\n",
    "# on all data--neural network"
   ]
  },
  {
   "cell_type": "code",
   "execution_count": 256,
   "metadata": {},
   "outputs": [
    {
     "data": {
      "text/plain": [
       "0.83026774055072139"
      ]
     },
     "execution_count": 256,
     "metadata": {},
     "output_type": "execute_result"
    }
   ],
   "source": [
    "roc_auc_score(y, clf_rf6.predict(X_sc))\n",
    "# on all data--random forest"
   ]
  },
  {
   "cell_type": "code",
   "execution_count": 257,
   "metadata": {},
   "outputs": [
    {
     "data": {
      "text/plain": [
       "0.69172868473816951"
      ]
     },
     "execution_count": 257,
     "metadata": {},
     "output_type": "execute_result"
    }
   ],
   "source": [
    "roc_auc_score(y, clf_lr2.predict(X_sc))\n",
    "# on all data--logistic regression"
   ]
  },
  {
   "cell_type": "code",
   "execution_count": 258,
   "metadata": {},
   "outputs": [
    {
     "data": {
      "text/plain": [
       "0.83287048079797266"
      ]
     },
     "execution_count": 258,
     "metadata": {},
     "output_type": "execute_result"
    }
   ],
   "source": [
    "roc_auc_score(y, clf_svc5.predict(X_sc))\n",
    "# on all data--SVM.SVC"
   ]
  },
  {
   "cell_type": "code",
   "execution_count": 259,
   "metadata": {},
   "outputs": [],
   "source": [
    "roc_auc_test.to_csv(\"roc_auc_test_unbal_training_data_fin.csv\", encoding='utf-8', index=False)"
   ]
  },
  {
   "cell_type": "code",
   "execution_count": 260,
   "metadata": {},
   "outputs": [
    {
     "data": {
      "text/html": [
       "<div>\n",
       "<style scoped>\n",
       "    .dataframe tbody tr th:only-of-type {\n",
       "        vertical-align: middle;\n",
       "    }\n",
       "\n",
       "    .dataframe tbody tr th {\n",
       "        vertical-align: top;\n",
       "    }\n",
       "\n",
       "    .dataframe thead th {\n",
       "        text-align: right;\n",
       "    }\n",
       "</style>\n",
       "<table border=\"1\" class=\"dataframe\">\n",
       "  <thead>\n",
       "    <tr style=\"text-align: right;\">\n",
       "      <th></th>\n",
       "      <th>classification method</th>\n",
       "      <th>roc_auc_score_test_data</th>\n",
       "    </tr>\n",
       "  </thead>\n",
       "  <tbody>\n",
       "    <tr>\n",
       "      <th>0</th>\n",
       "      <td>neural network</td>\n",
       "      <td>0.782791</td>\n",
       "    </tr>\n",
       "    <tr>\n",
       "      <th>1</th>\n",
       "      <td>random forest</td>\n",
       "      <td>0.740075</td>\n",
       "    </tr>\n",
       "    <tr>\n",
       "      <th>2</th>\n",
       "      <td>logistic regression</td>\n",
       "      <td>0.688432</td>\n",
       "    </tr>\n",
       "    <tr>\n",
       "      <th>3</th>\n",
       "      <td>SVM.SVC</td>\n",
       "      <td>0.702594</td>\n",
       "    </tr>\n",
       "  </tbody>\n",
       "</table>\n",
       "</div>"
      ],
      "text/plain": [
       "  classification method  roc_auc_score_test_data\n",
       "0        neural network                 0.782791\n",
       "1         random forest                 0.740075\n",
       "2   logistic regression                 0.688432\n",
       "3               SVM.SVC                 0.702594"
      ]
     },
     "execution_count": 260,
     "metadata": {},
     "output_type": "execute_result"
    }
   ],
   "source": [
    "pd.read_csv(\"roc_auc_test_unbal_training_data_fin.csv\")"
   ]
  },
  {
   "cell_type": "code",
   "execution_count": 261,
   "metadata": {},
   "outputs": [],
   "source": [
    "roc_auc_all = pd.DataFrame.from_dict({\"classification method\":[\"neural network\", 'random forest', \n",
    "'logistic regression', 'SVM.SVC'], \n",
    "\"roc_auc_score_all_data\": [roc_auc_score(y, clf_nn5.predict(X_sc)), \n",
    "                           roc_auc_score(y, clf_rf6.predict(X_sc)), \n",
    "                           roc_auc_score(y, clf_lr2.predict(X_sc)), \n",
    "                           roc_auc_score(y, clf_svc5.predict(X_sc))]})"
   ]
  },
  {
   "cell_type": "code",
   "execution_count": 262,
   "metadata": {},
   "outputs": [
    {
     "data": {
      "text/html": [
       "<div>\n",
       "<style scoped>\n",
       "    .dataframe tbody tr th:only-of-type {\n",
       "        vertical-align: middle;\n",
       "    }\n",
       "\n",
       "    .dataframe tbody tr th {\n",
       "        vertical-align: top;\n",
       "    }\n",
       "\n",
       "    .dataframe thead th {\n",
       "        text-align: right;\n",
       "    }\n",
       "</style>\n",
       "<table border=\"1\" class=\"dataframe\">\n",
       "  <thead>\n",
       "    <tr style=\"text-align: right;\">\n",
       "      <th></th>\n",
       "      <th>classification method</th>\n",
       "      <th>roc_auc_score_all_data</th>\n",
       "    </tr>\n",
       "  </thead>\n",
       "  <tbody>\n",
       "    <tr>\n",
       "      <th>0</th>\n",
       "      <td>neural network</td>\n",
       "      <td>0.813448</td>\n",
       "    </tr>\n",
       "    <tr>\n",
       "      <th>1</th>\n",
       "      <td>random forest</td>\n",
       "      <td>0.830268</td>\n",
       "    </tr>\n",
       "    <tr>\n",
       "      <th>2</th>\n",
       "      <td>logistic regression</td>\n",
       "      <td>0.691729</td>\n",
       "    </tr>\n",
       "    <tr>\n",
       "      <th>3</th>\n",
       "      <td>SVM.SVC</td>\n",
       "      <td>0.832870</td>\n",
       "    </tr>\n",
       "  </tbody>\n",
       "</table>\n",
       "</div>"
      ],
      "text/plain": [
       "  classification method  roc_auc_score_all_data\n",
       "0        neural network                0.813448\n",
       "1         random forest                0.830268\n",
       "2   logistic regression                0.691729\n",
       "3               SVM.SVC                0.832870"
      ]
     },
     "execution_count": 262,
     "metadata": {},
     "output_type": "execute_result"
    }
   ],
   "source": [
    "roc_auc_all"
   ]
  },
  {
   "cell_type": "code",
   "execution_count": 263,
   "metadata": {},
   "outputs": [],
   "source": [
    "roc_auc_all.to_csv(\"roc_auc_all_unbal_training_data_fin.csv\", encoding='utf-8', index=False)"
   ]
  },
  {
   "cell_type": "code",
   "execution_count": 264,
   "metadata": {},
   "outputs": [
    {
     "data": {
      "text/html": [
       "<div>\n",
       "<style scoped>\n",
       "    .dataframe tbody tr th:only-of-type {\n",
       "        vertical-align: middle;\n",
       "    }\n",
       "\n",
       "    .dataframe tbody tr th {\n",
       "        vertical-align: top;\n",
       "    }\n",
       "\n",
       "    .dataframe thead th {\n",
       "        text-align: right;\n",
       "    }\n",
       "</style>\n",
       "<table border=\"1\" class=\"dataframe\">\n",
       "  <thead>\n",
       "    <tr style=\"text-align: right;\">\n",
       "      <th></th>\n",
       "      <th>classification method</th>\n",
       "      <th>roc_auc_score_all_data</th>\n",
       "    </tr>\n",
       "  </thead>\n",
       "  <tbody>\n",
       "    <tr>\n",
       "      <th>0</th>\n",
       "      <td>neural network</td>\n",
       "      <td>0.813448</td>\n",
       "    </tr>\n",
       "    <tr>\n",
       "      <th>1</th>\n",
       "      <td>random forest</td>\n",
       "      <td>0.830268</td>\n",
       "    </tr>\n",
       "    <tr>\n",
       "      <th>2</th>\n",
       "      <td>logistic regression</td>\n",
       "      <td>0.691729</td>\n",
       "    </tr>\n",
       "    <tr>\n",
       "      <th>3</th>\n",
       "      <td>SVM.SVC</td>\n",
       "      <td>0.832870</td>\n",
       "    </tr>\n",
       "  </tbody>\n",
       "</table>\n",
       "</div>"
      ],
      "text/plain": [
       "  classification method  roc_auc_score_all_data\n",
       "0        neural network                0.813448\n",
       "1         random forest                0.830268\n",
       "2   logistic regression                0.691729\n",
       "3               SVM.SVC                0.832870"
      ]
     },
     "execution_count": 264,
     "metadata": {},
     "output_type": "execute_result"
    }
   ],
   "source": [
    "roc_auc_all"
   ]
  },
  {
   "cell_type": "code",
   "execution_count": 265,
   "metadata": {},
   "outputs": [
    {
     "data": {
      "image/png": "[encoded data removed]",
      "text/plain": [
       "<matplotlib.figure.Figure at 0x7fdcd5b8ad68>"
      ]
     },
     "metadata": {},
     "output_type": "display_data"
    }
   ],
   "source": [
    "fig, ax = plt.subplots(1, 2, figsize = (12, 4))\n",
    "ax[0].bar(roc_auc_test['classification method'], roc_auc_test['roc_auc_score_test_data'], width=0.5)\n",
    "ax[0].set_ylim((0.6, 0.9))\n",
    "ax[0].set_xlabel(\"classification method\", fontsize=14, verticalalignment='top')\n",
    "ax[0].set_ylabel(\"roc_auc_score\", fontsize=14)\n",
    "ax[0].set_title(\"roc_auc_score on test data\", fontsize=16)\n",
    "ax[1].bar(roc_auc_all['classification method'], roc_auc_all['roc_auc_score_all_data'], width=0.5)\n",
    "ax[1].set_ylim((0.6, 0.9))\n",
    "ax[1].set_xlabel(\"classification method\", fontsize=14, verticalalignment='top')\n",
    "ax[1].set_ylabel(\"roc_auc_score\", fontsize=14)\n",
    "ax[1].set_title(\"roc_auc_score on all data\", fontsize=16)\n",
    "plt.tight_layout()\n",
    "plt.savefig(\"bank_deposit_roc_auc_unbalance_trainig_data.png\", dpi=300)"
   ]
  },
  {
   "cell_type": "markdown",
   "metadata": {},
   "source": [
    "### The neural network work data have the best roc_auc_score on the test data. Neural network, SVM and random forest models' roc_auc_scores on all data are close (SMV and random forest are slight better). \n",
    "### The SMC.SVC and random forest models perfomed well on all data, not so much on the test data, suggesting these models overfit the data. "
   ]
  },
  {
   "cell_type": "code",
   "execution_count": null,
   "metadata": {},
   "outputs": [],
   "source": []
  }
 ],
 "metadata": {
  "kernelspec": {
   "display_name": "Python [default]",
   "language": "python",
   "name": "python3"
  },
  "language_info": {
   "codemirror_mode": {
    "name": "ipython",
    "version": 3
   },
   "file_extension": ".py",
   "mimetype": "text/x-python",
   "name": "python",
   "nbconvert_exporter": "python",
   "pygments_lexer": "ipython3",
   "version": "3.6.2"
  }
 },
 "nbformat": 4,
 "nbformat_minor": 2
}
