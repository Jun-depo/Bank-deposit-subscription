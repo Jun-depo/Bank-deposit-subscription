{
 "cells": [
  {
   "cell_type": "code",
   "execution_count": 1,
   "metadata": {},
   "outputs": [],
   "source": [
    "import pandas as pd\n",
    "import numpy as np\n",
    "import matplotlib.pyplot as plt"
   ]
  },
  {
   "cell_type": "code",
   "execution_count": 2,
   "metadata": {},
   "outputs": [],
   "source": [
    "df = pd.read_csv(\"bank_additional_full_clean_scaled.csv\")"
   ]
  },
  {
   "cell_type": "code",
   "execution_count": 3,
   "metadata": {},
   "outputs": [
    {
     "data": {
      "text/html": [
       "<div>\n",
       "<style scoped>\n",
       "    .dataframe tbody tr th:only-of-type {\n",
       "        vertical-align: middle;\n",
       "    }\n",
       "\n",
       "    .dataframe tbody tr th {\n",
       "        vertical-align: top;\n",
       "    }\n",
       "\n",
       "    .dataframe thead th {\n",
       "        text-align: right;\n",
       "    }\n",
       "</style>\n",
       "<table border=\"1\" class=\"dataframe\">\n",
       "  <thead>\n",
       "    <tr style=\"text-align: right;\">\n",
       "      <th></th>\n",
       "      <th>age</th>\n",
       "      <th>job</th>\n",
       "      <th>marital</th>\n",
       "      <th>education</th>\n",
       "      <th>default</th>\n",
       "      <th>housing</th>\n",
       "      <th>loan</th>\n",
       "      <th>contact</th>\n",
       "      <th>month</th>\n",
       "      <th>day_of_week</th>\n",
       "      <th>...</th>\n",
       "      <th>campaign</th>\n",
       "      <th>pdays</th>\n",
       "      <th>previous</th>\n",
       "      <th>poutcome</th>\n",
       "      <th>emp.var.rate</th>\n",
       "      <th>cons.price.idx</th>\n",
       "      <th>cons.conf.idx</th>\n",
       "      <th>euribor3m</th>\n",
       "      <th>nr.employed</th>\n",
       "      <th>y</th>\n",
       "    </tr>\n",
       "  </thead>\n",
       "  <tbody>\n",
       "    <tr>\n",
       "      <th>0</th>\n",
       "      <td>1.642226</td>\n",
       "      <td>0</td>\n",
       "      <td>1</td>\n",
       "      <td>1</td>\n",
       "      <td>0</td>\n",
       "      <td>0</td>\n",
       "      <td>0</td>\n",
       "      <td>0</td>\n",
       "      <td>5</td>\n",
       "      <td>1</td>\n",
       "      <td>...</td>\n",
       "      <td>-0.559326</td>\n",
       "      <td>0.211884</td>\n",
       "      <td>-0.37161</td>\n",
       "      <td>1</td>\n",
       "      <td>0.727466</td>\n",
       "      <td>0.804082</td>\n",
       "      <td>0.877437</td>\n",
       "      <td>0.786089</td>\n",
       "      <td>0.401641</td>\n",
       "      <td>0</td>\n",
       "    </tr>\n",
       "    <tr>\n",
       "      <th>1</th>\n",
       "      <td>-0.196449</td>\n",
       "      <td>1</td>\n",
       "      <td>1</td>\n",
       "      <td>4</td>\n",
       "      <td>0</td>\n",
       "      <td>1</td>\n",
       "      <td>0</td>\n",
       "      <td>0</td>\n",
       "      <td>5</td>\n",
       "      <td>1</td>\n",
       "      <td>...</td>\n",
       "      <td>-0.559326</td>\n",
       "      <td>0.211884</td>\n",
       "      <td>-0.37161</td>\n",
       "      <td>1</td>\n",
       "      <td>0.727466</td>\n",
       "      <td>0.804082</td>\n",
       "      <td>0.877437</td>\n",
       "      <td>0.786089</td>\n",
       "      <td>0.401641</td>\n",
       "      <td>0</td>\n",
       "    </tr>\n",
       "    <tr>\n",
       "      <th>2</th>\n",
       "      <td>0.093868</td>\n",
       "      <td>2</td>\n",
       "      <td>1</td>\n",
       "      <td>2</td>\n",
       "      <td>0</td>\n",
       "      <td>0</td>\n",
       "      <td>0</td>\n",
       "      <td>0</td>\n",
       "      <td>5</td>\n",
       "      <td>1</td>\n",
       "      <td>...</td>\n",
       "      <td>-0.559326</td>\n",
       "      <td>0.211884</td>\n",
       "      <td>-0.37161</td>\n",
       "      <td>1</td>\n",
       "      <td>0.727466</td>\n",
       "      <td>0.804082</td>\n",
       "      <td>0.877437</td>\n",
       "      <td>0.786089</td>\n",
       "      <td>0.401641</td>\n",
       "      <td>0</td>\n",
       "    </tr>\n",
       "    <tr>\n",
       "      <th>3</th>\n",
       "      <td>1.642226</td>\n",
       "      <td>1</td>\n",
       "      <td>1</td>\n",
       "      <td>4</td>\n",
       "      <td>0</td>\n",
       "      <td>0</td>\n",
       "      <td>1</td>\n",
       "      <td>0</td>\n",
       "      <td>5</td>\n",
       "      <td>1</td>\n",
       "      <td>...</td>\n",
       "      <td>-0.559326</td>\n",
       "      <td>0.211884</td>\n",
       "      <td>-0.37161</td>\n",
       "      <td>1</td>\n",
       "      <td>0.727466</td>\n",
       "      <td>0.804082</td>\n",
       "      <td>0.877437</td>\n",
       "      <td>0.786089</td>\n",
       "      <td>0.401641</td>\n",
       "      <td>0</td>\n",
       "    </tr>\n",
       "    <tr>\n",
       "      <th>4</th>\n",
       "      <td>1.932543</td>\n",
       "      <td>2</td>\n",
       "      <td>1</td>\n",
       "      <td>5</td>\n",
       "      <td>0</td>\n",
       "      <td>0</td>\n",
       "      <td>0</td>\n",
       "      <td>0</td>\n",
       "      <td>5</td>\n",
       "      <td>1</td>\n",
       "      <td>...</td>\n",
       "      <td>-0.559326</td>\n",
       "      <td>0.211884</td>\n",
       "      <td>-0.37161</td>\n",
       "      <td>1</td>\n",
       "      <td>0.727466</td>\n",
       "      <td>0.804082</td>\n",
       "      <td>0.877437</td>\n",
       "      <td>0.786089</td>\n",
       "      <td>0.401641</td>\n",
       "      <td>0</td>\n",
       "    </tr>\n",
       "  </tbody>\n",
       "</table>\n",
       "<p>5 rows × 21 columns</p>\n",
       "</div>"
      ],
      "text/plain": [
       "        age  job  marital  education  default  housing  loan  contact  month  \\\n",
       "0  1.642226    0        1          1        0        0     0        0      5   \n",
       "1 -0.196449    1        1          4        0        1     0        0      5   \n",
       "2  0.093868    2        1          2        0        0     0        0      5   \n",
       "3  1.642226    1        1          4        0        0     1        0      5   \n",
       "4  1.932543    2        1          5        0        0     0        0      5   \n",
       "\n",
       "   day_of_week ...  campaign     pdays  previous  poutcome  emp.var.rate  \\\n",
       "0            1 ... -0.559326  0.211884  -0.37161         1      0.727466   \n",
       "1            1 ... -0.559326  0.211884  -0.37161         1      0.727466   \n",
       "2            1 ... -0.559326  0.211884  -0.37161         1      0.727466   \n",
       "3            1 ... -0.559326  0.211884  -0.37161         1      0.727466   \n",
       "4            1 ... -0.559326  0.211884  -0.37161         1      0.727466   \n",
       "\n",
       "   cons.price.idx  cons.conf.idx  euribor3m  nr.employed  y  \n",
       "0        0.804082       0.877437   0.786089     0.401641  0  \n",
       "1        0.804082       0.877437   0.786089     0.401641  0  \n",
       "2        0.804082       0.877437   0.786089     0.401641  0  \n",
       "3        0.804082       0.877437   0.786089     0.401641  0  \n",
       "4        0.804082       0.877437   0.786089     0.401641  0  \n",
       "\n",
       "[5 rows x 21 columns]"
      ]
     },
     "execution_count": 3,
     "metadata": {},
     "output_type": "execute_result"
    }
   ],
   "source": [
    "df.head()"
   ]
  },
  {
   "cell_type": "code",
   "execution_count": 4,
   "metadata": {},
   "outputs": [
    {
     "data": {
      "text/plain": [
       "(30488, 21)"
      ]
     },
     "execution_count": 4,
     "metadata": {},
     "output_type": "execute_result"
    }
   ],
   "source": [
    "df.shape"
   ]
  },
  {
   "cell_type": "code",
   "execution_count": 5,
   "metadata": {},
   "outputs": [],
   "source": [
    "df0 = df[df['y']==0]"
   ]
  },
  {
   "cell_type": "code",
   "execution_count": 6,
   "metadata": {},
   "outputs": [],
   "source": [
    "df1 = df[df['y']==1]"
   ]
  },
  {
   "cell_type": "code",
   "execution_count": 7,
   "metadata": {},
   "outputs": [
    {
     "data": {
      "text/plain": [
       "(26629, 21)"
      ]
     },
     "execution_count": 7,
     "metadata": {},
     "output_type": "execute_result"
    }
   ],
   "source": [
    "df0.shape"
   ]
  },
  {
   "cell_type": "code",
   "execution_count": 8,
   "metadata": {},
   "outputs": [
    {
     "data": {
      "text/plain": [
       "(3859, 21)"
      ]
     },
     "execution_count": 8,
     "metadata": {},
     "output_type": "execute_result"
    }
   ],
   "source": [
    "df1.shape"
   ]
  },
  {
   "cell_type": "code",
   "execution_count": 9,
   "metadata": {},
   "outputs": [],
   "source": [
    "from sklearn.utils import shuffle"
   ]
  },
  {
   "cell_type": "code",
   "execution_count": 10,
   "metadata": {},
   "outputs": [
    {
     "data": {
      "text/html": [
       "<div>\n",
       "<style scoped>\n",
       "    .dataframe tbody tr th:only-of-type {\n",
       "        vertical-align: middle;\n",
       "    }\n",
       "\n",
       "    .dataframe tbody tr th {\n",
       "        vertical-align: top;\n",
       "    }\n",
       "\n",
       "    .dataframe thead th {\n",
       "        text-align: right;\n",
       "    }\n",
       "</style>\n",
       "<table border=\"1\" class=\"dataframe\">\n",
       "  <thead>\n",
       "    <tr style=\"text-align: right;\">\n",
       "      <th></th>\n",
       "      <th>age</th>\n",
       "      <th>job</th>\n",
       "      <th>marital</th>\n",
       "      <th>education</th>\n",
       "      <th>default</th>\n",
       "      <th>housing</th>\n",
       "      <th>loan</th>\n",
       "      <th>contact</th>\n",
       "      <th>month</th>\n",
       "      <th>day_of_week</th>\n",
       "      <th>...</th>\n",
       "      <th>campaign</th>\n",
       "      <th>pdays</th>\n",
       "      <th>previous</th>\n",
       "      <th>poutcome</th>\n",
       "      <th>emp.var.rate</th>\n",
       "      <th>cons.price.idx</th>\n",
       "      <th>cons.conf.idx</th>\n",
       "      <th>euribor3m</th>\n",
       "      <th>nr.employed</th>\n",
       "      <th>y</th>\n",
       "    </tr>\n",
       "  </thead>\n",
       "  <tbody>\n",
       "    <tr>\n",
       "      <th>24658</th>\n",
       "      <td>0.093868</td>\n",
       "      <td>3</td>\n",
       "      <td>1</td>\n",
       "      <td>1</td>\n",
       "      <td>0</td>\n",
       "      <td>1</td>\n",
       "      <td>0</td>\n",
       "      <td>1</td>\n",
       "      <td>5</td>\n",
       "      <td>4</td>\n",
       "      <td>...</td>\n",
       "      <td>-0.559326</td>\n",
       "      <td>0.211884</td>\n",
       "      <td>-0.37161</td>\n",
       "      <td>1</td>\n",
       "      <td>-1.073330</td>\n",
       "      <td>-1.076766</td>\n",
       "      <td>-1.168813</td>\n",
       "      <td>-1.234470</td>\n",
       "      <td>-0.821115</td>\n",
       "      <td>0</td>\n",
       "    </tr>\n",
       "    <tr>\n",
       "      <th>2034</th>\n",
       "      <td>-0.099677</td>\n",
       "      <td>3</td>\n",
       "      <td>0</td>\n",
       "      <td>1</td>\n",
       "      <td>0</td>\n",
       "      <td>1</td>\n",
       "      <td>0</td>\n",
       "      <td>0</td>\n",
       "      <td>5</td>\n",
       "      <td>4</td>\n",
       "      <td>...</td>\n",
       "      <td>-0.191699</td>\n",
       "      <td>0.211884</td>\n",
       "      <td>-0.37161</td>\n",
       "      <td>1</td>\n",
       "      <td>0.727466</td>\n",
       "      <td>0.804082</td>\n",
       "      <td>0.877437</td>\n",
       "      <td>0.787777</td>\n",
       "      <td>0.401641</td>\n",
       "      <td>0</td>\n",
       "    </tr>\n",
       "    <tr>\n",
       "      <th>16015</th>\n",
       "      <td>0.093868</td>\n",
       "      <td>4</td>\n",
       "      <td>1</td>\n",
       "      <td>5</td>\n",
       "      <td>0</td>\n",
       "      <td>0</td>\n",
       "      <td>0</td>\n",
       "      <td>1</td>\n",
       "      <td>8</td>\n",
       "      <td>5</td>\n",
       "      <td>...</td>\n",
       "      <td>-0.559326</td>\n",
       "      <td>0.211884</td>\n",
       "      <td>-0.37161</td>\n",
       "      <td>1</td>\n",
       "      <td>0.913755</td>\n",
       "      <td>-0.135488</td>\n",
       "      <td>0.940077</td>\n",
       "      <td>0.845733</td>\n",
       "      <td>0.895268</td>\n",
       "      <td>0</td>\n",
       "    </tr>\n",
       "    <tr>\n",
       "      <th>8954</th>\n",
       "      <td>-0.680311</td>\n",
       "      <td>2</td>\n",
       "      <td>0</td>\n",
       "      <td>6</td>\n",
       "      <td>0</td>\n",
       "      <td>0</td>\n",
       "      <td>0</td>\n",
       "      <td>1</td>\n",
       "      <td>7</td>\n",
       "      <td>5</td>\n",
       "      <td>...</td>\n",
       "      <td>-0.191699</td>\n",
       "      <td>0.211884</td>\n",
       "      <td>-0.37161</td>\n",
       "      <td>1</td>\n",
       "      <td>0.913755</td>\n",
       "      <td>0.674250</td>\n",
       "      <td>-0.438010</td>\n",
       "      <td>0.845733</td>\n",
       "      <td>0.895268</td>\n",
       "      <td>0</td>\n",
       "    </tr>\n",
       "    <tr>\n",
       "      <th>13622</th>\n",
       "      <td>0.868047</td>\n",
       "      <td>3</td>\n",
       "      <td>1</td>\n",
       "      <td>1</td>\n",
       "      <td>0</td>\n",
       "      <td>0</td>\n",
       "      <td>0</td>\n",
       "      <td>1</td>\n",
       "      <td>8</td>\n",
       "      <td>2</td>\n",
       "      <td>...</td>\n",
       "      <td>1.646434</td>\n",
       "      <td>0.211884</td>\n",
       "      <td>-0.37161</td>\n",
       "      <td>1</td>\n",
       "      <td>0.913755</td>\n",
       "      <td>-0.135488</td>\n",
       "      <td>0.940077</td>\n",
       "      <td>0.847421</td>\n",
       "      <td>0.895268</td>\n",
       "      <td>0</td>\n",
       "    </tr>\n",
       "  </tbody>\n",
       "</table>\n",
       "<p>5 rows × 21 columns</p>\n",
       "</div>"
      ],
      "text/plain": [
       "            age  job  marital  education  default  housing  loan  contact  \\\n",
       "24658  0.093868    3        1          1        0        1     0        1   \n",
       "2034  -0.099677    3        0          1        0        1     0        0   \n",
       "16015  0.093868    4        1          5        0        0     0        1   \n",
       "8954  -0.680311    2        0          6        0        0     0        1   \n",
       "13622  0.868047    3        1          1        0        0     0        1   \n",
       "\n",
       "       month  day_of_week ...  campaign     pdays  previous  poutcome  \\\n",
       "24658      5            4 ... -0.559326  0.211884  -0.37161         1   \n",
       "2034       5            4 ... -0.191699  0.211884  -0.37161         1   \n",
       "16015      8            5 ... -0.559326  0.211884  -0.37161         1   \n",
       "8954       7            5 ... -0.191699  0.211884  -0.37161         1   \n",
       "13622      8            2 ...  1.646434  0.211884  -0.37161         1   \n",
       "\n",
       "       emp.var.rate  cons.price.idx  cons.conf.idx  euribor3m  nr.employed  y  \n",
       "24658     -1.073330       -1.076766      -1.168813  -1.234470    -0.821115  0  \n",
       "2034       0.727466        0.804082       0.877437   0.787777     0.401641  0  \n",
       "16015      0.913755       -0.135488       0.940077   0.845733     0.895268  0  \n",
       "8954       0.913755        0.674250      -0.438010   0.845733     0.895268  0  \n",
       "13622      0.913755       -0.135488       0.940077   0.847421     0.895268  0  \n",
       "\n",
       "[5 rows x 21 columns]"
      ]
     },
     "execution_count": 10,
     "metadata": {},
     "output_type": "execute_result"
    }
   ],
   "source": [
    "shuffle(df0, random_state=101).head()\n",
    "# random shuffle class 0 data"
   ]
  },
  {
   "cell_type": "code",
   "execution_count": 11,
   "metadata": {},
   "outputs": [],
   "source": [
    "df0_rs = shuffle(df0).iloc[0:10000]\n",
    "# pick 10000 class 0 data"
   ]
  },
  {
   "cell_type": "code",
   "execution_count": 12,
   "metadata": {},
   "outputs": [],
   "source": [
    "df_merg = pd.concat([df1, df0_rs])\n",
    "# mix 10000 class 0 and all class 1 data"
   ]
  },
  {
   "cell_type": "code",
   "execution_count": 13,
   "metadata": {},
   "outputs": [
    {
     "data": {
      "text/html": [
       "<div>\n",
       "<style scoped>\n",
       "    .dataframe tbody tr th:only-of-type {\n",
       "        vertical-align: middle;\n",
       "    }\n",
       "\n",
       "    .dataframe tbody tr th {\n",
       "        vertical-align: top;\n",
       "    }\n",
       "\n",
       "    .dataframe thead th {\n",
       "        text-align: right;\n",
       "    }\n",
       "</style>\n",
       "<table border=\"1\" class=\"dataframe\">\n",
       "  <thead>\n",
       "    <tr style=\"text-align: right;\">\n",
       "      <th></th>\n",
       "      <th>age</th>\n",
       "      <th>job</th>\n",
       "      <th>marital</th>\n",
       "      <th>education</th>\n",
       "      <th>default</th>\n",
       "      <th>housing</th>\n",
       "      <th>loan</th>\n",
       "      <th>contact</th>\n",
       "      <th>month</th>\n",
       "      <th>day_of_week</th>\n",
       "      <th>...</th>\n",
       "      <th>campaign</th>\n",
       "      <th>pdays</th>\n",
       "      <th>previous</th>\n",
       "      <th>poutcome</th>\n",
       "      <th>emp.var.rate</th>\n",
       "      <th>cons.price.idx</th>\n",
       "      <th>cons.conf.idx</th>\n",
       "      <th>euribor3m</th>\n",
       "      <th>nr.employed</th>\n",
       "      <th>y</th>\n",
       "    </tr>\n",
       "  </thead>\n",
       "  <tbody>\n",
       "    <tr>\n",
       "      <th>47</th>\n",
       "      <td>0.964819</td>\n",
       "      <td>4</td>\n",
       "      <td>1</td>\n",
       "      <td>3</td>\n",
       "      <td>0</td>\n",
       "      <td>0</td>\n",
       "      <td>0</td>\n",
       "      <td>0</td>\n",
       "      <td>5</td>\n",
       "      <td>1</td>\n",
       "      <td>...</td>\n",
       "      <td>-0.559326</td>\n",
       "      <td>0.211884</td>\n",
       "      <td>-0.37161</td>\n",
       "      <td>1</td>\n",
       "      <td>0.727466</td>\n",
       "      <td>0.804082</td>\n",
       "      <td>0.877437</td>\n",
       "      <td>0.786089</td>\n",
       "      <td>0.401641</td>\n",
       "      <td>1</td>\n",
       "    </tr>\n",
       "    <tr>\n",
       "      <th>98</th>\n",
       "      <td>0.287413</td>\n",
       "      <td>3</td>\n",
       "      <td>1</td>\n",
       "      <td>3</td>\n",
       "      <td>0</td>\n",
       "      <td>1</td>\n",
       "      <td>1</td>\n",
       "      <td>0</td>\n",
       "      <td>5</td>\n",
       "      <td>1</td>\n",
       "      <td>...</td>\n",
       "      <td>-0.191699</td>\n",
       "      <td>0.211884</td>\n",
       "      <td>-0.37161</td>\n",
       "      <td>1</td>\n",
       "      <td>0.727466</td>\n",
       "      <td>0.804082</td>\n",
       "      <td>0.877437</td>\n",
       "      <td>0.786089</td>\n",
       "      <td>0.401641</td>\n",
       "      <td>1</td>\n",
       "    </tr>\n",
       "    <tr>\n",
       "      <th>162</th>\n",
       "      <td>-0.002904</td>\n",
       "      <td>0</td>\n",
       "      <td>1</td>\n",
       "      <td>3</td>\n",
       "      <td>0</td>\n",
       "      <td>1</td>\n",
       "      <td>0</td>\n",
       "      <td>0</td>\n",
       "      <td>5</td>\n",
       "      <td>1</td>\n",
       "      <td>...</td>\n",
       "      <td>0.175927</td>\n",
       "      <td>0.211884</td>\n",
       "      <td>-0.37161</td>\n",
       "      <td>1</td>\n",
       "      <td>0.727466</td>\n",
       "      <td>0.804082</td>\n",
       "      <td>0.877437</td>\n",
       "      <td>0.786089</td>\n",
       "      <td>0.401641</td>\n",
       "      <td>1</td>\n",
       "    </tr>\n",
       "    <tr>\n",
       "      <th>232</th>\n",
       "      <td>0.480957</td>\n",
       "      <td>1</td>\n",
       "      <td>1</td>\n",
       "      <td>4</td>\n",
       "      <td>0</td>\n",
       "      <td>1</td>\n",
       "      <td>0</td>\n",
       "      <td>0</td>\n",
       "      <td>5</td>\n",
       "      <td>2</td>\n",
       "      <td>...</td>\n",
       "      <td>-0.559326</td>\n",
       "      <td>0.211884</td>\n",
       "      <td>-0.37161</td>\n",
       "      <td>1</td>\n",
       "      <td>0.727466</td>\n",
       "      <td>0.804082</td>\n",
       "      <td>0.877437</td>\n",
       "      <td>0.786089</td>\n",
       "      <td>0.401641</td>\n",
       "      <td>1</td>\n",
       "    </tr>\n",
       "    <tr>\n",
       "      <th>263</th>\n",
       "      <td>0.287413</td>\n",
       "      <td>4</td>\n",
       "      <td>1</td>\n",
       "      <td>5</td>\n",
       "      <td>0</td>\n",
       "      <td>0</td>\n",
       "      <td>0</td>\n",
       "      <td>0</td>\n",
       "      <td>5</td>\n",
       "      <td>2</td>\n",
       "      <td>...</td>\n",
       "      <td>-0.559326</td>\n",
       "      <td>0.211884</td>\n",
       "      <td>-0.37161</td>\n",
       "      <td>1</td>\n",
       "      <td>0.727466</td>\n",
       "      <td>0.804082</td>\n",
       "      <td>0.877437</td>\n",
       "      <td>0.786089</td>\n",
       "      <td>0.401641</td>\n",
       "      <td>1</td>\n",
       "    </tr>\n",
       "  </tbody>\n",
       "</table>\n",
       "<p>5 rows × 21 columns</p>\n",
       "</div>"
      ],
      "text/plain": [
       "          age  job  marital  education  default  housing  loan  contact  \\\n",
       "47   0.964819    4        1          3        0        0     0        0   \n",
       "98   0.287413    3        1          3        0        1     1        0   \n",
       "162 -0.002904    0        1          3        0        1     0        0   \n",
       "232  0.480957    1        1          4        0        1     0        0   \n",
       "263  0.287413    4        1          5        0        0     0        0   \n",
       "\n",
       "     month  day_of_week ...  campaign     pdays  previous  poutcome  \\\n",
       "47       5            1 ... -0.559326  0.211884  -0.37161         1   \n",
       "98       5            1 ... -0.191699  0.211884  -0.37161         1   \n",
       "162      5            1 ...  0.175927  0.211884  -0.37161         1   \n",
       "232      5            2 ... -0.559326  0.211884  -0.37161         1   \n",
       "263      5            2 ... -0.559326  0.211884  -0.37161         1   \n",
       "\n",
       "     emp.var.rate  cons.price.idx  cons.conf.idx  euribor3m  nr.employed  y  \n",
       "47       0.727466        0.804082       0.877437   0.786089     0.401641  1  \n",
       "98       0.727466        0.804082       0.877437   0.786089     0.401641  1  \n",
       "162      0.727466        0.804082       0.877437   0.786089     0.401641  1  \n",
       "232      0.727466        0.804082       0.877437   0.786089     0.401641  1  \n",
       "263      0.727466        0.804082       0.877437   0.786089     0.401641  1  \n",
       "\n",
       "[5 rows x 21 columns]"
      ]
     },
     "execution_count": 13,
     "metadata": {},
     "output_type": "execute_result"
    }
   ],
   "source": [
    "df_merg.head()"
   ]
  },
  {
   "cell_type": "code",
   "execution_count": 14,
   "metadata": {},
   "outputs": [
    {
     "data": {
      "text/html": [
       "<div>\n",
       "<style scoped>\n",
       "    .dataframe tbody tr th:only-of-type {\n",
       "        vertical-align: middle;\n",
       "    }\n",
       "\n",
       "    .dataframe tbody tr th {\n",
       "        vertical-align: top;\n",
       "    }\n",
       "\n",
       "    .dataframe thead th {\n",
       "        text-align: right;\n",
       "    }\n",
       "</style>\n",
       "<table border=\"1\" class=\"dataframe\">\n",
       "  <thead>\n",
       "    <tr style=\"text-align: right;\">\n",
       "      <th></th>\n",
       "      <th>age</th>\n",
       "      <th>job</th>\n",
       "      <th>marital</th>\n",
       "      <th>education</th>\n",
       "      <th>default</th>\n",
       "      <th>housing</th>\n",
       "      <th>loan</th>\n",
       "      <th>contact</th>\n",
       "      <th>month</th>\n",
       "      <th>day_of_week</th>\n",
       "      <th>...</th>\n",
       "      <th>campaign</th>\n",
       "      <th>pdays</th>\n",
       "      <th>previous</th>\n",
       "      <th>poutcome</th>\n",
       "      <th>emp.var.rate</th>\n",
       "      <th>cons.price.idx</th>\n",
       "      <th>cons.conf.idx</th>\n",
       "      <th>euribor3m</th>\n",
       "      <th>nr.employed</th>\n",
       "      <th>y</th>\n",
       "    </tr>\n",
       "  </thead>\n",
       "  <tbody>\n",
       "    <tr>\n",
       "      <th>10123</th>\n",
       "      <td>2.029315</td>\n",
       "      <td>2</td>\n",
       "      <td>2</td>\n",
       "      <td>4</td>\n",
       "      <td>0</td>\n",
       "      <td>0</td>\n",
       "      <td>0</td>\n",
       "      <td>1</td>\n",
       "      <td>7</td>\n",
       "      <td>5</td>\n",
       "      <td>...</td>\n",
       "      <td>-0.191699</td>\n",
       "      <td>0.211884</td>\n",
       "      <td>-0.37161</td>\n",
       "      <td>1</td>\n",
       "      <td>0.913755</td>\n",
       "      <td>0.674250</td>\n",
       "      <td>-0.438010</td>\n",
       "      <td>0.842357</td>\n",
       "      <td>0.895268</td>\n",
       "      <td>0</td>\n",
       "    </tr>\n",
       "    <tr>\n",
       "      <th>10256</th>\n",
       "      <td>-1.454490</td>\n",
       "      <td>2</td>\n",
       "      <td>1</td>\n",
       "      <td>4</td>\n",
       "      <td>0</td>\n",
       "      <td>1</td>\n",
       "      <td>0</td>\n",
       "      <td>1</td>\n",
       "      <td>7</td>\n",
       "      <td>1</td>\n",
       "      <td>...</td>\n",
       "      <td>-0.559326</td>\n",
       "      <td>0.211884</td>\n",
       "      <td>-0.37161</td>\n",
       "      <td>1</td>\n",
       "      <td>0.913755</td>\n",
       "      <td>0.674250</td>\n",
       "      <td>-0.438010</td>\n",
       "      <td>0.844045</td>\n",
       "      <td>0.895268</td>\n",
       "      <td>0</td>\n",
       "    </tr>\n",
       "    <tr>\n",
       "      <th>19115</th>\n",
       "      <td>0.577730</td>\n",
       "      <td>2</td>\n",
       "      <td>2</td>\n",
       "      <td>6</td>\n",
       "      <td>0</td>\n",
       "      <td>0</td>\n",
       "      <td>1</td>\n",
       "      <td>1</td>\n",
       "      <td>11</td>\n",
       "      <td>5</td>\n",
       "      <td>...</td>\n",
       "      <td>-0.559326</td>\n",
       "      <td>0.211884</td>\n",
       "      <td>-0.37161</td>\n",
       "      <td>1</td>\n",
       "      <td>-0.017691</td>\n",
       "      <td>-0.552315</td>\n",
       "      <td>-0.291849</td>\n",
       "      <td>0.315695</td>\n",
       "      <td>0.465507</td>\n",
       "      <td>0</td>\n",
       "    </tr>\n",
       "    <tr>\n",
       "      <th>21034</th>\n",
       "      <td>1.738998</td>\n",
       "      <td>4</td>\n",
       "      <td>1</td>\n",
       "      <td>6</td>\n",
       "      <td>0</td>\n",
       "      <td>0</td>\n",
       "      <td>0</td>\n",
       "      <td>1</td>\n",
       "      <td>4</td>\n",
       "      <td>1</td>\n",
       "      <td>...</td>\n",
       "      <td>-0.191699</td>\n",
       "      <td>0.211884</td>\n",
       "      <td>-0.37161</td>\n",
       "      <td>1</td>\n",
       "      <td>-1.073330</td>\n",
       "      <td>-0.765854</td>\n",
       "      <td>-1.356734</td>\n",
       "      <td>-1.156258</td>\n",
       "      <td>-0.821115</td>\n",
       "      <td>0</td>\n",
       "    </tr>\n",
       "    <tr>\n",
       "      <th>9887</th>\n",
       "      <td>-0.389994</td>\n",
       "      <td>2</td>\n",
       "      <td>2</td>\n",
       "      <td>4</td>\n",
       "      <td>0</td>\n",
       "      <td>1</td>\n",
       "      <td>0</td>\n",
       "      <td>0</td>\n",
       "      <td>7</td>\n",
       "      <td>4</td>\n",
       "      <td>...</td>\n",
       "      <td>0.175927</td>\n",
       "      <td>0.211884</td>\n",
       "      <td>-0.37161</td>\n",
       "      <td>1</td>\n",
       "      <td>0.913755</td>\n",
       "      <td>0.674250</td>\n",
       "      <td>-0.438010</td>\n",
       "      <td>0.842919</td>\n",
       "      <td>0.895268</td>\n",
       "      <td>0</td>\n",
       "    </tr>\n",
       "  </tbody>\n",
       "</table>\n",
       "<p>5 rows × 21 columns</p>\n",
       "</div>"
      ],
      "text/plain": [
       "            age  job  marital  education  default  housing  loan  contact  \\\n",
       "10123  2.029315    2        2          4        0        0     0        1   \n",
       "10256 -1.454490    2        1          4        0        1     0        1   \n",
       "19115  0.577730    2        2          6        0        0     1        1   \n",
       "21034  1.738998    4        1          6        0        0     0        1   \n",
       "9887  -0.389994    2        2          4        0        1     0        0   \n",
       "\n",
       "       month  day_of_week ...  campaign     pdays  previous  poutcome  \\\n",
       "10123      7            5 ... -0.191699  0.211884  -0.37161         1   \n",
       "10256      7            1 ... -0.559326  0.211884  -0.37161         1   \n",
       "19115     11            5 ... -0.559326  0.211884  -0.37161         1   \n",
       "21034      4            1 ... -0.191699  0.211884  -0.37161         1   \n",
       "9887       7            4 ...  0.175927  0.211884  -0.37161         1   \n",
       "\n",
       "       emp.var.rate  cons.price.idx  cons.conf.idx  euribor3m  nr.employed  y  \n",
       "10123      0.913755        0.674250      -0.438010   0.842357     0.895268  0  \n",
       "10256      0.913755        0.674250      -0.438010   0.844045     0.895268  0  \n",
       "19115     -0.017691       -0.552315      -0.291849   0.315695     0.465507  0  \n",
       "21034     -1.073330       -0.765854      -1.356734  -1.156258    -0.821115  0  \n",
       "9887       0.913755        0.674250      -0.438010   0.842919     0.895268  0  \n",
       "\n",
       "[5 rows x 21 columns]"
      ]
     },
     "execution_count": 14,
     "metadata": {},
     "output_type": "execute_result"
    }
   ],
   "source": [
    "df_merg.tail()"
   ]
  },
  {
   "cell_type": "code",
   "execution_count": 15,
   "metadata": {},
   "outputs": [],
   "source": [
    "from sklearn.model_selection import train_test_split"
   ]
  },
  {
   "cell_type": "code",
   "execution_count": 17,
   "metadata": {},
   "outputs": [],
   "source": [
    "X_sc = df_merg.iloc[:,0:-1]"
   ]
  },
  {
   "cell_type": "code",
   "execution_count": 18,
   "metadata": {},
   "outputs": [],
   "source": [
    "y = df_merg['y']"
   ]
  },
  {
   "cell_type": "code",
   "execution_count": 19,
   "metadata": {},
   "outputs": [
    {
     "data": {
      "text/plain": [
       "47    1\n",
       "98    1\n",
       "Name: y, dtype: int64"
      ]
     },
     "execution_count": 19,
     "metadata": {},
     "output_type": "execute_result"
    }
   ],
   "source": [
    "y.head(2)"
   ]
  },
  {
   "cell_type": "code",
   "execution_count": 20,
   "metadata": {},
   "outputs": [],
   "source": [
    "X_sc_train, X_sc_temp, y_sc_train, y_temp = train_test_split(X_sc, y, test_size=0.4, random_state=101)"
   ]
  },
  {
   "cell_type": "code",
   "execution_count": 21,
   "metadata": {},
   "outputs": [],
   "source": [
    "X_sc_cv, X_sc_test, y_sc_cv, y_sc_test = train_test_split(X_sc_temp, y_temp, test_size=0.5, random_state=101)"
   ]
  },
  {
   "cell_type": "code",
   "execution_count": 22,
   "metadata": {},
   "outputs": [],
   "source": [
    "from sklearn.ensemble import RandomForestClassifier"
   ]
  },
  {
   "cell_type": "code",
   "execution_count": 23,
   "metadata": {},
   "outputs": [],
   "source": [
    "clf_rf1 = RandomForestClassifier(n_estimators=10).fit(X_sc_train, y_sc_train)"
   ]
  },
  {
   "cell_type": "code",
   "execution_count": 24,
   "metadata": {},
   "outputs": [],
   "source": [
    "clf_rf2 = RandomForestClassifier(n_estimators=20).fit(X_sc_train, y_sc_train)"
   ]
  },
  {
   "cell_type": "code",
   "execution_count": 25,
   "metadata": {},
   "outputs": [],
   "source": [
    "clf_rf3 = RandomForestClassifier(n_estimators=30).fit(X_sc_train, y_sc_train)"
   ]
  },
  {
   "cell_type": "code",
   "execution_count": 26,
   "metadata": {},
   "outputs": [],
   "source": [
    "clf_rf4 = RandomForestClassifier(n_estimators=10, min_samples_leaf=3).fit(X_sc_train, y_sc_train)"
   ]
  },
  {
   "cell_type": "code",
   "execution_count": 27,
   "metadata": {},
   "outputs": [],
   "source": [
    "clf_rf5 = RandomForestClassifier(n_estimators=10, min_samples_leaf=6).fit(X_sc_train, y_sc_train)"
   ]
  },
  {
   "cell_type": "code",
   "execution_count": 28,
   "metadata": {},
   "outputs": [],
   "source": [
    "clf_rf6 = RandomForestClassifier(n_estimators=20, min_samples_leaf=3).fit(X_sc_train, y_sc_train)"
   ]
  },
  {
   "cell_type": "code",
   "execution_count": 29,
   "metadata": {},
   "outputs": [],
   "source": [
    "clf_rf7 = RandomForestClassifier(n_estimators=20, min_samples_leaf=6).fit(X_sc_train, y_sc_train)"
   ]
  },
  {
   "cell_type": "code",
   "execution_count": 30,
   "metadata": {},
   "outputs": [],
   "source": [
    "clf_rf8 = RandomForestClassifier(n_estimators=30, min_samples_leaf=3).fit(X_sc_train, y_sc_train)"
   ]
  },
  {
   "cell_type": "code",
   "execution_count": 31,
   "metadata": {},
   "outputs": [],
   "source": [
    "clf_rf9 = RandomForestClassifier(n_estimators=30, min_samples_leaf=6).fit(X_sc_train, y_sc_train)"
   ]
  },
  {
   "cell_type": "code",
   "execution_count": 32,
   "metadata": {},
   "outputs": [],
   "source": [
    "rf_lst = [clf_rf1, clf_rf2, clf_rf3, clf_rf4, clf_rf5, clf_rf6, clf_rf7, clf_rf8, clf_rf9]\n",
    "n_est_lst = [10, 20, 30, 10, 10, 20, 20, 30, 30]\n",
    "min_samp_lst = [1, 1, 1, 3, 6, 3, 6, 3, 6]"
   ]
  },
  {
   "cell_type": "code",
   "execution_count": 33,
   "metadata": {},
   "outputs": [],
   "source": [
    "from sklearn.metrics import classification_report"
   ]
  },
  {
   "cell_type": "code",
   "execution_count": 34,
   "metadata": {},
   "outputs": [
    {
     "name": "stdout",
     "output_type": "stream",
     "text": [
      "Random Forest model, n_estimators= 10 min_samples_leaf= 1 \n",
      "Classification report on trainng data\n",
      "              precision    recall  f1-score   support\n",
      "\n",
      "          0       0.99      1.00      1.00      5980\n",
      "          1       0.99      0.98      0.99      2335\n",
      "\n",
      "avg / total       0.99      0.99      0.99      8315\n",
      "\n",
      "Classification report on cross-validation data\n",
      "              precision    recall  f1-score   support\n",
      "\n",
      "          0       0.90      0.92      0.91      1994\n",
      "          1       0.78      0.74      0.76       778\n",
      "\n",
      "avg / total       0.87      0.87      0.87      2772\n",
      "\n",
      "Random Forest model, n_estimators= 20 min_samples_leaf= 1 \n",
      "Classification report on trainng data\n",
      "              precision    recall  f1-score   support\n",
      "\n",
      "          0       1.00      1.00      1.00      5980\n",
      "          1       1.00      0.99      1.00      2335\n",
      "\n",
      "avg / total       1.00      1.00      1.00      8315\n",
      "\n",
      "Classification report on cross-validation data\n",
      "              precision    recall  f1-score   support\n",
      "\n",
      "          0       0.92      0.91      0.91      1994\n",
      "          1       0.77      0.79      0.78       778\n",
      "\n",
      "avg / total       0.88      0.88      0.88      2772\n",
      "\n",
      "Random Forest model, n_estimators= 30 min_samples_leaf= 1 \n",
      "Classification report on trainng data\n",
      "              precision    recall  f1-score   support\n",
      "\n",
      "          0       1.00      1.00      1.00      5980\n",
      "          1       1.00      1.00      1.00      2335\n",
      "\n",
      "avg / total       1.00      1.00      1.00      8315\n",
      "\n",
      "Classification report on cross-validation data\n",
      "              precision    recall  f1-score   support\n",
      "\n",
      "          0       0.92      0.90      0.91      1994\n",
      "          1       0.76      0.80      0.78       778\n",
      "\n",
      "avg / total       0.87      0.87      0.87      2772\n",
      "\n",
      "Random Forest model, n_estimators= 10 min_samples_leaf= 3 \n",
      "Classification report on trainng data\n",
      "              precision    recall  f1-score   support\n",
      "\n",
      "          0       0.96      0.95      0.96      5980\n",
      "          1       0.88      0.91      0.89      2335\n",
      "\n",
      "avg / total       0.94      0.94      0.94      8315\n",
      "\n",
      "Classification report on cross-validation data\n",
      "              precision    recall  f1-score   support\n",
      "\n",
      "          0       0.93      0.91      0.92      1994\n",
      "          1       0.77      0.81      0.79       778\n",
      "\n",
      "avg / total       0.88      0.88      0.88      2772\n",
      "\n",
      "Random Forest model, n_estimators= 10 min_samples_leaf= 6 \n",
      "Classification report on trainng data\n",
      "              precision    recall  f1-score   support\n",
      "\n",
      "          0       0.95      0.93      0.94      5980\n",
      "          1       0.83      0.86      0.84      2335\n",
      "\n",
      "avg / total       0.91      0.91      0.91      8315\n",
      "\n",
      "Classification report on cross-validation data\n",
      "              precision    recall  f1-score   support\n",
      "\n",
      "          0       0.92      0.90      0.91      1994\n",
      "          1       0.76      0.80      0.78       778\n",
      "\n",
      "avg / total       0.88      0.87      0.87      2772\n",
      "\n",
      "Random Forest model, n_estimators= 20 min_samples_leaf= 3 \n",
      "Classification report on trainng data\n",
      "              precision    recall  f1-score   support\n",
      "\n",
      "          0       0.97      0.95      0.96      5980\n",
      "          1       0.89      0.92      0.90      2335\n",
      "\n",
      "avg / total       0.95      0.94      0.95      8315\n",
      "\n",
      "Classification report on cross-validation data\n",
      "              precision    recall  f1-score   support\n",
      "\n",
      "          0       0.93      0.90      0.92      1994\n",
      "          1       0.77      0.83      0.80       778\n",
      "\n",
      "avg / total       0.89      0.88      0.88      2772\n",
      "\n",
      "Random Forest model, n_estimators= 20 min_samples_leaf= 6 \n",
      "Classification report on trainng data\n",
      "              precision    recall  f1-score   support\n",
      "\n",
      "          0       0.95      0.93      0.94      5980\n",
      "          1       0.83      0.88      0.86      2335\n",
      "\n",
      "avg / total       0.92      0.92      0.92      8315\n",
      "\n",
      "Classification report on cross-validation data\n",
      "              precision    recall  f1-score   support\n",
      "\n",
      "          0       0.93      0.91      0.92      1994\n",
      "          1       0.77      0.82      0.80       778\n",
      "\n",
      "avg / total       0.89      0.88      0.88      2772\n",
      "\n",
      "Random Forest model, n_estimators= 30 min_samples_leaf= 3 \n",
      "Classification report on trainng data\n",
      "              precision    recall  f1-score   support\n",
      "\n",
      "          0       0.97      0.95      0.96      5980\n",
      "          1       0.89      0.92      0.90      2335\n",
      "\n",
      "avg / total       0.94      0.94      0.94      8315\n",
      "\n",
      "Classification report on cross-validation data\n",
      "              precision    recall  f1-score   support\n",
      "\n",
      "          0       0.93      0.90      0.92      1994\n",
      "          1       0.77      0.82      0.79       778\n",
      "\n",
      "avg / total       0.88      0.88      0.88      2772\n",
      "\n",
      "Random Forest model, n_estimators= 30 min_samples_leaf= 6 \n",
      "Classification report on trainng data\n",
      "              precision    recall  f1-score   support\n",
      "\n",
      "          0       0.95      0.93      0.94      5980\n",
      "          1       0.83      0.88      0.85      2335\n",
      "\n",
      "avg / total       0.92      0.91      0.91      8315\n",
      "\n",
      "Classification report on cross-validation data\n",
      "              precision    recall  f1-score   support\n",
      "\n",
      "          0       0.93      0.90      0.92      1994\n",
      "          1       0.77      0.83      0.79       778\n",
      "\n",
      "avg / total       0.88      0.88      0.88      2772\n",
      "\n"
     ]
    }
   ],
   "source": [
    "for i in range(len(rf_lst)):\n",
    "    print(\"Random Forest model, n_estimators=\", n_est_lst[i], \"min_samples_leaf=\", min_samp_lst[i],\n",
    "          \"\\nClassification report on trainng data\\n\", classification_report(y_sc_train, rf_lst[i].predict(X_sc_train)))\n",
    "    print(\"Classification report on cross-validation data\\n\", classification_report(y_sc_cv, rf_lst[i].predict(X_sc_cv)))"
   ]
  },
  {
   "cell_type": "markdown",
   "metadata": {},
   "source": [
    "#### Ramdon Forest Model 6 and 7 are the best based on f1-score"
   ]
  },
  {
   "cell_type": "code",
   "execution_count": 35,
   "metadata": {},
   "outputs": [],
   "source": [
    "from sklearn.metrics import roc_curve, auc, roc_auc_score"
   ]
  },
  {
   "cell_type": "code",
   "execution_count": 36,
   "metadata": {},
   "outputs": [
    {
     "name": "stdout",
     "output_type": "stream",
     "text": [
      "\n",
      "Random Forest model 1 ---nn_estimators= 10 , min_samples_leaf= 1 \n",
      "roc_auc_score on trainng data\n",
      " 0.990190714229\n",
      "roc_auc_score on cross-validation data\n",
      " 0.827990397929\n",
      "\n",
      "Random Forest model 2 ---nn_estimators= 20 , min_samples_leaf= 1 \n",
      "roc_auc_score on trainng data\n",
      " 0.996369948365\n",
      "roc_auc_score on cross-validation data\n",
      " 0.851284573515\n",
      "\n",
      "Random Forest model 3 ---nn_estimators= 30 , min_samples_leaf= 1 \n",
      "roc_auc_score on trainng data\n",
      " 0.998939541512\n",
      "roc_auc_score on cross-validation data\n",
      " 0.849168972212\n",
      "\n",
      "Random Forest model 4 ---nn_estimators= 10 , min_samples_leaf= 3 \n",
      "roc_auc_score on trainng data\n",
      " 0.928616802618\n",
      "roc_auc_score on cross-validation data\n",
      " 0.859670915059\n",
      "\n",
      "Random Forest model 5 ---nn_estimators= 10 , min_samples_leaf= 6 \n",
      "roc_auc_score on trainng data\n",
      " 0.896026011043\n",
      "roc_auc_score on cross-validation data\n",
      " 0.851269747546\n",
      "\n",
      "Random Forest model 6 ---nn_estimators= 20 , min_samples_leaf= 3 \n",
      "roc_auc_score on trainng data\n",
      " 0.937475739976\n",
      "roc_auc_score on cross-validation data\n",
      " 0.865768900532\n",
      "\n",
      "Random Forest model 7 ---nn_estimators= 20 , min_samples_leaf= 6 \n",
      "roc_auc_score on trainng data\n",
      " 0.905521259301\n",
      "roc_auc_score on cross-validation data\n",
      " 0.864812303234\n",
      "\n",
      "Random Forest model 8 ---nn_estimators= 30 , min_samples_leaf= 3 \n",
      "roc_auc_score on trainng data\n",
      " 0.935725974519\n",
      "roc_auc_score on cross-validation data\n",
      " 0.862523947163\n",
      "\n",
      "Random Forest model 9 ---nn_estimators= 30 , min_samples_leaf= 6 \n",
      "roc_auc_score on trainng data\n",
      " 0.903541068372\n",
      "roc_auc_score on cross-validation data\n",
      " 0.863448958701\n"
     ]
    }
   ],
   "source": [
    "for i in range(len(rf_lst)):\n",
    "    print(\"\\nRandom Forest model\",i+1, \"---nn_estimators=\", n_est_lst[i], \", min_samples_leaf=\", min_samp_lst[i],\n",
    "          \"\\nroc_auc_score on trainng data\\n\", roc_auc_score(y_sc_train, rf_lst[i].predict(X_sc_train)))\n",
    "    print(\"roc_auc_score on cross-validation data\\n\", roc_auc_score(y_sc_cv, rf_lst[i].predict(X_sc_cv)))"
   ]
  },
  {
   "cell_type": "markdown",
   "metadata": {},
   "source": [
    "### Ramdon Forest model 6 is the best based on roc_auc_score.  The model 7 is the close second best, almost identical."
   ]
  },
  {
   "cell_type": "code",
   "execution_count": 38,
   "metadata": {},
   "outputs": [
    {
     "data": {
      "text/plain": [
       "0.85462049654756256"
      ]
     },
     "execution_count": 38,
     "metadata": {},
     "output_type": "execute_result"
    }
   ],
   "source": [
    "roc_auc_score(y_sc_test, clf_rf6.predict(X_sc_test))\n",
    "# n_estimators=20, min_samples_leaf=3"
   ]
  },
  {
   "cell_type": "code",
   "execution_count": 39,
   "metadata": {},
   "outputs": [
    {
     "data": {
      "text/plain": [
       "0.85441009503796483"
      ]
     },
     "execution_count": 39,
     "metadata": {},
     "output_type": "execute_result"
    }
   ],
   "source": [
    "roc_auc_score(y_sc_test, clf_rf7.predict(X_sc_test))\n",
    "# n_estimators=20, min_samples_leaf=6"
   ]
  },
  {
   "cell_type": "code",
   "execution_count": 40,
   "metadata": {},
   "outputs": [
    {
     "data": {
      "text/plain": [
       "(30488, 21)"
      ]
     },
     "execution_count": 40,
     "metadata": {},
     "output_type": "execute_result"
    }
   ],
   "source": [
    "df.shape"
   ]
  },
  {
   "cell_type": "code",
   "execution_count": 41,
   "metadata": {},
   "outputs": [
    {
     "data": {
      "text/plain": [
       "(13859, 20)"
      ]
     },
     "execution_count": 41,
     "metadata": {},
     "output_type": "execute_result"
    }
   ],
   "source": [
    "X_sc.shape"
   ]
  },
  {
   "cell_type": "markdown",
   "metadata": {},
   "source": [
    "#### To make more balanced date. I only analyzed the small fraction of data negative samples and the samll fraction of overall samples (14640/41188 = 0.355 ). I analyzed roc_auc_score for the entire population."
   ]
  },
  {
   "cell_type": "code",
   "execution_count": 42,
   "metadata": {},
   "outputs": [],
   "source": [
    "y_all = df['y']"
   ]
  },
  {
   "cell_type": "code",
   "execution_count": 44,
   "metadata": {},
   "outputs": [],
   "source": [
    "X_all = df.iloc[:,0:-1]"
   ]
  },
  {
   "cell_type": "code",
   "execution_count": 46,
   "metadata": {},
   "outputs": [
    {
     "data": {
      "text/plain": [
       "0.88015558696015472"
      ]
     },
     "execution_count": 46,
     "metadata": {},
     "output_type": "execute_result"
    }
   ],
   "source": [
    "roc_auc_score(y_all, clf_rf7.predict(X_all))"
   ]
  },
  {
   "cell_type": "markdown",
   "metadata": {},
   "source": [
    "### roc_auc_score of the best random forest model is 0.880 for the entire data ,  0.854 for the test data."
   ]
  },
  {
   "cell_type": "code",
   "execution_count": 47,
   "metadata": {},
   "outputs": [],
   "source": [
    "from sklearn.linear_model import LogisticRegression"
   ]
  },
  {
   "cell_type": "code",
   "execution_count": 48,
   "metadata": {},
   "outputs": [],
   "source": [
    "clf_lr1 = LogisticRegression(C=1.0).fit(X_sc_train, y_sc_train)"
   ]
  },
  {
   "cell_type": "code",
   "execution_count": 49,
   "metadata": {},
   "outputs": [],
   "source": [
    "clf_lr2 = LogisticRegression(C=3.0).fit(X_sc_train, y_sc_train)"
   ]
  },
  {
   "cell_type": "code",
   "execution_count": 50,
   "metadata": {},
   "outputs": [],
   "source": [
    "clf_lr3 = LogisticRegression(C=10.0).fit(X_sc_train, y_sc_train)"
   ]
  },
  {
   "cell_type": "code",
   "execution_count": 51,
   "metadata": {},
   "outputs": [],
   "source": [
    "clf_lr4 = LogisticRegression(C=30.0).fit(X_sc_train, y_sc_train)"
   ]
  },
  {
   "cell_type": "code",
   "execution_count": 52,
   "metadata": {},
   "outputs": [],
   "source": [
    "clf_lr5 = LogisticRegression(C=100.0).fit(X_sc_train, y_sc_train)"
   ]
  },
  {
   "cell_type": "code",
   "execution_count": 53,
   "metadata": {},
   "outputs": [],
   "source": [
    "clf_lr6 = LogisticRegression(C=300).fit(X_sc_train, y_sc_train)"
   ]
  },
  {
   "cell_type": "code",
   "execution_count": 54,
   "metadata": {},
   "outputs": [],
   "source": [
    "clf_lr7 = LogisticRegression(C=1000).fit(X_sc_train, y_sc_train)"
   ]
  },
  {
   "cell_type": "code",
   "execution_count": 55,
   "metadata": {},
   "outputs": [],
   "source": [
    "clf_lr8 = LogisticRegression(C=3000).fit(X_sc_train, y_sc_train)"
   ]
  },
  {
   "cell_type": "code",
   "execution_count": 56,
   "metadata": {},
   "outputs": [],
   "source": [
    "lr_lst = [clf_lr1, clf_lr2, clf_lr3,clf_lr4,clf_lr5, clf_lr6, clf_lr7, clf_lr8]\n",
    "cc_lst = [1, 3, 10, 30, 100, 300, 1000, 3000]"
   ]
  },
  {
   "cell_type": "code",
   "execution_count": 57,
   "metadata": {},
   "outputs": [
    {
     "name": "stdout",
     "output_type": "stream",
     "text": [
      "Logistic Regression model 1 , C= 1 \n",
      "Classification report on trainng data\n",
      "              precision    recall  f1-score   support\n",
      "\n",
      "          0       0.88      0.92      0.90      5980\n",
      "          1       0.78      0.67      0.72      2335\n",
      "\n",
      "avg / total       0.85      0.85      0.85      8315\n",
      "\n",
      "Classification report on cross-validation data\n",
      "              precision    recall  f1-score   support\n",
      "\n",
      "          0       0.88      0.93      0.90      1994\n",
      "          1       0.78      0.66      0.72       778\n",
      "\n",
      "avg / total       0.85      0.85      0.85      2772\n",
      "\n",
      "Logistic Regression model 2 , C= 3 \n",
      "Classification report on trainng data\n",
      "              precision    recall  f1-score   support\n",
      "\n",
      "          0       0.88      0.92      0.90      5980\n",
      "          1       0.78      0.67      0.72      2335\n",
      "\n",
      "avg / total       0.85      0.85      0.85      8315\n",
      "\n",
      "Classification report on cross-validation data\n",
      "              precision    recall  f1-score   support\n",
      "\n",
      "          0       0.88      0.93      0.90      1994\n",
      "          1       0.78      0.66      0.72       778\n",
      "\n",
      "avg / total       0.85      0.85      0.85      2772\n",
      "\n",
      "Logistic Regression model 3 , C= 10 \n",
      "Classification report on trainng data\n",
      "              precision    recall  f1-score   support\n",
      "\n",
      "          0       0.88      0.92      0.90      5980\n",
      "          1       0.78      0.67      0.72      2335\n",
      "\n",
      "avg / total       0.85      0.85      0.85      8315\n",
      "\n",
      "Classification report on cross-validation data\n",
      "              precision    recall  f1-score   support\n",
      "\n",
      "          0       0.88      0.93      0.90      1994\n",
      "          1       0.78      0.66      0.72       778\n",
      "\n",
      "avg / total       0.85      0.85      0.85      2772\n",
      "\n",
      "Logistic Regression model 4 , C= 30 \n",
      "Classification report on trainng data\n",
      "              precision    recall  f1-score   support\n",
      "\n",
      "          0       0.88      0.92      0.90      5980\n",
      "          1       0.78      0.67      0.72      2335\n",
      "\n",
      "avg / total       0.85      0.85      0.85      8315\n",
      "\n",
      "Classification report on cross-validation data\n",
      "              precision    recall  f1-score   support\n",
      "\n",
      "          0       0.88      0.93      0.90      1994\n",
      "          1       0.78      0.66      0.72       778\n",
      "\n",
      "avg / total       0.85      0.85      0.85      2772\n",
      "\n",
      "Logistic Regression model 5 , C= 100 \n",
      "Classification report on trainng data\n",
      "              precision    recall  f1-score   support\n",
      "\n",
      "          0       0.88      0.92      0.90      5980\n",
      "          1       0.78      0.67      0.72      2335\n",
      "\n",
      "avg / total       0.85      0.85      0.85      8315\n",
      "\n",
      "Classification report on cross-validation data\n",
      "              precision    recall  f1-score   support\n",
      "\n",
      "          0       0.88      0.93      0.90      1994\n",
      "          1       0.78      0.66      0.72       778\n",
      "\n",
      "avg / total       0.85      0.85      0.85      2772\n",
      "\n",
      "Logistic Regression model 6 , C= 300 \n",
      "Classification report on trainng data\n",
      "              precision    recall  f1-score   support\n",
      "\n",
      "          0       0.88      0.92      0.90      5980\n",
      "          1       0.78      0.67      0.72      2335\n",
      "\n",
      "avg / total       0.85      0.85      0.85      8315\n",
      "\n",
      "Classification report on cross-validation data\n",
      "              precision    recall  f1-score   support\n",
      "\n",
      "          0       0.88      0.93      0.90      1994\n",
      "          1       0.78      0.66      0.72       778\n",
      "\n",
      "avg / total       0.85      0.85      0.85      2772\n",
      "\n",
      "Logistic Regression model 7 , C= 1000 \n",
      "Classification report on trainng data\n",
      "              precision    recall  f1-score   support\n",
      "\n",
      "          0       0.88      0.92      0.90      5980\n",
      "          1       0.78      0.67      0.72      2335\n",
      "\n",
      "avg / total       0.85      0.85      0.85      8315\n",
      "\n",
      "Classification report on cross-validation data\n",
      "              precision    recall  f1-score   support\n",
      "\n",
      "          0       0.88      0.93      0.90      1994\n",
      "          1       0.78      0.66      0.72       778\n",
      "\n",
      "avg / total       0.85      0.85      0.85      2772\n",
      "\n",
      "Logistic Regression model 8 , C= 3000 \n",
      "Classification report on trainng data\n",
      "              precision    recall  f1-score   support\n",
      "\n",
      "          0       0.88      0.92      0.90      5980\n",
      "          1       0.78      0.67      0.72      2335\n",
      "\n",
      "avg / total       0.85      0.85      0.85      8315\n",
      "\n",
      "Classification report on cross-validation data\n",
      "              precision    recall  f1-score   support\n",
      "\n",
      "          0       0.88      0.93      0.90      1994\n",
      "          1       0.78      0.66      0.72       778\n",
      "\n",
      "avg / total       0.85      0.85      0.85      2772\n",
      "\n"
     ]
    }
   ],
   "source": [
    "for i in range(len(lr_lst)):\n",
    "    print(\"Logistic Regression model\", i+1, \", C=\", cc_lst[i],\n",
    "          \"\\nClassification report on trainng data\\n\", \n",
    "          classification_report(y_sc_train, lr_lst[i].predict(X_sc_train)))\n",
    "    print(\"Classification report on cross-validation data\\n\", \n",
    "          classification_report(y_sc_cv, lr_lst[i].predict(X_sc_cv)))"
   ]
  },
  {
   "cell_type": "code",
   "execution_count": 58,
   "metadata": {},
   "outputs": [
    {
     "name": "stdout",
     "output_type": "stream",
     "text": [
      "\n",
      "Logistic Regression model 1 , C= 1 \n",
      "roc_auc_score on trainng data\n",
      " 0.798824060215\n",
      "roc_auc_score on cross-validation data\n",
      " 0.795370043292\n",
      "\n",
      "Logistic Regression model 2 , C= 3 \n",
      "roc_auc_score on trainng data\n",
      " 0.798991284295\n",
      "roc_auc_score on cross-validation data\n",
      " 0.795370043292\n",
      "\n",
      "Logistic Regression model 3 , C= 10 \n",
      "roc_auc_score on trainng data\n",
      " 0.798693539493\n",
      "roc_auc_score on cross-validation data\n",
      " 0.7955112123\n",
      "\n",
      "Logistic Regression model 4 , C= 30 \n",
      "roc_auc_score on trainng data\n",
      " 0.79839579469\n",
      "roc_auc_score on cross-validation data\n",
      " 0.7955112123\n",
      "\n",
      "Logistic Regression model 5 , C= 100 \n",
      "roc_auc_score on trainng data\n",
      " 0.79839579469\n",
      "roc_auc_score on cross-validation data\n",
      " 0.796153885822\n",
      "\n",
      "Logistic Regression model 6 , C= 300 \n",
      "roc_auc_score on trainng data\n",
      " 0.79839579469\n",
      "roc_auc_score on cross-validation data\n",
      " 0.796153885822\n",
      "\n",
      "Logistic Regression model 7 , C= 1000 \n",
      "roc_auc_score on trainng data\n",
      " 0.79839579469\n",
      "roc_auc_score on cross-validation data\n",
      " 0.796153885822\n",
      "\n",
      "Logistic Regression model 8 , C= 3000 \n",
      "roc_auc_score on trainng data\n",
      " 0.79839579469\n",
      "roc_auc_score on cross-validation data\n",
      " 0.796153885822\n"
     ]
    }
   ],
   "source": [
    "for i in range(len(lr_lst)):\n",
    "    print(\"\\nLogistic Regression model\", i+1, \", C=\", cc_lst[i],\n",
    "          \"\\nroc_auc_score on trainng data\\n\", \n",
    "          roc_auc_score(y_sc_train, lr_lst[i].predict(X_sc_train)))\n",
    "    print(\"roc_auc_score on cross-validation data\\n\", \n",
    "          roc_auc_score(y_sc_cv, lr_lst[i].predict(X_sc_cv)))"
   ]
  },
  {
   "cell_type": "markdown",
   "metadata": {},
   "source": [
    "#### All logistic regression models performed almost identcally. Model 5-8 are slightly better. Not as good as Random Forest models."
   ]
  },
  {
   "cell_type": "code",
   "execution_count": 60,
   "metadata": {},
   "outputs": [
    {
     "data": {
      "text/plain": [
       "0.79989956305296561"
      ]
     },
     "execution_count": 60,
     "metadata": {},
     "output_type": "execute_result"
    }
   ],
   "source": [
    "roc_auc_score(y_sc_test, clf_lr5.predict(X_sc_test))\n",
    "# lr5"
   ]
  },
  {
   "cell_type": "code",
   "execution_count": 61,
   "metadata": {},
   "outputs": [
    {
     "data": {
      "text/plain": [
       "0.79696333379787243"
      ]
     },
     "execution_count": 61,
     "metadata": {},
     "output_type": "execute_result"
    }
   ],
   "source": [
    "roc_auc_score(y_all, clf_lr5.predict(X_all))\n",
    "### for the entire data set. "
   ]
  },
  {
   "cell_type": "code",
   "execution_count": 62,
   "metadata": {},
   "outputs": [],
   "source": [
    "from sklearn.neural_network import MLPClassifier"
   ]
  },
  {
   "cell_type": "code",
   "execution_count": 63,
   "metadata": {},
   "outputs": [],
   "source": [
    "clf_nn1 = MLPClassifier(hidden_layer_sizes=(20,4), solver='lbfgs', alpha=0.001, max_iter=600).fit(X_sc_train, y_sc_train)"
   ]
  },
  {
   "cell_type": "code",
   "execution_count": 64,
   "metadata": {},
   "outputs": [],
   "source": [
    "clf_nn2 = MLPClassifier(hidden_layer_sizes=(20,4), solver='lbfgs', alpha=0.003, max_iter=600).fit(X_sc_train, y_sc_train)"
   ]
  },
  {
   "cell_type": "code",
   "execution_count": 65,
   "metadata": {},
   "outputs": [],
   "source": [
    "clf_nn3 = MLPClassifier(hidden_layer_sizes=(20,4), solver='lbfgs', alpha=0.01, max_iter=600).fit(X_sc_train, y_sc_train)"
   ]
  },
  {
   "cell_type": "code",
   "execution_count": 66,
   "metadata": {},
   "outputs": [],
   "source": [
    "clf_nn4 = MLPClassifier(hidden_layer_sizes=(20,4), solver='lbfgs', alpha=0.03, max_iter=600).fit(X_sc_train, y_sc_train)"
   ]
  },
  {
   "cell_type": "code",
   "execution_count": 67,
   "metadata": {},
   "outputs": [],
   "source": [
    "clf_nn5 = MLPClassifier(hidden_layer_sizes=(20,4), solver='lbfgs', alpha=0.1, max_iter=600).fit(X_sc_train, y_sc_train)"
   ]
  },
  {
   "cell_type": "code",
   "execution_count": 68,
   "metadata": {},
   "outputs": [],
   "source": [
    "clf_nn6 = MLPClassifier(hidden_layer_sizes=(20,4), solver='lbfgs', alpha=0.3, max_iter=600).fit(X_sc_train, y_sc_train)"
   ]
  },
  {
   "cell_type": "code",
   "execution_count": 69,
   "metadata": {},
   "outputs": [],
   "source": [
    "clf_nn7 = MLPClassifier(hidden_layer_sizes=(20,4), solver='lbfgs', alpha=1, max_iter=600).fit(X_sc_train, y_sc_train)"
   ]
  },
  {
   "cell_type": "code",
   "execution_count": 70,
   "metadata": {},
   "outputs": [],
   "source": [
    "clf_nn8 = MLPClassifier(hidden_layer_sizes=(20,4), solver='lbfgs', alpha=3, max_iter=600).fit(X_sc_train, y_sc_train)"
   ]
  },
  {
   "cell_type": "code",
   "execution_count": 71,
   "metadata": {},
   "outputs": [],
   "source": [
    "clf_nn9 = MLPClassifier(hidden_layer_sizes=(20,8,4), solver='lbfgs', alpha=0.001, max_iter=600).fit(X_sc_train, y_sc_train)"
   ]
  },
  {
   "cell_type": "code",
   "execution_count": 72,
   "metadata": {},
   "outputs": [],
   "source": [
    "clf_nn10 = MLPClassifier(hidden_layer_sizes=(20,8,4), solver='lbfgs', alpha=0.003, max_iter=600).fit(X_sc_train, y_sc_train)"
   ]
  },
  {
   "cell_type": "code",
   "execution_count": 73,
   "metadata": {},
   "outputs": [],
   "source": [
    "clf_nn11 = MLPClassifier(hidden_layer_sizes=(20,8,4), solver='lbfgs', alpha=0.01, max_iter=600).fit(X_sc_train, y_sc_train)"
   ]
  },
  {
   "cell_type": "code",
   "execution_count": 74,
   "metadata": {},
   "outputs": [],
   "source": [
    "clf_nn12 = MLPClassifier(hidden_layer_sizes=(20,8,4), solver='lbfgs', alpha=0.03, max_iter=600).fit(X_sc_train, y_sc_train)"
   ]
  },
  {
   "cell_type": "code",
   "execution_count": 75,
   "metadata": {},
   "outputs": [],
   "source": [
    "clf_nn13 = MLPClassifier(hidden_layer_sizes=(20,8,4), solver='lbfgs', alpha=0.1, max_iter=600).fit(X_sc_train, y_sc_train)"
   ]
  },
  {
   "cell_type": "code",
   "execution_count": 76,
   "metadata": {},
   "outputs": [],
   "source": [
    "clf_nn14 = MLPClassifier(hidden_layer_sizes=(20,8,4), solver='lbfgs', alpha=0.3, max_iter=600).fit(X_sc_train, y_sc_train)"
   ]
  },
  {
   "cell_type": "code",
   "execution_count": 77,
   "metadata": {},
   "outputs": [],
   "source": [
    "clf_nn15 = MLPClassifier(hidden_layer_sizes=(20,8,4), solver='lbfgs', alpha=1, max_iter=600).fit(X_sc_train, y_sc_train)"
   ]
  },
  {
   "cell_type": "code",
   "execution_count": 78,
   "metadata": {},
   "outputs": [],
   "source": [
    "clf_nn16 = MLPClassifier(hidden_layer_sizes=(20,8,4), solver='lbfgs', alpha=3, max_iter=600).fit(X_sc_train, y_sc_train)"
   ]
  },
  {
   "cell_type": "code",
   "execution_count": 79,
   "metadata": {},
   "outputs": [],
   "source": [
    "nn_lst = [clf_nn1, clf_nn2, clf_nn3, clf_nn4, clf_nn5, clf_nn6, clf_nn7, clf_nn8, clf_nn9, clf_nn10, clf_nn11, \n",
    "          clf_nn12, clf_nn13, clf_nn14, clf_nn15, clf_nn16]"
   ]
  },
  {
   "cell_type": "code",
   "execution_count": 80,
   "metadata": {},
   "outputs": [
    {
     "name": "stdout",
     "output_type": "stream",
     "text": [
      "Neural Network model  1 \n",
      "Classification report on trainng data\n",
      "              precision    recall  f1-score   support\n",
      "\n",
      "          0       0.93      0.91      0.92      5980\n",
      "          1       0.78      0.82      0.80      2335\n",
      "\n",
      "avg / total       0.89      0.88      0.89      8315\n",
      "\n",
      "Classification report on cross-validation data\n",
      "              precision    recall  f1-score   support\n",
      "\n",
      "          0       0.92      0.90      0.91      1994\n",
      "          1       0.75      0.80      0.78       778\n",
      "\n",
      "avg / total       0.87      0.87      0.87      2772\n",
      "\n",
      "Neural Network model  2 \n",
      "Classification report on trainng data\n",
      "              precision    recall  f1-score   support\n",
      "\n",
      "          0       0.93      0.90      0.92      5980\n",
      "          1       0.77      0.84      0.80      2335\n",
      "\n",
      "avg / total       0.89      0.88      0.88      8315\n",
      "\n",
      "Classification report on cross-validation data\n",
      "              precision    recall  f1-score   support\n",
      "\n",
      "          0       0.93      0.89      0.91      1994\n",
      "          1       0.74      0.82      0.78       778\n",
      "\n",
      "avg / total       0.87      0.87      0.87      2772\n",
      "\n",
      "Neural Network model  3 \n",
      "Classification report on trainng data\n",
      "              precision    recall  f1-score   support\n",
      "\n",
      "          0       0.94      0.90      0.92      5980\n",
      "          1       0.77      0.84      0.80      2335\n",
      "\n",
      "avg / total       0.89      0.88      0.89      8315\n",
      "\n",
      "Classification report on cross-validation data\n",
      "              precision    recall  f1-score   support\n",
      "\n",
      "          0       0.93      0.90      0.91      1994\n",
      "          1       0.76      0.83      0.79       778\n",
      "\n",
      "avg / total       0.88      0.88      0.88      2772\n",
      "\n",
      "Neural Network model  4 \n",
      "Classification report on trainng data\n",
      "              precision    recall  f1-score   support\n",
      "\n",
      "          0       0.72      1.00      0.84      5980\n",
      "          1       0.00      0.00      0.00      2335\n",
      "\n",
      "avg / total       0.52      0.72      0.60      8315\n",
      "\n",
      "Classification report on cross-validation data\n",
      "              precision    recall  f1-score   support\n",
      "\n",
      "          0       0.72      1.00      0.84      1994\n",
      "          1       0.00      0.00      0.00       778\n",
      "\n",
      "avg / total       0.52      0.72      0.60      2772\n",
      "\n",
      "Neural Network model  5 \n",
      "Classification report on trainng data\n",
      "              precision    recall  f1-score   support\n",
      "\n",
      "          0       0.93      0.91      0.92      5980\n",
      "          1       0.78      0.83      0.80      2335\n",
      "\n",
      "avg / total       0.89      0.89      0.89      8315\n",
      "\n",
      "Classification report on cross-validation data\n",
      "              precision    recall  f1-score   support\n",
      "\n",
      "          0       0.92      0.90      0.91      1994\n",
      "          1       0.75      0.81      0.78       778\n",
      "\n",
      "avg / total       0.88      0.87      0.87      2772\n",
      "\n",
      "Neural Network model  6 \n",
      "Classification report on trainng data\n",
      "              precision    recall  f1-score   support\n",
      "\n",
      "          0       0.93      0.91      0.92      5980\n",
      "          1       0.78      0.82      0.80      2335\n",
      "\n",
      "avg / total       0.89      0.88      0.88      8315\n",
      "\n",
      "Classification report on cross-validation data\n",
      "              precision    recall  f1-score   support\n",
      "\n",
      "          0       0.92      0.90      0.91      1994\n",
      "          1       0.76      0.81      0.78       778\n",
      "\n",
      "avg / total       0.88      0.87      0.88      2772\n",
      "\n",
      "Neural Network model  7 \n",
      "Classification report on trainng data\n",
      "              precision    recall  f1-score   support\n",
      "\n",
      "          0       0.93      0.91      0.92      5980\n",
      "          1       0.78      0.81      0.80      2335\n",
      "\n",
      "avg / total       0.89      0.89      0.89      8315\n",
      "\n",
      "Classification report on cross-validation data\n",
      "              precision    recall  f1-score   support\n",
      "\n",
      "          0       0.92      0.90      0.91      1994\n",
      "          1       0.75      0.80      0.77       778\n",
      "\n",
      "avg / total       0.87      0.87      0.87      2772\n",
      "\n",
      "Neural Network model  8 \n",
      "Classification report on trainng data\n",
      "              precision    recall  f1-score   support\n",
      "\n",
      "          0       0.92      0.91      0.92      5980\n",
      "          1       0.78      0.81      0.79      2335\n",
      "\n",
      "avg / total       0.88      0.88      0.88      8315\n",
      "\n",
      "Classification report on cross-validation data\n",
      "              precision    recall  f1-score   support\n",
      "\n",
      "          0       0.92      0.90      0.91      1994\n",
      "          1       0.75      0.79      0.77       778\n",
      "\n",
      "avg / total       0.87      0.87      0.87      2772\n",
      "\n",
      "Neural Network model  9 \n",
      "Classification report on trainng data\n",
      "              precision    recall  f1-score   support\n",
      "\n",
      "          0       0.93      0.90      0.92      5980\n",
      "          1       0.77      0.84      0.80      2335\n",
      "\n",
      "avg / total       0.89      0.88      0.89      8315\n",
      "\n",
      "Classification report on cross-validation data\n",
      "              precision    recall  f1-score   support\n",
      "\n",
      "          0       0.93      0.90      0.91      1994\n",
      "          1       0.76      0.82      0.79       778\n",
      "\n",
      "avg / total       0.88      0.88      0.88      2772\n",
      "\n",
      "Neural Network model  10 \n",
      "Classification report on trainng data\n",
      "              precision    recall  f1-score   support\n",
      "\n",
      "          0       0.93      0.89      0.91      5980\n",
      "          1       0.75      0.84      0.79      2335\n",
      "\n",
      "avg / total       0.88      0.88      0.88      8315\n",
      "\n",
      "Classification report on cross-validation data\n",
      "              precision    recall  f1-score   support\n",
      "\n",
      "          0       0.92      0.89      0.90      1994\n",
      "          1       0.73      0.81      0.77       778\n",
      "\n",
      "avg / total       0.87      0.87      0.87      2772\n",
      "\n",
      "Neural Network model  11 \n",
      "Classification report on trainng data\n",
      "              precision    recall  f1-score   support\n",
      "\n",
      "          0       0.93      0.91      0.92      5980\n",
      "          1       0.77      0.83      0.80      2335\n",
      "\n",
      "avg / total       0.89      0.88      0.88      8315\n",
      "\n",
      "Classification report on cross-validation data\n",
      "              precision    recall  f1-score   support\n",
      "\n",
      "          0       0.92      0.90      0.91      1994\n",
      "          1       0.75      0.81      0.78       778\n",
      "\n",
      "avg / total       0.87      0.87      0.87      2772\n",
      "\n",
      "Neural Network model  12 \n",
      "Classification report on trainng data\n",
      "              precision    recall  f1-score   support\n",
      "\n",
      "          0       0.94      0.91      0.92      5980\n",
      "          1       0.78      0.84      0.81      2335\n",
      "\n",
      "avg / total       0.89      0.89      0.89      8315\n",
      "\n",
      "Classification report on cross-validation data\n",
      "              precision    recall  f1-score   support\n",
      "\n",
      "          0       0.93      0.90      0.91      1994\n",
      "          1       0.76      0.82      0.79       778\n",
      "\n",
      "avg / total       0.88      0.88      0.88      2772\n",
      "\n",
      "Neural Network model  13 \n",
      "Classification report on trainng data\n",
      "              precision    recall  f1-score   support\n",
      "\n",
      "          0       0.93      0.91      0.92      5980\n",
      "          1       0.78      0.83      0.80      2335\n",
      "\n",
      "avg / total       0.89      0.89      0.89      8315\n",
      "\n",
      "Classification report on cross-validation data\n",
      "              precision    recall  f1-score   support\n",
      "\n",
      "          0       0.91      0.89      0.90      1994\n",
      "          1       0.73      0.79      0.76       778\n",
      "\n",
      "avg / total       0.86      0.86      0.86      2772\n",
      "\n",
      "Neural Network model  14 \n",
      "Classification report on trainng data\n",
      "              precision    recall  f1-score   support\n",
      "\n",
      "          0       0.93      0.90      0.91      5980\n",
      "          1       0.76      0.84      0.80      2335\n",
      "\n",
      "avg / total       0.88      0.88      0.88      8315\n",
      "\n",
      "Classification report on cross-validation data\n",
      "              precision    recall  f1-score   support\n",
      "\n",
      "          0       0.93      0.89      0.91      1994\n",
      "          1       0.75      0.82      0.78       778\n",
      "\n",
      "avg / total       0.88      0.87      0.88      2772\n",
      "\n",
      "Neural Network model  15 \n",
      "Classification report on trainng data\n",
      "              precision    recall  f1-score   support\n",
      "\n",
      "          0       0.95      0.91      0.93      5980\n",
      "          1       0.78      0.87      0.82      2335\n",
      "\n",
      "avg / total       0.90      0.89      0.90      8315\n",
      "\n",
      "Classification report on cross-validation data\n",
      "              precision    recall  f1-score   support\n",
      "\n",
      "          0       0.93      0.90      0.91      1994\n",
      "          1       0.76      0.83      0.79       778\n",
      "\n",
      "avg / total       0.88      0.88      0.88      2772\n",
      "\n",
      "Neural Network model  16 \n",
      "Classification report on trainng data\n",
      "              precision    recall  f1-score   support\n",
      "\n",
      "          0       0.93      0.91      0.92      5980\n",
      "          1       0.79      0.82      0.81      2335\n",
      "\n",
      "avg / total       0.89      0.89      0.89      8315\n",
      "\n",
      "Classification report on cross-validation data\n",
      "              precision    recall  f1-score   support\n",
      "\n",
      "          0       0.91      0.90      0.91      1994\n",
      "          1       0.75      0.78      0.77       778\n",
      "\n",
      "avg / total       0.87      0.87      0.87      2772\n",
      "\n"
     ]
    },
    {
     "name": "stderr",
     "output_type": "stream",
     "text": [
      "/home/jun2/anaconda3/lib/python3.6/site-packages/sklearn/metrics/classification.py:1135: UndefinedMetricWarning: Precision and F-score are ill-defined and being set to 0.0 in labels with no predicted samples.\n",
      "  'precision', 'predicted', average, warn_for)\n"
     ]
    }
   ],
   "source": [
    "for i in range(len(nn_lst)):\n",
    "    print(\"Neural Network model \", i+1, \n",
    "          \"\\nClassification report on trainng data\\n\", classification_report(y_sc_train, nn_lst[i].predict(X_sc_train)))\n",
    "    print(\"Classification report on cross-validation data\\n\", classification_report(y_sc_cv, nn_lst[i].predict(X_sc_cv)))"
   ]
  },
  {
   "cell_type": "markdown",
   "metadata": {},
   "source": [
    "### Neural Network Model 3, 9, 12 and 15 performed the best based on class 1 and overall f1-scores."
   ]
  },
  {
   "cell_type": "code",
   "execution_count": 81,
   "metadata": {},
   "outputs": [
    {
     "name": "stdout",
     "output_type": "stream",
     "text": [
      "\n",
      "Neural Network model 1 \n",
      "roc_auc_score on trainng data\n",
      " 0.866088424656\n",
      "roc_auc_score on cross-validation data\n",
      " 0.849906403014\n",
      "\n",
      "Neural Network model 2 \n",
      "roc_auc_score on trainng data\n",
      " 0.868927295124\n",
      "roc_auc_score on cross-validation data\n",
      " 0.852963775646\n",
      "\n",
      "Neural Network model 3 \n",
      "roc_auc_score on trainng data\n",
      " 0.871821131108\n",
      "roc_auc_score on cross-validation data\n",
      " 0.862336366426\n",
      "\n",
      "Neural Network model 4 \n",
      "roc_auc_score on trainng data\n",
      " 0.5\n",
      "roc_auc_score on cross-validation data\n",
      " 0.5\n",
      "\n",
      "Neural Network model 5 \n",
      "roc_auc_score on trainng data\n",
      " 0.869999928384\n",
      "roc_auc_score on cross-validation data\n",
      " 0.854405117667\n",
      "\n",
      "Neural Network model 6 \n",
      "roc_auc_score on trainng data\n",
      " 0.864944354128\n",
      "roc_auc_score on cross-validation data\n",
      " 0.854200777139\n",
      "\n",
      "Neural Network model 7 \n",
      "roc_auc_score on trainng data\n",
      " 0.863290375484\n",
      "roc_auc_score on cross-validation data\n",
      " 0.847554875423\n",
      "\n",
      "Neural Network model 8 \n",
      "roc_auc_score on trainng data\n",
      " 0.858285827849\n",
      "roc_auc_score on cross-validation data\n",
      " 0.844451091062\n",
      "\n",
      "Neural Network model 9 \n",
      "roc_auc_score on trainng data\n",
      " 0.870452722494\n",
      "roc_auc_score on cross-validation data\n",
      " 0.858950244048\n",
      "\n",
      "Neural Network model 10 \n",
      "roc_auc_score on trainng data\n",
      " 0.863973774108\n",
      "roc_auc_score on cross-validation data\n",
      " 0.849390072531\n",
      "\n",
      "Neural Network model 11 \n",
      "roc_auc_score on trainng data\n",
      " 0.866463694112\n",
      "roc_auc_score on cross-validation data\n",
      " 0.851552085563\n",
      "\n",
      "Neural Network model 12 \n",
      "roc_auc_score on trainng data\n",
      " 0.873723797383\n",
      "roc_auc_score on cross-validation data\n",
      " 0.858197987278\n",
      "\n",
      "Neural Network model 13 \n",
      "roc_auc_score on trainng data\n",
      " 0.868929264572\n",
      "roc_auc_score on cross-validation data\n",
      " 0.83764919437\n",
      "\n",
      "Neural Network model 14 \n",
      "roc_auc_score on trainng data\n",
      " 0.866304705908\n",
      "roc_auc_score on cross-validation data\n",
      " 0.857900823292\n",
      "\n",
      "Neural Network model 15 \n",
      "roc_auc_score on trainng data\n",
      " 0.885725437397\n",
      "roc_auc_score on cross-validation data\n",
      " 0.862117199929\n",
      "\n",
      "Neural Network model 16 \n",
      "roc_auc_score on trainng data\n",
      " 0.86851317382\n",
      "roc_auc_score on cross-validation data\n",
      " 0.841378892461\n"
     ]
    }
   ],
   "source": [
    "for i in range(len(nn_lst)):\n",
    "    print(\"\\nNeural Network model\", i+1, \n",
    "          \"\\nroc_auc_score on trainng data\\n\", roc_auc_score(y_sc_train, nn_lst[i].predict(X_sc_train)))\n",
    "    print(\"roc_auc_score on cross-validation data\\n\", roc_auc_score(y_sc_cv, nn_lst[i].predict(X_sc_cv)))"
   ]
  },
  {
   "cell_type": "markdown",
   "metadata": {},
   "source": [
    "### Neural network model 3 has the best roc_auc_score on the cross-validation data."
   ]
  },
  {
   "cell_type": "code",
   "execution_count": 82,
   "metadata": {},
   "outputs": [
    {
     "data": {
      "text/plain": [
       "0.8623363664257554"
      ]
     },
     "execution_count": 82,
     "metadata": {},
     "output_type": "execute_result"
    }
   ],
   "source": [
    "roc_auc_score(y_sc_cv, clf_nn3.predict(X_sc_cv))\n",
    "# The best"
   ]
  },
  {
   "cell_type": "code",
   "execution_count": 83,
   "metadata": {},
   "outputs": [
    {
     "data": {
      "text/plain": [
       "0.85321517325704188"
      ]
     },
     "execution_count": 83,
     "metadata": {},
     "output_type": "execute_result"
    }
   ],
   "source": [
    "roc_auc_score(y_sc_test, clf_nn3.predict(X_sc_test))\n",
    "# Neural Network model 3 roc_auc_score for test data, close to that of the cross-validation data."
   ]
  },
  {
   "cell_type": "code",
   "execution_count": 84,
   "metadata": {},
   "outputs": [
    {
     "data": {
      "text/plain": [
       "0.86182709366173815"
      ]
     },
     "execution_count": 84,
     "metadata": {},
     "output_type": "execute_result"
    }
   ],
   "source": [
    "roc_auc_score(y_all, clf_nn3.predict(X_all))"
   ]
  },
  {
   "cell_type": "code",
   "execution_count": 85,
   "metadata": {},
   "outputs": [],
   "source": [
    "from sklearn.svm import SVC"
   ]
  },
  {
   "cell_type": "code",
   "execution_count": 86,
   "metadata": {},
   "outputs": [],
   "source": [
    "clf_svc1 = SVC(C=1.0).fit(X_sc_train, y_sc_train)"
   ]
  },
  {
   "cell_type": "code",
   "execution_count": 87,
   "metadata": {},
   "outputs": [],
   "source": [
    "clf_svc2 = SVC(C=3.0).fit(X_sc_train, y_sc_train)"
   ]
  },
  {
   "cell_type": "code",
   "execution_count": 88,
   "metadata": {},
   "outputs": [],
   "source": [
    "clf_svc3 = SVC(C=10).fit(X_sc_train, y_sc_train)"
   ]
  },
  {
   "cell_type": "code",
   "execution_count": 89,
   "metadata": {},
   "outputs": [],
   "source": [
    "svc_lst = [clf_svc1, clf_svc2, clf_svc3]\n",
    "svc_c = [1, 3, 10]"
   ]
  },
  {
   "cell_type": "code",
   "execution_count": 90,
   "metadata": {},
   "outputs": [
    {
     "name": "stdout",
     "output_type": "stream",
     "text": [
      "svc model, C= 1 \n",
      "Classification report on trainng data\n",
      "              precision    recall  f1-score   support\n",
      "\n",
      "          0       0.93      0.92      0.92      5980\n",
      "          1       0.80      0.82      0.81      2335\n",
      "\n",
      "avg / total       0.89      0.89      0.89      8315\n",
      "\n",
      "Classification report on cross-validation data\n",
      "              precision    recall  f1-score   support\n",
      "\n",
      "          0       0.91      0.90      0.91      1994\n",
      "          1       0.75      0.78      0.76       778\n",
      "\n",
      "avg / total       0.87      0.87      0.87      2772\n",
      "\n",
      "svc model, C= 3 \n",
      "Classification report on trainng data\n",
      "              precision    recall  f1-score   support\n",
      "\n",
      "          0       0.94      0.93      0.94      5980\n",
      "          1       0.83      0.85      0.84      2335\n",
      "\n",
      "avg / total       0.91      0.91      0.91      8315\n",
      "\n",
      "Classification report on cross-validation data\n",
      "              precision    recall  f1-score   support\n",
      "\n",
      "          0       0.91      0.91      0.91      1994\n",
      "          1       0.76      0.78      0.77       778\n",
      "\n",
      "avg / total       0.87      0.87      0.87      2772\n",
      "\n",
      "svc model, C= 10 \n",
      "Classification report on trainng data\n",
      "              precision    recall  f1-score   support\n",
      "\n",
      "          0       0.96      0.95      0.96      5980\n",
      "          1       0.88      0.89      0.89      2335\n",
      "\n",
      "avg / total       0.94      0.94      0.94      8315\n",
      "\n",
      "Classification report on cross-validation data\n",
      "              precision    recall  f1-score   support\n",
      "\n",
      "          0       0.91      0.90      0.91      1994\n",
      "          1       0.76      0.76      0.76       778\n",
      "\n",
      "avg / total       0.86      0.86      0.86      2772\n",
      "\n"
     ]
    }
   ],
   "source": [
    "for i in range(len(svc_lst)):\n",
    "    print(\"svc model, C=\", svc_c[i], \"\\nClassification report on trainng data\\n\", classification_report(y_sc_train, svc_lst[i].predict(X_sc_train)))\n",
    "    print(\"Classification report on cross-validation data\\n\", classification_report(y_sc_cv, svc_lst[i].predict(X_sc_cv)))"
   ]
  },
  {
   "cell_type": "code",
   "execution_count": 91,
   "metadata": {},
   "outputs": [
    {
     "name": "stdout",
     "output_type": "stream",
     "text": [
      "\n",
      "svc model, C= 1 \n",
      " roc_auc_score on trainng data\n",
      " 0.868421325904\n",
      "roc_auc_score on cross-validation data\n",
      " 0.839058950631\n",
      "\n",
      "svc model, C= 3 \n",
      " roc_auc_score on trainng data\n",
      " 0.892669175625\n",
      "roc_auc_score on cross-validation data\n",
      " 0.842318729969\n",
      "\n",
      "svc model, C= 10 \n",
      " roc_auc_score on trainng data\n",
      " 0.922413039897\n",
      "roc_auc_score on cross-validation data\n",
      " 0.833995559945\n"
     ]
    }
   ],
   "source": [
    "for i in range(len(svc_lst)):\n",
    "    print(\"\\nsvc model, C=\", svc_c[i], \"\\n roc_auc_score on trainng data\\n\", roc_auc_score(y_sc_train, svc_lst[i].predict(X_sc_train)))\n",
    "    print(\"roc_auc_score on cross-validation data\\n\", roc_auc_score(y_sc_cv, svc_lst[i].predict(X_sc_cv)))"
   ]
  },
  {
   "cell_type": "markdown",
   "metadata": {},
   "source": [
    "### SVC model 2 (C=3) is the best among the SVC models. "
   ]
  },
  {
   "cell_type": "code",
   "execution_count": 92,
   "metadata": {},
   "outputs": [
    {
     "data": {
      "text/plain": [
       "0.84301599316128939"
      ]
     },
     "execution_count": 92,
     "metadata": {},
     "output_type": "execute_result"
    }
   ],
   "source": [
    "roc_auc_score(y_sc_test, clf_svc2.predict(X_sc_test))"
   ]
  },
  {
   "cell_type": "code",
   "execution_count": 93,
   "metadata": {},
   "outputs": [
    {
     "data": {
      "text/plain": [
       "0.86342646504383347"
      ]
     },
     "execution_count": 93,
     "metadata": {},
     "output_type": "execute_result"
    }
   ],
   "source": [
    "roc_auc_score(y_all, clf_svc2.predict(X_all))\n",
    "### for the entire dataset"
   ]
  },
  {
   "cell_type": "code",
   "execution_count": 112,
   "metadata": {},
   "outputs": [],
   "source": [
    "roc_auc_test_balanced = pd.DataFrame.from_dict({\"classification method\":[\"neural network\", 'random forest', \n",
    "'logistic regression', 'SVM.SVC'], \n",
    "\"roc_auc_score_test_data\": [roc_auc_score(y_sc_test, clf_nn5.predict(X_sc_test)), \n",
    "                            roc_auc_score(y_sc_test, clf_rf6.predict(X_sc_test)),\n",
    "                            roc_auc_score(y_sc_test, clf_lr5.predict(X_sc_test)), \n",
    "                            roc_auc_score(y_sc_test, clf_svc2.predict(X_sc_test))]})"
   ]
  },
  {
   "cell_type": "code",
   "execution_count": 113,
   "metadata": {},
   "outputs": [
    {
     "data": {
      "text/html": [
       "<div>\n",
       "<style scoped>\n",
       "    .dataframe tbody tr th:only-of-type {\n",
       "        vertical-align: middle;\n",
       "    }\n",
       "\n",
       "    .dataframe tbody tr th {\n",
       "        vertical-align: top;\n",
       "    }\n",
       "\n",
       "    .dataframe thead th {\n",
       "        text-align: right;\n",
       "    }\n",
       "</style>\n",
       "<table border=\"1\" class=\"dataframe\">\n",
       "  <thead>\n",
       "    <tr style=\"text-align: right;\">\n",
       "      <th></th>\n",
       "      <th>classification method</th>\n",
       "      <th>roc_auc_score_test_data</th>\n",
       "    </tr>\n",
       "  </thead>\n",
       "  <tbody>\n",
       "    <tr>\n",
       "      <th>0</th>\n",
       "      <td>neural network</td>\n",
       "      <td>0.848204</td>\n",
       "    </tr>\n",
       "    <tr>\n",
       "      <th>1</th>\n",
       "      <td>random forest</td>\n",
       "      <td>0.854620</td>\n",
       "    </tr>\n",
       "    <tr>\n",
       "      <th>2</th>\n",
       "      <td>logistic regression</td>\n",
       "      <td>0.799900</td>\n",
       "    </tr>\n",
       "    <tr>\n",
       "      <th>3</th>\n",
       "      <td>SVM.SVC</td>\n",
       "      <td>0.843016</td>\n",
       "    </tr>\n",
       "  </tbody>\n",
       "</table>\n",
       "</div>"
      ],
      "text/plain": [
       "  classification method  roc_auc_score_test_data\n",
       "0        neural network                 0.848204\n",
       "1         random forest                 0.854620\n",
       "2   logistic regression                 0.799900\n",
       "3               SVM.SVC                 0.843016"
      ]
     },
     "execution_count": 113,
     "metadata": {},
     "output_type": "execute_result"
    }
   ],
   "source": [
    "roc_auc_test_balanced"
   ]
  },
  {
   "cell_type": "code",
   "execution_count": 114,
   "metadata": {},
   "outputs": [],
   "source": [
    "roc_auc_test_balanced.to_csv(\"roc_auc_test_bal_training_fin.csv\", encoding='utf-8', index=False)"
   ]
  },
  {
   "cell_type": "code",
   "execution_count": 115,
   "metadata": {},
   "outputs": [],
   "source": [
    "dic_auc_all ={\"classification method\":[\"neural network\", 'random forest', 'logistic regression', 'SVM.SVC'], \n",
    "\"roc_auc_score_all_data\": [roc_auc_score(y_all, clf_nn3.predict(X_all)), \n",
    "                           roc_auc_score(y_all, clf_rf7.predict(X_all)) , \n",
    "                           roc_auc_score(y_all, clf_lr5.predict(X_all)), \n",
    "                           roc_auc_score(y_all, clf_svc2.predict(X_all))]}"
   ]
  },
  {
   "cell_type": "code",
   "execution_count": 116,
   "metadata": {},
   "outputs": [],
   "source": [
    "roc_auc_all_balanced = pd.DataFrame.from_dict(dic_auc_all)"
   ]
  },
  {
   "cell_type": "code",
   "execution_count": 117,
   "metadata": {},
   "outputs": [
    {
     "data": {
      "text/html": [
       "<div>\n",
       "<style scoped>\n",
       "    .dataframe tbody tr th:only-of-type {\n",
       "        vertical-align: middle;\n",
       "    }\n",
       "\n",
       "    .dataframe tbody tr th {\n",
       "        vertical-align: top;\n",
       "    }\n",
       "\n",
       "    .dataframe thead th {\n",
       "        text-align: right;\n",
       "    }\n",
       "</style>\n",
       "<table border=\"1\" class=\"dataframe\">\n",
       "  <thead>\n",
       "    <tr style=\"text-align: right;\">\n",
       "      <th></th>\n",
       "      <th>classification method</th>\n",
       "      <th>roc_auc_score_all_data</th>\n",
       "    </tr>\n",
       "  </thead>\n",
       "  <tbody>\n",
       "    <tr>\n",
       "      <th>0</th>\n",
       "      <td>neural network</td>\n",
       "      <td>0.861827</td>\n",
       "    </tr>\n",
       "    <tr>\n",
       "      <th>1</th>\n",
       "      <td>random forest</td>\n",
       "      <td>0.880156</td>\n",
       "    </tr>\n",
       "    <tr>\n",
       "      <th>2</th>\n",
       "      <td>logistic regression</td>\n",
       "      <td>0.796963</td>\n",
       "    </tr>\n",
       "    <tr>\n",
       "      <th>3</th>\n",
       "      <td>SVM.SVC</td>\n",
       "      <td>0.863426</td>\n",
       "    </tr>\n",
       "  </tbody>\n",
       "</table>\n",
       "</div>"
      ],
      "text/plain": [
       "  classification method  roc_auc_score_all_data\n",
       "0        neural network                0.861827\n",
       "1         random forest                0.880156\n",
       "2   logistic regression                0.796963\n",
       "3               SVM.SVC                0.863426"
      ]
     },
     "execution_count": 117,
     "metadata": {},
     "output_type": "execute_result"
    }
   ],
   "source": [
    "roc_auc_all_balanced"
   ]
  },
  {
   "cell_type": "code",
   "execution_count": 118,
   "metadata": {},
   "outputs": [],
   "source": [
    "roc_auc_all_balanced.to_csv(\"roc_auc_all_bal_training_fin.csv\", encoding='utf-8', index=False)"
   ]
  },
  {
   "cell_type": "code",
   "execution_count": 119,
   "metadata": {},
   "outputs": [
    {
     "data": {
      "image/png": "[encoded data removed]",
      "text/plain": [
       "<matplotlib.figure.Figure at 0x7f8cbe15b588>"
      ]
     },
     "metadata": {},
     "output_type": "display_data"
    }
   ],
   "source": [
    "fig, ax = plt.subplots(1, 2, figsize = (12, 4))\n",
    "ax[0].bar(roc_auc_test_balanced['classification method'], roc_auc_test_balanced['roc_auc_score_test_data'], width=0.5)\n",
    "ax[0].set_ylim((0.6, 0.9))\n",
    "ax[0].set_xlabel(\"classification method\", fontsize=14, verticalalignment='top')\n",
    "ax[0].set_ylabel(\"roc_auc_score\", fontsize=14)\n",
    "ax[0].set_title(\"roc_auc_score_test_balanced training\", fontsize=16)\n",
    "ax[1].bar(roc_auc_all_balanced['classification method'], roc_auc_all_balanced['roc_auc_score_all_data'], width=0.5)\n",
    "ax[1].set_ylim((0.6, 0.9))\n",
    "ax[1].set_xlabel(\"classification method\", fontsize=14, verticalalignment='top')\n",
    "ax[1].set_ylabel(\"roc_auc_score\", fontsize=14)\n",
    "ax[1].set_title(\"roc_auc_score_all_balanced training\", fontsize=16)\n",
    "plt.tight_layout()\n",
    "plt.savefig(\"bank deposit roc_auc_balance_trainig_data.png\", dpi=300)"
   ]
  },
  {
   "cell_type": "markdown",
   "metadata": {},
   "source": [
    "### All models' roc_auc_scores are similar on the test and respective all data, suggesting not much overfiting with these models. "
   ]
  },
  {
   "cell_type": "code",
   "execution_count": 120,
   "metadata": {},
   "outputs": [],
   "source": [
    "auc_unbal_test = pd.read_csv(\"roc_auc_test_unbal_training_data_fin.csv\")"
   ]
  },
  {
   "cell_type": "code",
   "execution_count": 121,
   "metadata": {},
   "outputs": [
    {
     "data": {
      "text/html": [
       "<div>\n",
       "<style scoped>\n",
       "    .dataframe tbody tr th:only-of-type {\n",
       "        vertical-align: middle;\n",
       "    }\n",
       "\n",
       "    .dataframe tbody tr th {\n",
       "        vertical-align: top;\n",
       "    }\n",
       "\n",
       "    .dataframe thead th {\n",
       "        text-align: right;\n",
       "    }\n",
       "</style>\n",
       "<table border=\"1\" class=\"dataframe\">\n",
       "  <thead>\n",
       "    <tr style=\"text-align: right;\">\n",
       "      <th></th>\n",
       "      <th>classification method</th>\n",
       "      <th>roc_auc_score_test_data</th>\n",
       "    </tr>\n",
       "  </thead>\n",
       "  <tbody>\n",
       "    <tr>\n",
       "      <th>0</th>\n",
       "      <td>neural network</td>\n",
       "      <td>0.782791</td>\n",
       "    </tr>\n",
       "    <tr>\n",
       "      <th>1</th>\n",
       "      <td>random forest</td>\n",
       "      <td>0.740075</td>\n",
       "    </tr>\n",
       "    <tr>\n",
       "      <th>2</th>\n",
       "      <td>logistic regression</td>\n",
       "      <td>0.688432</td>\n",
       "    </tr>\n",
       "    <tr>\n",
       "      <th>3</th>\n",
       "      <td>SVM.SVC</td>\n",
       "      <td>0.702594</td>\n",
       "    </tr>\n",
       "  </tbody>\n",
       "</table>\n",
       "</div>"
      ],
      "text/plain": [
       "  classification method  roc_auc_score_test_data\n",
       "0        neural network                 0.782791\n",
       "1         random forest                 0.740075\n",
       "2   logistic regression                 0.688432\n",
       "3               SVM.SVC                 0.702594"
      ]
     },
     "execution_count": 121,
     "metadata": {},
     "output_type": "execute_result"
    }
   ],
   "source": [
    "auc_unbal_test"
   ]
  },
  {
   "cell_type": "code",
   "execution_count": 122,
   "metadata": {},
   "outputs": [],
   "source": [
    "auc_unbal_all = pd.read_csv(\"roc_auc_all_unbal_training_data_fin.csv\")"
   ]
  },
  {
   "cell_type": "code",
   "execution_count": 123,
   "metadata": {},
   "outputs": [
    {
     "data": {
      "text/html": [
       "<div>\n",
       "<style scoped>\n",
       "    .dataframe tbody tr th:only-of-type {\n",
       "        vertical-align: middle;\n",
       "    }\n",
       "\n",
       "    .dataframe tbody tr th {\n",
       "        vertical-align: top;\n",
       "    }\n",
       "\n",
       "    .dataframe thead th {\n",
       "        text-align: right;\n",
       "    }\n",
       "</style>\n",
       "<table border=\"1\" class=\"dataframe\">\n",
       "  <thead>\n",
       "    <tr style=\"text-align: right;\">\n",
       "      <th></th>\n",
       "      <th>classification method</th>\n",
       "      <th>roc_auc_score_all_data</th>\n",
       "    </tr>\n",
       "  </thead>\n",
       "  <tbody>\n",
       "    <tr>\n",
       "      <th>0</th>\n",
       "      <td>neural network</td>\n",
       "      <td>0.813448</td>\n",
       "    </tr>\n",
       "    <tr>\n",
       "      <th>1</th>\n",
       "      <td>random forest</td>\n",
       "      <td>0.830268</td>\n",
       "    </tr>\n",
       "    <tr>\n",
       "      <th>2</th>\n",
       "      <td>logistic regression</td>\n",
       "      <td>0.691729</td>\n",
       "    </tr>\n",
       "    <tr>\n",
       "      <th>3</th>\n",
       "      <td>SVM.SVC</td>\n",
       "      <td>0.832870</td>\n",
       "    </tr>\n",
       "  </tbody>\n",
       "</table>\n",
       "</div>"
      ],
      "text/plain": [
       "  classification method  roc_auc_score_all_data\n",
       "0        neural network                0.813448\n",
       "1         random forest                0.830268\n",
       "2   logistic regression                0.691729\n",
       "3               SVM.SVC                0.832870"
      ]
     },
     "execution_count": 123,
     "metadata": {},
     "output_type": "execute_result"
    }
   ],
   "source": [
    "auc_unbal_all"
   ]
  },
  {
   "cell_type": "code",
   "execution_count": 124,
   "metadata": {},
   "outputs": [
    {
     "data": {
      "image/png": "[encoded data removed]",
      "text/plain": [
       "<matplotlib.figure.Figure at 0x7f8cbf01ba90>"
      ]
     },
     "metadata": {},
     "output_type": "display_data"
    }
   ],
   "source": [
    "fig, ax = plt.subplots(2, 2, figsize = (12, 9))\n",
    "ax[0, 0].bar(roc_auc_test_balanced['classification method'], roc_auc_test_balanced['roc_auc_score_test_data'], width=0.5)\n",
    "ax[0, 0].set_ylim((0.6, 0.9))\n",
    "ax[0, 0].set_xlabel(\"classification method\", fontsize=14, verticalalignment='top')\n",
    "ax[0, 0].set_ylabel(\"roc_auc_score\", fontsize=14)\n",
    "ax[0, 0].set_title(\"roc_auc_score_test_balanced training\", fontsize=16)\n",
    "ax[0, 1].bar(auc_unbal_test['classification method'], auc_unbal_test['roc_auc_score_test_data'], width=0.5)\n",
    "ax[0, 1].set_ylim((0.6, 0.9))\n",
    "ax[0, 1].set_xlabel(\"classification method\", fontsize=14, verticalalignment='top')\n",
    "ax[0, 1].set_ylabel(\"roc_auc_score\", fontsize=14)\n",
    "ax[0, 1].set_title(\"roc_auc_score_test_unbalanced training\", fontsize=16)\n",
    "ax[1, 0].bar(roc_auc_all_balanced['classification method'], roc_auc_all_balanced['roc_auc_score_all_data'], width=0.5)\n",
    "ax[1, 0].set_ylim((0.6, 0.9))\n",
    "ax[1, 0].set_xlabel(\"classification method\", fontsize=14, verticalalignment='top')\n",
    "ax[1, 0].set_ylabel(\"roc_auc_score\", fontsize=14)\n",
    "ax[1, 0].set_title(\"roc_auc_score_all_balanced training\", fontsize=16)\n",
    "ax[1, 1].bar(auc_unbal_all['classification method'], auc_unbal_all['roc_auc_score_all_data'], width=0.5)\n",
    "ax[1, 1].set_ylim((0.6, 0.9))\n",
    "ax[1, 1].set_xlabel(\"classification method\", fontsize=14, verticalalignment='top')\n",
    "ax[1, 1].set_ylabel(\"roc_auc_score\", fontsize=14)\n",
    "ax[1, 1].set_title(\"roc_auc_score_all_unbalanced training\", fontsize=16)\n",
    "plt.tight_layout()\n",
    "plt.savefig(\"bank deposit roc_auc_score_summary.png\", dpi=300)"
   ]
  },
  {
   "cell_type": "markdown",
   "metadata": {},
   "source": [
    "### Overall, all models trained with the balanced data outperformed the models trained with the original unbalanced data by (0.065-0.14 roc_auc scores) on test data, suggesting the usage of more balanced data truly enhanced the performance of all the models.    \n",
    "### The neural network and random forest model (trained with balanced data) have better roc_auc_scores than other models on the test data. "
   ]
  },
  {
   "cell_type": "markdown",
   "metadata": {},
   "source": [
    "\n",
    "\n",
    "### Export the neural network  model as a pkl file:  "
   ]
  },
  {
   "cell_type": "code",
   "execution_count": 125,
   "metadata": {},
   "outputs": [
    {
     "data": {
      "text/plain": [
       "['neural_network_model_bal_bank_deposit_clf_nn5_fin.pkl']"
      ]
     },
     "execution_count": 125,
     "metadata": {},
     "output_type": "execute_result"
    }
   ],
   "source": [
    "from sklearn.externals import joblib\n",
    "joblib.dump(clf_nn5, 'neural_network_model_bal_bank_deposit_clf_nn5_fin.pkl')"
   ]
  },
  {
   "cell_type": "code",
   "execution_count": 126,
   "metadata": {},
   "outputs": [],
   "source": [
    "clf_nn_import = joblib.load('neural_network_model_bal_bank_deposit_clf_nn5_fin.pkl')"
   ]
  },
  {
   "cell_type": "code",
   "execution_count": 128,
   "metadata": {},
   "outputs": [
    {
     "data": {
      "text/plain": [
       "0.84820391214479851"
      ]
     },
     "execution_count": 128,
     "metadata": {},
     "output_type": "execute_result"
    }
   ],
   "source": [
    "roc_auc_score(y_sc_test, clf_nn_import.predict(X_sc_test))"
   ]
  },
  {
   "cell_type": "code",
   "execution_count": 130,
   "metadata": {},
   "outputs": [
    {
     "name": "stdout",
     "output_type": "stream",
     "text": [
      "             precision    recall  f1-score   support\n",
      "\n",
      "          0       0.93      0.89      0.91      2026\n",
      "          1       0.73      0.81      0.77       746\n",
      "\n",
      "avg / total       0.87      0.87      0.87      2772\n",
      "\n"
     ]
    }
   ],
   "source": [
    "print(classification_report(y_sc_test, clf_nn_import.predict(X_sc_test)))\n",
    "### The neural network model "
   ]
  },
  {
   "cell_type": "code",
   "execution_count": 131,
   "metadata": {},
   "outputs": [
    {
     "name": "stdout",
     "output_type": "stream",
     "text": [
      "             precision    recall  f1-score   support\n",
      "\n",
      "          0       0.93      0.90      0.91      2026\n",
      "          1       0.75      0.81      0.78       746\n",
      "\n",
      "avg / total       0.88      0.88      0.88      2772\n",
      "\n"
     ]
    }
   ],
   "source": [
    "print(classification_report(y_sc_test, clf_rf6.predict(X_sc_test)))"
   ]
  },
  {
   "cell_type": "code",
   "execution_count": 132,
   "metadata": {},
   "outputs": [
    {
     "name": "stdout",
     "output_type": "stream",
     "text": [
      "             precision    recall  f1-score   support\n",
      "\n",
      "          0       0.88      0.93      0.91      2026\n",
      "          1       0.78      0.67      0.72       746\n",
      "\n",
      "avg / total       0.86      0.86      0.86      2772\n",
      "\n"
     ]
    }
   ],
   "source": [
    "print(classification_report(y_sc_test, clf_lr2.predict(X_sc_test)))"
   ]
  },
  {
   "cell_type": "code",
   "execution_count": 134,
   "metadata": {},
   "outputs": [
    {
     "name": "stdout",
     "output_type": "stream",
     "text": [
      "             precision    recall  f1-score   support\n",
      "\n",
      "          0       0.92      0.90      0.91      2026\n",
      "          1       0.74      0.79      0.76       746\n",
      "\n",
      "avg / total       0.87      0.87      0.87      2772\n",
      "\n"
     ]
    }
   ],
   "source": [
    "print(classification_report(y_sc_test, clf_svc2.predict(X_sc_test)))"
   ]
  },
  {
   "cell_type": "markdown",
   "metadata": {},
   "source": [
    "### Random forest  model has the best f1-scores, but f1-scores of neural network and SVM.SVC are very close. "
   ]
  },
  {
   "cell_type": "code",
   "execution_count": 135,
   "metadata": {},
   "outputs": [
    {
     "data": {
      "text/plain": [
       "['random_forest_model_bal_data_bank_deposit_clf_rf6_fin.pkl']"
      ]
     },
     "execution_count": 135,
     "metadata": {},
     "output_type": "execute_result"
    }
   ],
   "source": [
    "joblib.dump(clf_rf6, 'random_forest_model_bal_data_bank_deposit_clf_rf6_fin.pkl')\n",
    "### also export random_forest_model"
   ]
  },
  {
   "cell_type": "code",
   "execution_count": null,
   "metadata": {},
   "outputs": [],
   "source": []
  }
 ],
 "metadata": {
  "kernelspec": {
   "display_name": "Python [default]",
   "language": "python",
   "name": "python3"
  },
  "language_info": {
   "codemirror_mode": {
    "name": "ipython",
    "version": 3
   },
   "file_extension": ".py",
   "mimetype": "text/x-python",
   "name": "python",
   "nbconvert_exporter": "python",
   "pygments_lexer": "ipython3",
   "version": "3.6.2"
  }
 },
 "nbformat": 4,
 "nbformat_minor": 2
}
