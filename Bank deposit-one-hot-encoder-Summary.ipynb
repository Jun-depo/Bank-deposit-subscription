{
 "cells": [
  {
   "cell_type": "markdown",
   "metadata": {},
   "source": [
    "data: https://archive.ics.uci.edu/ml/datasets/Bank+Marketing"
   ]
  },
  {
   "cell_type": "code",
   "execution_count": 1,
   "metadata": {},
   "outputs": [],
   "source": [
    "import pandas as pd\n",
    "import numpy as np\n",
    "import matplotlib.pyplot as plt\n",
    "\n",
    "import warnings\n",
    "warnings.filterwarnings(\"ignore\")"
   ]
  },
  {
   "cell_type": "code",
   "execution_count": 2,
   "metadata": {},
   "outputs": [
    {
     "data": {
      "text/html": [
       "<div>\n",
       "<style scoped>\n",
       "    .dataframe tbody tr th:only-of-type {\n",
       "        vertical-align: middle;\n",
       "    }\n",
       "\n",
       "    .dataframe tbody tr th {\n",
       "        vertical-align: top;\n",
       "    }\n",
       "\n",
       "    .dataframe thead th {\n",
       "        text-align: right;\n",
       "    }\n",
       "</style>\n",
       "<table border=\"1\" class=\"dataframe\">\n",
       "  <thead>\n",
       "    <tr style=\"text-align: right;\">\n",
       "      <th></th>\n",
       "      <th>age</th>\n",
       "      <th>job</th>\n",
       "      <th>marital</th>\n",
       "      <th>education</th>\n",
       "      <th>default</th>\n",
       "      <th>housing</th>\n",
       "      <th>loan</th>\n",
       "      <th>contact</th>\n",
       "      <th>month</th>\n",
       "      <th>day_of_week</th>\n",
       "      <th>...</th>\n",
       "      <th>campaign</th>\n",
       "      <th>pdays</th>\n",
       "      <th>previous</th>\n",
       "      <th>poutcome</th>\n",
       "      <th>emp.var.rate</th>\n",
       "      <th>cons.price.idx</th>\n",
       "      <th>cons.conf.idx</th>\n",
       "      <th>euribor3m</th>\n",
       "      <th>nr.employed</th>\n",
       "      <th>y</th>\n",
       "    </tr>\n",
       "  </thead>\n",
       "  <tbody>\n",
       "    <tr>\n",
       "      <th>0</th>\n",
       "      <td>56</td>\n",
       "      <td>housemaid</td>\n",
       "      <td>married</td>\n",
       "      <td>basic.4y</td>\n",
       "      <td>no</td>\n",
       "      <td>no</td>\n",
       "      <td>no</td>\n",
       "      <td>telephone</td>\n",
       "      <td>may</td>\n",
       "      <td>mon</td>\n",
       "      <td>...</td>\n",
       "      <td>1</td>\n",
       "      <td>999</td>\n",
       "      <td>0</td>\n",
       "      <td>nonexistent</td>\n",
       "      <td>1.1</td>\n",
       "      <td>93.994</td>\n",
       "      <td>-36.4</td>\n",
       "      <td>4.857</td>\n",
       "      <td>5191.0</td>\n",
       "      <td>no</td>\n",
       "    </tr>\n",
       "    <tr>\n",
       "      <th>1</th>\n",
       "      <td>57</td>\n",
       "      <td>services</td>\n",
       "      <td>married</td>\n",
       "      <td>high.school</td>\n",
       "      <td>unknown</td>\n",
       "      <td>no</td>\n",
       "      <td>no</td>\n",
       "      <td>telephone</td>\n",
       "      <td>may</td>\n",
       "      <td>mon</td>\n",
       "      <td>...</td>\n",
       "      <td>1</td>\n",
       "      <td>999</td>\n",
       "      <td>0</td>\n",
       "      <td>nonexistent</td>\n",
       "      <td>1.1</td>\n",
       "      <td>93.994</td>\n",
       "      <td>-36.4</td>\n",
       "      <td>4.857</td>\n",
       "      <td>5191.0</td>\n",
       "      <td>no</td>\n",
       "    </tr>\n",
       "    <tr>\n",
       "      <th>2</th>\n",
       "      <td>37</td>\n",
       "      <td>services</td>\n",
       "      <td>married</td>\n",
       "      <td>high.school</td>\n",
       "      <td>no</td>\n",
       "      <td>yes</td>\n",
       "      <td>no</td>\n",
       "      <td>telephone</td>\n",
       "      <td>may</td>\n",
       "      <td>mon</td>\n",
       "      <td>...</td>\n",
       "      <td>1</td>\n",
       "      <td>999</td>\n",
       "      <td>0</td>\n",
       "      <td>nonexistent</td>\n",
       "      <td>1.1</td>\n",
       "      <td>93.994</td>\n",
       "      <td>-36.4</td>\n",
       "      <td>4.857</td>\n",
       "      <td>5191.0</td>\n",
       "      <td>no</td>\n",
       "    </tr>\n",
       "    <tr>\n",
       "      <th>3</th>\n",
       "      <td>40</td>\n",
       "      <td>admin.</td>\n",
       "      <td>married</td>\n",
       "      <td>basic.6y</td>\n",
       "      <td>no</td>\n",
       "      <td>no</td>\n",
       "      <td>no</td>\n",
       "      <td>telephone</td>\n",
       "      <td>may</td>\n",
       "      <td>mon</td>\n",
       "      <td>...</td>\n",
       "      <td>1</td>\n",
       "      <td>999</td>\n",
       "      <td>0</td>\n",
       "      <td>nonexistent</td>\n",
       "      <td>1.1</td>\n",
       "      <td>93.994</td>\n",
       "      <td>-36.4</td>\n",
       "      <td>4.857</td>\n",
       "      <td>5191.0</td>\n",
       "      <td>no</td>\n",
       "    </tr>\n",
       "    <tr>\n",
       "      <th>4</th>\n",
       "      <td>56</td>\n",
       "      <td>services</td>\n",
       "      <td>married</td>\n",
       "      <td>high.school</td>\n",
       "      <td>no</td>\n",
       "      <td>no</td>\n",
       "      <td>yes</td>\n",
       "      <td>telephone</td>\n",
       "      <td>may</td>\n",
       "      <td>mon</td>\n",
       "      <td>...</td>\n",
       "      <td>1</td>\n",
       "      <td>999</td>\n",
       "      <td>0</td>\n",
       "      <td>nonexistent</td>\n",
       "      <td>1.1</td>\n",
       "      <td>93.994</td>\n",
       "      <td>-36.4</td>\n",
       "      <td>4.857</td>\n",
       "      <td>5191.0</td>\n",
       "      <td>no</td>\n",
       "    </tr>\n",
       "  </tbody>\n",
       "</table>\n",
       "<p>5 rows × 21 columns</p>\n",
       "</div>"
      ],
      "text/plain": [
       "   age        job  marital    education  default housing loan    contact  \\\n",
       "0   56  housemaid  married     basic.4y       no      no   no  telephone   \n",
       "1   57   services  married  high.school  unknown      no   no  telephone   \n",
       "2   37   services  married  high.school       no     yes   no  telephone   \n",
       "3   40     admin.  married     basic.6y       no      no   no  telephone   \n",
       "4   56   services  married  high.school       no      no  yes  telephone   \n",
       "\n",
       "  month day_of_week  ...  campaign  pdays  previous     poutcome emp.var.rate  \\\n",
       "0   may         mon  ...         1    999         0  nonexistent          1.1   \n",
       "1   may         mon  ...         1    999         0  nonexistent          1.1   \n",
       "2   may         mon  ...         1    999         0  nonexistent          1.1   \n",
       "3   may         mon  ...         1    999         0  nonexistent          1.1   \n",
       "4   may         mon  ...         1    999         0  nonexistent          1.1   \n",
       "\n",
       "   cons.price.idx  cons.conf.idx  euribor3m  nr.employed   y  \n",
       "0          93.994          -36.4      4.857       5191.0  no  \n",
       "1          93.994          -36.4      4.857       5191.0  no  \n",
       "2          93.994          -36.4      4.857       5191.0  no  \n",
       "3          93.994          -36.4      4.857       5191.0  no  \n",
       "4          93.994          -36.4      4.857       5191.0  no  \n",
       "\n",
       "[5 rows x 21 columns]"
      ]
     },
     "execution_count": 2,
     "metadata": {},
     "output_type": "execute_result"
    }
   ],
   "source": [
    "df_ori = pd.read_csv(\"bank-additional/bank-additional-full.csv\",  sep=';')\n",
    "df_ori.head()"
   ]
  },
  {
   "cell_type": "code",
   "execution_count": 3,
   "metadata": {},
   "outputs": [
    {
     "data": {
      "text/html": [
       "<div>\n",
       "<style scoped>\n",
       "    .dataframe tbody tr th:only-of-type {\n",
       "        vertical-align: middle;\n",
       "    }\n",
       "\n",
       "    .dataframe tbody tr th {\n",
       "        vertical-align: top;\n",
       "    }\n",
       "\n",
       "    .dataframe thead th {\n",
       "        text-align: right;\n",
       "    }\n",
       "</style>\n",
       "<table border=\"1\" class=\"dataframe\">\n",
       "  <thead>\n",
       "    <tr style=\"text-align: right;\">\n",
       "      <th></th>\n",
       "      <th>age</th>\n",
       "      <th>job</th>\n",
       "      <th>marital</th>\n",
       "      <th>education</th>\n",
       "      <th>default</th>\n",
       "      <th>housing</th>\n",
       "      <th>loan</th>\n",
       "      <th>contact</th>\n",
       "      <th>month</th>\n",
       "      <th>day_of_week</th>\n",
       "      <th>...</th>\n",
       "      <th>campaign</th>\n",
       "      <th>pdays</th>\n",
       "      <th>previous</th>\n",
       "      <th>poutcome</th>\n",
       "      <th>emp.var.rate</th>\n",
       "      <th>cons.price.idx</th>\n",
       "      <th>cons.conf.idx</th>\n",
       "      <th>euribor3m</th>\n",
       "      <th>nr.employed</th>\n",
       "      <th>y</th>\n",
       "    </tr>\n",
       "  </thead>\n",
       "  <tbody>\n",
       "    <tr>\n",
       "      <th>0</th>\n",
       "      <td>1.642226</td>\n",
       "      <td>0</td>\n",
       "      <td>2</td>\n",
       "      <td>1</td>\n",
       "      <td>0</td>\n",
       "      <td>0</td>\n",
       "      <td>0</td>\n",
       "      <td>0</td>\n",
       "      <td>5</td>\n",
       "      <td>1</td>\n",
       "      <td>...</td>\n",
       "      <td>-0.559326</td>\n",
       "      <td>0.211884</td>\n",
       "      <td>-0.37161</td>\n",
       "      <td>1</td>\n",
       "      <td>0.727466</td>\n",
       "      <td>0.804082</td>\n",
       "      <td>0.877437</td>\n",
       "      <td>0.786089</td>\n",
       "      <td>0.401641</td>\n",
       "      <td>0</td>\n",
       "    </tr>\n",
       "    <tr>\n",
       "      <th>1</th>\n",
       "      <td>-0.196449</td>\n",
       "      <td>1</td>\n",
       "      <td>2</td>\n",
       "      <td>4</td>\n",
       "      <td>0</td>\n",
       "      <td>1</td>\n",
       "      <td>0</td>\n",
       "      <td>0</td>\n",
       "      <td>5</td>\n",
       "      <td>1</td>\n",
       "      <td>...</td>\n",
       "      <td>-0.559326</td>\n",
       "      <td>0.211884</td>\n",
       "      <td>-0.37161</td>\n",
       "      <td>1</td>\n",
       "      <td>0.727466</td>\n",
       "      <td>0.804082</td>\n",
       "      <td>0.877437</td>\n",
       "      <td>0.786089</td>\n",
       "      <td>0.401641</td>\n",
       "      <td>0</td>\n",
       "    </tr>\n",
       "    <tr>\n",
       "      <th>2</th>\n",
       "      <td>0.093868</td>\n",
       "      <td>2</td>\n",
       "      <td>2</td>\n",
       "      <td>2</td>\n",
       "      <td>0</td>\n",
       "      <td>0</td>\n",
       "      <td>0</td>\n",
       "      <td>0</td>\n",
       "      <td>5</td>\n",
       "      <td>1</td>\n",
       "      <td>...</td>\n",
       "      <td>-0.559326</td>\n",
       "      <td>0.211884</td>\n",
       "      <td>-0.37161</td>\n",
       "      <td>1</td>\n",
       "      <td>0.727466</td>\n",
       "      <td>0.804082</td>\n",
       "      <td>0.877437</td>\n",
       "      <td>0.786089</td>\n",
       "      <td>0.401641</td>\n",
       "      <td>0</td>\n",
       "    </tr>\n",
       "    <tr>\n",
       "      <th>3</th>\n",
       "      <td>1.642226</td>\n",
       "      <td>1</td>\n",
       "      <td>2</td>\n",
       "      <td>4</td>\n",
       "      <td>0</td>\n",
       "      <td>0</td>\n",
       "      <td>1</td>\n",
       "      <td>0</td>\n",
       "      <td>5</td>\n",
       "      <td>1</td>\n",
       "      <td>...</td>\n",
       "      <td>-0.559326</td>\n",
       "      <td>0.211884</td>\n",
       "      <td>-0.37161</td>\n",
       "      <td>1</td>\n",
       "      <td>0.727466</td>\n",
       "      <td>0.804082</td>\n",
       "      <td>0.877437</td>\n",
       "      <td>0.786089</td>\n",
       "      <td>0.401641</td>\n",
       "      <td>0</td>\n",
       "    </tr>\n",
       "    <tr>\n",
       "      <th>4</th>\n",
       "      <td>1.932543</td>\n",
       "      <td>2</td>\n",
       "      <td>2</td>\n",
       "      <td>5</td>\n",
       "      <td>0</td>\n",
       "      <td>0</td>\n",
       "      <td>0</td>\n",
       "      <td>0</td>\n",
       "      <td>5</td>\n",
       "      <td>1</td>\n",
       "      <td>...</td>\n",
       "      <td>-0.559326</td>\n",
       "      <td>0.211884</td>\n",
       "      <td>-0.37161</td>\n",
       "      <td>1</td>\n",
       "      <td>0.727466</td>\n",
       "      <td>0.804082</td>\n",
       "      <td>0.877437</td>\n",
       "      <td>0.786089</td>\n",
       "      <td>0.401641</td>\n",
       "      <td>0</td>\n",
       "    </tr>\n",
       "  </tbody>\n",
       "</table>\n",
       "<p>5 rows × 21 columns</p>\n",
       "</div>"
      ],
      "text/plain": [
       "        age  job  marital  education  default  housing  loan  contact  month  \\\n",
       "0  1.642226    0        2          1        0        0     0        0      5   \n",
       "1 -0.196449    1        2          4        0        1     0        0      5   \n",
       "2  0.093868    2        2          2        0        0     0        0      5   \n",
       "3  1.642226    1        2          4        0        0     1        0      5   \n",
       "4  1.932543    2        2          5        0        0     0        0      5   \n",
       "\n",
       "   day_of_week  ...  campaign     pdays  previous  poutcome  emp.var.rate  \\\n",
       "0            1  ... -0.559326  0.211884  -0.37161         1      0.727466   \n",
       "1            1  ... -0.559326  0.211884  -0.37161         1      0.727466   \n",
       "2            1  ... -0.559326  0.211884  -0.37161         1      0.727466   \n",
       "3            1  ... -0.559326  0.211884  -0.37161         1      0.727466   \n",
       "4            1  ... -0.559326  0.211884  -0.37161         1      0.727466   \n",
       "\n",
       "   cons.price.idx  cons.conf.idx  euribor3m  nr.employed  y  \n",
       "0        0.804082       0.877437   0.786089     0.401641  0  \n",
       "1        0.804082       0.877437   0.786089     0.401641  0  \n",
       "2        0.804082       0.877437   0.786089     0.401641  0  \n",
       "3        0.804082       0.877437   0.786089     0.401641  0  \n",
       "4        0.804082       0.877437   0.786089     0.401641  0  \n",
       "\n",
       "[5 rows x 21 columns]"
      ]
     },
     "execution_count": 3,
     "metadata": {},
     "output_type": "execute_result"
    }
   ],
   "source": [
    "df=pd.read_csv('bank_additional_full_clean_normalized.csv')\n",
    "df.head()"
   ]
  },
  {
   "cell_type": "code",
   "execution_count": 4,
   "metadata": {},
   "outputs": [],
   "source": [
    "X = df.iloc[:, 0:-1]\n",
    "y = df.y"
   ]
  },
  {
   "cell_type": "code",
   "execution_count": 5,
   "metadata": {},
   "outputs": [
    {
     "data": {
      "text/html": [
       "<div>\n",
       "<style scoped>\n",
       "    .dataframe tbody tr th:only-of-type {\n",
       "        vertical-align: middle;\n",
       "    }\n",
       "\n",
       "    .dataframe tbody tr th {\n",
       "        vertical-align: top;\n",
       "    }\n",
       "\n",
       "    .dataframe thead th {\n",
       "        text-align: right;\n",
       "    }\n",
       "</style>\n",
       "<table border=\"1\" class=\"dataframe\">\n",
       "  <thead>\n",
       "    <tr style=\"text-align: right;\">\n",
       "      <th></th>\n",
       "      <th>age</th>\n",
       "      <th>job</th>\n",
       "      <th>marital</th>\n",
       "      <th>education</th>\n",
       "      <th>default</th>\n",
       "      <th>housing</th>\n",
       "      <th>loan</th>\n",
       "      <th>contact</th>\n",
       "      <th>month</th>\n",
       "      <th>day_of_week</th>\n",
       "      <th>duration</th>\n",
       "      <th>campaign</th>\n",
       "      <th>pdays</th>\n",
       "      <th>previous</th>\n",
       "      <th>poutcome</th>\n",
       "      <th>emp.var.rate</th>\n",
       "      <th>cons.price.idx</th>\n",
       "      <th>cons.conf.idx</th>\n",
       "      <th>euribor3m</th>\n",
       "      <th>nr.employed</th>\n",
       "    </tr>\n",
       "  </thead>\n",
       "  <tbody>\n",
       "    <tr>\n",
       "      <th>0</th>\n",
       "      <td>1.642226</td>\n",
       "      <td>0</td>\n",
       "      <td>2</td>\n",
       "      <td>1</td>\n",
       "      <td>0</td>\n",
       "      <td>0</td>\n",
       "      <td>0</td>\n",
       "      <td>0</td>\n",
       "      <td>5</td>\n",
       "      <td>1</td>\n",
       "      <td>0.005792</td>\n",
       "      <td>-0.559326</td>\n",
       "      <td>0.211884</td>\n",
       "      <td>-0.37161</td>\n",
       "      <td>1</td>\n",
       "      <td>0.727466</td>\n",
       "      <td>0.804082</td>\n",
       "      <td>0.877437</td>\n",
       "      <td>0.786089</td>\n",
       "      <td>0.401641</td>\n",
       "    </tr>\n",
       "    <tr>\n",
       "      <th>1</th>\n",
       "      <td>-0.196449</td>\n",
       "      <td>1</td>\n",
       "      <td>2</td>\n",
       "      <td>4</td>\n",
       "      <td>0</td>\n",
       "      <td>1</td>\n",
       "      <td>0</td>\n",
       "      <td>0</td>\n",
       "      <td>5</td>\n",
       "      <td>1</td>\n",
       "      <td>-0.127941</td>\n",
       "      <td>-0.559326</td>\n",
       "      <td>0.211884</td>\n",
       "      <td>-0.37161</td>\n",
       "      <td>1</td>\n",
       "      <td>0.727466</td>\n",
       "      <td>0.804082</td>\n",
       "      <td>0.877437</td>\n",
       "      <td>0.786089</td>\n",
       "      <td>0.401641</td>\n",
       "    </tr>\n",
       "    <tr>\n",
       "      <th>2</th>\n",
       "      <td>0.093868</td>\n",
       "      <td>2</td>\n",
       "      <td>2</td>\n",
       "      <td>2</td>\n",
       "      <td>0</td>\n",
       "      <td>0</td>\n",
       "      <td>0</td>\n",
       "      <td>0</td>\n",
       "      <td>5</td>\n",
       "      <td>1</td>\n",
       "      <td>-0.414513</td>\n",
       "      <td>-0.559326</td>\n",
       "      <td>0.211884</td>\n",
       "      <td>-0.37161</td>\n",
       "      <td>1</td>\n",
       "      <td>0.727466</td>\n",
       "      <td>0.804082</td>\n",
       "      <td>0.877437</td>\n",
       "      <td>0.786089</td>\n",
       "      <td>0.401641</td>\n",
       "    </tr>\n",
       "    <tr>\n",
       "      <th>3</th>\n",
       "      <td>1.642226</td>\n",
       "      <td>1</td>\n",
       "      <td>2</td>\n",
       "      <td>4</td>\n",
       "      <td>0</td>\n",
       "      <td>0</td>\n",
       "      <td>1</td>\n",
       "      <td>0</td>\n",
       "      <td>5</td>\n",
       "      <td>1</td>\n",
       "      <td>0.181556</td>\n",
       "      <td>-0.559326</td>\n",
       "      <td>0.211884</td>\n",
       "      <td>-0.37161</td>\n",
       "      <td>1</td>\n",
       "      <td>0.727466</td>\n",
       "      <td>0.804082</td>\n",
       "      <td>0.877437</td>\n",
       "      <td>0.786089</td>\n",
       "      <td>0.401641</td>\n",
       "    </tr>\n",
       "    <tr>\n",
       "      <th>4</th>\n",
       "      <td>1.932543</td>\n",
       "      <td>2</td>\n",
       "      <td>2</td>\n",
       "      <td>5</td>\n",
       "      <td>0</td>\n",
       "      <td>0</td>\n",
       "      <td>0</td>\n",
       "      <td>0</td>\n",
       "      <td>5</td>\n",
       "      <td>1</td>\n",
       "      <td>-0.460365</td>\n",
       "      <td>-0.559326</td>\n",
       "      <td>0.211884</td>\n",
       "      <td>-0.37161</td>\n",
       "      <td>1</td>\n",
       "      <td>0.727466</td>\n",
       "      <td>0.804082</td>\n",
       "      <td>0.877437</td>\n",
       "      <td>0.786089</td>\n",
       "      <td>0.401641</td>\n",
       "    </tr>\n",
       "  </tbody>\n",
       "</table>\n",
       "</div>"
      ],
      "text/plain": [
       "        age  job  marital  education  default  housing  loan  contact  month  \\\n",
       "0  1.642226    0        2          1        0        0     0        0      5   \n",
       "1 -0.196449    1        2          4        0        1     0        0      5   \n",
       "2  0.093868    2        2          2        0        0     0        0      5   \n",
       "3  1.642226    1        2          4        0        0     1        0      5   \n",
       "4  1.932543    2        2          5        0        0     0        0      5   \n",
       "\n",
       "   day_of_week  duration  campaign     pdays  previous  poutcome  \\\n",
       "0            1  0.005792 -0.559326  0.211884  -0.37161         1   \n",
       "1            1 -0.127941 -0.559326  0.211884  -0.37161         1   \n",
       "2            1 -0.414513 -0.559326  0.211884  -0.37161         1   \n",
       "3            1  0.181556 -0.559326  0.211884  -0.37161         1   \n",
       "4            1 -0.460365 -0.559326  0.211884  -0.37161         1   \n",
       "\n",
       "   emp.var.rate  cons.price.idx  cons.conf.idx  euribor3m  nr.employed  \n",
       "0      0.727466        0.804082       0.877437   0.786089     0.401641  \n",
       "1      0.727466        0.804082       0.877437   0.786089     0.401641  \n",
       "2      0.727466        0.804082       0.877437   0.786089     0.401641  \n",
       "3      0.727466        0.804082       0.877437   0.786089     0.401641  \n",
       "4      0.727466        0.804082       0.877437   0.786089     0.401641  "
      ]
     },
     "execution_count": 5,
     "metadata": {},
     "output_type": "execute_result"
    }
   ],
   "source": [
    "X.head()"
   ]
  },
  {
   "cell_type": "code",
   "execution_count": 6,
   "metadata": {},
   "outputs": [
    {
     "data": {
      "text/plain": [
       "(0.2118836362185938, -4.749052297919588)"
      ]
     },
     "execution_count": 6,
     "metadata": {},
     "output_type": "execute_result"
    }
   ],
   "source": [
    "X.pdays.max(), X.pdays.min()"
   ]
  },
  {
   "cell_type": "code",
   "execution_count": 7,
   "metadata": {},
   "outputs": [
    {
     "data": {
      "text/plain": [
       "0    0\n",
       "1    0\n",
       "Name: y, dtype: int64"
      ]
     },
     "execution_count": 7,
     "metadata": {},
     "output_type": "execute_result"
    }
   ],
   "source": [
    "y.head(2)"
   ]
  },
  {
   "cell_type": "code",
   "execution_count": 8,
   "metadata": {},
   "outputs": [],
   "source": [
    "from sklearn.model_selection import train_test_split"
   ]
  },
  {
   "cell_type": "code",
   "execution_count": 9,
   "metadata": {},
   "outputs": [],
   "source": [
    "X_train, X_temp, y_train, y_temp = train_test_split(X, y, test_size=0.4, random_state=101)"
   ]
  },
  {
   "cell_type": "code",
   "execution_count": 10,
   "metadata": {},
   "outputs": [],
   "source": [
    "X_cv, X_test, y_cv, y_test = train_test_split(X_temp, y_temp, test_size=0.5, random_state=101)"
   ]
  },
  {
   "cell_type": "code",
   "execution_count": 11,
   "metadata": {},
   "outputs": [
    {
     "data": {
      "text/plain": [
       "Index(['age', 'job', 'marital', 'education', 'default', 'housing', 'loan',\n",
       "       'contact', 'month', 'day_of_week', 'duration', 'campaign', 'pdays',\n",
       "       'previous', 'poutcome', 'emp.var.rate', 'cons.price.idx',\n",
       "       'cons.conf.idx', 'euribor3m', 'nr.employed', 'y'],\n",
       "      dtype='object')"
      ]
     },
     "execution_count": 11,
     "metadata": {},
     "output_type": "execute_result"
    }
   ],
   "source": [
    "df_ori.columns"
   ]
  },
  {
   "cell_type": "code",
   "execution_count": 12,
   "metadata": {},
   "outputs": [
    {
     "name": "stdout",
     "output_type": "stream",
     "text": [
      "Number of samples: 30488\n",
      "Number of features: 19\n",
      "Number of categorical features: 10\n",
      "Number of numerical features: 9\n"
     ]
    }
   ],
   "source": [
    "categorical_columns_subset = [\n",
    "    'job', 'marital', 'education', 'default', 'housing', 'loan', 'contact', 'month', 'day_of_week', 'poutcome'\n",
    "]\n",
    "\n",
    "numerical_columns_subset = [\n",
    "    'duration', 'campaign', 'pdays',\n",
    "    'previous', 'emp.var.rate', 'cons.price.idx', \n",
    "    'cons.conf.idx', 'euribor3m', 'nr.employed'\n",
    "]\n",
    "\n",
    "X = X[categorical_columns_subset + numerical_columns_subset]\n",
    "X[categorical_columns_subset] = X[categorical_columns_subset].astype(\"category\")\n",
    "\n",
    "n_categorical_features = X.select_dtypes(include=\"category\").shape[1]\n",
    "n_numerical_features = X.select_dtypes(include=\"number\").shape[1]\n",
    "\n",
    "print(f\"Number of samples: {X.shape[0]}\")\n",
    "print(f\"Number of features: {X.shape[1]}\")\n",
    "print(f\"Number of categorical features: {n_categorical_features}\")\n",
    "print(f\"Number of numerical features: {n_numerical_features}\")"
   ]
  },
  {
   "cell_type": "code",
   "execution_count": 13,
   "metadata": {},
   "outputs": [],
   "source": [
    "from sklearn.preprocessing import OneHotEncoder\n",
    "from sklearn.compose import make_column_transformer\n",
    "from sklearn.compose import make_column_selector\n",
    "from sklearn.pipeline import make_pipeline\n",
    "from sklearn.metrics import classification_report\n",
    "from sklearn.metrics import roc_curve, auc, roc_auc_score\n",
    "import seaborn as sns\n",
    "\n",
    "\n",
    "one_hot_encoder = make_column_transformer(\n",
    "    (\n",
    "        OneHotEncoder(sparse=False, handle_unknown=\"ignore\"),\n",
    "        make_column_selector(dtype_include=\"category\"),\n",
    "    ),\n",
    "    remainder=\"passthrough\",\n",
    ")"
   ]
  },
  {
   "cell_type": "code",
   "execution_count": 14,
   "metadata": {},
   "outputs": [],
   "source": [
    "import lightgbm as lgbm\n",
    "from sklearn.linear_model import LogisticRegression\n",
    "from sklearn.neural_network import MLPClassifier\n",
    "from sklearn.ensemble import RandomForestClassifier\n",
    "from sklearn.svm import SVC\n",
    "\n",
    "# import optuna  # pip install optuna\n",
    "# from sklearn.metrics import log_loss"
   ]
  },
  {
   "cell_type": "code",
   "execution_count": 15,
   "metadata": {},
   "outputs": [],
   "source": [
    "import joblib\n",
    "LR_clf = joblib.load(\"best_logistic_regression_model_C3.sav\")\n",
    "LR_wt_bal_clf = joblib.load(\"best_logistic_regression_model_C3_balanced_wt.sav\")\n",
    "\n",
    "SVC_clf = joblib.load(\"best_SVC_model_one_hot_C30.sav\")\n",
    "SVC_wt_bal_clf = joblib.load(\"best_SVC_model_one_hot_C3_weight_balanced.sav\")\n",
    "\n",
    "RF_clf = joblib.load(\"best_random_forest_model_one_hot_n_estimators30_min_samples_leaf6.sav\")\n",
    "RF_wt_bal_clf = joblib.load(\"best_random_forest_model_one_hot_n_estimators30_min_samples_leaf3_wt_balnced.sav\")\n",
    "\n",
    "nn_clf = joblib.load(\"best_neural_network_model_one_hot_classifier5.sav\")\n",
    "lgbm_clf = joblib.load(\"best_lightgbm_model_one_hot_long_search_classifier.sav\")"
   ]
  },
  {
   "cell_type": "code",
   "execution_count": 16,
   "metadata": {},
   "outputs": [
    {
     "data": {
      "text/plain": [
       "LGBMClassifier(bagging_fraction=0.75, bagging_freq=1, feature_fraction=0.95,\n",
       "               lambda_l1=0, lambda_l2=0, learning_rate=0.05, max_depth=12,\n",
       "               min_data_in_leaf=20, min_gain_to_split=0.0, n_estimators=10000,\n",
       "               num_leaves=180, objective='binary')"
      ]
     },
     "execution_count": 16,
     "metadata": {},
     "output_type": "execute_result"
    }
   ],
   "source": [
    "lgbm_wt_clf = joblib.load(\"best_lightgbm_model_one_hot_1000_search_is_unbalanced_classifier.sav\")\n",
    "lgbm_wt_clf"
   ]
  },
  {
   "cell_type": "code",
   "execution_count": 17,
   "metadata": {},
   "outputs": [
    {
     "data": {
      "text/plain": [
       "Pipeline(steps=[('columntransformer',\n",
       "                 ColumnTransformer(remainder='passthrough',\n",
       "                                   transformers=[('onehotencoder',\n",
       "                                                  OneHotEncoder(handle_unknown='ignore',\n",
       "                                                                sparse=False),\n",
       "                                                  <sklearn.compose._column_transformer.make_column_selector object at 0x7f9a33a3fee0>)])),\n",
       "                ('randomforestclassifier',\n",
       "                 RandomForestClassifier(class_weight='balanced',\n",
       "                                        min_samples_leaf=3, n_estimators=30))])"
      ]
     },
     "execution_count": 17,
     "metadata": {},
     "output_type": "execute_result"
    }
   ],
   "source": [
    "RF_wt_bal_clf "
   ]
  },
  {
   "cell_type": "code",
   "execution_count": 18,
   "metadata": {},
   "outputs": [
    {
     "data": {
      "text/plain": [
       "LGBMClassifier(bagging_fraction=0.8500000000000001, bagging_freq=1,\n",
       "               feature_fraction=0.95, lambda_l1=0, lambda_l2=0,\n",
       "               learning_rate=0.05, max_depth=7, min_data_in_leaf=20,\n",
       "               min_gain_to_split=1.0, n_estimators=10000, num_leaves=30,\n",
       "               objective='binary')"
      ]
     },
     "execution_count": 18,
     "metadata": {},
     "output_type": "execute_result"
    }
   ],
   "source": [
    "lgbm_clf"
   ]
  },
  {
   "cell_type": "code",
   "execution_count": 19,
   "metadata": {},
   "outputs": [],
   "source": [
    "cv_macro_average_f1 = {}\n",
    "cv_roc_auc_dict = {}"
   ]
  },
  {
   "cell_type": "code",
   "execution_count": 20,
   "metadata": {},
   "outputs": [
    {
     "name": "stdout",
     "output_type": "stream",
     "text": [
      "Classification report on cross-validation data:\n",
      "logistic_regression_balanced_wt macro average f1-score: 0.7307\n",
      "\n"
     ]
    }
   ],
   "source": [
    "cl_rep = classification_report(y_cv, LR_clf.predict(X_cv), output_dict=True)\n",
    "f1_sc = cl_rep['macro avg']['f1-score']\n",
    "cv_macro_average_f1['logistic_regression_balanced_wt'] = f1_sc\n",
    "print('Classification report on cross-validation data:')\n",
    "print(f\"logistic_regression_balanced_wt macro average f1-score: {f1_sc:.4f}\\n\")"
   ]
  },
  {
   "cell_type": "code",
   "execution_count": 21,
   "metadata": {},
   "outputs": [
    {
     "name": "stdout",
     "output_type": "stream",
     "text": [
      "logistic_regression_balanced_wt roc_auc_score on cross-validation data 0.9215\n",
      "\n"
     ]
    }
   ],
   "source": [
    "auc_sc = roc_auc_score(y_cv, LR_clf.predict_proba(X_cv)[:, 1])\n",
    "cv_roc_auc_dict['logistic_regression_balanced_wt'] = auc_sc\n",
    "print(f\"logistic_regression_balanced_wt roc_auc_score on cross-validation data {auc_sc:.4f}\\n\")"
   ]
  },
  {
   "cell_type": "code",
   "execution_count": 22,
   "metadata": {},
   "outputs": [
    {
     "name": "stdout",
     "output_type": "stream",
     "text": [
      "Classification report on cross-validation data:\n",
      "SVC macro average f1-score: 0.7411\n",
      "\n"
     ]
    }
   ],
   "source": [
    "cl_rep = classification_report(y_cv, SVC_clf.predict(X_cv), output_dict=True)\n",
    "f1_sc = cl_rep['macro avg']['f1-score']\n",
    "cv_macro_average_f1['SVC'] = f1_sc\n",
    "print('Classification report on cross-validation data:')\n",
    "print(f\"SVC macro average f1-score: {f1_sc:.4f}\\n\")"
   ]
  },
  {
   "cell_type": "code",
   "execution_count": 23,
   "metadata": {},
   "outputs": [
    {
     "name": "stdout",
     "output_type": "stream",
     "text": [
      "SVC roc_auc_score on cross-validation data 0.9195\n",
      "\n"
     ]
    }
   ],
   "source": [
    "auc_sc = roc_auc_score(y_cv, SVC_clf.predict_proba(X_cv)[:, 1])\n",
    "cv_roc_auc_dict[\"SVC\"] = auc_sc\n",
    "print(f\"SVC roc_auc_score on cross-validation data {auc_sc:.4f}\\n\")"
   ]
  },
  {
   "cell_type": "code",
   "execution_count": 24,
   "metadata": {},
   "outputs": [
    {
     "name": "stdout",
     "output_type": "stream",
     "text": [
      "Classification report on cross-validation data:\n",
      "SVC_balanced_wt f1-score of macro average: 0.7363\n",
      "\n"
     ]
    }
   ],
   "source": [
    "cl_rep = classification_report(y_cv, SVC_wt_bal_clf.predict(X_cv), output_dict=True)\n",
    "f1_sc = cl_rep['macro avg']['f1-score']\n",
    "cv_macro_average_f1['SVC_balanced_wt'] = f1_sc\n",
    "print('Classification report on cross-validation data:')\n",
    "print(f\"SVC_balanced_wt f1-score of macro average: {f1_sc:.4f}\\n\")"
   ]
  },
  {
   "cell_type": "code",
   "execution_count": 25,
   "metadata": {},
   "outputs": [
    {
     "name": "stdout",
     "output_type": "stream",
     "text": [
      "SVC_balanced_wt roc_auc_score on cross-validation data 0.9337\n",
      "\n"
     ]
    }
   ],
   "source": [
    "auc_sc = roc_auc_score(y_cv, SVC_wt_bal_clf.predict_proba(X_cv)[:, 1])\n",
    "cv_roc_auc_dict[\"SVC_balanced_wt\"] = auc_sc\n",
    "print(f\"SVC_balanced_wt roc_auc_score on cross-validation data {auc_sc:.4f}\\n\")"
   ]
  },
  {
   "cell_type": "code",
   "execution_count": 26,
   "metadata": {},
   "outputs": [
    {
     "name": "stdout",
     "output_type": "stream",
     "text": [
      "Classification report on cross-validation data:\n",
      "Random_Forest f1-score of macro average: 0.7620\n",
      "\n"
     ]
    }
   ],
   "source": [
    "cl_rep = classification_report(y_cv, RF_clf.predict(X_cv), output_dict=True)\n",
    "f1_sc = cl_rep['macro avg']['f1-score']\n",
    "cv_macro_average_f1['Random_Forest'] = f1_sc\n",
    "print('Classification report on cross-validation data:')\n",
    "print(f\"Random_Forest f1-score of macro average: {f1_sc:.4f}\\n\")"
   ]
  },
  {
   "cell_type": "code",
   "execution_count": 27,
   "metadata": {},
   "outputs": [
    {
     "name": "stdout",
     "output_type": "stream",
     "text": [
      "Random_Forest roc_auc_score on cross-validation data 0.9434\n",
      "\n"
     ]
    }
   ],
   "source": [
    "auc_sc = roc_auc_score(y_cv, RF_clf.predict_proba(X_cv)[:, 1])\n",
    "cv_roc_auc_dict[\"Random_Forest\"] = auc_sc\n",
    "print(f\"Random_Forest roc_auc_score on cross-validation data {auc_sc:.4f}\\n\")"
   ]
  },
  {
   "cell_type": "code",
   "execution_count": 28,
   "metadata": {},
   "outputs": [
    {
     "name": "stdout",
     "output_type": "stream",
     "text": [
      "Classification report on cross-validation data:\n",
      "Random_Forest_balanced_wt f1-score of macro average: 0.7951\n",
      "\n"
     ]
    }
   ],
   "source": [
    "cl_rep = classification_report(y_cv, RF_wt_bal_clf.predict(X_cv), output_dict=True)\n",
    "f1_sc = cl_rep['macro avg']['f1-score']\n",
    "cv_macro_average_f1['Random_Forest_balanced_wt'] = f1_sc\n",
    "print('Classification report on cross-validation data:')\n",
    "print(f\"Random_Forest_balanced_wt f1-score of macro average: {f1_sc:.4f}\\n\")"
   ]
  },
  {
   "cell_type": "code",
   "execution_count": 29,
   "metadata": {},
   "outputs": [
    {
     "name": "stdout",
     "output_type": "stream",
     "text": [
      "Random_Forest_balanced_wt roc_auc_score on cross-validation data 0.9407\n",
      "\n"
     ]
    }
   ],
   "source": [
    "auc_sc = roc_auc_score(y_cv, RF_wt_bal_clf.predict_proba(X_cv)[:, 1])\n",
    "cv_roc_auc_dict[\"Random_Forest_balanced_wt\"] = auc_sc\n",
    "print(f\"Random_Forest_balanced_wt roc_auc_score on cross-validation data {auc_sc:.4f}\\n\")"
   ]
  },
  {
   "cell_type": "code",
   "execution_count": 30,
   "metadata": {},
   "outputs": [
    {
     "name": "stdout",
     "output_type": "stream",
     "text": [
      "Classification report on cross-validation data:\n",
      "Neural_network f1-score of macro average: 0.7876\n",
      "\n"
     ]
    }
   ],
   "source": [
    "cl_rep = classification_report(y_cv, nn_clf.predict(X_cv), output_dict=True)\n",
    "f1_sc = cl_rep['macro avg']['f1-score']\n",
    "cv_macro_average_f1['neural_network'] = f1_sc\n",
    "print('Classification report on cross-validation data:')\n",
    "print(f\"Neural_network f1-score of macro average: {f1_sc:.4f}\\n\")"
   ]
  },
  {
   "cell_type": "code",
   "execution_count": 31,
   "metadata": {},
   "outputs": [
    {
     "name": "stdout",
     "output_type": "stream",
     "text": [
      "Neural_network roc_auc_score on cross-validation data 0.9387\n",
      "\n"
     ]
    }
   ],
   "source": [
    "auc_sc = roc_auc_score(y_cv, nn_clf.predict_proba(X_cv)[:, 1])\n",
    "cv_roc_auc_dict['neural_network'] = auc_sc\n",
    "print(f\"Neural_network roc_auc_score on cross-validation data {auc_sc:.4f}\\n\")"
   ]
  },
  {
   "cell_type": "code",
   "execution_count": 32,
   "metadata": {},
   "outputs": [
    {
     "name": "stdout",
     "output_type": "stream",
     "text": [
      "Classification report on cross-validation data:\n",
      "Lightgbm f1-score of macro average: 0.7843\n",
      "\n"
     ]
    }
   ],
   "source": [
    "cl_rep = classification_report(y_cv, lgbm_clf.predict(X_cv), output_dict=True)\n",
    "f1_sc = cl_rep['macro avg']['f1-score']\n",
    "cv_macro_average_f1['Lightgbm'] = f1_sc\n",
    "print('Classification report on cross-validation data:')\n",
    "print(f\"Lightgbm f1-score of macro average: {f1_sc:.4f}\\n\")"
   ]
  },
  {
   "cell_type": "code",
   "execution_count": 33,
   "metadata": {},
   "outputs": [
    {
     "name": "stdout",
     "output_type": "stream",
     "text": [
      "Lightgbm roc_auc_score on cross-validation data 0.9456\n",
      "\n"
     ]
    }
   ],
   "source": [
    "auc_sc = roc_auc_score(y_cv, lgbm_clf.predict_proba(X_cv)[:, 1])\n",
    "cv_roc_auc_dict['lightgbm'] = auc_sc\n",
    "print(f\"Lightgbm roc_auc_score on cross-validation data {auc_sc:.4f}\\n\")"
   ]
  },
  {
   "cell_type": "code",
   "execution_count": 34,
   "metadata": {},
   "outputs": [
    {
     "name": "stdout",
     "output_type": "stream",
     "text": [
      "Classification report on cross-validation data:\n",
      "Lightgbm balanced weight f1-score of macro average: 0.7713\n",
      "\n",
      "Lightgbm balanced weight roc_auc_score on cross-validation data 0.9313\n",
      "\n"
     ]
    }
   ],
   "source": [
    "cl_rep = classification_report(y_cv, lgbm_wt_clf.predict(X_cv), output_dict=True)\n",
    "f1_sc = cl_rep['macro avg']['f1-score']\n",
    "cv_macro_average_f1['Lightgbm_balanced_wt'] = f1_sc\n",
    "print('Classification report on cross-validation data:')\n",
    "print(f\"Lightgbm balanced weight f1-score of macro average: {f1_sc:.4f}\\n\")\n",
    "\n",
    "auc_sc = roc_auc_score(y_cv, lgbm_wt_clf.predict_proba(X_cv)[:, 1])\n",
    "cv_roc_auc_dict['lightgbm_balanced_wt'] = auc_sc\n",
    "print(f\"Lightgbm balanced weight roc_auc_score on cross-validation data {auc_sc:.4f}\\n\")"
   ]
  },
  {
   "cell_type": "code",
   "execution_count": 35,
   "metadata": {},
   "outputs": [
    {
     "data": {
      "text/plain": [
       "{'logistic_regression_balanced_wt': 0.7306749387696833,\n",
       " 'SVC': 0.7411168852911023,\n",
       " 'SVC_balanced_wt': 0.7363202536304071,\n",
       " 'Random_Forest': 0.7620394293520446,\n",
       " 'Random_Forest_balanced_wt': 0.7950762483165457,\n",
       " 'neural_network': 0.7875905610910476,\n",
       " 'Lightgbm': 0.7842637798061275,\n",
       " 'Lightgbm_balanced_wt': 0.7712625583677479}"
      ]
     },
     "execution_count": 35,
     "metadata": {},
     "output_type": "execute_result"
    }
   ],
   "source": [
    "cv_macro_average_f1"
   ]
  },
  {
   "cell_type": "code",
   "execution_count": 36,
   "metadata": {},
   "outputs": [
    {
     "data": {
      "text/plain": [
       "{'logistic_regression_balanced_wt': 0.9214918691111363,\n",
       " 'SVC': 0.9194505315180903,\n",
       " 'SVC_balanced_wt': 0.9337193698003664,\n",
       " 'Random_Forest': 0.9433959586786241,\n",
       " 'Random_Forest_balanced_wt': 0.9406685583331981,\n",
       " 'neural_network': 0.9386843609620031,\n",
       " 'lightgbm': 0.9455533504694874,\n",
       " 'lightgbm_balanced_wt': 0.9313286026466439}"
      ]
     },
     "execution_count": 36,
     "metadata": {},
     "output_type": "execute_result"
    }
   ],
   "source": [
    "cv_roc_auc_dict"
   ]
  },
  {
   "cell_type": "code",
   "execution_count": 37,
   "metadata": {},
   "outputs": [],
   "source": [
    "test_roc_auc_dict = {}\n",
    "test_macro_average_f1 = {}"
   ]
  },
  {
   "cell_type": "code",
   "execution_count": 38,
   "metadata": {},
   "outputs": [
    {
     "name": "stdout",
     "output_type": "stream",
     "text": [
      "Classification report on test data:\n",
      "Logistic_regression_balanced_wt macro average F1-score: 0.7228\n",
      "\n",
      "Logistic_regression_balanced_wt roc_auc_score on Test data 0.9197\n",
      "\n"
     ]
    }
   ],
   "source": [
    "cl_rep = classification_report(y_test, LR_clf.predict(X_test), output_dict=True)\n",
    "f1_sc = cl_rep['macro avg']['f1-score']\n",
    "test_macro_average_f1['logistic_regression_balanced_wt'] = f1_sc\n",
    "print('Classification report on test data:')\n",
    "print(f\"Logistic_regression_balanced_wt macro average F1-score: {f1_sc:.4f}\\n\")\n",
    "\n",
    "auc_sc = roc_auc_score(y_test, LR_clf.predict_proba(X_test)[:, 1])\n",
    "test_roc_auc_dict['logistic_regression_balanced_wt'] = auc_sc\n",
    "print(f\"Logistic_regression_balanced_wt roc_auc_score on Test data {auc_sc:.4f}\\n\")"
   ]
  },
  {
   "cell_type": "code",
   "execution_count": 39,
   "metadata": {},
   "outputs": [
    {
     "name": "stdout",
     "output_type": "stream",
     "text": [
      "Classification report on test data:\n",
      "SVC f1-score of macro average: 0.7323\n",
      "\n",
      "SVC roc_auc_score on Test data 0.9167\n",
      "\n"
     ]
    }
   ],
   "source": [
    "cl_rep = classification_report(y_test, SVC_clf.predict(X_test), output_dict=True)\n",
    "f1_sc = cl_rep['macro avg']['f1-score']\n",
    "test_macro_average_f1['SVC'] = f1_sc\n",
    "print('Classification report on test data:')\n",
    "print(f\"SVC f1-score of macro average: {f1_sc:.4f}\\n\")\n",
    "\n",
    "auc_sc = roc_auc_score(y_test, SVC_clf.predict_proba(X_test)[:, 1])\n",
    "test_roc_auc_dict['SVC'] = auc_sc\n",
    "print(f\"SVC roc_auc_score on Test data {auc_sc:.4f}\\n\")"
   ]
  },
  {
   "cell_type": "code",
   "execution_count": 40,
   "metadata": {},
   "outputs": [
    {
     "name": "stdout",
     "output_type": "stream",
     "text": [
      "Classification report on test data:\n",
      "SVC_balanced_wt f1-score of macro average: 0.7395\n",
      "\n",
      "SVC_balanced_wt roc_auc_score on Test data 0.9312\n",
      "\n"
     ]
    }
   ],
   "source": [
    "cl_rep = classification_report(y_test, SVC_wt_bal_clf.predict(X_test), output_dict=True)\n",
    "f1_sc = cl_rep['macro avg']['f1-score']\n",
    "test_macro_average_f1['SVC_balanced_wt'] = f1_sc\n",
    "print('Classification report on test data:')\n",
    "print(f\"SVC_balanced_wt f1-score of macro average: {f1_sc:.4f}\\n\")\n",
    "\n",
    "auc_sc = roc_auc_score(y_test, SVC_wt_bal_clf.predict_proba(X_test)[:, 1])\n",
    "test_roc_auc_dict['SVC_balanced_wt'] = auc_sc\n",
    "print(f\"SVC_balanced_wt roc_auc_score on Test data {auc_sc:.4f}\\n\")"
   ]
  },
  {
   "cell_type": "code",
   "execution_count": 41,
   "metadata": {},
   "outputs": [
    {
     "name": "stdout",
     "output_type": "stream",
     "text": [
      "Classification report on test data:\n",
      "Random_Forest f1-score of macro average: 0.7498\n",
      "\n",
      "Random_Forest roc_auc_score on Test data 0.9395\n",
      "\n"
     ]
    }
   ],
   "source": [
    "cl_rep = classification_report(y_test, RF_clf.predict(X_test), output_dict=True)\n",
    "f1_sc = cl_rep['macro avg']['f1-score']\n",
    "test_macro_average_f1['Random_Forest'] = f1_sc\n",
    "print('Classification report on test data:')\n",
    "print(f\"Random_Forest f1-score of macro average: {f1_sc:.4f}\\n\")\n",
    "\n",
    "auc_sc = roc_auc_score(y_test, RF_clf.predict_proba(X_test)[:, 1])\n",
    "test_roc_auc_dict['Random_Forest'] = auc_sc\n",
    "print(f\"Random_Forest roc_auc_score on Test data {auc_sc:.4f}\\n\")"
   ]
  },
  {
   "cell_type": "code",
   "execution_count": 42,
   "metadata": {},
   "outputs": [
    {
     "name": "stdout",
     "output_type": "stream",
     "text": [
      "Classification report on test data:\n",
      "Random_Forest_balanced_wt f1-score of macro average: 0.7917\n",
      "\n",
      "Random_Forest_balanced_wt roc_auc_score on Test data 0.9398\n",
      "\n"
     ]
    }
   ],
   "source": [
    "cl_rep = classification_report(y_test, RF_wt_bal_clf.predict(X_test), output_dict=True)\n",
    "f1_sc = cl_rep['macro avg']['f1-score']\n",
    "test_macro_average_f1['Random_Forest_balanced_wt'] = f1_sc\n",
    "print('Classification report on test data:')\n",
    "print(f\"Random_Forest_balanced_wt f1-score of macro average: {f1_sc:.4f}\\n\")\n",
    "\n",
    "auc_sc = roc_auc_score(y_test, RF_wt_bal_clf.predict_proba(X_test)[:, 1])\n",
    "test_roc_auc_dict['Random_Forest_balanced_wt'] = auc_sc\n",
    "print(f\"Random_Forest_balanced_wt roc_auc_score on Test data {auc_sc:.4f}\\n\")"
   ]
  },
  {
   "cell_type": "code",
   "execution_count": 43,
   "metadata": {},
   "outputs": [
    {
     "name": "stdout",
     "output_type": "stream",
     "text": [
      "Classification report on test data:\n",
      "neural_network f1-score of macro average: 0.7768\n",
      "\n",
      "neural_network roc_auc_score on Test data 0.9335\n",
      "\n"
     ]
    }
   ],
   "source": [
    "cl_rep = classification_report(y_test, nn_clf.predict(X_test), output_dict=True)\n",
    "f1_sc = cl_rep['macro avg']['f1-score']\n",
    "test_macro_average_f1['neural_network'] = f1_sc\n",
    "print('Classification report on test data:')\n",
    "print(f\"neural_network f1-score of macro average: {f1_sc:.4f}\\n\")\n",
    "\n",
    "auc_sc = roc_auc_score(y_test, nn_clf.predict_proba(X_test)[:, 1])\n",
    "test_roc_auc_dict['neural_network'] = auc_sc\n",
    "print(f\"neural_network roc_auc_score on Test data {auc_sc:.4f}\\n\")"
   ]
  },
  {
   "cell_type": "code",
   "execution_count": 44,
   "metadata": {},
   "outputs": [
    {
     "name": "stdout",
     "output_type": "stream",
     "text": [
      "Classification report on test data:\n",
      "Lightgbm f1-score of macro average: 0.7720\n",
      "\n",
      "lightgbm roc_auc_score on Test data 0.9410\n",
      "\n"
     ]
    }
   ],
   "source": [
    "cl_rep = classification_report(y_test, lgbm_clf.predict(X_test), output_dict=True)\n",
    "f1_sc = cl_rep['macro avg']['f1-score']\n",
    "test_macro_average_f1['lightgbm'] = f1_sc\n",
    "print('Classification report on test data:')\n",
    "print(f\"Lightgbm f1-score of macro average: {f1_sc:.4f}\\n\")\n",
    "\n",
    "auc_sc = roc_auc_score(y_test, lgbm_clf.predict_proba(X_test)[:, 1])\n",
    "test_roc_auc_dict['lightgbm'] = auc_sc\n",
    "print(f\"lightgbm roc_auc_score on Test data {auc_sc:.4f}\\n\")"
   ]
  },
  {
   "cell_type": "code",
   "execution_count": 45,
   "metadata": {},
   "outputs": [
    {
     "name": "stdout",
     "output_type": "stream",
     "text": [
      "Classification report on Test data:\n",
      "Lightgbm balanced weight f1-score of macro average: 0.7635\n",
      "\n",
      "Lightgbm balanced weight roc_auc_score on Test data 0.9265\n",
      "\n"
     ]
    }
   ],
   "source": [
    "cl_rep = classification_report(y_test, lgbm_wt_clf.predict(X_test), output_dict=True)\n",
    "f1_sc = cl_rep['macro avg']['f1-score']\n",
    "test_macro_average_f1['Lightgbm_balanced_wt'] = f1_sc\n",
    "print('Classification report on Test data:')\n",
    "print(f\"Lightgbm balanced weight f1-score of macro average: {f1_sc:.4f}\\n\")\n",
    "\n",
    "auc_sc = roc_auc_score(y_test, lgbm_wt_clf.predict_proba(X_test)[:, 1])\n",
    "test_roc_auc_dict['lightgbm_balanced_wt'] = auc_sc\n",
    "print(f\"Lightgbm balanced weight roc_auc_score on Test data {auc_sc:.4f}\\n\")"
   ]
  },
  {
   "cell_type": "code",
   "execution_count": 46,
   "metadata": {},
   "outputs": [
    {
     "data": {
      "text/plain": [
       "{'logistic_regression_balanced_wt': 0.7228246929181228,\n",
       " 'SVC': 0.7322999500263686,\n",
       " 'SVC_balanced_wt': 0.7395463174669865,\n",
       " 'Random_Forest': 0.74979320395998,\n",
       " 'Random_Forest_balanced_wt': 0.7916544860726391,\n",
       " 'neural_network': 0.7767775891179305,\n",
       " 'lightgbm': 0.7719583445564586,\n",
       " 'Lightgbm_balanced_wt': 0.7634752403822398}"
      ]
     },
     "execution_count": 46,
     "metadata": {},
     "output_type": "execute_result"
    }
   ],
   "source": [
    "test_macro_average_f1"
   ]
  },
  {
   "cell_type": "code",
   "execution_count": 47,
   "metadata": {},
   "outputs": [
    {
     "data": {
      "text/plain": [
       "{'logistic_regression_balanced_wt': 0.9196874167005539,\n",
       " 'SVC': 0.916693744053514,\n",
       " 'SVC_balanced_wt': 0.9311771464260767,\n",
       " 'Random_Forest': 0.9395027132514462,\n",
       " 'Random_Forest_balanced_wt': 0.9398441801777963,\n",
       " 'neural_network': 0.9334715901462958,\n",
       " 'lightgbm': 0.94104709714199,\n",
       " 'lightgbm_balanced_wt': 0.9265471564852448}"
      ]
     },
     "execution_count": 47,
     "metadata": {},
     "output_type": "execute_result"
    }
   ],
   "source": [
    "test_roc_auc_dict"
   ]
  },
  {
   "cell_type": "code",
   "execution_count": 48,
   "metadata": {},
   "outputs": [
    {
     "data": {
      "image/png": "[encoded data removed]",
      "text/plain": [
       "<Figure size 648x360 with 1 Axes>"
      ]
     },
     "metadata": {
      "needs_background": "light"
     },
     "output_type": "display_data"
    }
   ],
   "source": [
    "fig, ax = plt.subplots(figsize = (9, 5))\n",
    "plt.bar(cv_macro_average_f1.keys(), cv_macro_average_f1.values())\n",
    "plt.xticks(list(cv_macro_average_f1.keys()), rotation=45, ha='right')\n",
    "plt.xlabel(\"Classification Method\", fontsize=14, verticalalignment='top')\n",
    "plt.ylim((0.6, 0.9))\n",
    "plt.title(\"Macro Average F1 Scores on cross-validation Data\", fontsize=16)\n",
    "plt.tight_layout()\n",
    "plt.savefig(\"bank_deposit_Macro_Avg_F1_scores_unbalance_trainig_data_cross_valid.png\", dpi=300)"
   ]
  },
  {
   "cell_type": "code",
   "execution_count": 49,
   "metadata": {},
   "outputs": [
    {
     "data": {
      "image/png": "[encoded data removed]",
      "text/plain": [
       "<Figure size 648x360 with 1 Axes>"
      ]
     },
     "metadata": {
      "needs_background": "light"
     },
     "output_type": "display_data"
    }
   ],
   "source": [
    "fig, ax = plt.subplots(figsize = (9, 5))\n",
    "plt.bar(test_macro_average_f1.keys(), test_macro_average_f1.values())\n",
    "plt.xticks(list(test_macro_average_f1.keys()), rotation=45, ha='right')\n",
    "plt.xlabel(\"Classification Method\", fontsize=14, verticalalignment='top')\n",
    "plt.ylim((0.6, 0.9))\n",
    "plt.title(\"Macro Average F1 Scores on Test Data\", fontsize=16)\n",
    "plt.tight_layout()\n",
    "plt.savefig(\"bank_deposit_Macro_Avg_F1_scores_unbalance_trainig_data_test.png\", dpi=300)"
   ]
  },
  {
   "cell_type": "code",
   "execution_count": 50,
   "metadata": {},
   "outputs": [
    {
     "data": {
      "text/plain": [
       "{'logistic_regression_balanced_wt': 0.9214918691111363,\n",
       " 'SVC': 0.9194505315180903,\n",
       " 'SVC_balanced_wt': 0.9337193698003664,\n",
       " 'Random_Forest': 0.9433959586786241,\n",
       " 'Random_Forest_balanced_wt': 0.9406685583331981,\n",
       " 'neural_network': 0.9386843609620031,\n",
       " 'lightgbm': 0.9455533504694874,\n",
       " 'lightgbm_balanced_wt': 0.9313286026466439}"
      ]
     },
     "execution_count": 50,
     "metadata": {},
     "output_type": "execute_result"
    }
   ],
   "source": [
    "cv_roc_auc_dict"
   ]
  },
  {
   "cell_type": "code",
   "execution_count": 51,
   "metadata": {},
   "outputs": [
    {
     "data": {
      "image/png": "[encoded data removed]",
      "text/plain": [
       "<Figure size 648x360 with 1 Axes>"
      ]
     },
     "metadata": {
      "needs_background": "light"
     },
     "output_type": "display_data"
    }
   ],
   "source": [
    "fig, ax = plt.subplots(figsize = (9, 5))\n",
    "plt.bar(cv_roc_auc_dict.keys(), cv_roc_auc_dict.values())\n",
    "plt.ylim((0.6, 1.0))\n",
    "plt.xticks(list(cv_roc_auc_dict.keys()), rotation=45, ha='right')\n",
    "plt.xlabel(\"Classification Method\", fontsize=14, verticalalignment='top')\n",
    "plt.title(\"ROC_AUC scores on cross-validation Data\", fontsize=16)\n",
    "plt.tight_layout()\n",
    "plt.savefig(\"bank_deposit_roc_auc__scores_unbalance_trainig_data_cross_valid.png\", dpi=300)"
   ]
  },
  {
   "cell_type": "code",
   "execution_count": 52,
   "metadata": {},
   "outputs": [
    {
     "data": {
      "image/png": "[encoded data removed]",
      "text/plain": [
       "<Figure size 648x360 with 1 Axes>"
      ]
     },
     "metadata": {
      "needs_background": "light"
     },
     "output_type": "display_data"
    }
   ],
   "source": [
    "fig, ax = plt.subplots(figsize = (9, 5))\n",
    "plt.bar(test_roc_auc_dict.keys(), test_roc_auc_dict.values())\n",
    "plt.ylim((0.6, 1.0))\n",
    "plt.xticks(list(test_roc_auc_dict.keys()), rotation=45, ha='right')\n",
    "plt.xlabel(\"Classification Method\", fontsize=14, verticalalignment='top')\n",
    "plt.title(\"ROC_AUC scores on Test Data\", fontsize=16)\n",
    "plt.tight_layout()\n",
    "plt.savefig(\"bank_deposit_roc_auc__scores_unbalance_trainig_data.png\", dpi=300)"
   ]
  },
  {
   "cell_type": "markdown",
   "metadata": {},
   "source": [
    "#### Random forest with balanced class weights have the best Macro Average F1 score on cv and test data. Neural network, lightgbm and random forest models have very close scores also. "
   ]
  },
  {
   "cell_type": "markdown",
   "metadata": {},
   "source": [
    "#### Lightgbm have the best roc_auc_score on cv and test data. Neural network, random forest and Random forest with balanced class weightst models have very close roc_auc_scores. "
   ]
  },
  {
   "cell_type": "markdown",
   "metadata": {},
   "source": [
    "### Used balanced data through under-sampling y=0 (no deposit subscription).  \n",
    "* That has less data, Test data is different from above test or cross-validation data.  The comparison is relative"
   ]
  },
  {
   "cell_type": "code",
   "execution_count": 55,
   "metadata": {},
   "outputs": [],
   "source": [
    "test_macro_average_f1['random_forest_bal_data'] = 0.78890\n",
    "test_roc_auc_dict['random_forest_bal_data'] = 0.9378"
   ]
  },
  {
   "cell_type": "code",
   "execution_count": 56,
   "metadata": {},
   "outputs": [],
   "source": [
    "test_macro_average_f1['logistic_regression_bal_data'] = 0.72999\n",
    "test_roc_auc_dict['logistic_regression_bal_data'] = 0.92865"
   ]
  },
  {
   "cell_type": "code",
   "execution_count": 57,
   "metadata": {},
   "outputs": [],
   "source": [
    "test_macro_average_f1['neural_network_bal_data'] = 0.78209\n",
    "test_roc_auc_dict['neural_network_bal_data'] = 0.93920"
   ]
  },
  {
   "cell_type": "code",
   "execution_count": 58,
   "metadata": {},
   "outputs": [],
   "source": [
    "test_macro_average_f1['SVM_C3_bal_data'] = 0.74330\n",
    "test_roc_auc_dict['SVM_C3_bal_data'] = 0.91375"
   ]
  },
  {
   "cell_type": "code",
   "execution_count": 59,
   "metadata": {},
   "outputs": [
    {
     "data": {
      "image/png": "[encoded data removed]",
      "text/plain": [
       "<Figure size 648x360 with 1 Axes>"
      ]
     },
     "metadata": {
      "needs_background": "light"
     },
     "output_type": "display_data"
    }
   ],
   "source": [
    "fig, ax = plt.subplots(figsize = (9, 5))\n",
    "plt.bar(test_macro_average_f1.keys(), test_macro_average_f1.values())\n",
    "plt.xticks(list(test_macro_average_f1.keys()), rotation=45, ha='right')\n",
    "plt.xlabel(\"Classification Method\", fontsize=14, verticalalignment='top')\n",
    "plt.ylim((0.6, 0.9))\n",
    "plt.title(\"Macro Average F1 Scores on Test Data\", fontsize=16)\n",
    "plt.tight_layout()\n",
    "plt.savefig(\"bank_deposit_Macro_Avg_F1_scores_unbalance_trainig_data_test.png\", dpi=300)"
   ]
  },
  {
   "cell_type": "code",
   "execution_count": 60,
   "metadata": {},
   "outputs": [
    {
     "data": {
      "text/plain": [
       "{'logistic_regression_balanced_wt': 0.7228246929181228,\n",
       " 'SVC': 0.7322999500263686,\n",
       " 'SVC_balanced_wt': 0.7395463174669865,\n",
       " 'Random_Forest': 0.74979320395998,\n",
       " 'Random_Forest_balanced_wt': 0.7916544860726391,\n",
       " 'neural_network': 0.7767775891179305,\n",
       " 'lightgbm': 0.7719583445564586,\n",
       " 'Lightgbm_balanced_wt': 0.7634752403822398,\n",
       " 'random_forest_bal_data': 0.7889,\n",
       " 'logistic_regression_bal_data': 0.72999,\n",
       " 'neural_network_bal_data': 0.78209,\n",
       " 'SVM_C3_bal_data': 0.7433}"
      ]
     },
     "execution_count": 60,
     "metadata": {},
     "output_type": "execute_result"
    }
   ],
   "source": [
    "test_macro_average_f1"
   ]
  },
  {
   "cell_type": "code",
   "execution_count": 61,
   "metadata": {},
   "outputs": [
    {
     "data": {
      "image/png": "[encoded data removed]",
      "text/plain": [
       "<Figure size 648x360 with 1 Axes>"
      ]
     },
     "metadata": {
      "needs_background": "light"
     },
     "output_type": "display_data"
    }
   ],
   "source": [
    "fig, ax = plt.subplots(figsize = (9, 5))\n",
    "plt.bar(test_roc_auc_dict.keys(), test_roc_auc_dict.values())\n",
    "plt.ylim((0.6, 1.0))\n",
    "plt.xticks(list(test_roc_auc_dict.keys()), rotation=45, ha='right')\n",
    "plt.xlabel(\"Classification Method\", fontsize=14, verticalalignment='top')\n",
    "plt.title(\"ROC_AUC scores on Test Data\", fontsize=16)\n",
    "plt.tight_layout()\n",
    "plt.savefig(\"bank_deposit_roc_auc__scores_unbalance_trainig_data.png\", dpi=300)"
   ]
  },
  {
   "cell_type": "code",
   "execution_count": 62,
   "metadata": {},
   "outputs": [
    {
     "data": {
      "text/plain": [
       "{'logistic_regression_balanced_wt': 0.9196874167005539,\n",
       " 'SVC': 0.916693744053514,\n",
       " 'SVC_balanced_wt': 0.9311771464260767,\n",
       " 'Random_Forest': 0.9395027132514462,\n",
       " 'Random_Forest_balanced_wt': 0.9398441801777963,\n",
       " 'neural_network': 0.9334715901462958,\n",
       " 'lightgbm': 0.94104709714199,\n",
       " 'lightgbm_balanced_wt': 0.9265471564852448,\n",
       " 'logistic_regression_bal_data': 0.92865,\n",
       " 'random_forest_bal_data': 0.9378,\n",
       " 'neural_network_bal_data': 0.9392,\n",
       " 'SVM_C3_bal_data': 0.91375}"
      ]
     },
     "execution_count": 62,
     "metadata": {},
     "output_type": "execute_result"
    }
   ],
   "source": [
    "test_roc_auc_dict"
   ]
  },
  {
   "cell_type": "code",
   "execution_count": null,
   "metadata": {},
   "outputs": [],
   "source": []
  }
 ],
 "metadata": {
  "kernelspec": {
   "display_name": "torch18",
   "language": "python",
   "name": "torch18"
  },
  "language_info": {
   "codemirror_mode": {
    "name": "ipython",
    "version": 3
   },
   "file_extension": ".py",
   "mimetype": "text/x-python",
   "name": "python",
   "nbconvert_exporter": "python",
   "pygments_lexer": "ipython3",
   "version": "3.8.2"
  }
 },
 "nbformat": 4,
 "nbformat_minor": 2
}
