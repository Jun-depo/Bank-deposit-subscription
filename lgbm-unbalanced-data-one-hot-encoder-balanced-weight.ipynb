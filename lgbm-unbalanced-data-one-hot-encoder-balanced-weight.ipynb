{
 "cells": [
  {
   "cell_type": "markdown",
   "metadata": {},
   "source": [
    "data: https://archive.ics.uci.edu/ml/datasets/Bank+Marketing"
   ]
  },
  {
   "cell_type": "code",
   "execution_count": 1,
   "metadata": {},
   "outputs": [],
   "source": [
    "import pandas as pd\n",
    "import numpy as np\n",
    "import matplotlib.pyplot as plt\n",
    "\n",
    "import warnings\n",
    "warnings.filterwarnings(\"ignore\")"
   ]
  },
  {
   "cell_type": "code",
   "execution_count": 2,
   "metadata": {},
   "outputs": [
    {
     "data": {
      "text/html": [
       "<div>\n",
       "<style scoped>\n",
       "    .dataframe tbody tr th:only-of-type {\n",
       "        vertical-align: middle;\n",
       "    }\n",
       "\n",
       "    .dataframe tbody tr th {\n",
       "        vertical-align: top;\n",
       "    }\n",
       "\n",
       "    .dataframe thead th {\n",
       "        text-align: right;\n",
       "    }\n",
       "</style>\n",
       "<table border=\"1\" class=\"dataframe\">\n",
       "  <thead>\n",
       "    <tr style=\"text-align: right;\">\n",
       "      <th></th>\n",
       "      <th>age</th>\n",
       "      <th>job</th>\n",
       "      <th>marital</th>\n",
       "      <th>education</th>\n",
       "      <th>default</th>\n",
       "      <th>housing</th>\n",
       "      <th>loan</th>\n",
       "      <th>contact</th>\n",
       "      <th>month</th>\n",
       "      <th>day_of_week</th>\n",
       "      <th>...</th>\n",
       "      <th>campaign</th>\n",
       "      <th>pdays</th>\n",
       "      <th>previous</th>\n",
       "      <th>poutcome</th>\n",
       "      <th>emp.var.rate</th>\n",
       "      <th>cons.price.idx</th>\n",
       "      <th>cons.conf.idx</th>\n",
       "      <th>euribor3m</th>\n",
       "      <th>nr.employed</th>\n",
       "      <th>y</th>\n",
       "    </tr>\n",
       "  </thead>\n",
       "  <tbody>\n",
       "    <tr>\n",
       "      <th>0</th>\n",
       "      <td>56</td>\n",
       "      <td>housemaid</td>\n",
       "      <td>married</td>\n",
       "      <td>basic.4y</td>\n",
       "      <td>no</td>\n",
       "      <td>no</td>\n",
       "      <td>no</td>\n",
       "      <td>telephone</td>\n",
       "      <td>may</td>\n",
       "      <td>mon</td>\n",
       "      <td>...</td>\n",
       "      <td>1</td>\n",
       "      <td>999</td>\n",
       "      <td>0</td>\n",
       "      <td>nonexistent</td>\n",
       "      <td>1.1</td>\n",
       "      <td>93.994</td>\n",
       "      <td>-36.4</td>\n",
       "      <td>4.857</td>\n",
       "      <td>5191.0</td>\n",
       "      <td>no</td>\n",
       "    </tr>\n",
       "    <tr>\n",
       "      <th>1</th>\n",
       "      <td>57</td>\n",
       "      <td>services</td>\n",
       "      <td>married</td>\n",
       "      <td>high.school</td>\n",
       "      <td>unknown</td>\n",
       "      <td>no</td>\n",
       "      <td>no</td>\n",
       "      <td>telephone</td>\n",
       "      <td>may</td>\n",
       "      <td>mon</td>\n",
       "      <td>...</td>\n",
       "      <td>1</td>\n",
       "      <td>999</td>\n",
       "      <td>0</td>\n",
       "      <td>nonexistent</td>\n",
       "      <td>1.1</td>\n",
       "      <td>93.994</td>\n",
       "      <td>-36.4</td>\n",
       "      <td>4.857</td>\n",
       "      <td>5191.0</td>\n",
       "      <td>no</td>\n",
       "    </tr>\n",
       "    <tr>\n",
       "      <th>2</th>\n",
       "      <td>37</td>\n",
       "      <td>services</td>\n",
       "      <td>married</td>\n",
       "      <td>high.school</td>\n",
       "      <td>no</td>\n",
       "      <td>yes</td>\n",
       "      <td>no</td>\n",
       "      <td>telephone</td>\n",
       "      <td>may</td>\n",
       "      <td>mon</td>\n",
       "      <td>...</td>\n",
       "      <td>1</td>\n",
       "      <td>999</td>\n",
       "      <td>0</td>\n",
       "      <td>nonexistent</td>\n",
       "      <td>1.1</td>\n",
       "      <td>93.994</td>\n",
       "      <td>-36.4</td>\n",
       "      <td>4.857</td>\n",
       "      <td>5191.0</td>\n",
       "      <td>no</td>\n",
       "    </tr>\n",
       "    <tr>\n",
       "      <th>3</th>\n",
       "      <td>40</td>\n",
       "      <td>admin.</td>\n",
       "      <td>married</td>\n",
       "      <td>basic.6y</td>\n",
       "      <td>no</td>\n",
       "      <td>no</td>\n",
       "      <td>no</td>\n",
       "      <td>telephone</td>\n",
       "      <td>may</td>\n",
       "      <td>mon</td>\n",
       "      <td>...</td>\n",
       "      <td>1</td>\n",
       "      <td>999</td>\n",
       "      <td>0</td>\n",
       "      <td>nonexistent</td>\n",
       "      <td>1.1</td>\n",
       "      <td>93.994</td>\n",
       "      <td>-36.4</td>\n",
       "      <td>4.857</td>\n",
       "      <td>5191.0</td>\n",
       "      <td>no</td>\n",
       "    </tr>\n",
       "    <tr>\n",
       "      <th>4</th>\n",
       "      <td>56</td>\n",
       "      <td>services</td>\n",
       "      <td>married</td>\n",
       "      <td>high.school</td>\n",
       "      <td>no</td>\n",
       "      <td>no</td>\n",
       "      <td>yes</td>\n",
       "      <td>telephone</td>\n",
       "      <td>may</td>\n",
       "      <td>mon</td>\n",
       "      <td>...</td>\n",
       "      <td>1</td>\n",
       "      <td>999</td>\n",
       "      <td>0</td>\n",
       "      <td>nonexistent</td>\n",
       "      <td>1.1</td>\n",
       "      <td>93.994</td>\n",
       "      <td>-36.4</td>\n",
       "      <td>4.857</td>\n",
       "      <td>5191.0</td>\n",
       "      <td>no</td>\n",
       "    </tr>\n",
       "  </tbody>\n",
       "</table>\n",
       "<p>5 rows × 21 columns</p>\n",
       "</div>"
      ],
      "text/plain": [
       "   age        job  marital    education  default housing loan    contact  \\\n",
       "0   56  housemaid  married     basic.4y       no      no   no  telephone   \n",
       "1   57   services  married  high.school  unknown      no   no  telephone   \n",
       "2   37   services  married  high.school       no     yes   no  telephone   \n",
       "3   40     admin.  married     basic.6y       no      no   no  telephone   \n",
       "4   56   services  married  high.school       no      no  yes  telephone   \n",
       "\n",
       "  month day_of_week  ...  campaign  pdays  previous     poutcome emp.var.rate  \\\n",
       "0   may         mon  ...         1    999         0  nonexistent          1.1   \n",
       "1   may         mon  ...         1    999         0  nonexistent          1.1   \n",
       "2   may         mon  ...         1    999         0  nonexistent          1.1   \n",
       "3   may         mon  ...         1    999         0  nonexistent          1.1   \n",
       "4   may         mon  ...         1    999         0  nonexistent          1.1   \n",
       "\n",
       "   cons.price.idx  cons.conf.idx  euribor3m  nr.employed   y  \n",
       "0          93.994          -36.4      4.857       5191.0  no  \n",
       "1          93.994          -36.4      4.857       5191.0  no  \n",
       "2          93.994          -36.4      4.857       5191.0  no  \n",
       "3          93.994          -36.4      4.857       5191.0  no  \n",
       "4          93.994          -36.4      4.857       5191.0  no  \n",
       "\n",
       "[5 rows x 21 columns]"
      ]
     },
     "execution_count": 2,
     "metadata": {},
     "output_type": "execute_result"
    }
   ],
   "source": [
    "df_ori = pd.read_csv(\"bank-additional/bank-additional-full.csv\",  sep=';')\n",
    "df_ori.head()"
   ]
  },
  {
   "cell_type": "code",
   "execution_count": 3,
   "metadata": {},
   "outputs": [
    {
     "data": {
      "text/html": [
       "<div>\n",
       "<style scoped>\n",
       "    .dataframe tbody tr th:only-of-type {\n",
       "        vertical-align: middle;\n",
       "    }\n",
       "\n",
       "    .dataframe tbody tr th {\n",
       "        vertical-align: top;\n",
       "    }\n",
       "\n",
       "    .dataframe thead th {\n",
       "        text-align: right;\n",
       "    }\n",
       "</style>\n",
       "<table border=\"1\" class=\"dataframe\">\n",
       "  <thead>\n",
       "    <tr style=\"text-align: right;\">\n",
       "      <th></th>\n",
       "      <th>age</th>\n",
       "      <th>job</th>\n",
       "      <th>marital</th>\n",
       "      <th>education</th>\n",
       "      <th>default</th>\n",
       "      <th>housing</th>\n",
       "      <th>loan</th>\n",
       "      <th>contact</th>\n",
       "      <th>month</th>\n",
       "      <th>day_of_week</th>\n",
       "      <th>...</th>\n",
       "      <th>campaign</th>\n",
       "      <th>pdays</th>\n",
       "      <th>previous</th>\n",
       "      <th>poutcome</th>\n",
       "      <th>emp.var.rate</th>\n",
       "      <th>cons.price.idx</th>\n",
       "      <th>cons.conf.idx</th>\n",
       "      <th>euribor3m</th>\n",
       "      <th>nr.employed</th>\n",
       "      <th>y</th>\n",
       "    </tr>\n",
       "  </thead>\n",
       "  <tbody>\n",
       "    <tr>\n",
       "      <th>0</th>\n",
       "      <td>1.642226</td>\n",
       "      <td>0</td>\n",
       "      <td>0</td>\n",
       "      <td>0</td>\n",
       "      <td>0</td>\n",
       "      <td>0</td>\n",
       "      <td>0</td>\n",
       "      <td>0</td>\n",
       "      <td>5</td>\n",
       "      <td>1</td>\n",
       "      <td>...</td>\n",
       "      <td>-0.559326</td>\n",
       "      <td>0.211884</td>\n",
       "      <td>-0.37161</td>\n",
       "      <td>1</td>\n",
       "      <td>0.727466</td>\n",
       "      <td>0.804082</td>\n",
       "      <td>0.877437</td>\n",
       "      <td>0.786089</td>\n",
       "      <td>0.401641</td>\n",
       "      <td>0</td>\n",
       "    </tr>\n",
       "    <tr>\n",
       "      <th>1</th>\n",
       "      <td>-0.196449</td>\n",
       "      <td>1</td>\n",
       "      <td>0</td>\n",
       "      <td>1</td>\n",
       "      <td>0</td>\n",
       "      <td>1</td>\n",
       "      <td>0</td>\n",
       "      <td>0</td>\n",
       "      <td>5</td>\n",
       "      <td>1</td>\n",
       "      <td>...</td>\n",
       "      <td>-0.559326</td>\n",
       "      <td>0.211884</td>\n",
       "      <td>-0.37161</td>\n",
       "      <td>1</td>\n",
       "      <td>0.727466</td>\n",
       "      <td>0.804082</td>\n",
       "      <td>0.877437</td>\n",
       "      <td>0.786089</td>\n",
       "      <td>0.401641</td>\n",
       "      <td>0</td>\n",
       "    </tr>\n",
       "    <tr>\n",
       "      <th>2</th>\n",
       "      <td>0.093868</td>\n",
       "      <td>2</td>\n",
       "      <td>0</td>\n",
       "      <td>2</td>\n",
       "      <td>0</td>\n",
       "      <td>0</td>\n",
       "      <td>0</td>\n",
       "      <td>0</td>\n",
       "      <td>5</td>\n",
       "      <td>1</td>\n",
       "      <td>...</td>\n",
       "      <td>-0.559326</td>\n",
       "      <td>0.211884</td>\n",
       "      <td>-0.37161</td>\n",
       "      <td>1</td>\n",
       "      <td>0.727466</td>\n",
       "      <td>0.804082</td>\n",
       "      <td>0.877437</td>\n",
       "      <td>0.786089</td>\n",
       "      <td>0.401641</td>\n",
       "      <td>0</td>\n",
       "    </tr>\n",
       "    <tr>\n",
       "      <th>3</th>\n",
       "      <td>1.642226</td>\n",
       "      <td>1</td>\n",
       "      <td>0</td>\n",
       "      <td>1</td>\n",
       "      <td>0</td>\n",
       "      <td>0</td>\n",
       "      <td>1</td>\n",
       "      <td>0</td>\n",
       "      <td>5</td>\n",
       "      <td>1</td>\n",
       "      <td>...</td>\n",
       "      <td>-0.559326</td>\n",
       "      <td>0.211884</td>\n",
       "      <td>-0.37161</td>\n",
       "      <td>1</td>\n",
       "      <td>0.727466</td>\n",
       "      <td>0.804082</td>\n",
       "      <td>0.877437</td>\n",
       "      <td>0.786089</td>\n",
       "      <td>0.401641</td>\n",
       "      <td>0</td>\n",
       "    </tr>\n",
       "    <tr>\n",
       "      <th>4</th>\n",
       "      <td>1.932543</td>\n",
       "      <td>2</td>\n",
       "      <td>0</td>\n",
       "      <td>3</td>\n",
       "      <td>0</td>\n",
       "      <td>0</td>\n",
       "      <td>0</td>\n",
       "      <td>0</td>\n",
       "      <td>5</td>\n",
       "      <td>1</td>\n",
       "      <td>...</td>\n",
       "      <td>-0.559326</td>\n",
       "      <td>0.211884</td>\n",
       "      <td>-0.37161</td>\n",
       "      <td>1</td>\n",
       "      <td>0.727466</td>\n",
       "      <td>0.804082</td>\n",
       "      <td>0.877437</td>\n",
       "      <td>0.786089</td>\n",
       "      <td>0.401641</td>\n",
       "      <td>0</td>\n",
       "    </tr>\n",
       "  </tbody>\n",
       "</table>\n",
       "<p>5 rows × 21 columns</p>\n",
       "</div>"
      ],
      "text/plain": [
       "        age  job  marital  education  default  housing  loan  contact  month  \\\n",
       "0  1.642226    0        0          0        0        0     0        0      5   \n",
       "1 -0.196449    1        0          1        0        1     0        0      5   \n",
       "2  0.093868    2        0          2        0        0     0        0      5   \n",
       "3  1.642226    1        0          1        0        0     1        0      5   \n",
       "4  1.932543    2        0          3        0        0     0        0      5   \n",
       "\n",
       "   day_of_week  ...  campaign     pdays  previous  poutcome  emp.var.rate  \\\n",
       "0            1  ... -0.559326  0.211884  -0.37161         1      0.727466   \n",
       "1            1  ... -0.559326  0.211884  -0.37161         1      0.727466   \n",
       "2            1  ... -0.559326  0.211884  -0.37161         1      0.727466   \n",
       "3            1  ... -0.559326  0.211884  -0.37161         1      0.727466   \n",
       "4            1  ... -0.559326  0.211884  -0.37161         1      0.727466   \n",
       "\n",
       "   cons.price.idx  cons.conf.idx  euribor3m  nr.employed  y  \n",
       "0        0.804082       0.877437   0.786089     0.401641  0  \n",
       "1        0.804082       0.877437   0.786089     0.401641  0  \n",
       "2        0.804082       0.877437   0.786089     0.401641  0  \n",
       "3        0.804082       0.877437   0.786089     0.401641  0  \n",
       "4        0.804082       0.877437   0.786089     0.401641  0  \n",
       "\n",
       "[5 rows x 21 columns]"
      ]
     },
     "execution_count": 3,
     "metadata": {},
     "output_type": "execute_result"
    }
   ],
   "source": [
    "df=pd.read_csv('bank_additional_full_clean_normalized.csv')\n",
    "df.head()"
   ]
  },
  {
   "cell_type": "code",
   "execution_count": 4,
   "metadata": {},
   "outputs": [],
   "source": [
    "X = df.iloc[:, 0:-1]\n",
    "y = df.y"
   ]
  },
  {
   "cell_type": "code",
   "execution_count": 5,
   "metadata": {},
   "outputs": [
    {
     "data": {
      "text/html": [
       "<div>\n",
       "<style scoped>\n",
       "    .dataframe tbody tr th:only-of-type {\n",
       "        vertical-align: middle;\n",
       "    }\n",
       "\n",
       "    .dataframe tbody tr th {\n",
       "        vertical-align: top;\n",
       "    }\n",
       "\n",
       "    .dataframe thead th {\n",
       "        text-align: right;\n",
       "    }\n",
       "</style>\n",
       "<table border=\"1\" class=\"dataframe\">\n",
       "  <thead>\n",
       "    <tr style=\"text-align: right;\">\n",
       "      <th></th>\n",
       "      <th>age</th>\n",
       "      <th>job</th>\n",
       "      <th>marital</th>\n",
       "      <th>education</th>\n",
       "      <th>default</th>\n",
       "      <th>housing</th>\n",
       "      <th>loan</th>\n",
       "      <th>contact</th>\n",
       "      <th>month</th>\n",
       "      <th>day_of_week</th>\n",
       "      <th>duration</th>\n",
       "      <th>campaign</th>\n",
       "      <th>pdays</th>\n",
       "      <th>previous</th>\n",
       "      <th>poutcome</th>\n",
       "      <th>emp.var.rate</th>\n",
       "      <th>cons.price.idx</th>\n",
       "      <th>cons.conf.idx</th>\n",
       "      <th>euribor3m</th>\n",
       "      <th>nr.employed</th>\n",
       "    </tr>\n",
       "  </thead>\n",
       "  <tbody>\n",
       "    <tr>\n",
       "      <th>0</th>\n",
       "      <td>1.642226</td>\n",
       "      <td>0</td>\n",
       "      <td>0</td>\n",
       "      <td>0</td>\n",
       "      <td>0</td>\n",
       "      <td>0</td>\n",
       "      <td>0</td>\n",
       "      <td>0</td>\n",
       "      <td>5</td>\n",
       "      <td>1</td>\n",
       "      <td>0.005792</td>\n",
       "      <td>-0.559326</td>\n",
       "      <td>0.211884</td>\n",
       "      <td>-0.37161</td>\n",
       "      <td>1</td>\n",
       "      <td>0.727466</td>\n",
       "      <td>0.804082</td>\n",
       "      <td>0.877437</td>\n",
       "      <td>0.786089</td>\n",
       "      <td>0.401641</td>\n",
       "    </tr>\n",
       "    <tr>\n",
       "      <th>1</th>\n",
       "      <td>-0.196449</td>\n",
       "      <td>1</td>\n",
       "      <td>0</td>\n",
       "      <td>1</td>\n",
       "      <td>0</td>\n",
       "      <td>1</td>\n",
       "      <td>0</td>\n",
       "      <td>0</td>\n",
       "      <td>5</td>\n",
       "      <td>1</td>\n",
       "      <td>-0.127941</td>\n",
       "      <td>-0.559326</td>\n",
       "      <td>0.211884</td>\n",
       "      <td>-0.37161</td>\n",
       "      <td>1</td>\n",
       "      <td>0.727466</td>\n",
       "      <td>0.804082</td>\n",
       "      <td>0.877437</td>\n",
       "      <td>0.786089</td>\n",
       "      <td>0.401641</td>\n",
       "    </tr>\n",
       "    <tr>\n",
       "      <th>2</th>\n",
       "      <td>0.093868</td>\n",
       "      <td>2</td>\n",
       "      <td>0</td>\n",
       "      <td>2</td>\n",
       "      <td>0</td>\n",
       "      <td>0</td>\n",
       "      <td>0</td>\n",
       "      <td>0</td>\n",
       "      <td>5</td>\n",
       "      <td>1</td>\n",
       "      <td>-0.414513</td>\n",
       "      <td>-0.559326</td>\n",
       "      <td>0.211884</td>\n",
       "      <td>-0.37161</td>\n",
       "      <td>1</td>\n",
       "      <td>0.727466</td>\n",
       "      <td>0.804082</td>\n",
       "      <td>0.877437</td>\n",
       "      <td>0.786089</td>\n",
       "      <td>0.401641</td>\n",
       "    </tr>\n",
       "    <tr>\n",
       "      <th>3</th>\n",
       "      <td>1.642226</td>\n",
       "      <td>1</td>\n",
       "      <td>0</td>\n",
       "      <td>1</td>\n",
       "      <td>0</td>\n",
       "      <td>0</td>\n",
       "      <td>1</td>\n",
       "      <td>0</td>\n",
       "      <td>5</td>\n",
       "      <td>1</td>\n",
       "      <td>0.181556</td>\n",
       "      <td>-0.559326</td>\n",
       "      <td>0.211884</td>\n",
       "      <td>-0.37161</td>\n",
       "      <td>1</td>\n",
       "      <td>0.727466</td>\n",
       "      <td>0.804082</td>\n",
       "      <td>0.877437</td>\n",
       "      <td>0.786089</td>\n",
       "      <td>0.401641</td>\n",
       "    </tr>\n",
       "    <tr>\n",
       "      <th>4</th>\n",
       "      <td>1.932543</td>\n",
       "      <td>2</td>\n",
       "      <td>0</td>\n",
       "      <td>3</td>\n",
       "      <td>0</td>\n",
       "      <td>0</td>\n",
       "      <td>0</td>\n",
       "      <td>0</td>\n",
       "      <td>5</td>\n",
       "      <td>1</td>\n",
       "      <td>-0.460365</td>\n",
       "      <td>-0.559326</td>\n",
       "      <td>0.211884</td>\n",
       "      <td>-0.37161</td>\n",
       "      <td>1</td>\n",
       "      <td>0.727466</td>\n",
       "      <td>0.804082</td>\n",
       "      <td>0.877437</td>\n",
       "      <td>0.786089</td>\n",
       "      <td>0.401641</td>\n",
       "    </tr>\n",
       "  </tbody>\n",
       "</table>\n",
       "</div>"
      ],
      "text/plain": [
       "        age  job  marital  education  default  housing  loan  contact  month  \\\n",
       "0  1.642226    0        0          0        0        0     0        0      5   \n",
       "1 -0.196449    1        0          1        0        1     0        0      5   \n",
       "2  0.093868    2        0          2        0        0     0        0      5   \n",
       "3  1.642226    1        0          1        0        0     1        0      5   \n",
       "4  1.932543    2        0          3        0        0     0        0      5   \n",
       "\n",
       "   day_of_week  duration  campaign     pdays  previous  poutcome  \\\n",
       "0            1  0.005792 -0.559326  0.211884  -0.37161         1   \n",
       "1            1 -0.127941 -0.559326  0.211884  -0.37161         1   \n",
       "2            1 -0.414513 -0.559326  0.211884  -0.37161         1   \n",
       "3            1  0.181556 -0.559326  0.211884  -0.37161         1   \n",
       "4            1 -0.460365 -0.559326  0.211884  -0.37161         1   \n",
       "\n",
       "   emp.var.rate  cons.price.idx  cons.conf.idx  euribor3m  nr.employed  \n",
       "0      0.727466        0.804082       0.877437   0.786089     0.401641  \n",
       "1      0.727466        0.804082       0.877437   0.786089     0.401641  \n",
       "2      0.727466        0.804082       0.877437   0.786089     0.401641  \n",
       "3      0.727466        0.804082       0.877437   0.786089     0.401641  \n",
       "4      0.727466        0.804082       0.877437   0.786089     0.401641  "
      ]
     },
     "execution_count": 5,
     "metadata": {},
     "output_type": "execute_result"
    }
   ],
   "source": [
    "X.head()"
   ]
  },
  {
   "cell_type": "code",
   "execution_count": 6,
   "metadata": {},
   "outputs": [
    {
     "data": {
      "text/plain": [
       "(0.2118836362185938, -4.749052297919588)"
      ]
     },
     "execution_count": 6,
     "metadata": {},
     "output_type": "execute_result"
    }
   ],
   "source": [
    "X.pdays.max(), X.pdays.min()"
   ]
  },
  {
   "cell_type": "code",
   "execution_count": 7,
   "metadata": {},
   "outputs": [
    {
     "data": {
      "text/plain": [
       "0    0\n",
       "1    0\n",
       "Name: y, dtype: int64"
      ]
     },
     "execution_count": 7,
     "metadata": {},
     "output_type": "execute_result"
    }
   ],
   "source": [
    "y.head(2)"
   ]
  },
  {
   "cell_type": "code",
   "execution_count": 8,
   "metadata": {},
   "outputs": [],
   "source": [
    "from sklearn.model_selection import train_test_split"
   ]
  },
  {
   "cell_type": "code",
   "execution_count": 9,
   "metadata": {},
   "outputs": [],
   "source": [
    "X_train, X_temp, y_train, y_temp = train_test_split(X, y, test_size=0.4, random_state=101)"
   ]
  },
  {
   "cell_type": "code",
   "execution_count": 10,
   "metadata": {},
   "outputs": [],
   "source": [
    "X_cv, X_test, y_cv, y_test = train_test_split(X_temp, y_temp, test_size=0.5, random_state=101)"
   ]
  },
  {
   "cell_type": "code",
   "execution_count": 11,
   "metadata": {},
   "outputs": [],
   "source": [
    "from sklearn.metrics import classification_report"
   ]
  },
  {
   "cell_type": "code",
   "execution_count": 12,
   "metadata": {},
   "outputs": [
    {
     "data": {
      "text/plain": [
       "Index(['age', 'job', 'marital', 'education', 'default', 'housing', 'loan',\n",
       "       'contact', 'month', 'day_of_week', 'duration', 'campaign', 'pdays',\n",
       "       'previous', 'poutcome', 'emp.var.rate', 'cons.price.idx',\n",
       "       'cons.conf.idx', 'euribor3m', 'nr.employed', 'y'],\n",
       "      dtype='object')"
      ]
     },
     "execution_count": 12,
     "metadata": {},
     "output_type": "execute_result"
    }
   ],
   "source": [
    "df_ori.columns"
   ]
  },
  {
   "cell_type": "code",
   "execution_count": 13,
   "metadata": {},
   "outputs": [
    {
     "name": "stdout",
     "output_type": "stream",
     "text": [
      "Number of samples: 30488\n",
      "Number of features: 19\n",
      "Number of categorical features: 10\n",
      "Number of numerical features: 9\n"
     ]
    }
   ],
   "source": [
    "categorical_columns_subset = [\n",
    "    'job', 'marital', 'education', 'default', 'housing', 'loan', 'contact', 'month', 'day_of_week', 'poutcome'\n",
    "]\n",
    "\n",
    "numerical_columns_subset = [\n",
    "    'duration', 'campaign', 'pdays',\n",
    "    'previous', 'emp.var.rate', 'cons.price.idx', \n",
    "    'cons.conf.idx', 'euribor3m', 'nr.employed'\n",
    "]\n",
    "\n",
    "X = X[categorical_columns_subset + numerical_columns_subset]\n",
    "X[categorical_columns_subset] = X[categorical_columns_subset].astype(\"category\")\n",
    "\n",
    "n_categorical_features = X.select_dtypes(include=\"category\").shape[1]\n",
    "n_numerical_features = X.select_dtypes(include=\"number\").shape[1]\n",
    "\n",
    "print(f\"Number of samples: {X.shape[0]}\")\n",
    "print(f\"Number of features: {X.shape[1]}\")\n",
    "print(f\"Number of categorical features: {n_categorical_features}\")\n",
    "print(f\"Number of numerical features: {n_numerical_features}\")"
   ]
  },
  {
   "cell_type": "code",
   "execution_count": 14,
   "metadata": {},
   "outputs": [],
   "source": [
    "from sklearn.preprocessing import OneHotEncoder\n",
    "from sklearn.compose import make_column_transformer\n",
    "from sklearn.compose import make_column_selector\n",
    "from sklearn.pipeline import make_pipeline\n",
    "\n",
    "one_hot_encoder = make_column_transformer(\n",
    "    (\n",
    "        OneHotEncoder(sparse=False, handle_unknown=\"ignore\"),\n",
    "        make_column_selector(dtype_include=\"category\"),\n",
    "    ),\n",
    "    remainder=\"passthrough\",\n",
    ")"
   ]
  },
  {
   "cell_type": "code",
   "execution_count": 15,
   "metadata": {},
   "outputs": [],
   "source": [
    "import lightgbm as lgbm\n",
    "\n",
    "import optuna  # pip install optuna\n",
    "from sklearn.metrics import log_loss"
   ]
  },
  {
   "cell_type": "code",
   "execution_count": 28,
   "metadata": {},
   "outputs": [],
   "source": [
    "from optuna.integration import LightGBMPruningCallback\n",
    "\n",
    "def objective(trial, X, y):\n",
    "    param_grid = {\n",
    "        # \"device_type\": trial.suggest_categorical(\"device_type\", ['gpu']),\n",
    "        \"n_estimators\": trial.suggest_categorical(\"n_estimators\", [10000]),\n",
    "        \"learning_rate\": trial.suggest_float(\"learning_rate\", 0.01, 0.05, step=0.02),\n",
    "        \"num_leaves\": trial.suggest_int(\"num_leaves\", 30, 210, step=30),\n",
    "        \"max_depth\": trial.suggest_int(\"max_depth\", 3, 12, step=1),\n",
    "        \"min_data_in_leaf\": trial.suggest_int(\"min_data_in_leaf\", 20, 120, step=20),\n",
    "        \"lambda_l1\": trial.suggest_int(\"lambda_l1\", 0, 100, step=20),\n",
    "        \"lambda_l2\": trial.suggest_int(\"lambda_l2\", 0, 100, step=20),\n",
    "        \"min_gain_to_split\": trial.suggest_float(\"min_gain_to_split\", 0, 4.0, step=1.0),\n",
    "        \"bagging_fraction\": trial.suggest_float(\n",
    "            \"bagging_fraction\", 0.25, 0.95, step=0.1\n",
    "        ),\n",
    "        \"bagging_freq\": trial.suggest_categorical(\"bagging_freq\", [1]),\n",
    "        \"feature_fraction\": trial.suggest_float(\n",
    "            \"feature_fraction\", 0.25, 0.95, step=0.1\n",
    "        ),\n",
    "    }\n",
    "\n",
    "#     cv = StratifiedKFold(n_splits=5, shuffle=True, random_state=1121218)\n",
    "\n",
    "#     cv_scores = np.empty(5)\n",
    "#     for idx, (train_idx, test_idx) in enumerate(cv.split(X, y)):\n",
    "#         X_train, X_test = X.iloc[train_idx], X.iloc[test_idx]\n",
    "#         y_train, y_test = y[train_idx], y[test_idx]\n",
    "\n",
    "    model = lgbm.LGBMClassifier(objective=\"binary\", is_unbalance=True, **param_grid)\n",
    "    model.fit(\n",
    "        X_train,\n",
    "        y_train,\n",
    "        eval_set=[(X_cv, y_cv)],\n",
    "        eval_metric=\"binary_logloss\",\n",
    "        early_stopping_rounds=100,\n",
    "        callbacks=[\n",
    "            LightGBMPruningCallback(trial, \"binary_logloss\")\n",
    "        ],  # Add a pruning callback\n",
    "    )\n",
    "    preds = model.predict_proba(X_cv)\n",
    "    cv_scores = log_loss(y_cv, preds)\n",
    "    mean_loss = np.mean(cv_scores)\n",
    "    print(f\"mean_loss {mean_loss:.5f}\")\n",
    "    return mean_loss"
   ]
  },
  {
   "cell_type": "code",
   "execution_count": 30,
   "metadata": {
    "scrolled": true
   },
   "outputs": [
    {
     "name": "stderr",
     "output_type": "stream",
     "text": [
      "\u001b[32m[I 2022-05-08 20:45:38,497]\u001b[0m A new study created in memory with name: LGBM Classifier\u001b[0m\n",
      "\u001b[32m[I 2022-05-08 20:45:38,741]\u001b[0m Trial 0 finished with value: 0.3091718648831921 and parameters: {'n_estimators': 10000, 'learning_rate': 0.05, 'num_leaves': 180, 'max_depth': 10, 'min_data_in_leaf': 80, 'lambda_l1': 20, 'lambda_l2': 60, 'min_gain_to_split': 3.0, 'bagging_fraction': 0.55, 'bagging_freq': 1, 'feature_fraction': 0.65}. Best is trial 0 with value: 0.3091718648831921.\u001b[0m\n",
      "\u001b[32m[I 2022-05-08 20:45:38,931]\u001b[0m Trial 1 finished with value: 0.3178103542279393 and parameters: {'n_estimators': 10000, 'learning_rate': 0.03, 'num_leaves': 60, 'max_depth': 11, 'min_data_in_leaf': 100, 'lambda_l1': 80, 'lambda_l2': 100, 'min_gain_to_split': 2.0, 'bagging_fraction': 0.65, 'bagging_freq': 1, 'feature_fraction': 0.8500000000000001}. Best is trial 0 with value: 0.3091718648831921.\u001b[0m\n"
     ]
    },
    {
     "name": "stdout",
     "output_type": "stream",
     "text": [
      "mean_loss 0.30917\n",
      "[LightGBM] [Warning] lambda_l1 is set=80, reg_alpha=0.0 will be ignored. Current value: lambda_l1=80\n",
      "[LightGBM] [Warning] bagging_fraction is set=0.65, subsample=1.0 will be ignored. Current value: bagging_fraction=0.65\n",
      "[LightGBM] [Warning] min_gain_to_split is set=2.0, min_split_gain=0.0 will be ignored. Current value: min_gain_to_split=2.0\n",
      "[LightGBM] [Warning] lambda_l2 is set=100, reg_lambda=0.0 will be ignored. Current value: lambda_l2=100\n",
      "[LightGBM] [Warning] feature_fraction is set=0.8500000000000001, colsample_bytree=1.0 will be ignored. Current value: feature_fraction=0.8500000000000001\n",
      "[LightGBM] [Warning] min_data_in_leaf is set=100, min_child_samples=20 will be ignored. Current value: min_data_in_leaf=100\n",
      "[LightGBM] [Warning] bagging_freq is set=1, subsample_freq=0 will be ignored. Current value: bagging_freq=1\n",
      "mean_loss 0.31781\n",
      "[LightGBM] [Warning] lambda_l1 is set=20, reg_alpha=0.0 will be ignored. Current value: lambda_l1=20\n",
      "[LightGBM] [Warning] bagging_fraction is set=0.65, subsample=1.0 will be ignored. Current value: bagging_fraction=0.65\n",
      "[LightGBM] [Warning] min_gain_to_split is set=3.0, min_split_gain=0.0 will be ignored. Current value: min_gain_to_split=3.0\n",
      "[LightGBM] [Warning] lambda_l2 is set=80, reg_lambda=0.0 will be ignored. Current value: lambda_l2=80\n",
      "[LightGBM] [Warning] feature_fraction is set=0.35, colsample_bytree=1.0 will be ignored. Current value: feature_fraction=0.35\n",
      "[LightGBM] [Warning] min_data_in_leaf is set=60, min_child_samples=20 will be ignored. Current value: min_data_in_leaf=60\n",
      "[LightGBM] [Warning] bagging_freq is set=1, subsample_freq=0 will be ignored. Current value: bagging_freq=1\n"
     ]
    },
    {
     "name": "stderr",
     "output_type": "stream",
     "text": [
      "\u001b[32m[I 2022-05-08 20:45:39,756]\u001b[0m Trial 2 finished with value: 0.3171974272353802 and parameters: {'n_estimators': 10000, 'learning_rate': 0.05, 'num_leaves': 30, 'max_depth': 5, 'min_data_in_leaf': 60, 'lambda_l1': 20, 'lambda_l2': 80, 'min_gain_to_split': 3.0, 'bagging_fraction': 0.65, 'bagging_freq': 1, 'feature_fraction': 0.35}. Best is trial 0 with value: 0.3091718648831921.\u001b[0m\n"
     ]
    },
    {
     "name": "stdout",
     "output_type": "stream",
     "text": [
      "mean_loss 0.31720\n",
      "[LightGBM] [Warning] lambda_l1 is set=40, reg_alpha=0.0 will be ignored. Current value: lambda_l1=40\n",
      "[LightGBM] [Warning] bagging_fraction is set=0.35, subsample=1.0 will be ignored. Current value: bagging_fraction=0.35\n",
      "[LightGBM] [Warning] min_gain_to_split is set=0.0, min_split_gain=0.0 will be ignored. Current value: min_gain_to_split=0.0\n",
      "[LightGBM] [Warning] lambda_l2 is set=60, reg_lambda=0.0 will be ignored. Current value: lambda_l2=60\n",
      "[LightGBM] [Warning] feature_fraction is set=0.65, colsample_bytree=1.0 will be ignored. Current value: feature_fraction=0.65\n",
      "[LightGBM] [Warning] min_data_in_leaf is set=100, min_child_samples=20 will be ignored. Current value: min_data_in_leaf=100\n",
      "[LightGBM] [Warning] bagging_freq is set=1, subsample_freq=0 will be ignored. Current value: bagging_freq=1\n"
     ]
    },
    {
     "name": "stderr",
     "output_type": "stream",
     "text": [
      "\u001b[32m[I 2022-05-08 20:45:40,039]\u001b[0m Trial 3 finished with value: 0.32067649212833765 and parameters: {'n_estimators': 10000, 'learning_rate': 0.05, 'num_leaves': 30, 'max_depth': 10, 'min_data_in_leaf': 100, 'lambda_l1': 40, 'lambda_l2': 60, 'min_gain_to_split': 0.0, 'bagging_fraction': 0.35, 'bagging_freq': 1, 'feature_fraction': 0.65}. Best is trial 0 with value: 0.3091718648831921.\u001b[0m\n",
      "\u001b[32m[I 2022-05-08 20:45:40,233]\u001b[0m Trial 4 finished with value: 0.3308203354207608 and parameters: {'n_estimators': 10000, 'learning_rate': 0.05, 'num_leaves': 120, 'max_depth': 3, 'min_data_in_leaf': 60, 'lambda_l1': 40, 'lambda_l2': 80, 'min_gain_to_split': 4.0, 'bagging_fraction': 0.45, 'bagging_freq': 1, 'feature_fraction': 0.55}. Best is trial 0 with value: 0.3091718648831921.\u001b[0m\n"
     ]
    },
    {
     "name": "stdout",
     "output_type": "stream",
     "text": [
      "mean_loss 0.32068\n",
      "[LightGBM] [Warning] lambda_l1 is set=40, reg_alpha=0.0 will be ignored. Current value: lambda_l1=40\n",
      "[LightGBM] [Warning] bagging_fraction is set=0.45, subsample=1.0 will be ignored. Current value: bagging_fraction=0.45\n",
      "[LightGBM] [Warning] min_gain_to_split is set=4.0, min_split_gain=0.0 will be ignored. Current value: min_gain_to_split=4.0\n",
      "[LightGBM] [Warning] lambda_l2 is set=80, reg_lambda=0.0 will be ignored. Current value: lambda_l2=80\n",
      "[LightGBM] [Warning] feature_fraction is set=0.55, colsample_bytree=1.0 will be ignored. Current value: feature_fraction=0.55\n",
      "[LightGBM] [Warning] min_data_in_leaf is set=60, min_child_samples=20 will be ignored. Current value: min_data_in_leaf=60\n",
      "[LightGBM] [Warning] bagging_freq is set=1, subsample_freq=0 will be ignored. Current value: bagging_freq=1\n",
      "mean_loss 0.33082\n"
     ]
    },
    {
     "name": "stderr",
     "output_type": "stream",
     "text": [
      "\u001b[32m[I 2022-05-08 20:45:40,289]\u001b[0m Trial 5 pruned. Trial was pruned at iteration 0.\u001b[0m\n"
     ]
    },
    {
     "name": "stdout",
     "output_type": "stream",
     "text": [
      "[LightGBM] [Warning] lambda_l1 is set=40, reg_alpha=0.0 will be ignored. Current value: lambda_l1=40\n",
      "[LightGBM] [Warning] bagging_fraction is set=0.8500000000000001, subsample=1.0 will be ignored. Current value: bagging_fraction=0.8500000000000001\n",
      "[LightGBM] [Warning] min_gain_to_split is set=2.0, min_split_gain=0.0 will be ignored. Current value: min_gain_to_split=2.0\n",
      "[LightGBM] [Warning] lambda_l2 is set=100, reg_lambda=0.0 will be ignored. Current value: lambda_l2=100\n",
      "[LightGBM] [Warning] feature_fraction is set=0.35, colsample_bytree=1.0 will be ignored. Current value: feature_fraction=0.35\n",
      "[LightGBM] [Warning] min_data_in_leaf is set=40, min_child_samples=20 will be ignored. Current value: min_data_in_leaf=40\n",
      "[LightGBM] [Warning] bagging_freq is set=1, subsample_freq=0 will be ignored. Current value: bagging_freq=1\n"
     ]
    },
    {
     "name": "stderr",
     "output_type": "stream",
     "text": [
      "\u001b[32m[I 2022-05-08 20:45:40,454]\u001b[0m Trial 6 pruned. Trial was pruned at iteration 0.\u001b[0m\n",
      "\u001b[32m[I 2022-05-08 20:45:40,590]\u001b[0m Trial 7 pruned. Trial was pruned at iteration 0.\u001b[0m\n",
      "\u001b[32m[I 2022-05-08 20:45:40,641]\u001b[0m Trial 8 pruned. Trial was pruned at iteration 0.\u001b[0m\n",
      "\u001b[32m[I 2022-05-08 20:45:40,703]\u001b[0m Trial 9 pruned. Trial was pruned at iteration 1.\u001b[0m\n",
      "\u001b[32m[I 2022-05-08 20:45:40,764]\u001b[0m Trial 10 pruned. Trial was pruned at iteration 0.\u001b[0m\n",
      "\u001b[32m[I 2022-05-08 20:45:40,823]\u001b[0m Trial 11 pruned. Trial was pruned at iteration 3.\u001b[0m\n",
      "\u001b[32m[I 2022-05-08 20:45:41,103]\u001b[0m Trial 12 finished with value: 0.30189672421413827 and parameters: {'n_estimators': 10000, 'learning_rate': 0.05, 'num_leaves': 120, 'max_depth': 5, 'min_data_in_leaf': 40, 'lambda_l1': 20, 'lambda_l2': 40, 'min_gain_to_split': 3.0, 'bagging_fraction': 0.65, 'bagging_freq': 1, 'feature_fraction': 0.65}. Best is trial 12 with value: 0.30189672421413827.\u001b[0m\n"
     ]
    },
    {
     "name": "stdout",
     "output_type": "stream",
     "text": [
      "mean_loss 0.30190\n",
      "[LightGBM] [Warning] lambda_l1 is set=20, reg_alpha=0.0 will be ignored. Current value: lambda_l1=20\n",
      "[LightGBM] [Warning] bagging_fraction is set=0.75, subsample=1.0 will be ignored. Current value: bagging_fraction=0.75\n",
      "[LightGBM] [Warning] min_gain_to_split is set=1.0, min_split_gain=0.0 will be ignored. Current value: min_gain_to_split=1.0\n",
      "[LightGBM] [Warning] lambda_l2 is set=40, reg_lambda=0.0 will be ignored. Current value: lambda_l2=40\n",
      "[LightGBM] [Warning] feature_fraction is set=0.65, colsample_bytree=1.0 will be ignored. Current value: feature_fraction=0.65\n",
      "[LightGBM] [Warning] min_data_in_leaf is set=20, min_child_samples=20 will be ignored. Current value: min_data_in_leaf=20\n",
      "[LightGBM] [Warning] bagging_freq is set=1, subsample_freq=0 will be ignored. Current value: bagging_freq=1\n"
     ]
    },
    {
     "name": "stderr",
     "output_type": "stream",
     "text": [
      "\u001b[32m[I 2022-05-08 20:45:41,489]\u001b[0m Trial 13 finished with value: 0.297468459613543 and parameters: {'n_estimators': 10000, 'learning_rate': 0.05, 'num_leaves': 120, 'max_depth': 8, 'min_data_in_leaf': 20, 'lambda_l1': 20, 'lambda_l2': 40, 'min_gain_to_split': 1.0, 'bagging_fraction': 0.75, 'bagging_freq': 1, 'feature_fraction': 0.65}. Best is trial 13 with value: 0.297468459613543.\u001b[0m\n"
     ]
    },
    {
     "name": "stdout",
     "output_type": "stream",
     "text": [
      "mean_loss 0.29747\n",
      "[LightGBM] [Warning] lambda_l1 is set=100, reg_alpha=0.0 will be ignored. Current value: lambda_l1=100\n",
      "[LightGBM] [Warning] bagging_fraction is set=0.75, subsample=1.0 will be ignored. Current value: bagging_fraction=0.75\n",
      "[LightGBM] [Warning] min_gain_to_split is set=1.0, min_split_gain=0.0 will be ignored. Current value: min_gain_to_split=1.0\n",
      "[LightGBM] [Warning] lambda_l2 is set=40, reg_lambda=0.0 will be ignored. Current value: lambda_l2=40\n",
      "[LightGBM] [Warning] feature_fraction is set=0.95, colsample_bytree=1.0 will be ignored. Current value: feature_fraction=0.95\n",
      "[LightGBM] [Warning] min_data_in_leaf is set=20, min_child_samples=20 will be ignored. Current value: min_data_in_leaf=20\n",
      "[LightGBM] [Warning] bagging_freq is set=1, subsample_freq=0 will be ignored. Current value: bagging_freq=1\n"
     ]
    },
    {
     "name": "stderr",
     "output_type": "stream",
     "text": [
      "\u001b[32m[I 2022-05-08 20:45:41,995]\u001b[0m Trial 14 finished with value: 0.2997631496515325 and parameters: {'n_estimators': 10000, 'learning_rate': 0.05, 'num_leaves': 120, 'max_depth': 8, 'min_data_in_leaf': 20, 'lambda_l1': 100, 'lambda_l2': 40, 'min_gain_to_split': 1.0, 'bagging_fraction': 0.75, 'bagging_freq': 1, 'feature_fraction': 0.95}. Best is trial 13 with value: 0.297468459613543.\u001b[0m\n",
      "\u001b[32m[I 2022-05-08 20:45:42,064]\u001b[0m Trial 15 pruned. Trial was pruned at iteration 0.\u001b[0m\n"
     ]
    },
    {
     "name": "stdout",
     "output_type": "stream",
     "text": [
      "mean_loss 0.29976\n",
      "[LightGBM] [Warning] lambda_l1 is set=100, reg_alpha=0.0 will be ignored. Current value: lambda_l1=100\n",
      "[LightGBM] [Warning] bagging_fraction is set=0.8500000000000001, subsample=1.0 will be ignored. Current value: bagging_fraction=0.8500000000000001\n",
      "[LightGBM] [Warning] min_gain_to_split is set=1.0, min_split_gain=0.0 will be ignored. Current value: min_gain_to_split=1.0\n",
      "[LightGBM] [Warning] lambda_l2 is set=40, reg_lambda=0.0 will be ignored. Current value: lambda_l2=40\n",
      "[LightGBM] [Warning] feature_fraction is set=0.95, colsample_bytree=1.0 will be ignored. Current value: feature_fraction=0.95\n",
      "[LightGBM] [Warning] min_data_in_leaf is set=20, min_child_samples=20 will be ignored. Current value: min_data_in_leaf=20\n",
      "[LightGBM] [Warning] bagging_freq is set=1, subsample_freq=0 will be ignored. Current value: bagging_freq=1\n"
     ]
    },
    {
     "name": "stderr",
     "output_type": "stream",
     "text": [
      "\u001b[32m[I 2022-05-08 20:45:42,360]\u001b[0m Trial 16 finished with value: 0.2972361670615646 and parameters: {'n_estimators': 10000, 'learning_rate': 0.05, 'num_leaves': 90, 'max_depth': 9, 'min_data_in_leaf': 20, 'lambda_l1': 100, 'lambda_l2': 20, 'min_gain_to_split': 1.0, 'bagging_fraction': 0.75, 'bagging_freq': 1, 'feature_fraction': 0.95}. Best is trial 16 with value: 0.2972361670615646.\u001b[0m\n",
      "\u001b[32m[I 2022-05-08 20:45:42,443]\u001b[0m Trial 17 pruned. Trial was pruned at iteration 0.\u001b[0m\n"
     ]
    },
    {
     "name": "stdout",
     "output_type": "stream",
     "text": [
      "mean_loss 0.29724\n",
      "[LightGBM] [Warning] lambda_l1 is set=80, reg_alpha=0.0 will be ignored. Current value: lambda_l1=80\n",
      "[LightGBM] [Warning] bagging_fraction is set=0.95, subsample=1.0 will be ignored. Current value: bagging_fraction=0.95\n",
      "[LightGBM] [Warning] min_gain_to_split is set=1.0, min_split_gain=0.0 will be ignored. Current value: min_gain_to_split=1.0\n",
      "[LightGBM] [Warning] lambda_l2 is set=0, reg_lambda=0.0 will be ignored. Current value: lambda_l2=0\n",
      "[LightGBM] [Warning] feature_fraction is set=0.75, colsample_bytree=1.0 will be ignored. Current value: feature_fraction=0.75\n",
      "[LightGBM] [Warning] min_data_in_leaf is set=40, min_child_samples=20 will be ignored. Current value: min_data_in_leaf=40\n",
      "[LightGBM] [Warning] bagging_freq is set=1, subsample_freq=0 will be ignored. Current value: bagging_freq=1\n"
     ]
    },
    {
     "name": "stderr",
     "output_type": "stream",
     "text": [
      "\u001b[32m[I 2022-05-08 20:45:42,853]\u001b[0m Trial 18 finished with value: 0.301297807012964 and parameters: {'n_estimators': 10000, 'learning_rate': 0.05, 'num_leaves': 60, 'max_depth': 12, 'min_data_in_leaf': 20, 'lambda_l1': 60, 'lambda_l2': 20, 'min_gain_to_split': 1.0, 'bagging_fraction': 0.75, 'bagging_freq': 1, 'feature_fraction': 0.8500000000000001}. Best is trial 16 with value: 0.2972361670615646.\u001b[0m\n",
      "\u001b[32m[I 2022-05-08 20:45:42,915]\u001b[0m Trial 19 pruned. Trial was pruned at iteration 0.\u001b[0m\n",
      "\u001b[32m[I 2022-05-08 20:45:42,971]\u001b[0m Trial 20 pruned. Trial was pruned at iteration 1.\u001b[0m\n",
      "\u001b[32m[I 2022-05-08 20:45:43,023]\u001b[0m Trial 21 pruned. Trial was pruned at iteration 0.\u001b[0m\n"
     ]
    },
    {
     "name": "stdout",
     "output_type": "stream",
     "text": [
      "mean_loss 0.30130\n",
      "[LightGBM] [Warning] lambda_l1 is set=60, reg_alpha=0.0 will be ignored. Current value: lambda_l1=60\n",
      "[LightGBM] [Warning] bagging_fraction is set=0.8500000000000001, subsample=1.0 will be ignored. Current value: bagging_fraction=0.8500000000000001\n",
      "[LightGBM] [Warning] min_gain_to_split is set=2.0, min_split_gain=0.0 will be ignored. Current value: min_gain_to_split=2.0\n",
      "[LightGBM] [Warning] lambda_l2 is set=20, reg_lambda=0.0 will be ignored. Current value: lambda_l2=20\n",
      "[LightGBM] [Warning] feature_fraction is set=0.75, colsample_bytree=1.0 will be ignored. Current value: feature_fraction=0.75\n",
      "[LightGBM] [Warning] min_data_in_leaf is set=40, min_child_samples=20 will be ignored. Current value: min_data_in_leaf=40\n",
      "[LightGBM] [Warning] bagging_freq is set=1, subsample_freq=0 will be ignored. Current value: bagging_freq=1\n"
     ]
    },
    {
     "name": "stderr",
     "output_type": "stream",
     "text": [
      "\u001b[32m[I 2022-05-08 20:45:43,090]\u001b[0m Trial 22 pruned. Trial was pruned at iteration 0.\u001b[0m\n",
      "\u001b[32m[I 2022-05-08 20:45:43,170]\u001b[0m Trial 23 pruned. Trial was pruned at iteration 15.\u001b[0m\n",
      "\u001b[32m[I 2022-05-08 20:45:43,223]\u001b[0m Trial 24 pruned. Trial was pruned at iteration 0.\u001b[0m\n",
      "\u001b[32m[I 2022-05-08 20:45:43,276]\u001b[0m Trial 25 pruned. Trial was pruned at iteration 0.\u001b[0m\n",
      "\u001b[32m[I 2022-05-08 20:45:43,329]\u001b[0m Trial 26 pruned. Trial was pruned at iteration 0.\u001b[0m\n",
      "\u001b[32m[I 2022-05-08 20:45:44,140]\u001b[0m Trial 27 finished with value: 0.24087001468860544 and parameters: {'n_estimators': 10000, 'learning_rate': 0.05, 'num_leaves': 180, 'max_depth': 8, 'min_data_in_leaf': 20, 'lambda_l1': 0, 'lambda_l2': 0, 'min_gain_to_split': 1.0, 'bagging_fraction': 0.8500000000000001, 'bagging_freq': 1, 'feature_fraction': 0.95}. Best is trial 27 with value: 0.24087001468860544.\u001b[0m\n",
      "\u001b[32m[I 2022-05-08 20:45:44,199]\u001b[0m Trial 28 pruned. Trial was pruned at iteration 0.\u001b[0m\n"
     ]
    },
    {
     "name": "stdout",
     "output_type": "stream",
     "text": [
      "mean_loss 0.24087\n",
      "[LightGBM] [Warning] lambda_l1 is set=0, reg_alpha=0.0 will be ignored. Current value: lambda_l1=0\n",
      "[LightGBM] [Warning] bagging_fraction is set=0.8500000000000001, subsample=1.0 will be ignored. Current value: bagging_fraction=0.8500000000000001\n",
      "[LightGBM] [Warning] min_gain_to_split is set=2.0, min_split_gain=0.0 will be ignored. Current value: min_gain_to_split=2.0\n",
      "[LightGBM] [Warning] lambda_l2 is set=0, reg_lambda=0.0 will be ignored. Current value: lambda_l2=0\n",
      "[LightGBM] [Warning] feature_fraction is set=0.55, colsample_bytree=1.0 will be ignored. Current value: feature_fraction=0.55\n",
      "[LightGBM] [Warning] min_data_in_leaf is set=60, min_child_samples=20 will be ignored. Current value: min_data_in_leaf=60\n",
      "[LightGBM] [Warning] bagging_freq is set=1, subsample_freq=0 will be ignored. Current value: bagging_freq=1\n"
     ]
    },
    {
     "name": "stderr",
     "output_type": "stream",
     "text": [
      "\u001b[32m[I 2022-05-08 20:45:44,690]\u001b[0m Trial 29 finished with value: 0.26334468181593734 and parameters: {'n_estimators': 10000, 'learning_rate': 0.05, 'num_leaves': 180, 'max_depth': 11, 'min_data_in_leaf': 80, 'lambda_l1': 0, 'lambda_l2': 0, 'min_gain_to_split': 2.0, 'bagging_fraction': 0.95, 'bagging_freq': 1, 'feature_fraction': 0.65}. Best is trial 27 with value: 0.24087001468860544.\u001b[0m\n"
     ]
    },
    {
     "name": "stdout",
     "output_type": "stream",
     "text": [
      "mean_loss 0.26334\n",
      "[LightGBM] [Warning] lambda_l1 is set=0, reg_alpha=0.0 will be ignored. Current value: lambda_l1=0\n",
      "[LightGBM] [Warning] bagging_fraction is set=0.95, subsample=1.0 will be ignored. Current value: bagging_fraction=0.95\n",
      "[LightGBM] [Warning] min_gain_to_split is set=2.0, min_split_gain=0.0 will be ignored. Current value: min_gain_to_split=2.0\n",
      "[LightGBM] [Warning] lambda_l2 is set=0, reg_lambda=0.0 will be ignored. Current value: lambda_l2=0\n",
      "[LightGBM] [Warning] feature_fraction is set=0.8500000000000001, colsample_bytree=1.0 will be ignored. Current value: feature_fraction=0.8500000000000001\n",
      "[LightGBM] [Warning] min_data_in_leaf is set=80, min_child_samples=20 will be ignored. Current value: min_data_in_leaf=80\n",
      "[LightGBM] [Warning] bagging_freq is set=1, subsample_freq=0 will be ignored. Current value: bagging_freq=1\n"
     ]
    },
    {
     "name": "stderr",
     "output_type": "stream",
     "text": [
      "\u001b[32m[I 2022-05-08 20:45:45,210]\u001b[0m Trial 30 finished with value: 0.2611216331243457 and parameters: {'n_estimators': 10000, 'learning_rate': 0.05, 'num_leaves': 210, 'max_depth': 12, 'min_data_in_leaf': 80, 'lambda_l1': 0, 'lambda_l2': 0, 'min_gain_to_split': 2.0, 'bagging_fraction': 0.95, 'bagging_freq': 1, 'feature_fraction': 0.8500000000000001}. Best is trial 27 with value: 0.24087001468860544.\u001b[0m\n"
     ]
    },
    {
     "name": "stdout",
     "output_type": "stream",
     "text": [
      "mean_loss 0.26112\n",
      "[LightGBM] [Warning] lambda_l1 is set=0, reg_alpha=0.0 will be ignored. Current value: lambda_l1=0\n",
      "[LightGBM] [Warning] bagging_fraction is set=0.95, subsample=1.0 will be ignored. Current value: bagging_fraction=0.95\n",
      "[LightGBM] [Warning] min_gain_to_split is set=2.0, min_split_gain=0.0 will be ignored. Current value: min_gain_to_split=2.0\n",
      "[LightGBM] [Warning] lambda_l2 is set=0, reg_lambda=0.0 will be ignored. Current value: lambda_l2=0\n",
      "[LightGBM] [Warning] feature_fraction is set=0.95, colsample_bytree=1.0 will be ignored. Current value: feature_fraction=0.95\n",
      "[LightGBM] [Warning] min_data_in_leaf is set=80, min_child_samples=20 will be ignored. Current value: min_data_in_leaf=80\n",
      "[LightGBM] [Warning] bagging_freq is set=1, subsample_freq=0 will be ignored. Current value: bagging_freq=1\n"
     ]
    },
    {
     "name": "stderr",
     "output_type": "stream",
     "text": [
      "\u001b[32m[I 2022-05-08 20:45:45,770]\u001b[0m Trial 31 finished with value: 0.24637571850477347 and parameters: {'n_estimators': 10000, 'learning_rate': 0.05, 'num_leaves': 210, 'max_depth': 12, 'min_data_in_leaf': 80, 'lambda_l1': 0, 'lambda_l2': 0, 'min_gain_to_split': 2.0, 'bagging_fraction': 0.95, 'bagging_freq': 1, 'feature_fraction': 0.95}. Best is trial 27 with value: 0.24087001468860544.\u001b[0m\n"
     ]
    },
    {
     "name": "stdout",
     "output_type": "stream",
     "text": [
      "mean_loss 0.24638\n",
      "[LightGBM] [Warning] lambda_l1 is set=0, reg_alpha=0.0 will be ignored. Current value: lambda_l1=0\n",
      "[LightGBM] [Warning] bagging_fraction is set=0.95, subsample=1.0 will be ignored. Current value: bagging_fraction=0.95\n",
      "[LightGBM] [Warning] min_gain_to_split is set=2.0, min_split_gain=0.0 will be ignored. Current value: min_gain_to_split=2.0\n",
      "[LightGBM] [Warning] lambda_l2 is set=0, reg_lambda=0.0 will be ignored. Current value: lambda_l2=0\n",
      "[LightGBM] [Warning] feature_fraction is set=0.8500000000000001, colsample_bytree=1.0 will be ignored. Current value: feature_fraction=0.8500000000000001\n",
      "[LightGBM] [Warning] min_data_in_leaf is set=80, min_child_samples=20 will be ignored. Current value: min_data_in_leaf=80\n",
      "[LightGBM] [Warning] bagging_freq is set=1, subsample_freq=0 will be ignored. Current value: bagging_freq=1\n"
     ]
    },
    {
     "name": "stderr",
     "output_type": "stream",
     "text": [
      "\u001b[32m[I 2022-05-08 20:45:46,286]\u001b[0m Trial 32 finished with value: 0.2611216331243457 and parameters: {'n_estimators': 10000, 'learning_rate': 0.05, 'num_leaves': 210, 'max_depth': 12, 'min_data_in_leaf': 80, 'lambda_l1': 0, 'lambda_l2': 0, 'min_gain_to_split': 2.0, 'bagging_fraction': 0.95, 'bagging_freq': 1, 'feature_fraction': 0.8500000000000001}. Best is trial 27 with value: 0.24087001468860544.\u001b[0m\n"
     ]
    },
    {
     "name": "stdout",
     "output_type": "stream",
     "text": [
      "mean_loss 0.26112\n",
      "[LightGBM] [Warning] lambda_l1 is set=0, reg_alpha=0.0 will be ignored. Current value: lambda_l1=0\n",
      "[LightGBM] [Warning] bagging_fraction is set=0.95, subsample=1.0 will be ignored. Current value: bagging_fraction=0.95\n",
      "[LightGBM] [Warning] min_gain_to_split is set=2.0, min_split_gain=0.0 will be ignored. Current value: min_gain_to_split=2.0\n",
      "[LightGBM] [Warning] lambda_l2 is set=0, reg_lambda=0.0 will be ignored. Current value: lambda_l2=0\n",
      "[LightGBM] [Warning] feature_fraction is set=0.8500000000000001, colsample_bytree=1.0 will be ignored. Current value: feature_fraction=0.8500000000000001\n",
      "[LightGBM] [Warning] min_data_in_leaf is set=80, min_child_samples=20 will be ignored. Current value: min_data_in_leaf=80\n",
      "[LightGBM] [Warning] bagging_freq is set=1, subsample_freq=0 will be ignored. Current value: bagging_freq=1\n"
     ]
    },
    {
     "name": "stderr",
     "output_type": "stream",
     "text": [
      "\u001b[32m[I 2022-05-08 20:45:46,804]\u001b[0m Trial 33 finished with value: 0.2611216331243457 and parameters: {'n_estimators': 10000, 'learning_rate': 0.05, 'num_leaves': 210, 'max_depth': 12, 'min_data_in_leaf': 80, 'lambda_l1': 0, 'lambda_l2': 0, 'min_gain_to_split': 2.0, 'bagging_fraction': 0.95, 'bagging_freq': 1, 'feature_fraction': 0.8500000000000001}. Best is trial 27 with value: 0.24087001468860544.\u001b[0m\n"
     ]
    },
    {
     "name": "stdout",
     "output_type": "stream",
     "text": [
      "mean_loss 0.26112\n",
      "[LightGBM] [Warning] lambda_l1 is set=0, reg_alpha=0.0 will be ignored. Current value: lambda_l1=0\n",
      "[LightGBM] [Warning] bagging_fraction is set=0.95, subsample=1.0 will be ignored. Current value: bagging_fraction=0.95\n",
      "[LightGBM] [Warning] min_gain_to_split is set=2.0, min_split_gain=0.0 will be ignored. Current value: min_gain_to_split=2.0\n",
      "[LightGBM] [Warning] lambda_l2 is set=0, reg_lambda=0.0 will be ignored. Current value: lambda_l2=0\n",
      "[LightGBM] [Warning] feature_fraction is set=0.8500000000000001, colsample_bytree=1.0 will be ignored. Current value: feature_fraction=0.8500000000000001\n",
      "[LightGBM] [Warning] min_data_in_leaf is set=80, min_child_samples=20 will be ignored. Current value: min_data_in_leaf=80\n",
      "[LightGBM] [Warning] bagging_freq is set=1, subsample_freq=0 will be ignored. Current value: bagging_freq=1\n"
     ]
    },
    {
     "name": "stderr",
     "output_type": "stream",
     "text": [
      "\u001b[32m[I 2022-05-08 20:45:47,323]\u001b[0m Trial 34 finished with value: 0.2611216331243457 and parameters: {'n_estimators': 10000, 'learning_rate': 0.05, 'num_leaves': 210, 'max_depth': 12, 'min_data_in_leaf': 80, 'lambda_l1': 0, 'lambda_l2': 0, 'min_gain_to_split': 2.0, 'bagging_fraction': 0.95, 'bagging_freq': 1, 'feature_fraction': 0.8500000000000001}. Best is trial 27 with value: 0.24087001468860544.\u001b[0m\n"
     ]
    },
    {
     "name": "stdout",
     "output_type": "stream",
     "text": [
      "mean_loss 0.26112\n",
      "[LightGBM] [Warning] lambda_l1 is set=20, reg_alpha=0.0 will be ignored. Current value: lambda_l1=20\n",
      "[LightGBM] [Warning] bagging_fraction is set=0.8500000000000001, subsample=1.0 will be ignored. Current value: bagging_fraction=0.8500000000000001\n",
      "[LightGBM] [Warning] min_gain_to_split is set=3.0, min_split_gain=0.0 will be ignored. Current value: min_gain_to_split=3.0\n",
      "[LightGBM] [Warning] lambda_l2 is set=0, reg_lambda=0.0 will be ignored. Current value: lambda_l2=0\n",
      "[LightGBM] [Warning] feature_fraction is set=0.95, colsample_bytree=1.0 will be ignored. Current value: feature_fraction=0.95\n",
      "[LightGBM] [Warning] min_data_in_leaf is set=120, min_child_samples=20 will be ignored. Current value: min_data_in_leaf=120\n",
      "[LightGBM] [Warning] bagging_freq is set=1, subsample_freq=0 will be ignored. Current value: bagging_freq=1\n"
     ]
    },
    {
     "name": "stderr",
     "output_type": "stream",
     "text": [
      "\u001b[32m[I 2022-05-08 20:45:47,648]\u001b[0m Trial 35 finished with value: 0.2693789310947878 and parameters: {'n_estimators': 10000, 'learning_rate': 0.05, 'num_leaves': 210, 'max_depth': 11, 'min_data_in_leaf': 120, 'lambda_l1': 20, 'lambda_l2': 0, 'min_gain_to_split': 3.0, 'bagging_fraction': 0.8500000000000001, 'bagging_freq': 1, 'feature_fraction': 0.95}. Best is trial 27 with value: 0.24087001468860544.\u001b[0m\n",
      "\u001b[32m[I 2022-05-08 20:45:47,711]\u001b[0m Trial 36 pruned. Trial was pruned at iteration 2.\u001b[0m\n"
     ]
    },
    {
     "name": "stdout",
     "output_type": "stream",
     "text": [
      "mean_loss 0.26938\n",
      "[LightGBM] [Warning] lambda_l1 is set=20, reg_alpha=0.0 will be ignored. Current value: lambda_l1=20\n",
      "[LightGBM] [Warning] bagging_fraction is set=0.95, subsample=1.0 will be ignored. Current value: bagging_fraction=0.95\n",
      "[LightGBM] [Warning] min_gain_to_split is set=2.0, min_split_gain=0.0 will be ignored. Current value: min_gain_to_split=2.0\n",
      "[LightGBM] [Warning] lambda_l2 is set=0, reg_lambda=0.0 will be ignored. Current value: lambda_l2=0\n",
      "[LightGBM] [Warning] feature_fraction is set=0.8500000000000001, colsample_bytree=1.0 will be ignored. Current value: feature_fraction=0.8500000000000001\n",
      "[LightGBM] [Warning] min_data_in_leaf is set=100, min_child_samples=20 will be ignored. Current value: min_data_in_leaf=100\n",
      "[LightGBM] [Warning] bagging_freq is set=1, subsample_freq=0 will be ignored. Current value: bagging_freq=1\n"
     ]
    },
    {
     "name": "stderr",
     "output_type": "stream",
     "text": [
      "\u001b[32m[I 2022-05-08 20:45:48,259]\u001b[0m Trial 37 finished with value: 0.2604856532355624 and parameters: {'n_estimators': 10000, 'learning_rate': 0.05, 'num_leaves': 180, 'max_depth': 12, 'min_data_in_leaf': 60, 'lambda_l1': 0, 'lambda_l2': 0, 'min_gain_to_split': 2.0, 'bagging_fraction': 0.8500000000000001, 'bagging_freq': 1, 'feature_fraction': 0.75}. Best is trial 27 with value: 0.24087001468860544.\u001b[0m\n",
      "\u001b[32m[I 2022-05-08 20:45:48,322]\u001b[0m Trial 38 pruned. Trial was pruned at iteration 2.\u001b[0m\n",
      "\u001b[32m[I 2022-05-08 20:45:48,378]\u001b[0m Trial 39 pruned. Trial was pruned at iteration 0.\u001b[0m\n",
      "\u001b[32m[I 2022-05-08 20:45:48,453]\u001b[0m Trial 40 pruned. Trial was pruned at iteration 0.\u001b[0m\n"
     ]
    },
    {
     "name": "stdout",
     "output_type": "stream",
     "text": [
      "mean_loss 0.26049\n",
      "[LightGBM] [Warning] lambda_l1 is set=0, reg_alpha=0.0 will be ignored. Current value: lambda_l1=0\n",
      "[LightGBM] [Warning] bagging_fraction is set=0.8500000000000001, subsample=1.0 will be ignored. Current value: bagging_fraction=0.8500000000000001\n",
      "[LightGBM] [Warning] min_gain_to_split is set=3.0, min_split_gain=0.0 will be ignored. Current value: min_gain_to_split=3.0\n",
      "[LightGBM] [Warning] lambda_l2 is set=20, reg_lambda=0.0 will be ignored. Current value: lambda_l2=20\n",
      "[LightGBM] [Warning] feature_fraction is set=0.75, colsample_bytree=1.0 will be ignored. Current value: feature_fraction=0.75\n",
      "[LightGBM] [Warning] min_data_in_leaf is set=60, min_child_samples=20 will be ignored. Current value: min_data_in_leaf=60\n",
      "[LightGBM] [Warning] bagging_freq is set=1, subsample_freq=0 will be ignored. Current value: bagging_freq=1\n"
     ]
    },
    {
     "name": "stderr",
     "output_type": "stream",
     "text": [
      "\u001b[32m[I 2022-05-08 20:45:49,094]\u001b[0m Trial 41 finished with value: 0.2611216331243457 and parameters: {'n_estimators': 10000, 'learning_rate': 0.05, 'num_leaves': 210, 'max_depth': 12, 'min_data_in_leaf': 80, 'lambda_l1': 0, 'lambda_l2': 0, 'min_gain_to_split': 2.0, 'bagging_fraction': 0.95, 'bagging_freq': 1, 'feature_fraction': 0.8500000000000001}. Best is trial 27 with value: 0.24087001468860544.\u001b[0m\n"
     ]
    },
    {
     "name": "stdout",
     "output_type": "stream",
     "text": [
      "mean_loss 0.26112\n",
      "[LightGBM] [Warning] lambda_l1 is set=0, reg_alpha=0.0 will be ignored. Current value: lambda_l1=0\n",
      "[LightGBM] [Warning] bagging_fraction is set=0.95, subsample=1.0 will be ignored. Current value: bagging_fraction=0.95\n",
      "[LightGBM] [Warning] min_gain_to_split is set=2.0, min_split_gain=0.0 will be ignored. Current value: min_gain_to_split=2.0\n",
      "[LightGBM] [Warning] lambda_l2 is set=0, reg_lambda=0.0 will be ignored. Current value: lambda_l2=0\n",
      "[LightGBM] [Warning] feature_fraction is set=0.8500000000000001, colsample_bytree=1.0 will be ignored. Current value: feature_fraction=0.8500000000000001\n",
      "[LightGBM] [Warning] min_data_in_leaf is set=100, min_child_samples=20 will be ignored. Current value: min_data_in_leaf=100\n",
      "[LightGBM] [Warning] bagging_freq is set=1, subsample_freq=0 will be ignored. Current value: bagging_freq=1\n"
     ]
    },
    {
     "name": "stderr",
     "output_type": "stream",
     "text": [
      "\u001b[32m[I 2022-05-08 20:45:49,634]\u001b[0m Trial 42 finished with value: 0.2627158427106495 and parameters: {'n_estimators': 10000, 'learning_rate': 0.05, 'num_leaves': 210, 'max_depth': 12, 'min_data_in_leaf': 100, 'lambda_l1': 0, 'lambda_l2': 0, 'min_gain_to_split': 2.0, 'bagging_fraction': 0.95, 'bagging_freq': 1, 'feature_fraction': 0.8500000000000001}. Best is trial 27 with value: 0.24087001468860544.\u001b[0m\n"
     ]
    },
    {
     "name": "stdout",
     "output_type": "stream",
     "text": [
      "mean_loss 0.26272\n",
      "[LightGBM] [Warning] lambda_l1 is set=20, reg_alpha=0.0 will be ignored. Current value: lambda_l1=20\n",
      "[LightGBM] [Warning] bagging_fraction is set=0.8500000000000001, subsample=1.0 will be ignored. Current value: bagging_fraction=0.8500000000000001\n",
      "[LightGBM] [Warning] min_gain_to_split is set=3.0, min_split_gain=0.0 will be ignored. Current value: min_gain_to_split=3.0\n",
      "[LightGBM] [Warning] lambda_l2 is set=0, reg_lambda=0.0 will be ignored. Current value: lambda_l2=0\n",
      "[LightGBM] [Warning] feature_fraction is set=0.95, colsample_bytree=1.0 will be ignored. Current value: feature_fraction=0.95\n",
      "[LightGBM] [Warning] min_data_in_leaf is set=60, min_child_samples=20 will be ignored. Current value: min_data_in_leaf=60\n",
      "[LightGBM] [Warning] bagging_freq is set=1, subsample_freq=0 will be ignored. Current value: bagging_freq=1\n"
     ]
    },
    {
     "name": "stderr",
     "output_type": "stream",
     "text": [
      "\u001b[32m[I 2022-05-08 20:45:50,050]\u001b[0m Trial 43 finished with value: 0.2677442967192801 and parameters: {'n_estimators': 10000, 'learning_rate': 0.05, 'num_leaves': 210, 'max_depth': 11, 'min_data_in_leaf': 60, 'lambda_l1': 20, 'lambda_l2': 0, 'min_gain_to_split': 3.0, 'bagging_fraction': 0.8500000000000001, 'bagging_freq': 1, 'feature_fraction': 0.95}. Best is trial 27 with value: 0.24087001468860544.\u001b[0m\n",
      "\u001b[32m[I 2022-05-08 20:45:50,112]\u001b[0m Trial 44 pruned. Trial was pruned at iteration 0.\u001b[0m\n",
      "\u001b[32m[I 2022-05-08 20:45:50,187]\u001b[0m Trial 45 pruned. Trial was pruned at iteration 2.\u001b[0m\n"
     ]
    },
    {
     "name": "stdout",
     "output_type": "stream",
     "text": [
      "mean_loss 0.26774\n",
      "[LightGBM] [Warning] lambda_l1 is set=0, reg_alpha=0.0 will be ignored. Current value: lambda_l1=0\n",
      "[LightGBM] [Warning] bagging_fraction is set=0.95, subsample=1.0 will be ignored. Current value: bagging_fraction=0.95\n",
      "[LightGBM] [Warning] min_gain_to_split is set=2.0, min_split_gain=0.0 will be ignored. Current value: min_gain_to_split=2.0\n",
      "[LightGBM] [Warning] lambda_l2 is set=100, reg_lambda=0.0 will be ignored. Current value: lambda_l2=100\n",
      "[LightGBM] [Warning] feature_fraction is set=0.8500000000000001, colsample_bytree=1.0 will be ignored. Current value: feature_fraction=0.8500000000000001\n",
      "[LightGBM] [Warning] min_data_in_leaf is set=80, min_child_samples=20 will be ignored. Current value: min_data_in_leaf=80\n",
      "[LightGBM] [Warning] bagging_freq is set=1, subsample_freq=0 will be ignored. Current value: bagging_freq=1\n"
     ]
    },
    {
     "name": "stderr",
     "output_type": "stream",
     "text": [
      "\u001b[32m[I 2022-05-08 20:45:50,262]\u001b[0m Trial 46 pruned. Trial was pruned at iteration 0.\u001b[0m\n",
      "\u001b[32m[I 2022-05-08 20:45:50,324]\u001b[0m Trial 47 pruned. Trial was pruned at iteration 0.\u001b[0m\n",
      "\u001b[32m[I 2022-05-08 20:45:50,392]\u001b[0m Trial 48 pruned. Trial was pruned at iteration 0.\u001b[0m\n",
      "\u001b[32m[I 2022-05-08 20:45:50,455]\u001b[0m Trial 49 pruned. Trial was pruned at iteration 0.\u001b[0m\n",
      "\u001b[32m[I 2022-05-08 20:45:51,123]\u001b[0m Trial 50 finished with value: 0.2505512937669703 and parameters: {'n_estimators': 10000, 'learning_rate': 0.05, 'num_leaves': 210, 'max_depth': 11, 'min_data_in_leaf': 120, 'lambda_l1': 0, 'lambda_l2': 0, 'min_gain_to_split': 3.0, 'bagging_fraction': 0.95, 'bagging_freq': 1, 'feature_fraction': 0.95}. Best is trial 27 with value: 0.24087001468860544.\u001b[0m\n"
     ]
    },
    {
     "name": "stdout",
     "output_type": "stream",
     "text": [
      "mean_loss 0.25055\n",
      "[LightGBM] [Warning] lambda_l1 is set=0, reg_alpha=0.0 will be ignored. Current value: lambda_l1=0\n",
      "[LightGBM] [Warning] bagging_fraction is set=0.95, subsample=1.0 will be ignored. Current value: bagging_fraction=0.95\n",
      "[LightGBM] [Warning] min_gain_to_split is set=3.0, min_split_gain=0.0 will be ignored. Current value: min_gain_to_split=3.0\n",
      "[LightGBM] [Warning] lambda_l2 is set=0, reg_lambda=0.0 will be ignored. Current value: lambda_l2=0\n",
      "[LightGBM] [Warning] feature_fraction is set=0.95, colsample_bytree=1.0 will be ignored. Current value: feature_fraction=0.95\n",
      "[LightGBM] [Warning] min_data_in_leaf is set=120, min_child_samples=20 will be ignored. Current value: min_data_in_leaf=120\n",
      "[LightGBM] [Warning] bagging_freq is set=1, subsample_freq=0 will be ignored. Current value: bagging_freq=1\n"
     ]
    },
    {
     "name": "stderr",
     "output_type": "stream",
     "text": [
      "\u001b[32m[I 2022-05-08 20:45:51,619]\u001b[0m Trial 51 finished with value: 0.2505512937669703 and parameters: {'n_estimators': 10000, 'learning_rate': 0.05, 'num_leaves': 210, 'max_depth': 11, 'min_data_in_leaf': 120, 'lambda_l1': 0, 'lambda_l2': 0, 'min_gain_to_split': 3.0, 'bagging_fraction': 0.95, 'bagging_freq': 1, 'feature_fraction': 0.95}. Best is trial 27 with value: 0.24087001468860544.\u001b[0m\n"
     ]
    },
    {
     "name": "stdout",
     "output_type": "stream",
     "text": [
      "mean_loss 0.25055\n",
      "[LightGBM] [Warning] lambda_l1 is set=0, reg_alpha=0.0 will be ignored. Current value: lambda_l1=0\n",
      "[LightGBM] [Warning] bagging_fraction is set=0.95, subsample=1.0 will be ignored. Current value: bagging_fraction=0.95\n",
      "[LightGBM] [Warning] min_gain_to_split is set=3.0, min_split_gain=0.0 will be ignored. Current value: min_gain_to_split=3.0\n",
      "[LightGBM] [Warning] lambda_l2 is set=0, reg_lambda=0.0 will be ignored. Current value: lambda_l2=0\n",
      "[LightGBM] [Warning] feature_fraction is set=0.95, colsample_bytree=1.0 will be ignored. Current value: feature_fraction=0.95\n",
      "[LightGBM] [Warning] min_data_in_leaf is set=120, min_child_samples=20 will be ignored. Current value: min_data_in_leaf=120\n",
      "[LightGBM] [Warning] bagging_freq is set=1, subsample_freq=0 will be ignored. Current value: bagging_freq=1\n"
     ]
    },
    {
     "name": "stderr",
     "output_type": "stream",
     "text": [
      "\u001b[32m[I 2022-05-08 20:45:52,151]\u001b[0m Trial 52 finished with value: 0.2505512937669703 and parameters: {'n_estimators': 10000, 'learning_rate': 0.05, 'num_leaves': 210, 'max_depth': 11, 'min_data_in_leaf': 120, 'lambda_l1': 0, 'lambda_l2': 0, 'min_gain_to_split': 3.0, 'bagging_fraction': 0.95, 'bagging_freq': 1, 'feature_fraction': 0.95}. Best is trial 27 with value: 0.24087001468860544.\u001b[0m\n"
     ]
    },
    {
     "name": "stdout",
     "output_type": "stream",
     "text": [
      "mean_loss 0.25055\n",
      "[LightGBM] [Warning] lambda_l1 is set=0, reg_alpha=0.0 will be ignored. Current value: lambda_l1=0\n",
      "[LightGBM] [Warning] bagging_fraction is set=0.95, subsample=1.0 will be ignored. Current value: bagging_fraction=0.95\n",
      "[LightGBM] [Warning] min_gain_to_split is set=3.0, min_split_gain=0.0 will be ignored. Current value: min_gain_to_split=3.0\n",
      "[LightGBM] [Warning] lambda_l2 is set=0, reg_lambda=0.0 will be ignored. Current value: lambda_l2=0\n",
      "[LightGBM] [Warning] feature_fraction is set=0.95, colsample_bytree=1.0 will be ignored. Current value: feature_fraction=0.95\n",
      "[LightGBM] [Warning] min_data_in_leaf is set=120, min_child_samples=20 will be ignored. Current value: min_data_in_leaf=120\n",
      "[LightGBM] [Warning] bagging_freq is set=1, subsample_freq=0 will be ignored. Current value: bagging_freq=1\n"
     ]
    },
    {
     "name": "stderr",
     "output_type": "stream",
     "text": [
      "\u001b[32m[I 2022-05-08 20:45:52,877]\u001b[0m Trial 53 finished with value: 0.2505512937669703 and parameters: {'n_estimators': 10000, 'learning_rate': 0.05, 'num_leaves': 150, 'max_depth': 11, 'min_data_in_leaf': 120, 'lambda_l1': 0, 'lambda_l2': 0, 'min_gain_to_split': 3.0, 'bagging_fraction': 0.95, 'bagging_freq': 1, 'feature_fraction': 0.95}. Best is trial 27 with value: 0.24087001468860544.\u001b[0m\n",
      "\u001b[32m[I 2022-05-08 20:45:52,934]\u001b[0m Trial 54 pruned. Trial was pruned at iteration 0.\u001b[0m\n"
     ]
    },
    {
     "name": "stdout",
     "output_type": "stream",
     "text": [
      "mean_loss 0.25055\n",
      "[LightGBM] [Warning] lambda_l1 is set=20, reg_alpha=0.0 will be ignored. Current value: lambda_l1=20\n",
      "[LightGBM] [Warning] bagging_fraction is set=0.95, subsample=1.0 will be ignored. Current value: bagging_fraction=0.95\n",
      "[LightGBM] [Warning] min_gain_to_split is set=3.0, min_split_gain=0.0 will be ignored. Current value: min_gain_to_split=3.0\n",
      "[LightGBM] [Warning] lambda_l2 is set=20, reg_lambda=0.0 will be ignored. Current value: lambda_l2=20\n",
      "[LightGBM] [Warning] feature_fraction is set=0.95, colsample_bytree=1.0 will be ignored. Current value: feature_fraction=0.95\n",
      "[LightGBM] [Warning] min_data_in_leaf is set=120, min_child_samples=20 will be ignored. Current value: min_data_in_leaf=120\n",
      "[LightGBM] [Warning] bagging_freq is set=1, subsample_freq=0 will be ignored. Current value: bagging_freq=1\n"
     ]
    },
    {
     "name": "stderr",
     "output_type": "stream",
     "text": [
      "\u001b[32m[I 2022-05-08 20:45:53,385]\u001b[0m Trial 55 finished with value: 0.2511236981380413 and parameters: {'n_estimators': 10000, 'learning_rate': 0.05, 'num_leaves': 150, 'max_depth': 10, 'min_data_in_leaf': 120, 'lambda_l1': 0, 'lambda_l2': 0, 'min_gain_to_split': 4.0, 'bagging_fraction': 0.95, 'bagging_freq': 1, 'feature_fraction': 0.95}. Best is trial 27 with value: 0.24087001468860544.\u001b[0m\n",
      "\u001b[32m[I 2022-05-08 20:45:53,447]\u001b[0m Trial 56 pruned. Trial was pruned at iteration 0.\u001b[0m\n",
      "\u001b[32m[I 2022-05-08 20:45:53,507]\u001b[0m Trial 57 pruned. Trial was pruned at iteration 0.\u001b[0m\n",
      "\u001b[32m[I 2022-05-08 20:45:53,573]\u001b[0m Trial 58 pruned. Trial was pruned at iteration 0.\u001b[0m\n"
     ]
    },
    {
     "name": "stdout",
     "output_type": "stream",
     "text": [
      "mean_loss 0.25112\n",
      "[LightGBM] [Warning] lambda_l1 is set=20, reg_alpha=0.0 will be ignored. Current value: lambda_l1=20\n",
      "[LightGBM] [Warning] bagging_fraction is set=0.95, subsample=1.0 will be ignored. Current value: bagging_fraction=0.95\n",
      "[LightGBM] [Warning] min_gain_to_split is set=3.0, min_split_gain=0.0 will be ignored. Current value: min_gain_to_split=3.0\n",
      "[LightGBM] [Warning] lambda_l2 is set=0, reg_lambda=0.0 will be ignored. Current value: lambda_l2=0\n",
      "[LightGBM] [Warning] feature_fraction is set=0.95, colsample_bytree=1.0 will be ignored. Current value: feature_fraction=0.95\n",
      "[LightGBM] [Warning] min_data_in_leaf is set=120, min_child_samples=20 will be ignored. Current value: min_data_in_leaf=120\n",
      "[LightGBM] [Warning] bagging_freq is set=1, subsample_freq=0 will be ignored. Current value: bagging_freq=1\n"
     ]
    },
    {
     "name": "stderr",
     "output_type": "stream",
     "text": [
      "\u001b[32m[I 2022-05-08 20:45:53,645]\u001b[0m Trial 59 pruned. Trial was pruned at iteration 0.\u001b[0m\n",
      "\u001b[32m[I 2022-05-08 20:45:53,707]\u001b[0m Trial 60 pruned. Trial was pruned at iteration 0.\u001b[0m\n",
      "\u001b[32m[I 2022-05-08 20:45:54,348]\u001b[0m Trial 61 finished with value: 0.2511236981380413 and parameters: {'n_estimators': 10000, 'learning_rate': 0.05, 'num_leaves': 150, 'max_depth': 10, 'min_data_in_leaf': 120, 'lambda_l1': 0, 'lambda_l2': 0, 'min_gain_to_split': 4.0, 'bagging_fraction': 0.95, 'bagging_freq': 1, 'feature_fraction': 0.95}. Best is trial 27 with value: 0.24087001468860544.\u001b[0m\n",
      "\u001b[32m[I 2022-05-08 20:45:54,416]\u001b[0m Trial 62 pruned. Trial was pruned at iteration 1.\u001b[0m\n",
      "\u001b[32m[I 2022-05-08 20:45:54,489]\u001b[0m Trial 63 pruned. Trial was pruned at iteration 1.\u001b[0m\n"
     ]
    },
    {
     "name": "stdout",
     "output_type": "stream",
     "text": [
      "mean_loss 0.25112\n",
      "[LightGBM] [Warning] lambda_l1 is set=0, reg_alpha=0.0 will be ignored. Current value: lambda_l1=0\n",
      "[LightGBM] [Warning] bagging_fraction is set=0.95, subsample=1.0 will be ignored. Current value: bagging_fraction=0.95\n",
      "[LightGBM] [Warning] min_gain_to_split is set=4.0, min_split_gain=0.0 will be ignored. Current value: min_gain_to_split=4.0\n",
      "[LightGBM] [Warning] lambda_l2 is set=0, reg_lambda=0.0 will be ignored. Current value: lambda_l2=0\n",
      "[LightGBM] [Warning] feature_fraction is set=0.95, colsample_bytree=1.0 will be ignored. Current value: feature_fraction=0.95\n",
      "[LightGBM] [Warning] min_data_in_leaf is set=120, min_child_samples=20 will be ignored. Current value: min_data_in_leaf=120\n",
      "[LightGBM] [Warning] bagging_freq is set=1, subsample_freq=0 will be ignored. Current value: bagging_freq=1\n"
     ]
    },
    {
     "name": "stderr",
     "output_type": "stream",
     "text": [
      "\u001b[32m[I 2022-05-08 20:45:54,894]\u001b[0m Trial 64 finished with value: 0.2511236981380413 and parameters: {'n_estimators': 10000, 'learning_rate': 0.05, 'num_leaves': 180, 'max_depth': 10, 'min_data_in_leaf': 120, 'lambda_l1': 0, 'lambda_l2': 0, 'min_gain_to_split': 4.0, 'bagging_fraction': 0.95, 'bagging_freq': 1, 'feature_fraction': 0.95}. Best is trial 27 with value: 0.24087001468860544.\u001b[0m\n"
     ]
    },
    {
     "name": "stdout",
     "output_type": "stream",
     "text": [
      "mean_loss 0.25112\n",
      "[LightGBM] [Warning] lambda_l1 is set=0, reg_alpha=0.0 will be ignored. Current value: lambda_l1=0\n",
      "[LightGBM] [Warning] bagging_fraction is set=0.8500000000000001, subsample=1.0 will be ignored. Current value: bagging_fraction=0.8500000000000001\n",
      "[LightGBM] [Warning] min_gain_to_split is set=3.0, min_split_gain=0.0 will be ignored. Current value: min_gain_to_split=3.0\n",
      "[LightGBM] [Warning] lambda_l2 is set=0, reg_lambda=0.0 will be ignored. Current value: lambda_l2=0\n",
      "[LightGBM] [Warning] feature_fraction is set=0.95, colsample_bytree=1.0 will be ignored. Current value: feature_fraction=0.95\n",
      "[LightGBM] [Warning] min_data_in_leaf is set=100, min_child_samples=20 will be ignored. Current value: min_data_in_leaf=100\n",
      "[LightGBM] [Warning] bagging_freq is set=1, subsample_freq=0 will be ignored. Current value: bagging_freq=1\n"
     ]
    },
    {
     "name": "stderr",
     "output_type": "stream",
     "text": [
      "\u001b[32m[I 2022-05-08 20:45:55,574]\u001b[0m Trial 65 finished with value: 0.24928636150935984 and parameters: {'n_estimators': 10000, 'learning_rate': 0.05, 'num_leaves': 180, 'max_depth': 10, 'min_data_in_leaf': 100, 'lambda_l1': 0, 'lambda_l2': 0, 'min_gain_to_split': 3.0, 'bagging_fraction': 0.8500000000000001, 'bagging_freq': 1, 'feature_fraction': 0.95}. Best is trial 27 with value: 0.24087001468860544.\u001b[0m\n",
      "\u001b[32m[I 2022-05-08 20:45:55,685]\u001b[0m Trial 66 pruned. Trial was pruned at iteration 0.\u001b[0m\n"
     ]
    },
    {
     "name": "stdout",
     "output_type": "stream",
     "text": [
      "mean_loss 0.24929\n",
      "[LightGBM] [Warning] lambda_l1 is set=20, reg_alpha=0.0 will be ignored. Current value: lambda_l1=20\n",
      "[LightGBM] [Warning] bagging_fraction is set=0.8500000000000001, subsample=1.0 will be ignored. Current value: bagging_fraction=0.8500000000000001\n",
      "[LightGBM] [Warning] min_gain_to_split is set=3.0, min_split_gain=0.0 will be ignored. Current value: min_gain_to_split=3.0\n",
      "[LightGBM] [Warning] lambda_l2 is set=0, reg_lambda=0.0 will be ignored. Current value: lambda_l2=0\n",
      "[LightGBM] [Warning] feature_fraction is set=0.95, colsample_bytree=1.0 will be ignored. Current value: feature_fraction=0.95\n",
      "[LightGBM] [Warning] min_data_in_leaf is set=100, min_child_samples=20 will be ignored. Current value: min_data_in_leaf=100\n",
      "[LightGBM] [Warning] bagging_freq is set=1, subsample_freq=0 will be ignored. Current value: bagging_freq=1\n"
     ]
    },
    {
     "name": "stderr",
     "output_type": "stream",
     "text": [
      "\u001b[32m[I 2022-05-08 20:45:55,794]\u001b[0m Trial 67 pruned. Trial was pruned at iteration 0.\u001b[0m\n",
      "\u001b[32m[I 2022-05-08 20:45:55,881]\u001b[0m Trial 68 pruned. Trial was pruned at iteration 0.\u001b[0m\n",
      "\u001b[32m[I 2022-05-08 20:45:55,946]\u001b[0m Trial 69 pruned. Trial was pruned at iteration 0.\u001b[0m\n",
      "\u001b[32m[I 2022-05-08 20:45:56,021]\u001b[0m Trial 70 pruned. Trial was pruned at iteration 0.\u001b[0m\n",
      "\u001b[32m[I 2022-05-08 20:45:56,400]\u001b[0m Trial 71 finished with value: 0.2511236981380413 and parameters: {'n_estimators': 10000, 'learning_rate': 0.05, 'num_leaves': 180, 'max_depth': 10, 'min_data_in_leaf': 120, 'lambda_l1': 0, 'lambda_l2': 0, 'min_gain_to_split': 4.0, 'bagging_fraction': 0.95, 'bagging_freq': 1, 'feature_fraction': 0.95}. Best is trial 27 with value: 0.24087001468860544.\u001b[0m\n",
      "\u001b[32m[I 2022-05-08 20:45:56,474]\u001b[0m Trial 72 pruned. Trial was pruned at iteration 1.\u001b[0m\n",
      "\u001b[32m[I 2022-05-08 20:45:56,540]\u001b[0m Trial 73 pruned. Trial was pruned at iteration 0.\u001b[0m\n"
     ]
    },
    {
     "name": "stdout",
     "output_type": "stream",
     "text": [
      "mean_loss 0.25112\n",
      "[LightGBM] [Warning] lambda_l1 is set=0, reg_alpha=0.0 will be ignored. Current value: lambda_l1=0\n",
      "[LightGBM] [Warning] bagging_fraction is set=0.95, subsample=1.0 will be ignored. Current value: bagging_fraction=0.95\n",
      "[LightGBM] [Warning] min_gain_to_split is set=0.0, min_split_gain=0.0 will be ignored. Current value: min_gain_to_split=0.0\n",
      "[LightGBM] [Warning] lambda_l2 is set=0, reg_lambda=0.0 will be ignored. Current value: lambda_l2=0\n",
      "[LightGBM] [Warning] feature_fraction is set=0.95, colsample_bytree=1.0 will be ignored. Current value: feature_fraction=0.95\n",
      "[LightGBM] [Warning] min_data_in_leaf is set=120, min_child_samples=20 will be ignored. Current value: min_data_in_leaf=120\n",
      "[LightGBM] [Warning] bagging_freq is set=1, subsample_freq=0 will be ignored. Current value: bagging_freq=1\n"
     ]
    },
    {
     "name": "stderr",
     "output_type": "stream",
     "text": [
      "\u001b[32m[I 2022-05-08 20:45:56,941]\u001b[0m Trial 74 finished with value: 0.24917453394044042 and parameters: {'n_estimators': 10000, 'learning_rate': 0.05, 'num_leaves': 210, 'max_depth': 11, 'min_data_in_leaf': 100, 'lambda_l1': 0, 'lambda_l2': 0, 'min_gain_to_split': 4.0, 'bagging_fraction': 0.8500000000000001, 'bagging_freq': 1, 'feature_fraction': 0.95}. Best is trial 27 with value: 0.24087001468860544.\u001b[0m\n"
     ]
    },
    {
     "name": "stdout",
     "output_type": "stream",
     "text": [
      "mean_loss 0.24917\n",
      "[LightGBM] [Warning] lambda_l1 is set=0, reg_alpha=0.0 will be ignored. Current value: lambda_l1=0\n",
      "[LightGBM] [Warning] bagging_fraction is set=0.8500000000000001, subsample=1.0 will be ignored. Current value: bagging_fraction=0.8500000000000001\n",
      "[LightGBM] [Warning] min_gain_to_split is set=3.0, min_split_gain=0.0 will be ignored. Current value: min_gain_to_split=3.0\n",
      "[LightGBM] [Warning] lambda_l2 is set=0, reg_lambda=0.0 will be ignored. Current value: lambda_l2=0\n",
      "[LightGBM] [Warning] feature_fraction is set=0.95, colsample_bytree=1.0 will be ignored. Current value: feature_fraction=0.95\n",
      "[LightGBM] [Warning] min_data_in_leaf is set=100, min_child_samples=20 will be ignored. Current value: min_data_in_leaf=100\n",
      "[LightGBM] [Warning] bagging_freq is set=1, subsample_freq=0 will be ignored. Current value: bagging_freq=1\n"
     ]
    },
    {
     "name": "stderr",
     "output_type": "stream",
     "text": [
      "\u001b[32m[I 2022-05-08 20:45:57,379]\u001b[0m Trial 75 finished with value: 0.24886691185207527 and parameters: {'n_estimators': 10000, 'learning_rate': 0.05, 'num_leaves': 210, 'max_depth': 11, 'min_data_in_leaf': 100, 'lambda_l1': 0, 'lambda_l2': 0, 'min_gain_to_split': 3.0, 'bagging_fraction': 0.8500000000000001, 'bagging_freq': 1, 'feature_fraction': 0.95}. Best is trial 27 with value: 0.24087001468860544.\u001b[0m\n",
      "\u001b[32m[I 2022-05-08 20:45:57,448]\u001b[0m Trial 76 pruned. Trial was pruned at iteration 0.\u001b[0m\n",
      "\u001b[32m[I 2022-05-08 20:45:57,523]\u001b[0m Trial 77 pruned. Trial was pruned at iteration 1.\u001b[0m\n"
     ]
    },
    {
     "name": "stdout",
     "output_type": "stream",
     "text": [
      "mean_loss 0.24887\n",
      "[LightGBM] [Warning] lambda_l1 is set=60, reg_alpha=0.0 will be ignored. Current value: lambda_l1=60\n",
      "[LightGBM] [Warning] bagging_fraction is set=0.75, subsample=1.0 will be ignored. Current value: bagging_fraction=0.75\n",
      "[LightGBM] [Warning] min_gain_to_split is set=1.0, min_split_gain=0.0 will be ignored. Current value: min_gain_to_split=1.0\n",
      "[LightGBM] [Warning] lambda_l2 is set=0, reg_lambda=0.0 will be ignored. Current value: lambda_l2=0\n",
      "[LightGBM] [Warning] feature_fraction is set=0.8500000000000001, colsample_bytree=1.0 will be ignored. Current value: feature_fraction=0.8500000000000001\n",
      "[LightGBM] [Warning] min_data_in_leaf is set=100, min_child_samples=20 will be ignored. Current value: min_data_in_leaf=100\n",
      "[LightGBM] [Warning] bagging_freq is set=1, subsample_freq=0 will be ignored. Current value: bagging_freq=1\n"
     ]
    },
    {
     "name": "stderr",
     "output_type": "stream",
     "text": [
      "\u001b[32m[I 2022-05-08 20:45:57,605]\u001b[0m Trial 78 pruned. Trial was pruned at iteration 0.\u001b[0m\n",
      "\u001b[32m[I 2022-05-08 20:45:57,673]\u001b[0m Trial 79 pruned. Trial was pruned at iteration 0.\u001b[0m\n",
      "\u001b[32m[I 2022-05-08 20:45:57,747]\u001b[0m Trial 80 pruned. Trial was pruned at iteration 1.\u001b[0m\n",
      "\u001b[32m[I 2022-05-08 20:45:57,820]\u001b[0m Trial 81 pruned. Trial was pruned at iteration 0.\u001b[0m\n",
      "\u001b[32m[I 2022-05-08 20:45:58,321]\u001b[0m Trial 82 finished with value: 0.24886691185207527 and parameters: {'n_estimators': 10000, 'learning_rate': 0.05, 'num_leaves': 210, 'max_depth': 11, 'min_data_in_leaf': 100, 'lambda_l1': 0, 'lambda_l2': 0, 'min_gain_to_split': 3.0, 'bagging_fraction': 0.8500000000000001, 'bagging_freq': 1, 'feature_fraction': 0.95}. Best is trial 27 with value: 0.24087001468860544.\u001b[0m\n"
     ]
    },
    {
     "name": "stdout",
     "output_type": "stream",
     "text": [
      "mean_loss 0.24887\n",
      "[LightGBM] [Warning] lambda_l1 is set=0, reg_alpha=0.0 will be ignored. Current value: lambda_l1=0\n",
      "[LightGBM] [Warning] bagging_fraction is set=0.8500000000000001, subsample=1.0 will be ignored. Current value: bagging_fraction=0.8500000000000001\n",
      "[LightGBM] [Warning] min_gain_to_split is set=3.0, min_split_gain=0.0 will be ignored. Current value: min_gain_to_split=3.0\n",
      "[LightGBM] [Warning] lambda_l2 is set=0, reg_lambda=0.0 will be ignored. Current value: lambda_l2=0\n",
      "[LightGBM] [Warning] feature_fraction is set=0.95, colsample_bytree=1.0 will be ignored. Current value: feature_fraction=0.95\n",
      "[LightGBM] [Warning] min_data_in_leaf is set=100, min_child_samples=20 will be ignored. Current value: min_data_in_leaf=100\n",
      "[LightGBM] [Warning] bagging_freq is set=1, subsample_freq=0 will be ignored. Current value: bagging_freq=1\n"
     ]
    },
    {
     "name": "stderr",
     "output_type": "stream",
     "text": [
      "\u001b[32m[I 2022-05-08 20:45:59,052]\u001b[0m Trial 83 finished with value: 0.24886691185207527 and parameters: {'n_estimators': 10000, 'learning_rate': 0.05, 'num_leaves': 210, 'max_depth': 11, 'min_data_in_leaf': 100, 'lambda_l1': 0, 'lambda_l2': 0, 'min_gain_to_split': 3.0, 'bagging_fraction': 0.8500000000000001, 'bagging_freq': 1, 'feature_fraction': 0.95}. Best is trial 27 with value: 0.24087001468860544.\u001b[0m\n"
     ]
    },
    {
     "name": "stdout",
     "output_type": "stream",
     "text": [
      "mean_loss 0.24887\n",
      "[LightGBM] [Warning] lambda_l1 is set=0, reg_alpha=0.0 will be ignored. Current value: lambda_l1=0\n",
      "[LightGBM] [Warning] bagging_fraction is set=0.75, subsample=1.0 will be ignored. Current value: bagging_fraction=0.75\n",
      "[LightGBM] [Warning] min_gain_to_split is set=3.0, min_split_gain=0.0 will be ignored. Current value: min_gain_to_split=3.0\n",
      "[LightGBM] [Warning] lambda_l2 is set=0, reg_lambda=0.0 will be ignored. Current value: lambda_l2=0\n",
      "[LightGBM] [Warning] feature_fraction is set=0.95, colsample_bytree=1.0 will be ignored. Current value: feature_fraction=0.95\n",
      "[LightGBM] [Warning] min_data_in_leaf is set=100, min_child_samples=20 will be ignored. Current value: min_data_in_leaf=100\n",
      "[LightGBM] [Warning] bagging_freq is set=1, subsample_freq=0 will be ignored. Current value: bagging_freq=1\n"
     ]
    },
    {
     "name": "stderr",
     "output_type": "stream",
     "text": [
      "\u001b[32m[I 2022-05-08 20:45:59,783]\u001b[0m Trial 84 finished with value: 0.25014049757702056 and parameters: {'n_estimators': 10000, 'learning_rate': 0.05, 'num_leaves': 210, 'max_depth': 12, 'min_data_in_leaf': 100, 'lambda_l1': 0, 'lambda_l2': 0, 'min_gain_to_split': 3.0, 'bagging_fraction': 0.75, 'bagging_freq': 1, 'feature_fraction': 0.95}. Best is trial 27 with value: 0.24087001468860544.\u001b[0m\n",
      "\u001b[32m[I 2022-05-08 20:45:59,953]\u001b[0m Trial 85 pruned. Trial was pruned at iteration 1.\u001b[0m\n"
     ]
    },
    {
     "name": "stdout",
     "output_type": "stream",
     "text": [
      "mean_loss 0.25014\n",
      "[LightGBM] [Warning] lambda_l1 is set=0, reg_alpha=0.0 will be ignored. Current value: lambda_l1=0\n",
      "[LightGBM] [Warning] bagging_fraction is set=0.75, subsample=1.0 will be ignored. Current value: bagging_fraction=0.75\n",
      "[LightGBM] [Warning] min_gain_to_split is set=1.0, min_split_gain=0.0 will be ignored. Current value: min_gain_to_split=1.0\n",
      "[LightGBM] [Warning] lambda_l2 is set=0, reg_lambda=0.0 will be ignored. Current value: lambda_l2=0\n",
      "[LightGBM] [Warning] feature_fraction is set=0.8500000000000001, colsample_bytree=1.0 will be ignored. Current value: feature_fraction=0.8500000000000001\n",
      "[LightGBM] [Warning] min_data_in_leaf is set=100, min_child_samples=20 will be ignored. Current value: min_data_in_leaf=100\n",
      "[LightGBM] [Warning] bagging_freq is set=1, subsample_freq=0 will be ignored. Current value: bagging_freq=1\n"
     ]
    },
    {
     "name": "stderr",
     "output_type": "stream",
     "text": [
      "\u001b[32m[I 2022-05-08 20:46:00,164]\u001b[0m Trial 86 pruned. Trial was pruned at iteration 0.\u001b[0m\n",
      "\u001b[32m[I 2022-05-08 20:46:00,274]\u001b[0m Trial 87 pruned. Trial was pruned at iteration 0.\u001b[0m\n",
      "\u001b[32m[I 2022-05-08 20:46:01,349]\u001b[0m Trial 88 finished with value: 0.24907373492038423 and parameters: {'n_estimators': 10000, 'learning_rate': 0.05, 'num_leaves': 210, 'max_depth': 12, 'min_data_in_leaf': 100, 'lambda_l1': 0, 'lambda_l2': 0, 'min_gain_to_split': 4.0, 'bagging_fraction': 0.8500000000000001, 'bagging_freq': 1, 'feature_fraction': 0.95}. Best is trial 27 with value: 0.24087001468860544.\u001b[0m\n",
      "\u001b[32m[I 2022-05-08 20:46:01,412]\u001b[0m Trial 89 pruned. Trial was pruned at iteration 0.\u001b[0m\n",
      "\u001b[32m[I 2022-05-08 20:46:01,479]\u001b[0m Trial 90 pruned. Trial was pruned at iteration 1.\u001b[0m\n"
     ]
    },
    {
     "name": "stdout",
     "output_type": "stream",
     "text": [
      "mean_loss 0.24907\n",
      "[LightGBM] [Warning] lambda_l1 is set=0, reg_alpha=0.0 will be ignored. Current value: lambda_l1=0\n",
      "[LightGBM] [Warning] bagging_fraction is set=0.75, subsample=1.0 will be ignored. Current value: bagging_fraction=0.75\n",
      "[LightGBM] [Warning] min_gain_to_split is set=4.0, min_split_gain=0.0 will be ignored. Current value: min_gain_to_split=4.0\n",
      "[LightGBM] [Warning] lambda_l2 is set=100, reg_lambda=0.0 will be ignored. Current value: lambda_l2=100\n",
      "[LightGBM] [Warning] feature_fraction is set=0.95, colsample_bytree=1.0 will be ignored. Current value: feature_fraction=0.95\n",
      "[LightGBM] [Warning] min_data_in_leaf is set=100, min_child_samples=20 will be ignored. Current value: min_data_in_leaf=100\n",
      "[LightGBM] [Warning] bagging_freq is set=1, subsample_freq=0 will be ignored. Current value: bagging_freq=1\n"
     ]
    },
    {
     "name": "stderr",
     "output_type": "stream",
     "text": [
      "\u001b[32m[I 2022-05-08 20:46:02,084]\u001b[0m Trial 91 finished with value: 0.24917453394044042 and parameters: {'n_estimators': 10000, 'learning_rate': 0.05, 'num_leaves': 210, 'max_depth': 11, 'min_data_in_leaf': 100, 'lambda_l1': 0, 'lambda_l2': 0, 'min_gain_to_split': 4.0, 'bagging_fraction': 0.8500000000000001, 'bagging_freq': 1, 'feature_fraction': 0.95}. Best is trial 27 with value: 0.24087001468860544.\u001b[0m\n"
     ]
    },
    {
     "name": "stdout",
     "output_type": "stream",
     "text": [
      "mean_loss 0.24917\n",
      "[LightGBM] [Warning] lambda_l1 is set=0, reg_alpha=0.0 will be ignored. Current value: lambda_l1=0\n",
      "[LightGBM] [Warning] bagging_fraction is set=0.8500000000000001, subsample=1.0 will be ignored. Current value: bagging_fraction=0.8500000000000001\n",
      "[LightGBM] [Warning] min_gain_to_split is set=4.0, min_split_gain=0.0 will be ignored. Current value: min_gain_to_split=4.0\n",
      "[LightGBM] [Warning] lambda_l2 is set=0, reg_lambda=0.0 will be ignored. Current value: lambda_l2=0\n",
      "[LightGBM] [Warning] feature_fraction is set=0.95, colsample_bytree=1.0 will be ignored. Current value: feature_fraction=0.95\n",
      "[LightGBM] [Warning] min_data_in_leaf is set=100, min_child_samples=20 will be ignored. Current value: min_data_in_leaf=100\n",
      "[LightGBM] [Warning] bagging_freq is set=1, subsample_freq=0 will be ignored. Current value: bagging_freq=1\n"
     ]
    },
    {
     "name": "stderr",
     "output_type": "stream",
     "text": [
      "\u001b[32m[I 2022-05-08 20:46:02,625]\u001b[0m Trial 92 finished with value: 0.24907373492038423 and parameters: {'n_estimators': 10000, 'learning_rate': 0.05, 'num_leaves': 210, 'max_depth': 12, 'min_data_in_leaf': 100, 'lambda_l1': 0, 'lambda_l2': 0, 'min_gain_to_split': 4.0, 'bagging_fraction': 0.8500000000000001, 'bagging_freq': 1, 'feature_fraction': 0.95}. Best is trial 27 with value: 0.24087001468860544.\u001b[0m\n"
     ]
    },
    {
     "name": "stdout",
     "output_type": "stream",
     "text": [
      "mean_loss 0.24907\n",
      "[LightGBM] [Warning] lambda_l1 is set=0, reg_alpha=0.0 will be ignored. Current value: lambda_l1=0\n",
      "[LightGBM] [Warning] bagging_fraction is set=0.8500000000000001, subsample=1.0 will be ignored. Current value: bagging_fraction=0.8500000000000001\n",
      "[LightGBM] [Warning] min_gain_to_split is set=4.0, min_split_gain=0.0 will be ignored. Current value: min_gain_to_split=4.0\n",
      "[LightGBM] [Warning] lambda_l2 is set=0, reg_lambda=0.0 will be ignored. Current value: lambda_l2=0\n",
      "[LightGBM] [Warning] feature_fraction is set=0.95, colsample_bytree=1.0 will be ignored. Current value: feature_fraction=0.95\n",
      "[LightGBM] [Warning] min_data_in_leaf is set=100, min_child_samples=20 will be ignored. Current value: min_data_in_leaf=100\n",
      "[LightGBM] [Warning] bagging_freq is set=1, subsample_freq=0 will be ignored. Current value: bagging_freq=1\n"
     ]
    },
    {
     "name": "stderr",
     "output_type": "stream",
     "text": [
      "\u001b[32m[I 2022-05-08 20:46:03,092]\u001b[0m Trial 93 finished with value: 0.24917453394044042 and parameters: {'n_estimators': 10000, 'learning_rate': 0.05, 'num_leaves': 210, 'max_depth': 11, 'min_data_in_leaf': 100, 'lambda_l1': 0, 'lambda_l2': 0, 'min_gain_to_split': 4.0, 'bagging_fraction': 0.8500000000000001, 'bagging_freq': 1, 'feature_fraction': 0.95}. Best is trial 27 with value: 0.24087001468860544.\u001b[0m\n"
     ]
    },
    {
     "name": "stdout",
     "output_type": "stream",
     "text": [
      "mean_loss 0.24917\n",
      "[LightGBM] [Warning] lambda_l1 is set=0, reg_alpha=0.0 will be ignored. Current value: lambda_l1=0\n",
      "[LightGBM] [Warning] bagging_fraction is set=0.8500000000000001, subsample=1.0 will be ignored. Current value: bagging_fraction=0.8500000000000001\n",
      "[LightGBM] [Warning] min_gain_to_split is set=4.0, min_split_gain=0.0 will be ignored. Current value: min_gain_to_split=4.0\n",
      "[LightGBM] [Warning] lambda_l2 is set=0, reg_lambda=0.0 will be ignored. Current value: lambda_l2=0\n",
      "[LightGBM] [Warning] feature_fraction is set=0.95, colsample_bytree=1.0 will be ignored. Current value: feature_fraction=0.95\n",
      "[LightGBM] [Warning] min_data_in_leaf is set=80, min_child_samples=20 will be ignored. Current value: min_data_in_leaf=80\n",
      "[LightGBM] [Warning] bagging_freq is set=1, subsample_freq=0 will be ignored. Current value: bagging_freq=1\n"
     ]
    },
    {
     "name": "stderr",
     "output_type": "stream",
     "text": [
      "\u001b[32m[I 2022-05-08 20:46:03,525]\u001b[0m Trial 94 finished with value: 0.24860067714611372 and parameters: {'n_estimators': 10000, 'learning_rate': 0.05, 'num_leaves': 210, 'max_depth': 12, 'min_data_in_leaf': 80, 'lambda_l1': 0, 'lambda_l2': 0, 'min_gain_to_split': 4.0, 'bagging_fraction': 0.8500000000000001, 'bagging_freq': 1, 'feature_fraction': 0.95}. Best is trial 27 with value: 0.24087001468860544.\u001b[0m\n",
      "\u001b[32m[I 2022-05-08 20:46:03,588]\u001b[0m Trial 95 pruned. Trial was pruned at iteration 0.\u001b[0m\n",
      "\u001b[32m[I 2022-05-08 20:46:03,650]\u001b[0m Trial 96 pruned. Trial was pruned at iteration 0.\u001b[0m\n",
      "\u001b[32m[I 2022-05-08 20:46:03,710]\u001b[0m Trial 97 pruned. Trial was pruned at iteration 0.\u001b[0m\n"
     ]
    },
    {
     "name": "stdout",
     "output_type": "stream",
     "text": [
      "mean_loss 0.24860\n",
      "[LightGBM] [Warning] lambda_l1 is set=0, reg_alpha=0.0 will be ignored. Current value: lambda_l1=0\n",
      "[LightGBM] [Warning] bagging_fraction is set=0.8500000000000001, subsample=1.0 will be ignored. Current value: bagging_fraction=0.8500000000000001\n",
      "[LightGBM] [Warning] min_gain_to_split is set=4.0, min_split_gain=0.0 will be ignored. Current value: min_gain_to_split=4.0\n",
      "[LightGBM] [Warning] lambda_l2 is set=80, reg_lambda=0.0 will be ignored. Current value: lambda_l2=80\n",
      "[LightGBM] [Warning] feature_fraction is set=0.95, colsample_bytree=1.0 will be ignored. Current value: feature_fraction=0.95\n",
      "[LightGBM] [Warning] min_data_in_leaf is set=80, min_child_samples=20 will be ignored. Current value: min_data_in_leaf=80\n",
      "[LightGBM] [Warning] bagging_freq is set=1, subsample_freq=0 will be ignored. Current value: bagging_freq=1\n"
     ]
    },
    {
     "name": "stderr",
     "output_type": "stream",
     "text": [
      "\u001b[32m[I 2022-05-08 20:46:03,776]\u001b[0m Trial 98 pruned. Trial was pruned at iteration 0.\u001b[0m\n",
      "\u001b[32m[I 2022-05-08 20:46:03,840]\u001b[0m Trial 99 pruned. Trial was pruned at iteration 0.\u001b[0m\n",
      "\u001b[32m[I 2022-05-08 20:46:03,919]\u001b[0m Trial 100 pruned. Trial was pruned at iteration 1.\u001b[0m\n",
      "\u001b[32m[I 2022-05-08 20:46:04,484]\u001b[0m Trial 101 finished with value: 0.24917453394044042 and parameters: {'n_estimators': 10000, 'learning_rate': 0.05, 'num_leaves': 210, 'max_depth': 11, 'min_data_in_leaf': 100, 'lambda_l1': 0, 'lambda_l2': 0, 'min_gain_to_split': 4.0, 'bagging_fraction': 0.8500000000000001, 'bagging_freq': 1, 'feature_fraction': 0.95}. Best is trial 27 with value: 0.24087001468860544.\u001b[0m\n",
      "\u001b[32m[I 2022-05-08 20:46:04,590]\u001b[0m Trial 102 pruned. Trial was pruned at iteration 0.\u001b[0m\n"
     ]
    },
    {
     "name": "stdout",
     "output_type": "stream",
     "text": [
      "mean_loss 0.24917\n",
      "[LightGBM] [Warning] lambda_l1 is set=0, reg_alpha=0.0 will be ignored. Current value: lambda_l1=0\n",
      "[LightGBM] [Warning] bagging_fraction is set=0.8500000000000001, subsample=1.0 will be ignored. Current value: bagging_fraction=0.8500000000000001\n",
      "[LightGBM] [Warning] min_gain_to_split is set=4.0, min_split_gain=0.0 will be ignored. Current value: min_gain_to_split=4.0\n",
      "[LightGBM] [Warning] lambda_l2 is set=0, reg_lambda=0.0 will be ignored. Current value: lambda_l2=0\n",
      "[LightGBM] [Warning] feature_fraction is set=0.95, colsample_bytree=1.0 will be ignored. Current value: feature_fraction=0.95\n",
      "[LightGBM] [Warning] min_data_in_leaf is set=100, min_child_samples=20 will be ignored. Current value: min_data_in_leaf=100\n",
      "[LightGBM] [Warning] bagging_freq is set=1, subsample_freq=0 will be ignored. Current value: bagging_freq=1\n"
     ]
    },
    {
     "name": "stderr",
     "output_type": "stream",
     "text": [
      "\u001b[32m[I 2022-05-08 20:46:04,691]\u001b[0m Trial 103 pruned. Trial was pruned at iteration 0.\u001b[0m\n",
      "\u001b[32m[I 2022-05-08 20:46:05,115]\u001b[0m Trial 104 finished with value: 0.24917453394044042 and parameters: {'n_estimators': 10000, 'learning_rate': 0.05, 'num_leaves': 210, 'max_depth': 11, 'min_data_in_leaf': 100, 'lambda_l1': 0, 'lambda_l2': 0, 'min_gain_to_split': 4.0, 'bagging_fraction': 0.8500000000000001, 'bagging_freq': 1, 'feature_fraction': 0.95}. Best is trial 27 with value: 0.24087001468860544.\u001b[0m\n"
     ]
    },
    {
     "name": "stdout",
     "output_type": "stream",
     "text": [
      "mean_loss 0.24917\n",
      "[LightGBM] [Warning] lambda_l1 is set=0, reg_alpha=0.0 will be ignored. Current value: lambda_l1=0\n",
      "[LightGBM] [Warning] bagging_fraction is set=0.8500000000000001, subsample=1.0 will be ignored. Current value: bagging_fraction=0.8500000000000001\n",
      "[LightGBM] [Warning] min_gain_to_split is set=4.0, min_split_gain=0.0 will be ignored. Current value: min_gain_to_split=4.0\n",
      "[LightGBM] [Warning] lambda_l2 is set=0, reg_lambda=0.0 will be ignored. Current value: lambda_l2=0\n",
      "[LightGBM] [Warning] feature_fraction is set=0.95, colsample_bytree=1.0 will be ignored. Current value: feature_fraction=0.95\n",
      "[LightGBM] [Warning] min_data_in_leaf is set=80, min_child_samples=20 will be ignored. Current value: min_data_in_leaf=80\n",
      "[LightGBM] [Warning] bagging_freq is set=1, subsample_freq=0 will be ignored. Current value: bagging_freq=1\n"
     ]
    },
    {
     "name": "stderr",
     "output_type": "stream",
     "text": [
      "\u001b[32m[I 2022-05-08 20:46:06,171]\u001b[0m Trial 105 finished with value: 0.24860067714611372 and parameters: {'n_estimators': 10000, 'learning_rate': 0.05, 'num_leaves': 210, 'max_depth': 12, 'min_data_in_leaf': 80, 'lambda_l1': 0, 'lambda_l2': 0, 'min_gain_to_split': 4.0, 'bagging_fraction': 0.8500000000000001, 'bagging_freq': 1, 'feature_fraction': 0.95}. Best is trial 27 with value: 0.24087001468860544.\u001b[0m\n"
     ]
    },
    {
     "name": "stdout",
     "output_type": "stream",
     "text": [
      "mean_loss 0.24860\n",
      "[LightGBM] [Warning] lambda_l1 is set=0, reg_alpha=0.0 will be ignored. Current value: lambda_l1=0\n",
      "[LightGBM] [Warning] bagging_fraction is set=0.8500000000000001, subsample=1.0 will be ignored. Current value: bagging_fraction=0.8500000000000001\n",
      "[LightGBM] [Warning] min_gain_to_split is set=4.0, min_split_gain=0.0 will be ignored. Current value: min_gain_to_split=4.0\n",
      "[LightGBM] [Warning] lambda_l2 is set=0, reg_lambda=0.0 will be ignored. Current value: lambda_l2=0\n",
      "[LightGBM] [Warning] feature_fraction is set=0.95, colsample_bytree=1.0 will be ignored. Current value: feature_fraction=0.95\n",
      "[LightGBM] [Warning] min_data_in_leaf is set=80, min_child_samples=20 will be ignored. Current value: min_data_in_leaf=80\n",
      "[LightGBM] [Warning] bagging_freq is set=1, subsample_freq=0 will be ignored. Current value: bagging_freq=1\n"
     ]
    },
    {
     "name": "stderr",
     "output_type": "stream",
     "text": [
      "\u001b[32m[I 2022-05-08 20:46:06,853]\u001b[0m Trial 106 finished with value: 0.24860067714611372 and parameters: {'n_estimators': 10000, 'learning_rate': 0.05, 'num_leaves': 210, 'max_depth': 12, 'min_data_in_leaf': 80, 'lambda_l1': 0, 'lambda_l2': 0, 'min_gain_to_split': 4.0, 'bagging_fraction': 0.8500000000000001, 'bagging_freq': 1, 'feature_fraction': 0.95}. Best is trial 27 with value: 0.24087001468860544.\u001b[0m\n",
      "\u001b[32m[I 2022-05-08 20:46:06,993]\u001b[0m Trial 107 pruned. Trial was pruned at iteration 2.\u001b[0m\n"
     ]
    },
    {
     "name": "stdout",
     "output_type": "stream",
     "text": [
      "mean_loss 0.24860\n",
      "[LightGBM] [Warning] lambda_l1 is set=0, reg_alpha=0.0 will be ignored. Current value: lambda_l1=0\n",
      "[LightGBM] [Warning] bagging_fraction is set=0.75, subsample=1.0 will be ignored. Current value: bagging_fraction=0.75\n",
      "[LightGBM] [Warning] min_gain_to_split is set=4.0, min_split_gain=0.0 will be ignored. Current value: min_gain_to_split=4.0\n",
      "[LightGBM] [Warning] lambda_l2 is set=0, reg_lambda=0.0 will be ignored. Current value: lambda_l2=0\n",
      "[LightGBM] [Warning] feature_fraction is set=0.8500000000000001, colsample_bytree=1.0 will be ignored. Current value: feature_fraction=0.8500000000000001\n",
      "[LightGBM] [Warning] min_data_in_leaf is set=80, min_child_samples=20 will be ignored. Current value: min_data_in_leaf=80\n",
      "[LightGBM] [Warning] bagging_freq is set=1, subsample_freq=0 will be ignored. Current value: bagging_freq=1\n"
     ]
    },
    {
     "name": "stderr",
     "output_type": "stream",
     "text": [
      "\u001b[32m[I 2022-05-08 20:46:07,099]\u001b[0m Trial 108 pruned. Trial was pruned at iteration 0.\u001b[0m\n",
      "\u001b[32m[I 2022-05-08 20:46:07,845]\u001b[0m Trial 109 finished with value: 0.24860067714611372 and parameters: {'n_estimators': 10000, 'learning_rate': 0.05, 'num_leaves': 210, 'max_depth': 12, 'min_data_in_leaf': 80, 'lambda_l1': 0, 'lambda_l2': 0, 'min_gain_to_split': 4.0, 'bagging_fraction': 0.8500000000000001, 'bagging_freq': 1, 'feature_fraction': 0.95}. Best is trial 27 with value: 0.24087001468860544.\u001b[0m\n",
      "\u001b[32m[I 2022-05-08 20:46:07,942]\u001b[0m Trial 110 pruned. Trial was pruned at iteration 0.\u001b[0m\n"
     ]
    },
    {
     "name": "stdout",
     "output_type": "stream",
     "text": [
      "mean_loss 0.24860\n",
      "[LightGBM] [Warning] lambda_l1 is set=0, reg_alpha=0.0 will be ignored. Current value: lambda_l1=0\n",
      "[LightGBM] [Warning] bagging_fraction is set=0.8500000000000001, subsample=1.0 will be ignored. Current value: bagging_fraction=0.8500000000000001\n",
      "[LightGBM] [Warning] min_gain_to_split is set=4.0, min_split_gain=0.0 will be ignored. Current value: min_gain_to_split=4.0\n",
      "[LightGBM] [Warning] lambda_l2 is set=0, reg_lambda=0.0 will be ignored. Current value: lambda_l2=0\n",
      "[LightGBM] [Warning] feature_fraction is set=0.35, colsample_bytree=1.0 will be ignored. Current value: feature_fraction=0.35\n",
      "[LightGBM] [Warning] min_data_in_leaf is set=80, min_child_samples=20 will be ignored. Current value: min_data_in_leaf=80\n",
      "[LightGBM] [Warning] bagging_freq is set=1, subsample_freq=0 will be ignored. Current value: bagging_freq=1\n"
     ]
    },
    {
     "name": "stderr",
     "output_type": "stream",
     "text": [
      "\u001b[32m[I 2022-05-08 20:46:08,837]\u001b[0m Trial 111 finished with value: 0.24860067714611372 and parameters: {'n_estimators': 10000, 'learning_rate': 0.05, 'num_leaves': 210, 'max_depth': 12, 'min_data_in_leaf': 80, 'lambda_l1': 0, 'lambda_l2': 0, 'min_gain_to_split': 4.0, 'bagging_fraction': 0.8500000000000001, 'bagging_freq': 1, 'feature_fraction': 0.95}. Best is trial 27 with value: 0.24087001468860544.\u001b[0m\n"
     ]
    },
    {
     "name": "stdout",
     "output_type": "stream",
     "text": [
      "mean_loss 0.24860\n",
      "[LightGBM] [Warning] lambda_l1 is set=0, reg_alpha=0.0 will be ignored. Current value: lambda_l1=0\n",
      "[LightGBM] [Warning] bagging_fraction is set=0.8500000000000001, subsample=1.0 will be ignored. Current value: bagging_fraction=0.8500000000000001\n",
      "[LightGBM] [Warning] min_gain_to_split is set=4.0, min_split_gain=0.0 will be ignored. Current value: min_gain_to_split=4.0\n",
      "[LightGBM] [Warning] lambda_l2 is set=0, reg_lambda=0.0 will be ignored. Current value: lambda_l2=0\n",
      "[LightGBM] [Warning] feature_fraction is set=0.95, colsample_bytree=1.0 will be ignored. Current value: feature_fraction=0.95\n",
      "[LightGBM] [Warning] min_data_in_leaf is set=80, min_child_samples=20 will be ignored. Current value: min_data_in_leaf=80\n",
      "[LightGBM] [Warning] bagging_freq is set=1, subsample_freq=0 will be ignored. Current value: bagging_freq=1\n"
     ]
    },
    {
     "name": "stderr",
     "output_type": "stream",
     "text": [
      "\u001b[32m[I 2022-05-08 20:46:09,636]\u001b[0m Trial 112 finished with value: 0.24860067714611372 and parameters: {'n_estimators': 10000, 'learning_rate': 0.05, 'num_leaves': 210, 'max_depth': 12, 'min_data_in_leaf': 80, 'lambda_l1': 0, 'lambda_l2': 0, 'min_gain_to_split': 4.0, 'bagging_fraction': 0.8500000000000001, 'bagging_freq': 1, 'feature_fraction': 0.95}. Best is trial 27 with value: 0.24087001468860544.\u001b[0m\n"
     ]
    },
    {
     "name": "stdout",
     "output_type": "stream",
     "text": [
      "mean_loss 0.24860\n",
      "[LightGBM] [Warning] lambda_l1 is set=0, reg_alpha=0.0 will be ignored. Current value: lambda_l1=0\n",
      "[LightGBM] [Warning] bagging_fraction is set=0.75, subsample=1.0 will be ignored. Current value: bagging_fraction=0.75\n",
      "[LightGBM] [Warning] min_gain_to_split is set=4.0, min_split_gain=0.0 will be ignored. Current value: min_gain_to_split=4.0\n",
      "[LightGBM] [Warning] lambda_l2 is set=0, reg_lambda=0.0 will be ignored. Current value: lambda_l2=0\n",
      "[LightGBM] [Warning] feature_fraction is set=0.95, colsample_bytree=1.0 will be ignored. Current value: feature_fraction=0.95\n",
      "[LightGBM] [Warning] min_data_in_leaf is set=80, min_child_samples=20 will be ignored. Current value: min_data_in_leaf=80\n",
      "[LightGBM] [Warning] bagging_freq is set=1, subsample_freq=0 will be ignored. Current value: bagging_freq=1\n"
     ]
    },
    {
     "name": "stderr",
     "output_type": "stream",
     "text": [
      "\u001b[32m[I 2022-05-08 20:46:10,573]\u001b[0m Trial 113 finished with value: 0.24781912101113254 and parameters: {'n_estimators': 10000, 'learning_rate': 0.05, 'num_leaves': 210, 'max_depth': 12, 'min_data_in_leaf': 80, 'lambda_l1': 0, 'lambda_l2': 0, 'min_gain_to_split': 4.0, 'bagging_fraction': 0.75, 'bagging_freq': 1, 'feature_fraction': 0.95}. Best is trial 27 with value: 0.24087001468860544.\u001b[0m\n"
     ]
    },
    {
     "name": "stdout",
     "output_type": "stream",
     "text": [
      "mean_loss 0.24782\n",
      "[LightGBM] [Warning] lambda_l1 is set=0, reg_alpha=0.0 will be ignored. Current value: lambda_l1=0\n",
      "[LightGBM] [Warning] bagging_fraction is set=0.75, subsample=1.0 will be ignored. Current value: bagging_fraction=0.75\n",
      "[LightGBM] [Warning] min_gain_to_split is set=4.0, min_split_gain=0.0 will be ignored. Current value: min_gain_to_split=4.0\n",
      "[LightGBM] [Warning] lambda_l2 is set=0, reg_lambda=0.0 will be ignored. Current value: lambda_l2=0\n",
      "[LightGBM] [Warning] feature_fraction is set=0.95, colsample_bytree=1.0 will be ignored. Current value: feature_fraction=0.95\n",
      "[LightGBM] [Warning] min_data_in_leaf is set=80, min_child_samples=20 will be ignored. Current value: min_data_in_leaf=80\n",
      "[LightGBM] [Warning] bagging_freq is set=1, subsample_freq=0 will be ignored. Current value: bagging_freq=1\n"
     ]
    },
    {
     "name": "stderr",
     "output_type": "stream",
     "text": [
      "\u001b[32m[I 2022-05-08 20:46:10,984]\u001b[0m Trial 114 finished with value: 0.24781912101113254 and parameters: {'n_estimators': 10000, 'learning_rate': 0.05, 'num_leaves': 210, 'max_depth': 12, 'min_data_in_leaf': 80, 'lambda_l1': 0, 'lambda_l2': 0, 'min_gain_to_split': 4.0, 'bagging_fraction': 0.75, 'bagging_freq': 1, 'feature_fraction': 0.95}. Best is trial 27 with value: 0.24087001468860544.\u001b[0m\n"
     ]
    },
    {
     "name": "stdout",
     "output_type": "stream",
     "text": [
      "mean_loss 0.24782\n",
      "[LightGBM] [Warning] lambda_l1 is set=0, reg_alpha=0.0 will be ignored. Current value: lambda_l1=0\n",
      "[LightGBM] [Warning] bagging_fraction is set=0.65, subsample=1.0 will be ignored. Current value: bagging_fraction=0.65\n",
      "[LightGBM] [Warning] min_gain_to_split is set=4.0, min_split_gain=0.0 will be ignored. Current value: min_gain_to_split=4.0\n",
      "[LightGBM] [Warning] lambda_l2 is set=0, reg_lambda=0.0 will be ignored. Current value: lambda_l2=0\n",
      "[LightGBM] [Warning] feature_fraction is set=0.95, colsample_bytree=1.0 will be ignored. Current value: feature_fraction=0.95\n",
      "[LightGBM] [Warning] min_data_in_leaf is set=80, min_child_samples=20 will be ignored. Current value: min_data_in_leaf=80\n",
      "[LightGBM] [Warning] bagging_freq is set=1, subsample_freq=0 will be ignored. Current value: bagging_freq=1\n"
     ]
    },
    {
     "name": "stderr",
     "output_type": "stream",
     "text": [
      "\u001b[32m[I 2022-05-08 20:46:11,546]\u001b[0m Trial 115 finished with value: 0.24874133920284103 and parameters: {'n_estimators': 10000, 'learning_rate': 0.05, 'num_leaves': 210, 'max_depth': 12, 'min_data_in_leaf': 80, 'lambda_l1': 0, 'lambda_l2': 0, 'min_gain_to_split': 4.0, 'bagging_fraction': 0.65, 'bagging_freq': 1, 'feature_fraction': 0.95}. Best is trial 27 with value: 0.24087001468860544.\u001b[0m\n",
      "\u001b[32m[I 2022-05-08 20:46:11,613]\u001b[0m Trial 116 pruned. Trial was pruned at iteration 0.\u001b[0m\n",
      "\u001b[32m[I 2022-05-08 20:46:11,679]\u001b[0m Trial 117 pruned. Trial was pruned at iteration 0.\u001b[0m\n"
     ]
    },
    {
     "name": "stdout",
     "output_type": "stream",
     "text": [
      "mean_loss 0.24874\n",
      "[LightGBM] [Warning] lambda_l1 is set=80, reg_alpha=0.0 will be ignored. Current value: lambda_l1=80\n",
      "[LightGBM] [Warning] bagging_fraction is set=0.65, subsample=1.0 will be ignored. Current value: bagging_fraction=0.65\n",
      "[LightGBM] [Warning] min_gain_to_split is set=4.0, min_split_gain=0.0 will be ignored. Current value: min_gain_to_split=4.0\n",
      "[LightGBM] [Warning] lambda_l2 is set=0, reg_lambda=0.0 will be ignored. Current value: lambda_l2=0\n",
      "[LightGBM] [Warning] feature_fraction is set=0.95, colsample_bytree=1.0 will be ignored. Current value: feature_fraction=0.95\n",
      "[LightGBM] [Warning] min_data_in_leaf is set=80, min_child_samples=20 will be ignored. Current value: min_data_in_leaf=80\n",
      "[LightGBM] [Warning] bagging_freq is set=1, subsample_freq=0 will be ignored. Current value: bagging_freq=1\n"
     ]
    },
    {
     "name": "stderr",
     "output_type": "stream",
     "text": [
      "\u001b[32m[I 2022-05-08 20:46:11,752]\u001b[0m Trial 118 pruned. Trial was pruned at iteration 1.\u001b[0m\n",
      "\u001b[32m[I 2022-05-08 20:46:12,135]\u001b[0m Trial 119 finished with value: 0.24874133920284103 and parameters: {'n_estimators': 10000, 'learning_rate': 0.05, 'num_leaves': 210, 'max_depth': 12, 'min_data_in_leaf': 80, 'lambda_l1': 0, 'lambda_l2': 0, 'min_gain_to_split': 4.0, 'bagging_fraction': 0.65, 'bagging_freq': 1, 'feature_fraction': 0.95}. Best is trial 27 with value: 0.24087001468860544.\u001b[0m\n",
      "\u001b[32m[I 2022-05-08 20:46:12,201]\u001b[0m Trial 120 pruned. Trial was pruned at iteration 0.\u001b[0m\n"
     ]
    },
    {
     "name": "stdout",
     "output_type": "stream",
     "text": [
      "mean_loss 0.24874\n",
      "[LightGBM] [Warning] lambda_l1 is set=60, reg_alpha=0.0 will be ignored. Current value: lambda_l1=60\n",
      "[LightGBM] [Warning] bagging_fraction is set=0.65, subsample=1.0 will be ignored. Current value: bagging_fraction=0.65\n",
      "[LightGBM] [Warning] min_gain_to_split is set=4.0, min_split_gain=0.0 will be ignored. Current value: min_gain_to_split=4.0\n",
      "[LightGBM] [Warning] lambda_l2 is set=20, reg_lambda=0.0 will be ignored. Current value: lambda_l2=20\n",
      "[LightGBM] [Warning] feature_fraction is set=0.95, colsample_bytree=1.0 will be ignored. Current value: feature_fraction=0.95\n",
      "[LightGBM] [Warning] min_data_in_leaf is set=80, min_child_samples=20 will be ignored. Current value: min_data_in_leaf=80\n",
      "[LightGBM] [Warning] bagging_freq is set=1, subsample_freq=0 will be ignored. Current value: bagging_freq=1\n"
     ]
    },
    {
     "name": "stderr",
     "output_type": "stream",
     "text": [
      "\u001b[32m[I 2022-05-08 20:46:12,589]\u001b[0m Trial 121 finished with value: 0.24874133920284103 and parameters: {'n_estimators': 10000, 'learning_rate': 0.05, 'num_leaves': 210, 'max_depth': 12, 'min_data_in_leaf': 80, 'lambda_l1': 0, 'lambda_l2': 0, 'min_gain_to_split': 4.0, 'bagging_fraction': 0.65, 'bagging_freq': 1, 'feature_fraction': 0.95}. Best is trial 27 with value: 0.24087001468860544.\u001b[0m\n"
     ]
    },
    {
     "name": "stdout",
     "output_type": "stream",
     "text": [
      "mean_loss 0.24874\n",
      "[LightGBM] [Warning] lambda_l1 is set=0, reg_alpha=0.0 will be ignored. Current value: lambda_l1=0\n",
      "[LightGBM] [Warning] bagging_fraction is set=0.65, subsample=1.0 will be ignored. Current value: bagging_fraction=0.65\n",
      "[LightGBM] [Warning] min_gain_to_split is set=4.0, min_split_gain=0.0 will be ignored. Current value: min_gain_to_split=4.0\n",
      "[LightGBM] [Warning] lambda_l2 is set=0, reg_lambda=0.0 will be ignored. Current value: lambda_l2=0\n",
      "[LightGBM] [Warning] feature_fraction is set=0.95, colsample_bytree=1.0 will be ignored. Current value: feature_fraction=0.95\n",
      "[LightGBM] [Warning] min_data_in_leaf is set=80, min_child_samples=20 will be ignored. Current value: min_data_in_leaf=80\n",
      "[LightGBM] [Warning] bagging_freq is set=1, subsample_freq=0 will be ignored. Current value: bagging_freq=1\n"
     ]
    },
    {
     "name": "stderr",
     "output_type": "stream",
     "text": [
      "\u001b[32m[I 2022-05-08 20:46:12,979]\u001b[0m Trial 122 finished with value: 0.24874133920284103 and parameters: {'n_estimators': 10000, 'learning_rate': 0.05, 'num_leaves': 210, 'max_depth': 12, 'min_data_in_leaf': 80, 'lambda_l1': 0, 'lambda_l2': 0, 'min_gain_to_split': 4.0, 'bagging_fraction': 0.65, 'bagging_freq': 1, 'feature_fraction': 0.95}. Best is trial 27 with value: 0.24087001468860544.\u001b[0m\n"
     ]
    },
    {
     "name": "stdout",
     "output_type": "stream",
     "text": [
      "mean_loss 0.24874\n",
      "[LightGBM] [Warning] lambda_l1 is set=0, reg_alpha=0.0 will be ignored. Current value: lambda_l1=0\n",
      "[LightGBM] [Warning] bagging_fraction is set=0.65, subsample=1.0 will be ignored. Current value: bagging_fraction=0.65\n",
      "[LightGBM] [Warning] min_gain_to_split is set=4.0, min_split_gain=0.0 will be ignored. Current value: min_gain_to_split=4.0\n",
      "[LightGBM] [Warning] lambda_l2 is set=0, reg_lambda=0.0 will be ignored. Current value: lambda_l2=0\n",
      "[LightGBM] [Warning] feature_fraction is set=0.95, colsample_bytree=1.0 will be ignored. Current value: feature_fraction=0.95\n",
      "[LightGBM] [Warning] min_data_in_leaf is set=80, min_child_samples=20 will be ignored. Current value: min_data_in_leaf=80\n",
      "[LightGBM] [Warning] bagging_freq is set=1, subsample_freq=0 will be ignored. Current value: bagging_freq=1\n"
     ]
    },
    {
     "name": "stderr",
     "output_type": "stream",
     "text": [
      "\u001b[32m[I 2022-05-08 20:46:13,367]\u001b[0m Trial 123 finished with value: 0.24874133920284103 and parameters: {'n_estimators': 10000, 'learning_rate': 0.05, 'num_leaves': 210, 'max_depth': 12, 'min_data_in_leaf': 80, 'lambda_l1': 0, 'lambda_l2': 0, 'min_gain_to_split': 4.0, 'bagging_fraction': 0.65, 'bagging_freq': 1, 'feature_fraction': 0.95}. Best is trial 27 with value: 0.24087001468860544.\u001b[0m\n"
     ]
    },
    {
     "name": "stdout",
     "output_type": "stream",
     "text": [
      "mean_loss 0.24874\n",
      "[LightGBM] [Warning] lambda_l1 is set=0, reg_alpha=0.0 will be ignored. Current value: lambda_l1=0\n",
      "[LightGBM] [Warning] bagging_fraction is set=0.65, subsample=1.0 will be ignored. Current value: bagging_fraction=0.65\n",
      "[LightGBM] [Warning] min_gain_to_split is set=4.0, min_split_gain=0.0 will be ignored. Current value: min_gain_to_split=4.0\n",
      "[LightGBM] [Warning] lambda_l2 is set=0, reg_lambda=0.0 will be ignored. Current value: lambda_l2=0\n",
      "[LightGBM] [Warning] feature_fraction is set=0.95, colsample_bytree=1.0 will be ignored. Current value: feature_fraction=0.95\n",
      "[LightGBM] [Warning] min_data_in_leaf is set=80, min_child_samples=20 will be ignored. Current value: min_data_in_leaf=80\n",
      "[LightGBM] [Warning] bagging_freq is set=1, subsample_freq=0 will be ignored. Current value: bagging_freq=1\n"
     ]
    },
    {
     "name": "stderr",
     "output_type": "stream",
     "text": [
      "\u001b[32m[I 2022-05-08 20:46:14,024]\u001b[0m Trial 124 finished with value: 0.24874133920284103 and parameters: {'n_estimators': 10000, 'learning_rate': 0.05, 'num_leaves': 210, 'max_depth': 12, 'min_data_in_leaf': 80, 'lambda_l1': 0, 'lambda_l2': 0, 'min_gain_to_split': 4.0, 'bagging_fraction': 0.65, 'bagging_freq': 1, 'feature_fraction': 0.95}. Best is trial 27 with value: 0.24087001468860544.\u001b[0m\n"
     ]
    },
    {
     "name": "stdout",
     "output_type": "stream",
     "text": [
      "mean_loss 0.24874\n",
      "[LightGBM] [Warning] lambda_l1 is set=0, reg_alpha=0.0 will be ignored. Current value: lambda_l1=0\n",
      "[LightGBM] [Warning] bagging_fraction is set=0.75, subsample=1.0 will be ignored. Current value: bagging_fraction=0.75\n",
      "[LightGBM] [Warning] min_gain_to_split is set=4.0, min_split_gain=0.0 will be ignored. Current value: min_gain_to_split=4.0\n",
      "[LightGBM] [Warning] lambda_l2 is set=0, reg_lambda=0.0 will be ignored. Current value: lambda_l2=0\n",
      "[LightGBM] [Warning] feature_fraction is set=0.95, colsample_bytree=1.0 will be ignored. Current value: feature_fraction=0.95\n",
      "[LightGBM] [Warning] min_data_in_leaf is set=80, min_child_samples=20 will be ignored. Current value: min_data_in_leaf=80\n",
      "[LightGBM] [Warning] bagging_freq is set=1, subsample_freq=0 will be ignored. Current value: bagging_freq=1\n"
     ]
    },
    {
     "name": "stderr",
     "output_type": "stream",
     "text": [
      "\u001b[32m[I 2022-05-08 20:46:14,996]\u001b[0m Trial 125 finished with value: 0.24781912101113254 and parameters: {'n_estimators': 10000, 'learning_rate': 0.05, 'num_leaves': 210, 'max_depth': 12, 'min_data_in_leaf': 80, 'lambda_l1': 0, 'lambda_l2': 0, 'min_gain_to_split': 4.0, 'bagging_fraction': 0.75, 'bagging_freq': 1, 'feature_fraction': 0.95}. Best is trial 27 with value: 0.24087001468860544.\u001b[0m\n",
      "\u001b[32m[I 2022-05-08 20:46:15,064]\u001b[0m Trial 126 pruned. Trial was pruned at iteration 0.\u001b[0m\n"
     ]
    },
    {
     "name": "stdout",
     "output_type": "stream",
     "text": [
      "mean_loss 0.24782\n",
      "[LightGBM] [Warning] lambda_l1 is set=0, reg_alpha=0.0 will be ignored. Current value: lambda_l1=0\n",
      "[LightGBM] [Warning] bagging_fraction is set=0.75, subsample=1.0 will be ignored. Current value: bagging_fraction=0.75\n",
      "[LightGBM] [Warning] min_gain_to_split is set=4.0, min_split_gain=0.0 will be ignored. Current value: min_gain_to_split=4.0\n",
      "[LightGBM] [Warning] lambda_l2 is set=0, reg_lambda=0.0 will be ignored. Current value: lambda_l2=0\n",
      "[LightGBM] [Warning] feature_fraction is set=0.8500000000000001, colsample_bytree=1.0 will be ignored. Current value: feature_fraction=0.8500000000000001\n",
      "[LightGBM] [Warning] min_data_in_leaf is set=80, min_child_samples=20 will be ignored. Current value: min_data_in_leaf=80\n",
      "[LightGBM] [Warning] bagging_freq is set=1, subsample_freq=0 will be ignored. Current value: bagging_freq=1\n"
     ]
    },
    {
     "name": "stderr",
     "output_type": "stream",
     "text": [
      "\u001b[32m[I 2022-05-08 20:46:15,864]\u001b[0m Trial 127 finished with value: 0.24781912101113254 and parameters: {'n_estimators': 10000, 'learning_rate': 0.05, 'num_leaves': 210, 'max_depth': 12, 'min_data_in_leaf': 80, 'lambda_l1': 0, 'lambda_l2': 0, 'min_gain_to_split': 4.0, 'bagging_fraction': 0.75, 'bagging_freq': 1, 'feature_fraction': 0.95}. Best is trial 27 with value: 0.24087001468860544.\u001b[0m\n"
     ]
    },
    {
     "name": "stdout",
     "output_type": "stream",
     "text": [
      "mean_loss 0.24782\n",
      "[LightGBM] [Warning] lambda_l1 is set=0, reg_alpha=0.0 will be ignored. Current value: lambda_l1=0\n",
      "[LightGBM] [Warning] bagging_fraction is set=0.75, subsample=1.0 will be ignored. Current value: bagging_fraction=0.75\n",
      "[LightGBM] [Warning] min_gain_to_split is set=4.0, min_split_gain=0.0 will be ignored. Current value: min_gain_to_split=4.0\n",
      "[LightGBM] [Warning] lambda_l2 is set=0, reg_lambda=0.0 will be ignored. Current value: lambda_l2=0\n",
      "[LightGBM] [Warning] feature_fraction is set=0.95, colsample_bytree=1.0 will be ignored. Current value: feature_fraction=0.95\n",
      "[LightGBM] [Warning] min_data_in_leaf is set=80, min_child_samples=20 will be ignored. Current value: min_data_in_leaf=80\n",
      "[LightGBM] [Warning] bagging_freq is set=1, subsample_freq=0 will be ignored. Current value: bagging_freq=1\n"
     ]
    },
    {
     "name": "stderr",
     "output_type": "stream",
     "text": [
      "\u001b[32m[I 2022-05-08 20:46:16,398]\u001b[0m Trial 128 finished with value: 0.24781912101113254 and parameters: {'n_estimators': 10000, 'learning_rate': 0.05, 'num_leaves': 210, 'max_depth': 12, 'min_data_in_leaf': 80, 'lambda_l1': 0, 'lambda_l2': 0, 'min_gain_to_split': 4.0, 'bagging_fraction': 0.75, 'bagging_freq': 1, 'feature_fraction': 0.95}. Best is trial 27 with value: 0.24087001468860544.\u001b[0m\n"
     ]
    },
    {
     "name": "stdout",
     "output_type": "stream",
     "text": [
      "mean_loss 0.24782\n",
      "[LightGBM] [Warning] lambda_l1 is set=0, reg_alpha=0.0 will be ignored. Current value: lambda_l1=0\n",
      "[LightGBM] [Warning] bagging_fraction is set=0.75, subsample=1.0 will be ignored. Current value: bagging_fraction=0.75\n",
      "[LightGBM] [Warning] min_gain_to_split is set=4.0, min_split_gain=0.0 will be ignored. Current value: min_gain_to_split=4.0\n",
      "[LightGBM] [Warning] lambda_l2 is set=0, reg_lambda=0.0 will be ignored. Current value: lambda_l2=0\n",
      "[LightGBM] [Warning] feature_fraction is set=0.95, colsample_bytree=1.0 will be ignored. Current value: feature_fraction=0.95\n",
      "[LightGBM] [Warning] min_data_in_leaf is set=80, min_child_samples=20 will be ignored. Current value: min_data_in_leaf=80\n",
      "[LightGBM] [Warning] bagging_freq is set=1, subsample_freq=0 will be ignored. Current value: bagging_freq=1\n"
     ]
    },
    {
     "name": "stderr",
     "output_type": "stream",
     "text": [
      "\u001b[32m[I 2022-05-08 20:46:16,867]\u001b[0m Trial 129 finished with value: 0.24781912101113254 and parameters: {'n_estimators': 10000, 'learning_rate': 0.05, 'num_leaves': 210, 'max_depth': 12, 'min_data_in_leaf': 80, 'lambda_l1': 0, 'lambda_l2': 0, 'min_gain_to_split': 4.0, 'bagging_fraction': 0.75, 'bagging_freq': 1, 'feature_fraction': 0.95}. Best is trial 27 with value: 0.24087001468860544.\u001b[0m\n"
     ]
    },
    {
     "name": "stdout",
     "output_type": "stream",
     "text": [
      "mean_loss 0.24782\n",
      "[LightGBM] [Warning] lambda_l1 is set=0, reg_alpha=0.0 will be ignored. Current value: lambda_l1=0\n",
      "[LightGBM] [Warning] bagging_fraction is set=0.75, subsample=1.0 will be ignored. Current value: bagging_fraction=0.75\n",
      "[LightGBM] [Warning] min_gain_to_split is set=4.0, min_split_gain=0.0 will be ignored. Current value: min_gain_to_split=4.0\n",
      "[LightGBM] [Warning] lambda_l2 is set=0, reg_lambda=0.0 will be ignored. Current value: lambda_l2=0\n",
      "[LightGBM] [Warning] feature_fraction is set=0.95, colsample_bytree=1.0 will be ignored. Current value: feature_fraction=0.95\n",
      "[LightGBM] [Warning] min_data_in_leaf is set=60, min_child_samples=20 will be ignored. Current value: min_data_in_leaf=60\n",
      "[LightGBM] [Warning] bagging_freq is set=1, subsample_freq=0 will be ignored. Current value: bagging_freq=1\n"
     ]
    },
    {
     "name": "stderr",
     "output_type": "stream",
     "text": [
      "\u001b[32m[I 2022-05-08 20:46:17,481]\u001b[0m Trial 130 finished with value: 0.24522475913297445 and parameters: {'n_estimators': 10000, 'learning_rate': 0.05, 'num_leaves': 180, 'max_depth': 12, 'min_data_in_leaf': 60, 'lambda_l1': 0, 'lambda_l2': 0, 'min_gain_to_split': 4.0, 'bagging_fraction': 0.75, 'bagging_freq': 1, 'feature_fraction': 0.95}. Best is trial 27 with value: 0.24087001468860544.\u001b[0m\n"
     ]
    },
    {
     "name": "stdout",
     "output_type": "stream",
     "text": [
      "mean_loss 0.24522\n",
      "[LightGBM] [Warning] lambda_l1 is set=0, reg_alpha=0.0 will be ignored. Current value: lambda_l1=0\n",
      "[LightGBM] [Warning] bagging_fraction is set=0.75, subsample=1.0 will be ignored. Current value: bagging_fraction=0.75\n",
      "[LightGBM] [Warning] min_gain_to_split is set=4.0, min_split_gain=0.0 will be ignored. Current value: min_gain_to_split=4.0\n",
      "[LightGBM] [Warning] lambda_l2 is set=0, reg_lambda=0.0 will be ignored. Current value: lambda_l2=0\n",
      "[LightGBM] [Warning] feature_fraction is set=0.95, colsample_bytree=1.0 will be ignored. Current value: feature_fraction=0.95\n",
      "[LightGBM] [Warning] min_data_in_leaf is set=80, min_child_samples=20 will be ignored. Current value: min_data_in_leaf=80\n",
      "[LightGBM] [Warning] bagging_freq is set=1, subsample_freq=0 will be ignored. Current value: bagging_freq=1\n"
     ]
    },
    {
     "name": "stderr",
     "output_type": "stream",
     "text": [
      "\u001b[32m[I 2022-05-08 20:46:18,227]\u001b[0m Trial 131 finished with value: 0.24781912101113254 and parameters: {'n_estimators': 10000, 'learning_rate': 0.05, 'num_leaves': 180, 'max_depth': 12, 'min_data_in_leaf': 80, 'lambda_l1': 0, 'lambda_l2': 0, 'min_gain_to_split': 4.0, 'bagging_fraction': 0.75, 'bagging_freq': 1, 'feature_fraction': 0.95}. Best is trial 27 with value: 0.24087001468860544.\u001b[0m\n"
     ]
    },
    {
     "name": "stdout",
     "output_type": "stream",
     "text": [
      "mean_loss 0.24782\n",
      "[LightGBM] [Warning] lambda_l1 is set=0, reg_alpha=0.0 will be ignored. Current value: lambda_l1=0\n",
      "[LightGBM] [Warning] bagging_fraction is set=0.75, subsample=1.0 will be ignored. Current value: bagging_fraction=0.75\n",
      "[LightGBM] [Warning] min_gain_to_split is set=4.0, min_split_gain=0.0 will be ignored. Current value: min_gain_to_split=4.0\n",
      "[LightGBM] [Warning] lambda_l2 is set=0, reg_lambda=0.0 will be ignored. Current value: lambda_l2=0\n",
      "[LightGBM] [Warning] feature_fraction is set=0.95, colsample_bytree=1.0 will be ignored. Current value: feature_fraction=0.95\n",
      "[LightGBM] [Warning] min_data_in_leaf is set=60, min_child_samples=20 will be ignored. Current value: min_data_in_leaf=60\n",
      "[LightGBM] [Warning] bagging_freq is set=1, subsample_freq=0 will be ignored. Current value: bagging_freq=1\n"
     ]
    },
    {
     "name": "stderr",
     "output_type": "stream",
     "text": [
      "\u001b[32m[I 2022-05-08 20:46:18,778]\u001b[0m Trial 132 finished with value: 0.24522475913297445 and parameters: {'n_estimators': 10000, 'learning_rate': 0.05, 'num_leaves': 180, 'max_depth': 12, 'min_data_in_leaf': 60, 'lambda_l1': 0, 'lambda_l2': 0, 'min_gain_to_split': 4.0, 'bagging_fraction': 0.75, 'bagging_freq': 1, 'feature_fraction': 0.95}. Best is trial 27 with value: 0.24087001468860544.\u001b[0m\n"
     ]
    },
    {
     "name": "stdout",
     "output_type": "stream",
     "text": [
      "mean_loss 0.24522\n",
      "[LightGBM] [Warning] lambda_l1 is set=0, reg_alpha=0.0 will be ignored. Current value: lambda_l1=0\n",
      "[LightGBM] [Warning] bagging_fraction is set=0.75, subsample=1.0 will be ignored. Current value: bagging_fraction=0.75\n",
      "[LightGBM] [Warning] min_gain_to_split is set=4.0, min_split_gain=0.0 will be ignored. Current value: min_gain_to_split=4.0\n",
      "[LightGBM] [Warning] lambda_l2 is set=0, reg_lambda=0.0 will be ignored. Current value: lambda_l2=0\n",
      "[LightGBM] [Warning] feature_fraction is set=0.95, colsample_bytree=1.0 will be ignored. Current value: feature_fraction=0.95\n",
      "[LightGBM] [Warning] min_data_in_leaf is set=60, min_child_samples=20 will be ignored. Current value: min_data_in_leaf=60\n",
      "[LightGBM] [Warning] bagging_freq is set=1, subsample_freq=0 will be ignored. Current value: bagging_freq=1\n"
     ]
    },
    {
     "name": "stderr",
     "output_type": "stream",
     "text": [
      "\u001b[32m[I 2022-05-08 20:46:19,410]\u001b[0m Trial 133 finished with value: 0.24522475913297445 and parameters: {'n_estimators': 10000, 'learning_rate': 0.05, 'num_leaves': 180, 'max_depth': 12, 'min_data_in_leaf': 60, 'lambda_l1': 0, 'lambda_l2': 0, 'min_gain_to_split': 4.0, 'bagging_fraction': 0.75, 'bagging_freq': 1, 'feature_fraction': 0.95}. Best is trial 27 with value: 0.24087001468860544.\u001b[0m\n"
     ]
    },
    {
     "name": "stdout",
     "output_type": "stream",
     "text": [
      "mean_loss 0.24522\n",
      "[LightGBM] [Warning] lambda_l1 is set=0, reg_alpha=0.0 will be ignored. Current value: lambda_l1=0\n",
      "[LightGBM] [Warning] bagging_fraction is set=0.75, subsample=1.0 will be ignored. Current value: bagging_fraction=0.75\n",
      "[LightGBM] [Warning] min_gain_to_split is set=4.0, min_split_gain=0.0 will be ignored. Current value: min_gain_to_split=4.0\n",
      "[LightGBM] [Warning] lambda_l2 is set=0, reg_lambda=0.0 will be ignored. Current value: lambda_l2=0\n",
      "[LightGBM] [Warning] feature_fraction is set=0.95, colsample_bytree=1.0 will be ignored. Current value: feature_fraction=0.95\n",
      "[LightGBM] [Warning] min_data_in_leaf is set=60, min_child_samples=20 will be ignored. Current value: min_data_in_leaf=60\n",
      "[LightGBM] [Warning] bagging_freq is set=1, subsample_freq=0 will be ignored. Current value: bagging_freq=1\n"
     ]
    },
    {
     "name": "stderr",
     "output_type": "stream",
     "text": [
      "\u001b[32m[I 2022-05-08 20:46:19,804]\u001b[0m Trial 134 finished with value: 0.24522475913297445 and parameters: {'n_estimators': 10000, 'learning_rate': 0.05, 'num_leaves': 180, 'max_depth': 12, 'min_data_in_leaf': 60, 'lambda_l1': 0, 'lambda_l2': 0, 'min_gain_to_split': 4.0, 'bagging_fraction': 0.75, 'bagging_freq': 1, 'feature_fraction': 0.95}. Best is trial 27 with value: 0.24087001468860544.\u001b[0m\n"
     ]
    },
    {
     "name": "stdout",
     "output_type": "stream",
     "text": [
      "mean_loss 0.24522\n",
      "[LightGBM] [Warning] lambda_l1 is set=0, reg_alpha=0.0 will be ignored. Current value: lambda_l1=0\n",
      "[LightGBM] [Warning] bagging_fraction is set=0.75, subsample=1.0 will be ignored. Current value: bagging_fraction=0.75\n",
      "[LightGBM] [Warning] min_gain_to_split is set=4.0, min_split_gain=0.0 will be ignored. Current value: min_gain_to_split=4.0\n",
      "[LightGBM] [Warning] lambda_l2 is set=0, reg_lambda=0.0 will be ignored. Current value: lambda_l2=0\n",
      "[LightGBM] [Warning] feature_fraction is set=0.95, colsample_bytree=1.0 will be ignored. Current value: feature_fraction=0.95\n",
      "[LightGBM] [Warning] min_data_in_leaf is set=60, min_child_samples=20 will be ignored. Current value: min_data_in_leaf=60\n",
      "[LightGBM] [Warning] bagging_freq is set=1, subsample_freq=0 will be ignored. Current value: bagging_freq=1\n"
     ]
    },
    {
     "name": "stderr",
     "output_type": "stream",
     "text": [
      "\u001b[32m[I 2022-05-08 20:46:20,318]\u001b[0m Trial 135 finished with value: 0.24522475913297445 and parameters: {'n_estimators': 10000, 'learning_rate': 0.05, 'num_leaves': 180, 'max_depth': 12, 'min_data_in_leaf': 60, 'lambda_l1': 0, 'lambda_l2': 0, 'min_gain_to_split': 4.0, 'bagging_fraction': 0.75, 'bagging_freq': 1, 'feature_fraction': 0.95}. Best is trial 27 with value: 0.24087001468860544.\u001b[0m\n"
     ]
    },
    {
     "name": "stdout",
     "output_type": "stream",
     "text": [
      "mean_loss 0.24522\n",
      "[LightGBM] [Warning] lambda_l1 is set=0, reg_alpha=0.0 will be ignored. Current value: lambda_l1=0\n",
      "[LightGBM] [Warning] bagging_fraction is set=0.75, subsample=1.0 will be ignored. Current value: bagging_fraction=0.75\n",
      "[LightGBM] [Warning] min_gain_to_split is set=4.0, min_split_gain=0.0 will be ignored. Current value: min_gain_to_split=4.0\n",
      "[LightGBM] [Warning] lambda_l2 is set=0, reg_lambda=0.0 will be ignored. Current value: lambda_l2=0\n",
      "[LightGBM] [Warning] feature_fraction is set=0.95, colsample_bytree=1.0 will be ignored. Current value: feature_fraction=0.95\n",
      "[LightGBM] [Warning] min_data_in_leaf is set=60, min_child_samples=20 will be ignored. Current value: min_data_in_leaf=60\n",
      "[LightGBM] [Warning] bagging_freq is set=1, subsample_freq=0 will be ignored. Current value: bagging_freq=1\n"
     ]
    },
    {
     "name": "stderr",
     "output_type": "stream",
     "text": [
      "\u001b[32m[I 2022-05-08 20:46:20,968]\u001b[0m Trial 136 finished with value: 0.24522475913297445 and parameters: {'n_estimators': 10000, 'learning_rate': 0.05, 'num_leaves': 180, 'max_depth': 12, 'min_data_in_leaf': 60, 'lambda_l1': 0, 'lambda_l2': 0, 'min_gain_to_split': 4.0, 'bagging_fraction': 0.75, 'bagging_freq': 1, 'feature_fraction': 0.95}. Best is trial 27 with value: 0.24087001468860544.\u001b[0m\n"
     ]
    },
    {
     "name": "stdout",
     "output_type": "stream",
     "text": [
      "mean_loss 0.24522\n",
      "[LightGBM] [Warning] lambda_l1 is set=0, reg_alpha=0.0 will be ignored. Current value: lambda_l1=0\n",
      "[LightGBM] [Warning] bagging_fraction is set=0.75, subsample=1.0 will be ignored. Current value: bagging_fraction=0.75\n",
      "[LightGBM] [Warning] min_gain_to_split is set=4.0, min_split_gain=0.0 will be ignored. Current value: min_gain_to_split=4.0\n",
      "[LightGBM] [Warning] lambda_l2 is set=0, reg_lambda=0.0 will be ignored. Current value: lambda_l2=0\n",
      "[LightGBM] [Warning] feature_fraction is set=0.95, colsample_bytree=1.0 will be ignored. Current value: feature_fraction=0.95\n",
      "[LightGBM] [Warning] min_data_in_leaf is set=60, min_child_samples=20 will be ignored. Current value: min_data_in_leaf=60\n",
      "[LightGBM] [Warning] bagging_freq is set=1, subsample_freq=0 will be ignored. Current value: bagging_freq=1\n"
     ]
    },
    {
     "name": "stderr",
     "output_type": "stream",
     "text": [
      "\u001b[32m[I 2022-05-08 20:46:21,370]\u001b[0m Trial 137 finished with value: 0.24522475913297445 and parameters: {'n_estimators': 10000, 'learning_rate': 0.05, 'num_leaves': 180, 'max_depth': 12, 'min_data_in_leaf': 60, 'lambda_l1': 0, 'lambda_l2': 0, 'min_gain_to_split': 4.0, 'bagging_fraction': 0.75, 'bagging_freq': 1, 'feature_fraction': 0.95}. Best is trial 27 with value: 0.24087001468860544.\u001b[0m\n",
      "\u001b[32m[I 2022-05-08 20:46:21,438]\u001b[0m Trial 138 pruned. Trial was pruned at iteration 0.\u001b[0m\n"
     ]
    },
    {
     "name": "stdout",
     "output_type": "stream",
     "text": [
      "mean_loss 0.24522\n",
      "[LightGBM] [Warning] lambda_l1 is set=20, reg_alpha=0.0 will be ignored. Current value: lambda_l1=20\n",
      "[LightGBM] [Warning] bagging_fraction is set=0.75, subsample=1.0 will be ignored. Current value: bagging_fraction=0.75\n",
      "[LightGBM] [Warning] min_gain_to_split is set=1.0, min_split_gain=0.0 will be ignored. Current value: min_gain_to_split=1.0\n",
      "[LightGBM] [Warning] lambda_l2 is set=0, reg_lambda=0.0 will be ignored. Current value: lambda_l2=0\n",
      "[LightGBM] [Warning] feature_fraction is set=0.95, colsample_bytree=1.0 will be ignored. Current value: feature_fraction=0.95\n",
      "[LightGBM] [Warning] min_data_in_leaf is set=60, min_child_samples=20 will be ignored. Current value: min_data_in_leaf=60\n",
      "[LightGBM] [Warning] bagging_freq is set=1, subsample_freq=0 will be ignored. Current value: bagging_freq=1\n"
     ]
    },
    {
     "name": "stderr",
     "output_type": "stream",
     "text": [
      "\u001b[32m[I 2022-05-08 20:46:21,867]\u001b[0m Trial 139 finished with value: 0.24522475913297445 and parameters: {'n_estimators': 10000, 'learning_rate': 0.05, 'num_leaves': 180, 'max_depth': 12, 'min_data_in_leaf': 60, 'lambda_l1': 0, 'lambda_l2': 0, 'min_gain_to_split': 4.0, 'bagging_fraction': 0.75, 'bagging_freq': 1, 'feature_fraction': 0.95}. Best is trial 27 with value: 0.24087001468860544.\u001b[0m\n",
      "\u001b[32m[I 2022-05-08 20:46:21,936]\u001b[0m Trial 140 pruned. Trial was pruned at iteration 0.\u001b[0m\n"
     ]
    },
    {
     "name": "stdout",
     "output_type": "stream",
     "text": [
      "mean_loss 0.24522\n",
      "[LightGBM] [Warning] lambda_l1 is set=0, reg_alpha=0.0 will be ignored. Current value: lambda_l1=0\n",
      "[LightGBM] [Warning] bagging_fraction is set=0.75, subsample=1.0 will be ignored. Current value: bagging_fraction=0.75\n",
      "[LightGBM] [Warning] min_gain_to_split is set=4.0, min_split_gain=0.0 will be ignored. Current value: min_gain_to_split=4.0\n",
      "[LightGBM] [Warning] lambda_l2 is set=0, reg_lambda=0.0 will be ignored. Current value: lambda_l2=0\n",
      "[LightGBM] [Warning] feature_fraction is set=0.65, colsample_bytree=1.0 will be ignored. Current value: feature_fraction=0.65\n",
      "[LightGBM] [Warning] min_data_in_leaf is set=60, min_child_samples=20 will be ignored. Current value: min_data_in_leaf=60\n",
      "[LightGBM] [Warning] bagging_freq is set=1, subsample_freq=0 will be ignored. Current value: bagging_freq=1\n"
     ]
    },
    {
     "name": "stderr",
     "output_type": "stream",
     "text": [
      "\u001b[32m[I 2022-05-08 20:46:22,336]\u001b[0m Trial 141 finished with value: 0.24522475913297445 and parameters: {'n_estimators': 10000, 'learning_rate': 0.05, 'num_leaves': 180, 'max_depth': 12, 'min_data_in_leaf': 60, 'lambda_l1': 0, 'lambda_l2': 0, 'min_gain_to_split': 4.0, 'bagging_fraction': 0.75, 'bagging_freq': 1, 'feature_fraction': 0.95}. Best is trial 27 with value: 0.24087001468860544.\u001b[0m\n"
     ]
    },
    {
     "name": "stdout",
     "output_type": "stream",
     "text": [
      "mean_loss 0.24522\n",
      "[LightGBM] [Warning] lambda_l1 is set=0, reg_alpha=0.0 will be ignored. Current value: lambda_l1=0\n",
      "[LightGBM] [Warning] bagging_fraction is set=0.75, subsample=1.0 will be ignored. Current value: bagging_fraction=0.75\n",
      "[LightGBM] [Warning] min_gain_to_split is set=4.0, min_split_gain=0.0 will be ignored. Current value: min_gain_to_split=4.0\n",
      "[LightGBM] [Warning] lambda_l2 is set=0, reg_lambda=0.0 will be ignored. Current value: lambda_l2=0\n",
      "[LightGBM] [Warning] feature_fraction is set=0.95, colsample_bytree=1.0 will be ignored. Current value: feature_fraction=0.95\n",
      "[LightGBM] [Warning] min_data_in_leaf is set=60, min_child_samples=20 will be ignored. Current value: min_data_in_leaf=60\n",
      "[LightGBM] [Warning] bagging_freq is set=1, subsample_freq=0 will be ignored. Current value: bagging_freq=1\n"
     ]
    },
    {
     "name": "stderr",
     "output_type": "stream",
     "text": [
      "\u001b[32m[I 2022-05-08 20:46:22,835]\u001b[0m Trial 142 finished with value: 0.24522475913297445 and parameters: {'n_estimators': 10000, 'learning_rate': 0.05, 'num_leaves': 180, 'max_depth': 12, 'min_data_in_leaf': 60, 'lambda_l1': 0, 'lambda_l2': 0, 'min_gain_to_split': 4.0, 'bagging_fraction': 0.75, 'bagging_freq': 1, 'feature_fraction': 0.95}. Best is trial 27 with value: 0.24087001468860544.\u001b[0m\n"
     ]
    },
    {
     "name": "stdout",
     "output_type": "stream",
     "text": [
      "mean_loss 0.24522\n",
      "[LightGBM] [Warning] lambda_l1 is set=0, reg_alpha=0.0 will be ignored. Current value: lambda_l1=0\n",
      "[LightGBM] [Warning] bagging_fraction is set=0.75, subsample=1.0 will be ignored. Current value: bagging_fraction=0.75\n",
      "[LightGBM] [Warning] min_gain_to_split is set=4.0, min_split_gain=0.0 will be ignored. Current value: min_gain_to_split=4.0\n",
      "[LightGBM] [Warning] lambda_l2 is set=0, reg_lambda=0.0 will be ignored. Current value: lambda_l2=0\n",
      "[LightGBM] [Warning] feature_fraction is set=0.95, colsample_bytree=1.0 will be ignored. Current value: feature_fraction=0.95\n",
      "[LightGBM] [Warning] min_data_in_leaf is set=60, min_child_samples=20 will be ignored. Current value: min_data_in_leaf=60\n",
      "[LightGBM] [Warning] bagging_freq is set=1, subsample_freq=0 will be ignored. Current value: bagging_freq=1\n"
     ]
    },
    {
     "name": "stderr",
     "output_type": "stream",
     "text": [
      "\u001b[32m[I 2022-05-08 20:46:23,242]\u001b[0m Trial 143 finished with value: 0.24522475913297445 and parameters: {'n_estimators': 10000, 'learning_rate': 0.05, 'num_leaves': 180, 'max_depth': 12, 'min_data_in_leaf': 60, 'lambda_l1': 0, 'lambda_l2': 0, 'min_gain_to_split': 4.0, 'bagging_fraction': 0.75, 'bagging_freq': 1, 'feature_fraction': 0.95}. Best is trial 27 with value: 0.24087001468860544.\u001b[0m\n",
      "\u001b[32m[I 2022-05-08 20:46:23,311]\u001b[0m Trial 144 pruned. Trial was pruned at iteration 0.\u001b[0m\n",
      "\u001b[32m[I 2022-05-08 20:46:23,381]\u001b[0m Trial 145 pruned. Trial was pruned at iteration 0.\u001b[0m\n"
     ]
    },
    {
     "name": "stdout",
     "output_type": "stream",
     "text": [
      "mean_loss 0.24522\n",
      "[LightGBM] [Warning] lambda_l1 is set=0, reg_alpha=0.0 will be ignored. Current value: lambda_l1=0\n",
      "[LightGBM] [Warning] bagging_fraction is set=0.75, subsample=1.0 will be ignored. Current value: bagging_fraction=0.75\n",
      "[LightGBM] [Warning] min_gain_to_split is set=4.0, min_split_gain=0.0 will be ignored. Current value: min_gain_to_split=4.0\n",
      "[LightGBM] [Warning] lambda_l2 is set=0, reg_lambda=0.0 will be ignored. Current value: lambda_l2=0\n",
      "[LightGBM] [Warning] feature_fraction is set=0.95, colsample_bytree=1.0 will be ignored. Current value: feature_fraction=0.95\n",
      "[LightGBM] [Warning] min_data_in_leaf is set=60, min_child_samples=20 will be ignored. Current value: min_data_in_leaf=60\n",
      "[LightGBM] [Warning] bagging_freq is set=1, subsample_freq=0 will be ignored. Current value: bagging_freq=1\n"
     ]
    },
    {
     "name": "stderr",
     "output_type": "stream",
     "text": [
      "\u001b[32m[I 2022-05-08 20:46:23,493]\u001b[0m Trial 146 pruned. Trial was pruned at iteration 2.\u001b[0m\n",
      "\u001b[32m[I 2022-05-08 20:46:24,059]\u001b[0m Trial 147 finished with value: 0.24255892275299473 and parameters: {'n_estimators': 10000, 'learning_rate': 0.05, 'num_leaves': 180, 'max_depth': 12, 'min_data_in_leaf': 40, 'lambda_l1': 0, 'lambda_l2': 0, 'min_gain_to_split': 4.0, 'bagging_fraction': 0.75, 'bagging_freq': 1, 'feature_fraction': 0.95}. Best is trial 27 with value: 0.24087001468860544.\u001b[0m\n"
     ]
    },
    {
     "name": "stdout",
     "output_type": "stream",
     "text": [
      "mean_loss 0.24256\n",
      "[LightGBM] [Warning] lambda_l1 is set=0, reg_alpha=0.0 will be ignored. Current value: lambda_l1=0\n",
      "[LightGBM] [Warning] bagging_fraction is set=0.75, subsample=1.0 will be ignored. Current value: bagging_fraction=0.75\n",
      "[LightGBM] [Warning] min_gain_to_split is set=4.0, min_split_gain=0.0 will be ignored. Current value: min_gain_to_split=4.0\n",
      "[LightGBM] [Warning] lambda_l2 is set=0, reg_lambda=0.0 will be ignored. Current value: lambda_l2=0\n",
      "[LightGBM] [Warning] feature_fraction is set=0.95, colsample_bytree=1.0 will be ignored. Current value: feature_fraction=0.95\n",
      "[LightGBM] [Warning] min_data_in_leaf is set=40, min_child_samples=20 will be ignored. Current value: min_data_in_leaf=40\n",
      "[LightGBM] [Warning] bagging_freq is set=1, subsample_freq=0 will be ignored. Current value: bagging_freq=1\n"
     ]
    },
    {
     "name": "stderr",
     "output_type": "stream",
     "text": [
      "\u001b[32m[I 2022-05-08 20:46:24,511]\u001b[0m Trial 148 finished with value: 0.24255892275299473 and parameters: {'n_estimators': 10000, 'learning_rate': 0.05, 'num_leaves': 180, 'max_depth': 12, 'min_data_in_leaf': 40, 'lambda_l1': 0, 'lambda_l2': 0, 'min_gain_to_split': 4.0, 'bagging_fraction': 0.75, 'bagging_freq': 1, 'feature_fraction': 0.95}. Best is trial 27 with value: 0.24087001468860544.\u001b[0m\n",
      "\u001b[32m[I 2022-05-08 20:46:24,581]\u001b[0m Trial 149 pruned. Trial was pruned at iteration 0.\u001b[0m\n"
     ]
    },
    {
     "name": "stdout",
     "output_type": "stream",
     "text": [
      "mean_loss 0.24256\n",
      "[LightGBM] [Warning] lambda_l1 is set=0, reg_alpha=0.0 will be ignored. Current value: lambda_l1=0\n",
      "[LightGBM] [Warning] bagging_fraction is set=0.75, subsample=1.0 will be ignored. Current value: bagging_fraction=0.75\n",
      "[LightGBM] [Warning] min_gain_to_split is set=4.0, min_split_gain=0.0 will be ignored. Current value: min_gain_to_split=4.0\n",
      "[LightGBM] [Warning] lambda_l2 is set=0, reg_lambda=0.0 will be ignored. Current value: lambda_l2=0\n",
      "[LightGBM] [Warning] feature_fraction is set=0.55, colsample_bytree=1.0 will be ignored. Current value: feature_fraction=0.55\n",
      "[LightGBM] [Warning] min_data_in_leaf is set=40, min_child_samples=20 will be ignored. Current value: min_data_in_leaf=40\n",
      "[LightGBM] [Warning] bagging_freq is set=1, subsample_freq=0 will be ignored. Current value: bagging_freq=1\n"
     ]
    },
    {
     "name": "stderr",
     "output_type": "stream",
     "text": [
      "\u001b[32m[I 2022-05-08 20:46:25,358]\u001b[0m Trial 150 finished with value: 0.24344300682240116 and parameters: {'n_estimators': 10000, 'learning_rate': 0.05, 'num_leaves': 180, 'max_depth': 12, 'min_data_in_leaf': 60, 'lambda_l1': 0, 'lambda_l2': 0, 'min_gain_to_split': 0.0, 'bagging_fraction': 0.75, 'bagging_freq': 1, 'feature_fraction': 0.95}. Best is trial 27 with value: 0.24087001468860544.\u001b[0m\n"
     ]
    },
    {
     "name": "stdout",
     "output_type": "stream",
     "text": [
      "mean_loss 0.24344\n",
      "[LightGBM] [Warning] lambda_l1 is set=0, reg_alpha=0.0 will be ignored. Current value: lambda_l1=0\n",
      "[LightGBM] [Warning] bagging_fraction is set=0.75, subsample=1.0 will be ignored. Current value: bagging_fraction=0.75\n",
      "[LightGBM] [Warning] min_gain_to_split is set=0.0, min_split_gain=0.0 will be ignored. Current value: min_gain_to_split=0.0\n",
      "[LightGBM] [Warning] lambda_l2 is set=0, reg_lambda=0.0 will be ignored. Current value: lambda_l2=0\n",
      "[LightGBM] [Warning] feature_fraction is set=0.95, colsample_bytree=1.0 will be ignored. Current value: feature_fraction=0.95\n",
      "[LightGBM] [Warning] min_data_in_leaf is set=60, min_child_samples=20 will be ignored. Current value: min_data_in_leaf=60\n",
      "[LightGBM] [Warning] bagging_freq is set=1, subsample_freq=0 will be ignored. Current value: bagging_freq=1\n"
     ]
    },
    {
     "name": "stderr",
     "output_type": "stream",
     "text": [
      "\u001b[32m[I 2022-05-08 20:46:26,287]\u001b[0m Trial 151 finished with value: 0.24344300682240116 and parameters: {'n_estimators': 10000, 'learning_rate': 0.05, 'num_leaves': 180, 'max_depth': 12, 'min_data_in_leaf': 60, 'lambda_l1': 0, 'lambda_l2': 0, 'min_gain_to_split': 0.0, 'bagging_fraction': 0.75, 'bagging_freq': 1, 'feature_fraction': 0.95}. Best is trial 27 with value: 0.24087001468860544.\u001b[0m\n"
     ]
    },
    {
     "name": "stdout",
     "output_type": "stream",
     "text": [
      "mean_loss 0.24344\n",
      "[LightGBM] [Warning] lambda_l1 is set=0, reg_alpha=0.0 will be ignored. Current value: lambda_l1=0\n",
      "[LightGBM] [Warning] bagging_fraction is set=0.75, subsample=1.0 will be ignored. Current value: bagging_fraction=0.75\n",
      "[LightGBM] [Warning] min_gain_to_split is set=0.0, min_split_gain=0.0 will be ignored. Current value: min_gain_to_split=0.0\n",
      "[LightGBM] [Warning] lambda_l2 is set=0, reg_lambda=0.0 will be ignored. Current value: lambda_l2=0\n",
      "[LightGBM] [Warning] feature_fraction is set=0.95, colsample_bytree=1.0 will be ignored. Current value: feature_fraction=0.95\n",
      "[LightGBM] [Warning] min_data_in_leaf is set=60, min_child_samples=20 will be ignored. Current value: min_data_in_leaf=60\n",
      "[LightGBM] [Warning] bagging_freq is set=1, subsample_freq=0 will be ignored. Current value: bagging_freq=1\n"
     ]
    },
    {
     "name": "stderr",
     "output_type": "stream",
     "text": [
      "\u001b[32m[I 2022-05-08 20:46:27,182]\u001b[0m Trial 152 finished with value: 0.24344300682240116 and parameters: {'n_estimators': 10000, 'learning_rate': 0.05, 'num_leaves': 180, 'max_depth': 12, 'min_data_in_leaf': 60, 'lambda_l1': 0, 'lambda_l2': 0, 'min_gain_to_split': 0.0, 'bagging_fraction': 0.75, 'bagging_freq': 1, 'feature_fraction': 0.95}. Best is trial 27 with value: 0.24087001468860544.\u001b[0m\n",
      "\u001b[32m[I 2022-05-08 20:46:27,260]\u001b[0m Trial 153 pruned. Trial was pruned at iteration 0.\u001b[0m\n",
      "\u001b[32m[I 2022-05-08 20:46:27,332]\u001b[0m Trial 154 pruned. Trial was pruned at iteration 0.\u001b[0m\n"
     ]
    },
    {
     "name": "stdout",
     "output_type": "stream",
     "text": [
      "mean_loss 0.24344\n",
      "[LightGBM] [Warning] lambda_l1 is set=0, reg_alpha=0.0 will be ignored. Current value: lambda_l1=0\n",
      "[LightGBM] [Warning] bagging_fraction is set=0.75, subsample=1.0 will be ignored. Current value: bagging_fraction=0.75\n",
      "[LightGBM] [Warning] min_gain_to_split is set=0.0, min_split_gain=0.0 will be ignored. Current value: min_gain_to_split=0.0\n",
      "[LightGBM] [Warning] lambda_l2 is set=0, reg_lambda=0.0 will be ignored. Current value: lambda_l2=0\n",
      "[LightGBM] [Warning] feature_fraction is set=0.45, colsample_bytree=1.0 will be ignored. Current value: feature_fraction=0.45\n",
      "[LightGBM] [Warning] min_data_in_leaf is set=60, min_child_samples=20 will be ignored. Current value: min_data_in_leaf=60\n",
      "[LightGBM] [Warning] bagging_freq is set=1, subsample_freq=0 will be ignored. Current value: bagging_freq=1\n"
     ]
    },
    {
     "name": "stderr",
     "output_type": "stream",
     "text": [
      "\u001b[32m[I 2022-05-08 20:46:28,150]\u001b[0m Trial 155 finished with value: 0.2380135210586933 and parameters: {'n_estimators': 10000, 'learning_rate': 0.05, 'num_leaves': 180, 'max_depth': 12, 'min_data_in_leaf': 40, 'lambda_l1': 0, 'lambda_l2': 0, 'min_gain_to_split': 0.0, 'bagging_fraction': 0.75, 'bagging_freq': 1, 'feature_fraction': 0.95}. Best is trial 155 with value: 0.2380135210586933.\u001b[0m\n"
     ]
    },
    {
     "name": "stdout",
     "output_type": "stream",
     "text": [
      "mean_loss 0.23801\n",
      "[LightGBM] [Warning] lambda_l1 is set=0, reg_alpha=0.0 will be ignored. Current value: lambda_l1=0\n",
      "[LightGBM] [Warning] bagging_fraction is set=0.75, subsample=1.0 will be ignored. Current value: bagging_fraction=0.75\n",
      "[LightGBM] [Warning] min_gain_to_split is set=0.0, min_split_gain=0.0 will be ignored. Current value: min_gain_to_split=0.0\n",
      "[LightGBM] [Warning] lambda_l2 is set=0, reg_lambda=0.0 will be ignored. Current value: lambda_l2=0\n",
      "[LightGBM] [Warning] feature_fraction is set=0.95, colsample_bytree=1.0 will be ignored. Current value: feature_fraction=0.95\n",
      "[LightGBM] [Warning] min_data_in_leaf is set=40, min_child_samples=20 will be ignored. Current value: min_data_in_leaf=40\n",
      "[LightGBM] [Warning] bagging_freq is set=1, subsample_freq=0 will be ignored. Current value: bagging_freq=1\n"
     ]
    },
    {
     "name": "stderr",
     "output_type": "stream",
     "text": [
      "\u001b[32m[I 2022-05-08 20:46:28,990]\u001b[0m Trial 156 finished with value: 0.2380135210586933 and parameters: {'n_estimators': 10000, 'learning_rate': 0.05, 'num_leaves': 180, 'max_depth': 12, 'min_data_in_leaf': 40, 'lambda_l1': 0, 'lambda_l2': 0, 'min_gain_to_split': 0.0, 'bagging_fraction': 0.75, 'bagging_freq': 1, 'feature_fraction': 0.95}. Best is trial 155 with value: 0.2380135210586933.\u001b[0m\n",
      "\u001b[32m[I 2022-05-08 20:46:29,060]\u001b[0m Trial 157 pruned. Trial was pruned at iteration 0.\u001b[0m\n"
     ]
    },
    {
     "name": "stdout",
     "output_type": "stream",
     "text": [
      "mean_loss 0.23801\n",
      "[LightGBM] [Warning] lambda_l1 is set=0, reg_alpha=0.0 will be ignored. Current value: lambda_l1=0\n",
      "[LightGBM] [Warning] bagging_fraction is set=0.75, subsample=1.0 will be ignored. Current value: bagging_fraction=0.75\n",
      "[LightGBM] [Warning] min_gain_to_split is set=0.0, min_split_gain=0.0 will be ignored. Current value: min_gain_to_split=0.0\n",
      "[LightGBM] [Warning] lambda_l2 is set=40, reg_lambda=0.0 will be ignored. Current value: lambda_l2=40\n",
      "[LightGBM] [Warning] feature_fraction is set=0.95, colsample_bytree=1.0 will be ignored. Current value: feature_fraction=0.95\n",
      "[LightGBM] [Warning] min_data_in_leaf is set=40, min_child_samples=20 will be ignored. Current value: min_data_in_leaf=40\n",
      "[LightGBM] [Warning] bagging_freq is set=1, subsample_freq=0 will be ignored. Current value: bagging_freq=1\n"
     ]
    },
    {
     "name": "stderr",
     "output_type": "stream",
     "text": [
      "\u001b[32m[I 2022-05-08 20:46:29,967]\u001b[0m Trial 158 finished with value: 0.2380135210586933 and parameters: {'n_estimators': 10000, 'learning_rate': 0.05, 'num_leaves': 180, 'max_depth': 12, 'min_data_in_leaf': 40, 'lambda_l1': 0, 'lambda_l2': 0, 'min_gain_to_split': 0.0, 'bagging_fraction': 0.75, 'bagging_freq': 1, 'feature_fraction': 0.95}. Best is trial 155 with value: 0.2380135210586933.\u001b[0m\n"
     ]
    },
    {
     "name": "stdout",
     "output_type": "stream",
     "text": [
      "mean_loss 0.23801\n",
      "[LightGBM] [Warning] lambda_l1 is set=0, reg_alpha=0.0 will be ignored. Current value: lambda_l1=0\n",
      "[LightGBM] [Warning] bagging_fraction is set=0.75, subsample=1.0 will be ignored. Current value: bagging_fraction=0.75\n",
      "[LightGBM] [Warning] min_gain_to_split is set=0.0, min_split_gain=0.0 will be ignored. Current value: min_gain_to_split=0.0\n",
      "[LightGBM] [Warning] lambda_l2 is set=0, reg_lambda=0.0 will be ignored. Current value: lambda_l2=0\n",
      "[LightGBM] [Warning] feature_fraction is set=0.95, colsample_bytree=1.0 will be ignored. Current value: feature_fraction=0.95\n",
      "[LightGBM] [Warning] min_data_in_leaf is set=40, min_child_samples=20 will be ignored. Current value: min_data_in_leaf=40\n",
      "[LightGBM] [Warning] bagging_freq is set=1, subsample_freq=0 will be ignored. Current value: bagging_freq=1\n"
     ]
    },
    {
     "name": "stderr",
     "output_type": "stream",
     "text": [
      "\u001b[32m[I 2022-05-08 20:46:30,950]\u001b[0m Trial 159 finished with value: 0.2380135210586933 and parameters: {'n_estimators': 10000, 'learning_rate': 0.05, 'num_leaves': 180, 'max_depth': 12, 'min_data_in_leaf': 40, 'lambda_l1': 0, 'lambda_l2': 0, 'min_gain_to_split': 0.0, 'bagging_fraction': 0.75, 'bagging_freq': 1, 'feature_fraction': 0.95}. Best is trial 155 with value: 0.2380135210586933.\u001b[0m\n"
     ]
    },
    {
     "name": "stdout",
     "output_type": "stream",
     "text": [
      "mean_loss 0.23801\n",
      "[LightGBM] [Warning] lambda_l1 is set=0, reg_alpha=0.0 will be ignored. Current value: lambda_l1=0\n",
      "[LightGBM] [Warning] bagging_fraction is set=0.75, subsample=1.0 will be ignored. Current value: bagging_fraction=0.75\n",
      "[LightGBM] [Warning] min_gain_to_split is set=0.0, min_split_gain=0.0 will be ignored. Current value: min_gain_to_split=0.0\n",
      "[LightGBM] [Warning] lambda_l2 is set=0, reg_lambda=0.0 will be ignored. Current value: lambda_l2=0\n",
      "[LightGBM] [Warning] feature_fraction is set=0.95, colsample_bytree=1.0 will be ignored. Current value: feature_fraction=0.95\n",
      "[LightGBM] [Warning] min_data_in_leaf is set=40, min_child_samples=20 will be ignored. Current value: min_data_in_leaf=40\n",
      "[LightGBM] [Warning] bagging_freq is set=1, subsample_freq=0 will be ignored. Current value: bagging_freq=1\n"
     ]
    },
    {
     "name": "stderr",
     "output_type": "stream",
     "text": [
      "\u001b[32m[I 2022-05-08 20:46:32,048]\u001b[0m Trial 160 finished with value: 0.2380135210586933 and parameters: {'n_estimators': 10000, 'learning_rate': 0.05, 'num_leaves': 180, 'max_depth': 12, 'min_data_in_leaf': 40, 'lambda_l1': 0, 'lambda_l2': 0, 'min_gain_to_split': 0.0, 'bagging_fraction': 0.75, 'bagging_freq': 1, 'feature_fraction': 0.95}. Best is trial 155 with value: 0.2380135210586933.\u001b[0m\n"
     ]
    },
    {
     "name": "stdout",
     "output_type": "stream",
     "text": [
      "mean_loss 0.23801\n",
      "[LightGBM] [Warning] lambda_l1 is set=0, reg_alpha=0.0 will be ignored. Current value: lambda_l1=0\n",
      "[LightGBM] [Warning] bagging_fraction is set=0.75, subsample=1.0 will be ignored. Current value: bagging_fraction=0.75\n",
      "[LightGBM] [Warning] min_gain_to_split is set=0.0, min_split_gain=0.0 will be ignored. Current value: min_gain_to_split=0.0\n",
      "[LightGBM] [Warning] lambda_l2 is set=0, reg_lambda=0.0 will be ignored. Current value: lambda_l2=0\n",
      "[LightGBM] [Warning] feature_fraction is set=0.95, colsample_bytree=1.0 will be ignored. Current value: feature_fraction=0.95\n",
      "[LightGBM] [Warning] min_data_in_leaf is set=40, min_child_samples=20 will be ignored. Current value: min_data_in_leaf=40\n",
      "[LightGBM] [Warning] bagging_freq is set=1, subsample_freq=0 will be ignored. Current value: bagging_freq=1\n"
     ]
    },
    {
     "name": "stderr",
     "output_type": "stream",
     "text": [
      "\u001b[32m[I 2022-05-08 20:46:33,017]\u001b[0m Trial 161 finished with value: 0.2380135210586933 and parameters: {'n_estimators': 10000, 'learning_rate': 0.05, 'num_leaves': 180, 'max_depth': 12, 'min_data_in_leaf': 40, 'lambda_l1': 0, 'lambda_l2': 0, 'min_gain_to_split': 0.0, 'bagging_fraction': 0.75, 'bagging_freq': 1, 'feature_fraction': 0.95}. Best is trial 155 with value: 0.2380135210586933.\u001b[0m\n"
     ]
    },
    {
     "name": "stdout",
     "output_type": "stream",
     "text": [
      "mean_loss 0.23801\n",
      "[LightGBM] [Warning] lambda_l1 is set=0, reg_alpha=0.0 will be ignored. Current value: lambda_l1=0\n",
      "[LightGBM] [Warning] bagging_fraction is set=0.75, subsample=1.0 will be ignored. Current value: bagging_fraction=0.75\n",
      "[LightGBM] [Warning] min_gain_to_split is set=0.0, min_split_gain=0.0 will be ignored. Current value: min_gain_to_split=0.0\n",
      "[LightGBM] [Warning] lambda_l2 is set=0, reg_lambda=0.0 will be ignored. Current value: lambda_l2=0\n",
      "[LightGBM] [Warning] feature_fraction is set=0.95, colsample_bytree=1.0 will be ignored. Current value: feature_fraction=0.95\n",
      "[LightGBM] [Warning] min_data_in_leaf is set=40, min_child_samples=20 will be ignored. Current value: min_data_in_leaf=40\n",
      "[LightGBM] [Warning] bagging_freq is set=1, subsample_freq=0 will be ignored. Current value: bagging_freq=1\n"
     ]
    },
    {
     "name": "stderr",
     "output_type": "stream",
     "text": [
      "\u001b[32m[I 2022-05-08 20:46:34,423]\u001b[0m Trial 162 finished with value: 0.2380135210586933 and parameters: {'n_estimators': 10000, 'learning_rate': 0.05, 'num_leaves': 180, 'max_depth': 12, 'min_data_in_leaf': 40, 'lambda_l1': 0, 'lambda_l2': 0, 'min_gain_to_split': 0.0, 'bagging_fraction': 0.75, 'bagging_freq': 1, 'feature_fraction': 0.95}. Best is trial 155 with value: 0.2380135210586933.\u001b[0m\n"
     ]
    },
    {
     "name": "stdout",
     "output_type": "stream",
     "text": [
      "mean_loss 0.23801\n",
      "[LightGBM] [Warning] lambda_l1 is set=0, reg_alpha=0.0 will be ignored. Current value: lambda_l1=0\n",
      "[LightGBM] [Warning] bagging_fraction is set=0.75, subsample=1.0 will be ignored. Current value: bagging_fraction=0.75\n",
      "[LightGBM] [Warning] min_gain_to_split is set=0.0, min_split_gain=0.0 will be ignored. Current value: min_gain_to_split=0.0\n",
      "[LightGBM] [Warning] lambda_l2 is set=0, reg_lambda=0.0 will be ignored. Current value: lambda_l2=0\n",
      "[LightGBM] [Warning] feature_fraction is set=0.95, colsample_bytree=1.0 will be ignored. Current value: feature_fraction=0.95\n",
      "[LightGBM] [Warning] min_data_in_leaf is set=40, min_child_samples=20 will be ignored. Current value: min_data_in_leaf=40\n",
      "[LightGBM] [Warning] bagging_freq is set=1, subsample_freq=0 will be ignored. Current value: bagging_freq=1\n"
     ]
    },
    {
     "name": "stderr",
     "output_type": "stream",
     "text": [
      "\u001b[32m[I 2022-05-08 20:46:35,262]\u001b[0m Trial 163 finished with value: 0.2380135210586933 and parameters: {'n_estimators': 10000, 'learning_rate': 0.05, 'num_leaves': 180, 'max_depth': 12, 'min_data_in_leaf': 40, 'lambda_l1': 0, 'lambda_l2': 0, 'min_gain_to_split': 0.0, 'bagging_fraction': 0.75, 'bagging_freq': 1, 'feature_fraction': 0.95}. Best is trial 155 with value: 0.2380135210586933.\u001b[0m\n"
     ]
    },
    {
     "name": "stdout",
     "output_type": "stream",
     "text": [
      "mean_loss 0.23801\n",
      "[LightGBM] [Warning] lambda_l1 is set=0, reg_alpha=0.0 will be ignored. Current value: lambda_l1=0\n",
      "[LightGBM] [Warning] bagging_fraction is set=0.75, subsample=1.0 will be ignored. Current value: bagging_fraction=0.75\n",
      "[LightGBM] [Warning] min_gain_to_split is set=0.0, min_split_gain=0.0 will be ignored. Current value: min_gain_to_split=0.0\n",
      "[LightGBM] [Warning] lambda_l2 is set=0, reg_lambda=0.0 will be ignored. Current value: lambda_l2=0\n",
      "[LightGBM] [Warning] feature_fraction is set=0.95, colsample_bytree=1.0 will be ignored. Current value: feature_fraction=0.95\n",
      "[LightGBM] [Warning] min_data_in_leaf is set=40, min_child_samples=20 will be ignored. Current value: min_data_in_leaf=40\n",
      "[LightGBM] [Warning] bagging_freq is set=1, subsample_freq=0 will be ignored. Current value: bagging_freq=1\n"
     ]
    },
    {
     "name": "stderr",
     "output_type": "stream",
     "text": [
      "\u001b[32m[I 2022-05-08 20:46:36,322]\u001b[0m Trial 164 finished with value: 0.2380135210586933 and parameters: {'n_estimators': 10000, 'learning_rate': 0.05, 'num_leaves': 180, 'max_depth': 12, 'min_data_in_leaf': 40, 'lambda_l1': 0, 'lambda_l2': 0, 'min_gain_to_split': 0.0, 'bagging_fraction': 0.75, 'bagging_freq': 1, 'feature_fraction': 0.95}. Best is trial 155 with value: 0.2380135210586933.\u001b[0m\n"
     ]
    },
    {
     "name": "stdout",
     "output_type": "stream",
     "text": [
      "mean_loss 0.23801\n",
      "[LightGBM] [Warning] lambda_l1 is set=0, reg_alpha=0.0 will be ignored. Current value: lambda_l1=0\n",
      "[LightGBM] [Warning] bagging_fraction is set=0.75, subsample=1.0 will be ignored. Current value: bagging_fraction=0.75\n",
      "[LightGBM] [Warning] min_gain_to_split is set=0.0, min_split_gain=0.0 will be ignored. Current value: min_gain_to_split=0.0\n",
      "[LightGBM] [Warning] lambda_l2 is set=0, reg_lambda=0.0 will be ignored. Current value: lambda_l2=0\n",
      "[LightGBM] [Warning] feature_fraction is set=0.95, colsample_bytree=1.0 will be ignored. Current value: feature_fraction=0.95\n",
      "[LightGBM] [Warning] min_data_in_leaf is set=40, min_child_samples=20 will be ignored. Current value: min_data_in_leaf=40\n",
      "[LightGBM] [Warning] bagging_freq is set=1, subsample_freq=0 will be ignored. Current value: bagging_freq=1\n"
     ]
    },
    {
     "name": "stderr",
     "output_type": "stream",
     "text": [
      "\u001b[32m[I 2022-05-08 20:46:37,327]\u001b[0m Trial 165 finished with value: 0.2380135210586933 and parameters: {'n_estimators': 10000, 'learning_rate': 0.05, 'num_leaves': 180, 'max_depth': 12, 'min_data_in_leaf': 40, 'lambda_l1': 0, 'lambda_l2': 0, 'min_gain_to_split': 0.0, 'bagging_fraction': 0.75, 'bagging_freq': 1, 'feature_fraction': 0.95}. Best is trial 155 with value: 0.2380135210586933.\u001b[0m\n"
     ]
    },
    {
     "name": "stdout",
     "output_type": "stream",
     "text": [
      "mean_loss 0.23801\n",
      "[LightGBM] [Warning] lambda_l1 is set=0, reg_alpha=0.0 will be ignored. Current value: lambda_l1=0\n",
      "[LightGBM] [Warning] bagging_fraction is set=0.75, subsample=1.0 will be ignored. Current value: bagging_fraction=0.75\n",
      "[LightGBM] [Warning] min_gain_to_split is set=0.0, min_split_gain=0.0 will be ignored. Current value: min_gain_to_split=0.0\n",
      "[LightGBM] [Warning] lambda_l2 is set=0, reg_lambda=0.0 will be ignored. Current value: lambda_l2=0\n",
      "[LightGBM] [Warning] feature_fraction is set=0.95, colsample_bytree=1.0 will be ignored. Current value: feature_fraction=0.95\n",
      "[LightGBM] [Warning] min_data_in_leaf is set=40, min_child_samples=20 will be ignored. Current value: min_data_in_leaf=40\n",
      "[LightGBM] [Warning] bagging_freq is set=1, subsample_freq=0 will be ignored. Current value: bagging_freq=1\n"
     ]
    },
    {
     "name": "stderr",
     "output_type": "stream",
     "text": [
      "\u001b[32m[I 2022-05-08 20:46:38,243]\u001b[0m Trial 166 finished with value: 0.2380135210586933 and parameters: {'n_estimators': 10000, 'learning_rate': 0.05, 'num_leaves': 180, 'max_depth': 12, 'min_data_in_leaf': 40, 'lambda_l1': 0, 'lambda_l2': 0, 'min_gain_to_split': 0.0, 'bagging_fraction': 0.75, 'bagging_freq': 1, 'feature_fraction': 0.95}. Best is trial 155 with value: 0.2380135210586933.\u001b[0m\n"
     ]
    },
    {
     "name": "stdout",
     "output_type": "stream",
     "text": [
      "mean_loss 0.23801\n",
      "[LightGBM] [Warning] lambda_l1 is set=0, reg_alpha=0.0 will be ignored. Current value: lambda_l1=0\n",
      "[LightGBM] [Warning] bagging_fraction is set=0.75, subsample=1.0 will be ignored. Current value: bagging_fraction=0.75\n",
      "[LightGBM] [Warning] min_gain_to_split is set=0.0, min_split_gain=0.0 will be ignored. Current value: min_gain_to_split=0.0\n",
      "[LightGBM] [Warning] lambda_l2 is set=0, reg_lambda=0.0 will be ignored. Current value: lambda_l2=0\n",
      "[LightGBM] [Warning] feature_fraction is set=0.95, colsample_bytree=1.0 will be ignored. Current value: feature_fraction=0.95\n",
      "[LightGBM] [Warning] min_data_in_leaf is set=40, min_child_samples=20 will be ignored. Current value: min_data_in_leaf=40\n",
      "[LightGBM] [Warning] bagging_freq is set=1, subsample_freq=0 will be ignored. Current value: bagging_freq=1\n"
     ]
    },
    {
     "name": "stderr",
     "output_type": "stream",
     "text": [
      "\u001b[32m[I 2022-05-08 20:46:39,000]\u001b[0m Trial 167 finished with value: 0.23836621985816098 and parameters: {'n_estimators': 10000, 'learning_rate': 0.05, 'num_leaves': 150, 'max_depth': 12, 'min_data_in_leaf': 40, 'lambda_l1': 0, 'lambda_l2': 0, 'min_gain_to_split': 0.0, 'bagging_fraction': 0.75, 'bagging_freq': 1, 'feature_fraction': 0.95}. Best is trial 155 with value: 0.2380135210586933.\u001b[0m\n"
     ]
    },
    {
     "name": "stdout",
     "output_type": "stream",
     "text": [
      "mean_loss 0.23837\n",
      "[LightGBM] [Warning] lambda_l1 is set=0, reg_alpha=0.0 will be ignored. Current value: lambda_l1=0\n",
      "[LightGBM] [Warning] bagging_fraction is set=0.75, subsample=1.0 will be ignored. Current value: bagging_fraction=0.75\n",
      "[LightGBM] [Warning] min_gain_to_split is set=0.0, min_split_gain=0.0 will be ignored. Current value: min_gain_to_split=0.0\n",
      "[LightGBM] [Warning] lambda_l2 is set=0, reg_lambda=0.0 will be ignored. Current value: lambda_l2=0\n",
      "[LightGBM] [Warning] feature_fraction is set=0.95, colsample_bytree=1.0 will be ignored. Current value: feature_fraction=0.95\n",
      "[LightGBM] [Warning] min_data_in_leaf is set=40, min_child_samples=20 will be ignored. Current value: min_data_in_leaf=40\n",
      "[LightGBM] [Warning] bagging_freq is set=1, subsample_freq=0 will be ignored. Current value: bagging_freq=1\n"
     ]
    },
    {
     "name": "stderr",
     "output_type": "stream",
     "text": [
      "\u001b[32m[I 2022-05-08 20:46:39,757]\u001b[0m Trial 168 finished with value: 0.23836621985816098 and parameters: {'n_estimators': 10000, 'learning_rate': 0.05, 'num_leaves': 150, 'max_depth': 12, 'min_data_in_leaf': 40, 'lambda_l1': 0, 'lambda_l2': 0, 'min_gain_to_split': 0.0, 'bagging_fraction': 0.75, 'bagging_freq': 1, 'feature_fraction': 0.95}. Best is trial 155 with value: 0.2380135210586933.\u001b[0m\n"
     ]
    },
    {
     "name": "stdout",
     "output_type": "stream",
     "text": [
      "mean_loss 0.23837\n",
      "[LightGBM] [Warning] lambda_l1 is set=0, reg_alpha=0.0 will be ignored. Current value: lambda_l1=0\n",
      "[LightGBM] [Warning] bagging_fraction is set=0.75, subsample=1.0 will be ignored. Current value: bagging_fraction=0.75\n",
      "[LightGBM] [Warning] min_gain_to_split is set=0.0, min_split_gain=0.0 will be ignored. Current value: min_gain_to_split=0.0\n",
      "[LightGBM] [Warning] lambda_l2 is set=0, reg_lambda=0.0 will be ignored. Current value: lambda_l2=0\n",
      "[LightGBM] [Warning] feature_fraction is set=0.95, colsample_bytree=1.0 will be ignored. Current value: feature_fraction=0.95\n",
      "[LightGBM] [Warning] min_data_in_leaf is set=40, min_child_samples=20 will be ignored. Current value: min_data_in_leaf=40\n",
      "[LightGBM] [Warning] bagging_freq is set=1, subsample_freq=0 will be ignored. Current value: bagging_freq=1\n"
     ]
    },
    {
     "name": "stderr",
     "output_type": "stream",
     "text": [
      "\u001b[32m[I 2022-05-08 20:46:40,561]\u001b[0m Trial 169 finished with value: 0.23836621985816098 and parameters: {'n_estimators': 10000, 'learning_rate': 0.05, 'num_leaves': 150, 'max_depth': 12, 'min_data_in_leaf': 40, 'lambda_l1': 0, 'lambda_l2': 0, 'min_gain_to_split': 0.0, 'bagging_fraction': 0.75, 'bagging_freq': 1, 'feature_fraction': 0.95}. Best is trial 155 with value: 0.2380135210586933.\u001b[0m\n"
     ]
    },
    {
     "name": "stdout",
     "output_type": "stream",
     "text": [
      "mean_loss 0.23837\n",
      "[LightGBM] [Warning] lambda_l1 is set=0, reg_alpha=0.0 will be ignored. Current value: lambda_l1=0\n",
      "[LightGBM] [Warning] bagging_fraction is set=0.75, subsample=1.0 will be ignored. Current value: bagging_fraction=0.75\n",
      "[LightGBM] [Warning] min_gain_to_split is set=0.0, min_split_gain=0.0 will be ignored. Current value: min_gain_to_split=0.0\n",
      "[LightGBM] [Warning] lambda_l2 is set=0, reg_lambda=0.0 will be ignored. Current value: lambda_l2=0\n",
      "[LightGBM] [Warning] feature_fraction is set=0.95, colsample_bytree=1.0 will be ignored. Current value: feature_fraction=0.95\n",
      "[LightGBM] [Warning] min_data_in_leaf is set=40, min_child_samples=20 will be ignored. Current value: min_data_in_leaf=40\n",
      "[LightGBM] [Warning] bagging_freq is set=1, subsample_freq=0 will be ignored. Current value: bagging_freq=1\n"
     ]
    },
    {
     "name": "stderr",
     "output_type": "stream",
     "text": [
      "\u001b[32m[I 2022-05-08 20:46:41,318]\u001b[0m Trial 170 finished with value: 0.23836621985816098 and parameters: {'n_estimators': 10000, 'learning_rate': 0.05, 'num_leaves': 150, 'max_depth': 12, 'min_data_in_leaf': 40, 'lambda_l1': 0, 'lambda_l2': 0, 'min_gain_to_split': 0.0, 'bagging_fraction': 0.75, 'bagging_freq': 1, 'feature_fraction': 0.95}. Best is trial 155 with value: 0.2380135210586933.\u001b[0m\n"
     ]
    },
    {
     "name": "stdout",
     "output_type": "stream",
     "text": [
      "mean_loss 0.23837\n",
      "[LightGBM] [Warning] lambda_l1 is set=0, reg_alpha=0.0 will be ignored. Current value: lambda_l1=0\n",
      "[LightGBM] [Warning] bagging_fraction is set=0.75, subsample=1.0 will be ignored. Current value: bagging_fraction=0.75\n",
      "[LightGBM] [Warning] min_gain_to_split is set=0.0, min_split_gain=0.0 will be ignored. Current value: min_gain_to_split=0.0\n",
      "[LightGBM] [Warning] lambda_l2 is set=0, reg_lambda=0.0 will be ignored. Current value: lambda_l2=0\n",
      "[LightGBM] [Warning] feature_fraction is set=0.95, colsample_bytree=1.0 will be ignored. Current value: feature_fraction=0.95\n",
      "[LightGBM] [Warning] min_data_in_leaf is set=40, min_child_samples=20 will be ignored. Current value: min_data_in_leaf=40\n",
      "[LightGBM] [Warning] bagging_freq is set=1, subsample_freq=0 will be ignored. Current value: bagging_freq=1\n"
     ]
    },
    {
     "name": "stderr",
     "output_type": "stream",
     "text": [
      "\u001b[32m[I 2022-05-08 20:46:42,073]\u001b[0m Trial 171 finished with value: 0.23836621985816098 and parameters: {'n_estimators': 10000, 'learning_rate': 0.05, 'num_leaves': 150, 'max_depth': 12, 'min_data_in_leaf': 40, 'lambda_l1': 0, 'lambda_l2': 0, 'min_gain_to_split': 0.0, 'bagging_fraction': 0.75, 'bagging_freq': 1, 'feature_fraction': 0.95}. Best is trial 155 with value: 0.2380135210586933.\u001b[0m\n"
     ]
    },
    {
     "name": "stdout",
     "output_type": "stream",
     "text": [
      "mean_loss 0.23837\n",
      "[LightGBM] [Warning] lambda_l1 is set=0, reg_alpha=0.0 will be ignored. Current value: lambda_l1=0\n",
      "[LightGBM] [Warning] bagging_fraction is set=0.75, subsample=1.0 will be ignored. Current value: bagging_fraction=0.75\n",
      "[LightGBM] [Warning] min_gain_to_split is set=0.0, min_split_gain=0.0 will be ignored. Current value: min_gain_to_split=0.0\n",
      "[LightGBM] [Warning] lambda_l2 is set=0, reg_lambda=0.0 will be ignored. Current value: lambda_l2=0\n",
      "[LightGBM] [Warning] feature_fraction is set=0.95, colsample_bytree=1.0 will be ignored. Current value: feature_fraction=0.95\n",
      "[LightGBM] [Warning] min_data_in_leaf is set=40, min_child_samples=20 will be ignored. Current value: min_data_in_leaf=40\n",
      "[LightGBM] [Warning] bagging_freq is set=1, subsample_freq=0 will be ignored. Current value: bagging_freq=1\n"
     ]
    },
    {
     "name": "stderr",
     "output_type": "stream",
     "text": [
      "\u001b[32m[I 2022-05-08 20:46:42,829]\u001b[0m Trial 172 finished with value: 0.23836621985816098 and parameters: {'n_estimators': 10000, 'learning_rate': 0.05, 'num_leaves': 150, 'max_depth': 12, 'min_data_in_leaf': 40, 'lambda_l1': 0, 'lambda_l2': 0, 'min_gain_to_split': 0.0, 'bagging_fraction': 0.75, 'bagging_freq': 1, 'feature_fraction': 0.95}. Best is trial 155 with value: 0.2380135210586933.\u001b[0m\n"
     ]
    },
    {
     "name": "stdout",
     "output_type": "stream",
     "text": [
      "mean_loss 0.23837\n",
      "[LightGBM] [Warning] lambda_l1 is set=0, reg_alpha=0.0 will be ignored. Current value: lambda_l1=0\n",
      "[LightGBM] [Warning] bagging_fraction is set=0.75, subsample=1.0 will be ignored. Current value: bagging_fraction=0.75\n",
      "[LightGBM] [Warning] min_gain_to_split is set=0.0, min_split_gain=0.0 will be ignored. Current value: min_gain_to_split=0.0\n",
      "[LightGBM] [Warning] lambda_l2 is set=0, reg_lambda=0.0 will be ignored. Current value: lambda_l2=0\n",
      "[LightGBM] [Warning] feature_fraction is set=0.95, colsample_bytree=1.0 will be ignored. Current value: feature_fraction=0.95\n",
      "[LightGBM] [Warning] min_data_in_leaf is set=40, min_child_samples=20 will be ignored. Current value: min_data_in_leaf=40\n",
      "[LightGBM] [Warning] bagging_freq is set=1, subsample_freq=0 will be ignored. Current value: bagging_freq=1\n"
     ]
    },
    {
     "name": "stderr",
     "output_type": "stream",
     "text": [
      "\u001b[32m[I 2022-05-08 20:46:43,615]\u001b[0m Trial 173 finished with value: 0.23836621985816098 and parameters: {'n_estimators': 10000, 'learning_rate': 0.05, 'num_leaves': 150, 'max_depth': 12, 'min_data_in_leaf': 40, 'lambda_l1': 0, 'lambda_l2': 0, 'min_gain_to_split': 0.0, 'bagging_fraction': 0.75, 'bagging_freq': 1, 'feature_fraction': 0.95}. Best is trial 155 with value: 0.2380135210586933.\u001b[0m\n"
     ]
    },
    {
     "name": "stdout",
     "output_type": "stream",
     "text": [
      "mean_loss 0.23837\n",
      "[LightGBM] [Warning] lambda_l1 is set=0, reg_alpha=0.0 will be ignored. Current value: lambda_l1=0\n",
      "[LightGBM] [Warning] bagging_fraction is set=0.75, subsample=1.0 will be ignored. Current value: bagging_fraction=0.75\n",
      "[LightGBM] [Warning] min_gain_to_split is set=0.0, min_split_gain=0.0 will be ignored. Current value: min_gain_to_split=0.0\n",
      "[LightGBM] [Warning] lambda_l2 is set=0, reg_lambda=0.0 will be ignored. Current value: lambda_l2=0\n",
      "[LightGBM] [Warning] feature_fraction is set=0.95, colsample_bytree=1.0 will be ignored. Current value: feature_fraction=0.95\n",
      "[LightGBM] [Warning] min_data_in_leaf is set=40, min_child_samples=20 will be ignored. Current value: min_data_in_leaf=40\n",
      "[LightGBM] [Warning] bagging_freq is set=1, subsample_freq=0 will be ignored. Current value: bagging_freq=1\n"
     ]
    },
    {
     "name": "stderr",
     "output_type": "stream",
     "text": [
      "\u001b[32m[I 2022-05-08 20:46:44,400]\u001b[0m Trial 174 finished with value: 0.23836621985816098 and parameters: {'n_estimators': 10000, 'learning_rate': 0.05, 'num_leaves': 150, 'max_depth': 12, 'min_data_in_leaf': 40, 'lambda_l1': 0, 'lambda_l2': 0, 'min_gain_to_split': 0.0, 'bagging_fraction': 0.75, 'bagging_freq': 1, 'feature_fraction': 0.95}. Best is trial 155 with value: 0.2380135210586933.\u001b[0m\n"
     ]
    },
    {
     "name": "stdout",
     "output_type": "stream",
     "text": [
      "mean_loss 0.23837\n",
      "[LightGBM] [Warning] lambda_l1 is set=0, reg_alpha=0.0 will be ignored. Current value: lambda_l1=0\n",
      "[LightGBM] [Warning] bagging_fraction is set=0.75, subsample=1.0 will be ignored. Current value: bagging_fraction=0.75\n",
      "[LightGBM] [Warning] min_gain_to_split is set=0.0, min_split_gain=0.0 will be ignored. Current value: min_gain_to_split=0.0\n",
      "[LightGBM] [Warning] lambda_l2 is set=0, reg_lambda=0.0 will be ignored. Current value: lambda_l2=0\n",
      "[LightGBM] [Warning] feature_fraction is set=0.95, colsample_bytree=1.0 will be ignored. Current value: feature_fraction=0.95\n",
      "[LightGBM] [Warning] min_data_in_leaf is set=40, min_child_samples=20 will be ignored. Current value: min_data_in_leaf=40\n",
      "[LightGBM] [Warning] bagging_freq is set=1, subsample_freq=0 will be ignored. Current value: bagging_freq=1\n"
     ]
    },
    {
     "name": "stderr",
     "output_type": "stream",
     "text": [
      "\u001b[32m[I 2022-05-08 20:46:45,183]\u001b[0m Trial 175 finished with value: 0.23836621985816098 and parameters: {'n_estimators': 10000, 'learning_rate': 0.05, 'num_leaves': 150, 'max_depth': 12, 'min_data_in_leaf': 40, 'lambda_l1': 0, 'lambda_l2': 0, 'min_gain_to_split': 0.0, 'bagging_fraction': 0.75, 'bagging_freq': 1, 'feature_fraction': 0.95}. Best is trial 155 with value: 0.2380135210586933.\u001b[0m\n"
     ]
    },
    {
     "name": "stdout",
     "output_type": "stream",
     "text": [
      "mean_loss 0.23837\n",
      "[LightGBM] [Warning] lambda_l1 is set=0, reg_alpha=0.0 will be ignored. Current value: lambda_l1=0\n",
      "[LightGBM] [Warning] bagging_fraction is set=0.75, subsample=1.0 will be ignored. Current value: bagging_fraction=0.75\n",
      "[LightGBM] [Warning] min_gain_to_split is set=0.0, min_split_gain=0.0 will be ignored. Current value: min_gain_to_split=0.0\n",
      "[LightGBM] [Warning] lambda_l2 is set=0, reg_lambda=0.0 will be ignored. Current value: lambda_l2=0\n",
      "[LightGBM] [Warning] feature_fraction is set=0.95, colsample_bytree=1.0 will be ignored. Current value: feature_fraction=0.95\n",
      "[LightGBM] [Warning] min_data_in_leaf is set=40, min_child_samples=20 will be ignored. Current value: min_data_in_leaf=40\n",
      "[LightGBM] [Warning] bagging_freq is set=1, subsample_freq=0 will be ignored. Current value: bagging_freq=1\n"
     ]
    },
    {
     "name": "stderr",
     "output_type": "stream",
     "text": [
      "\u001b[32m[I 2022-05-08 20:46:45,936]\u001b[0m Trial 176 finished with value: 0.23836621985816098 and parameters: {'n_estimators': 10000, 'learning_rate': 0.05, 'num_leaves': 150, 'max_depth': 12, 'min_data_in_leaf': 40, 'lambda_l1': 0, 'lambda_l2': 0, 'min_gain_to_split': 0.0, 'bagging_fraction': 0.75, 'bagging_freq': 1, 'feature_fraction': 0.95}. Best is trial 155 with value: 0.2380135210586933.\u001b[0m\n"
     ]
    },
    {
     "name": "stdout",
     "output_type": "stream",
     "text": [
      "mean_loss 0.23837\n",
      "[LightGBM] [Warning] lambda_l1 is set=0, reg_alpha=0.0 will be ignored. Current value: lambda_l1=0\n",
      "[LightGBM] [Warning] bagging_fraction is set=0.75, subsample=1.0 will be ignored. Current value: bagging_fraction=0.75\n",
      "[LightGBM] [Warning] min_gain_to_split is set=0.0, min_split_gain=0.0 will be ignored. Current value: min_gain_to_split=0.0\n",
      "[LightGBM] [Warning] lambda_l2 is set=0, reg_lambda=0.0 will be ignored. Current value: lambda_l2=0\n",
      "[LightGBM] [Warning] feature_fraction is set=0.95, colsample_bytree=1.0 will be ignored. Current value: feature_fraction=0.95\n",
      "[LightGBM] [Warning] min_data_in_leaf is set=40, min_child_samples=20 will be ignored. Current value: min_data_in_leaf=40\n",
      "[LightGBM] [Warning] bagging_freq is set=1, subsample_freq=0 will be ignored. Current value: bagging_freq=1\n"
     ]
    },
    {
     "name": "stderr",
     "output_type": "stream",
     "text": [
      "\u001b[32m[I 2022-05-08 20:46:46,639]\u001b[0m Trial 177 finished with value: 0.2386905183530641 and parameters: {'n_estimators': 10000, 'learning_rate': 0.05, 'num_leaves': 120, 'max_depth': 12, 'min_data_in_leaf': 40, 'lambda_l1': 0, 'lambda_l2': 0, 'min_gain_to_split': 0.0, 'bagging_fraction': 0.75, 'bagging_freq': 1, 'feature_fraction': 0.95}. Best is trial 155 with value: 0.2380135210586933.\u001b[0m\n"
     ]
    },
    {
     "name": "stdout",
     "output_type": "stream",
     "text": [
      "mean_loss 0.23869\n",
      "[LightGBM] [Warning] lambda_l1 is set=0, reg_alpha=0.0 will be ignored. Current value: lambda_l1=0\n",
      "[LightGBM] [Warning] bagging_fraction is set=0.75, subsample=1.0 will be ignored. Current value: bagging_fraction=0.75\n",
      "[LightGBM] [Warning] min_gain_to_split is set=0.0, min_split_gain=0.0 will be ignored. Current value: min_gain_to_split=0.0\n",
      "[LightGBM] [Warning] lambda_l2 is set=0, reg_lambda=0.0 will be ignored. Current value: lambda_l2=0\n",
      "[LightGBM] [Warning] feature_fraction is set=0.95, colsample_bytree=1.0 will be ignored. Current value: feature_fraction=0.95\n",
      "[LightGBM] [Warning] min_data_in_leaf is set=40, min_child_samples=20 will be ignored. Current value: min_data_in_leaf=40\n",
      "[LightGBM] [Warning] bagging_freq is set=1, subsample_freq=0 will be ignored. Current value: bagging_freq=1\n"
     ]
    },
    {
     "name": "stderr",
     "output_type": "stream",
     "text": [
      "\u001b[32m[I 2022-05-08 20:46:47,393]\u001b[0m Trial 178 finished with value: 0.23836621985816098 and parameters: {'n_estimators': 10000, 'learning_rate': 0.05, 'num_leaves': 150, 'max_depth': 12, 'min_data_in_leaf': 40, 'lambda_l1': 0, 'lambda_l2': 0, 'min_gain_to_split': 0.0, 'bagging_fraction': 0.75, 'bagging_freq': 1, 'feature_fraction': 0.95}. Best is trial 155 with value: 0.2380135210586933.\u001b[0m\n"
     ]
    },
    {
     "name": "stdout",
     "output_type": "stream",
     "text": [
      "mean_loss 0.23837\n",
      "[LightGBM] [Warning] lambda_l1 is set=0, reg_alpha=0.0 will be ignored. Current value: lambda_l1=0\n",
      "[LightGBM] [Warning] bagging_fraction is set=0.75, subsample=1.0 will be ignored. Current value: bagging_fraction=0.75\n",
      "[LightGBM] [Warning] min_gain_to_split is set=0.0, min_split_gain=0.0 will be ignored. Current value: min_gain_to_split=0.0\n",
      "[LightGBM] [Warning] lambda_l2 is set=0, reg_lambda=0.0 will be ignored. Current value: lambda_l2=0\n",
      "[LightGBM] [Warning] feature_fraction is set=0.95, colsample_bytree=1.0 will be ignored. Current value: feature_fraction=0.95\n",
      "[LightGBM] [Warning] min_data_in_leaf is set=40, min_child_samples=20 will be ignored. Current value: min_data_in_leaf=40\n",
      "[LightGBM] [Warning] bagging_freq is set=1, subsample_freq=0 will be ignored. Current value: bagging_freq=1\n"
     ]
    },
    {
     "name": "stderr",
     "output_type": "stream",
     "text": [
      "\u001b[32m[I 2022-05-08 20:46:48,148]\u001b[0m Trial 179 finished with value: 0.23836621985816098 and parameters: {'n_estimators': 10000, 'learning_rate': 0.05, 'num_leaves': 150, 'max_depth': 12, 'min_data_in_leaf': 40, 'lambda_l1': 0, 'lambda_l2': 0, 'min_gain_to_split': 0.0, 'bagging_fraction': 0.75, 'bagging_freq': 1, 'feature_fraction': 0.95}. Best is trial 155 with value: 0.2380135210586933.\u001b[0m\n",
      "\u001b[32m[I 2022-05-08 20:46:48,229]\u001b[0m Trial 180 pruned. Trial was pruned at iteration 0.\u001b[0m\n"
     ]
    },
    {
     "name": "stdout",
     "output_type": "stream",
     "text": [
      "mean_loss 0.23837\n",
      "[LightGBM] [Warning] lambda_l1 is set=0, reg_alpha=0.0 will be ignored. Current value: lambda_l1=0\n",
      "[LightGBM] [Warning] bagging_fraction is set=0.75, subsample=1.0 will be ignored. Current value: bagging_fraction=0.75\n",
      "[LightGBM] [Warning] min_gain_to_split is set=0.0, min_split_gain=0.0 will be ignored. Current value: min_gain_to_split=0.0\n",
      "[LightGBM] [Warning] lambda_l2 is set=0, reg_lambda=0.0 will be ignored. Current value: lambda_l2=0\n",
      "[LightGBM] [Warning] feature_fraction is set=0.95, colsample_bytree=1.0 will be ignored. Current value: feature_fraction=0.95\n",
      "[LightGBM] [Warning] min_data_in_leaf is set=40, min_child_samples=20 will be ignored. Current value: min_data_in_leaf=40\n",
      "[LightGBM] [Warning] bagging_freq is set=1, subsample_freq=0 will be ignored. Current value: bagging_freq=1\n"
     ]
    },
    {
     "name": "stderr",
     "output_type": "stream",
     "text": [
      "\u001b[32m[I 2022-05-08 20:46:48,993]\u001b[0m Trial 181 finished with value: 0.23836621985816098 and parameters: {'n_estimators': 10000, 'learning_rate': 0.05, 'num_leaves': 150, 'max_depth': 12, 'min_data_in_leaf': 40, 'lambda_l1': 0, 'lambda_l2': 0, 'min_gain_to_split': 0.0, 'bagging_fraction': 0.75, 'bagging_freq': 1, 'feature_fraction': 0.95}. Best is trial 155 with value: 0.2380135210586933.\u001b[0m\n"
     ]
    },
    {
     "name": "stdout",
     "output_type": "stream",
     "text": [
      "mean_loss 0.23837\n",
      "[LightGBM] [Warning] lambda_l1 is set=0, reg_alpha=0.0 will be ignored. Current value: lambda_l1=0\n",
      "[LightGBM] [Warning] bagging_fraction is set=0.75, subsample=1.0 will be ignored. Current value: bagging_fraction=0.75\n",
      "[LightGBM] [Warning] min_gain_to_split is set=0.0, min_split_gain=0.0 will be ignored. Current value: min_gain_to_split=0.0\n",
      "[LightGBM] [Warning] lambda_l2 is set=0, reg_lambda=0.0 will be ignored. Current value: lambda_l2=0\n",
      "[LightGBM] [Warning] feature_fraction is set=0.95, colsample_bytree=1.0 will be ignored. Current value: feature_fraction=0.95\n",
      "[LightGBM] [Warning] min_data_in_leaf is set=40, min_child_samples=20 will be ignored. Current value: min_data_in_leaf=40\n",
      "[LightGBM] [Warning] bagging_freq is set=1, subsample_freq=0 will be ignored. Current value: bagging_freq=1\n"
     ]
    },
    {
     "name": "stderr",
     "output_type": "stream",
     "text": [
      "\u001b[32m[I 2022-05-08 20:46:49,773]\u001b[0m Trial 182 finished with value: 0.23836621985816098 and parameters: {'n_estimators': 10000, 'learning_rate': 0.05, 'num_leaves': 150, 'max_depth': 12, 'min_data_in_leaf': 40, 'lambda_l1': 0, 'lambda_l2': 0, 'min_gain_to_split': 0.0, 'bagging_fraction': 0.75, 'bagging_freq': 1, 'feature_fraction': 0.95}. Best is trial 155 with value: 0.2380135210586933.\u001b[0m\n"
     ]
    },
    {
     "name": "stdout",
     "output_type": "stream",
     "text": [
      "mean_loss 0.23837\n",
      "[LightGBM] [Warning] lambda_l1 is set=0, reg_alpha=0.0 will be ignored. Current value: lambda_l1=0\n",
      "[LightGBM] [Warning] bagging_fraction is set=0.75, subsample=1.0 will be ignored. Current value: bagging_fraction=0.75\n",
      "[LightGBM] [Warning] min_gain_to_split is set=0.0, min_split_gain=0.0 will be ignored. Current value: min_gain_to_split=0.0\n",
      "[LightGBM] [Warning] lambda_l2 is set=0, reg_lambda=0.0 will be ignored. Current value: lambda_l2=0\n",
      "[LightGBM] [Warning] feature_fraction is set=0.95, colsample_bytree=1.0 will be ignored. Current value: feature_fraction=0.95\n",
      "[LightGBM] [Warning] min_data_in_leaf is set=40, min_child_samples=20 will be ignored. Current value: min_data_in_leaf=40\n",
      "[LightGBM] [Warning] bagging_freq is set=1, subsample_freq=0 will be ignored. Current value: bagging_freq=1\n"
     ]
    },
    {
     "name": "stderr",
     "output_type": "stream",
     "text": [
      "\u001b[32m[I 2022-05-08 20:46:50,556]\u001b[0m Trial 183 finished with value: 0.23836621985816098 and parameters: {'n_estimators': 10000, 'learning_rate': 0.05, 'num_leaves': 150, 'max_depth': 12, 'min_data_in_leaf': 40, 'lambda_l1': 0, 'lambda_l2': 0, 'min_gain_to_split': 0.0, 'bagging_fraction': 0.75, 'bagging_freq': 1, 'feature_fraction': 0.95}. Best is trial 155 with value: 0.2380135210586933.\u001b[0m\n"
     ]
    },
    {
     "name": "stdout",
     "output_type": "stream",
     "text": [
      "mean_loss 0.23837\n",
      "[LightGBM] [Warning] lambda_l1 is set=0, reg_alpha=0.0 will be ignored. Current value: lambda_l1=0\n",
      "[LightGBM] [Warning] bagging_fraction is set=0.75, subsample=1.0 will be ignored. Current value: bagging_fraction=0.75\n",
      "[LightGBM] [Warning] min_gain_to_split is set=0.0, min_split_gain=0.0 will be ignored. Current value: min_gain_to_split=0.0\n",
      "[LightGBM] [Warning] lambda_l2 is set=0, reg_lambda=0.0 will be ignored. Current value: lambda_l2=0\n",
      "[LightGBM] [Warning] feature_fraction is set=0.95, colsample_bytree=1.0 will be ignored. Current value: feature_fraction=0.95\n",
      "[LightGBM] [Warning] min_data_in_leaf is set=40, min_child_samples=20 will be ignored. Current value: min_data_in_leaf=40\n",
      "[LightGBM] [Warning] bagging_freq is set=1, subsample_freq=0 will be ignored. Current value: bagging_freq=1\n"
     ]
    },
    {
     "name": "stderr",
     "output_type": "stream",
     "text": [
      "\u001b[32m[I 2022-05-08 20:46:51,340]\u001b[0m Trial 184 finished with value: 0.23836621985816098 and parameters: {'n_estimators': 10000, 'learning_rate': 0.05, 'num_leaves': 150, 'max_depth': 12, 'min_data_in_leaf': 40, 'lambda_l1': 0, 'lambda_l2': 0, 'min_gain_to_split': 0.0, 'bagging_fraction': 0.75, 'bagging_freq': 1, 'feature_fraction': 0.95}. Best is trial 155 with value: 0.2380135210586933.\u001b[0m\n"
     ]
    },
    {
     "name": "stdout",
     "output_type": "stream",
     "text": [
      "mean_loss 0.23837\n",
      "[LightGBM] [Warning] lambda_l1 is set=0, reg_alpha=0.0 will be ignored. Current value: lambda_l1=0\n",
      "[LightGBM] [Warning] bagging_fraction is set=0.75, subsample=1.0 will be ignored. Current value: bagging_fraction=0.75\n",
      "[LightGBM] [Warning] min_gain_to_split is set=0.0, min_split_gain=0.0 will be ignored. Current value: min_gain_to_split=0.0\n",
      "[LightGBM] [Warning] lambda_l2 is set=0, reg_lambda=0.0 will be ignored. Current value: lambda_l2=0\n",
      "[LightGBM] [Warning] feature_fraction is set=0.95, colsample_bytree=1.0 will be ignored. Current value: feature_fraction=0.95\n",
      "[LightGBM] [Warning] min_data_in_leaf is set=40, min_child_samples=20 will be ignored. Current value: min_data_in_leaf=40\n",
      "[LightGBM] [Warning] bagging_freq is set=1, subsample_freq=0 will be ignored. Current value: bagging_freq=1\n"
     ]
    },
    {
     "name": "stderr",
     "output_type": "stream",
     "text": [
      "\u001b[32m[I 2022-05-08 20:46:52,156]\u001b[0m Trial 185 finished with value: 0.23836621985816098 and parameters: {'n_estimators': 10000, 'learning_rate': 0.05, 'num_leaves': 150, 'max_depth': 12, 'min_data_in_leaf': 40, 'lambda_l1': 0, 'lambda_l2': 0, 'min_gain_to_split': 0.0, 'bagging_fraction': 0.75, 'bagging_freq': 1, 'feature_fraction': 0.95}. Best is trial 155 with value: 0.2380135210586933.\u001b[0m\n"
     ]
    },
    {
     "name": "stdout",
     "output_type": "stream",
     "text": [
      "mean_loss 0.23837\n",
      "[LightGBM] [Warning] lambda_l1 is set=0, reg_alpha=0.0 will be ignored. Current value: lambda_l1=0\n",
      "[LightGBM] [Warning] bagging_fraction is set=0.75, subsample=1.0 will be ignored. Current value: bagging_fraction=0.75\n",
      "[LightGBM] [Warning] min_gain_to_split is set=0.0, min_split_gain=0.0 will be ignored. Current value: min_gain_to_split=0.0\n",
      "[LightGBM] [Warning] lambda_l2 is set=0, reg_lambda=0.0 will be ignored. Current value: lambda_l2=0\n",
      "[LightGBM] [Warning] feature_fraction is set=0.95, colsample_bytree=1.0 will be ignored. Current value: feature_fraction=0.95\n",
      "[LightGBM] [Warning] min_data_in_leaf is set=40, min_child_samples=20 will be ignored. Current value: min_data_in_leaf=40\n",
      "[LightGBM] [Warning] bagging_freq is set=1, subsample_freq=0 will be ignored. Current value: bagging_freq=1\n"
     ]
    },
    {
     "name": "stderr",
     "output_type": "stream",
     "text": [
      "\u001b[32m[I 2022-05-08 20:46:52,939]\u001b[0m Trial 186 finished with value: 0.23836621985816098 and parameters: {'n_estimators': 10000, 'learning_rate': 0.05, 'num_leaves': 150, 'max_depth': 12, 'min_data_in_leaf': 40, 'lambda_l1': 0, 'lambda_l2': 0, 'min_gain_to_split': 0.0, 'bagging_fraction': 0.75, 'bagging_freq': 1, 'feature_fraction': 0.95}. Best is trial 155 with value: 0.2380135210586933.\u001b[0m\n"
     ]
    },
    {
     "name": "stdout",
     "output_type": "stream",
     "text": [
      "mean_loss 0.23837\n",
      "[LightGBM] [Warning] lambda_l1 is set=0, reg_alpha=0.0 will be ignored. Current value: lambda_l1=0\n",
      "[LightGBM] [Warning] bagging_fraction is set=0.75, subsample=1.0 will be ignored. Current value: bagging_fraction=0.75\n",
      "[LightGBM] [Warning] min_gain_to_split is set=0.0, min_split_gain=0.0 will be ignored. Current value: min_gain_to_split=0.0\n",
      "[LightGBM] [Warning] lambda_l2 is set=0, reg_lambda=0.0 will be ignored. Current value: lambda_l2=0\n",
      "[LightGBM] [Warning] feature_fraction is set=0.95, colsample_bytree=1.0 will be ignored. Current value: feature_fraction=0.95\n",
      "[LightGBM] [Warning] min_data_in_leaf is set=40, min_child_samples=20 will be ignored. Current value: min_data_in_leaf=40\n",
      "[LightGBM] [Warning] bagging_freq is set=1, subsample_freq=0 will be ignored. Current value: bagging_freq=1\n"
     ]
    },
    {
     "name": "stderr",
     "output_type": "stream",
     "text": [
      "\u001b[32m[I 2022-05-08 20:46:53,699]\u001b[0m Trial 187 finished with value: 0.23836621985816098 and parameters: {'n_estimators': 10000, 'learning_rate': 0.05, 'num_leaves': 150, 'max_depth': 12, 'min_data_in_leaf': 40, 'lambda_l1': 0, 'lambda_l2': 0, 'min_gain_to_split': 0.0, 'bagging_fraction': 0.75, 'bagging_freq': 1, 'feature_fraction': 0.95}. Best is trial 155 with value: 0.2380135210586933.\u001b[0m\n"
     ]
    },
    {
     "name": "stdout",
     "output_type": "stream",
     "text": [
      "mean_loss 0.23837\n",
      "[LightGBM] [Warning] lambda_l1 is set=0, reg_alpha=0.0 will be ignored. Current value: lambda_l1=0\n",
      "[LightGBM] [Warning] bagging_fraction is set=0.75, subsample=1.0 will be ignored. Current value: bagging_fraction=0.75\n",
      "[LightGBM] [Warning] min_gain_to_split is set=0.0, min_split_gain=0.0 will be ignored. Current value: min_gain_to_split=0.0\n",
      "[LightGBM] [Warning] lambda_l2 is set=0, reg_lambda=0.0 will be ignored. Current value: lambda_l2=0\n",
      "[LightGBM] [Warning] feature_fraction is set=0.95, colsample_bytree=1.0 will be ignored. Current value: feature_fraction=0.95\n",
      "[LightGBM] [Warning] min_data_in_leaf is set=40, min_child_samples=20 will be ignored. Current value: min_data_in_leaf=40\n",
      "[LightGBM] [Warning] bagging_freq is set=1, subsample_freq=0 will be ignored. Current value: bagging_freq=1\n"
     ]
    },
    {
     "name": "stderr",
     "output_type": "stream",
     "text": [
      "\u001b[32m[I 2022-05-08 20:46:54,472]\u001b[0m Trial 188 finished with value: 0.23836621985816098 and parameters: {'n_estimators': 10000, 'learning_rate': 0.05, 'num_leaves': 150, 'max_depth': 12, 'min_data_in_leaf': 40, 'lambda_l1': 0, 'lambda_l2': 0, 'min_gain_to_split': 0.0, 'bagging_fraction': 0.75, 'bagging_freq': 1, 'feature_fraction': 0.95}. Best is trial 155 with value: 0.2380135210586933.\u001b[0m\n"
     ]
    },
    {
     "name": "stdout",
     "output_type": "stream",
     "text": [
      "mean_loss 0.23837\n",
      "[LightGBM] [Warning] lambda_l1 is set=0, reg_alpha=0.0 will be ignored. Current value: lambda_l1=0\n",
      "[LightGBM] [Warning] bagging_fraction is set=0.75, subsample=1.0 will be ignored. Current value: bagging_fraction=0.75\n",
      "[LightGBM] [Warning] min_gain_to_split is set=0.0, min_split_gain=0.0 will be ignored. Current value: min_gain_to_split=0.0\n",
      "[LightGBM] [Warning] lambda_l2 is set=0, reg_lambda=0.0 will be ignored. Current value: lambda_l2=0\n",
      "[LightGBM] [Warning] feature_fraction is set=0.95, colsample_bytree=1.0 will be ignored. Current value: feature_fraction=0.95\n",
      "[LightGBM] [Warning] min_data_in_leaf is set=40, min_child_samples=20 will be ignored. Current value: min_data_in_leaf=40\n",
      "[LightGBM] [Warning] bagging_freq is set=1, subsample_freq=0 will be ignored. Current value: bagging_freq=1\n"
     ]
    },
    {
     "name": "stderr",
     "output_type": "stream",
     "text": [
      "\u001b[32m[I 2022-05-08 20:46:55,228]\u001b[0m Trial 189 finished with value: 0.23836621985816098 and parameters: {'n_estimators': 10000, 'learning_rate': 0.05, 'num_leaves': 150, 'max_depth': 12, 'min_data_in_leaf': 40, 'lambda_l1': 0, 'lambda_l2': 0, 'min_gain_to_split': 0.0, 'bagging_fraction': 0.75, 'bagging_freq': 1, 'feature_fraction': 0.95}. Best is trial 155 with value: 0.2380135210586933.\u001b[0m\n",
      "\u001b[32m[I 2022-05-08 20:46:55,301]\u001b[0m Trial 190 pruned. Trial was pruned at iteration 0.\u001b[0m\n"
     ]
    },
    {
     "name": "stdout",
     "output_type": "stream",
     "text": [
      "mean_loss 0.23837\n",
      "[LightGBM] [Warning] lambda_l1 is set=0, reg_alpha=0.0 will be ignored. Current value: lambda_l1=0\n",
      "[LightGBM] [Warning] bagging_fraction is set=0.75, subsample=1.0 will be ignored. Current value: bagging_fraction=0.75\n",
      "[LightGBM] [Warning] min_gain_to_split is set=0.0, min_split_gain=0.0 will be ignored. Current value: min_gain_to_split=0.0\n",
      "[LightGBM] [Warning] lambda_l2 is set=80, reg_lambda=0.0 will be ignored. Current value: lambda_l2=80\n",
      "[LightGBM] [Warning] feature_fraction is set=0.95, colsample_bytree=1.0 will be ignored. Current value: feature_fraction=0.95\n",
      "[LightGBM] [Warning] min_data_in_leaf is set=40, min_child_samples=20 will be ignored. Current value: min_data_in_leaf=40\n",
      "[LightGBM] [Warning] bagging_freq is set=1, subsample_freq=0 will be ignored. Current value: bagging_freq=1\n"
     ]
    },
    {
     "name": "stderr",
     "output_type": "stream",
     "text": [
      "\u001b[32m[I 2022-05-08 20:46:56,100]\u001b[0m Trial 191 finished with value: 0.23836621985816098 and parameters: {'n_estimators': 10000, 'learning_rate': 0.05, 'num_leaves': 150, 'max_depth': 12, 'min_data_in_leaf': 40, 'lambda_l1': 0, 'lambda_l2': 0, 'min_gain_to_split': 0.0, 'bagging_fraction': 0.75, 'bagging_freq': 1, 'feature_fraction': 0.95}. Best is trial 155 with value: 0.2380135210586933.\u001b[0m\n"
     ]
    },
    {
     "name": "stdout",
     "output_type": "stream",
     "text": [
      "mean_loss 0.23837\n",
      "[LightGBM] [Warning] lambda_l1 is set=0, reg_alpha=0.0 will be ignored. Current value: lambda_l1=0\n",
      "[LightGBM] [Warning] bagging_fraction is set=0.75, subsample=1.0 will be ignored. Current value: bagging_fraction=0.75\n",
      "[LightGBM] [Warning] min_gain_to_split is set=0.0, min_split_gain=0.0 will be ignored. Current value: min_gain_to_split=0.0\n",
      "[LightGBM] [Warning] lambda_l2 is set=0, reg_lambda=0.0 will be ignored. Current value: lambda_l2=0\n",
      "[LightGBM] [Warning] feature_fraction is set=0.95, colsample_bytree=1.0 will be ignored. Current value: feature_fraction=0.95\n",
      "[LightGBM] [Warning] min_data_in_leaf is set=40, min_child_samples=20 will be ignored. Current value: min_data_in_leaf=40\n",
      "[LightGBM] [Warning] bagging_freq is set=1, subsample_freq=0 will be ignored. Current value: bagging_freq=1\n"
     ]
    },
    {
     "name": "stderr",
     "output_type": "stream",
     "text": [
      "\u001b[32m[I 2022-05-08 20:46:56,856]\u001b[0m Trial 192 finished with value: 0.23836621985816098 and parameters: {'n_estimators': 10000, 'learning_rate': 0.05, 'num_leaves': 150, 'max_depth': 12, 'min_data_in_leaf': 40, 'lambda_l1': 0, 'lambda_l2': 0, 'min_gain_to_split': 0.0, 'bagging_fraction': 0.75, 'bagging_freq': 1, 'feature_fraction': 0.95}. Best is trial 155 with value: 0.2380135210586933.\u001b[0m\n"
     ]
    },
    {
     "name": "stdout",
     "output_type": "stream",
     "text": [
      "mean_loss 0.23837\n",
      "[LightGBM] [Warning] lambda_l1 is set=0, reg_alpha=0.0 will be ignored. Current value: lambda_l1=0\n",
      "[LightGBM] [Warning] bagging_fraction is set=0.75, subsample=1.0 will be ignored. Current value: bagging_fraction=0.75\n",
      "[LightGBM] [Warning] min_gain_to_split is set=0.0, min_split_gain=0.0 will be ignored. Current value: min_gain_to_split=0.0\n",
      "[LightGBM] [Warning] lambda_l2 is set=0, reg_lambda=0.0 will be ignored. Current value: lambda_l2=0\n",
      "[LightGBM] [Warning] feature_fraction is set=0.95, colsample_bytree=1.0 will be ignored. Current value: feature_fraction=0.95\n",
      "[LightGBM] [Warning] min_data_in_leaf is set=40, min_child_samples=20 will be ignored. Current value: min_data_in_leaf=40\n",
      "[LightGBM] [Warning] bagging_freq is set=1, subsample_freq=0 will be ignored. Current value: bagging_freq=1\n"
     ]
    },
    {
     "name": "stderr",
     "output_type": "stream",
     "text": [
      "\u001b[32m[I 2022-05-08 20:46:57,639]\u001b[0m Trial 193 finished with value: 0.23836621985816098 and parameters: {'n_estimators': 10000, 'learning_rate': 0.05, 'num_leaves': 150, 'max_depth': 12, 'min_data_in_leaf': 40, 'lambda_l1': 0, 'lambda_l2': 0, 'min_gain_to_split': 0.0, 'bagging_fraction': 0.75, 'bagging_freq': 1, 'feature_fraction': 0.95}. Best is trial 155 with value: 0.2380135210586933.\u001b[0m\n"
     ]
    },
    {
     "name": "stdout",
     "output_type": "stream",
     "text": [
      "mean_loss 0.23837\n",
      "[LightGBM] [Warning] lambda_l1 is set=0, reg_alpha=0.0 will be ignored. Current value: lambda_l1=0\n",
      "[LightGBM] [Warning] bagging_fraction is set=0.75, subsample=1.0 will be ignored. Current value: bagging_fraction=0.75\n",
      "[LightGBM] [Warning] min_gain_to_split is set=0.0, min_split_gain=0.0 will be ignored. Current value: min_gain_to_split=0.0\n",
      "[LightGBM] [Warning] lambda_l2 is set=0, reg_lambda=0.0 will be ignored. Current value: lambda_l2=0\n",
      "[LightGBM] [Warning] feature_fraction is set=0.95, colsample_bytree=1.0 will be ignored. Current value: feature_fraction=0.95\n",
      "[LightGBM] [Warning] min_data_in_leaf is set=40, min_child_samples=20 will be ignored. Current value: min_data_in_leaf=40\n",
      "[LightGBM] [Warning] bagging_freq is set=1, subsample_freq=0 will be ignored. Current value: bagging_freq=1\n"
     ]
    },
    {
     "name": "stderr",
     "output_type": "stream",
     "text": [
      "\u001b[32m[I 2022-05-08 20:46:58,396]\u001b[0m Trial 194 finished with value: 0.23836621985816098 and parameters: {'n_estimators': 10000, 'learning_rate': 0.05, 'num_leaves': 150, 'max_depth': 12, 'min_data_in_leaf': 40, 'lambda_l1': 0, 'lambda_l2': 0, 'min_gain_to_split': 0.0, 'bagging_fraction': 0.75, 'bagging_freq': 1, 'feature_fraction': 0.95}. Best is trial 155 with value: 0.2380135210586933.\u001b[0m\n"
     ]
    },
    {
     "name": "stdout",
     "output_type": "stream",
     "text": [
      "mean_loss 0.23837\n",
      "[LightGBM] [Warning] lambda_l1 is set=0, reg_alpha=0.0 will be ignored. Current value: lambda_l1=0\n",
      "[LightGBM] [Warning] bagging_fraction is set=0.75, subsample=1.0 will be ignored. Current value: bagging_fraction=0.75\n",
      "[LightGBM] [Warning] min_gain_to_split is set=0.0, min_split_gain=0.0 will be ignored. Current value: min_gain_to_split=0.0\n",
      "[LightGBM] [Warning] lambda_l2 is set=0, reg_lambda=0.0 will be ignored. Current value: lambda_l2=0\n",
      "[LightGBM] [Warning] feature_fraction is set=0.95, colsample_bytree=1.0 will be ignored. Current value: feature_fraction=0.95\n",
      "[LightGBM] [Warning] min_data_in_leaf is set=40, min_child_samples=20 will be ignored. Current value: min_data_in_leaf=40\n",
      "[LightGBM] [Warning] bagging_freq is set=1, subsample_freq=0 will be ignored. Current value: bagging_freq=1\n"
     ]
    },
    {
     "name": "stderr",
     "output_type": "stream",
     "text": [
      "\u001b[32m[I 2022-05-08 20:46:59,213]\u001b[0m Trial 195 finished with value: 0.23836621985816098 and parameters: {'n_estimators': 10000, 'learning_rate': 0.05, 'num_leaves': 150, 'max_depth': 12, 'min_data_in_leaf': 40, 'lambda_l1': 0, 'lambda_l2': 0, 'min_gain_to_split': 0.0, 'bagging_fraction': 0.75, 'bagging_freq': 1, 'feature_fraction': 0.95}. Best is trial 155 with value: 0.2380135210586933.\u001b[0m\n",
      "\u001b[32m[I 2022-05-08 20:46:59,296]\u001b[0m Trial 196 pruned. Trial was pruned at iteration 0.\u001b[0m\n"
     ]
    },
    {
     "name": "stdout",
     "output_type": "stream",
     "text": [
      "mean_loss 0.23837\n",
      "[LightGBM] [Warning] lambda_l1 is set=80, reg_alpha=0.0 will be ignored. Current value: lambda_l1=80\n",
      "[LightGBM] [Warning] bagging_fraction is set=0.75, subsample=1.0 will be ignored. Current value: bagging_fraction=0.75\n",
      "[LightGBM] [Warning] min_gain_to_split is set=0.0, min_split_gain=0.0 will be ignored. Current value: min_gain_to_split=0.0\n",
      "[LightGBM] [Warning] lambda_l2 is set=0, reg_lambda=0.0 will be ignored. Current value: lambda_l2=0\n",
      "[LightGBM] [Warning] feature_fraction is set=0.95, colsample_bytree=1.0 will be ignored. Current value: feature_fraction=0.95\n",
      "[LightGBM] [Warning] min_data_in_leaf is set=40, min_child_samples=20 will be ignored. Current value: min_data_in_leaf=40\n",
      "[LightGBM] [Warning] bagging_freq is set=1, subsample_freq=0 will be ignored. Current value: bagging_freq=1\n"
     ]
    },
    {
     "name": "stderr",
     "output_type": "stream",
     "text": [
      "\u001b[32m[I 2022-05-08 20:47:00,102]\u001b[0m Trial 197 finished with value: 0.24251816147449728 and parameters: {'n_estimators': 10000, 'learning_rate': 0.05, 'num_leaves': 150, 'max_depth': 12, 'min_data_in_leaf': 40, 'lambda_l1': 0, 'lambda_l2': 0, 'min_gain_to_split': 0.0, 'bagging_fraction': 0.45, 'bagging_freq': 1, 'feature_fraction': 0.95}. Best is trial 155 with value: 0.2380135210586933.\u001b[0m\n"
     ]
    },
    {
     "name": "stdout",
     "output_type": "stream",
     "text": [
      "mean_loss 0.24252\n",
      "[LightGBM] [Warning] lambda_l1 is set=0, reg_alpha=0.0 will be ignored. Current value: lambda_l1=0\n",
      "[LightGBM] [Warning] bagging_fraction is set=0.75, subsample=1.0 will be ignored. Current value: bagging_fraction=0.75\n",
      "[LightGBM] [Warning] min_gain_to_split is set=0.0, min_split_gain=0.0 will be ignored. Current value: min_gain_to_split=0.0\n",
      "[LightGBM] [Warning] lambda_l2 is set=0, reg_lambda=0.0 will be ignored. Current value: lambda_l2=0\n",
      "[LightGBM] [Warning] feature_fraction is set=0.95, colsample_bytree=1.0 will be ignored. Current value: feature_fraction=0.95\n",
      "[LightGBM] [Warning] min_data_in_leaf is set=40, min_child_samples=20 will be ignored. Current value: min_data_in_leaf=40\n",
      "[LightGBM] [Warning] bagging_freq is set=1, subsample_freq=0 will be ignored. Current value: bagging_freq=1\n"
     ]
    },
    {
     "name": "stderr",
     "output_type": "stream",
     "text": [
      "\u001b[32m[I 2022-05-08 20:47:00,968]\u001b[0m Trial 198 finished with value: 0.23836621985816098 and parameters: {'n_estimators': 10000, 'learning_rate': 0.05, 'num_leaves': 150, 'max_depth': 12, 'min_data_in_leaf': 40, 'lambda_l1': 0, 'lambda_l2': 0, 'min_gain_to_split': 0.0, 'bagging_fraction': 0.75, 'bagging_freq': 1, 'feature_fraction': 0.95}. Best is trial 155 with value: 0.2380135210586933.\u001b[0m\n",
      "\u001b[32m[I 2022-05-08 20:47:01,043]\u001b[0m Trial 199 pruned. Trial was pruned at iteration 0.\u001b[0m\n",
      "\u001b[32m[I 2022-05-08 20:47:01,122]\u001b[0m Trial 200 pruned. Trial was pruned at iteration 0.\u001b[0m\n"
     ]
    },
    {
     "name": "stdout",
     "output_type": "stream",
     "text": [
      "mean_loss 0.23837\n",
      "[LightGBM] [Warning] lambda_l1 is set=0, reg_alpha=0.0 will be ignored. Current value: lambda_l1=0\n",
      "[LightGBM] [Warning] bagging_fraction is set=0.75, subsample=1.0 will be ignored. Current value: bagging_fraction=0.75\n",
      "[LightGBM] [Warning] min_gain_to_split is set=0.0, min_split_gain=0.0 will be ignored. Current value: min_gain_to_split=0.0\n",
      "[LightGBM] [Warning] lambda_l2 is set=60, reg_lambda=0.0 will be ignored. Current value: lambda_l2=60\n",
      "[LightGBM] [Warning] feature_fraction is set=0.95, colsample_bytree=1.0 will be ignored. Current value: feature_fraction=0.95\n",
      "[LightGBM] [Warning] min_data_in_leaf is set=40, min_child_samples=20 will be ignored. Current value: min_data_in_leaf=40\n",
      "[LightGBM] [Warning] bagging_freq is set=1, subsample_freq=0 will be ignored. Current value: bagging_freq=1\n"
     ]
    },
    {
     "name": "stderr",
     "output_type": "stream",
     "text": [
      "\u001b[32m[I 2022-05-08 20:47:01,980]\u001b[0m Trial 201 finished with value: 0.23836621985816098 and parameters: {'n_estimators': 10000, 'learning_rate': 0.05, 'num_leaves': 150, 'max_depth': 12, 'min_data_in_leaf': 40, 'lambda_l1': 0, 'lambda_l2': 0, 'min_gain_to_split': 0.0, 'bagging_fraction': 0.75, 'bagging_freq': 1, 'feature_fraction': 0.95}. Best is trial 155 with value: 0.2380135210586933.\u001b[0m\n"
     ]
    },
    {
     "name": "stdout",
     "output_type": "stream",
     "text": [
      "mean_loss 0.23837\n",
      "[LightGBM] [Warning] lambda_l1 is set=0, reg_alpha=0.0 will be ignored. Current value: lambda_l1=0\n",
      "[LightGBM] [Warning] bagging_fraction is set=0.75, subsample=1.0 will be ignored. Current value: bagging_fraction=0.75\n",
      "[LightGBM] [Warning] min_gain_to_split is set=0.0, min_split_gain=0.0 will be ignored. Current value: min_gain_to_split=0.0\n",
      "[LightGBM] [Warning] lambda_l2 is set=0, reg_lambda=0.0 will be ignored. Current value: lambda_l2=0\n",
      "[LightGBM] [Warning] feature_fraction is set=0.95, colsample_bytree=1.0 will be ignored. Current value: feature_fraction=0.95\n",
      "[LightGBM] [Warning] min_data_in_leaf is set=40, min_child_samples=20 will be ignored. Current value: min_data_in_leaf=40\n",
      "[LightGBM] [Warning] bagging_freq is set=1, subsample_freq=0 will be ignored. Current value: bagging_freq=1\n"
     ]
    },
    {
     "name": "stderr",
     "output_type": "stream",
     "text": [
      "\u001b[32m[I 2022-05-08 20:47:02,813]\u001b[0m Trial 202 finished with value: 0.23836621985816098 and parameters: {'n_estimators': 10000, 'learning_rate': 0.05, 'num_leaves': 150, 'max_depth': 12, 'min_data_in_leaf': 40, 'lambda_l1': 0, 'lambda_l2': 0, 'min_gain_to_split': 0.0, 'bagging_fraction': 0.75, 'bagging_freq': 1, 'feature_fraction': 0.95}. Best is trial 155 with value: 0.2380135210586933.\u001b[0m\n"
     ]
    },
    {
     "name": "stdout",
     "output_type": "stream",
     "text": [
      "mean_loss 0.23837\n",
      "[LightGBM] [Warning] lambda_l1 is set=0, reg_alpha=0.0 will be ignored. Current value: lambda_l1=0\n",
      "[LightGBM] [Warning] bagging_fraction is set=0.75, subsample=1.0 will be ignored. Current value: bagging_fraction=0.75\n",
      "[LightGBM] [Warning] min_gain_to_split is set=0.0, min_split_gain=0.0 will be ignored. Current value: min_gain_to_split=0.0\n",
      "[LightGBM] [Warning] lambda_l2 is set=0, reg_lambda=0.0 will be ignored. Current value: lambda_l2=0\n",
      "[LightGBM] [Warning] feature_fraction is set=0.95, colsample_bytree=1.0 will be ignored. Current value: feature_fraction=0.95\n",
      "[LightGBM] [Warning] min_data_in_leaf is set=40, min_child_samples=20 will be ignored. Current value: min_data_in_leaf=40\n",
      "[LightGBM] [Warning] bagging_freq is set=1, subsample_freq=0 will be ignored. Current value: bagging_freq=1\n"
     ]
    },
    {
     "name": "stderr",
     "output_type": "stream",
     "text": [
      "\u001b[32m[I 2022-05-08 20:47:03,578]\u001b[0m Trial 203 finished with value: 0.2386905183530641 and parameters: {'n_estimators': 10000, 'learning_rate': 0.05, 'num_leaves': 120, 'max_depth': 12, 'min_data_in_leaf': 40, 'lambda_l1': 0, 'lambda_l2': 0, 'min_gain_to_split': 0.0, 'bagging_fraction': 0.75, 'bagging_freq': 1, 'feature_fraction': 0.95}. Best is trial 155 with value: 0.2380135210586933.\u001b[0m\n"
     ]
    },
    {
     "name": "stdout",
     "output_type": "stream",
     "text": [
      "mean_loss 0.23869\n",
      "[LightGBM] [Warning] lambda_l1 is set=0, reg_alpha=0.0 will be ignored. Current value: lambda_l1=0\n",
      "[LightGBM] [Warning] bagging_fraction is set=0.75, subsample=1.0 will be ignored. Current value: bagging_fraction=0.75\n",
      "[LightGBM] [Warning] min_gain_to_split is set=0.0, min_split_gain=0.0 will be ignored. Current value: min_gain_to_split=0.0\n",
      "[LightGBM] [Warning] lambda_l2 is set=0, reg_lambda=0.0 will be ignored. Current value: lambda_l2=0\n",
      "[LightGBM] [Warning] feature_fraction is set=0.95, colsample_bytree=1.0 will be ignored. Current value: feature_fraction=0.95\n",
      "[LightGBM] [Warning] min_data_in_leaf is set=40, min_child_samples=20 will be ignored. Current value: min_data_in_leaf=40\n",
      "[LightGBM] [Warning] bagging_freq is set=1, subsample_freq=0 will be ignored. Current value: bagging_freq=1\n"
     ]
    },
    {
     "name": "stderr",
     "output_type": "stream",
     "text": [
      "\u001b[32m[I 2022-05-08 20:47:04,907]\u001b[0m Trial 204 finished with value: 0.23836621985816098 and parameters: {'n_estimators': 10000, 'learning_rate': 0.05, 'num_leaves': 150, 'max_depth': 12, 'min_data_in_leaf': 40, 'lambda_l1': 0, 'lambda_l2': 0, 'min_gain_to_split': 0.0, 'bagging_fraction': 0.75, 'bagging_freq': 1, 'feature_fraction': 0.95}. Best is trial 155 with value: 0.2380135210586933.\u001b[0m\n"
     ]
    },
    {
     "name": "stdout",
     "output_type": "stream",
     "text": [
      "mean_loss 0.23837\n",
      "[LightGBM] [Warning] lambda_l1 is set=0, reg_alpha=0.0 will be ignored. Current value: lambda_l1=0\n",
      "[LightGBM] [Warning] bagging_fraction is set=0.75, subsample=1.0 will be ignored. Current value: bagging_fraction=0.75\n",
      "[LightGBM] [Warning] min_gain_to_split is set=0.0, min_split_gain=0.0 will be ignored. Current value: min_gain_to_split=0.0\n",
      "[LightGBM] [Warning] lambda_l2 is set=0, reg_lambda=0.0 will be ignored. Current value: lambda_l2=0\n",
      "[LightGBM] [Warning] feature_fraction is set=0.95, colsample_bytree=1.0 will be ignored. Current value: feature_fraction=0.95\n",
      "[LightGBM] [Warning] min_data_in_leaf is set=40, min_child_samples=20 will be ignored. Current value: min_data_in_leaf=40\n",
      "[LightGBM] [Warning] bagging_freq is set=1, subsample_freq=0 will be ignored. Current value: bagging_freq=1\n"
     ]
    },
    {
     "name": "stderr",
     "output_type": "stream",
     "text": [
      "\u001b[32m[I 2022-05-08 20:47:05,844]\u001b[0m Trial 205 finished with value: 0.2386905183530641 and parameters: {'n_estimators': 10000, 'learning_rate': 0.05, 'num_leaves': 120, 'max_depth': 12, 'min_data_in_leaf': 40, 'lambda_l1': 0, 'lambda_l2': 0, 'min_gain_to_split': 0.0, 'bagging_fraction': 0.75, 'bagging_freq': 1, 'feature_fraction': 0.95}. Best is trial 155 with value: 0.2380135210586933.\u001b[0m\n"
     ]
    },
    {
     "name": "stdout",
     "output_type": "stream",
     "text": [
      "mean_loss 0.23869\n",
      "[LightGBM] [Warning] lambda_l1 is set=0, reg_alpha=0.0 will be ignored. Current value: lambda_l1=0\n",
      "[LightGBM] [Warning] bagging_fraction is set=0.75, subsample=1.0 will be ignored. Current value: bagging_fraction=0.75\n",
      "[LightGBM] [Warning] min_gain_to_split is set=0.0, min_split_gain=0.0 will be ignored. Current value: min_gain_to_split=0.0\n",
      "[LightGBM] [Warning] lambda_l2 is set=0, reg_lambda=0.0 will be ignored. Current value: lambda_l2=0\n",
      "[LightGBM] [Warning] feature_fraction is set=0.95, colsample_bytree=1.0 will be ignored. Current value: feature_fraction=0.95\n",
      "[LightGBM] [Warning] min_data_in_leaf is set=40, min_child_samples=20 will be ignored. Current value: min_data_in_leaf=40\n",
      "[LightGBM] [Warning] bagging_freq is set=1, subsample_freq=0 will be ignored. Current value: bagging_freq=1\n"
     ]
    },
    {
     "name": "stderr",
     "output_type": "stream",
     "text": [
      "\u001b[32m[I 2022-05-08 20:47:06,936]\u001b[0m Trial 206 finished with value: 0.2380135210586933 and parameters: {'n_estimators': 10000, 'learning_rate': 0.05, 'num_leaves': 180, 'max_depth': 12, 'min_data_in_leaf': 40, 'lambda_l1': 0, 'lambda_l2': 0, 'min_gain_to_split': 0.0, 'bagging_fraction': 0.75, 'bagging_freq': 1, 'feature_fraction': 0.95}. Best is trial 155 with value: 0.2380135210586933.\u001b[0m\n"
     ]
    },
    {
     "name": "stdout",
     "output_type": "stream",
     "text": [
      "mean_loss 0.23801\n",
      "[LightGBM] [Warning] lambda_l1 is set=0, reg_alpha=0.0 will be ignored. Current value: lambda_l1=0\n",
      "[LightGBM] [Warning] bagging_fraction is set=0.75, subsample=1.0 will be ignored. Current value: bagging_fraction=0.75\n",
      "[LightGBM] [Warning] min_gain_to_split is set=0.0, min_split_gain=0.0 will be ignored. Current value: min_gain_to_split=0.0\n",
      "[LightGBM] [Warning] lambda_l2 is set=0, reg_lambda=0.0 will be ignored. Current value: lambda_l2=0\n",
      "[LightGBM] [Warning] feature_fraction is set=0.95, colsample_bytree=1.0 will be ignored. Current value: feature_fraction=0.95\n",
      "[LightGBM] [Warning] min_data_in_leaf is set=40, min_child_samples=20 will be ignored. Current value: min_data_in_leaf=40\n",
      "[LightGBM] [Warning] bagging_freq is set=1, subsample_freq=0 will be ignored. Current value: bagging_freq=1\n"
     ]
    },
    {
     "name": "stderr",
     "output_type": "stream",
     "text": [
      "\u001b[32m[I 2022-05-08 20:47:07,817]\u001b[0m Trial 207 finished with value: 0.2380135210586933 and parameters: {'n_estimators': 10000, 'learning_rate': 0.05, 'num_leaves': 180, 'max_depth': 12, 'min_data_in_leaf': 40, 'lambda_l1': 0, 'lambda_l2': 0, 'min_gain_to_split': 0.0, 'bagging_fraction': 0.75, 'bagging_freq': 1, 'feature_fraction': 0.95}. Best is trial 155 with value: 0.2380135210586933.\u001b[0m\n"
     ]
    },
    {
     "name": "stdout",
     "output_type": "stream",
     "text": [
      "mean_loss 0.23801\n",
      "[LightGBM] [Warning] lambda_l1 is set=0, reg_alpha=0.0 will be ignored. Current value: lambda_l1=0\n",
      "[LightGBM] [Warning] bagging_fraction is set=0.75, subsample=1.0 will be ignored. Current value: bagging_fraction=0.75\n",
      "[LightGBM] [Warning] min_gain_to_split is set=0.0, min_split_gain=0.0 will be ignored. Current value: min_gain_to_split=0.0\n",
      "[LightGBM] [Warning] lambda_l2 is set=0, reg_lambda=0.0 will be ignored. Current value: lambda_l2=0\n",
      "[LightGBM] [Warning] feature_fraction is set=0.95, colsample_bytree=1.0 will be ignored. Current value: feature_fraction=0.95\n",
      "[LightGBM] [Warning] min_data_in_leaf is set=40, min_child_samples=20 will be ignored. Current value: min_data_in_leaf=40\n",
      "[LightGBM] [Warning] bagging_freq is set=1, subsample_freq=0 will be ignored. Current value: bagging_freq=1\n"
     ]
    },
    {
     "name": "stderr",
     "output_type": "stream",
     "text": [
      "\u001b[32m[I 2022-05-08 20:47:08,897]\u001b[0m Trial 208 finished with value: 0.2380135210586933 and parameters: {'n_estimators': 10000, 'learning_rate': 0.05, 'num_leaves': 180, 'max_depth': 12, 'min_data_in_leaf': 40, 'lambda_l1': 0, 'lambda_l2': 0, 'min_gain_to_split': 0.0, 'bagging_fraction': 0.75, 'bagging_freq': 1, 'feature_fraction': 0.95}. Best is trial 155 with value: 0.2380135210586933.\u001b[0m\n"
     ]
    },
    {
     "name": "stdout",
     "output_type": "stream",
     "text": [
      "mean_loss 0.23801\n",
      "[LightGBM] [Warning] lambda_l1 is set=0, reg_alpha=0.0 will be ignored. Current value: lambda_l1=0\n",
      "[LightGBM] [Warning] bagging_fraction is set=0.75, subsample=1.0 will be ignored. Current value: bagging_fraction=0.75\n",
      "[LightGBM] [Warning] min_gain_to_split is set=0.0, min_split_gain=0.0 will be ignored. Current value: min_gain_to_split=0.0\n",
      "[LightGBM] [Warning] lambda_l2 is set=0, reg_lambda=0.0 will be ignored. Current value: lambda_l2=0\n",
      "[LightGBM] [Warning] feature_fraction is set=0.95, colsample_bytree=1.0 will be ignored. Current value: feature_fraction=0.95\n",
      "[LightGBM] [Warning] min_data_in_leaf is set=40, min_child_samples=20 will be ignored. Current value: min_data_in_leaf=40\n",
      "[LightGBM] [Warning] bagging_freq is set=1, subsample_freq=0 will be ignored. Current value: bagging_freq=1\n"
     ]
    },
    {
     "name": "stderr",
     "output_type": "stream",
     "text": [
      "\u001b[32m[I 2022-05-08 20:47:09,888]\u001b[0m Trial 209 finished with value: 0.2380135210586933 and parameters: {'n_estimators': 10000, 'learning_rate': 0.05, 'num_leaves': 180, 'max_depth': 12, 'min_data_in_leaf': 40, 'lambda_l1': 0, 'lambda_l2': 0, 'min_gain_to_split': 0.0, 'bagging_fraction': 0.75, 'bagging_freq': 1, 'feature_fraction': 0.95}. Best is trial 155 with value: 0.2380135210586933.\u001b[0m\n",
      "\u001b[32m[I 2022-05-08 20:47:09,963]\u001b[0m Trial 210 pruned. Trial was pruned at iteration 0.\u001b[0m\n"
     ]
    },
    {
     "name": "stdout",
     "output_type": "stream",
     "text": [
      "mean_loss 0.23801\n",
      "[LightGBM] [Warning] lambda_l1 is set=0, reg_alpha=0.0 will be ignored. Current value: lambda_l1=0\n",
      "[LightGBM] [Warning] bagging_fraction is set=0.25, subsample=1.0 will be ignored. Current value: bagging_fraction=0.25\n",
      "[LightGBM] [Warning] min_gain_to_split is set=0.0, min_split_gain=0.0 will be ignored. Current value: min_gain_to_split=0.0\n",
      "[LightGBM] [Warning] lambda_l2 is set=0, reg_lambda=0.0 will be ignored. Current value: lambda_l2=0\n",
      "[LightGBM] [Warning] feature_fraction is set=0.95, colsample_bytree=1.0 will be ignored. Current value: feature_fraction=0.95\n",
      "[LightGBM] [Warning] min_data_in_leaf is set=40, min_child_samples=20 will be ignored. Current value: min_data_in_leaf=40\n",
      "[LightGBM] [Warning] bagging_freq is set=1, subsample_freq=0 will be ignored. Current value: bagging_freq=1\n"
     ]
    },
    {
     "name": "stderr",
     "output_type": "stream",
     "text": [
      "\u001b[32m[I 2022-05-08 20:47:10,879]\u001b[0m Trial 211 finished with value: 0.2380135210586933 and parameters: {'n_estimators': 10000, 'learning_rate': 0.05, 'num_leaves': 180, 'max_depth': 12, 'min_data_in_leaf': 40, 'lambda_l1': 0, 'lambda_l2': 0, 'min_gain_to_split': 0.0, 'bagging_fraction': 0.75, 'bagging_freq': 1, 'feature_fraction': 0.95}. Best is trial 155 with value: 0.2380135210586933.\u001b[0m\n"
     ]
    },
    {
     "name": "stdout",
     "output_type": "stream",
     "text": [
      "mean_loss 0.23801\n",
      "[LightGBM] [Warning] lambda_l1 is set=0, reg_alpha=0.0 will be ignored. Current value: lambda_l1=0\n",
      "[LightGBM] [Warning] bagging_fraction is set=0.75, subsample=1.0 will be ignored. Current value: bagging_fraction=0.75\n",
      "[LightGBM] [Warning] min_gain_to_split is set=0.0, min_split_gain=0.0 will be ignored. Current value: min_gain_to_split=0.0\n",
      "[LightGBM] [Warning] lambda_l2 is set=0, reg_lambda=0.0 will be ignored. Current value: lambda_l2=0\n",
      "[LightGBM] [Warning] feature_fraction is set=0.95, colsample_bytree=1.0 will be ignored. Current value: feature_fraction=0.95\n",
      "[LightGBM] [Warning] min_data_in_leaf is set=40, min_child_samples=20 will be ignored. Current value: min_data_in_leaf=40\n",
      "[LightGBM] [Warning] bagging_freq is set=1, subsample_freq=0 will be ignored. Current value: bagging_freq=1\n"
     ]
    },
    {
     "name": "stderr",
     "output_type": "stream",
     "text": [
      "\u001b[32m[I 2022-05-08 20:47:12,161]\u001b[0m Trial 212 finished with value: 0.2380135210586933 and parameters: {'n_estimators': 10000, 'learning_rate': 0.05, 'num_leaves': 180, 'max_depth': 12, 'min_data_in_leaf': 40, 'lambda_l1': 0, 'lambda_l2': 0, 'min_gain_to_split': 0.0, 'bagging_fraction': 0.75, 'bagging_freq': 1, 'feature_fraction': 0.95}. Best is trial 155 with value: 0.2380135210586933.\u001b[0m\n"
     ]
    },
    {
     "name": "stdout",
     "output_type": "stream",
     "text": [
      "mean_loss 0.23801\n",
      "[LightGBM] [Warning] lambda_l1 is set=0, reg_alpha=0.0 will be ignored. Current value: lambda_l1=0\n",
      "[LightGBM] [Warning] bagging_fraction is set=0.75, subsample=1.0 will be ignored. Current value: bagging_fraction=0.75\n",
      "[LightGBM] [Warning] min_gain_to_split is set=0.0, min_split_gain=0.0 will be ignored. Current value: min_gain_to_split=0.0\n",
      "[LightGBM] [Warning] lambda_l2 is set=0, reg_lambda=0.0 will be ignored. Current value: lambda_l2=0\n",
      "[LightGBM] [Warning] feature_fraction is set=0.95, colsample_bytree=1.0 will be ignored. Current value: feature_fraction=0.95\n",
      "[LightGBM] [Warning] min_data_in_leaf is set=40, min_child_samples=20 will be ignored. Current value: min_data_in_leaf=40\n",
      "[LightGBM] [Warning] bagging_freq is set=1, subsample_freq=0 will be ignored. Current value: bagging_freq=1\n"
     ]
    },
    {
     "name": "stderr",
     "output_type": "stream",
     "text": [
      "\u001b[32m[I 2022-05-08 20:47:13,520]\u001b[0m Trial 213 finished with value: 0.2380135210586933 and parameters: {'n_estimators': 10000, 'learning_rate': 0.05, 'num_leaves': 180, 'max_depth': 12, 'min_data_in_leaf': 40, 'lambda_l1': 0, 'lambda_l2': 0, 'min_gain_to_split': 0.0, 'bagging_fraction': 0.75, 'bagging_freq': 1, 'feature_fraction': 0.95}. Best is trial 155 with value: 0.2380135210586933.\u001b[0m\n"
     ]
    },
    {
     "name": "stdout",
     "output_type": "stream",
     "text": [
      "mean_loss 0.23801\n",
      "[LightGBM] [Warning] lambda_l1 is set=0, reg_alpha=0.0 will be ignored. Current value: lambda_l1=0\n",
      "[LightGBM] [Warning] bagging_fraction is set=0.75, subsample=1.0 will be ignored. Current value: bagging_fraction=0.75\n",
      "[LightGBM] [Warning] min_gain_to_split is set=0.0, min_split_gain=0.0 will be ignored. Current value: min_gain_to_split=0.0\n",
      "[LightGBM] [Warning] lambda_l2 is set=0, reg_lambda=0.0 will be ignored. Current value: lambda_l2=0\n",
      "[LightGBM] [Warning] feature_fraction is set=0.95, colsample_bytree=1.0 will be ignored. Current value: feature_fraction=0.95\n",
      "[LightGBM] [Warning] min_data_in_leaf is set=40, min_child_samples=20 will be ignored. Current value: min_data_in_leaf=40\n",
      "[LightGBM] [Warning] bagging_freq is set=1, subsample_freq=0 will be ignored. Current value: bagging_freq=1\n"
     ]
    },
    {
     "name": "stderr",
     "output_type": "stream",
     "text": [
      "\u001b[32m[I 2022-05-08 20:47:14,452]\u001b[0m Trial 214 finished with value: 0.2380135210586933 and parameters: {'n_estimators': 10000, 'learning_rate': 0.05, 'num_leaves': 180, 'max_depth': 12, 'min_data_in_leaf': 40, 'lambda_l1': 0, 'lambda_l2': 0, 'min_gain_to_split': 0.0, 'bagging_fraction': 0.75, 'bagging_freq': 1, 'feature_fraction': 0.95}. Best is trial 155 with value: 0.2380135210586933.\u001b[0m\n"
     ]
    },
    {
     "name": "stdout",
     "output_type": "stream",
     "text": [
      "mean_loss 0.23801\n",
      "[LightGBM] [Warning] lambda_l1 is set=0, reg_alpha=0.0 will be ignored. Current value: lambda_l1=0\n",
      "[LightGBM] [Warning] bagging_fraction is set=0.75, subsample=1.0 will be ignored. Current value: bagging_fraction=0.75\n",
      "[LightGBM] [Warning] min_gain_to_split is set=0.0, min_split_gain=0.0 will be ignored. Current value: min_gain_to_split=0.0\n",
      "[LightGBM] [Warning] lambda_l2 is set=0, reg_lambda=0.0 will be ignored. Current value: lambda_l2=0\n",
      "[LightGBM] [Warning] feature_fraction is set=0.95, colsample_bytree=1.0 will be ignored. Current value: feature_fraction=0.95\n",
      "[LightGBM] [Warning] min_data_in_leaf is set=40, min_child_samples=20 will be ignored. Current value: min_data_in_leaf=40\n",
      "[LightGBM] [Warning] bagging_freq is set=1, subsample_freq=0 will be ignored. Current value: bagging_freq=1\n"
     ]
    },
    {
     "name": "stderr",
     "output_type": "stream",
     "text": [
      "\u001b[32m[I 2022-05-08 20:47:15,414]\u001b[0m Trial 215 finished with value: 0.2380135210586933 and parameters: {'n_estimators': 10000, 'learning_rate': 0.05, 'num_leaves': 180, 'max_depth': 12, 'min_data_in_leaf': 40, 'lambda_l1': 0, 'lambda_l2': 0, 'min_gain_to_split': 0.0, 'bagging_fraction': 0.75, 'bagging_freq': 1, 'feature_fraction': 0.95}. Best is trial 155 with value: 0.2380135210586933.\u001b[0m\n"
     ]
    },
    {
     "name": "stdout",
     "output_type": "stream",
     "text": [
      "mean_loss 0.23801\n",
      "[LightGBM] [Warning] lambda_l1 is set=0, reg_alpha=0.0 will be ignored. Current value: lambda_l1=0\n",
      "[LightGBM] [Warning] bagging_fraction is set=0.75, subsample=1.0 will be ignored. Current value: bagging_fraction=0.75\n",
      "[LightGBM] [Warning] min_gain_to_split is set=0.0, min_split_gain=0.0 will be ignored. Current value: min_gain_to_split=0.0\n",
      "[LightGBM] [Warning] lambda_l2 is set=0, reg_lambda=0.0 will be ignored. Current value: lambda_l2=0\n",
      "[LightGBM] [Warning] feature_fraction is set=0.95, colsample_bytree=1.0 will be ignored. Current value: feature_fraction=0.95\n",
      "[LightGBM] [Warning] min_data_in_leaf is set=40, min_child_samples=20 will be ignored. Current value: min_data_in_leaf=40\n",
      "[LightGBM] [Warning] bagging_freq is set=1, subsample_freq=0 will be ignored. Current value: bagging_freq=1\n"
     ]
    },
    {
     "name": "stderr",
     "output_type": "stream",
     "text": [
      "\u001b[32m[I 2022-05-08 20:47:16,362]\u001b[0m Trial 216 finished with value: 0.2380135210586933 and parameters: {'n_estimators': 10000, 'learning_rate': 0.05, 'num_leaves': 180, 'max_depth': 12, 'min_data_in_leaf': 40, 'lambda_l1': 0, 'lambda_l2': 0, 'min_gain_to_split': 0.0, 'bagging_fraction': 0.75, 'bagging_freq': 1, 'feature_fraction': 0.95}. Best is trial 155 with value: 0.2380135210586933.\u001b[0m\n"
     ]
    },
    {
     "name": "stdout",
     "output_type": "stream",
     "text": [
      "mean_loss 0.23801\n",
      "[LightGBM] [Warning] lambda_l1 is set=0, reg_alpha=0.0 will be ignored. Current value: lambda_l1=0\n",
      "[LightGBM] [Warning] bagging_fraction is set=0.75, subsample=1.0 will be ignored. Current value: bagging_fraction=0.75\n",
      "[LightGBM] [Warning] min_gain_to_split is set=0.0, min_split_gain=0.0 will be ignored. Current value: min_gain_to_split=0.0\n",
      "[LightGBM] [Warning] lambda_l2 is set=0, reg_lambda=0.0 will be ignored. Current value: lambda_l2=0\n",
      "[LightGBM] [Warning] feature_fraction is set=0.95, colsample_bytree=1.0 will be ignored. Current value: feature_fraction=0.95\n",
      "[LightGBM] [Warning] min_data_in_leaf is set=40, min_child_samples=20 will be ignored. Current value: min_data_in_leaf=40\n",
      "[LightGBM] [Warning] bagging_freq is set=1, subsample_freq=0 will be ignored. Current value: bagging_freq=1\n"
     ]
    },
    {
     "name": "stderr",
     "output_type": "stream",
     "text": [
      "\u001b[32m[I 2022-05-08 20:47:17,425]\u001b[0m Trial 217 finished with value: 0.2380135210586933 and parameters: {'n_estimators': 10000, 'learning_rate': 0.05, 'num_leaves': 180, 'max_depth': 12, 'min_data_in_leaf': 40, 'lambda_l1': 0, 'lambda_l2': 0, 'min_gain_to_split': 0.0, 'bagging_fraction': 0.75, 'bagging_freq': 1, 'feature_fraction': 0.95}. Best is trial 155 with value: 0.2380135210586933.\u001b[0m\n",
      "\u001b[32m[I 2022-05-08 20:47:17,506]\u001b[0m Trial 218 pruned. Trial was pruned at iteration 0.\u001b[0m\n"
     ]
    },
    {
     "name": "stdout",
     "output_type": "stream",
     "text": [
      "mean_loss 0.23801\n",
      "[LightGBM] [Warning] lambda_l1 is set=0, reg_alpha=0.0 will be ignored. Current value: lambda_l1=0\n",
      "[LightGBM] [Warning] bagging_fraction is set=0.75, subsample=1.0 will be ignored. Current value: bagging_fraction=0.75\n",
      "[LightGBM] [Warning] min_gain_to_split is set=0.0, min_split_gain=0.0 will be ignored. Current value: min_gain_to_split=0.0\n",
      "[LightGBM] [Warning] lambda_l2 is set=0, reg_lambda=0.0 will be ignored. Current value: lambda_l2=0\n",
      "[LightGBM] [Warning] feature_fraction is set=0.95, colsample_bytree=1.0 will be ignored. Current value: feature_fraction=0.95\n",
      "[LightGBM] [Warning] min_data_in_leaf is set=40, min_child_samples=20 will be ignored. Current value: min_data_in_leaf=40\n",
      "[LightGBM] [Warning] bagging_freq is set=1, subsample_freq=0 will be ignored. Current value: bagging_freq=1\n"
     ]
    },
    {
     "name": "stderr",
     "output_type": "stream",
     "text": [
      "\u001b[32m[I 2022-05-08 20:47:18,476]\u001b[0m Trial 219 finished with value: 0.2380135210586933 and parameters: {'n_estimators': 10000, 'learning_rate': 0.05, 'num_leaves': 180, 'max_depth': 12, 'min_data_in_leaf': 40, 'lambda_l1': 0, 'lambda_l2': 0, 'min_gain_to_split': 0.0, 'bagging_fraction': 0.75, 'bagging_freq': 1, 'feature_fraction': 0.95}. Best is trial 155 with value: 0.2380135210586933.\u001b[0m\n"
     ]
    },
    {
     "name": "stdout",
     "output_type": "stream",
     "text": [
      "mean_loss 0.23801\n",
      "[LightGBM] [Warning] lambda_l1 is set=0, reg_alpha=0.0 will be ignored. Current value: lambda_l1=0\n",
      "[LightGBM] [Warning] bagging_fraction is set=0.75, subsample=1.0 will be ignored. Current value: bagging_fraction=0.75\n",
      "[LightGBM] [Warning] min_gain_to_split is set=0.0, min_split_gain=0.0 will be ignored. Current value: min_gain_to_split=0.0\n",
      "[LightGBM] [Warning] lambda_l2 is set=0, reg_lambda=0.0 will be ignored. Current value: lambda_l2=0\n",
      "[LightGBM] [Warning] feature_fraction is set=0.95, colsample_bytree=1.0 will be ignored. Current value: feature_fraction=0.95\n",
      "[LightGBM] [Warning] min_data_in_leaf is set=40, min_child_samples=20 will be ignored. Current value: min_data_in_leaf=40\n",
      "[LightGBM] [Warning] bagging_freq is set=1, subsample_freq=0 will be ignored. Current value: bagging_freq=1\n"
     ]
    },
    {
     "name": "stderr",
     "output_type": "stream",
     "text": [
      "\u001b[32m[I 2022-05-08 20:47:19,479]\u001b[0m Trial 220 finished with value: 0.2380135210586933 and parameters: {'n_estimators': 10000, 'learning_rate': 0.05, 'num_leaves': 180, 'max_depth': 12, 'min_data_in_leaf': 40, 'lambda_l1': 0, 'lambda_l2': 0, 'min_gain_to_split': 0.0, 'bagging_fraction': 0.75, 'bagging_freq': 1, 'feature_fraction': 0.95}. Best is trial 155 with value: 0.2380135210586933.\u001b[0m\n"
     ]
    },
    {
     "name": "stdout",
     "output_type": "stream",
     "text": [
      "mean_loss 0.23801\n",
      "[LightGBM] [Warning] lambda_l1 is set=0, reg_alpha=0.0 will be ignored. Current value: lambda_l1=0\n",
      "[LightGBM] [Warning] bagging_fraction is set=0.75, subsample=1.0 will be ignored. Current value: bagging_fraction=0.75\n",
      "[LightGBM] [Warning] min_gain_to_split is set=0.0, min_split_gain=0.0 will be ignored. Current value: min_gain_to_split=0.0\n",
      "[LightGBM] [Warning] lambda_l2 is set=0, reg_lambda=0.0 will be ignored. Current value: lambda_l2=0\n",
      "[LightGBM] [Warning] feature_fraction is set=0.95, colsample_bytree=1.0 will be ignored. Current value: feature_fraction=0.95\n",
      "[LightGBM] [Warning] min_data_in_leaf is set=40, min_child_samples=20 will be ignored. Current value: min_data_in_leaf=40\n",
      "[LightGBM] [Warning] bagging_freq is set=1, subsample_freq=0 will be ignored. Current value: bagging_freq=1\n"
     ]
    },
    {
     "name": "stderr",
     "output_type": "stream",
     "text": [
      "\u001b[32m[I 2022-05-08 20:47:20,460]\u001b[0m Trial 221 finished with value: 0.2380135210586933 and parameters: {'n_estimators': 10000, 'learning_rate': 0.05, 'num_leaves': 180, 'max_depth': 12, 'min_data_in_leaf': 40, 'lambda_l1': 0, 'lambda_l2': 0, 'min_gain_to_split': 0.0, 'bagging_fraction': 0.75, 'bagging_freq': 1, 'feature_fraction': 0.95}. Best is trial 155 with value: 0.2380135210586933.\u001b[0m\n"
     ]
    },
    {
     "name": "stdout",
     "output_type": "stream",
     "text": [
      "mean_loss 0.23801\n",
      "[LightGBM] [Warning] lambda_l1 is set=0, reg_alpha=0.0 will be ignored. Current value: lambda_l1=0\n",
      "[LightGBM] [Warning] bagging_fraction is set=0.75, subsample=1.0 will be ignored. Current value: bagging_fraction=0.75\n",
      "[LightGBM] [Warning] min_gain_to_split is set=0.0, min_split_gain=0.0 will be ignored. Current value: min_gain_to_split=0.0\n",
      "[LightGBM] [Warning] lambda_l2 is set=0, reg_lambda=0.0 will be ignored. Current value: lambda_l2=0\n",
      "[LightGBM] [Warning] feature_fraction is set=0.95, colsample_bytree=1.0 will be ignored. Current value: feature_fraction=0.95\n",
      "[LightGBM] [Warning] min_data_in_leaf is set=40, min_child_samples=20 will be ignored. Current value: min_data_in_leaf=40\n",
      "[LightGBM] [Warning] bagging_freq is set=1, subsample_freq=0 will be ignored. Current value: bagging_freq=1\n"
     ]
    },
    {
     "name": "stderr",
     "output_type": "stream",
     "text": [
      "\u001b[32m[I 2022-05-08 20:47:21,368]\u001b[0m Trial 222 finished with value: 0.2380135210586933 and parameters: {'n_estimators': 10000, 'learning_rate': 0.05, 'num_leaves': 180, 'max_depth': 12, 'min_data_in_leaf': 40, 'lambda_l1': 0, 'lambda_l2': 0, 'min_gain_to_split': 0.0, 'bagging_fraction': 0.75, 'bagging_freq': 1, 'feature_fraction': 0.95}. Best is trial 155 with value: 0.2380135210586933.\u001b[0m\n"
     ]
    },
    {
     "name": "stdout",
     "output_type": "stream",
     "text": [
      "mean_loss 0.23801\n",
      "[LightGBM] [Warning] lambda_l1 is set=0, reg_alpha=0.0 will be ignored. Current value: lambda_l1=0\n",
      "[LightGBM] [Warning] bagging_fraction is set=0.75, subsample=1.0 will be ignored. Current value: bagging_fraction=0.75\n",
      "[LightGBM] [Warning] min_gain_to_split is set=0.0, min_split_gain=0.0 will be ignored. Current value: min_gain_to_split=0.0\n",
      "[LightGBM] [Warning] lambda_l2 is set=0, reg_lambda=0.0 will be ignored. Current value: lambda_l2=0\n",
      "[LightGBM] [Warning] feature_fraction is set=0.95, colsample_bytree=1.0 will be ignored. Current value: feature_fraction=0.95\n",
      "[LightGBM] [Warning] min_data_in_leaf is set=40, min_child_samples=20 will be ignored. Current value: min_data_in_leaf=40\n",
      "[LightGBM] [Warning] bagging_freq is set=1, subsample_freq=0 will be ignored. Current value: bagging_freq=1\n"
     ]
    },
    {
     "name": "stderr",
     "output_type": "stream",
     "text": [
      "\u001b[32m[I 2022-05-08 20:47:22,281]\u001b[0m Trial 223 finished with value: 0.2380135210586933 and parameters: {'n_estimators': 10000, 'learning_rate': 0.05, 'num_leaves': 180, 'max_depth': 12, 'min_data_in_leaf': 40, 'lambda_l1': 0, 'lambda_l2': 0, 'min_gain_to_split': 0.0, 'bagging_fraction': 0.75, 'bagging_freq': 1, 'feature_fraction': 0.95}. Best is trial 155 with value: 0.2380135210586933.\u001b[0m\n"
     ]
    },
    {
     "name": "stdout",
     "output_type": "stream",
     "text": [
      "mean_loss 0.23801\n",
      "[LightGBM] [Warning] lambda_l1 is set=0, reg_alpha=0.0 will be ignored. Current value: lambda_l1=0\n",
      "[LightGBM] [Warning] bagging_fraction is set=0.75, subsample=1.0 will be ignored. Current value: bagging_fraction=0.75\n",
      "[LightGBM] [Warning] min_gain_to_split is set=0.0, min_split_gain=0.0 will be ignored. Current value: min_gain_to_split=0.0\n",
      "[LightGBM] [Warning] lambda_l2 is set=0, reg_lambda=0.0 will be ignored. Current value: lambda_l2=0\n",
      "[LightGBM] [Warning] feature_fraction is set=0.95, colsample_bytree=1.0 will be ignored. Current value: feature_fraction=0.95\n",
      "[LightGBM] [Warning] min_data_in_leaf is set=40, min_child_samples=20 will be ignored. Current value: min_data_in_leaf=40\n",
      "[LightGBM] [Warning] bagging_freq is set=1, subsample_freq=0 will be ignored. Current value: bagging_freq=1\n"
     ]
    },
    {
     "name": "stderr",
     "output_type": "stream",
     "text": [
      "\u001b[32m[I 2022-05-08 20:47:23,174]\u001b[0m Trial 224 finished with value: 0.2380135210586933 and parameters: {'n_estimators': 10000, 'learning_rate': 0.05, 'num_leaves': 180, 'max_depth': 12, 'min_data_in_leaf': 40, 'lambda_l1': 0, 'lambda_l2': 0, 'min_gain_to_split': 0.0, 'bagging_fraction': 0.75, 'bagging_freq': 1, 'feature_fraction': 0.95}. Best is trial 155 with value: 0.2380135210586933.\u001b[0m\n"
     ]
    },
    {
     "name": "stdout",
     "output_type": "stream",
     "text": [
      "mean_loss 0.23801\n",
      "[LightGBM] [Warning] lambda_l1 is set=0, reg_alpha=0.0 will be ignored. Current value: lambda_l1=0\n",
      "[LightGBM] [Warning] bagging_fraction is set=0.75, subsample=1.0 will be ignored. Current value: bagging_fraction=0.75\n",
      "[LightGBM] [Warning] min_gain_to_split is set=0.0, min_split_gain=0.0 will be ignored. Current value: min_gain_to_split=0.0\n",
      "[LightGBM] [Warning] lambda_l2 is set=0, reg_lambda=0.0 will be ignored. Current value: lambda_l2=0\n",
      "[LightGBM] [Warning] feature_fraction is set=0.95, colsample_bytree=1.0 will be ignored. Current value: feature_fraction=0.95\n",
      "[LightGBM] [Warning] min_data_in_leaf is set=40, min_child_samples=20 will be ignored. Current value: min_data_in_leaf=40\n",
      "[LightGBM] [Warning] bagging_freq is set=1, subsample_freq=0 will be ignored. Current value: bagging_freq=1\n"
     ]
    },
    {
     "name": "stderr",
     "output_type": "stream",
     "text": [
      "\u001b[32m[I 2022-05-08 20:47:24,199]\u001b[0m Trial 225 finished with value: 0.2380135210586933 and parameters: {'n_estimators': 10000, 'learning_rate': 0.05, 'num_leaves': 180, 'max_depth': 12, 'min_data_in_leaf': 40, 'lambda_l1': 0, 'lambda_l2': 0, 'min_gain_to_split': 0.0, 'bagging_fraction': 0.75, 'bagging_freq': 1, 'feature_fraction': 0.95}. Best is trial 155 with value: 0.2380135210586933.\u001b[0m\n"
     ]
    },
    {
     "name": "stdout",
     "output_type": "stream",
     "text": [
      "mean_loss 0.23801\n",
      "[LightGBM] [Warning] lambda_l1 is set=0, reg_alpha=0.0 will be ignored. Current value: lambda_l1=0\n",
      "[LightGBM] [Warning] bagging_fraction is set=0.75, subsample=1.0 will be ignored. Current value: bagging_fraction=0.75\n",
      "[LightGBM] [Warning] min_gain_to_split is set=0.0, min_split_gain=0.0 will be ignored. Current value: min_gain_to_split=0.0\n",
      "[LightGBM] [Warning] lambda_l2 is set=0, reg_lambda=0.0 will be ignored. Current value: lambda_l2=0\n",
      "[LightGBM] [Warning] feature_fraction is set=0.95, colsample_bytree=1.0 will be ignored. Current value: feature_fraction=0.95\n",
      "[LightGBM] [Warning] min_data_in_leaf is set=40, min_child_samples=20 will be ignored. Current value: min_data_in_leaf=40\n",
      "[LightGBM] [Warning] bagging_freq is set=1, subsample_freq=0 will be ignored. Current value: bagging_freq=1\n"
     ]
    },
    {
     "name": "stderr",
     "output_type": "stream",
     "text": [
      "\u001b[32m[I 2022-05-08 20:47:25,225]\u001b[0m Trial 226 finished with value: 0.2380135210586933 and parameters: {'n_estimators': 10000, 'learning_rate': 0.05, 'num_leaves': 180, 'max_depth': 12, 'min_data_in_leaf': 40, 'lambda_l1': 0, 'lambda_l2': 0, 'min_gain_to_split': 0.0, 'bagging_fraction': 0.75, 'bagging_freq': 1, 'feature_fraction': 0.95}. Best is trial 155 with value: 0.2380135210586933.\u001b[0m\n"
     ]
    },
    {
     "name": "stdout",
     "output_type": "stream",
     "text": [
      "mean_loss 0.23801\n",
      "[LightGBM] [Warning] lambda_l1 is set=0, reg_alpha=0.0 will be ignored. Current value: lambda_l1=0\n",
      "[LightGBM] [Warning] bagging_fraction is set=0.75, subsample=1.0 will be ignored. Current value: bagging_fraction=0.75\n",
      "[LightGBM] [Warning] min_gain_to_split is set=0.0, min_split_gain=0.0 will be ignored. Current value: min_gain_to_split=0.0\n",
      "[LightGBM] [Warning] lambda_l2 is set=0, reg_lambda=0.0 will be ignored. Current value: lambda_l2=0\n",
      "[LightGBM] [Warning] feature_fraction is set=0.95, colsample_bytree=1.0 will be ignored. Current value: feature_fraction=0.95\n",
      "[LightGBM] [Warning] min_data_in_leaf is set=40, min_child_samples=20 will be ignored. Current value: min_data_in_leaf=40\n",
      "[LightGBM] [Warning] bagging_freq is set=1, subsample_freq=0 will be ignored. Current value: bagging_freq=1\n"
     ]
    },
    {
     "name": "stderr",
     "output_type": "stream",
     "text": [
      "\u001b[32m[I 2022-05-08 20:47:26,116]\u001b[0m Trial 227 finished with value: 0.2380135210586933 and parameters: {'n_estimators': 10000, 'learning_rate': 0.05, 'num_leaves': 180, 'max_depth': 12, 'min_data_in_leaf': 40, 'lambda_l1': 0, 'lambda_l2': 0, 'min_gain_to_split': 0.0, 'bagging_fraction': 0.75, 'bagging_freq': 1, 'feature_fraction': 0.95}. Best is trial 155 with value: 0.2380135210586933.\u001b[0m\n"
     ]
    },
    {
     "name": "stdout",
     "output_type": "stream",
     "text": [
      "mean_loss 0.23801\n",
      "[LightGBM] [Warning] lambda_l1 is set=0, reg_alpha=0.0 will be ignored. Current value: lambda_l1=0\n",
      "[LightGBM] [Warning] bagging_fraction is set=0.75, subsample=1.0 will be ignored. Current value: bagging_fraction=0.75\n",
      "[LightGBM] [Warning] min_gain_to_split is set=0.0, min_split_gain=0.0 will be ignored. Current value: min_gain_to_split=0.0\n",
      "[LightGBM] [Warning] lambda_l2 is set=0, reg_lambda=0.0 will be ignored. Current value: lambda_l2=0\n",
      "[LightGBM] [Warning] feature_fraction is set=0.95, colsample_bytree=1.0 will be ignored. Current value: feature_fraction=0.95\n",
      "[LightGBM] [Warning] min_data_in_leaf is set=20, min_child_samples=20 will be ignored. Current value: min_data_in_leaf=20\n",
      "[LightGBM] [Warning] bagging_freq is set=1, subsample_freq=0 will be ignored. Current value: bagging_freq=1\n"
     ]
    },
    {
     "name": "stderr",
     "output_type": "stream",
     "text": [
      "\u001b[32m[I 2022-05-08 20:47:27,284]\u001b[0m Trial 228 finished with value: 0.22842937334875865 and parameters: {'n_estimators': 10000, 'learning_rate': 0.05, 'num_leaves': 180, 'max_depth': 12, 'min_data_in_leaf': 20, 'lambda_l1': 0, 'lambda_l2': 0, 'min_gain_to_split': 0.0, 'bagging_fraction': 0.75, 'bagging_freq': 1, 'feature_fraction': 0.95}. Best is trial 228 with value: 0.22842937334875865.\u001b[0m\n"
     ]
    },
    {
     "name": "stdout",
     "output_type": "stream",
     "text": [
      "mean_loss 0.22843\n",
      "[LightGBM] [Warning] lambda_l1 is set=0, reg_alpha=0.0 will be ignored. Current value: lambda_l1=0\n",
      "[LightGBM] [Warning] bagging_fraction is set=0.75, subsample=1.0 will be ignored. Current value: bagging_fraction=0.75\n",
      "[LightGBM] [Warning] min_gain_to_split is set=0.0, min_split_gain=0.0 will be ignored. Current value: min_gain_to_split=0.0\n",
      "[LightGBM] [Warning] lambda_l2 is set=0, reg_lambda=0.0 will be ignored. Current value: lambda_l2=0\n",
      "[LightGBM] [Warning] feature_fraction is set=0.95, colsample_bytree=1.0 will be ignored. Current value: feature_fraction=0.95\n",
      "[LightGBM] [Warning] min_data_in_leaf is set=40, min_child_samples=20 will be ignored. Current value: min_data_in_leaf=40\n",
      "[LightGBM] [Warning] bagging_freq is set=1, subsample_freq=0 will be ignored. Current value: bagging_freq=1\n"
     ]
    },
    {
     "name": "stderr",
     "output_type": "stream",
     "text": [
      "\u001b[32m[I 2022-05-08 20:47:28,544]\u001b[0m Trial 229 finished with value: 0.2380135210586933 and parameters: {'n_estimators': 10000, 'learning_rate': 0.05, 'num_leaves': 180, 'max_depth': 12, 'min_data_in_leaf': 40, 'lambda_l1': 0, 'lambda_l2': 0, 'min_gain_to_split': 0.0, 'bagging_fraction': 0.75, 'bagging_freq': 1, 'feature_fraction': 0.95}. Best is trial 228 with value: 0.22842937334875865.\u001b[0m\n"
     ]
    },
    {
     "name": "stdout",
     "output_type": "stream",
     "text": [
      "mean_loss 0.23801\n",
      "[LightGBM] [Warning] lambda_l1 is set=0, reg_alpha=0.0 will be ignored. Current value: lambda_l1=0\n",
      "[LightGBM] [Warning] bagging_fraction is set=0.75, subsample=1.0 will be ignored. Current value: bagging_fraction=0.75\n",
      "[LightGBM] [Warning] min_gain_to_split is set=0.0, min_split_gain=0.0 will be ignored. Current value: min_gain_to_split=0.0\n",
      "[LightGBM] [Warning] lambda_l2 is set=0, reg_lambda=0.0 will be ignored. Current value: lambda_l2=0\n",
      "[LightGBM] [Warning] feature_fraction is set=0.95, colsample_bytree=1.0 will be ignored. Current value: feature_fraction=0.95\n",
      "[LightGBM] [Warning] min_data_in_leaf is set=20, min_child_samples=20 will be ignored. Current value: min_data_in_leaf=20\n",
      "[LightGBM] [Warning] bagging_freq is set=1, subsample_freq=0 will be ignored. Current value: bagging_freq=1\n"
     ]
    },
    {
     "name": "stderr",
     "output_type": "stream",
     "text": [
      "\u001b[32m[I 2022-05-08 20:47:29,825]\u001b[0m Trial 230 finished with value: 0.22842937334875865 and parameters: {'n_estimators': 10000, 'learning_rate': 0.05, 'num_leaves': 180, 'max_depth': 12, 'min_data_in_leaf': 20, 'lambda_l1': 0, 'lambda_l2': 0, 'min_gain_to_split': 0.0, 'bagging_fraction': 0.75, 'bagging_freq': 1, 'feature_fraction': 0.95}. Best is trial 228 with value: 0.22842937334875865.\u001b[0m\n"
     ]
    },
    {
     "name": "stdout",
     "output_type": "stream",
     "text": [
      "mean_loss 0.22843\n",
      "[LightGBM] [Warning] lambda_l1 is set=0, reg_alpha=0.0 will be ignored. Current value: lambda_l1=0\n",
      "[LightGBM] [Warning] bagging_fraction is set=0.75, subsample=1.0 will be ignored. Current value: bagging_fraction=0.75\n",
      "[LightGBM] [Warning] min_gain_to_split is set=0.0, min_split_gain=0.0 will be ignored. Current value: min_gain_to_split=0.0\n",
      "[LightGBM] [Warning] lambda_l2 is set=0, reg_lambda=0.0 will be ignored. Current value: lambda_l2=0\n",
      "[LightGBM] [Warning] feature_fraction is set=0.95, colsample_bytree=1.0 will be ignored. Current value: feature_fraction=0.95\n",
      "[LightGBM] [Warning] min_data_in_leaf is set=20, min_child_samples=20 will be ignored. Current value: min_data_in_leaf=20\n",
      "[LightGBM] [Warning] bagging_freq is set=1, subsample_freq=0 will be ignored. Current value: bagging_freq=1\n"
     ]
    },
    {
     "name": "stderr",
     "output_type": "stream",
     "text": [
      "\u001b[32m[I 2022-05-08 20:47:30,984]\u001b[0m Trial 231 finished with value: 0.22842937334875865 and parameters: {'n_estimators': 10000, 'learning_rate': 0.05, 'num_leaves': 180, 'max_depth': 12, 'min_data_in_leaf': 20, 'lambda_l1': 0, 'lambda_l2': 0, 'min_gain_to_split': 0.0, 'bagging_fraction': 0.75, 'bagging_freq': 1, 'feature_fraction': 0.95}. Best is trial 228 with value: 0.22842937334875865.\u001b[0m\n",
      "\u001b[32m[I 2022-05-08 20:47:31,058]\u001b[0m Trial 232 pruned. Trial was pruned at iteration 0.\u001b[0m\n"
     ]
    },
    {
     "name": "stdout",
     "output_type": "stream",
     "text": [
      "mean_loss 0.22843\n",
      "[LightGBM] [Warning] lambda_l1 is set=0, reg_alpha=0.0 will be ignored. Current value: lambda_l1=0\n",
      "[LightGBM] [Warning] bagging_fraction is set=0.75, subsample=1.0 will be ignored. Current value: bagging_fraction=0.75\n",
      "[LightGBM] [Warning] min_gain_to_split is set=0.0, min_split_gain=0.0 will be ignored. Current value: min_gain_to_split=0.0\n",
      "[LightGBM] [Warning] lambda_l2 is set=40, reg_lambda=0.0 will be ignored. Current value: lambda_l2=40\n",
      "[LightGBM] [Warning] feature_fraction is set=0.95, colsample_bytree=1.0 will be ignored. Current value: feature_fraction=0.95\n",
      "[LightGBM] [Warning] min_data_in_leaf is set=20, min_child_samples=20 will be ignored. Current value: min_data_in_leaf=20\n",
      "[LightGBM] [Warning] bagging_freq is set=1, subsample_freq=0 will be ignored. Current value: bagging_freq=1\n"
     ]
    },
    {
     "name": "stderr",
     "output_type": "stream",
     "text": [
      "\u001b[32m[I 2022-05-08 20:47:31,928]\u001b[0m Trial 233 finished with value: 0.2380135210586933 and parameters: {'n_estimators': 10000, 'learning_rate': 0.05, 'num_leaves': 180, 'max_depth': 12, 'min_data_in_leaf': 40, 'lambda_l1': 0, 'lambda_l2': 0, 'min_gain_to_split': 0.0, 'bagging_fraction': 0.75, 'bagging_freq': 1, 'feature_fraction': 0.95}. Best is trial 228 with value: 0.22842937334875865.\u001b[0m\n"
     ]
    },
    {
     "name": "stdout",
     "output_type": "stream",
     "text": [
      "mean_loss 0.23801\n",
      "[LightGBM] [Warning] lambda_l1 is set=0, reg_alpha=0.0 will be ignored. Current value: lambda_l1=0\n",
      "[LightGBM] [Warning] bagging_fraction is set=0.75, subsample=1.0 will be ignored. Current value: bagging_fraction=0.75\n",
      "[LightGBM] [Warning] min_gain_to_split is set=0.0, min_split_gain=0.0 will be ignored. Current value: min_gain_to_split=0.0\n",
      "[LightGBM] [Warning] lambda_l2 is set=0, reg_lambda=0.0 will be ignored. Current value: lambda_l2=0\n",
      "[LightGBM] [Warning] feature_fraction is set=0.95, colsample_bytree=1.0 will be ignored. Current value: feature_fraction=0.95\n",
      "[LightGBM] [Warning] min_data_in_leaf is set=20, min_child_samples=20 will be ignored. Current value: min_data_in_leaf=20\n",
      "[LightGBM] [Warning] bagging_freq is set=1, subsample_freq=0 will be ignored. Current value: bagging_freq=1\n"
     ]
    },
    {
     "name": "stderr",
     "output_type": "stream",
     "text": [
      "\u001b[32m[I 2022-05-08 20:47:32,845]\u001b[0m Trial 234 finished with value: 0.22842937334875865 and parameters: {'n_estimators': 10000, 'learning_rate': 0.05, 'num_leaves': 180, 'max_depth': 12, 'min_data_in_leaf': 20, 'lambda_l1': 0, 'lambda_l2': 0, 'min_gain_to_split': 0.0, 'bagging_fraction': 0.75, 'bagging_freq': 1, 'feature_fraction': 0.95}. Best is trial 228 with value: 0.22842937334875865.\u001b[0m\n"
     ]
    },
    {
     "name": "stdout",
     "output_type": "stream",
     "text": [
      "mean_loss 0.22843\n",
      "[LightGBM] [Warning] lambda_l1 is set=0, reg_alpha=0.0 will be ignored. Current value: lambda_l1=0\n",
      "[LightGBM] [Warning] bagging_fraction is set=0.75, subsample=1.0 will be ignored. Current value: bagging_fraction=0.75\n",
      "[LightGBM] [Warning] min_gain_to_split is set=0.0, min_split_gain=0.0 will be ignored. Current value: min_gain_to_split=0.0\n",
      "[LightGBM] [Warning] lambda_l2 is set=0, reg_lambda=0.0 will be ignored. Current value: lambda_l2=0\n",
      "[LightGBM] [Warning] feature_fraction is set=0.95, colsample_bytree=1.0 will be ignored. Current value: feature_fraction=0.95\n",
      "[LightGBM] [Warning] min_data_in_leaf is set=20, min_child_samples=20 will be ignored. Current value: min_data_in_leaf=20\n",
      "[LightGBM] [Warning] bagging_freq is set=1, subsample_freq=0 will be ignored. Current value: bagging_freq=1\n"
     ]
    },
    {
     "name": "stderr",
     "output_type": "stream",
     "text": [
      "\u001b[32m[I 2022-05-08 20:47:33,741]\u001b[0m Trial 235 finished with value: 0.22842937334875865 and parameters: {'n_estimators': 10000, 'learning_rate': 0.05, 'num_leaves': 180, 'max_depth': 12, 'min_data_in_leaf': 20, 'lambda_l1': 0, 'lambda_l2': 0, 'min_gain_to_split': 0.0, 'bagging_fraction': 0.75, 'bagging_freq': 1, 'feature_fraction': 0.95}. Best is trial 228 with value: 0.22842937334875865.\u001b[0m\n"
     ]
    },
    {
     "name": "stdout",
     "output_type": "stream",
     "text": [
      "mean_loss 0.22843\n",
      "[LightGBM] [Warning] lambda_l1 is set=0, reg_alpha=0.0 will be ignored. Current value: lambda_l1=0\n",
      "[LightGBM] [Warning] bagging_fraction is set=0.75, subsample=1.0 will be ignored. Current value: bagging_fraction=0.75\n",
      "[LightGBM] [Warning] min_gain_to_split is set=0.0, min_split_gain=0.0 will be ignored. Current value: min_gain_to_split=0.0\n",
      "[LightGBM] [Warning] lambda_l2 is set=0, reg_lambda=0.0 will be ignored. Current value: lambda_l2=0\n",
      "[LightGBM] [Warning] feature_fraction is set=0.95, colsample_bytree=1.0 will be ignored. Current value: feature_fraction=0.95\n",
      "[LightGBM] [Warning] min_data_in_leaf is set=20, min_child_samples=20 will be ignored. Current value: min_data_in_leaf=20\n",
      "[LightGBM] [Warning] bagging_freq is set=1, subsample_freq=0 will be ignored. Current value: bagging_freq=1\n"
     ]
    },
    {
     "name": "stderr",
     "output_type": "stream",
     "text": [
      "\u001b[32m[I 2022-05-08 20:47:34,912]\u001b[0m Trial 236 finished with value: 0.22842937334875865 and parameters: {'n_estimators': 10000, 'learning_rate': 0.05, 'num_leaves': 180, 'max_depth': 12, 'min_data_in_leaf': 20, 'lambda_l1': 0, 'lambda_l2': 0, 'min_gain_to_split': 0.0, 'bagging_fraction': 0.75, 'bagging_freq': 1, 'feature_fraction': 0.95}. Best is trial 228 with value: 0.22842937334875865.\u001b[0m\n"
     ]
    },
    {
     "name": "stdout",
     "output_type": "stream",
     "text": [
      "mean_loss 0.22843\n",
      "[LightGBM] [Warning] lambda_l1 is set=0, reg_alpha=0.0 will be ignored. Current value: lambda_l1=0\n",
      "[LightGBM] [Warning] bagging_fraction is set=0.75, subsample=1.0 will be ignored. Current value: bagging_fraction=0.75\n",
      "[LightGBM] [Warning] min_gain_to_split is set=0.0, min_split_gain=0.0 will be ignored. Current value: min_gain_to_split=0.0\n",
      "[LightGBM] [Warning] lambda_l2 is set=0, reg_lambda=0.0 will be ignored. Current value: lambda_l2=0\n",
      "[LightGBM] [Warning] feature_fraction is set=0.95, colsample_bytree=1.0 will be ignored. Current value: feature_fraction=0.95\n",
      "[LightGBM] [Warning] min_data_in_leaf is set=20, min_child_samples=20 will be ignored. Current value: min_data_in_leaf=20\n",
      "[LightGBM] [Warning] bagging_freq is set=1, subsample_freq=0 will be ignored. Current value: bagging_freq=1\n"
     ]
    },
    {
     "name": "stderr",
     "output_type": "stream",
     "text": [
      "\u001b[32m[I 2022-05-08 20:47:35,808]\u001b[0m Trial 237 finished with value: 0.22842937334875865 and parameters: {'n_estimators': 10000, 'learning_rate': 0.05, 'num_leaves': 180, 'max_depth': 12, 'min_data_in_leaf': 20, 'lambda_l1': 0, 'lambda_l2': 0, 'min_gain_to_split': 0.0, 'bagging_fraction': 0.75, 'bagging_freq': 1, 'feature_fraction': 0.95}. Best is trial 228 with value: 0.22842937334875865.\u001b[0m\n",
      "\u001b[32m[I 2022-05-08 20:47:35,884]\u001b[0m Trial 238 pruned. Trial was pruned at iteration 0.\u001b[0m\n"
     ]
    },
    {
     "name": "stdout",
     "output_type": "stream",
     "text": [
      "mean_loss 0.22843\n",
      "[LightGBM] [Warning] lambda_l1 is set=100, reg_alpha=0.0 will be ignored. Current value: lambda_l1=100\n",
      "[LightGBM] [Warning] bagging_fraction is set=0.75, subsample=1.0 will be ignored. Current value: bagging_fraction=0.75\n",
      "[LightGBM] [Warning] min_gain_to_split is set=0.0, min_split_gain=0.0 will be ignored. Current value: min_gain_to_split=0.0\n",
      "[LightGBM] [Warning] lambda_l2 is set=0, reg_lambda=0.0 will be ignored. Current value: lambda_l2=0\n",
      "[LightGBM] [Warning] feature_fraction is set=0.95, colsample_bytree=1.0 will be ignored. Current value: feature_fraction=0.95\n",
      "[LightGBM] [Warning] min_data_in_leaf is set=20, min_child_samples=20 will be ignored. Current value: min_data_in_leaf=20\n",
      "[LightGBM] [Warning] bagging_freq is set=1, subsample_freq=0 will be ignored. Current value: bagging_freq=1\n"
     ]
    },
    {
     "name": "stderr",
     "output_type": "stream",
     "text": [
      "\u001b[32m[I 2022-05-08 20:47:36,781]\u001b[0m Trial 239 finished with value: 0.22842937334875865 and parameters: {'n_estimators': 10000, 'learning_rate': 0.05, 'num_leaves': 180, 'max_depth': 12, 'min_data_in_leaf': 20, 'lambda_l1': 0, 'lambda_l2': 0, 'min_gain_to_split': 0.0, 'bagging_fraction': 0.75, 'bagging_freq': 1, 'feature_fraction': 0.95}. Best is trial 228 with value: 0.22842937334875865.\u001b[0m\n",
      "\u001b[32m[I 2022-05-08 20:47:36,855]\u001b[0m Trial 240 pruned. Trial was pruned at iteration 0.\u001b[0m\n"
     ]
    },
    {
     "name": "stdout",
     "output_type": "stream",
     "text": [
      "mean_loss 0.22843\n",
      "[LightGBM] [Warning] lambda_l1 is set=0, reg_alpha=0.0 will be ignored. Current value: lambda_l1=0\n",
      "[LightGBM] [Warning] bagging_fraction is set=0.75, subsample=1.0 will be ignored. Current value: bagging_fraction=0.75\n",
      "[LightGBM] [Warning] min_gain_to_split is set=0.0, min_split_gain=0.0 will be ignored. Current value: min_gain_to_split=0.0\n",
      "[LightGBM] [Warning] lambda_l2 is set=0, reg_lambda=0.0 will be ignored. Current value: lambda_l2=0\n",
      "[LightGBM] [Warning] feature_fraction is set=0.95, colsample_bytree=1.0 will be ignored. Current value: feature_fraction=0.95\n",
      "[LightGBM] [Warning] min_data_in_leaf is set=20, min_child_samples=20 will be ignored. Current value: min_data_in_leaf=20\n",
      "[LightGBM] [Warning] bagging_freq is set=1, subsample_freq=0 will be ignored. Current value: bagging_freq=1\n"
     ]
    },
    {
     "name": "stderr",
     "output_type": "stream",
     "text": [
      "\u001b[32m[I 2022-05-08 20:47:37,760]\u001b[0m Trial 241 finished with value: 0.22842937334875865 and parameters: {'n_estimators': 10000, 'learning_rate': 0.05, 'num_leaves': 180, 'max_depth': 12, 'min_data_in_leaf': 20, 'lambda_l1': 0, 'lambda_l2': 0, 'min_gain_to_split': 0.0, 'bagging_fraction': 0.75, 'bagging_freq': 1, 'feature_fraction': 0.95}. Best is trial 228 with value: 0.22842937334875865.\u001b[0m\n"
     ]
    },
    {
     "name": "stdout",
     "output_type": "stream",
     "text": [
      "mean_loss 0.22843\n",
      "[LightGBM] [Warning] lambda_l1 is set=0, reg_alpha=0.0 will be ignored. Current value: lambda_l1=0\n",
      "[LightGBM] [Warning] bagging_fraction is set=0.75, subsample=1.0 will be ignored. Current value: bagging_fraction=0.75\n",
      "[LightGBM] [Warning] min_gain_to_split is set=0.0, min_split_gain=0.0 will be ignored. Current value: min_gain_to_split=0.0\n",
      "[LightGBM] [Warning] lambda_l2 is set=0, reg_lambda=0.0 will be ignored. Current value: lambda_l2=0\n",
      "[LightGBM] [Warning] feature_fraction is set=0.95, colsample_bytree=1.0 will be ignored. Current value: feature_fraction=0.95\n",
      "[LightGBM] [Warning] min_data_in_leaf is set=20, min_child_samples=20 will be ignored. Current value: min_data_in_leaf=20\n",
      "[LightGBM] [Warning] bagging_freq is set=1, subsample_freq=0 will be ignored. Current value: bagging_freq=1\n"
     ]
    },
    {
     "name": "stderr",
     "output_type": "stream",
     "text": [
      "\u001b[32m[I 2022-05-08 20:47:38,658]\u001b[0m Trial 242 finished with value: 0.22842937334875865 and parameters: {'n_estimators': 10000, 'learning_rate': 0.05, 'num_leaves': 180, 'max_depth': 12, 'min_data_in_leaf': 20, 'lambda_l1': 0, 'lambda_l2': 0, 'min_gain_to_split': 0.0, 'bagging_fraction': 0.75, 'bagging_freq': 1, 'feature_fraction': 0.95}. Best is trial 228 with value: 0.22842937334875865.\u001b[0m\n"
     ]
    },
    {
     "name": "stdout",
     "output_type": "stream",
     "text": [
      "mean_loss 0.22843\n",
      "[LightGBM] [Warning] lambda_l1 is set=0, reg_alpha=0.0 will be ignored. Current value: lambda_l1=0\n",
      "[LightGBM] [Warning] bagging_fraction is set=0.75, subsample=1.0 will be ignored. Current value: bagging_fraction=0.75\n",
      "[LightGBM] [Warning] min_gain_to_split is set=0.0, min_split_gain=0.0 will be ignored. Current value: min_gain_to_split=0.0\n",
      "[LightGBM] [Warning] lambda_l2 is set=0, reg_lambda=0.0 will be ignored. Current value: lambda_l2=0\n",
      "[LightGBM] [Warning] feature_fraction is set=0.95, colsample_bytree=1.0 will be ignored. Current value: feature_fraction=0.95\n",
      "[LightGBM] [Warning] min_data_in_leaf is set=20, min_child_samples=20 will be ignored. Current value: min_data_in_leaf=20\n",
      "[LightGBM] [Warning] bagging_freq is set=1, subsample_freq=0 will be ignored. Current value: bagging_freq=1\n"
     ]
    },
    {
     "name": "stderr",
     "output_type": "stream",
     "text": [
      "\u001b[32m[I 2022-05-08 20:47:39,764]\u001b[0m Trial 243 finished with value: 0.22842937334875865 and parameters: {'n_estimators': 10000, 'learning_rate': 0.05, 'num_leaves': 180, 'max_depth': 12, 'min_data_in_leaf': 20, 'lambda_l1': 0, 'lambda_l2': 0, 'min_gain_to_split': 0.0, 'bagging_fraction': 0.75, 'bagging_freq': 1, 'feature_fraction': 0.95}. Best is trial 228 with value: 0.22842937334875865.\u001b[0m\n"
     ]
    },
    {
     "name": "stdout",
     "output_type": "stream",
     "text": [
      "mean_loss 0.22843\n",
      "[LightGBM] [Warning] lambda_l1 is set=0, reg_alpha=0.0 will be ignored. Current value: lambda_l1=0\n",
      "[LightGBM] [Warning] bagging_fraction is set=0.75, subsample=1.0 will be ignored. Current value: bagging_fraction=0.75\n",
      "[LightGBM] [Warning] min_gain_to_split is set=0.0, min_split_gain=0.0 will be ignored. Current value: min_gain_to_split=0.0\n",
      "[LightGBM] [Warning] lambda_l2 is set=0, reg_lambda=0.0 will be ignored. Current value: lambda_l2=0\n",
      "[LightGBM] [Warning] feature_fraction is set=0.95, colsample_bytree=1.0 will be ignored. Current value: feature_fraction=0.95\n",
      "[LightGBM] [Warning] min_data_in_leaf is set=20, min_child_samples=20 will be ignored. Current value: min_data_in_leaf=20\n",
      "[LightGBM] [Warning] bagging_freq is set=1, subsample_freq=0 will be ignored. Current value: bagging_freq=1\n"
     ]
    },
    {
     "name": "stderr",
     "output_type": "stream",
     "text": [
      "\u001b[32m[I 2022-05-08 20:47:40,817]\u001b[0m Trial 244 finished with value: 0.22842937334875865 and parameters: {'n_estimators': 10000, 'learning_rate': 0.05, 'num_leaves': 180, 'max_depth': 12, 'min_data_in_leaf': 20, 'lambda_l1': 0, 'lambda_l2': 0, 'min_gain_to_split': 0.0, 'bagging_fraction': 0.75, 'bagging_freq': 1, 'feature_fraction': 0.95}. Best is trial 228 with value: 0.22842937334875865.\u001b[0m\n"
     ]
    },
    {
     "name": "stdout",
     "output_type": "stream",
     "text": [
      "mean_loss 0.22843\n",
      "[LightGBM] [Warning] lambda_l1 is set=0, reg_alpha=0.0 will be ignored. Current value: lambda_l1=0\n",
      "[LightGBM] [Warning] bagging_fraction is set=0.75, subsample=1.0 will be ignored. Current value: bagging_fraction=0.75\n",
      "[LightGBM] [Warning] min_gain_to_split is set=0.0, min_split_gain=0.0 will be ignored. Current value: min_gain_to_split=0.0\n",
      "[LightGBM] [Warning] lambda_l2 is set=0, reg_lambda=0.0 will be ignored. Current value: lambda_l2=0\n",
      "[LightGBM] [Warning] feature_fraction is set=0.95, colsample_bytree=1.0 will be ignored. Current value: feature_fraction=0.95\n",
      "[LightGBM] [Warning] min_data_in_leaf is set=20, min_child_samples=20 will be ignored. Current value: min_data_in_leaf=20\n",
      "[LightGBM] [Warning] bagging_freq is set=1, subsample_freq=0 will be ignored. Current value: bagging_freq=1\n"
     ]
    },
    {
     "name": "stderr",
     "output_type": "stream",
     "text": [
      "\u001b[32m[I 2022-05-08 20:47:41,901]\u001b[0m Trial 245 finished with value: 0.22842937334875865 and parameters: {'n_estimators': 10000, 'learning_rate': 0.05, 'num_leaves': 180, 'max_depth': 12, 'min_data_in_leaf': 20, 'lambda_l1': 0, 'lambda_l2': 0, 'min_gain_to_split': 0.0, 'bagging_fraction': 0.75, 'bagging_freq': 1, 'feature_fraction': 0.95}. Best is trial 228 with value: 0.22842937334875865.\u001b[0m\n",
      "\u001b[32m[I 2022-05-08 20:47:41,988]\u001b[0m Trial 246 pruned. Trial was pruned at iteration 1.\u001b[0m\n"
     ]
    },
    {
     "name": "stdout",
     "output_type": "stream",
     "text": [
      "mean_loss 0.22843\n",
      "[LightGBM] [Warning] lambda_l1 is set=0, reg_alpha=0.0 will be ignored. Current value: lambda_l1=0\n",
      "[LightGBM] [Warning] bagging_fraction is set=0.75, subsample=1.0 will be ignored. Current value: bagging_fraction=0.75\n",
      "[LightGBM] [Warning] min_gain_to_split is set=0.0, min_split_gain=0.0 will be ignored. Current value: min_gain_to_split=0.0\n",
      "[LightGBM] [Warning] lambda_l2 is set=0, reg_lambda=0.0 will be ignored. Current value: lambda_l2=0\n",
      "[LightGBM] [Warning] feature_fraction is set=0.95, colsample_bytree=1.0 will be ignored. Current value: feature_fraction=0.95\n",
      "[LightGBM] [Warning] min_data_in_leaf is set=20, min_child_samples=20 will be ignored. Current value: min_data_in_leaf=20\n",
      "[LightGBM] [Warning] bagging_freq is set=1, subsample_freq=0 will be ignored. Current value: bagging_freq=1\n"
     ]
    },
    {
     "name": "stderr",
     "output_type": "stream",
     "text": [
      "\u001b[32m[I 2022-05-08 20:47:42,958]\u001b[0m Trial 247 finished with value: 0.22842937334875865 and parameters: {'n_estimators': 10000, 'learning_rate': 0.05, 'num_leaves': 180, 'max_depth': 12, 'min_data_in_leaf': 20, 'lambda_l1': 0, 'lambda_l2': 0, 'min_gain_to_split': 0.0, 'bagging_fraction': 0.75, 'bagging_freq': 1, 'feature_fraction': 0.95}. Best is trial 228 with value: 0.22842937334875865.\u001b[0m\n"
     ]
    },
    {
     "name": "stdout",
     "output_type": "stream",
     "text": [
      "mean_loss 0.22843\n",
      "[LightGBM] [Warning] lambda_l1 is set=0, reg_alpha=0.0 will be ignored. Current value: lambda_l1=0\n",
      "[LightGBM] [Warning] bagging_fraction is set=0.75, subsample=1.0 will be ignored. Current value: bagging_fraction=0.75\n",
      "[LightGBM] [Warning] min_gain_to_split is set=0.0, min_split_gain=0.0 will be ignored. Current value: min_gain_to_split=0.0\n",
      "[LightGBM] [Warning] lambda_l2 is set=0, reg_lambda=0.0 will be ignored. Current value: lambda_l2=0\n",
      "[LightGBM] [Warning] feature_fraction is set=0.95, colsample_bytree=1.0 will be ignored. Current value: feature_fraction=0.95\n",
      "[LightGBM] [Warning] min_data_in_leaf is set=20, min_child_samples=20 will be ignored. Current value: min_data_in_leaf=20\n",
      "[LightGBM] [Warning] bagging_freq is set=1, subsample_freq=0 will be ignored. Current value: bagging_freq=1\n"
     ]
    },
    {
     "name": "stderr",
     "output_type": "stream",
     "text": [
      "\u001b[32m[I 2022-05-08 20:47:44,009]\u001b[0m Trial 248 finished with value: 0.22842937334875865 and parameters: {'n_estimators': 10000, 'learning_rate': 0.05, 'num_leaves': 180, 'max_depth': 12, 'min_data_in_leaf': 20, 'lambda_l1': 0, 'lambda_l2': 0, 'min_gain_to_split': 0.0, 'bagging_fraction': 0.75, 'bagging_freq': 1, 'feature_fraction': 0.95}. Best is trial 228 with value: 0.22842937334875865.\u001b[0m\n"
     ]
    },
    {
     "name": "stdout",
     "output_type": "stream",
     "text": [
      "mean_loss 0.22843\n",
      "[LightGBM] [Warning] lambda_l1 is set=0, reg_alpha=0.0 will be ignored. Current value: lambda_l1=0\n",
      "[LightGBM] [Warning] bagging_fraction is set=0.75, subsample=1.0 will be ignored. Current value: bagging_fraction=0.75\n",
      "[LightGBM] [Warning] min_gain_to_split is set=0.0, min_split_gain=0.0 will be ignored. Current value: min_gain_to_split=0.0\n",
      "[LightGBM] [Warning] lambda_l2 is set=0, reg_lambda=0.0 will be ignored. Current value: lambda_l2=0\n",
      "[LightGBM] [Warning] feature_fraction is set=0.95, colsample_bytree=1.0 will be ignored. Current value: feature_fraction=0.95\n",
      "[LightGBM] [Warning] min_data_in_leaf is set=20, min_child_samples=20 will be ignored. Current value: min_data_in_leaf=20\n",
      "[LightGBM] [Warning] bagging_freq is set=1, subsample_freq=0 will be ignored. Current value: bagging_freq=1\n"
     ]
    },
    {
     "name": "stderr",
     "output_type": "stream",
     "text": [
      "\u001b[32m[I 2022-05-08 20:47:44,986]\u001b[0m Trial 249 finished with value: 0.22842937334875865 and parameters: {'n_estimators': 10000, 'learning_rate': 0.05, 'num_leaves': 180, 'max_depth': 12, 'min_data_in_leaf': 20, 'lambda_l1': 0, 'lambda_l2': 0, 'min_gain_to_split': 0.0, 'bagging_fraction': 0.75, 'bagging_freq': 1, 'feature_fraction': 0.95}. Best is trial 228 with value: 0.22842937334875865.\u001b[0m\n"
     ]
    },
    {
     "name": "stdout",
     "output_type": "stream",
     "text": [
      "mean_loss 0.22843\n",
      "[LightGBM] [Warning] lambda_l1 is set=0, reg_alpha=0.0 will be ignored. Current value: lambda_l1=0\n",
      "[LightGBM] [Warning] bagging_fraction is set=0.75, subsample=1.0 will be ignored. Current value: bagging_fraction=0.75\n",
      "[LightGBM] [Warning] min_gain_to_split is set=0.0, min_split_gain=0.0 will be ignored. Current value: min_gain_to_split=0.0\n",
      "[LightGBM] [Warning] lambda_l2 is set=0, reg_lambda=0.0 will be ignored. Current value: lambda_l2=0\n",
      "[LightGBM] [Warning] feature_fraction is set=0.95, colsample_bytree=1.0 will be ignored. Current value: feature_fraction=0.95\n",
      "[LightGBM] [Warning] min_data_in_leaf is set=20, min_child_samples=20 will be ignored. Current value: min_data_in_leaf=20\n",
      "[LightGBM] [Warning] bagging_freq is set=1, subsample_freq=0 will be ignored. Current value: bagging_freq=1\n"
     ]
    },
    {
     "name": "stderr",
     "output_type": "stream",
     "text": [
      "\u001b[32m[I 2022-05-08 20:47:46,076]\u001b[0m Trial 250 finished with value: 0.22842937334875865 and parameters: {'n_estimators': 10000, 'learning_rate': 0.05, 'num_leaves': 180, 'max_depth': 12, 'min_data_in_leaf': 20, 'lambda_l1': 0, 'lambda_l2': 0, 'min_gain_to_split': 0.0, 'bagging_fraction': 0.75, 'bagging_freq': 1, 'feature_fraction': 0.95}. Best is trial 228 with value: 0.22842937334875865.\u001b[0m\n"
     ]
    },
    {
     "name": "stdout",
     "output_type": "stream",
     "text": [
      "mean_loss 0.22843\n",
      "[LightGBM] [Warning] lambda_l1 is set=0, reg_alpha=0.0 will be ignored. Current value: lambda_l1=0\n",
      "[LightGBM] [Warning] bagging_fraction is set=0.75, subsample=1.0 will be ignored. Current value: bagging_fraction=0.75\n",
      "[LightGBM] [Warning] min_gain_to_split is set=0.0, min_split_gain=0.0 will be ignored. Current value: min_gain_to_split=0.0\n",
      "[LightGBM] [Warning] lambda_l2 is set=0, reg_lambda=0.0 will be ignored. Current value: lambda_l2=0\n",
      "[LightGBM] [Warning] feature_fraction is set=0.95, colsample_bytree=1.0 will be ignored. Current value: feature_fraction=0.95\n",
      "[LightGBM] [Warning] min_data_in_leaf is set=20, min_child_samples=20 will be ignored. Current value: min_data_in_leaf=20\n",
      "[LightGBM] [Warning] bagging_freq is set=1, subsample_freq=0 will be ignored. Current value: bagging_freq=1\n"
     ]
    },
    {
     "name": "stderr",
     "output_type": "stream",
     "text": [
      "\u001b[32m[I 2022-05-08 20:47:47,211]\u001b[0m Trial 251 finished with value: 0.22842937334875865 and parameters: {'n_estimators': 10000, 'learning_rate': 0.05, 'num_leaves': 180, 'max_depth': 12, 'min_data_in_leaf': 20, 'lambda_l1': 0, 'lambda_l2': 0, 'min_gain_to_split': 0.0, 'bagging_fraction': 0.75, 'bagging_freq': 1, 'feature_fraction': 0.95}. Best is trial 228 with value: 0.22842937334875865.\u001b[0m\n"
     ]
    },
    {
     "name": "stdout",
     "output_type": "stream",
     "text": [
      "mean_loss 0.22843\n",
      "[LightGBM] [Warning] lambda_l1 is set=0, reg_alpha=0.0 will be ignored. Current value: lambda_l1=0\n",
      "[LightGBM] [Warning] bagging_fraction is set=0.75, subsample=1.0 will be ignored. Current value: bagging_fraction=0.75\n",
      "[LightGBM] [Warning] min_gain_to_split is set=0.0, min_split_gain=0.0 will be ignored. Current value: min_gain_to_split=0.0\n",
      "[LightGBM] [Warning] lambda_l2 is set=0, reg_lambda=0.0 will be ignored. Current value: lambda_l2=0\n",
      "[LightGBM] [Warning] feature_fraction is set=0.95, colsample_bytree=1.0 will be ignored. Current value: feature_fraction=0.95\n",
      "[LightGBM] [Warning] min_data_in_leaf is set=20, min_child_samples=20 will be ignored. Current value: min_data_in_leaf=20\n",
      "[LightGBM] [Warning] bagging_freq is set=1, subsample_freq=0 will be ignored. Current value: bagging_freq=1\n"
     ]
    },
    {
     "name": "stderr",
     "output_type": "stream",
     "text": [
      "\u001b[32m[I 2022-05-08 20:47:48,354]\u001b[0m Trial 252 finished with value: 0.22842937334875865 and parameters: {'n_estimators': 10000, 'learning_rate': 0.05, 'num_leaves': 180, 'max_depth': 12, 'min_data_in_leaf': 20, 'lambda_l1': 0, 'lambda_l2': 0, 'min_gain_to_split': 0.0, 'bagging_fraction': 0.75, 'bagging_freq': 1, 'feature_fraction': 0.95}. Best is trial 228 with value: 0.22842937334875865.\u001b[0m\n"
     ]
    },
    {
     "name": "stdout",
     "output_type": "stream",
     "text": [
      "mean_loss 0.22843\n",
      "[LightGBM] [Warning] lambda_l1 is set=0, reg_alpha=0.0 will be ignored. Current value: lambda_l1=0\n",
      "[LightGBM] [Warning] bagging_fraction is set=0.75, subsample=1.0 will be ignored. Current value: bagging_fraction=0.75\n",
      "[LightGBM] [Warning] min_gain_to_split is set=0.0, min_split_gain=0.0 will be ignored. Current value: min_gain_to_split=0.0\n",
      "[LightGBM] [Warning] lambda_l2 is set=0, reg_lambda=0.0 will be ignored. Current value: lambda_l2=0\n",
      "[LightGBM] [Warning] feature_fraction is set=0.95, colsample_bytree=1.0 will be ignored. Current value: feature_fraction=0.95\n",
      "[LightGBM] [Warning] min_data_in_leaf is set=20, min_child_samples=20 will be ignored. Current value: min_data_in_leaf=20\n",
      "[LightGBM] [Warning] bagging_freq is set=1, subsample_freq=0 will be ignored. Current value: bagging_freq=1\n"
     ]
    },
    {
     "name": "stderr",
     "output_type": "stream",
     "text": [
      "\u001b[32m[I 2022-05-08 20:47:49,367]\u001b[0m Trial 253 finished with value: 0.22842937334875865 and parameters: {'n_estimators': 10000, 'learning_rate': 0.05, 'num_leaves': 180, 'max_depth': 12, 'min_data_in_leaf': 20, 'lambda_l1': 0, 'lambda_l2': 0, 'min_gain_to_split': 0.0, 'bagging_fraction': 0.75, 'bagging_freq': 1, 'feature_fraction': 0.95}. Best is trial 228 with value: 0.22842937334875865.\u001b[0m\n",
      "\u001b[32m[I 2022-05-08 20:47:49,458]\u001b[0m Trial 254 pruned. Trial was pruned at iteration 0.\u001b[0m\n",
      "\u001b[32m[I 2022-05-08 20:47:49,534]\u001b[0m Trial 255 pruned. Trial was pruned at iteration 0.\u001b[0m\n"
     ]
    },
    {
     "name": "stdout",
     "output_type": "stream",
     "text": [
      "mean_loss 0.22843\n",
      "[LightGBM] [Warning] lambda_l1 is set=0, reg_alpha=0.0 will be ignored. Current value: lambda_l1=0\n",
      "[LightGBM] [Warning] bagging_fraction is set=0.75, subsample=1.0 will be ignored. Current value: bagging_fraction=0.75\n",
      "[LightGBM] [Warning] min_gain_to_split is set=0.0, min_split_gain=0.0 will be ignored. Current value: min_gain_to_split=0.0\n",
      "[LightGBM] [Warning] lambda_l2 is set=0, reg_lambda=0.0 will be ignored. Current value: lambda_l2=0\n",
      "[LightGBM] [Warning] feature_fraction is set=0.95, colsample_bytree=1.0 will be ignored. Current value: feature_fraction=0.95\n",
      "[LightGBM] [Warning] min_data_in_leaf is set=20, min_child_samples=20 will be ignored. Current value: min_data_in_leaf=20\n",
      "[LightGBM] [Warning] bagging_freq is set=1, subsample_freq=0 will be ignored. Current value: bagging_freq=1\n"
     ]
    },
    {
     "name": "stderr",
     "output_type": "stream",
     "text": [
      "\u001b[32m[I 2022-05-08 20:47:50,752]\u001b[0m Trial 256 finished with value: 0.22842937334875865 and parameters: {'n_estimators': 10000, 'learning_rate': 0.05, 'num_leaves': 180, 'max_depth': 12, 'min_data_in_leaf': 20, 'lambda_l1': 0, 'lambda_l2': 0, 'min_gain_to_split': 0.0, 'bagging_fraction': 0.75, 'bagging_freq': 1, 'feature_fraction': 0.95}. Best is trial 228 with value: 0.22842937334875865.\u001b[0m\n"
     ]
    },
    {
     "name": "stdout",
     "output_type": "stream",
     "text": [
      "mean_loss 0.22843\n",
      "[LightGBM] [Warning] lambda_l1 is set=0, reg_alpha=0.0 will be ignored. Current value: lambda_l1=0\n",
      "[LightGBM] [Warning] bagging_fraction is set=0.75, subsample=1.0 will be ignored. Current value: bagging_fraction=0.75\n",
      "[LightGBM] [Warning] min_gain_to_split is set=0.0, min_split_gain=0.0 will be ignored. Current value: min_gain_to_split=0.0\n",
      "[LightGBM] [Warning] lambda_l2 is set=0, reg_lambda=0.0 will be ignored. Current value: lambda_l2=0\n",
      "[LightGBM] [Warning] feature_fraction is set=0.95, colsample_bytree=1.0 will be ignored. Current value: feature_fraction=0.95\n",
      "[LightGBM] [Warning] min_data_in_leaf is set=20, min_child_samples=20 will be ignored. Current value: min_data_in_leaf=20\n",
      "[LightGBM] [Warning] bagging_freq is set=1, subsample_freq=0 will be ignored. Current value: bagging_freq=1\n"
     ]
    },
    {
     "name": "stderr",
     "output_type": "stream",
     "text": [
      "\u001b[32m[I 2022-05-08 20:47:51,873]\u001b[0m Trial 257 finished with value: 0.22842937334875865 and parameters: {'n_estimators': 10000, 'learning_rate': 0.05, 'num_leaves': 180, 'max_depth': 12, 'min_data_in_leaf': 20, 'lambda_l1': 0, 'lambda_l2': 0, 'min_gain_to_split': 0.0, 'bagging_fraction': 0.75, 'bagging_freq': 1, 'feature_fraction': 0.95}. Best is trial 228 with value: 0.22842937334875865.\u001b[0m\n"
     ]
    },
    {
     "name": "stdout",
     "output_type": "stream",
     "text": [
      "mean_loss 0.22843\n",
      "[LightGBM] [Warning] lambda_l1 is set=0, reg_alpha=0.0 will be ignored. Current value: lambda_l1=0\n",
      "[LightGBM] [Warning] bagging_fraction is set=0.65, subsample=1.0 will be ignored. Current value: bagging_fraction=0.65\n",
      "[LightGBM] [Warning] min_gain_to_split is set=0.0, min_split_gain=0.0 will be ignored. Current value: min_gain_to_split=0.0\n",
      "[LightGBM] [Warning] lambda_l2 is set=0, reg_lambda=0.0 will be ignored. Current value: lambda_l2=0\n",
      "[LightGBM] [Warning] feature_fraction is set=0.95, colsample_bytree=1.0 will be ignored. Current value: feature_fraction=0.95\n",
      "[LightGBM] [Warning] min_data_in_leaf is set=20, min_child_samples=20 will be ignored. Current value: min_data_in_leaf=20\n",
      "[LightGBM] [Warning] bagging_freq is set=1, subsample_freq=0 will be ignored. Current value: bagging_freq=1\n"
     ]
    },
    {
     "name": "stderr",
     "output_type": "stream",
     "text": [
      "\u001b[32m[I 2022-05-08 20:47:52,776]\u001b[0m Trial 258 finished with value: 0.2298331829055895 and parameters: {'n_estimators': 10000, 'learning_rate': 0.05, 'num_leaves': 180, 'max_depth': 12, 'min_data_in_leaf': 20, 'lambda_l1': 0, 'lambda_l2': 0, 'min_gain_to_split': 0.0, 'bagging_fraction': 0.65, 'bagging_freq': 1, 'feature_fraction': 0.95}. Best is trial 228 with value: 0.22842937334875865.\u001b[0m\n"
     ]
    },
    {
     "name": "stdout",
     "output_type": "stream",
     "text": [
      "mean_loss 0.22983\n",
      "[LightGBM] [Warning] lambda_l1 is set=0, reg_alpha=0.0 will be ignored. Current value: lambda_l1=0\n",
      "[LightGBM] [Warning] bagging_fraction is set=0.65, subsample=1.0 will be ignored. Current value: bagging_fraction=0.65\n",
      "[LightGBM] [Warning] min_gain_to_split is set=0.0, min_split_gain=0.0 will be ignored. Current value: min_gain_to_split=0.0\n",
      "[LightGBM] [Warning] lambda_l2 is set=0, reg_lambda=0.0 will be ignored. Current value: lambda_l2=0\n",
      "[LightGBM] [Warning] feature_fraction is set=0.95, colsample_bytree=1.0 will be ignored. Current value: feature_fraction=0.95\n",
      "[LightGBM] [Warning] min_data_in_leaf is set=20, min_child_samples=20 will be ignored. Current value: min_data_in_leaf=20\n",
      "[LightGBM] [Warning] bagging_freq is set=1, subsample_freq=0 will be ignored. Current value: bagging_freq=1\n"
     ]
    },
    {
     "name": "stderr",
     "output_type": "stream",
     "text": [
      "\u001b[32m[I 2022-05-08 20:47:53,762]\u001b[0m Trial 259 finished with value: 0.2298331829055895 and parameters: {'n_estimators': 10000, 'learning_rate': 0.05, 'num_leaves': 180, 'max_depth': 12, 'min_data_in_leaf': 20, 'lambda_l1': 0, 'lambda_l2': 0, 'min_gain_to_split': 0.0, 'bagging_fraction': 0.65, 'bagging_freq': 1, 'feature_fraction': 0.95}. Best is trial 228 with value: 0.22842937334875865.\u001b[0m\n"
     ]
    },
    {
     "name": "stdout",
     "output_type": "stream",
     "text": [
      "mean_loss 0.22983\n",
      "[LightGBM] [Warning] lambda_l1 is set=0, reg_alpha=0.0 will be ignored. Current value: lambda_l1=0\n",
      "[LightGBM] [Warning] bagging_fraction is set=0.65, subsample=1.0 will be ignored. Current value: bagging_fraction=0.65\n",
      "[LightGBM] [Warning] min_gain_to_split is set=0.0, min_split_gain=0.0 will be ignored. Current value: min_gain_to_split=0.0\n",
      "[LightGBM] [Warning] lambda_l2 is set=0, reg_lambda=0.0 will be ignored. Current value: lambda_l2=0\n",
      "[LightGBM] [Warning] feature_fraction is set=0.95, colsample_bytree=1.0 will be ignored. Current value: feature_fraction=0.95\n",
      "[LightGBM] [Warning] min_data_in_leaf is set=20, min_child_samples=20 will be ignored. Current value: min_data_in_leaf=20\n",
      "[LightGBM] [Warning] bagging_freq is set=1, subsample_freq=0 will be ignored. Current value: bagging_freq=1\n"
     ]
    },
    {
     "name": "stderr",
     "output_type": "stream",
     "text": [
      "\u001b[32m[I 2022-05-08 20:47:54,671]\u001b[0m Trial 260 finished with value: 0.23134629491929154 and parameters: {'n_estimators': 10000, 'learning_rate': 0.05, 'num_leaves': 180, 'max_depth': 11, 'min_data_in_leaf': 20, 'lambda_l1': 0, 'lambda_l2': 0, 'min_gain_to_split': 0.0, 'bagging_fraction': 0.65, 'bagging_freq': 1, 'feature_fraction': 0.95}. Best is trial 228 with value: 0.22842937334875865.\u001b[0m\n",
      "\u001b[32m[I 2022-05-08 20:47:54,753]\u001b[0m Trial 261 pruned. Trial was pruned at iteration 0.\u001b[0m\n"
     ]
    },
    {
     "name": "stdout",
     "output_type": "stream",
     "text": [
      "mean_loss 0.23135\n",
      "[LightGBM] [Warning] lambda_l1 is set=0, reg_alpha=0.0 will be ignored. Current value: lambda_l1=0\n",
      "[LightGBM] [Warning] bagging_fraction is set=0.65, subsample=1.0 will be ignored. Current value: bagging_fraction=0.65\n",
      "[LightGBM] [Warning] min_gain_to_split is set=0.0, min_split_gain=0.0 will be ignored. Current value: min_gain_to_split=0.0\n",
      "[LightGBM] [Warning] lambda_l2 is set=0, reg_lambda=0.0 will be ignored. Current value: lambda_l2=0\n",
      "[LightGBM] [Warning] feature_fraction is set=0.65, colsample_bytree=1.0 will be ignored. Current value: feature_fraction=0.65\n",
      "[LightGBM] [Warning] min_data_in_leaf is set=20, min_child_samples=20 will be ignored. Current value: min_data_in_leaf=20\n",
      "[LightGBM] [Warning] bagging_freq is set=1, subsample_freq=0 will be ignored. Current value: bagging_freq=1\n"
     ]
    },
    {
     "name": "stderr",
     "output_type": "stream",
     "text": [
      "\u001b[32m[I 2022-05-08 20:47:54,907]\u001b[0m Trial 262 pruned. Trial was pruned at iteration 0.\u001b[0m\n",
      "\u001b[32m[I 2022-05-08 20:47:54,992]\u001b[0m Trial 263 pruned. Trial was pruned at iteration 1.\u001b[0m\n",
      "\u001b[32m[I 2022-05-08 20:47:56,016]\u001b[0m Trial 264 finished with value: 0.2298331829055895 and parameters: {'n_estimators': 10000, 'learning_rate': 0.05, 'num_leaves': 180, 'max_depth': 12, 'min_data_in_leaf': 20, 'lambda_l1': 0, 'lambda_l2': 0, 'min_gain_to_split': 0.0, 'bagging_fraction': 0.65, 'bagging_freq': 1, 'feature_fraction': 0.95}. Best is trial 228 with value: 0.22842937334875865.\u001b[0m\n"
     ]
    },
    {
     "name": "stdout",
     "output_type": "stream",
     "text": [
      "mean_loss 0.22983\n",
      "[LightGBM] [Warning] lambda_l1 is set=0, reg_alpha=0.0 will be ignored. Current value: lambda_l1=0\n",
      "[LightGBM] [Warning] bagging_fraction is set=0.75, subsample=1.0 will be ignored. Current value: bagging_fraction=0.75\n",
      "[LightGBM] [Warning] min_gain_to_split is set=0.0, min_split_gain=0.0 will be ignored. Current value: min_gain_to_split=0.0\n",
      "[LightGBM] [Warning] lambda_l2 is set=0, reg_lambda=0.0 will be ignored. Current value: lambda_l2=0\n",
      "[LightGBM] [Warning] feature_fraction is set=0.95, colsample_bytree=1.0 will be ignored. Current value: feature_fraction=0.95\n",
      "[LightGBM] [Warning] min_data_in_leaf is set=20, min_child_samples=20 will be ignored. Current value: min_data_in_leaf=20\n",
      "[LightGBM] [Warning] bagging_freq is set=1, subsample_freq=0 will be ignored. Current value: bagging_freq=1\n"
     ]
    },
    {
     "name": "stderr",
     "output_type": "stream",
     "text": [
      "\u001b[32m[I 2022-05-08 20:47:57,390]\u001b[0m Trial 265 finished with value: 0.22842937334875865 and parameters: {'n_estimators': 10000, 'learning_rate': 0.05, 'num_leaves': 180, 'max_depth': 12, 'min_data_in_leaf': 20, 'lambda_l1': 0, 'lambda_l2': 0, 'min_gain_to_split': 0.0, 'bagging_fraction': 0.75, 'bagging_freq': 1, 'feature_fraction': 0.95}. Best is trial 228 with value: 0.22842937334875865.\u001b[0m\n"
     ]
    },
    {
     "name": "stdout",
     "output_type": "stream",
     "text": [
      "mean_loss 0.22843\n",
      "[LightGBM] [Warning] lambda_l1 is set=0, reg_alpha=0.0 will be ignored. Current value: lambda_l1=0\n",
      "[LightGBM] [Warning] bagging_fraction is set=0.65, subsample=1.0 will be ignored. Current value: bagging_fraction=0.65\n",
      "[LightGBM] [Warning] min_gain_to_split is set=0.0, min_split_gain=0.0 will be ignored. Current value: min_gain_to_split=0.0\n",
      "[LightGBM] [Warning] lambda_l2 is set=0, reg_lambda=0.0 will be ignored. Current value: lambda_l2=0\n",
      "[LightGBM] [Warning] feature_fraction is set=0.95, colsample_bytree=1.0 will be ignored. Current value: feature_fraction=0.95\n",
      "[LightGBM] [Warning] min_data_in_leaf is set=20, min_child_samples=20 will be ignored. Current value: min_data_in_leaf=20\n",
      "[LightGBM] [Warning] bagging_freq is set=1, subsample_freq=0 will be ignored. Current value: bagging_freq=1\n"
     ]
    },
    {
     "name": "stderr",
     "output_type": "stream",
     "text": [
      "\u001b[32m[I 2022-05-08 20:47:58,447]\u001b[0m Trial 266 finished with value: 0.2298331829055895 and parameters: {'n_estimators': 10000, 'learning_rate': 0.05, 'num_leaves': 180, 'max_depth': 12, 'min_data_in_leaf': 20, 'lambda_l1': 0, 'lambda_l2': 0, 'min_gain_to_split': 0.0, 'bagging_fraction': 0.65, 'bagging_freq': 1, 'feature_fraction': 0.95}. Best is trial 228 with value: 0.22842937334875865.\u001b[0m\n"
     ]
    },
    {
     "name": "stdout",
     "output_type": "stream",
     "text": [
      "mean_loss 0.22983\n",
      "[LightGBM] [Warning] lambda_l1 is set=0, reg_alpha=0.0 will be ignored. Current value: lambda_l1=0\n",
      "[LightGBM] [Warning] bagging_fraction is set=0.65, subsample=1.0 will be ignored. Current value: bagging_fraction=0.65\n",
      "[LightGBM] [Warning] min_gain_to_split is set=0.0, min_split_gain=0.0 will be ignored. Current value: min_gain_to_split=0.0\n",
      "[LightGBM] [Warning] lambda_l2 is set=0, reg_lambda=0.0 will be ignored. Current value: lambda_l2=0\n",
      "[LightGBM] [Warning] feature_fraction is set=0.95, colsample_bytree=1.0 will be ignored. Current value: feature_fraction=0.95\n",
      "[LightGBM] [Warning] min_data_in_leaf is set=20, min_child_samples=20 will be ignored. Current value: min_data_in_leaf=20\n",
      "[LightGBM] [Warning] bagging_freq is set=1, subsample_freq=0 will be ignored. Current value: bagging_freq=1\n"
     ]
    },
    {
     "name": "stderr",
     "output_type": "stream",
     "text": [
      "\u001b[32m[I 2022-05-08 20:47:59,470]\u001b[0m Trial 267 finished with value: 0.2298331829055895 and parameters: {'n_estimators': 10000, 'learning_rate': 0.05, 'num_leaves': 180, 'max_depth': 12, 'min_data_in_leaf': 20, 'lambda_l1': 0, 'lambda_l2': 0, 'min_gain_to_split': 0.0, 'bagging_fraction': 0.65, 'bagging_freq': 1, 'feature_fraction': 0.95}. Best is trial 228 with value: 0.22842937334875865.\u001b[0m\n",
      "\u001b[32m[I 2022-05-08 20:47:59,550]\u001b[0m Trial 268 pruned. Trial was pruned at iteration 0.\u001b[0m\n"
     ]
    },
    {
     "name": "stdout",
     "output_type": "stream",
     "text": [
      "mean_loss 0.22983\n",
      "[LightGBM] [Warning] lambda_l1 is set=60, reg_alpha=0.0 will be ignored. Current value: lambda_l1=60\n",
      "[LightGBM] [Warning] bagging_fraction is set=0.35, subsample=1.0 will be ignored. Current value: bagging_fraction=0.35\n",
      "[LightGBM] [Warning] min_gain_to_split is set=0.0, min_split_gain=0.0 will be ignored. Current value: min_gain_to_split=0.0\n",
      "[LightGBM] [Warning] lambda_l2 is set=0, reg_lambda=0.0 will be ignored. Current value: lambda_l2=0\n",
      "[LightGBM] [Warning] feature_fraction is set=0.8500000000000001, colsample_bytree=1.0 will be ignored. Current value: feature_fraction=0.8500000000000001\n",
      "[LightGBM] [Warning] min_data_in_leaf is set=20, min_child_samples=20 will be ignored. Current value: min_data_in_leaf=20\n",
      "[LightGBM] [Warning] bagging_freq is set=1, subsample_freq=0 will be ignored. Current value: bagging_freq=1\n"
     ]
    },
    {
     "name": "stderr",
     "output_type": "stream",
     "text": [
      "\u001b[32m[I 2022-05-08 20:48:00,607]\u001b[0m Trial 269 finished with value: 0.23082254476758357 and parameters: {'n_estimators': 10000, 'learning_rate': 0.05, 'num_leaves': 180, 'max_depth': 12, 'min_data_in_leaf': 20, 'lambda_l1': 0, 'lambda_l2': 0, 'min_gain_to_split': 0.0, 'bagging_fraction': 0.55, 'bagging_freq': 1, 'feature_fraction': 0.95}. Best is trial 228 with value: 0.22842937334875865.\u001b[0m\n",
      "\u001b[32m[I 2022-05-08 20:48:00,689]\u001b[0m Trial 270 pruned. Trial was pruned at iteration 0.\u001b[0m\n",
      "\u001b[32m[I 2022-05-08 20:48:00,769]\u001b[0m Trial 271 pruned. Trial was pruned at iteration 0.\u001b[0m\n"
     ]
    },
    {
     "name": "stdout",
     "output_type": "stream",
     "text": [
      "mean_loss 0.23082\n",
      "[LightGBM] [Warning] lambda_l1 is set=0, reg_alpha=0.0 will be ignored. Current value: lambda_l1=0\n",
      "[LightGBM] [Warning] bagging_fraction is set=0.75, subsample=1.0 will be ignored. Current value: bagging_fraction=0.75\n",
      "[LightGBM] [Warning] min_gain_to_split is set=0.0, min_split_gain=0.0 will be ignored. Current value: min_gain_to_split=0.0\n",
      "[LightGBM] [Warning] lambda_l2 is set=0, reg_lambda=0.0 will be ignored. Current value: lambda_l2=0\n",
      "[LightGBM] [Warning] feature_fraction is set=0.95, colsample_bytree=1.0 will be ignored. Current value: feature_fraction=0.95\n",
      "[LightGBM] [Warning] min_data_in_leaf is set=20, min_child_samples=20 will be ignored. Current value: min_data_in_leaf=20\n",
      "[LightGBM] [Warning] bagging_freq is set=1, subsample_freq=0 will be ignored. Current value: bagging_freq=1\n"
     ]
    },
    {
     "name": "stderr",
     "output_type": "stream",
     "text": [
      "\u001b[32m[I 2022-05-08 20:48:00,850]\u001b[0m Trial 272 pruned. Trial was pruned at iteration 0.\u001b[0m\n",
      "\u001b[32m[I 2022-05-08 20:48:02,156]\u001b[0m Trial 273 finished with value: 0.22842937334875865 and parameters: {'n_estimators': 10000, 'learning_rate': 0.05, 'num_leaves': 180, 'max_depth': 12, 'min_data_in_leaf': 20, 'lambda_l1': 0, 'lambda_l2': 0, 'min_gain_to_split': 0.0, 'bagging_fraction': 0.75, 'bagging_freq': 1, 'feature_fraction': 0.95}. Best is trial 228 with value: 0.22842937334875865.\u001b[0m\n",
      "\u001b[32m[I 2022-05-08 20:48:02,249]\u001b[0m Trial 274 pruned. Trial was pruned at iteration 1.\u001b[0m\n"
     ]
    },
    {
     "name": "stdout",
     "output_type": "stream",
     "text": [
      "mean_loss 0.22843\n",
      "[LightGBM] [Warning] lambda_l1 is set=0, reg_alpha=0.0 will be ignored. Current value: lambda_l1=0\n",
      "[LightGBM] [Warning] bagging_fraction is set=0.75, subsample=1.0 will be ignored. Current value: bagging_fraction=0.75\n",
      "[LightGBM] [Warning] min_gain_to_split is set=0.0, min_split_gain=0.0 will be ignored. Current value: min_gain_to_split=0.0\n",
      "[LightGBM] [Warning] lambda_l2 is set=0, reg_lambda=0.0 will be ignored. Current value: lambda_l2=0\n",
      "[LightGBM] [Warning] feature_fraction is set=0.95, colsample_bytree=1.0 will be ignored. Current value: feature_fraction=0.95\n",
      "[LightGBM] [Warning] min_data_in_leaf is set=20, min_child_samples=20 will be ignored. Current value: min_data_in_leaf=20\n",
      "[LightGBM] [Warning] bagging_freq is set=1, subsample_freq=0 will be ignored. Current value: bagging_freq=1\n"
     ]
    },
    {
     "name": "stderr",
     "output_type": "stream",
     "text": [
      "\u001b[32m[I 2022-05-08 20:48:03,724]\u001b[0m Trial 275 finished with value: 0.22842937334875865 and parameters: {'n_estimators': 10000, 'learning_rate': 0.05, 'num_leaves': 180, 'max_depth': 12, 'min_data_in_leaf': 20, 'lambda_l1': 0, 'lambda_l2': 0, 'min_gain_to_split': 0.0, 'bagging_fraction': 0.75, 'bagging_freq': 1, 'feature_fraction': 0.95}. Best is trial 228 with value: 0.22842937334875865.\u001b[0m\n",
      "\u001b[32m[I 2022-05-08 20:48:03,810]\u001b[0m Trial 276 pruned. Trial was pruned at iteration 0.\u001b[0m\n"
     ]
    },
    {
     "name": "stdout",
     "output_type": "stream",
     "text": [
      "mean_loss 0.22843\n",
      "[LightGBM] [Warning] lambda_l1 is set=0, reg_alpha=0.0 will be ignored. Current value: lambda_l1=0\n",
      "[LightGBM] [Warning] bagging_fraction is set=0.75, subsample=1.0 will be ignored. Current value: bagging_fraction=0.75\n",
      "[LightGBM] [Warning] min_gain_to_split is set=0.0, min_split_gain=0.0 will be ignored. Current value: min_gain_to_split=0.0\n",
      "[LightGBM] [Warning] lambda_l2 is set=0, reg_lambda=0.0 will be ignored. Current value: lambda_l2=0\n",
      "[LightGBM] [Warning] feature_fraction is set=0.45, colsample_bytree=1.0 will be ignored. Current value: feature_fraction=0.45\n",
      "[LightGBM] [Warning] min_data_in_leaf is set=20, min_child_samples=20 will be ignored. Current value: min_data_in_leaf=20\n",
      "[LightGBM] [Warning] bagging_freq is set=1, subsample_freq=0 will be ignored. Current value: bagging_freq=1\n"
     ]
    },
    {
     "name": "stderr",
     "output_type": "stream",
     "text": [
      "\u001b[32m[I 2022-05-08 20:48:04,760]\u001b[0m Trial 277 finished with value: 0.22842937334875865 and parameters: {'n_estimators': 10000, 'learning_rate': 0.05, 'num_leaves': 180, 'max_depth': 12, 'min_data_in_leaf': 20, 'lambda_l1': 0, 'lambda_l2': 0, 'min_gain_to_split': 0.0, 'bagging_fraction': 0.75, 'bagging_freq': 1, 'feature_fraction': 0.95}. Best is trial 228 with value: 0.22842937334875865.\u001b[0m\n",
      "\u001b[32m[I 2022-05-08 20:48:04,860]\u001b[0m Trial 278 pruned. Trial was pruned at iteration 2.\u001b[0m\n"
     ]
    },
    {
     "name": "stdout",
     "output_type": "stream",
     "text": [
      "mean_loss 0.22843\n",
      "[LightGBM] [Warning] lambda_l1 is set=0, reg_alpha=0.0 will be ignored. Current value: lambda_l1=0\n",
      "[LightGBM] [Warning] bagging_fraction is set=0.75, subsample=1.0 will be ignored. Current value: bagging_fraction=0.75\n",
      "[LightGBM] [Warning] min_gain_to_split is set=0.0, min_split_gain=0.0 will be ignored. Current value: min_gain_to_split=0.0\n",
      "[LightGBM] [Warning] lambda_l2 is set=0, reg_lambda=0.0 will be ignored. Current value: lambda_l2=0\n",
      "[LightGBM] [Warning] feature_fraction is set=0.8500000000000001, colsample_bytree=1.0 will be ignored. Current value: feature_fraction=0.8500000000000001\n",
      "[LightGBM] [Warning] min_data_in_leaf is set=20, min_child_samples=20 will be ignored. Current value: min_data_in_leaf=20\n",
      "[LightGBM] [Warning] bagging_freq is set=1, subsample_freq=0 will be ignored. Current value: bagging_freq=1\n"
     ]
    },
    {
     "name": "stderr",
     "output_type": "stream",
     "text": [
      "\u001b[32m[I 2022-05-08 20:48:05,948]\u001b[0m Trial 279 finished with value: 0.22842937334875865 and parameters: {'n_estimators': 10000, 'learning_rate': 0.05, 'num_leaves': 180, 'max_depth': 12, 'min_data_in_leaf': 20, 'lambda_l1': 0, 'lambda_l2': 0, 'min_gain_to_split': 0.0, 'bagging_fraction': 0.75, 'bagging_freq': 1, 'feature_fraction': 0.95}. Best is trial 228 with value: 0.22842937334875865.\u001b[0m\n",
      "\u001b[32m[I 2022-05-08 20:48:06,048]\u001b[0m Trial 280 pruned. Trial was pruned at iteration 1.\u001b[0m\n",
      "\u001b[32m[I 2022-05-08 20:48:06,145]\u001b[0m Trial 281 pruned. Trial was pruned at iteration 2.\u001b[0m\n"
     ]
    },
    {
     "name": "stdout",
     "output_type": "stream",
     "text": [
      "mean_loss 0.22843\n",
      "[LightGBM] [Warning] lambda_l1 is set=0, reg_alpha=0.0 will be ignored. Current value: lambda_l1=0\n",
      "[LightGBM] [Warning] bagging_fraction is set=0.75, subsample=1.0 will be ignored. Current value: bagging_fraction=0.75\n",
      "[LightGBM] [Warning] min_gain_to_split is set=0.0, min_split_gain=0.0 will be ignored. Current value: min_gain_to_split=0.0\n",
      "[LightGBM] [Warning] lambda_l2 is set=0, reg_lambda=0.0 will be ignored. Current value: lambda_l2=0\n",
      "[LightGBM] [Warning] feature_fraction is set=0.95, colsample_bytree=1.0 will be ignored. Current value: feature_fraction=0.95\n",
      "[LightGBM] [Warning] min_data_in_leaf is set=20, min_child_samples=20 will be ignored. Current value: min_data_in_leaf=20\n",
      "[LightGBM] [Warning] bagging_freq is set=1, subsample_freq=0 will be ignored. Current value: bagging_freq=1\n"
     ]
    },
    {
     "name": "stderr",
     "output_type": "stream",
     "text": [
      "\u001b[32m[I 2022-05-08 20:48:07,117]\u001b[0m Trial 282 finished with value: 0.22842937334875865 and parameters: {'n_estimators': 10000, 'learning_rate': 0.05, 'num_leaves': 180, 'max_depth': 12, 'min_data_in_leaf': 20, 'lambda_l1': 0, 'lambda_l2': 0, 'min_gain_to_split': 0.0, 'bagging_fraction': 0.75, 'bagging_freq': 1, 'feature_fraction': 0.95}. Best is trial 228 with value: 0.22842937334875865.\u001b[0m\n",
      "\u001b[32m[I 2022-05-08 20:48:07,282]\u001b[0m Trial 283 pruned. Trial was pruned at iteration 1.\u001b[0m\n"
     ]
    },
    {
     "name": "stdout",
     "output_type": "stream",
     "text": [
      "mean_loss 0.22843\n",
      "[LightGBM] [Warning] lambda_l1 is set=0, reg_alpha=0.0 will be ignored. Current value: lambda_l1=0\n",
      "[LightGBM] [Warning] bagging_fraction is set=0.75, subsample=1.0 will be ignored. Current value: bagging_fraction=0.75\n",
      "[LightGBM] [Warning] min_gain_to_split is set=0.0, min_split_gain=0.0 will be ignored. Current value: min_gain_to_split=0.0\n",
      "[LightGBM] [Warning] lambda_l2 is set=0, reg_lambda=0.0 will be ignored. Current value: lambda_l2=0\n",
      "[LightGBM] [Warning] feature_fraction is set=0.95, colsample_bytree=1.0 will be ignored. Current value: feature_fraction=0.95\n",
      "[LightGBM] [Warning] min_data_in_leaf is set=20, min_child_samples=20 will be ignored. Current value: min_data_in_leaf=20\n",
      "[LightGBM] [Warning] bagging_freq is set=1, subsample_freq=0 will be ignored. Current value: bagging_freq=1\n"
     ]
    },
    {
     "name": "stderr",
     "output_type": "stream",
     "text": [
      "\u001b[32m[I 2022-05-08 20:48:07,386]\u001b[0m Trial 284 pruned. Trial was pruned at iteration 0.\u001b[0m\n",
      "\u001b[32m[I 2022-05-08 20:48:07,475]\u001b[0m Trial 285 pruned. Trial was pruned at iteration 1.\u001b[0m\n",
      "\u001b[32m[I 2022-05-08 20:48:08,407]\u001b[0m Trial 286 finished with value: 0.2309168145319522 and parameters: {'n_estimators': 10000, 'learning_rate': 0.05, 'num_leaves': 180, 'max_depth': 12, 'min_data_in_leaf': 20, 'lambda_l1': 0, 'lambda_l2': 0, 'min_gain_to_split': 1.0, 'bagging_fraction': 0.75, 'bagging_freq': 1, 'feature_fraction': 0.95}. Best is trial 228 with value: 0.22842937334875865.\u001b[0m\n",
      "\u001b[32m[I 2022-05-08 20:48:08,503]\u001b[0m Trial 287 pruned. Trial was pruned at iteration 0.\u001b[0m\n",
      "\u001b[32m[I 2022-05-08 20:48:08,594]\u001b[0m Trial 288 pruned. Trial was pruned at iteration 1.\u001b[0m\n"
     ]
    },
    {
     "name": "stdout",
     "output_type": "stream",
     "text": [
      "mean_loss 0.23092\n",
      "[LightGBM] [Warning] lambda_l1 is set=0, reg_alpha=0.0 will be ignored. Current value: lambda_l1=0\n",
      "[LightGBM] [Warning] bagging_fraction is set=0.75, subsample=1.0 will be ignored. Current value: bagging_fraction=0.75\n",
      "[LightGBM] [Warning] min_gain_to_split is set=0.0, min_split_gain=0.0 will be ignored. Current value: min_gain_to_split=0.0\n",
      "[LightGBM] [Warning] lambda_l2 is set=0, reg_lambda=0.0 will be ignored. Current value: lambda_l2=0\n",
      "[LightGBM] [Warning] feature_fraction is set=0.75, colsample_bytree=1.0 will be ignored. Current value: feature_fraction=0.75\n",
      "[LightGBM] [Warning] min_data_in_leaf is set=20, min_child_samples=20 will be ignored. Current value: min_data_in_leaf=20\n",
      "[LightGBM] [Warning] bagging_freq is set=1, subsample_freq=0 will be ignored. Current value: bagging_freq=1\n"
     ]
    },
    {
     "name": "stderr",
     "output_type": "stream",
     "text": [
      "\u001b[32m[I 2022-05-08 20:48:08,687]\u001b[0m Trial 289 pruned. Trial was pruned at iteration 1.\u001b[0m\n",
      "\u001b[32m[I 2022-05-08 20:48:08,796]\u001b[0m Trial 290 pruned. Trial was pruned at iteration 1.\u001b[0m\n",
      "\u001b[32m[I 2022-05-08 20:48:09,838]\u001b[0m Trial 291 finished with value: 0.22842937334875865 and parameters: {'n_estimators': 10000, 'learning_rate': 0.05, 'num_leaves': 180, 'max_depth': 12, 'min_data_in_leaf': 20, 'lambda_l1': 0, 'lambda_l2': 0, 'min_gain_to_split': 0.0, 'bagging_fraction': 0.75, 'bagging_freq': 1, 'feature_fraction': 0.95}. Best is trial 228 with value: 0.22842937334875865.\u001b[0m\n",
      "\u001b[32m[I 2022-05-08 20:48:09,942]\u001b[0m Trial 292 pruned. Trial was pruned at iteration 0.\u001b[0m\n"
     ]
    },
    {
     "name": "stdout",
     "output_type": "stream",
     "text": [
      "mean_loss 0.22843\n",
      "[LightGBM] [Warning] lambda_l1 is set=0, reg_alpha=0.0 will be ignored. Current value: lambda_l1=0\n",
      "[LightGBM] [Warning] bagging_fraction is set=0.75, subsample=1.0 will be ignored. Current value: bagging_fraction=0.75\n",
      "[LightGBM] [Warning] min_gain_to_split is set=0.0, min_split_gain=0.0 will be ignored. Current value: min_gain_to_split=0.0\n",
      "[LightGBM] [Warning] lambda_l2 is set=0, reg_lambda=0.0 will be ignored. Current value: lambda_l2=0\n",
      "[LightGBM] [Warning] feature_fraction is set=0.95, colsample_bytree=1.0 will be ignored. Current value: feature_fraction=0.95\n",
      "[LightGBM] [Warning] min_data_in_leaf is set=20, min_child_samples=20 will be ignored. Current value: min_data_in_leaf=20\n",
      "[LightGBM] [Warning] bagging_freq is set=1, subsample_freq=0 will be ignored. Current value: bagging_freq=1\n"
     ]
    },
    {
     "name": "stderr",
     "output_type": "stream",
     "text": [
      "\u001b[32m[I 2022-05-08 20:48:10,924]\u001b[0m Trial 293 finished with value: 0.22842937334875865 and parameters: {'n_estimators': 10000, 'learning_rate': 0.05, 'num_leaves': 180, 'max_depth': 12, 'min_data_in_leaf': 20, 'lambda_l1': 0, 'lambda_l2': 0, 'min_gain_to_split': 0.0, 'bagging_fraction': 0.75, 'bagging_freq': 1, 'feature_fraction': 0.95}. Best is trial 228 with value: 0.22842937334875865.\u001b[0m\n",
      "\u001b[32m[I 2022-05-08 20:48:11,019]\u001b[0m Trial 294 pruned. Trial was pruned at iteration 1.\u001b[0m\n",
      "\u001b[32m[I 2022-05-08 20:48:11,105]\u001b[0m Trial 295 pruned. Trial was pruned at iteration 0.\u001b[0m\n"
     ]
    },
    {
     "name": "stdout",
     "output_type": "stream",
     "text": [
      "mean_loss 0.22843\n",
      "[LightGBM] [Warning] lambda_l1 is set=0, reg_alpha=0.0 will be ignored. Current value: lambda_l1=0\n",
      "[LightGBM] [Warning] bagging_fraction is set=0.75, subsample=1.0 will be ignored. Current value: bagging_fraction=0.75\n",
      "[LightGBM] [Warning] min_gain_to_split is set=0.0, min_split_gain=0.0 will be ignored. Current value: min_gain_to_split=0.0\n",
      "[LightGBM] [Warning] lambda_l2 is set=0, reg_lambda=0.0 will be ignored. Current value: lambda_l2=0\n",
      "[LightGBM] [Warning] feature_fraction is set=0.95, colsample_bytree=1.0 will be ignored. Current value: feature_fraction=0.95\n",
      "[LightGBM] [Warning] min_data_in_leaf is set=20, min_child_samples=20 will be ignored. Current value: min_data_in_leaf=20\n",
      "[LightGBM] [Warning] bagging_freq is set=1, subsample_freq=0 will be ignored. Current value: bagging_freq=1\n"
     ]
    },
    {
     "name": "stderr",
     "output_type": "stream",
     "text": [
      "\u001b[32m[I 2022-05-08 20:48:12,061]\u001b[0m Trial 296 finished with value: 0.22842937334875865 and parameters: {'n_estimators': 10000, 'learning_rate': 0.05, 'num_leaves': 180, 'max_depth': 12, 'min_data_in_leaf': 20, 'lambda_l1': 0, 'lambda_l2': 0, 'min_gain_to_split': 0.0, 'bagging_fraction': 0.75, 'bagging_freq': 1, 'feature_fraction': 0.95}. Best is trial 228 with value: 0.22842937334875865.\u001b[0m\n",
      "\u001b[32m[I 2022-05-08 20:48:12,144]\u001b[0m Trial 297 pruned. Trial was pruned at iteration 0.\u001b[0m\n",
      "\u001b[32m[I 2022-05-08 20:48:12,244]\u001b[0m Trial 298 pruned. Trial was pruned at iteration 0.\u001b[0m\n"
     ]
    },
    {
     "name": "stdout",
     "output_type": "stream",
     "text": [
      "mean_loss 0.22843\n",
      "[LightGBM] [Warning] lambda_l1 is set=0, reg_alpha=0.0 will be ignored. Current value: lambda_l1=0\n",
      "[LightGBM] [Warning] bagging_fraction is set=0.75, subsample=1.0 will be ignored. Current value: bagging_fraction=0.75\n",
      "[LightGBM] [Warning] min_gain_to_split is set=0.0, min_split_gain=0.0 will be ignored. Current value: min_gain_to_split=0.0\n",
      "[LightGBM] [Warning] lambda_l2 is set=0, reg_lambda=0.0 will be ignored. Current value: lambda_l2=0\n",
      "[LightGBM] [Warning] feature_fraction is set=0.8500000000000001, colsample_bytree=1.0 will be ignored. Current value: feature_fraction=0.8500000000000001\n",
      "[LightGBM] [Warning] min_data_in_leaf is set=20, min_child_samples=20 will be ignored. Current value: min_data_in_leaf=20\n",
      "[LightGBM] [Warning] bagging_freq is set=1, subsample_freq=0 will be ignored. Current value: bagging_freq=1\n"
     ]
    },
    {
     "name": "stderr",
     "output_type": "stream",
     "text": [
      "\u001b[32m[I 2022-05-08 20:48:12,336]\u001b[0m Trial 299 pruned. Trial was pruned at iteration 1.\u001b[0m\n",
      "\u001b[32m[I 2022-05-08 20:48:13,301]\u001b[0m Trial 300 finished with value: 0.22842937334875865 and parameters: {'n_estimators': 10000, 'learning_rate': 0.05, 'num_leaves': 180, 'max_depth': 12, 'min_data_in_leaf': 20, 'lambda_l1': 0, 'lambda_l2': 0, 'min_gain_to_split': 0.0, 'bagging_fraction': 0.75, 'bagging_freq': 1, 'feature_fraction': 0.95}. Best is trial 228 with value: 0.22842937334875865.\u001b[0m\n"
     ]
    },
    {
     "name": "stdout",
     "output_type": "stream",
     "text": [
      "mean_loss 0.22843\n",
      "[LightGBM] [Warning] lambda_l1 is set=0, reg_alpha=0.0 will be ignored. Current value: lambda_l1=0\n",
      "[LightGBM] [Warning] bagging_fraction is set=0.75, subsample=1.0 will be ignored. Current value: bagging_fraction=0.75\n",
      "[LightGBM] [Warning] min_gain_to_split is set=0.0, min_split_gain=0.0 will be ignored. Current value: min_gain_to_split=0.0\n",
      "[LightGBM] [Warning] lambda_l2 is set=0, reg_lambda=0.0 will be ignored. Current value: lambda_l2=0\n",
      "[LightGBM] [Warning] feature_fraction is set=0.95, colsample_bytree=1.0 will be ignored. Current value: feature_fraction=0.95\n",
      "[LightGBM] [Warning] min_data_in_leaf is set=20, min_child_samples=20 will be ignored. Current value: min_data_in_leaf=20\n",
      "[LightGBM] [Warning] bagging_freq is set=1, subsample_freq=0 will be ignored. Current value: bagging_freq=1\n"
     ]
    },
    {
     "name": "stderr",
     "output_type": "stream",
     "text": [
      "\u001b[32m[I 2022-05-08 20:48:14,262]\u001b[0m Trial 301 finished with value: 0.22842937334875865 and parameters: {'n_estimators': 10000, 'learning_rate': 0.05, 'num_leaves': 180, 'max_depth': 12, 'min_data_in_leaf': 20, 'lambda_l1': 0, 'lambda_l2': 0, 'min_gain_to_split': 0.0, 'bagging_fraction': 0.75, 'bagging_freq': 1, 'feature_fraction': 0.95}. Best is trial 228 with value: 0.22842937334875865.\u001b[0m\n",
      "\u001b[32m[I 2022-05-08 20:48:14,348]\u001b[0m Trial 302 pruned. Trial was pruned at iteration 0.\u001b[0m\n"
     ]
    },
    {
     "name": "stdout",
     "output_type": "stream",
     "text": [
      "mean_loss 0.22843\n",
      "[LightGBM] [Warning] lambda_l1 is set=0, reg_alpha=0.0 will be ignored. Current value: lambda_l1=0\n",
      "[LightGBM] [Warning] bagging_fraction is set=0.75, subsample=1.0 will be ignored. Current value: bagging_fraction=0.75\n",
      "[LightGBM] [Warning] min_gain_to_split is set=0.0, min_split_gain=0.0 will be ignored. Current value: min_gain_to_split=0.0\n",
      "[LightGBM] [Warning] lambda_l2 is set=0, reg_lambda=0.0 will be ignored. Current value: lambda_l2=0\n",
      "[LightGBM] [Warning] feature_fraction is set=0.95, colsample_bytree=1.0 will be ignored. Current value: feature_fraction=0.95\n",
      "[LightGBM] [Warning] min_data_in_leaf is set=20, min_child_samples=20 will be ignored. Current value: min_data_in_leaf=20\n",
      "[LightGBM] [Warning] bagging_freq is set=1, subsample_freq=0 will be ignored. Current value: bagging_freq=1\n"
     ]
    },
    {
     "name": "stderr",
     "output_type": "stream",
     "text": [
      "\u001b[32m[I 2022-05-08 20:48:15,350]\u001b[0m Trial 303 finished with value: 0.22842937334875865 and parameters: {'n_estimators': 10000, 'learning_rate': 0.05, 'num_leaves': 180, 'max_depth': 12, 'min_data_in_leaf': 20, 'lambda_l1': 0, 'lambda_l2': 0, 'min_gain_to_split': 0.0, 'bagging_fraction': 0.75, 'bagging_freq': 1, 'feature_fraction': 0.95}. Best is trial 228 with value: 0.22842937334875865.\u001b[0m\n",
      "\u001b[32m[I 2022-05-08 20:48:15,478]\u001b[0m Trial 304 pruned. Trial was pruned at iteration 2.\u001b[0m\n"
     ]
    },
    {
     "name": "stdout",
     "output_type": "stream",
     "text": [
      "mean_loss 0.22843\n",
      "[LightGBM] [Warning] lambda_l1 is set=0, reg_alpha=0.0 will be ignored. Current value: lambda_l1=0\n",
      "[LightGBM] [Warning] bagging_fraction is set=0.75, subsample=1.0 will be ignored. Current value: bagging_fraction=0.75\n",
      "[LightGBM] [Warning] min_gain_to_split is set=0.0, min_split_gain=0.0 will be ignored. Current value: min_gain_to_split=0.0\n",
      "[LightGBM] [Warning] lambda_l2 is set=0, reg_lambda=0.0 will be ignored. Current value: lambda_l2=0\n",
      "[LightGBM] [Warning] feature_fraction is set=0.8500000000000001, colsample_bytree=1.0 will be ignored. Current value: feature_fraction=0.8500000000000001\n",
      "[LightGBM] [Warning] min_data_in_leaf is set=20, min_child_samples=20 will be ignored. Current value: min_data_in_leaf=20\n",
      "[LightGBM] [Warning] bagging_freq is set=1, subsample_freq=0 will be ignored. Current value: bagging_freq=1\n"
     ]
    },
    {
     "name": "stderr",
     "output_type": "stream",
     "text": [
      "\u001b[32m[I 2022-05-08 20:48:15,563]\u001b[0m Trial 305 pruned. Trial was pruned at iteration 0.\u001b[0m\n",
      "\u001b[32m[I 2022-05-08 20:48:16,555]\u001b[0m Trial 306 finished with value: 0.22842937334875865 and parameters: {'n_estimators': 10000, 'learning_rate': 0.05, 'num_leaves': 180, 'max_depth': 12, 'min_data_in_leaf': 20, 'lambda_l1': 0, 'lambda_l2': 0, 'min_gain_to_split': 0.0, 'bagging_fraction': 0.75, 'bagging_freq': 1, 'feature_fraction': 0.95}. Best is trial 228 with value: 0.22842937334875865.\u001b[0m\n"
     ]
    },
    {
     "name": "stdout",
     "output_type": "stream",
     "text": [
      "mean_loss 0.22843\n",
      "[LightGBM] [Warning] lambda_l1 is set=0, reg_alpha=0.0 will be ignored. Current value: lambda_l1=0\n",
      "[LightGBM] [Warning] bagging_fraction is set=0.75, subsample=1.0 will be ignored. Current value: bagging_fraction=0.75\n",
      "[LightGBM] [Warning] min_gain_to_split is set=0.0, min_split_gain=0.0 will be ignored. Current value: min_gain_to_split=0.0\n",
      "[LightGBM] [Warning] lambda_l2 is set=0, reg_lambda=0.0 will be ignored. Current value: lambda_l2=0\n",
      "[LightGBM] [Warning] feature_fraction is set=0.95, colsample_bytree=1.0 will be ignored. Current value: feature_fraction=0.95\n",
      "[LightGBM] [Warning] min_data_in_leaf is set=20, min_child_samples=20 will be ignored. Current value: min_data_in_leaf=20\n",
      "[LightGBM] [Warning] bagging_freq is set=1, subsample_freq=0 will be ignored. Current value: bagging_freq=1\n"
     ]
    },
    {
     "name": "stderr",
     "output_type": "stream",
     "text": [
      "\u001b[32m[I 2022-05-08 20:48:17,519]\u001b[0m Trial 307 finished with value: 0.22842937334875865 and parameters: {'n_estimators': 10000, 'learning_rate': 0.05, 'num_leaves': 180, 'max_depth': 12, 'min_data_in_leaf': 20, 'lambda_l1': 0, 'lambda_l2': 0, 'min_gain_to_split': 0.0, 'bagging_fraction': 0.75, 'bagging_freq': 1, 'feature_fraction': 0.95}. Best is trial 228 with value: 0.22842937334875865.\u001b[0m\n"
     ]
    },
    {
     "name": "stdout",
     "output_type": "stream",
     "text": [
      "mean_loss 0.22843\n",
      "[LightGBM] [Warning] lambda_l1 is set=0, reg_alpha=0.0 will be ignored. Current value: lambda_l1=0\n",
      "[LightGBM] [Warning] bagging_fraction is set=0.75, subsample=1.0 will be ignored. Current value: bagging_fraction=0.75\n",
      "[LightGBM] [Warning] min_gain_to_split is set=0.0, min_split_gain=0.0 will be ignored. Current value: min_gain_to_split=0.0\n",
      "[LightGBM] [Warning] lambda_l2 is set=0, reg_lambda=0.0 will be ignored. Current value: lambda_l2=0\n",
      "[LightGBM] [Warning] feature_fraction is set=0.95, colsample_bytree=1.0 will be ignored. Current value: feature_fraction=0.95\n",
      "[LightGBM] [Warning] min_data_in_leaf is set=20, min_child_samples=20 will be ignored. Current value: min_data_in_leaf=20\n",
      "[LightGBM] [Warning] bagging_freq is set=1, subsample_freq=0 will be ignored. Current value: bagging_freq=1\n"
     ]
    },
    {
     "name": "stderr",
     "output_type": "stream",
     "text": [
      "\u001b[32m[I 2022-05-08 20:48:18,513]\u001b[0m Trial 308 finished with value: 0.22842937334875865 and parameters: {'n_estimators': 10000, 'learning_rate': 0.05, 'num_leaves': 180, 'max_depth': 12, 'min_data_in_leaf': 20, 'lambda_l1': 0, 'lambda_l2': 0, 'min_gain_to_split': 0.0, 'bagging_fraction': 0.75, 'bagging_freq': 1, 'feature_fraction': 0.95}. Best is trial 228 with value: 0.22842937334875865.\u001b[0m\n",
      "\u001b[32m[I 2022-05-08 20:48:18,596]\u001b[0m Trial 309 pruned. Trial was pruned at iteration 0.\u001b[0m\n"
     ]
    },
    {
     "name": "stdout",
     "output_type": "stream",
     "text": [
      "mean_loss 0.22843\n",
      "[LightGBM] [Warning] lambda_l1 is set=60, reg_alpha=0.0 will be ignored. Current value: lambda_l1=60\n",
      "[LightGBM] [Warning] bagging_fraction is set=0.75, subsample=1.0 will be ignored. Current value: bagging_fraction=0.75\n",
      "[LightGBM] [Warning] min_gain_to_split is set=0.0, min_split_gain=0.0 will be ignored. Current value: min_gain_to_split=0.0\n",
      "[LightGBM] [Warning] lambda_l2 is set=0, reg_lambda=0.0 will be ignored. Current value: lambda_l2=0\n",
      "[LightGBM] [Warning] feature_fraction is set=0.95, colsample_bytree=1.0 will be ignored. Current value: feature_fraction=0.95\n",
      "[LightGBM] [Warning] min_data_in_leaf is set=20, min_child_samples=20 will be ignored. Current value: min_data_in_leaf=20\n",
      "[LightGBM] [Warning] bagging_freq is set=1, subsample_freq=0 will be ignored. Current value: bagging_freq=1\n"
     ]
    },
    {
     "name": "stderr",
     "output_type": "stream",
     "text": [
      "\u001b[32m[I 2022-05-08 20:48:19,587]\u001b[0m Trial 310 finished with value: 0.22842937334875865 and parameters: {'n_estimators': 10000, 'learning_rate': 0.05, 'num_leaves': 180, 'max_depth': 12, 'min_data_in_leaf': 20, 'lambda_l1': 0, 'lambda_l2': 0, 'min_gain_to_split': 0.0, 'bagging_fraction': 0.75, 'bagging_freq': 1, 'feature_fraction': 0.95}. Best is trial 228 with value: 0.22842937334875865.\u001b[0m\n",
      "\u001b[32m[I 2022-05-08 20:48:19,689]\u001b[0m Trial 311 pruned. Trial was pruned at iteration 0.\u001b[0m\n",
      "\u001b[32m[I 2022-05-08 20:48:19,770]\u001b[0m Trial 312 pruned. Trial was pruned at iteration 0.\u001b[0m\n"
     ]
    },
    {
     "name": "stdout",
     "output_type": "stream",
     "text": [
      "mean_loss 0.22843\n",
      "[LightGBM] [Warning] lambda_l1 is set=0, reg_alpha=0.0 will be ignored. Current value: lambda_l1=0\n",
      "[LightGBM] [Warning] bagging_fraction is set=0.75, subsample=1.0 will be ignored. Current value: bagging_fraction=0.75\n",
      "[LightGBM] [Warning] min_gain_to_split is set=0.0, min_split_gain=0.0 will be ignored. Current value: min_gain_to_split=0.0\n",
      "[LightGBM] [Warning] lambda_l2 is set=0, reg_lambda=0.0 will be ignored. Current value: lambda_l2=0\n",
      "[LightGBM] [Warning] feature_fraction is set=0.95, colsample_bytree=1.0 will be ignored. Current value: feature_fraction=0.95\n",
      "[LightGBM] [Warning] min_data_in_leaf is set=20, min_child_samples=20 will be ignored. Current value: min_data_in_leaf=20\n",
      "[LightGBM] [Warning] bagging_freq is set=1, subsample_freq=0 will be ignored. Current value: bagging_freq=1\n"
     ]
    },
    {
     "name": "stderr",
     "output_type": "stream",
     "text": [
      "\u001b[32m[I 2022-05-08 20:48:19,857]\u001b[0m Trial 313 pruned. Trial was pruned at iteration 0.\u001b[0m\n",
      "\u001b[32m[I 2022-05-08 20:48:19,953]\u001b[0m Trial 314 pruned. Trial was pruned at iteration 1.\u001b[0m\n",
      "\u001b[32m[I 2022-05-08 20:48:20,034]\u001b[0m Trial 315 pruned. Trial was pruned at iteration 0.\u001b[0m\n",
      "\u001b[32m[I 2022-05-08 20:48:21,078]\u001b[0m Trial 316 finished with value: 0.22842937334875865 and parameters: {'n_estimators': 10000, 'learning_rate': 0.05, 'num_leaves': 180, 'max_depth': 12, 'min_data_in_leaf': 20, 'lambda_l1': 0, 'lambda_l2': 0, 'min_gain_to_split': 0.0, 'bagging_fraction': 0.75, 'bagging_freq': 1, 'feature_fraction': 0.95}. Best is trial 228 with value: 0.22842937334875865.\u001b[0m\n",
      "\u001b[32m[I 2022-05-08 20:48:21,169]\u001b[0m Trial 317 pruned. Trial was pruned at iteration 0.\u001b[0m\n",
      "\u001b[32m[I 2022-05-08 20:48:21,275]\u001b[0m Trial 318 pruned. Trial was pruned at iteration 1.\u001b[0m\n"
     ]
    },
    {
     "name": "stdout",
     "output_type": "stream",
     "text": [
      "mean_loss 0.22843\n",
      "[LightGBM] [Warning] lambda_l1 is set=0, reg_alpha=0.0 will be ignored. Current value: lambda_l1=0\n",
      "[LightGBM] [Warning] bagging_fraction is set=0.75, subsample=1.0 will be ignored. Current value: bagging_fraction=0.75\n",
      "[LightGBM] [Warning] min_gain_to_split is set=0.0, min_split_gain=0.0 will be ignored. Current value: min_gain_to_split=0.0\n",
      "[LightGBM] [Warning] lambda_l2 is set=0, reg_lambda=0.0 will be ignored. Current value: lambda_l2=0\n",
      "[LightGBM] [Warning] feature_fraction is set=0.55, colsample_bytree=1.0 will be ignored. Current value: feature_fraction=0.55\n",
      "[LightGBM] [Warning] min_data_in_leaf is set=20, min_child_samples=20 will be ignored. Current value: min_data_in_leaf=20\n",
      "[LightGBM] [Warning] bagging_freq is set=1, subsample_freq=0 will be ignored. Current value: bagging_freq=1\n"
     ]
    },
    {
     "name": "stderr",
     "output_type": "stream",
     "text": [
      "\u001b[32m[I 2022-05-08 20:48:21,359]\u001b[0m Trial 319 pruned. Trial was pruned at iteration 0.\u001b[0m\n",
      "\u001b[32m[I 2022-05-08 20:48:21,444]\u001b[0m Trial 320 pruned. Trial was pruned at iteration 0.\u001b[0m\n",
      "\u001b[32m[I 2022-05-08 20:48:21,531]\u001b[0m Trial 321 pruned. Trial was pruned at iteration 0.\u001b[0m\n",
      "\u001b[32m[I 2022-05-08 20:48:21,638]\u001b[0m Trial 322 pruned. Trial was pruned at iteration 0.\u001b[0m\n",
      "\u001b[32m[I 2022-05-08 20:48:22,576]\u001b[0m Trial 323 finished with value: 0.22842937334875865 and parameters: {'n_estimators': 10000, 'learning_rate': 0.05, 'num_leaves': 180, 'max_depth': 12, 'min_data_in_leaf': 20, 'lambda_l1': 0, 'lambda_l2': 0, 'min_gain_to_split': 0.0, 'bagging_fraction': 0.75, 'bagging_freq': 1, 'feature_fraction': 0.95}. Best is trial 228 with value: 0.22842937334875865.\u001b[0m\n",
      "\u001b[32m[I 2022-05-08 20:48:22,670]\u001b[0m Trial 324 pruned. Trial was pruned at iteration 0.\u001b[0m\n"
     ]
    },
    {
     "name": "stdout",
     "output_type": "stream",
     "text": [
      "mean_loss 0.22843\n",
      "[LightGBM] [Warning] lambda_l1 is set=0, reg_alpha=0.0 will be ignored. Current value: lambda_l1=0\n",
      "[LightGBM] [Warning] bagging_fraction is set=0.75, subsample=1.0 will be ignored. Current value: bagging_fraction=0.75\n",
      "[LightGBM] [Warning] min_gain_to_split is set=0.0, min_split_gain=0.0 will be ignored. Current value: min_gain_to_split=0.0\n",
      "[LightGBM] [Warning] lambda_l2 is set=0, reg_lambda=0.0 will be ignored. Current value: lambda_l2=0\n",
      "[LightGBM] [Warning] feature_fraction is set=0.95, colsample_bytree=1.0 will be ignored. Current value: feature_fraction=0.95\n",
      "[LightGBM] [Warning] min_data_in_leaf is set=20, min_child_samples=20 will be ignored. Current value: min_data_in_leaf=20\n",
      "[LightGBM] [Warning] bagging_freq is set=1, subsample_freq=0 will be ignored. Current value: bagging_freq=1\n"
     ]
    },
    {
     "name": "stderr",
     "output_type": "stream",
     "text": [
      "\u001b[32m[I 2022-05-08 20:48:22,776]\u001b[0m Trial 325 pruned. Trial was pruned at iteration 1.\u001b[0m\n",
      "\u001b[32m[I 2022-05-08 20:48:22,953]\u001b[0m Trial 326 pruned. Trial was pruned at iteration 0.\u001b[0m\n",
      "\u001b[32m[I 2022-05-08 20:48:23,038]\u001b[0m Trial 327 pruned. Trial was pruned at iteration 0.\u001b[0m\n",
      "\u001b[32m[I 2022-05-08 20:48:24,036]\u001b[0m Trial 328 finished with value: 0.22842937334875865 and parameters: {'n_estimators': 10000, 'learning_rate': 0.05, 'num_leaves': 180, 'max_depth': 12, 'min_data_in_leaf': 20, 'lambda_l1': 0, 'lambda_l2': 0, 'min_gain_to_split': 0.0, 'bagging_fraction': 0.75, 'bagging_freq': 1, 'feature_fraction': 0.95}. Best is trial 228 with value: 0.22842937334875865.\u001b[0m\n"
     ]
    },
    {
     "name": "stdout",
     "output_type": "stream",
     "text": [
      "mean_loss 0.22843\n",
      "[LightGBM] [Warning] lambda_l1 is set=0, reg_alpha=0.0 will be ignored. Current value: lambda_l1=0\n",
      "[LightGBM] [Warning] bagging_fraction is set=0.75, subsample=1.0 will be ignored. Current value: bagging_fraction=0.75\n",
      "[LightGBM] [Warning] min_gain_to_split is set=0.0, min_split_gain=0.0 will be ignored. Current value: min_gain_to_split=0.0\n",
      "[LightGBM] [Warning] lambda_l2 is set=0, reg_lambda=0.0 will be ignored. Current value: lambda_l2=0\n",
      "[LightGBM] [Warning] feature_fraction is set=0.95, colsample_bytree=1.0 will be ignored. Current value: feature_fraction=0.95\n",
      "[LightGBM] [Warning] min_data_in_leaf is set=20, min_child_samples=20 will be ignored. Current value: min_data_in_leaf=20\n",
      "[LightGBM] [Warning] bagging_freq is set=1, subsample_freq=0 will be ignored. Current value: bagging_freq=1\n"
     ]
    },
    {
     "name": "stderr",
     "output_type": "stream",
     "text": [
      "\u001b[32m[I 2022-05-08 20:48:25,009]\u001b[0m Trial 329 finished with value: 0.22842937334875865 and parameters: {'n_estimators': 10000, 'learning_rate': 0.05, 'num_leaves': 180, 'max_depth': 12, 'min_data_in_leaf': 20, 'lambda_l1': 0, 'lambda_l2': 0, 'min_gain_to_split': 0.0, 'bagging_fraction': 0.75, 'bagging_freq': 1, 'feature_fraction': 0.95}. Best is trial 228 with value: 0.22842937334875865.\u001b[0m\n",
      "\u001b[32m[I 2022-05-08 20:48:25,105]\u001b[0m Trial 330 pruned. Trial was pruned at iteration 1.\u001b[0m\n"
     ]
    },
    {
     "name": "stdout",
     "output_type": "stream",
     "text": [
      "mean_loss 0.22843\n",
      "[LightGBM] [Warning] lambda_l1 is set=0, reg_alpha=0.0 will be ignored. Current value: lambda_l1=0\n",
      "[LightGBM] [Warning] bagging_fraction is set=0.75, subsample=1.0 will be ignored. Current value: bagging_fraction=0.75\n",
      "[LightGBM] [Warning] min_gain_to_split is set=0.0, min_split_gain=0.0 will be ignored. Current value: min_gain_to_split=0.0\n",
      "[LightGBM] [Warning] lambda_l2 is set=0, reg_lambda=0.0 will be ignored. Current value: lambda_l2=0\n",
      "[LightGBM] [Warning] feature_fraction is set=0.95, colsample_bytree=1.0 will be ignored. Current value: feature_fraction=0.95\n",
      "[LightGBM] [Warning] min_data_in_leaf is set=20, min_child_samples=20 will be ignored. Current value: min_data_in_leaf=20\n",
      "[LightGBM] [Warning] bagging_freq is set=1, subsample_freq=0 will be ignored. Current value: bagging_freq=1\n"
     ]
    },
    {
     "name": "stderr",
     "output_type": "stream",
     "text": [
      "\u001b[32m[I 2022-05-08 20:48:26,158]\u001b[0m Trial 331 finished with value: 0.22842937334875865 and parameters: {'n_estimators': 10000, 'learning_rate': 0.05, 'num_leaves': 180, 'max_depth': 12, 'min_data_in_leaf': 20, 'lambda_l1': 0, 'lambda_l2': 0, 'min_gain_to_split': 0.0, 'bagging_fraction': 0.75, 'bagging_freq': 1, 'feature_fraction': 0.95}. Best is trial 228 with value: 0.22842937334875865.\u001b[0m\n",
      "\u001b[32m[I 2022-05-08 20:48:26,256]\u001b[0m Trial 332 pruned. Trial was pruned at iteration 1.\u001b[0m\n"
     ]
    },
    {
     "name": "stdout",
     "output_type": "stream",
     "text": [
      "mean_loss 0.22843\n",
      "[LightGBM] [Warning] lambda_l1 is set=0, reg_alpha=0.0 will be ignored. Current value: lambda_l1=0\n",
      "[LightGBM] [Warning] bagging_fraction is set=0.75, subsample=1.0 will be ignored. Current value: bagging_fraction=0.75\n",
      "[LightGBM] [Warning] min_gain_to_split is set=0.0, min_split_gain=0.0 will be ignored. Current value: min_gain_to_split=0.0\n",
      "[LightGBM] [Warning] lambda_l2 is set=0, reg_lambda=0.0 will be ignored. Current value: lambda_l2=0\n",
      "[LightGBM] [Warning] feature_fraction is set=0.95, colsample_bytree=1.0 will be ignored. Current value: feature_fraction=0.95\n",
      "[LightGBM] [Warning] min_data_in_leaf is set=20, min_child_samples=20 will be ignored. Current value: min_data_in_leaf=20\n",
      "[LightGBM] [Warning] bagging_freq is set=1, subsample_freq=0 will be ignored. Current value: bagging_freq=1\n"
     ]
    },
    {
     "name": "stderr",
     "output_type": "stream",
     "text": [
      "\u001b[32m[I 2022-05-08 20:48:26,375]\u001b[0m Trial 333 pruned. Trial was pruned at iteration 2.\u001b[0m\n",
      "\u001b[32m[I 2022-05-08 20:48:26,459]\u001b[0m Trial 334 pruned. Trial was pruned at iteration 0.\u001b[0m\n",
      "\u001b[32m[I 2022-05-08 20:48:26,546]\u001b[0m Trial 335 pruned. Trial was pruned at iteration 0.\u001b[0m\n",
      "\u001b[32m[I 2022-05-08 20:48:27,549]\u001b[0m Trial 336 finished with value: 0.22842937334875865 and parameters: {'n_estimators': 10000, 'learning_rate': 0.05, 'num_leaves': 180, 'max_depth': 12, 'min_data_in_leaf': 20, 'lambda_l1': 0, 'lambda_l2': 0, 'min_gain_to_split': 0.0, 'bagging_fraction': 0.75, 'bagging_freq': 1, 'feature_fraction': 0.95}. Best is trial 228 with value: 0.22842937334875865.\u001b[0m\n",
      "\u001b[32m[I 2022-05-08 20:48:27,648]\u001b[0m Trial 337 pruned. Trial was pruned at iteration 1.\u001b[0m\n"
     ]
    },
    {
     "name": "stdout",
     "output_type": "stream",
     "text": [
      "mean_loss 0.22843\n",
      "[LightGBM] [Warning] lambda_l1 is set=0, reg_alpha=0.0 will be ignored. Current value: lambda_l1=0\n",
      "[LightGBM] [Warning] bagging_fraction is set=0.75, subsample=1.0 will be ignored. Current value: bagging_fraction=0.75\n",
      "[LightGBM] [Warning] min_gain_to_split is set=0.0, min_split_gain=0.0 will be ignored. Current value: min_gain_to_split=0.0\n",
      "[LightGBM] [Warning] lambda_l2 is set=0, reg_lambda=0.0 will be ignored. Current value: lambda_l2=0\n",
      "[LightGBM] [Warning] feature_fraction is set=0.95, colsample_bytree=1.0 will be ignored. Current value: feature_fraction=0.95\n",
      "[LightGBM] [Warning] min_data_in_leaf is set=20, min_child_samples=20 will be ignored. Current value: min_data_in_leaf=20\n",
      "[LightGBM] [Warning] bagging_freq is set=1, subsample_freq=0 will be ignored. Current value: bagging_freq=1\n"
     ]
    },
    {
     "name": "stderr",
     "output_type": "stream",
     "text": [
      "\u001b[32m[I 2022-05-08 20:48:28,469]\u001b[0m Trial 338 finished with value: 0.2309168145319522 and parameters: {'n_estimators': 10000, 'learning_rate': 0.05, 'num_leaves': 180, 'max_depth': 12, 'min_data_in_leaf': 20, 'lambda_l1': 0, 'lambda_l2': 0, 'min_gain_to_split': 1.0, 'bagging_fraction': 0.75, 'bagging_freq': 1, 'feature_fraction': 0.95}. Best is trial 228 with value: 0.22842937334875865.\u001b[0m\n",
      "\u001b[32m[I 2022-05-08 20:48:28,567]\u001b[0m Trial 339 pruned. Trial was pruned at iteration 1.\u001b[0m\n"
     ]
    },
    {
     "name": "stdout",
     "output_type": "stream",
     "text": [
      "mean_loss 0.23092\n",
      "[LightGBM] [Warning] lambda_l1 is set=0, reg_alpha=0.0 will be ignored. Current value: lambda_l1=0\n",
      "[LightGBM] [Warning] bagging_fraction is set=0.75, subsample=1.0 will be ignored. Current value: bagging_fraction=0.75\n",
      "[LightGBM] [Warning] min_gain_to_split is set=0.0, min_split_gain=0.0 will be ignored. Current value: min_gain_to_split=0.0\n",
      "[LightGBM] [Warning] lambda_l2 is set=0, reg_lambda=0.0 will be ignored. Current value: lambda_l2=0\n",
      "[LightGBM] [Warning] feature_fraction is set=0.95, colsample_bytree=1.0 will be ignored. Current value: feature_fraction=0.95\n",
      "[LightGBM] [Warning] min_data_in_leaf is set=20, min_child_samples=20 will be ignored. Current value: min_data_in_leaf=20\n",
      "[LightGBM] [Warning] bagging_freq is set=1, subsample_freq=0 will be ignored. Current value: bagging_freq=1\n"
     ]
    },
    {
     "name": "stderr",
     "output_type": "stream",
     "text": [
      "\u001b[32m[I 2022-05-08 20:48:28,678]\u001b[0m Trial 340 pruned. Trial was pruned at iteration 1.\u001b[0m\n",
      "\u001b[32m[I 2022-05-08 20:48:28,766]\u001b[0m Trial 341 pruned. Trial was pruned at iteration 0.\u001b[0m\n",
      "\u001b[32m[I 2022-05-08 20:48:29,792]\u001b[0m Trial 342 finished with value: 0.22842937334875865 and parameters: {'n_estimators': 10000, 'learning_rate': 0.05, 'num_leaves': 180, 'max_depth': 12, 'min_data_in_leaf': 20, 'lambda_l1': 0, 'lambda_l2': 0, 'min_gain_to_split': 0.0, 'bagging_fraction': 0.75, 'bagging_freq': 1, 'feature_fraction': 0.95}. Best is trial 228 with value: 0.22842937334875865.\u001b[0m\n",
      "\u001b[32m[I 2022-05-08 20:48:29,883]\u001b[0m Trial 343 pruned. Trial was pruned at iteration 0.\u001b[0m\n"
     ]
    },
    {
     "name": "stdout",
     "output_type": "stream",
     "text": [
      "mean_loss 0.22843\n",
      "[LightGBM] [Warning] lambda_l1 is set=0, reg_alpha=0.0 will be ignored. Current value: lambda_l1=0\n",
      "[LightGBM] [Warning] bagging_fraction is set=0.75, subsample=1.0 will be ignored. Current value: bagging_fraction=0.75\n",
      "[LightGBM] [Warning] min_gain_to_split is set=0.0, min_split_gain=0.0 will be ignored. Current value: min_gain_to_split=0.0\n",
      "[LightGBM] [Warning] lambda_l2 is set=60, reg_lambda=0.0 will be ignored. Current value: lambda_l2=60\n",
      "[LightGBM] [Warning] feature_fraction is set=0.95, colsample_bytree=1.0 will be ignored. Current value: feature_fraction=0.95\n",
      "[LightGBM] [Warning] min_data_in_leaf is set=20, min_child_samples=20 will be ignored. Current value: min_data_in_leaf=20\n",
      "[LightGBM] [Warning] bagging_freq is set=1, subsample_freq=0 will be ignored. Current value: bagging_freq=1\n"
     ]
    },
    {
     "name": "stderr",
     "output_type": "stream",
     "text": [
      "\u001b[32m[I 2022-05-08 20:48:30,949]\u001b[0m Trial 344 finished with value: 0.22842937334875865 and parameters: {'n_estimators': 10000, 'learning_rate': 0.05, 'num_leaves': 180, 'max_depth': 12, 'min_data_in_leaf': 20, 'lambda_l1': 0, 'lambda_l2': 0, 'min_gain_to_split': 0.0, 'bagging_fraction': 0.75, 'bagging_freq': 1, 'feature_fraction': 0.95}. Best is trial 228 with value: 0.22842937334875865.\u001b[0m\n"
     ]
    },
    {
     "name": "stdout",
     "output_type": "stream",
     "text": [
      "mean_loss 0.22843\n",
      "[LightGBM] [Warning] lambda_l1 is set=0, reg_alpha=0.0 will be ignored. Current value: lambda_l1=0\n",
      "[LightGBM] [Warning] bagging_fraction is set=0.75, subsample=1.0 will be ignored. Current value: bagging_fraction=0.75\n",
      "[LightGBM] [Warning] min_gain_to_split is set=0.0, min_split_gain=0.0 will be ignored. Current value: min_gain_to_split=0.0\n",
      "[LightGBM] [Warning] lambda_l2 is set=0, reg_lambda=0.0 will be ignored. Current value: lambda_l2=0\n",
      "[LightGBM] [Warning] feature_fraction is set=0.95, colsample_bytree=1.0 will be ignored. Current value: feature_fraction=0.95\n",
      "[LightGBM] [Warning] min_data_in_leaf is set=20, min_child_samples=20 will be ignored. Current value: min_data_in_leaf=20\n",
      "[LightGBM] [Warning] bagging_freq is set=1, subsample_freq=0 will be ignored. Current value: bagging_freq=1\n"
     ]
    },
    {
     "name": "stderr",
     "output_type": "stream",
     "text": [
      "\u001b[32m[I 2022-05-08 20:48:32,043]\u001b[0m Trial 345 finished with value: 0.22842937334875865 and parameters: {'n_estimators': 10000, 'learning_rate': 0.05, 'num_leaves': 180, 'max_depth': 12, 'min_data_in_leaf': 20, 'lambda_l1': 0, 'lambda_l2': 0, 'min_gain_to_split': 0.0, 'bagging_fraction': 0.75, 'bagging_freq': 1, 'feature_fraction': 0.95}. Best is trial 228 with value: 0.22842937334875865.\u001b[0m\n",
      "\u001b[32m[I 2022-05-08 20:48:32,135]\u001b[0m Trial 346 pruned. Trial was pruned at iteration 0.\u001b[0m\n",
      "\u001b[32m[I 2022-05-08 20:48:32,236]\u001b[0m Trial 347 pruned. Trial was pruned at iteration 1.\u001b[0m\n"
     ]
    },
    {
     "name": "stdout",
     "output_type": "stream",
     "text": [
      "mean_loss 0.22843\n",
      "[LightGBM] [Warning] lambda_l1 is set=0, reg_alpha=0.0 will be ignored. Current value: lambda_l1=0\n",
      "[LightGBM] [Warning] bagging_fraction is set=0.75, subsample=1.0 will be ignored. Current value: bagging_fraction=0.75\n",
      "[LightGBM] [Warning] min_gain_to_split is set=0.0, min_split_gain=0.0 will be ignored. Current value: min_gain_to_split=0.0\n",
      "[LightGBM] [Warning] lambda_l2 is set=0, reg_lambda=0.0 will be ignored. Current value: lambda_l2=0\n",
      "[LightGBM] [Warning] feature_fraction is set=0.95, colsample_bytree=1.0 will be ignored. Current value: feature_fraction=0.95\n",
      "[LightGBM] [Warning] min_data_in_leaf is set=20, min_child_samples=20 will be ignored. Current value: min_data_in_leaf=20\n",
      "[LightGBM] [Warning] bagging_freq is set=1, subsample_freq=0 will be ignored. Current value: bagging_freq=1\n"
     ]
    },
    {
     "name": "stderr",
     "output_type": "stream",
     "text": [
      "\u001b[32m[I 2022-05-08 20:48:33,833]\u001b[0m Trial 348 finished with value: 0.22842937334875865 and parameters: {'n_estimators': 10000, 'learning_rate': 0.05, 'num_leaves': 180, 'max_depth': 12, 'min_data_in_leaf': 20, 'lambda_l1': 0, 'lambda_l2': 0, 'min_gain_to_split': 0.0, 'bagging_fraction': 0.75, 'bagging_freq': 1, 'feature_fraction': 0.95}. Best is trial 228 with value: 0.22842937334875865.\u001b[0m\n",
      "\u001b[32m[I 2022-05-08 20:48:33,932]\u001b[0m Trial 349 pruned. Trial was pruned at iteration 1.\u001b[0m\n"
     ]
    },
    {
     "name": "stdout",
     "output_type": "stream",
     "text": [
      "mean_loss 0.22843\n",
      "[LightGBM] [Warning] lambda_l1 is set=0, reg_alpha=0.0 will be ignored. Current value: lambda_l1=0\n",
      "[LightGBM] [Warning] bagging_fraction is set=0.75, subsample=1.0 will be ignored. Current value: bagging_fraction=0.75\n",
      "[LightGBM] [Warning] min_gain_to_split is set=0.0, min_split_gain=0.0 will be ignored. Current value: min_gain_to_split=0.0\n",
      "[LightGBM] [Warning] lambda_l2 is set=0, reg_lambda=0.0 will be ignored. Current value: lambda_l2=0\n",
      "[LightGBM] [Warning] feature_fraction is set=0.95, colsample_bytree=1.0 will be ignored. Current value: feature_fraction=0.95\n",
      "[LightGBM] [Warning] min_data_in_leaf is set=20, min_child_samples=20 will be ignored. Current value: min_data_in_leaf=20\n",
      "[LightGBM] [Warning] bagging_freq is set=1, subsample_freq=0 will be ignored. Current value: bagging_freq=1\n"
     ]
    },
    {
     "name": "stderr",
     "output_type": "stream",
     "text": [
      "\u001b[32m[I 2022-05-08 20:48:34,962]\u001b[0m Trial 350 finished with value: 0.22842937334875865 and parameters: {'n_estimators': 10000, 'learning_rate': 0.05, 'num_leaves': 180, 'max_depth': 12, 'min_data_in_leaf': 20, 'lambda_l1': 0, 'lambda_l2': 0, 'min_gain_to_split': 0.0, 'bagging_fraction': 0.75, 'bagging_freq': 1, 'feature_fraction': 0.95}. Best is trial 228 with value: 0.22842937334875865.\u001b[0m\n",
      "\u001b[32m[I 2022-05-08 20:48:35,053]\u001b[0m Trial 351 pruned. Trial was pruned at iteration 0.\u001b[0m\n",
      "\u001b[32m[I 2022-05-08 20:48:35,150]\u001b[0m Trial 352 pruned. Trial was pruned at iteration 1.\u001b[0m\n"
     ]
    },
    {
     "name": "stdout",
     "output_type": "stream",
     "text": [
      "mean_loss 0.22843\n",
      "[LightGBM] [Warning] lambda_l1 is set=0, reg_alpha=0.0 will be ignored. Current value: lambda_l1=0\n",
      "[LightGBM] [Warning] bagging_fraction is set=0.75, subsample=1.0 will be ignored. Current value: bagging_fraction=0.75\n",
      "[LightGBM] [Warning] min_gain_to_split is set=0.0, min_split_gain=0.0 will be ignored. Current value: min_gain_to_split=0.0\n",
      "[LightGBM] [Warning] lambda_l2 is set=0, reg_lambda=0.0 will be ignored. Current value: lambda_l2=0\n",
      "[LightGBM] [Warning] feature_fraction is set=0.8500000000000001, colsample_bytree=1.0 will be ignored. Current value: feature_fraction=0.8500000000000001\n",
      "[LightGBM] [Warning] min_data_in_leaf is set=20, min_child_samples=20 will be ignored. Current value: min_data_in_leaf=20\n",
      "[LightGBM] [Warning] bagging_freq is set=1, subsample_freq=0 will be ignored. Current value: bagging_freq=1\n"
     ]
    },
    {
     "name": "stderr",
     "output_type": "stream",
     "text": [
      "\u001b[32m[I 2022-05-08 20:48:35,252]\u001b[0m Trial 353 pruned. Trial was pruned at iteration 1.\u001b[0m\n",
      "\u001b[32m[I 2022-05-08 20:48:35,341]\u001b[0m Trial 354 pruned. Trial was pruned at iteration 0.\u001b[0m\n",
      "\u001b[32m[I 2022-05-08 20:48:35,447]\u001b[0m Trial 355 pruned. Trial was pruned at iteration 0.\u001b[0m\n",
      "\u001b[32m[I 2022-05-08 20:48:36,435]\u001b[0m Trial 356 finished with value: 0.22842937334875865 and parameters: {'n_estimators': 10000, 'learning_rate': 0.05, 'num_leaves': 180, 'max_depth': 12, 'min_data_in_leaf': 20, 'lambda_l1': 0, 'lambda_l2': 0, 'min_gain_to_split': 0.0, 'bagging_fraction': 0.75, 'bagging_freq': 1, 'feature_fraction': 0.95}. Best is trial 228 with value: 0.22842937334875865.\u001b[0m\n"
     ]
    },
    {
     "name": "stdout",
     "output_type": "stream",
     "text": [
      "mean_loss 0.22843\n",
      "[LightGBM] [Warning] lambda_l1 is set=0, reg_alpha=0.0 will be ignored. Current value: lambda_l1=0\n",
      "[LightGBM] [Warning] bagging_fraction is set=0.75, subsample=1.0 will be ignored. Current value: bagging_fraction=0.75\n",
      "[LightGBM] [Warning] min_gain_to_split is set=0.0, min_split_gain=0.0 will be ignored. Current value: min_gain_to_split=0.0\n",
      "[LightGBM] [Warning] lambda_l2 is set=0, reg_lambda=0.0 will be ignored. Current value: lambda_l2=0\n",
      "[LightGBM] [Warning] feature_fraction is set=0.95, colsample_bytree=1.0 will be ignored. Current value: feature_fraction=0.95\n",
      "[LightGBM] [Warning] min_data_in_leaf is set=20, min_child_samples=20 will be ignored. Current value: min_data_in_leaf=20\n",
      "[LightGBM] [Warning] bagging_freq is set=1, subsample_freq=0 will be ignored. Current value: bagging_freq=1\n"
     ]
    },
    {
     "name": "stderr",
     "output_type": "stream",
     "text": [
      "\u001b[32m[I 2022-05-08 20:48:37,537]\u001b[0m Trial 357 finished with value: 0.22842937334875865 and parameters: {'n_estimators': 10000, 'learning_rate': 0.05, 'num_leaves': 180, 'max_depth': 12, 'min_data_in_leaf': 20, 'lambda_l1': 0, 'lambda_l2': 0, 'min_gain_to_split': 0.0, 'bagging_fraction': 0.75, 'bagging_freq': 1, 'feature_fraction': 0.95}. Best is trial 228 with value: 0.22842937334875865.\u001b[0m\n",
      "\u001b[32m[I 2022-05-08 20:48:37,642]\u001b[0m Trial 358 pruned. Trial was pruned at iteration 1.\u001b[0m\n"
     ]
    },
    {
     "name": "stdout",
     "output_type": "stream",
     "text": [
      "mean_loss 0.22843\n",
      "[LightGBM] [Warning] lambda_l1 is set=0, reg_alpha=0.0 will be ignored. Current value: lambda_l1=0\n",
      "[LightGBM] [Warning] bagging_fraction is set=0.75, subsample=1.0 will be ignored. Current value: bagging_fraction=0.75\n",
      "[LightGBM] [Warning] min_gain_to_split is set=0.0, min_split_gain=0.0 will be ignored. Current value: min_gain_to_split=0.0\n",
      "[LightGBM] [Warning] lambda_l2 is set=0, reg_lambda=0.0 will be ignored. Current value: lambda_l2=0\n",
      "[LightGBM] [Warning] feature_fraction is set=0.95, colsample_bytree=1.0 will be ignored. Current value: feature_fraction=0.95\n",
      "[LightGBM] [Warning] min_data_in_leaf is set=20, min_child_samples=20 will be ignored. Current value: min_data_in_leaf=20\n",
      "[LightGBM] [Warning] bagging_freq is set=1, subsample_freq=0 will be ignored. Current value: bagging_freq=1\n"
     ]
    },
    {
     "name": "stderr",
     "output_type": "stream",
     "text": [
      "\u001b[32m[I 2022-05-08 20:48:37,745]\u001b[0m Trial 359 pruned. Trial was pruned at iteration 1.\u001b[0m\n",
      "\u001b[32m[I 2022-05-08 20:48:37,840]\u001b[0m Trial 360 pruned. Trial was pruned at iteration 0.\u001b[0m\n",
      "\u001b[32m[I 2022-05-08 20:48:37,927]\u001b[0m Trial 361 pruned. Trial was pruned at iteration 0.\u001b[0m\n",
      "\u001b[32m[I 2022-05-08 20:48:38,029]\u001b[0m Trial 362 pruned. Trial was pruned at iteration 1.\u001b[0m\n",
      "\u001b[32m[I 2022-05-08 20:48:38,117]\u001b[0m Trial 363 pruned. Trial was pruned at iteration 0.\u001b[0m\n",
      "\u001b[32m[I 2022-05-08 20:48:38,215]\u001b[0m Trial 364 pruned. Trial was pruned at iteration 1.\u001b[0m\n",
      "\u001b[32m[I 2022-05-08 20:48:39,264]\u001b[0m Trial 365 finished with value: 0.22842937334875865 and parameters: {'n_estimators': 10000, 'learning_rate': 0.05, 'num_leaves': 180, 'max_depth': 12, 'min_data_in_leaf': 20, 'lambda_l1': 0, 'lambda_l2': 0, 'min_gain_to_split': 0.0, 'bagging_fraction': 0.75, 'bagging_freq': 1, 'feature_fraction': 0.95}. Best is trial 228 with value: 0.22842937334875865.\u001b[0m\n",
      "\u001b[32m[I 2022-05-08 20:48:39,367]\u001b[0m Trial 366 pruned. Trial was pruned at iteration 1.\u001b[0m\n"
     ]
    },
    {
     "name": "stdout",
     "output_type": "stream",
     "text": [
      "mean_loss 0.22843\n",
      "[LightGBM] [Warning] lambda_l1 is set=0, reg_alpha=0.0 will be ignored. Current value: lambda_l1=0\n",
      "[LightGBM] [Warning] bagging_fraction is set=0.75, subsample=1.0 will be ignored. Current value: bagging_fraction=0.75\n",
      "[LightGBM] [Warning] min_gain_to_split is set=0.0, min_split_gain=0.0 will be ignored. Current value: min_gain_to_split=0.0\n",
      "[LightGBM] [Warning] lambda_l2 is set=0, reg_lambda=0.0 will be ignored. Current value: lambda_l2=0\n",
      "[LightGBM] [Warning] feature_fraction is set=0.95, colsample_bytree=1.0 will be ignored. Current value: feature_fraction=0.95\n",
      "[LightGBM] [Warning] min_data_in_leaf is set=20, min_child_samples=20 will be ignored. Current value: min_data_in_leaf=20\n",
      "[LightGBM] [Warning] bagging_freq is set=1, subsample_freq=0 will be ignored. Current value: bagging_freq=1\n"
     ]
    },
    {
     "name": "stderr",
     "output_type": "stream",
     "text": [
      "\u001b[32m[I 2022-05-08 20:48:39,483]\u001b[0m Trial 367 pruned. Trial was pruned at iteration 0.\u001b[0m\n",
      "\u001b[32m[I 2022-05-08 20:48:40,576]\u001b[0m Trial 368 finished with value: 0.22842937334875865 and parameters: {'n_estimators': 10000, 'learning_rate': 0.05, 'num_leaves': 180, 'max_depth': 12, 'min_data_in_leaf': 20, 'lambda_l1': 0, 'lambda_l2': 0, 'min_gain_to_split': 0.0, 'bagging_fraction': 0.75, 'bagging_freq': 1, 'feature_fraction': 0.95}. Best is trial 228 with value: 0.22842937334875865.\u001b[0m\n",
      "\u001b[32m[I 2022-05-08 20:48:40,690]\u001b[0m Trial 369 pruned. Trial was pruned at iteration 2.\u001b[0m\n"
     ]
    },
    {
     "name": "stdout",
     "output_type": "stream",
     "text": [
      "mean_loss 0.22843\n",
      "[LightGBM] [Warning] lambda_l1 is set=0, reg_alpha=0.0 will be ignored. Current value: lambda_l1=0\n",
      "[LightGBM] [Warning] bagging_fraction is set=0.75, subsample=1.0 will be ignored. Current value: bagging_fraction=0.75\n",
      "[LightGBM] [Warning] min_gain_to_split is set=0.0, min_split_gain=0.0 will be ignored. Current value: min_gain_to_split=0.0\n",
      "[LightGBM] [Warning] lambda_l2 is set=0, reg_lambda=0.0 will be ignored. Current value: lambda_l2=0\n",
      "[LightGBM] [Warning] feature_fraction is set=0.8500000000000001, colsample_bytree=1.0 will be ignored. Current value: feature_fraction=0.8500000000000001\n",
      "[LightGBM] [Warning] min_data_in_leaf is set=20, min_child_samples=20 will be ignored. Current value: min_data_in_leaf=20\n",
      "[LightGBM] [Warning] bagging_freq is set=1, subsample_freq=0 will be ignored. Current value: bagging_freq=1\n"
     ]
    },
    {
     "name": "stderr",
     "output_type": "stream",
     "text": [
      "\u001b[32m[I 2022-05-08 20:48:40,785]\u001b[0m Trial 370 pruned. Trial was pruned at iteration 0.\u001b[0m\n",
      "\u001b[32m[I 2022-05-08 20:48:40,888]\u001b[0m Trial 371 pruned. Trial was pruned at iteration 1.\u001b[0m\n",
      "\u001b[32m[I 2022-05-08 20:48:42,027]\u001b[0m Trial 372 finished with value: 0.22842937334875865 and parameters: {'n_estimators': 10000, 'learning_rate': 0.05, 'num_leaves': 180, 'max_depth': 12, 'min_data_in_leaf': 20, 'lambda_l1': 0, 'lambda_l2': 0, 'min_gain_to_split': 0.0, 'bagging_fraction': 0.75, 'bagging_freq': 1, 'feature_fraction': 0.95}. Best is trial 228 with value: 0.22842937334875865.\u001b[0m\n",
      "\u001b[32m[I 2022-05-08 20:48:42,120]\u001b[0m Trial 373 pruned. Trial was pruned at iteration 0.\u001b[0m\n"
     ]
    },
    {
     "name": "stdout",
     "output_type": "stream",
     "text": [
      "mean_loss 0.22843\n",
      "[LightGBM] [Warning] lambda_l1 is set=80, reg_alpha=0.0 will be ignored. Current value: lambda_l1=80\n",
      "[LightGBM] [Warning] bagging_fraction is set=0.75, subsample=1.0 will be ignored. Current value: bagging_fraction=0.75\n",
      "[LightGBM] [Warning] min_gain_to_split is set=0.0, min_split_gain=0.0 will be ignored. Current value: min_gain_to_split=0.0\n",
      "[LightGBM] [Warning] lambda_l2 is set=0, reg_lambda=0.0 will be ignored. Current value: lambda_l2=0\n",
      "[LightGBM] [Warning] feature_fraction is set=0.95, colsample_bytree=1.0 will be ignored. Current value: feature_fraction=0.95\n",
      "[LightGBM] [Warning] min_data_in_leaf is set=20, min_child_samples=20 will be ignored. Current value: min_data_in_leaf=20\n",
      "[LightGBM] [Warning] bagging_freq is set=1, subsample_freq=0 will be ignored. Current value: bagging_freq=1\n"
     ]
    },
    {
     "name": "stderr",
     "output_type": "stream",
     "text": [
      "\u001b[32m[I 2022-05-08 20:48:43,222]\u001b[0m Trial 374 finished with value: 0.2298331829055895 and parameters: {'n_estimators': 10000, 'learning_rate': 0.05, 'num_leaves': 180, 'max_depth': 12, 'min_data_in_leaf': 20, 'lambda_l1': 0, 'lambda_l2': 0, 'min_gain_to_split': 0.0, 'bagging_fraction': 0.65, 'bagging_freq': 1, 'feature_fraction': 0.95}. Best is trial 228 with value: 0.22842937334875865.\u001b[0m\n",
      "\u001b[32m[I 2022-05-08 20:48:43,319]\u001b[0m Trial 375 pruned. Trial was pruned at iteration 0.\u001b[0m\n"
     ]
    },
    {
     "name": "stdout",
     "output_type": "stream",
     "text": [
      "mean_loss 0.22983\n",
      "[LightGBM] [Warning] lambda_l1 is set=0, reg_alpha=0.0 will be ignored. Current value: lambda_l1=0\n",
      "[LightGBM] [Warning] bagging_fraction is set=0.75, subsample=1.0 will be ignored. Current value: bagging_fraction=0.75\n",
      "[LightGBM] [Warning] min_gain_to_split is set=1.0, min_split_gain=0.0 will be ignored. Current value: min_gain_to_split=1.0\n",
      "[LightGBM] [Warning] lambda_l2 is set=0, reg_lambda=0.0 will be ignored. Current value: lambda_l2=0\n",
      "[LightGBM] [Warning] feature_fraction is set=0.65, colsample_bytree=1.0 will be ignored. Current value: feature_fraction=0.65\n",
      "[LightGBM] [Warning] min_data_in_leaf is set=20, min_child_samples=20 will be ignored. Current value: min_data_in_leaf=20\n",
      "[LightGBM] [Warning] bagging_freq is set=1, subsample_freq=0 will be ignored. Current value: bagging_freq=1\n"
     ]
    },
    {
     "name": "stderr",
     "output_type": "stream",
     "text": [
      "\u001b[32m[I 2022-05-08 20:48:43,427]\u001b[0m Trial 376 pruned. Trial was pruned at iteration 1.\u001b[0m\n",
      "\u001b[32m[I 2022-05-08 20:48:44,417]\u001b[0m Trial 377 finished with value: 0.22842937334875865 and parameters: {'n_estimators': 10000, 'learning_rate': 0.05, 'num_leaves': 180, 'max_depth': 12, 'min_data_in_leaf': 20, 'lambda_l1': 0, 'lambda_l2': 0, 'min_gain_to_split': 0.0, 'bagging_fraction': 0.75, 'bagging_freq': 1, 'feature_fraction': 0.95}. Best is trial 228 with value: 0.22842937334875865.\u001b[0m\n"
     ]
    },
    {
     "name": "stdout",
     "output_type": "stream",
     "text": [
      "mean_loss 0.22843\n",
      "[LightGBM] [Warning] lambda_l1 is set=0, reg_alpha=0.0 will be ignored. Current value: lambda_l1=0\n",
      "[LightGBM] [Warning] bagging_fraction is set=0.75, subsample=1.0 will be ignored. Current value: bagging_fraction=0.75\n",
      "[LightGBM] [Warning] min_gain_to_split is set=0.0, min_split_gain=0.0 will be ignored. Current value: min_gain_to_split=0.0\n",
      "[LightGBM] [Warning] lambda_l2 is set=0, reg_lambda=0.0 will be ignored. Current value: lambda_l2=0\n",
      "[LightGBM] [Warning] feature_fraction is set=0.95, colsample_bytree=1.0 will be ignored. Current value: feature_fraction=0.95\n",
      "[LightGBM] [Warning] min_data_in_leaf is set=20, min_child_samples=20 will be ignored. Current value: min_data_in_leaf=20\n",
      "[LightGBM] [Warning] bagging_freq is set=1, subsample_freq=0 will be ignored. Current value: bagging_freq=1\n"
     ]
    },
    {
     "name": "stderr",
     "output_type": "stream",
     "text": [
      "\u001b[32m[I 2022-05-08 20:48:45,464]\u001b[0m Trial 378 finished with value: 0.22842937334875865 and parameters: {'n_estimators': 10000, 'learning_rate': 0.05, 'num_leaves': 180, 'max_depth': 12, 'min_data_in_leaf': 20, 'lambda_l1': 0, 'lambda_l2': 0, 'min_gain_to_split': 0.0, 'bagging_fraction': 0.75, 'bagging_freq': 1, 'feature_fraction': 0.95}. Best is trial 228 with value: 0.22842937334875865.\u001b[0m\n"
     ]
    },
    {
     "name": "stdout",
     "output_type": "stream",
     "text": [
      "mean_loss 0.22843\n",
      "[LightGBM] [Warning] lambda_l1 is set=0, reg_alpha=0.0 will be ignored. Current value: lambda_l1=0\n",
      "[LightGBM] [Warning] bagging_fraction is set=0.75, subsample=1.0 will be ignored. Current value: bagging_fraction=0.75\n",
      "[LightGBM] [Warning] min_gain_to_split is set=0.0, min_split_gain=0.0 will be ignored. Current value: min_gain_to_split=0.0\n",
      "[LightGBM] [Warning] lambda_l2 is set=0, reg_lambda=0.0 will be ignored. Current value: lambda_l2=0\n",
      "[LightGBM] [Warning] feature_fraction is set=0.95, colsample_bytree=1.0 will be ignored. Current value: feature_fraction=0.95\n",
      "[LightGBM] [Warning] min_data_in_leaf is set=20, min_child_samples=20 will be ignored. Current value: min_data_in_leaf=20\n",
      "[LightGBM] [Warning] bagging_freq is set=1, subsample_freq=0 will be ignored. Current value: bagging_freq=1\n"
     ]
    },
    {
     "name": "stderr",
     "output_type": "stream",
     "text": [
      "\u001b[32m[I 2022-05-08 20:48:46,425]\u001b[0m Trial 379 finished with value: 0.22842937334875865 and parameters: {'n_estimators': 10000, 'learning_rate': 0.05, 'num_leaves': 180, 'max_depth': 12, 'min_data_in_leaf': 20, 'lambda_l1': 0, 'lambda_l2': 0, 'min_gain_to_split': 0.0, 'bagging_fraction': 0.75, 'bagging_freq': 1, 'feature_fraction': 0.95}. Best is trial 228 with value: 0.22842937334875865.\u001b[0m\n",
      "\u001b[32m[I 2022-05-08 20:48:46,529]\u001b[0m Trial 380 pruned. Trial was pruned at iteration 0.\u001b[0m\n"
     ]
    },
    {
     "name": "stdout",
     "output_type": "stream",
     "text": [
      "mean_loss 0.22843\n",
      "[LightGBM] [Warning] lambda_l1 is set=0, reg_alpha=0.0 will be ignored. Current value: lambda_l1=0\n",
      "[LightGBM] [Warning] bagging_fraction is set=0.75, subsample=1.0 will be ignored. Current value: bagging_fraction=0.75\n",
      "[LightGBM] [Warning] min_gain_to_split is set=0.0, min_split_gain=0.0 will be ignored. Current value: min_gain_to_split=0.0\n",
      "[LightGBM] [Warning] lambda_l2 is set=0, reg_lambda=0.0 will be ignored. Current value: lambda_l2=0\n",
      "[LightGBM] [Warning] feature_fraction is set=0.95, colsample_bytree=1.0 will be ignored. Current value: feature_fraction=0.95\n",
      "[LightGBM] [Warning] min_data_in_leaf is set=20, min_child_samples=20 will be ignored. Current value: min_data_in_leaf=20\n",
      "[LightGBM] [Warning] bagging_freq is set=1, subsample_freq=0 will be ignored. Current value: bagging_freq=1\n"
     ]
    },
    {
     "name": "stderr",
     "output_type": "stream",
     "text": [
      "\u001b[32m[I 2022-05-08 20:48:47,505]\u001b[0m Trial 381 finished with value: 0.2292908085827551 and parameters: {'n_estimators': 10000, 'learning_rate': 0.05, 'num_leaves': 180, 'max_depth': 12, 'min_data_in_leaf': 20, 'lambda_l1': 0, 'lambda_l2': 0, 'min_gain_to_split': 0.0, 'bagging_fraction': 0.45, 'bagging_freq': 1, 'feature_fraction': 0.95}. Best is trial 228 with value: 0.22842937334875865.\u001b[0m\n"
     ]
    },
    {
     "name": "stdout",
     "output_type": "stream",
     "text": [
      "mean_loss 0.22929\n",
      "[LightGBM] [Warning] lambda_l1 is set=0, reg_alpha=0.0 will be ignored. Current value: lambda_l1=0\n",
      "[LightGBM] [Warning] bagging_fraction is set=0.75, subsample=1.0 will be ignored. Current value: bagging_fraction=0.75\n",
      "[LightGBM] [Warning] min_gain_to_split is set=0.0, min_split_gain=0.0 will be ignored. Current value: min_gain_to_split=0.0\n",
      "[LightGBM] [Warning] lambda_l2 is set=0, reg_lambda=0.0 will be ignored. Current value: lambda_l2=0\n",
      "[LightGBM] [Warning] feature_fraction is set=0.95, colsample_bytree=1.0 will be ignored. Current value: feature_fraction=0.95\n",
      "[LightGBM] [Warning] min_data_in_leaf is set=20, min_child_samples=20 will be ignored. Current value: min_data_in_leaf=20\n",
      "[LightGBM] [Warning] bagging_freq is set=1, subsample_freq=0 will be ignored. Current value: bagging_freq=1\n"
     ]
    },
    {
     "name": "stderr",
     "output_type": "stream",
     "text": [
      "\u001b[32m[I 2022-05-08 20:48:48,479]\u001b[0m Trial 382 finished with value: 0.22842937334875865 and parameters: {'n_estimators': 10000, 'learning_rate': 0.05, 'num_leaves': 180, 'max_depth': 12, 'min_data_in_leaf': 20, 'lambda_l1': 0, 'lambda_l2': 0, 'min_gain_to_split': 0.0, 'bagging_fraction': 0.75, 'bagging_freq': 1, 'feature_fraction': 0.95}. Best is trial 228 with value: 0.22842937334875865.\u001b[0m\n",
      "\u001b[32m[I 2022-05-08 20:48:48,594]\u001b[0m Trial 383 pruned. Trial was pruned at iteration 1.\u001b[0m\n"
     ]
    },
    {
     "name": "stdout",
     "output_type": "stream",
     "text": [
      "mean_loss 0.22843\n",
      "[LightGBM] [Warning] lambda_l1 is set=0, reg_alpha=0.0 will be ignored. Current value: lambda_l1=0\n",
      "[LightGBM] [Warning] bagging_fraction is set=0.75, subsample=1.0 will be ignored. Current value: bagging_fraction=0.75\n",
      "[LightGBM] [Warning] min_gain_to_split is set=0.0, min_split_gain=0.0 will be ignored. Current value: min_gain_to_split=0.0\n",
      "[LightGBM] [Warning] lambda_l2 is set=0, reg_lambda=0.0 will be ignored. Current value: lambda_l2=0\n",
      "[LightGBM] [Warning] feature_fraction is set=0.95, colsample_bytree=1.0 will be ignored. Current value: feature_fraction=0.95\n",
      "[LightGBM] [Warning] min_data_in_leaf is set=20, min_child_samples=20 will be ignored. Current value: min_data_in_leaf=20\n",
      "[LightGBM] [Warning] bagging_freq is set=1, subsample_freq=0 will be ignored. Current value: bagging_freq=1\n"
     ]
    },
    {
     "name": "stderr",
     "output_type": "stream",
     "text": [
      "\u001b[32m[I 2022-05-08 20:48:48,715]\u001b[0m Trial 384 pruned. Trial was pruned at iteration 1.\u001b[0m\n",
      "\u001b[32m[I 2022-05-08 20:48:49,796]\u001b[0m Trial 385 finished with value: 0.22842937334875865 and parameters: {'n_estimators': 10000, 'learning_rate': 0.05, 'num_leaves': 180, 'max_depth': 12, 'min_data_in_leaf': 20, 'lambda_l1': 0, 'lambda_l2': 0, 'min_gain_to_split': 0.0, 'bagging_fraction': 0.75, 'bagging_freq': 1, 'feature_fraction': 0.95}. Best is trial 228 with value: 0.22842937334875865.\u001b[0m\n"
     ]
    },
    {
     "name": "stdout",
     "output_type": "stream",
     "text": [
      "mean_loss 0.22843\n",
      "[LightGBM] [Warning] lambda_l1 is set=0, reg_alpha=0.0 will be ignored. Current value: lambda_l1=0\n",
      "[LightGBM] [Warning] bagging_fraction is set=0.75, subsample=1.0 will be ignored. Current value: bagging_fraction=0.75\n",
      "[LightGBM] [Warning] min_gain_to_split is set=0.0, min_split_gain=0.0 will be ignored. Current value: min_gain_to_split=0.0\n",
      "[LightGBM] [Warning] lambda_l2 is set=0, reg_lambda=0.0 will be ignored. Current value: lambda_l2=0\n",
      "[LightGBM] [Warning] feature_fraction is set=0.95, colsample_bytree=1.0 will be ignored. Current value: feature_fraction=0.95\n",
      "[LightGBM] [Warning] min_data_in_leaf is set=20, min_child_samples=20 will be ignored. Current value: min_data_in_leaf=20\n",
      "[LightGBM] [Warning] bagging_freq is set=1, subsample_freq=0 will be ignored. Current value: bagging_freq=1\n"
     ]
    },
    {
     "name": "stderr",
     "output_type": "stream",
     "text": [
      "\u001b[32m[I 2022-05-08 20:48:50,786]\u001b[0m Trial 386 finished with value: 0.22842937334875865 and parameters: {'n_estimators': 10000, 'learning_rate': 0.05, 'num_leaves': 180, 'max_depth': 12, 'min_data_in_leaf': 20, 'lambda_l1': 0, 'lambda_l2': 0, 'min_gain_to_split': 0.0, 'bagging_fraction': 0.75, 'bagging_freq': 1, 'feature_fraction': 0.95}. Best is trial 228 with value: 0.22842937334875865.\u001b[0m\n",
      "\u001b[32m[I 2022-05-08 20:48:50,889]\u001b[0m Trial 387 pruned. Trial was pruned at iteration 1.\u001b[0m\n"
     ]
    },
    {
     "name": "stdout",
     "output_type": "stream",
     "text": [
      "mean_loss 0.22843\n",
      "[LightGBM] [Warning] lambda_l1 is set=0, reg_alpha=0.0 will be ignored. Current value: lambda_l1=0\n",
      "[LightGBM] [Warning] bagging_fraction is set=0.75, subsample=1.0 will be ignored. Current value: bagging_fraction=0.75\n",
      "[LightGBM] [Warning] min_gain_to_split is set=0.0, min_split_gain=0.0 will be ignored. Current value: min_gain_to_split=0.0\n",
      "[LightGBM] [Warning] lambda_l2 is set=0, reg_lambda=0.0 will be ignored. Current value: lambda_l2=0\n",
      "[LightGBM] [Warning] feature_fraction is set=0.95, colsample_bytree=1.0 will be ignored. Current value: feature_fraction=0.95\n",
      "[LightGBM] [Warning] min_data_in_leaf is set=20, min_child_samples=20 will be ignored. Current value: min_data_in_leaf=20\n",
      "[LightGBM] [Warning] bagging_freq is set=1, subsample_freq=0 will be ignored. Current value: bagging_freq=1\n"
     ]
    },
    {
     "name": "stderr",
     "output_type": "stream",
     "text": [
      "\u001b[32m[I 2022-05-08 20:48:52,239]\u001b[0m Trial 388 finished with value: 0.22842937334875865 and parameters: {'n_estimators': 10000, 'learning_rate': 0.05, 'num_leaves': 180, 'max_depth': 12, 'min_data_in_leaf': 20, 'lambda_l1': 0, 'lambda_l2': 0, 'min_gain_to_split': 0.0, 'bagging_fraction': 0.75, 'bagging_freq': 1, 'feature_fraction': 0.95}. Best is trial 228 with value: 0.22842937334875865.\u001b[0m\n",
      "\u001b[32m[I 2022-05-08 20:48:52,429]\u001b[0m Trial 389 pruned. Trial was pruned at iteration 1.\u001b[0m\n"
     ]
    },
    {
     "name": "stdout",
     "output_type": "stream",
     "text": [
      "mean_loss 0.22843\n",
      "[LightGBM] [Warning] lambda_l1 is set=0, reg_alpha=0.0 will be ignored. Current value: lambda_l1=0\n",
      "[LightGBM] [Warning] bagging_fraction is set=0.75, subsample=1.0 will be ignored. Current value: bagging_fraction=0.75\n",
      "[LightGBM] [Warning] min_gain_to_split is set=0.0, min_split_gain=0.0 will be ignored. Current value: min_gain_to_split=0.0\n",
      "[LightGBM] [Warning] lambda_l2 is set=0, reg_lambda=0.0 will be ignored. Current value: lambda_l2=0\n",
      "[LightGBM] [Warning] feature_fraction is set=0.8500000000000001, colsample_bytree=1.0 will be ignored. Current value: feature_fraction=0.8500000000000001\n",
      "[LightGBM] [Warning] min_data_in_leaf is set=20, min_child_samples=20 will be ignored. Current value: min_data_in_leaf=20\n",
      "[LightGBM] [Warning] bagging_freq is set=1, subsample_freq=0 will be ignored. Current value: bagging_freq=1\n"
     ]
    },
    {
     "name": "stderr",
     "output_type": "stream",
     "text": [
      "\u001b[32m[I 2022-05-08 20:48:55,582]\u001b[0m Trial 390 finished with value: 0.2298331829055895 and parameters: {'n_estimators': 10000, 'learning_rate': 0.05, 'num_leaves': 180, 'max_depth': 12, 'min_data_in_leaf': 20, 'lambda_l1': 0, 'lambda_l2': 0, 'min_gain_to_split': 0.0, 'bagging_fraction': 0.65, 'bagging_freq': 1, 'feature_fraction': 0.95}. Best is trial 228 with value: 0.22842937334875865.\u001b[0m\n",
      "\u001b[32m[I 2022-05-08 20:48:55,685]\u001b[0m Trial 391 pruned. Trial was pruned at iteration 1.\u001b[0m\n"
     ]
    },
    {
     "name": "stdout",
     "output_type": "stream",
     "text": [
      "mean_loss 0.22983\n",
      "[LightGBM] [Warning] lambda_l1 is set=0, reg_alpha=0.0 will be ignored. Current value: lambda_l1=0\n",
      "[LightGBM] [Warning] bagging_fraction is set=0.8500000000000001, subsample=1.0 will be ignored. Current value: bagging_fraction=0.8500000000000001\n",
      "[LightGBM] [Warning] min_gain_to_split is set=0.0, min_split_gain=0.0 will be ignored. Current value: min_gain_to_split=0.0\n",
      "[LightGBM] [Warning] lambda_l2 is set=0, reg_lambda=0.0 will be ignored. Current value: lambda_l2=0\n",
      "[LightGBM] [Warning] feature_fraction is set=0.95, colsample_bytree=1.0 will be ignored. Current value: feature_fraction=0.95\n",
      "[LightGBM] [Warning] min_data_in_leaf is set=20, min_child_samples=20 will be ignored. Current value: min_data_in_leaf=20\n",
      "[LightGBM] [Warning] bagging_freq is set=1, subsample_freq=0 will be ignored. Current value: bagging_freq=1\n"
     ]
    },
    {
     "name": "stderr",
     "output_type": "stream",
     "text": [
      "\u001b[32m[I 2022-05-08 20:48:56,680]\u001b[0m Trial 392 finished with value: 0.22842937334875865 and parameters: {'n_estimators': 10000, 'learning_rate': 0.05, 'num_leaves': 180, 'max_depth': 12, 'min_data_in_leaf': 20, 'lambda_l1': 0, 'lambda_l2': 0, 'min_gain_to_split': 0.0, 'bagging_fraction': 0.75, 'bagging_freq': 1, 'feature_fraction': 0.95}. Best is trial 228 with value: 0.22842937334875865.\u001b[0m\n",
      "\u001b[32m[I 2022-05-08 20:48:56,784]\u001b[0m Trial 393 pruned. Trial was pruned at iteration 1.\u001b[0m\n"
     ]
    },
    {
     "name": "stdout",
     "output_type": "stream",
     "text": [
      "mean_loss 0.22843\n",
      "[LightGBM] [Warning] lambda_l1 is set=0, reg_alpha=0.0 will be ignored. Current value: lambda_l1=0\n",
      "[LightGBM] [Warning] bagging_fraction is set=0.75, subsample=1.0 will be ignored. Current value: bagging_fraction=0.75\n",
      "[LightGBM] [Warning] min_gain_to_split is set=0.0, min_split_gain=0.0 will be ignored. Current value: min_gain_to_split=0.0\n",
      "[LightGBM] [Warning] lambda_l2 is set=0, reg_lambda=0.0 will be ignored. Current value: lambda_l2=0\n",
      "[LightGBM] [Warning] feature_fraction is set=0.95, colsample_bytree=1.0 will be ignored. Current value: feature_fraction=0.95\n",
      "[LightGBM] [Warning] min_data_in_leaf is set=20, min_child_samples=20 will be ignored. Current value: min_data_in_leaf=20\n",
      "[LightGBM] [Warning] bagging_freq is set=1, subsample_freq=0 will be ignored. Current value: bagging_freq=1\n"
     ]
    },
    {
     "name": "stderr",
     "output_type": "stream",
     "text": [
      "\u001b[32m[I 2022-05-08 20:48:57,430]\u001b[0m Trial 394 finished with value: 0.23315055812773933 and parameters: {'n_estimators': 10000, 'learning_rate': 0.05, 'num_leaves': 180, 'max_depth': 12, 'min_data_in_leaf': 20, 'lambda_l1': 0, 'lambda_l2': 0, 'min_gain_to_split': 2.0, 'bagging_fraction': 0.75, 'bagging_freq': 1, 'feature_fraction': 0.95}. Best is trial 228 with value: 0.22842937334875865.\u001b[0m\n"
     ]
    },
    {
     "name": "stdout",
     "output_type": "stream",
     "text": [
      "mean_loss 0.23315\n",
      "[LightGBM] [Warning] lambda_l1 is set=0, reg_alpha=0.0 will be ignored. Current value: lambda_l1=0\n",
      "[LightGBM] [Warning] bagging_fraction is set=0.75, subsample=1.0 will be ignored. Current value: bagging_fraction=0.75\n",
      "[LightGBM] [Warning] min_gain_to_split is set=0.0, min_split_gain=0.0 will be ignored. Current value: min_gain_to_split=0.0\n",
      "[LightGBM] [Warning] lambda_l2 is set=0, reg_lambda=0.0 will be ignored. Current value: lambda_l2=0\n",
      "[LightGBM] [Warning] feature_fraction is set=0.95, colsample_bytree=1.0 will be ignored. Current value: feature_fraction=0.95\n",
      "[LightGBM] [Warning] min_data_in_leaf is set=20, min_child_samples=20 will be ignored. Current value: min_data_in_leaf=20\n",
      "[LightGBM] [Warning] bagging_freq is set=1, subsample_freq=0 will be ignored. Current value: bagging_freq=1\n"
     ]
    },
    {
     "name": "stderr",
     "output_type": "stream",
     "text": [
      "\u001b[32m[I 2022-05-08 20:48:58,469]\u001b[0m Trial 395 finished with value: 0.22842937334875865 and parameters: {'n_estimators': 10000, 'learning_rate': 0.05, 'num_leaves': 180, 'max_depth': 12, 'min_data_in_leaf': 20, 'lambda_l1': 0, 'lambda_l2': 0, 'min_gain_to_split': 0.0, 'bagging_fraction': 0.75, 'bagging_freq': 1, 'feature_fraction': 0.95}. Best is trial 228 with value: 0.22842937334875865.\u001b[0m\n"
     ]
    },
    {
     "name": "stdout",
     "output_type": "stream",
     "text": [
      "mean_loss 0.22843\n",
      "[LightGBM] [Warning] lambda_l1 is set=0, reg_alpha=0.0 will be ignored. Current value: lambda_l1=0\n",
      "[LightGBM] [Warning] bagging_fraction is set=0.75, subsample=1.0 will be ignored. Current value: bagging_fraction=0.75\n",
      "[LightGBM] [Warning] min_gain_to_split is set=0.0, min_split_gain=0.0 will be ignored. Current value: min_gain_to_split=0.0\n",
      "[LightGBM] [Warning] lambda_l2 is set=0, reg_lambda=0.0 will be ignored. Current value: lambda_l2=0\n",
      "[LightGBM] [Warning] feature_fraction is set=0.95, colsample_bytree=1.0 will be ignored. Current value: feature_fraction=0.95\n",
      "[LightGBM] [Warning] min_data_in_leaf is set=20, min_child_samples=20 will be ignored. Current value: min_data_in_leaf=20\n",
      "[LightGBM] [Warning] bagging_freq is set=1, subsample_freq=0 will be ignored. Current value: bagging_freq=1\n"
     ]
    },
    {
     "name": "stderr",
     "output_type": "stream",
     "text": [
      "\u001b[32m[I 2022-05-08 20:48:59,493]\u001b[0m Trial 396 finished with value: 0.22842937334875865 and parameters: {'n_estimators': 10000, 'learning_rate': 0.05, 'num_leaves': 180, 'max_depth': 12, 'min_data_in_leaf': 20, 'lambda_l1': 0, 'lambda_l2': 0, 'min_gain_to_split': 0.0, 'bagging_fraction': 0.75, 'bagging_freq': 1, 'feature_fraction': 0.95}. Best is trial 228 with value: 0.22842937334875865.\u001b[0m\n",
      "\u001b[32m[I 2022-05-08 20:48:59,596]\u001b[0m Trial 397 pruned. Trial was pruned at iteration 0.\u001b[0m\n"
     ]
    },
    {
     "name": "stdout",
     "output_type": "stream",
     "text": [
      "mean_loss 0.22843\n",
      "[LightGBM] [Warning] lambda_l1 is set=0, reg_alpha=0.0 will be ignored. Current value: lambda_l1=0\n",
      "[LightGBM] [Warning] bagging_fraction is set=0.75, subsample=1.0 will be ignored. Current value: bagging_fraction=0.75\n",
      "[LightGBM] [Warning] min_gain_to_split is set=0.0, min_split_gain=0.0 will be ignored. Current value: min_gain_to_split=0.0\n",
      "[LightGBM] [Warning] lambda_l2 is set=0, reg_lambda=0.0 will be ignored. Current value: lambda_l2=0\n",
      "[LightGBM] [Warning] feature_fraction is set=0.55, colsample_bytree=1.0 will be ignored. Current value: feature_fraction=0.55\n",
      "[LightGBM] [Warning] min_data_in_leaf is set=20, min_child_samples=20 will be ignored. Current value: min_data_in_leaf=20\n",
      "[LightGBM] [Warning] bagging_freq is set=1, subsample_freq=0 will be ignored. Current value: bagging_freq=1\n"
     ]
    },
    {
     "name": "stderr",
     "output_type": "stream",
     "text": [
      "\u001b[32m[I 2022-05-08 20:48:59,710]\u001b[0m Trial 398 pruned. Trial was pruned at iteration 1.\u001b[0m\n",
      "\u001b[32m[I 2022-05-08 20:48:59,801]\u001b[0m Trial 399 pruned. Trial was pruned at iteration 0.\u001b[0m\n",
      "\u001b[32m[I 2022-05-08 20:48:59,892]\u001b[0m Trial 400 pruned. Trial was pruned at iteration 0.\u001b[0m\n",
      "\u001b[32m[I 2022-05-08 20:49:01,008]\u001b[0m Trial 401 finished with value: 0.22842937334875865 and parameters: {'n_estimators': 10000, 'learning_rate': 0.05, 'num_leaves': 180, 'max_depth': 12, 'min_data_in_leaf': 20, 'lambda_l1': 0, 'lambda_l2': 0, 'min_gain_to_split': 0.0, 'bagging_fraction': 0.75, 'bagging_freq': 1, 'feature_fraction': 0.95}. Best is trial 228 with value: 0.22842937334875865.\u001b[0m\n",
      "\u001b[32m[I 2022-05-08 20:49:01,100]\u001b[0m Trial 402 pruned. Trial was pruned at iteration 0.\u001b[0m\n",
      "\u001b[32m[I 2022-05-08 20:49:01,200]\u001b[0m Trial 403 pruned. Trial was pruned at iteration 0.\u001b[0m\n"
     ]
    },
    {
     "name": "stdout",
     "output_type": "stream",
     "text": [
      "mean_loss 0.22843\n",
      "[LightGBM] [Warning] lambda_l1 is set=0, reg_alpha=0.0 will be ignored. Current value: lambda_l1=0\n",
      "[LightGBM] [Warning] bagging_fraction is set=0.75, subsample=1.0 will be ignored. Current value: bagging_fraction=0.75\n",
      "[LightGBM] [Warning] min_gain_to_split is set=0.0, min_split_gain=0.0 will be ignored. Current value: min_gain_to_split=0.0\n",
      "[LightGBM] [Warning] lambda_l2 is set=20, reg_lambda=0.0 will be ignored. Current value: lambda_l2=20\n",
      "[LightGBM] [Warning] feature_fraction is set=0.95, colsample_bytree=1.0 will be ignored. Current value: feature_fraction=0.95\n",
      "[LightGBM] [Warning] min_data_in_leaf is set=20, min_child_samples=20 will be ignored. Current value: min_data_in_leaf=20\n",
      "[LightGBM] [Warning] bagging_freq is set=1, subsample_freq=0 will be ignored. Current value: bagging_freq=1\n"
     ]
    },
    {
     "name": "stderr",
     "output_type": "stream",
     "text": [
      "\u001b[32m[I 2022-05-08 20:49:02,173]\u001b[0m Trial 404 finished with value: 0.22842937334875865 and parameters: {'n_estimators': 10000, 'learning_rate': 0.05, 'num_leaves': 180, 'max_depth': 12, 'min_data_in_leaf': 20, 'lambda_l1': 0, 'lambda_l2': 0, 'min_gain_to_split': 0.0, 'bagging_fraction': 0.75, 'bagging_freq': 1, 'feature_fraction': 0.95}. Best is trial 228 with value: 0.22842937334875865.\u001b[0m\n",
      "\u001b[32m[I 2022-05-08 20:49:02,280]\u001b[0m Trial 405 pruned. Trial was pruned at iteration 1.\u001b[0m\n"
     ]
    },
    {
     "name": "stdout",
     "output_type": "stream",
     "text": [
      "mean_loss 0.22843\n",
      "[LightGBM] [Warning] lambda_l1 is set=0, reg_alpha=0.0 will be ignored. Current value: lambda_l1=0\n",
      "[LightGBM] [Warning] bagging_fraction is set=0.65, subsample=1.0 will be ignored. Current value: bagging_fraction=0.65\n",
      "[LightGBM] [Warning] min_gain_to_split is set=0.0, min_split_gain=0.0 will be ignored. Current value: min_gain_to_split=0.0\n",
      "[LightGBM] [Warning] lambda_l2 is set=0, reg_lambda=0.0 will be ignored. Current value: lambda_l2=0\n",
      "[LightGBM] [Warning] feature_fraction is set=0.8500000000000001, colsample_bytree=1.0 will be ignored. Current value: feature_fraction=0.8500000000000001\n",
      "[LightGBM] [Warning] min_data_in_leaf is set=20, min_child_samples=20 will be ignored. Current value: min_data_in_leaf=20\n",
      "[LightGBM] [Warning] bagging_freq is set=1, subsample_freq=0 will be ignored. Current value: bagging_freq=1\n"
     ]
    },
    {
     "name": "stderr",
     "output_type": "stream",
     "text": [
      "\u001b[32m[I 2022-05-08 20:49:02,389]\u001b[0m Trial 406 pruned. Trial was pruned at iteration 1.\u001b[0m\n",
      "\u001b[32m[I 2022-05-08 20:49:03,417]\u001b[0m Trial 407 finished with value: 0.22842937334875865 and parameters: {'n_estimators': 10000, 'learning_rate': 0.05, 'num_leaves': 180, 'max_depth': 12, 'min_data_in_leaf': 20, 'lambda_l1': 0, 'lambda_l2': 0, 'min_gain_to_split': 0.0, 'bagging_fraction': 0.75, 'bagging_freq': 1, 'feature_fraction': 0.95}. Best is trial 228 with value: 0.22842937334875865.\u001b[0m\n",
      "\u001b[32m[I 2022-05-08 20:49:03,523]\u001b[0m Trial 408 pruned. Trial was pruned at iteration 1.\u001b[0m\n"
     ]
    },
    {
     "name": "stdout",
     "output_type": "stream",
     "text": [
      "mean_loss 0.22843\n",
      "[LightGBM] [Warning] lambda_l1 is set=0, reg_alpha=0.0 will be ignored. Current value: lambda_l1=0\n",
      "[LightGBM] [Warning] bagging_fraction is set=0.75, subsample=1.0 will be ignored. Current value: bagging_fraction=0.75\n",
      "[LightGBM] [Warning] min_gain_to_split is set=0.0, min_split_gain=0.0 will be ignored. Current value: min_gain_to_split=0.0\n",
      "[LightGBM] [Warning] lambda_l2 is set=0, reg_lambda=0.0 will be ignored. Current value: lambda_l2=0\n",
      "[LightGBM] [Warning] feature_fraction is set=0.95, colsample_bytree=1.0 will be ignored. Current value: feature_fraction=0.95\n",
      "[LightGBM] [Warning] min_data_in_leaf is set=20, min_child_samples=20 will be ignored. Current value: min_data_in_leaf=20\n",
      "[LightGBM] [Warning] bagging_freq is set=1, subsample_freq=0 will be ignored. Current value: bagging_freq=1\n"
     ]
    },
    {
     "name": "stderr",
     "output_type": "stream",
     "text": [
      "\u001b[32m[I 2022-05-08 20:49:03,624]\u001b[0m Trial 409 pruned. Trial was pruned at iteration 0.\u001b[0m\n",
      "\u001b[32m[I 2022-05-08 20:49:04,863]\u001b[0m Trial 410 finished with value: 0.22842937334875865 and parameters: {'n_estimators': 10000, 'learning_rate': 0.05, 'num_leaves': 180, 'max_depth': 12, 'min_data_in_leaf': 20, 'lambda_l1': 0, 'lambda_l2': 0, 'min_gain_to_split': 0.0, 'bagging_fraction': 0.75, 'bagging_freq': 1, 'feature_fraction': 0.95}. Best is trial 228 with value: 0.22842937334875865.\u001b[0m\n",
      "\u001b[32m[I 2022-05-08 20:49:04,960]\u001b[0m Trial 411 pruned. Trial was pruned at iteration 0.\u001b[0m\n"
     ]
    },
    {
     "name": "stdout",
     "output_type": "stream",
     "text": [
      "mean_loss 0.22843\n",
      "[LightGBM] [Warning] lambda_l1 is set=0, reg_alpha=0.0 will be ignored. Current value: lambda_l1=0\n",
      "[LightGBM] [Warning] bagging_fraction is set=0.8500000000000001, subsample=1.0 will be ignored. Current value: bagging_fraction=0.8500000000000001\n",
      "[LightGBM] [Warning] min_gain_to_split is set=0.0, min_split_gain=0.0 will be ignored. Current value: min_gain_to_split=0.0\n",
      "[LightGBM] [Warning] lambda_l2 is set=0, reg_lambda=0.0 will be ignored. Current value: lambda_l2=0\n",
      "[LightGBM] [Warning] feature_fraction is set=0.95, colsample_bytree=1.0 will be ignored. Current value: feature_fraction=0.95\n",
      "[LightGBM] [Warning] min_data_in_leaf is set=20, min_child_samples=20 will be ignored. Current value: min_data_in_leaf=20\n",
      "[LightGBM] [Warning] bagging_freq is set=1, subsample_freq=0 will be ignored. Current value: bagging_freq=1\n"
     ]
    },
    {
     "name": "stderr",
     "output_type": "stream",
     "text": [
      "\u001b[32m[I 2022-05-08 20:49:05,064]\u001b[0m Trial 412 pruned. Trial was pruned at iteration 1.\u001b[0m\n",
      "\u001b[32m[I 2022-05-08 20:49:06,081]\u001b[0m Trial 413 finished with value: 0.22842937334875865 and parameters: {'n_estimators': 10000, 'learning_rate': 0.05, 'num_leaves': 180, 'max_depth': 12, 'min_data_in_leaf': 20, 'lambda_l1': 0, 'lambda_l2': 0, 'min_gain_to_split': 0.0, 'bagging_fraction': 0.75, 'bagging_freq': 1, 'feature_fraction': 0.95}. Best is trial 228 with value: 0.22842937334875865.\u001b[0m\n"
     ]
    },
    {
     "name": "stdout",
     "output_type": "stream",
     "text": [
      "mean_loss 0.22843\n",
      "[LightGBM] [Warning] lambda_l1 is set=0, reg_alpha=0.0 will be ignored. Current value: lambda_l1=0\n",
      "[LightGBM] [Warning] bagging_fraction is set=0.75, subsample=1.0 will be ignored. Current value: bagging_fraction=0.75\n",
      "[LightGBM] [Warning] min_gain_to_split is set=0.0, min_split_gain=0.0 will be ignored. Current value: min_gain_to_split=0.0\n",
      "[LightGBM] [Warning] lambda_l2 is set=0, reg_lambda=0.0 will be ignored. Current value: lambda_l2=0\n",
      "[LightGBM] [Warning] feature_fraction is set=0.95, colsample_bytree=1.0 will be ignored. Current value: feature_fraction=0.95\n",
      "[LightGBM] [Warning] min_data_in_leaf is set=20, min_child_samples=20 will be ignored. Current value: min_data_in_leaf=20\n",
      "[LightGBM] [Warning] bagging_freq is set=1, subsample_freq=0 will be ignored. Current value: bagging_freq=1\n"
     ]
    },
    {
     "name": "stderr",
     "output_type": "stream",
     "text": [
      "\u001b[32m[I 2022-05-08 20:49:07,249]\u001b[0m Trial 414 finished with value: 0.22842937334875865 and parameters: {'n_estimators': 10000, 'learning_rate': 0.05, 'num_leaves': 180, 'max_depth': 12, 'min_data_in_leaf': 20, 'lambda_l1': 0, 'lambda_l2': 0, 'min_gain_to_split': 0.0, 'bagging_fraction': 0.75, 'bagging_freq': 1, 'feature_fraction': 0.95}. Best is trial 228 with value: 0.22842937334875865.\u001b[0m\n"
     ]
    },
    {
     "name": "stdout",
     "output_type": "stream",
     "text": [
      "mean_loss 0.22843\n",
      "[LightGBM] [Warning] lambda_l1 is set=0, reg_alpha=0.0 will be ignored. Current value: lambda_l1=0\n",
      "[LightGBM] [Warning] bagging_fraction is set=0.75, subsample=1.0 will be ignored. Current value: bagging_fraction=0.75\n",
      "[LightGBM] [Warning] min_gain_to_split is set=0.0, min_split_gain=0.0 will be ignored. Current value: min_gain_to_split=0.0\n",
      "[LightGBM] [Warning] lambda_l2 is set=0, reg_lambda=0.0 will be ignored. Current value: lambda_l2=0\n",
      "[LightGBM] [Warning] feature_fraction is set=0.95, colsample_bytree=1.0 will be ignored. Current value: feature_fraction=0.95\n",
      "[LightGBM] [Warning] min_data_in_leaf is set=20, min_child_samples=20 will be ignored. Current value: min_data_in_leaf=20\n",
      "[LightGBM] [Warning] bagging_freq is set=1, subsample_freq=0 will be ignored. Current value: bagging_freq=1\n"
     ]
    },
    {
     "name": "stderr",
     "output_type": "stream",
     "text": [
      "\u001b[32m[I 2022-05-08 20:49:08,742]\u001b[0m Trial 415 finished with value: 0.22842937334875865 and parameters: {'n_estimators': 10000, 'learning_rate': 0.05, 'num_leaves': 180, 'max_depth': 12, 'min_data_in_leaf': 20, 'lambda_l1': 0, 'lambda_l2': 0, 'min_gain_to_split': 0.0, 'bagging_fraction': 0.75, 'bagging_freq': 1, 'feature_fraction': 0.95}. Best is trial 228 with value: 0.22842937334875865.\u001b[0m\n",
      "\u001b[32m[I 2022-05-08 20:49:08,852]\u001b[0m Trial 416 pruned. Trial was pruned at iteration 0.\u001b[0m\n"
     ]
    },
    {
     "name": "stdout",
     "output_type": "stream",
     "text": [
      "mean_loss 0.22843\n",
      "[LightGBM] [Warning] lambda_l1 is set=0, reg_alpha=0.0 will be ignored. Current value: lambda_l1=0\n",
      "[LightGBM] [Warning] bagging_fraction is set=0.75, subsample=1.0 will be ignored. Current value: bagging_fraction=0.75\n",
      "[LightGBM] [Warning] min_gain_to_split is set=0.0, min_split_gain=0.0 will be ignored. Current value: min_gain_to_split=0.0\n",
      "[LightGBM] [Warning] lambda_l2 is set=0, reg_lambda=0.0 will be ignored. Current value: lambda_l2=0\n",
      "[LightGBM] [Warning] feature_fraction is set=0.95, colsample_bytree=1.0 will be ignored. Current value: feature_fraction=0.95\n",
      "[LightGBM] [Warning] min_data_in_leaf is set=20, min_child_samples=20 will be ignored. Current value: min_data_in_leaf=20\n",
      "[LightGBM] [Warning] bagging_freq is set=1, subsample_freq=0 will be ignored. Current value: bagging_freq=1\n"
     ]
    },
    {
     "name": "stderr",
     "output_type": "stream",
     "text": [
      "\u001b[32m[I 2022-05-08 20:49:09,833]\u001b[0m Trial 417 finished with value: 0.22842937334875865 and parameters: {'n_estimators': 10000, 'learning_rate': 0.05, 'num_leaves': 180, 'max_depth': 12, 'min_data_in_leaf': 20, 'lambda_l1': 0, 'lambda_l2': 0, 'min_gain_to_split': 0.0, 'bagging_fraction': 0.75, 'bagging_freq': 1, 'feature_fraction': 0.95}. Best is trial 228 with value: 0.22842937334875865.\u001b[0m\n",
      "\u001b[32m[I 2022-05-08 20:49:09,942]\u001b[0m Trial 418 pruned. Trial was pruned at iteration 0.\u001b[0m\n"
     ]
    },
    {
     "name": "stdout",
     "output_type": "stream",
     "text": [
      "mean_loss 0.22843\n",
      "[LightGBM] [Warning] lambda_l1 is set=0, reg_alpha=0.0 will be ignored. Current value: lambda_l1=0\n",
      "[LightGBM] [Warning] bagging_fraction is set=0.75, subsample=1.0 will be ignored. Current value: bagging_fraction=0.75\n",
      "[LightGBM] [Warning] min_gain_to_split is set=0.0, min_split_gain=0.0 will be ignored. Current value: min_gain_to_split=0.0\n",
      "[LightGBM] [Warning] lambda_l2 is set=60, reg_lambda=0.0 will be ignored. Current value: lambda_l2=60\n",
      "[LightGBM] [Warning] feature_fraction is set=0.95, colsample_bytree=1.0 will be ignored. Current value: feature_fraction=0.95\n",
      "[LightGBM] [Warning] min_data_in_leaf is set=20, min_child_samples=20 will be ignored. Current value: min_data_in_leaf=20\n",
      "[LightGBM] [Warning] bagging_freq is set=1, subsample_freq=0 will be ignored. Current value: bagging_freq=1\n"
     ]
    },
    {
     "name": "stderr",
     "output_type": "stream",
     "text": [
      "\u001b[32m[I 2022-05-08 20:49:10,049]\u001b[0m Trial 419 pruned. Trial was pruned at iteration 1.\u001b[0m\n",
      "\u001b[32m[I 2022-05-08 20:49:10,141]\u001b[0m Trial 420 pruned. Trial was pruned at iteration 0.\u001b[0m\n",
      "\u001b[32m[I 2022-05-08 20:49:10,250]\u001b[0m Trial 421 pruned. Trial was pruned at iteration 1.\u001b[0m\n",
      "\u001b[32m[I 2022-05-08 20:49:11,237]\u001b[0m Trial 422 finished with value: 0.22842937334875865 and parameters: {'n_estimators': 10000, 'learning_rate': 0.05, 'num_leaves': 180, 'max_depth': 12, 'min_data_in_leaf': 20, 'lambda_l1': 0, 'lambda_l2': 0, 'min_gain_to_split': 0.0, 'bagging_fraction': 0.75, 'bagging_freq': 1, 'feature_fraction': 0.95}. Best is trial 228 with value: 0.22842937334875865.\u001b[0m\n",
      "\u001b[32m[I 2022-05-08 20:49:11,337]\u001b[0m Trial 423 pruned. Trial was pruned at iteration 0.\u001b[0m\n",
      "\u001b[32m[I 2022-05-08 20:49:11,432]\u001b[0m Trial 424 pruned. Trial was pruned at iteration 0.\u001b[0m\n"
     ]
    },
    {
     "name": "stdout",
     "output_type": "stream",
     "text": [
      "mean_loss 0.22843\n",
      "[LightGBM] [Warning] lambda_l1 is set=0, reg_alpha=0.0 will be ignored. Current value: lambda_l1=0\n",
      "[LightGBM] [Warning] bagging_fraction is set=0.75, subsample=1.0 will be ignored. Current value: bagging_fraction=0.75\n",
      "[LightGBM] [Warning] min_gain_to_split is set=0.0, min_split_gain=0.0 will be ignored. Current value: min_gain_to_split=0.0\n",
      "[LightGBM] [Warning] lambda_l2 is set=0, reg_lambda=0.0 will be ignored. Current value: lambda_l2=0\n",
      "[LightGBM] [Warning] feature_fraction is set=0.75, colsample_bytree=1.0 will be ignored. Current value: feature_fraction=0.75\n",
      "[LightGBM] [Warning] min_data_in_leaf is set=20, min_child_samples=20 will be ignored. Current value: min_data_in_leaf=20\n",
      "[LightGBM] [Warning] bagging_freq is set=1, subsample_freq=0 will be ignored. Current value: bagging_freq=1\n"
     ]
    },
    {
     "name": "stderr",
     "output_type": "stream",
     "text": [
      "\u001b[32m[I 2022-05-08 20:49:11,539]\u001b[0m Trial 425 pruned. Trial was pruned at iteration 1.\u001b[0m\n",
      "\u001b[32m[I 2022-05-08 20:49:12,672]\u001b[0m Trial 426 finished with value: 0.22842937334875865 and parameters: {'n_estimators': 10000, 'learning_rate': 0.05, 'num_leaves': 180, 'max_depth': 12, 'min_data_in_leaf': 20, 'lambda_l1': 0, 'lambda_l2': 0, 'min_gain_to_split': 0.0, 'bagging_fraction': 0.75, 'bagging_freq': 1, 'feature_fraction': 0.95}. Best is trial 228 with value: 0.22842937334875865.\u001b[0m\n",
      "\u001b[32m[I 2022-05-08 20:49:12,781]\u001b[0m Trial 427 pruned. Trial was pruned at iteration 1.\u001b[0m\n"
     ]
    },
    {
     "name": "stdout",
     "output_type": "stream",
     "text": [
      "mean_loss 0.22843\n",
      "[LightGBM] [Warning] lambda_l1 is set=0, reg_alpha=0.0 will be ignored. Current value: lambda_l1=0\n",
      "[LightGBM] [Warning] bagging_fraction is set=0.75, subsample=1.0 will be ignored. Current value: bagging_fraction=0.75\n",
      "[LightGBM] [Warning] min_gain_to_split is set=0.0, min_split_gain=0.0 will be ignored. Current value: min_gain_to_split=0.0\n",
      "[LightGBM] [Warning] lambda_l2 is set=0, reg_lambda=0.0 will be ignored. Current value: lambda_l2=0\n",
      "[LightGBM] [Warning] feature_fraction is set=0.95, colsample_bytree=1.0 will be ignored. Current value: feature_fraction=0.95\n",
      "[LightGBM] [Warning] min_data_in_leaf is set=20, min_child_samples=20 will be ignored. Current value: min_data_in_leaf=20\n",
      "[LightGBM] [Warning] bagging_freq is set=1, subsample_freq=0 will be ignored. Current value: bagging_freq=1\n"
     ]
    },
    {
     "name": "stderr",
     "output_type": "stream",
     "text": [
      "\u001b[32m[I 2022-05-08 20:49:12,907]\u001b[0m Trial 428 pruned. Trial was pruned at iteration 1.\u001b[0m\n",
      "\u001b[32m[I 2022-05-08 20:49:13,004]\u001b[0m Trial 429 pruned. Trial was pruned at iteration 0.\u001b[0m\n",
      "\u001b[32m[I 2022-05-08 20:49:13,160]\u001b[0m Trial 430 pruned. Trial was pruned at iteration 1.\u001b[0m\n",
      "\u001b[32m[I 2022-05-08 20:49:13,282]\u001b[0m Trial 431 pruned. Trial was pruned at iteration 1.\u001b[0m\n",
      "\u001b[32m[I 2022-05-08 20:49:13,390]\u001b[0m Trial 432 pruned. Trial was pruned at iteration 0.\u001b[0m\n",
      "\u001b[32m[I 2022-05-08 20:49:13,535]\u001b[0m Trial 433 pruned. Trial was pruned at iteration 5.\u001b[0m\n",
      "\u001b[32m[I 2022-05-08 20:49:13,644]\u001b[0m Trial 434 pruned. Trial was pruned at iteration 1.\u001b[0m\n",
      "\u001b[32m[I 2022-05-08 20:49:14,682]\u001b[0m Trial 435 finished with value: 0.22842937334875865 and parameters: {'n_estimators': 10000, 'learning_rate': 0.05, 'num_leaves': 180, 'max_depth': 12, 'min_data_in_leaf': 20, 'lambda_l1': 0, 'lambda_l2': 0, 'min_gain_to_split': 0.0, 'bagging_fraction': 0.75, 'bagging_freq': 1, 'feature_fraction': 0.95}. Best is trial 228 with value: 0.22842937334875865.\u001b[0m\n",
      "\u001b[32m[I 2022-05-08 20:49:14,793]\u001b[0m Trial 436 pruned. Trial was pruned at iteration 1.\u001b[0m\n"
     ]
    },
    {
     "name": "stdout",
     "output_type": "stream",
     "text": [
      "mean_loss 0.22843\n",
      "[LightGBM] [Warning] lambda_l1 is set=0, reg_alpha=0.0 will be ignored. Current value: lambda_l1=0\n",
      "[LightGBM] [Warning] bagging_fraction is set=0.75, subsample=1.0 will be ignored. Current value: bagging_fraction=0.75\n",
      "[LightGBM] [Warning] min_gain_to_split is set=0.0, min_split_gain=0.0 will be ignored. Current value: min_gain_to_split=0.0\n",
      "[LightGBM] [Warning] lambda_l2 is set=0, reg_lambda=0.0 will be ignored. Current value: lambda_l2=0\n",
      "[LightGBM] [Warning] feature_fraction is set=0.95, colsample_bytree=1.0 will be ignored. Current value: feature_fraction=0.95\n",
      "[LightGBM] [Warning] min_data_in_leaf is set=20, min_child_samples=20 will be ignored. Current value: min_data_in_leaf=20\n",
      "[LightGBM] [Warning] bagging_freq is set=1, subsample_freq=0 will be ignored. Current value: bagging_freq=1\n"
     ]
    },
    {
     "name": "stderr",
     "output_type": "stream",
     "text": [
      "\u001b[32m[I 2022-05-08 20:49:14,907]\u001b[0m Trial 437 pruned. Trial was pruned at iteration 1.\u001b[0m\n",
      "\u001b[32m[I 2022-05-08 20:49:15,025]\u001b[0m Trial 438 pruned. Trial was pruned at iteration 1.\u001b[0m\n",
      "\u001b[32m[I 2022-05-08 20:49:15,133]\u001b[0m Trial 439 pruned. Trial was pruned at iteration 1.\u001b[0m\n",
      "\u001b[32m[I 2022-05-08 20:49:15,250]\u001b[0m Trial 440 pruned. Trial was pruned at iteration 2.\u001b[0m\n",
      "\u001b[32m[I 2022-05-08 20:49:16,388]\u001b[0m Trial 441 finished with value: 0.22842937334875865 and parameters: {'n_estimators': 10000, 'learning_rate': 0.05, 'num_leaves': 180, 'max_depth': 12, 'min_data_in_leaf': 20, 'lambda_l1': 0, 'lambda_l2': 0, 'min_gain_to_split': 0.0, 'bagging_fraction': 0.75, 'bagging_freq': 1, 'feature_fraction': 0.95}. Best is trial 228 with value: 0.22842937334875865.\u001b[0m\n",
      "\u001b[32m[I 2022-05-08 20:49:16,500]\u001b[0m Trial 442 pruned. Trial was pruned at iteration 1.\u001b[0m\n"
     ]
    },
    {
     "name": "stdout",
     "output_type": "stream",
     "text": [
      "mean_loss 0.22843\n",
      "[LightGBM] [Warning] lambda_l1 is set=0, reg_alpha=0.0 will be ignored. Current value: lambda_l1=0\n",
      "[LightGBM] [Warning] bagging_fraction is set=0.75, subsample=1.0 will be ignored. Current value: bagging_fraction=0.75\n",
      "[LightGBM] [Warning] min_gain_to_split is set=0.0, min_split_gain=0.0 will be ignored. Current value: min_gain_to_split=0.0\n",
      "[LightGBM] [Warning] lambda_l2 is set=0, reg_lambda=0.0 will be ignored. Current value: lambda_l2=0\n",
      "[LightGBM] [Warning] feature_fraction is set=0.95, colsample_bytree=1.0 will be ignored. Current value: feature_fraction=0.95\n",
      "[LightGBM] [Warning] min_data_in_leaf is set=20, min_child_samples=20 will be ignored. Current value: min_data_in_leaf=20\n",
      "[LightGBM] [Warning] bagging_freq is set=1, subsample_freq=0 will be ignored. Current value: bagging_freq=1\n"
     ]
    },
    {
     "name": "stderr",
     "output_type": "stream",
     "text": [
      "\u001b[32m[I 2022-05-08 20:49:16,609]\u001b[0m Trial 443 pruned. Trial was pruned at iteration 0.\u001b[0m\n",
      "\u001b[32m[I 2022-05-08 20:49:16,713]\u001b[0m Trial 444 pruned. Trial was pruned at iteration 0.\u001b[0m\n",
      "\u001b[32m[I 2022-05-08 20:49:16,835]\u001b[0m Trial 445 pruned. Trial was pruned at iteration 1.\u001b[0m\n",
      "\u001b[32m[I 2022-05-08 20:49:18,068]\u001b[0m Trial 446 finished with value: 0.22842937334875865 and parameters: {'n_estimators': 10000, 'learning_rate': 0.05, 'num_leaves': 180, 'max_depth': 12, 'min_data_in_leaf': 20, 'lambda_l1': 0, 'lambda_l2': 0, 'min_gain_to_split': 0.0, 'bagging_fraction': 0.75, 'bagging_freq': 1, 'feature_fraction': 0.95}. Best is trial 228 with value: 0.22842937334875865.\u001b[0m\n",
      "\u001b[32m[I 2022-05-08 20:49:18,184]\u001b[0m Trial 447 pruned. Trial was pruned at iteration 1.\u001b[0m\n"
     ]
    },
    {
     "name": "stdout",
     "output_type": "stream",
     "text": [
      "mean_loss 0.22843\n",
      "[LightGBM] [Warning] lambda_l1 is set=0, reg_alpha=0.0 will be ignored. Current value: lambda_l1=0\n",
      "[LightGBM] [Warning] bagging_fraction is set=0.8500000000000001, subsample=1.0 will be ignored. Current value: bagging_fraction=0.8500000000000001\n",
      "[LightGBM] [Warning] min_gain_to_split is set=0.0, min_split_gain=0.0 will be ignored. Current value: min_gain_to_split=0.0\n",
      "[LightGBM] [Warning] lambda_l2 is set=0, reg_lambda=0.0 will be ignored. Current value: lambda_l2=0\n",
      "[LightGBM] [Warning] feature_fraction is set=0.95, colsample_bytree=1.0 will be ignored. Current value: feature_fraction=0.95\n",
      "[LightGBM] [Warning] min_data_in_leaf is set=20, min_child_samples=20 will be ignored. Current value: min_data_in_leaf=20\n",
      "[LightGBM] [Warning] bagging_freq is set=1, subsample_freq=0 will be ignored. Current value: bagging_freq=1\n"
     ]
    },
    {
     "name": "stderr",
     "output_type": "stream",
     "text": [
      "\u001b[32m[I 2022-05-08 20:49:18,291]\u001b[0m Trial 448 pruned. Trial was pruned at iteration 0.\u001b[0m\n",
      "\u001b[32m[I 2022-05-08 20:49:19,318]\u001b[0m Trial 449 finished with value: 0.2298331829055895 and parameters: {'n_estimators': 10000, 'learning_rate': 0.05, 'num_leaves': 180, 'max_depth': 12, 'min_data_in_leaf': 20, 'lambda_l1': 0, 'lambda_l2': 0, 'min_gain_to_split': 0.0, 'bagging_fraction': 0.65, 'bagging_freq': 1, 'feature_fraction': 0.95}. Best is trial 228 with value: 0.22842937334875865.\u001b[0m\n",
      "\u001b[32m[I 2022-05-08 20:49:19,432]\u001b[0m Trial 450 pruned. Trial was pruned at iteration 0.\u001b[0m\n"
     ]
    },
    {
     "name": "stdout",
     "output_type": "stream",
     "text": [
      "mean_loss 0.22983\n",
      "[LightGBM] [Warning] lambda_l1 is set=0, reg_alpha=0.0 will be ignored. Current value: lambda_l1=0\n",
      "[LightGBM] [Warning] bagging_fraction is set=0.75, subsample=1.0 will be ignored. Current value: bagging_fraction=0.75\n",
      "[LightGBM] [Warning] min_gain_to_split is set=2.0, min_split_gain=0.0 will be ignored. Current value: min_gain_to_split=2.0\n",
      "[LightGBM] [Warning] lambda_l2 is set=0, reg_lambda=0.0 will be ignored. Current value: lambda_l2=0\n",
      "[LightGBM] [Warning] feature_fraction is set=0.8500000000000001, colsample_bytree=1.0 will be ignored. Current value: feature_fraction=0.8500000000000001\n",
      "[LightGBM] [Warning] min_data_in_leaf is set=20, min_child_samples=20 will be ignored. Current value: min_data_in_leaf=20\n",
      "[LightGBM] [Warning] bagging_freq is set=1, subsample_freq=0 will be ignored. Current value: bagging_freq=1\n"
     ]
    },
    {
     "name": "stderr",
     "output_type": "stream",
     "text": [
      "\u001b[32m[I 2022-05-08 20:49:19,539]\u001b[0m Trial 451 pruned. Trial was pruned at iteration 0.\u001b[0m\n",
      "\u001b[32m[I 2022-05-08 20:49:23,294]\u001b[0m Trial 452 finished with value: 0.22842937334875865 and parameters: {'n_estimators': 10000, 'learning_rate': 0.05, 'num_leaves': 180, 'max_depth': 12, 'min_data_in_leaf': 20, 'lambda_l1': 0, 'lambda_l2': 0, 'min_gain_to_split': 0.0, 'bagging_fraction': 0.75, 'bagging_freq': 1, 'feature_fraction': 0.95}. Best is trial 228 with value: 0.22842937334875865.\u001b[0m\n"
     ]
    },
    {
     "name": "stdout",
     "output_type": "stream",
     "text": [
      "mean_loss 0.22843\n",
      "[LightGBM] [Warning] lambda_l1 is set=0, reg_alpha=0.0 will be ignored. Current value: lambda_l1=0\n",
      "[LightGBM] [Warning] bagging_fraction is set=0.75, subsample=1.0 will be ignored. Current value: bagging_fraction=0.75\n",
      "[LightGBM] [Warning] min_gain_to_split is set=0.0, min_split_gain=0.0 will be ignored. Current value: min_gain_to_split=0.0\n",
      "[LightGBM] [Warning] lambda_l2 is set=0, reg_lambda=0.0 will be ignored. Current value: lambda_l2=0\n",
      "[LightGBM] [Warning] feature_fraction is set=0.95, colsample_bytree=1.0 will be ignored. Current value: feature_fraction=0.95\n",
      "[LightGBM] [Warning] min_data_in_leaf is set=20, min_child_samples=20 will be ignored. Current value: min_data_in_leaf=20\n",
      "[LightGBM] [Warning] bagging_freq is set=1, subsample_freq=0 will be ignored. Current value: bagging_freq=1\n"
     ]
    },
    {
     "name": "stderr",
     "output_type": "stream",
     "text": [
      "\u001b[32m[I 2022-05-08 20:49:24,526]\u001b[0m Trial 453 finished with value: 0.22842937334875865 and parameters: {'n_estimators': 10000, 'learning_rate': 0.05, 'num_leaves': 180, 'max_depth': 12, 'min_data_in_leaf': 20, 'lambda_l1': 0, 'lambda_l2': 0, 'min_gain_to_split': 0.0, 'bagging_fraction': 0.75, 'bagging_freq': 1, 'feature_fraction': 0.95}. Best is trial 228 with value: 0.22842937334875865.\u001b[0m\n"
     ]
    },
    {
     "name": "stdout",
     "output_type": "stream",
     "text": [
      "mean_loss 0.22843\n",
      "[LightGBM] [Warning] lambda_l1 is set=0, reg_alpha=0.0 will be ignored. Current value: lambda_l1=0\n",
      "[LightGBM] [Warning] bagging_fraction is set=0.75, subsample=1.0 will be ignored. Current value: bagging_fraction=0.75\n",
      "[LightGBM] [Warning] min_gain_to_split is set=0.0, min_split_gain=0.0 will be ignored. Current value: min_gain_to_split=0.0\n",
      "[LightGBM] [Warning] lambda_l2 is set=0, reg_lambda=0.0 will be ignored. Current value: lambda_l2=0\n",
      "[LightGBM] [Warning] feature_fraction is set=0.95, colsample_bytree=1.0 will be ignored. Current value: feature_fraction=0.95\n",
      "[LightGBM] [Warning] min_data_in_leaf is set=20, min_child_samples=20 will be ignored. Current value: min_data_in_leaf=20\n",
      "[LightGBM] [Warning] bagging_freq is set=1, subsample_freq=0 will be ignored. Current value: bagging_freq=1\n"
     ]
    },
    {
     "name": "stderr",
     "output_type": "stream",
     "text": [
      "\u001b[32m[I 2022-05-08 20:49:25,500]\u001b[0m Trial 454 finished with value: 0.22842937334875865 and parameters: {'n_estimators': 10000, 'learning_rate': 0.05, 'num_leaves': 180, 'max_depth': 12, 'min_data_in_leaf': 20, 'lambda_l1': 0, 'lambda_l2': 0, 'min_gain_to_split': 0.0, 'bagging_fraction': 0.75, 'bagging_freq': 1, 'feature_fraction': 0.95}. Best is trial 228 with value: 0.22842937334875865.\u001b[0m\n",
      "\u001b[32m[I 2022-05-08 20:49:25,603]\u001b[0m Trial 455 pruned. Trial was pruned at iteration 0.\u001b[0m\n"
     ]
    },
    {
     "name": "stdout",
     "output_type": "stream",
     "text": [
      "mean_loss 0.22843\n",
      "[LightGBM] [Warning] lambda_l1 is set=0, reg_alpha=0.0 will be ignored. Current value: lambda_l1=0\n",
      "[LightGBM] [Warning] bagging_fraction is set=0.75, subsample=1.0 will be ignored. Current value: bagging_fraction=0.75\n",
      "[LightGBM] [Warning] min_gain_to_split is set=1.0, min_split_gain=0.0 will be ignored. Current value: min_gain_to_split=1.0\n",
      "[LightGBM] [Warning] lambda_l2 is set=0, reg_lambda=0.0 will be ignored. Current value: lambda_l2=0\n",
      "[LightGBM] [Warning] feature_fraction is set=0.95, colsample_bytree=1.0 will be ignored. Current value: feature_fraction=0.95\n",
      "[LightGBM] [Warning] min_data_in_leaf is set=20, min_child_samples=20 will be ignored. Current value: min_data_in_leaf=20\n",
      "[LightGBM] [Warning] bagging_freq is set=1, subsample_freq=0 will be ignored. Current value: bagging_freq=1\n"
     ]
    },
    {
     "name": "stderr",
     "output_type": "stream",
     "text": [
      "\u001b[32m[I 2022-05-08 20:49:26,649]\u001b[0m Trial 456 finished with value: 0.22842937334875865 and parameters: {'n_estimators': 10000, 'learning_rate': 0.05, 'num_leaves': 180, 'max_depth': 12, 'min_data_in_leaf': 20, 'lambda_l1': 0, 'lambda_l2': 0, 'min_gain_to_split': 0.0, 'bagging_fraction': 0.75, 'bagging_freq': 1, 'feature_fraction': 0.95}. Best is trial 228 with value: 0.22842937334875865.\u001b[0m\n",
      "\u001b[32m[I 2022-05-08 20:49:26,760]\u001b[0m Trial 457 pruned. Trial was pruned at iteration 1.\u001b[0m\n"
     ]
    },
    {
     "name": "stdout",
     "output_type": "stream",
     "text": [
      "mean_loss 0.22843\n",
      "[LightGBM] [Warning] lambda_l1 is set=20, reg_alpha=0.0 will be ignored. Current value: lambda_l1=20\n",
      "[LightGBM] [Warning] bagging_fraction is set=0.75, subsample=1.0 will be ignored. Current value: bagging_fraction=0.75\n",
      "[LightGBM] [Warning] min_gain_to_split is set=0.0, min_split_gain=0.0 will be ignored. Current value: min_gain_to_split=0.0\n",
      "[LightGBM] [Warning] lambda_l2 is set=0, reg_lambda=0.0 will be ignored. Current value: lambda_l2=0\n",
      "[LightGBM] [Warning] feature_fraction is set=0.25, colsample_bytree=1.0 will be ignored. Current value: feature_fraction=0.25\n",
      "[LightGBM] [Warning] min_data_in_leaf is set=20, min_child_samples=20 will be ignored. Current value: min_data_in_leaf=20\n",
      "[LightGBM] [Warning] bagging_freq is set=1, subsample_freq=0 will be ignored. Current value: bagging_freq=1\n"
     ]
    },
    {
     "name": "stderr",
     "output_type": "stream",
     "text": [
      "\u001b[32m[I 2022-05-08 20:49:27,768]\u001b[0m Trial 458 finished with value: 0.2298331829055895 and parameters: {'n_estimators': 10000, 'learning_rate': 0.05, 'num_leaves': 180, 'max_depth': 12, 'min_data_in_leaf': 20, 'lambda_l1': 0, 'lambda_l2': 0, 'min_gain_to_split': 0.0, 'bagging_fraction': 0.65, 'bagging_freq': 1, 'feature_fraction': 0.95}. Best is trial 228 with value: 0.22842937334875865.\u001b[0m\n",
      "\u001b[32m[I 2022-05-08 20:49:27,870]\u001b[0m Trial 459 pruned. Trial was pruned at iteration 0.\u001b[0m\n"
     ]
    },
    {
     "name": "stdout",
     "output_type": "stream",
     "text": [
      "mean_loss 0.22983\n",
      "[LightGBM] [Warning] lambda_l1 is set=0, reg_alpha=0.0 will be ignored. Current value: lambda_l1=0\n",
      "[LightGBM] [Warning] bagging_fraction is set=0.75, subsample=1.0 will be ignored. Current value: bagging_fraction=0.75\n",
      "[LightGBM] [Warning] min_gain_to_split is set=0.0, min_split_gain=0.0 will be ignored. Current value: min_gain_to_split=0.0\n",
      "[LightGBM] [Warning] lambda_l2 is set=0, reg_lambda=0.0 will be ignored. Current value: lambda_l2=0\n",
      "[LightGBM] [Warning] feature_fraction is set=0.95, colsample_bytree=1.0 will be ignored. Current value: feature_fraction=0.95\n",
      "[LightGBM] [Warning] min_data_in_leaf is set=20, min_child_samples=20 will be ignored. Current value: min_data_in_leaf=20\n",
      "[LightGBM] [Warning] bagging_freq is set=1, subsample_freq=0 will be ignored. Current value: bagging_freq=1\n"
     ]
    },
    {
     "name": "stderr",
     "output_type": "stream",
     "text": [
      "\u001b[32m[I 2022-05-08 20:49:27,969]\u001b[0m Trial 460 pruned. Trial was pruned at iteration 0.\u001b[0m\n",
      "\u001b[32m[I 2022-05-08 20:49:28,103]\u001b[0m Trial 461 pruned. Trial was pruned at iteration 0.\u001b[0m\n",
      "\u001b[32m[I 2022-05-08 20:49:30,067]\u001b[0m Trial 462 finished with value: 0.22842937334875865 and parameters: {'n_estimators': 10000, 'learning_rate': 0.05, 'num_leaves': 180, 'max_depth': 12, 'min_data_in_leaf': 20, 'lambda_l1': 0, 'lambda_l2': 0, 'min_gain_to_split': 0.0, 'bagging_fraction': 0.75, 'bagging_freq': 1, 'feature_fraction': 0.95}. Best is trial 228 with value: 0.22842937334875865.\u001b[0m\n",
      "\u001b[32m[I 2022-05-08 20:49:30,186]\u001b[0m Trial 463 pruned. Trial was pruned at iteration 1.\u001b[0m\n"
     ]
    },
    {
     "name": "stdout",
     "output_type": "stream",
     "text": [
      "mean_loss 0.22843\n",
      "[LightGBM] [Warning] lambda_l1 is set=0, reg_alpha=0.0 will be ignored. Current value: lambda_l1=0\n",
      "[LightGBM] [Warning] bagging_fraction is set=0.8500000000000001, subsample=1.0 will be ignored. Current value: bagging_fraction=0.8500000000000001\n",
      "[LightGBM] [Warning] min_gain_to_split is set=0.0, min_split_gain=0.0 will be ignored. Current value: min_gain_to_split=0.0\n",
      "[LightGBM] [Warning] lambda_l2 is set=0, reg_lambda=0.0 will be ignored. Current value: lambda_l2=0\n",
      "[LightGBM] [Warning] feature_fraction is set=0.95, colsample_bytree=1.0 will be ignored. Current value: feature_fraction=0.95\n",
      "[LightGBM] [Warning] min_data_in_leaf is set=20, min_child_samples=20 will be ignored. Current value: min_data_in_leaf=20\n",
      "[LightGBM] [Warning] bagging_freq is set=1, subsample_freq=0 will be ignored. Current value: bagging_freq=1\n"
     ]
    },
    {
     "name": "stderr",
     "output_type": "stream",
     "text": [
      "\u001b[32m[I 2022-05-08 20:49:30,299]\u001b[0m Trial 464 pruned. Trial was pruned at iteration 1.\u001b[0m\n",
      "\u001b[32m[I 2022-05-08 20:49:30,402]\u001b[0m Trial 465 pruned. Trial was pruned at iteration 0.\u001b[0m\n",
      "\u001b[32m[I 2022-05-08 20:49:30,518]\u001b[0m Trial 466 pruned. Trial was pruned at iteration 0.\u001b[0m\n",
      "\u001b[32m[I 2022-05-08 20:49:30,625]\u001b[0m Trial 467 pruned. Trial was pruned at iteration 0.\u001b[0m\n",
      "\u001b[32m[I 2022-05-08 20:49:30,773]\u001b[0m Trial 468 pruned. Trial was pruned at iteration 0.\u001b[0m\n",
      "\u001b[32m[I 2022-05-08 20:49:30,926]\u001b[0m Trial 469 pruned. Trial was pruned at iteration 1.\u001b[0m\n",
      "\u001b[32m[I 2022-05-08 20:49:31,038]\u001b[0m Trial 470 pruned. Trial was pruned at iteration 1.\u001b[0m\n",
      "\u001b[32m[I 2022-05-08 20:49:32,097]\u001b[0m Trial 471 finished with value: 0.22842937334875865 and parameters: {'n_estimators': 10000, 'learning_rate': 0.05, 'num_leaves': 180, 'max_depth': 12, 'min_data_in_leaf': 20, 'lambda_l1': 0, 'lambda_l2': 0, 'min_gain_to_split': 0.0, 'bagging_fraction': 0.75, 'bagging_freq': 1, 'feature_fraction': 0.95}. Best is trial 228 with value: 0.22842937334875865.\u001b[0m\n",
      "\u001b[32m[I 2022-05-08 20:49:32,205]\u001b[0m Trial 472 pruned. Trial was pruned at iteration 0.\u001b[0m\n"
     ]
    },
    {
     "name": "stdout",
     "output_type": "stream",
     "text": [
      "mean_loss 0.22843\n",
      "[LightGBM] [Warning] lambda_l1 is set=0, reg_alpha=0.0 will be ignored. Current value: lambda_l1=0\n",
      "[LightGBM] [Warning] bagging_fraction is set=0.75, subsample=1.0 will be ignored. Current value: bagging_fraction=0.75\n",
      "[LightGBM] [Warning] min_gain_to_split is set=0.0, min_split_gain=0.0 will be ignored. Current value: min_gain_to_split=0.0\n",
      "[LightGBM] [Warning] lambda_l2 is set=0, reg_lambda=0.0 will be ignored. Current value: lambda_l2=0\n",
      "[LightGBM] [Warning] feature_fraction is set=0.65, colsample_bytree=1.0 will be ignored. Current value: feature_fraction=0.65\n",
      "[LightGBM] [Warning] min_data_in_leaf is set=20, min_child_samples=20 will be ignored. Current value: min_data_in_leaf=20\n",
      "[LightGBM] [Warning] bagging_freq is set=1, subsample_freq=0 will be ignored. Current value: bagging_freq=1\n"
     ]
    },
    {
     "name": "stderr",
     "output_type": "stream",
     "text": [
      "\u001b[32m[I 2022-05-08 20:49:33,186]\u001b[0m Trial 473 finished with value: 0.22842937334875865 and parameters: {'n_estimators': 10000, 'learning_rate': 0.05, 'num_leaves': 180, 'max_depth': 12, 'min_data_in_leaf': 20, 'lambda_l1': 0, 'lambda_l2': 0, 'min_gain_to_split': 0.0, 'bagging_fraction': 0.75, 'bagging_freq': 1, 'feature_fraction': 0.95}. Best is trial 228 with value: 0.22842937334875865.\u001b[0m\n",
      "\u001b[32m[I 2022-05-08 20:49:33,299]\u001b[0m Trial 474 pruned. Trial was pruned at iteration 0.\u001b[0m\n"
     ]
    },
    {
     "name": "stdout",
     "output_type": "stream",
     "text": [
      "mean_loss 0.22843\n",
      "[LightGBM] [Warning] lambda_l1 is set=0, reg_alpha=0.0 will be ignored. Current value: lambda_l1=0\n",
      "[LightGBM] [Warning] bagging_fraction is set=0.75, subsample=1.0 will be ignored. Current value: bagging_fraction=0.75\n",
      "[LightGBM] [Warning] min_gain_to_split is set=0.0, min_split_gain=0.0 will be ignored. Current value: min_gain_to_split=0.0\n",
      "[LightGBM] [Warning] lambda_l2 is set=0, reg_lambda=0.0 will be ignored. Current value: lambda_l2=0\n",
      "[LightGBM] [Warning] feature_fraction is set=0.95, colsample_bytree=1.0 will be ignored. Current value: feature_fraction=0.95\n",
      "[LightGBM] [Warning] min_data_in_leaf is set=20, min_child_samples=20 will be ignored. Current value: min_data_in_leaf=20\n",
      "[LightGBM] [Warning] bagging_freq is set=1, subsample_freq=0 will be ignored. Current value: bagging_freq=1\n"
     ]
    },
    {
     "name": "stderr",
     "output_type": "stream",
     "text": [
      "\u001b[32m[I 2022-05-08 20:49:33,415]\u001b[0m Trial 475 pruned. Trial was pruned at iteration 1.\u001b[0m\n",
      "\u001b[32m[I 2022-05-08 20:49:34,445]\u001b[0m Trial 476 finished with value: 0.22842937334875865 and parameters: {'n_estimators': 10000, 'learning_rate': 0.05, 'num_leaves': 180, 'max_depth': 12, 'min_data_in_leaf': 20, 'lambda_l1': 0, 'lambda_l2': 0, 'min_gain_to_split': 0.0, 'bagging_fraction': 0.75, 'bagging_freq': 1, 'feature_fraction': 0.95}. Best is trial 228 with value: 0.22842937334875865.\u001b[0m\n"
     ]
    },
    {
     "name": "stdout",
     "output_type": "stream",
     "text": [
      "mean_loss 0.22843\n",
      "[LightGBM] [Warning] lambda_l1 is set=0, reg_alpha=0.0 will be ignored. Current value: lambda_l1=0\n",
      "[LightGBM] [Warning] bagging_fraction is set=0.75, subsample=1.0 will be ignored. Current value: bagging_fraction=0.75\n",
      "[LightGBM] [Warning] min_gain_to_split is set=0.0, min_split_gain=0.0 will be ignored. Current value: min_gain_to_split=0.0\n",
      "[LightGBM] [Warning] lambda_l2 is set=0, reg_lambda=0.0 will be ignored. Current value: lambda_l2=0\n",
      "[LightGBM] [Warning] feature_fraction is set=0.95, colsample_bytree=1.0 will be ignored. Current value: feature_fraction=0.95\n",
      "[LightGBM] [Warning] min_data_in_leaf is set=20, min_child_samples=20 will be ignored. Current value: min_data_in_leaf=20\n",
      "[LightGBM] [Warning] bagging_freq is set=1, subsample_freq=0 will be ignored. Current value: bagging_freq=1\n"
     ]
    },
    {
     "name": "stderr",
     "output_type": "stream",
     "text": [
      "\u001b[32m[I 2022-05-08 20:49:35,460]\u001b[0m Trial 477 finished with value: 0.22842937334875865 and parameters: {'n_estimators': 10000, 'learning_rate': 0.05, 'num_leaves': 180, 'max_depth': 12, 'min_data_in_leaf': 20, 'lambda_l1': 0, 'lambda_l2': 0, 'min_gain_to_split': 0.0, 'bagging_fraction': 0.75, 'bagging_freq': 1, 'feature_fraction': 0.95}. Best is trial 228 with value: 0.22842937334875865.\u001b[0m\n"
     ]
    },
    {
     "name": "stdout",
     "output_type": "stream",
     "text": [
      "mean_loss 0.22843\n",
      "[LightGBM] [Warning] lambda_l1 is set=0, reg_alpha=0.0 will be ignored. Current value: lambda_l1=0\n",
      "[LightGBM] [Warning] bagging_fraction is set=0.75, subsample=1.0 will be ignored. Current value: bagging_fraction=0.75\n",
      "[LightGBM] [Warning] min_gain_to_split is set=0.0, min_split_gain=0.0 will be ignored. Current value: min_gain_to_split=0.0\n",
      "[LightGBM] [Warning] lambda_l2 is set=0, reg_lambda=0.0 will be ignored. Current value: lambda_l2=0\n",
      "[LightGBM] [Warning] feature_fraction is set=0.95, colsample_bytree=1.0 will be ignored. Current value: feature_fraction=0.95\n",
      "[LightGBM] [Warning] min_data_in_leaf is set=20, min_child_samples=20 will be ignored. Current value: min_data_in_leaf=20\n",
      "[LightGBM] [Warning] bagging_freq is set=1, subsample_freq=0 will be ignored. Current value: bagging_freq=1\n"
     ]
    },
    {
     "name": "stderr",
     "output_type": "stream",
     "text": [
      "\u001b[32m[I 2022-05-08 20:49:36,574]\u001b[0m Trial 478 finished with value: 0.22842937334875865 and parameters: {'n_estimators': 10000, 'learning_rate': 0.05, 'num_leaves': 180, 'max_depth': 12, 'min_data_in_leaf': 20, 'lambda_l1': 0, 'lambda_l2': 0, 'min_gain_to_split': 0.0, 'bagging_fraction': 0.75, 'bagging_freq': 1, 'feature_fraction': 0.95}. Best is trial 228 with value: 0.22842937334875865.\u001b[0m\n"
     ]
    },
    {
     "name": "stdout",
     "output_type": "stream",
     "text": [
      "mean_loss 0.22843\n",
      "[LightGBM] [Warning] lambda_l1 is set=0, reg_alpha=0.0 will be ignored. Current value: lambda_l1=0\n",
      "[LightGBM] [Warning] bagging_fraction is set=0.75, subsample=1.0 will be ignored. Current value: bagging_fraction=0.75\n",
      "[LightGBM] [Warning] min_gain_to_split is set=0.0, min_split_gain=0.0 will be ignored. Current value: min_gain_to_split=0.0\n",
      "[LightGBM] [Warning] lambda_l2 is set=0, reg_lambda=0.0 will be ignored. Current value: lambda_l2=0\n",
      "[LightGBM] [Warning] feature_fraction is set=0.95, colsample_bytree=1.0 will be ignored. Current value: feature_fraction=0.95\n",
      "[LightGBM] [Warning] min_data_in_leaf is set=20, min_child_samples=20 will be ignored. Current value: min_data_in_leaf=20\n",
      "[LightGBM] [Warning] bagging_freq is set=1, subsample_freq=0 will be ignored. Current value: bagging_freq=1\n"
     ]
    },
    {
     "name": "stderr",
     "output_type": "stream",
     "text": [
      "\u001b[32m[I 2022-05-08 20:49:37,651]\u001b[0m Trial 479 finished with value: 0.22842937334875865 and parameters: {'n_estimators': 10000, 'learning_rate': 0.05, 'num_leaves': 180, 'max_depth': 12, 'min_data_in_leaf': 20, 'lambda_l1': 0, 'lambda_l2': 0, 'min_gain_to_split': 0.0, 'bagging_fraction': 0.75, 'bagging_freq': 1, 'feature_fraction': 0.95}. Best is trial 228 with value: 0.22842937334875865.\u001b[0m\n"
     ]
    },
    {
     "name": "stdout",
     "output_type": "stream",
     "text": [
      "mean_loss 0.22843\n",
      "[LightGBM] [Warning] lambda_l1 is set=0, reg_alpha=0.0 will be ignored. Current value: lambda_l1=0\n",
      "[LightGBM] [Warning] bagging_fraction is set=0.75, subsample=1.0 will be ignored. Current value: bagging_fraction=0.75\n",
      "[LightGBM] [Warning] min_gain_to_split is set=0.0, min_split_gain=0.0 will be ignored. Current value: min_gain_to_split=0.0\n",
      "[LightGBM] [Warning] lambda_l2 is set=0, reg_lambda=0.0 will be ignored. Current value: lambda_l2=0\n",
      "[LightGBM] [Warning] feature_fraction is set=0.95, colsample_bytree=1.0 will be ignored. Current value: feature_fraction=0.95\n",
      "[LightGBM] [Warning] min_data_in_leaf is set=20, min_child_samples=20 will be ignored. Current value: min_data_in_leaf=20\n",
      "[LightGBM] [Warning] bagging_freq is set=1, subsample_freq=0 will be ignored. Current value: bagging_freq=1\n"
     ]
    },
    {
     "name": "stderr",
     "output_type": "stream",
     "text": [
      "\u001b[32m[I 2022-05-08 20:49:38,656]\u001b[0m Trial 480 finished with value: 0.22842937334875865 and parameters: {'n_estimators': 10000, 'learning_rate': 0.05, 'num_leaves': 180, 'max_depth': 12, 'min_data_in_leaf': 20, 'lambda_l1': 0, 'lambda_l2': 0, 'min_gain_to_split': 0.0, 'bagging_fraction': 0.75, 'bagging_freq': 1, 'feature_fraction': 0.95}. Best is trial 228 with value: 0.22842937334875865.\u001b[0m\n",
      "\u001b[32m[I 2022-05-08 20:49:38,759]\u001b[0m Trial 481 pruned. Trial was pruned at iteration 0.\u001b[0m\n"
     ]
    },
    {
     "name": "stdout",
     "output_type": "stream",
     "text": [
      "mean_loss 0.22843\n",
      "[LightGBM] [Warning] lambda_l1 is set=100, reg_alpha=0.0 will be ignored. Current value: lambda_l1=100\n",
      "[LightGBM] [Warning] bagging_fraction is set=0.65, subsample=1.0 will be ignored. Current value: bagging_fraction=0.65\n",
      "[LightGBM] [Warning] min_gain_to_split is set=0.0, min_split_gain=0.0 will be ignored. Current value: min_gain_to_split=0.0\n",
      "[LightGBM] [Warning] lambda_l2 is set=0, reg_lambda=0.0 will be ignored. Current value: lambda_l2=0\n",
      "[LightGBM] [Warning] feature_fraction is set=0.95, colsample_bytree=1.0 will be ignored. Current value: feature_fraction=0.95\n",
      "[LightGBM] [Warning] min_data_in_leaf is set=20, min_child_samples=20 will be ignored. Current value: min_data_in_leaf=20\n",
      "[LightGBM] [Warning] bagging_freq is set=1, subsample_freq=0 will be ignored. Current value: bagging_freq=1\n"
     ]
    },
    {
     "name": "stderr",
     "output_type": "stream",
     "text": [
      "\u001b[32m[I 2022-05-08 20:49:38,876]\u001b[0m Trial 482 pruned. Trial was pruned at iteration 1.\u001b[0m\n",
      "\u001b[32m[I 2022-05-08 20:49:39,084]\u001b[0m Trial 483 pruned. Trial was pruned at iteration 0.\u001b[0m\n",
      "\u001b[32m[I 2022-05-08 20:49:42,738]\u001b[0m Trial 484 finished with value: 0.22842937334875865 and parameters: {'n_estimators': 10000, 'learning_rate': 0.05, 'num_leaves': 180, 'max_depth': 12, 'min_data_in_leaf': 20, 'lambda_l1': 0, 'lambda_l2': 0, 'min_gain_to_split': 0.0, 'bagging_fraction': 0.75, 'bagging_freq': 1, 'feature_fraction': 0.95}. Best is trial 228 with value: 0.22842937334875865.\u001b[0m\n"
     ]
    },
    {
     "name": "stdout",
     "output_type": "stream",
     "text": [
      "mean_loss 0.22843\n",
      "[LightGBM] [Warning] lambda_l1 is set=0, reg_alpha=0.0 will be ignored. Current value: lambda_l1=0\n",
      "[LightGBM] [Warning] bagging_fraction is set=0.75, subsample=1.0 will be ignored. Current value: bagging_fraction=0.75\n",
      "[LightGBM] [Warning] min_gain_to_split is set=0.0, min_split_gain=0.0 will be ignored. Current value: min_gain_to_split=0.0\n",
      "[LightGBM] [Warning] lambda_l2 is set=0, reg_lambda=0.0 will be ignored. Current value: lambda_l2=0\n",
      "[LightGBM] [Warning] feature_fraction is set=0.95, colsample_bytree=1.0 will be ignored. Current value: feature_fraction=0.95\n",
      "[LightGBM] [Warning] min_data_in_leaf is set=20, min_child_samples=20 will be ignored. Current value: min_data_in_leaf=20\n",
      "[LightGBM] [Warning] bagging_freq is set=1, subsample_freq=0 will be ignored. Current value: bagging_freq=1\n"
     ]
    },
    {
     "name": "stderr",
     "output_type": "stream",
     "text": [
      "\u001b[32m[I 2022-05-08 20:49:43,988]\u001b[0m Trial 485 finished with value: 0.22842937334875865 and parameters: {'n_estimators': 10000, 'learning_rate': 0.05, 'num_leaves': 180, 'max_depth': 12, 'min_data_in_leaf': 20, 'lambda_l1': 0, 'lambda_l2': 0, 'min_gain_to_split': 0.0, 'bagging_fraction': 0.75, 'bagging_freq': 1, 'feature_fraction': 0.95}. Best is trial 228 with value: 0.22842937334875865.\u001b[0m\n"
     ]
    },
    {
     "name": "stdout",
     "output_type": "stream",
     "text": [
      "mean_loss 0.22843\n",
      "[LightGBM] [Warning] lambda_l1 is set=0, reg_alpha=0.0 will be ignored. Current value: lambda_l1=0\n",
      "[LightGBM] [Warning] bagging_fraction is set=0.75, subsample=1.0 will be ignored. Current value: bagging_fraction=0.75\n",
      "[LightGBM] [Warning] min_gain_to_split is set=0.0, min_split_gain=0.0 will be ignored. Current value: min_gain_to_split=0.0\n",
      "[LightGBM] [Warning] lambda_l2 is set=0, reg_lambda=0.0 will be ignored. Current value: lambda_l2=0\n",
      "[LightGBM] [Warning] feature_fraction is set=0.95, colsample_bytree=1.0 will be ignored. Current value: feature_fraction=0.95\n",
      "[LightGBM] [Warning] min_data_in_leaf is set=20, min_child_samples=20 will be ignored. Current value: min_data_in_leaf=20\n",
      "[LightGBM] [Warning] bagging_freq is set=1, subsample_freq=0 will be ignored. Current value: bagging_freq=1\n"
     ]
    },
    {
     "name": "stderr",
     "output_type": "stream",
     "text": [
      "\u001b[32m[I 2022-05-08 20:49:45,225]\u001b[0m Trial 486 finished with value: 0.22842937334875865 and parameters: {'n_estimators': 10000, 'learning_rate': 0.05, 'num_leaves': 180, 'max_depth': 12, 'min_data_in_leaf': 20, 'lambda_l1': 0, 'lambda_l2': 0, 'min_gain_to_split': 0.0, 'bagging_fraction': 0.75, 'bagging_freq': 1, 'feature_fraction': 0.95}. Best is trial 228 with value: 0.22842937334875865.\u001b[0m\n",
      "\u001b[32m[I 2022-05-08 20:49:45,340]\u001b[0m Trial 487 pruned. Trial was pruned at iteration 0.\u001b[0m\n"
     ]
    },
    {
     "name": "stdout",
     "output_type": "stream",
     "text": [
      "mean_loss 0.22843\n",
      "[LightGBM] [Warning] lambda_l1 is set=0, reg_alpha=0.0 will be ignored. Current value: lambda_l1=0\n",
      "[LightGBM] [Warning] bagging_fraction is set=0.75, subsample=1.0 will be ignored. Current value: bagging_fraction=0.75\n",
      "[LightGBM] [Warning] min_gain_to_split is set=0.0, min_split_gain=0.0 will be ignored. Current value: min_gain_to_split=0.0\n",
      "[LightGBM] [Warning] lambda_l2 is set=100, reg_lambda=0.0 will be ignored. Current value: lambda_l2=100\n",
      "[LightGBM] [Warning] feature_fraction is set=0.45, colsample_bytree=1.0 will be ignored. Current value: feature_fraction=0.45\n",
      "[LightGBM] [Warning] min_data_in_leaf is set=20, min_child_samples=20 will be ignored. Current value: min_data_in_leaf=20\n",
      "[LightGBM] [Warning] bagging_freq is set=1, subsample_freq=0 will be ignored. Current value: bagging_freq=1\n"
     ]
    },
    {
     "name": "stderr",
     "output_type": "stream",
     "text": [
      "\u001b[32m[I 2022-05-08 20:49:45,456]\u001b[0m Trial 488 pruned. Trial was pruned at iteration 0.\u001b[0m\n",
      "\u001b[32m[I 2022-05-08 20:49:45,558]\u001b[0m Trial 489 pruned. Trial was pruned at iteration 0.\u001b[0m\n",
      "\u001b[32m[I 2022-05-08 20:49:46,564]\u001b[0m Trial 490 finished with value: 0.22842937334875865 and parameters: {'n_estimators': 10000, 'learning_rate': 0.05, 'num_leaves': 180, 'max_depth': 12, 'min_data_in_leaf': 20, 'lambda_l1': 0, 'lambda_l2': 0, 'min_gain_to_split': 0.0, 'bagging_fraction': 0.75, 'bagging_freq': 1, 'feature_fraction': 0.95}. Best is trial 228 with value: 0.22842937334875865.\u001b[0m\n",
      "\u001b[32m[I 2022-05-08 20:49:46,670]\u001b[0m Trial 491 pruned. Trial was pruned at iteration 0.\u001b[0m\n"
     ]
    },
    {
     "name": "stdout",
     "output_type": "stream",
     "text": [
      "mean_loss 0.22843\n",
      "[LightGBM] [Warning] lambda_l1 is set=0, reg_alpha=0.0 will be ignored. Current value: lambda_l1=0\n",
      "[LightGBM] [Warning] bagging_fraction is set=0.75, subsample=1.0 will be ignored. Current value: bagging_fraction=0.75\n",
      "[LightGBM] [Warning] min_gain_to_split is set=0.0, min_split_gain=0.0 will be ignored. Current value: min_gain_to_split=0.0\n",
      "[LightGBM] [Warning] lambda_l2 is set=0, reg_lambda=0.0 will be ignored. Current value: lambda_l2=0\n",
      "[LightGBM] [Warning] feature_fraction is set=0.95, colsample_bytree=1.0 will be ignored. Current value: feature_fraction=0.95\n",
      "[LightGBM] [Warning] min_data_in_leaf is set=20, min_child_samples=20 will be ignored. Current value: min_data_in_leaf=20\n",
      "[LightGBM] [Warning] bagging_freq is set=1, subsample_freq=0 will be ignored. Current value: bagging_freq=1\n"
     ]
    },
    {
     "name": "stderr",
     "output_type": "stream",
     "text": [
      "\u001b[32m[I 2022-05-08 20:49:46,781]\u001b[0m Trial 492 pruned. Trial was pruned at iteration 0.\u001b[0m\n",
      "\u001b[32m[I 2022-05-08 20:49:46,900]\u001b[0m Trial 493 pruned. Trial was pruned at iteration 2.\u001b[0m\n",
      "\u001b[32m[I 2022-05-08 20:49:47,012]\u001b[0m Trial 494 pruned. Trial was pruned at iteration 1.\u001b[0m\n",
      "\u001b[32m[I 2022-05-08 20:49:47,121]\u001b[0m Trial 495 pruned. Trial was pruned at iteration 0.\u001b[0m\n",
      "\u001b[32m[I 2022-05-08 20:49:47,244]\u001b[0m Trial 496 pruned. Trial was pruned at iteration 0.\u001b[0m\n",
      "\u001b[32m[I 2022-05-08 20:49:47,383]\u001b[0m Trial 497 pruned. Trial was pruned at iteration 0.\u001b[0m\n",
      "\u001b[32m[I 2022-05-08 20:49:48,572]\u001b[0m Trial 498 finished with value: 0.2298331829055895 and parameters: {'n_estimators': 10000, 'learning_rate': 0.05, 'num_leaves': 180, 'max_depth': 12, 'min_data_in_leaf': 20, 'lambda_l1': 0, 'lambda_l2': 0, 'min_gain_to_split': 0.0, 'bagging_fraction': 0.65, 'bagging_freq': 1, 'feature_fraction': 0.95}. Best is trial 228 with value: 0.22842937334875865.\u001b[0m\n",
      "\u001b[32m[I 2022-05-08 20:49:48,689]\u001b[0m Trial 499 pruned. Trial was pruned at iteration 1.\u001b[0m\n"
     ]
    },
    {
     "name": "stdout",
     "output_type": "stream",
     "text": [
      "mean_loss 0.22983\n",
      "[LightGBM] [Warning] lambda_l1 is set=0, reg_alpha=0.0 will be ignored. Current value: lambda_l1=0\n",
      "[LightGBM] [Warning] bagging_fraction is set=0.75, subsample=1.0 will be ignored. Current value: bagging_fraction=0.75\n",
      "[LightGBM] [Warning] min_gain_to_split is set=0.0, min_split_gain=0.0 will be ignored. Current value: min_gain_to_split=0.0\n",
      "[LightGBM] [Warning] lambda_l2 is set=0, reg_lambda=0.0 will be ignored. Current value: lambda_l2=0\n",
      "[LightGBM] [Warning] feature_fraction is set=0.95, colsample_bytree=1.0 will be ignored. Current value: feature_fraction=0.95\n",
      "[LightGBM] [Warning] min_data_in_leaf is set=20, min_child_samples=20 will be ignored. Current value: min_data_in_leaf=20\n",
      "[LightGBM] [Warning] bagging_freq is set=1, subsample_freq=0 will be ignored. Current value: bagging_freq=1\n"
     ]
    },
    {
     "name": "stderr",
     "output_type": "stream",
     "text": [
      "\u001b[32m[I 2022-05-08 20:49:48,803]\u001b[0m Trial 500 pruned. Trial was pruned at iteration 1.\u001b[0m\n",
      "\u001b[32m[I 2022-05-08 20:49:48,920]\u001b[0m Trial 501 pruned. Trial was pruned at iteration 1.\u001b[0m\n",
      "\u001b[32m[I 2022-05-08 20:49:50,076]\u001b[0m Trial 502 finished with value: 0.22842937334875865 and parameters: {'n_estimators': 10000, 'learning_rate': 0.05, 'num_leaves': 180, 'max_depth': 12, 'min_data_in_leaf': 20, 'lambda_l1': 0, 'lambda_l2': 0, 'min_gain_to_split': 0.0, 'bagging_fraction': 0.75, 'bagging_freq': 1, 'feature_fraction': 0.95}. Best is trial 228 with value: 0.22842937334875865.\u001b[0m\n",
      "\u001b[32m[I 2022-05-08 20:49:50,194]\u001b[0m Trial 503 pruned. Trial was pruned at iteration 0.\u001b[0m\n"
     ]
    },
    {
     "name": "stdout",
     "output_type": "stream",
     "text": [
      "mean_loss 0.22843\n",
      "[LightGBM] [Warning] lambda_l1 is set=0, reg_alpha=0.0 will be ignored. Current value: lambda_l1=0\n",
      "[LightGBM] [Warning] bagging_fraction is set=0.75, subsample=1.0 will be ignored. Current value: bagging_fraction=0.75\n",
      "[LightGBM] [Warning] min_gain_to_split is set=0.0, min_split_gain=0.0 will be ignored. Current value: min_gain_to_split=0.0\n",
      "[LightGBM] [Warning] lambda_l2 is set=20, reg_lambda=0.0 will be ignored. Current value: lambda_l2=20\n",
      "[LightGBM] [Warning] feature_fraction is set=0.95, colsample_bytree=1.0 will be ignored. Current value: feature_fraction=0.95\n",
      "[LightGBM] [Warning] min_data_in_leaf is set=20, min_child_samples=20 will be ignored. Current value: min_data_in_leaf=20\n",
      "[LightGBM] [Warning] bagging_freq is set=1, subsample_freq=0 will be ignored. Current value: bagging_freq=1\n"
     ]
    },
    {
     "name": "stderr",
     "output_type": "stream",
     "text": [
      "\u001b[32m[I 2022-05-08 20:49:50,304]\u001b[0m Trial 504 pruned. Trial was pruned at iteration 0.\u001b[0m\n",
      "\u001b[32m[I 2022-05-08 20:49:50,438]\u001b[0m Trial 505 pruned. Trial was pruned at iteration 0.\u001b[0m\n",
      "\u001b[32m[I 2022-05-08 20:49:50,552]\u001b[0m Trial 506 pruned. Trial was pruned at iteration 1.\u001b[0m\n",
      "\u001b[32m[I 2022-05-08 20:49:51,713]\u001b[0m Trial 507 finished with value: 0.22842937334875865 and parameters: {'n_estimators': 10000, 'learning_rate': 0.05, 'num_leaves': 180, 'max_depth': 12, 'min_data_in_leaf': 20, 'lambda_l1': 0, 'lambda_l2': 0, 'min_gain_to_split': 0.0, 'bagging_fraction': 0.75, 'bagging_freq': 1, 'feature_fraction': 0.95}. Best is trial 228 with value: 0.22842937334875865.\u001b[0m\n"
     ]
    },
    {
     "name": "stdout",
     "output_type": "stream",
     "text": [
      "mean_loss 0.22843\n",
      "[LightGBM] [Warning] lambda_l1 is set=0, reg_alpha=0.0 will be ignored. Current value: lambda_l1=0\n",
      "[LightGBM] [Warning] bagging_fraction is set=0.75, subsample=1.0 will be ignored. Current value: bagging_fraction=0.75\n",
      "[LightGBM] [Warning] min_gain_to_split is set=0.0, min_split_gain=0.0 will be ignored. Current value: min_gain_to_split=0.0\n",
      "[LightGBM] [Warning] lambda_l2 is set=0, reg_lambda=0.0 will be ignored. Current value: lambda_l2=0\n",
      "[LightGBM] [Warning] feature_fraction is set=0.95, colsample_bytree=1.0 will be ignored. Current value: feature_fraction=0.95\n",
      "[LightGBM] [Warning] min_data_in_leaf is set=20, min_child_samples=20 will be ignored. Current value: min_data_in_leaf=20\n",
      "[LightGBM] [Warning] bagging_freq is set=1, subsample_freq=0 will be ignored. Current value: bagging_freq=1\n"
     ]
    },
    {
     "name": "stderr",
     "output_type": "stream",
     "text": [
      "\u001b[32m[I 2022-05-08 20:49:52,738]\u001b[0m Trial 508 finished with value: 0.22842937334875865 and parameters: {'n_estimators': 10000, 'learning_rate': 0.05, 'num_leaves': 180, 'max_depth': 12, 'min_data_in_leaf': 20, 'lambda_l1': 0, 'lambda_l2': 0, 'min_gain_to_split': 0.0, 'bagging_fraction': 0.75, 'bagging_freq': 1, 'feature_fraction': 0.95}. Best is trial 228 with value: 0.22842937334875865.\u001b[0m\n",
      "\u001b[32m[I 2022-05-08 20:49:52,854]\u001b[0m Trial 509 pruned. Trial was pruned at iteration 1.\u001b[0m\n"
     ]
    },
    {
     "name": "stdout",
     "output_type": "stream",
     "text": [
      "mean_loss 0.22843\n",
      "[LightGBM] [Warning] lambda_l1 is set=0, reg_alpha=0.0 will be ignored. Current value: lambda_l1=0\n",
      "[LightGBM] [Warning] bagging_fraction is set=0.75, subsample=1.0 will be ignored. Current value: bagging_fraction=0.75\n",
      "[LightGBM] [Warning] min_gain_to_split is set=0.0, min_split_gain=0.0 will be ignored. Current value: min_gain_to_split=0.0\n",
      "[LightGBM] [Warning] lambda_l2 is set=0, reg_lambda=0.0 will be ignored. Current value: lambda_l2=0\n",
      "[LightGBM] [Warning] feature_fraction is set=0.95, colsample_bytree=1.0 will be ignored. Current value: feature_fraction=0.95\n",
      "[LightGBM] [Warning] min_data_in_leaf is set=20, min_child_samples=20 will be ignored. Current value: min_data_in_leaf=20\n",
      "[LightGBM] [Warning] bagging_freq is set=1, subsample_freq=0 will be ignored. Current value: bagging_freq=1\n"
     ]
    },
    {
     "name": "stderr",
     "output_type": "stream",
     "text": [
      "\u001b[32m[I 2022-05-08 20:49:52,976]\u001b[0m Trial 510 pruned. Trial was pruned at iteration 0.\u001b[0m\n",
      "\u001b[32m[I 2022-05-08 20:49:53,094]\u001b[0m Trial 511 pruned. Trial was pruned at iteration 0.\u001b[0m\n",
      "\u001b[32m[I 2022-05-08 20:49:54,201]\u001b[0m Trial 512 finished with value: 0.22842937334875865 and parameters: {'n_estimators': 10000, 'learning_rate': 0.05, 'num_leaves': 180, 'max_depth': 12, 'min_data_in_leaf': 20, 'lambda_l1': 0, 'lambda_l2': 0, 'min_gain_to_split': 0.0, 'bagging_fraction': 0.75, 'bagging_freq': 1, 'feature_fraction': 0.95}. Best is trial 228 with value: 0.22842937334875865.\u001b[0m\n"
     ]
    },
    {
     "name": "stdout",
     "output_type": "stream",
     "text": [
      "mean_loss 0.22843\n",
      "[LightGBM] [Warning] lambda_l1 is set=0, reg_alpha=0.0 will be ignored. Current value: lambda_l1=0\n",
      "[LightGBM] [Warning] bagging_fraction is set=0.75, subsample=1.0 will be ignored. Current value: bagging_fraction=0.75\n",
      "[LightGBM] [Warning] min_gain_to_split is set=2.0, min_split_gain=0.0 will be ignored. Current value: min_gain_to_split=2.0\n",
      "[LightGBM] [Warning] lambda_l2 is set=0, reg_lambda=0.0 will be ignored. Current value: lambda_l2=0\n",
      "[LightGBM] [Warning] feature_fraction is set=0.95, colsample_bytree=1.0 will be ignored. Current value: feature_fraction=0.95\n",
      "[LightGBM] [Warning] min_data_in_leaf is set=20, min_child_samples=20 will be ignored. Current value: min_data_in_leaf=20\n",
      "[LightGBM] [Warning] bagging_freq is set=1, subsample_freq=0 will be ignored. Current value: bagging_freq=1\n"
     ]
    },
    {
     "name": "stderr",
     "output_type": "stream",
     "text": [
      "\u001b[32m[I 2022-05-08 20:49:55,040]\u001b[0m Trial 513 finished with value: 0.23315055812773933 and parameters: {'n_estimators': 10000, 'learning_rate': 0.05, 'num_leaves': 180, 'max_depth': 12, 'min_data_in_leaf': 20, 'lambda_l1': 0, 'lambda_l2': 0, 'min_gain_to_split': 2.0, 'bagging_fraction': 0.75, 'bagging_freq': 1, 'feature_fraction': 0.95}. Best is trial 228 with value: 0.22842937334875865.\u001b[0m\n"
     ]
    },
    {
     "name": "stdout",
     "output_type": "stream",
     "text": [
      "mean_loss 0.23315\n",
      "[LightGBM] [Warning] lambda_l1 is set=0, reg_alpha=0.0 will be ignored. Current value: lambda_l1=0\n",
      "[LightGBM] [Warning] bagging_fraction is set=0.75, subsample=1.0 will be ignored. Current value: bagging_fraction=0.75\n",
      "[LightGBM] [Warning] min_gain_to_split is set=0.0, min_split_gain=0.0 will be ignored. Current value: min_gain_to_split=0.0\n",
      "[LightGBM] [Warning] lambda_l2 is set=0, reg_lambda=0.0 will be ignored. Current value: lambda_l2=0\n",
      "[LightGBM] [Warning] feature_fraction is set=0.95, colsample_bytree=1.0 will be ignored. Current value: feature_fraction=0.95\n",
      "[LightGBM] [Warning] min_data_in_leaf is set=20, min_child_samples=20 will be ignored. Current value: min_data_in_leaf=20\n",
      "[LightGBM] [Warning] bagging_freq is set=1, subsample_freq=0 will be ignored. Current value: bagging_freq=1\n"
     ]
    },
    {
     "name": "stderr",
     "output_type": "stream",
     "text": [
      "\u001b[32m[I 2022-05-08 20:49:56,142]\u001b[0m Trial 514 finished with value: 0.22842937334875865 and parameters: {'n_estimators': 10000, 'learning_rate': 0.05, 'num_leaves': 180, 'max_depth': 12, 'min_data_in_leaf': 20, 'lambda_l1': 0, 'lambda_l2': 0, 'min_gain_to_split': 0.0, 'bagging_fraction': 0.75, 'bagging_freq': 1, 'feature_fraction': 0.95}. Best is trial 228 with value: 0.22842937334875865.\u001b[0m\n",
      "\u001b[32m[I 2022-05-08 20:49:56,252]\u001b[0m Trial 515 pruned. Trial was pruned at iteration 0.\u001b[0m\n"
     ]
    },
    {
     "name": "stdout",
     "output_type": "stream",
     "text": [
      "mean_loss 0.22843\n",
      "[LightGBM] [Warning] lambda_l1 is set=0, reg_alpha=0.0 will be ignored. Current value: lambda_l1=0\n",
      "[LightGBM] [Warning] bagging_fraction is set=0.75, subsample=1.0 will be ignored. Current value: bagging_fraction=0.75\n",
      "[LightGBM] [Warning] min_gain_to_split is set=0.0, min_split_gain=0.0 will be ignored. Current value: min_gain_to_split=0.0\n",
      "[LightGBM] [Warning] lambda_l2 is set=0, reg_lambda=0.0 will be ignored. Current value: lambda_l2=0\n",
      "[LightGBM] [Warning] feature_fraction is set=0.95, colsample_bytree=1.0 will be ignored. Current value: feature_fraction=0.95\n",
      "[LightGBM] [Warning] min_data_in_leaf is set=20, min_child_samples=20 will be ignored. Current value: min_data_in_leaf=20\n",
      "[LightGBM] [Warning] bagging_freq is set=1, subsample_freq=0 will be ignored. Current value: bagging_freq=1\n"
     ]
    },
    {
     "name": "stderr",
     "output_type": "stream",
     "text": [
      "\u001b[32m[I 2022-05-08 20:49:56,371]\u001b[0m Trial 516 pruned. Trial was pruned at iteration 1.\u001b[0m\n",
      "\u001b[32m[I 2022-05-08 20:49:56,515]\u001b[0m Trial 517 pruned. Trial was pruned at iteration 0.\u001b[0m\n",
      "\u001b[32m[I 2022-05-08 20:49:56,641]\u001b[0m Trial 518 pruned. Trial was pruned at iteration 1.\u001b[0m\n",
      "\u001b[32m[I 2022-05-08 20:49:56,751]\u001b[0m Trial 519 pruned. Trial was pruned at iteration 0.\u001b[0m\n",
      "\u001b[32m[I 2022-05-08 20:49:56,869]\u001b[0m Trial 520 pruned. Trial was pruned at iteration 0.\u001b[0m\n",
      "\u001b[32m[I 2022-05-08 20:49:56,996]\u001b[0m Trial 521 pruned. Trial was pruned at iteration 1.\u001b[0m\n",
      "\u001b[32m[I 2022-05-08 20:49:57,122]\u001b[0m Trial 522 pruned. Trial was pruned at iteration 2.\u001b[0m\n",
      "\u001b[32m[I 2022-05-08 20:49:57,229]\u001b[0m Trial 523 pruned. Trial was pruned at iteration 0.\u001b[0m\n",
      "\u001b[32m[I 2022-05-08 20:49:58,257]\u001b[0m Trial 524 finished with value: 0.22842937334875865 and parameters: {'n_estimators': 10000, 'learning_rate': 0.05, 'num_leaves': 180, 'max_depth': 12, 'min_data_in_leaf': 20, 'lambda_l1': 0, 'lambda_l2': 0, 'min_gain_to_split': 0.0, 'bagging_fraction': 0.75, 'bagging_freq': 1, 'feature_fraction': 0.95}. Best is trial 228 with value: 0.22842937334875865.\u001b[0m\n"
     ]
    },
    {
     "name": "stdout",
     "output_type": "stream",
     "text": [
      "mean_loss 0.22843\n",
      "[LightGBM] [Warning] lambda_l1 is set=0, reg_alpha=0.0 will be ignored. Current value: lambda_l1=0\n",
      "[LightGBM] [Warning] bagging_fraction is set=0.75, subsample=1.0 will be ignored. Current value: bagging_fraction=0.75\n",
      "[LightGBM] [Warning] min_gain_to_split is set=1.0, min_split_gain=0.0 will be ignored. Current value: min_gain_to_split=1.0\n",
      "[LightGBM] [Warning] lambda_l2 is set=0, reg_lambda=0.0 will be ignored. Current value: lambda_l2=0\n",
      "[LightGBM] [Warning] feature_fraction is set=0.95, colsample_bytree=1.0 will be ignored. Current value: feature_fraction=0.95\n",
      "[LightGBM] [Warning] min_data_in_leaf is set=20, min_child_samples=20 will be ignored. Current value: min_data_in_leaf=20\n",
      "[LightGBM] [Warning] bagging_freq is set=1, subsample_freq=0 will be ignored. Current value: bagging_freq=1\n"
     ]
    },
    {
     "name": "stderr",
     "output_type": "stream",
     "text": [
      "\u001b[32m[I 2022-05-08 20:49:59,104]\u001b[0m Trial 525 finished with value: 0.2309168145319522 and parameters: {'n_estimators': 10000, 'learning_rate': 0.05, 'num_leaves': 180, 'max_depth': 12, 'min_data_in_leaf': 20, 'lambda_l1': 0, 'lambda_l2': 0, 'min_gain_to_split': 1.0, 'bagging_fraction': 0.75, 'bagging_freq': 1, 'feature_fraction': 0.95}. Best is trial 228 with value: 0.22842937334875865.\u001b[0m\n",
      "\u001b[32m[I 2022-05-08 20:49:59,223]\u001b[0m Trial 526 pruned. Trial was pruned at iteration 1.\u001b[0m\n"
     ]
    },
    {
     "name": "stdout",
     "output_type": "stream",
     "text": [
      "mean_loss 0.23092\n",
      "[LightGBM] [Warning] lambda_l1 is set=0, reg_alpha=0.0 will be ignored. Current value: lambda_l1=0\n",
      "[LightGBM] [Warning] bagging_fraction is set=0.75, subsample=1.0 will be ignored. Current value: bagging_fraction=0.75\n",
      "[LightGBM] [Warning] min_gain_to_split is set=0.0, min_split_gain=0.0 will be ignored. Current value: min_gain_to_split=0.0\n",
      "[LightGBM] [Warning] lambda_l2 is set=0, reg_lambda=0.0 will be ignored. Current value: lambda_l2=0\n",
      "[LightGBM] [Warning] feature_fraction is set=0.95, colsample_bytree=1.0 will be ignored. Current value: feature_fraction=0.95\n",
      "[LightGBM] [Warning] min_data_in_leaf is set=20, min_child_samples=20 will be ignored. Current value: min_data_in_leaf=20\n",
      "[LightGBM] [Warning] bagging_freq is set=1, subsample_freq=0 will be ignored. Current value: bagging_freq=1\n"
     ]
    },
    {
     "name": "stderr",
     "output_type": "stream",
     "text": [
      "\u001b[32m[I 2022-05-08 20:49:59,347]\u001b[0m Trial 527 pruned. Trial was pruned at iteration 1.\u001b[0m\n",
      "\u001b[32m[I 2022-05-08 20:49:59,460]\u001b[0m Trial 528 pruned. Trial was pruned at iteration 0.\u001b[0m\n",
      "\u001b[32m[I 2022-05-08 20:49:59,579]\u001b[0m Trial 529 pruned. Trial was pruned at iteration 1.\u001b[0m\n",
      "\u001b[32m[I 2022-05-08 20:49:59,699]\u001b[0m Trial 530 pruned. Trial was pruned at iteration 1.\u001b[0m\n",
      "\u001b[32m[I 2022-05-08 20:49:59,816]\u001b[0m Trial 531 pruned. Trial was pruned at iteration 1.\u001b[0m\n",
      "\u001b[32m[I 2022-05-08 20:50:02,503]\u001b[0m Trial 532 finished with value: 0.22842937334875865 and parameters: {'n_estimators': 10000, 'learning_rate': 0.05, 'num_leaves': 180, 'max_depth': 12, 'min_data_in_leaf': 20, 'lambda_l1': 0, 'lambda_l2': 0, 'min_gain_to_split': 0.0, 'bagging_fraction': 0.75, 'bagging_freq': 1, 'feature_fraction': 0.95}. Best is trial 228 with value: 0.22842937334875865.\u001b[0m\n",
      "\u001b[32m[I 2022-05-08 20:50:02,656]\u001b[0m Trial 533 pruned. Trial was pruned at iteration 1.\u001b[0m\n"
     ]
    },
    {
     "name": "stdout",
     "output_type": "stream",
     "text": [
      "mean_loss 0.22843\n",
      "[LightGBM] [Warning] lambda_l1 is set=0, reg_alpha=0.0 will be ignored. Current value: lambda_l1=0\n",
      "[LightGBM] [Warning] bagging_fraction is set=0.75, subsample=1.0 will be ignored. Current value: bagging_fraction=0.75\n",
      "[LightGBM] [Warning] min_gain_to_split is set=0.0, min_split_gain=0.0 will be ignored. Current value: min_gain_to_split=0.0\n",
      "[LightGBM] [Warning] lambda_l2 is set=0, reg_lambda=0.0 will be ignored. Current value: lambda_l2=0\n",
      "[LightGBM] [Warning] feature_fraction is set=0.95, colsample_bytree=1.0 will be ignored. Current value: feature_fraction=0.95\n",
      "[LightGBM] [Warning] min_data_in_leaf is set=20, min_child_samples=20 will be ignored. Current value: min_data_in_leaf=20\n",
      "[LightGBM] [Warning] bagging_freq is set=1, subsample_freq=0 will be ignored. Current value: bagging_freq=1\n"
     ]
    },
    {
     "name": "stderr",
     "output_type": "stream",
     "text": [
      "\u001b[32m[I 2022-05-08 20:50:07,251]\u001b[0m Trial 534 finished with value: 0.22842937334875865 and parameters: {'n_estimators': 10000, 'learning_rate': 0.05, 'num_leaves': 180, 'max_depth': 12, 'min_data_in_leaf': 20, 'lambda_l1': 0, 'lambda_l2': 0, 'min_gain_to_split': 0.0, 'bagging_fraction': 0.75, 'bagging_freq': 1, 'feature_fraction': 0.95}. Best is trial 228 with value: 0.22842937334875865.\u001b[0m\n",
      "\u001b[32m[I 2022-05-08 20:50:07,364]\u001b[0m Trial 535 pruned. Trial was pruned at iteration 0.\u001b[0m\n"
     ]
    },
    {
     "name": "stdout",
     "output_type": "stream",
     "text": [
      "mean_loss 0.22843\n",
      "[LightGBM] [Warning] lambda_l1 is set=0, reg_alpha=0.0 will be ignored. Current value: lambda_l1=0\n",
      "[LightGBM] [Warning] bagging_fraction is set=0.75, subsample=1.0 will be ignored. Current value: bagging_fraction=0.75\n",
      "[LightGBM] [Warning] min_gain_to_split is set=0.0, min_split_gain=0.0 will be ignored. Current value: min_gain_to_split=0.0\n",
      "[LightGBM] [Warning] lambda_l2 is set=0, reg_lambda=0.0 will be ignored. Current value: lambda_l2=0\n",
      "[LightGBM] [Warning] feature_fraction is set=0.95, colsample_bytree=1.0 will be ignored. Current value: feature_fraction=0.95\n",
      "[LightGBM] [Warning] min_data_in_leaf is set=20, min_child_samples=20 will be ignored. Current value: min_data_in_leaf=20\n",
      "[LightGBM] [Warning] bagging_freq is set=1, subsample_freq=0 will be ignored. Current value: bagging_freq=1\n"
     ]
    },
    {
     "name": "stderr",
     "output_type": "stream",
     "text": [
      "\u001b[32m[I 2022-05-08 20:50:08,207]\u001b[0m Trial 536 finished with value: 0.23334979646548884 and parameters: {'n_estimators': 10000, 'learning_rate': 0.05, 'num_leaves': 120, 'max_depth': 12, 'min_data_in_leaf': 20, 'lambda_l1': 0, 'lambda_l2': 0, 'min_gain_to_split': 0.0, 'bagging_fraction': 0.75, 'bagging_freq': 1, 'feature_fraction': 0.95}. Best is trial 228 with value: 0.22842937334875865.\u001b[0m\n",
      "\u001b[32m[I 2022-05-08 20:50:08,347]\u001b[0m Trial 537 pruned. Trial was pruned at iteration 2.\u001b[0m\n"
     ]
    },
    {
     "name": "stdout",
     "output_type": "stream",
     "text": [
      "mean_loss 0.23335\n",
      "[LightGBM] [Warning] lambda_l1 is set=0, reg_alpha=0.0 will be ignored. Current value: lambda_l1=0\n",
      "[LightGBM] [Warning] bagging_fraction is set=0.75, subsample=1.0 will be ignored. Current value: bagging_fraction=0.75\n",
      "[LightGBM] [Warning] min_gain_to_split is set=0.0, min_split_gain=0.0 will be ignored. Current value: min_gain_to_split=0.0\n",
      "[LightGBM] [Warning] lambda_l2 is set=0, reg_lambda=0.0 will be ignored. Current value: lambda_l2=0\n",
      "[LightGBM] [Warning] feature_fraction is set=0.8500000000000001, colsample_bytree=1.0 will be ignored. Current value: feature_fraction=0.8500000000000001\n",
      "[LightGBM] [Warning] min_data_in_leaf is set=20, min_child_samples=20 will be ignored. Current value: min_data_in_leaf=20\n",
      "[LightGBM] [Warning] bagging_freq is set=1, subsample_freq=0 will be ignored. Current value: bagging_freq=1\n"
     ]
    },
    {
     "name": "stderr",
     "output_type": "stream",
     "text": [
      "\u001b[32m[I 2022-05-08 20:50:09,632]\u001b[0m Trial 538 finished with value: 0.22842937334875865 and parameters: {'n_estimators': 10000, 'learning_rate': 0.05, 'num_leaves': 180, 'max_depth': 12, 'min_data_in_leaf': 20, 'lambda_l1': 0, 'lambda_l2': 0, 'min_gain_to_split': 0.0, 'bagging_fraction': 0.75, 'bagging_freq': 1, 'feature_fraction': 0.95}. Best is trial 228 with value: 0.22842937334875865.\u001b[0m\n"
     ]
    },
    {
     "name": "stdout",
     "output_type": "stream",
     "text": [
      "mean_loss 0.22843\n",
      "[LightGBM] [Warning] lambda_l1 is set=0, reg_alpha=0.0 will be ignored. Current value: lambda_l1=0\n",
      "[LightGBM] [Warning] bagging_fraction is set=0.45, subsample=1.0 will be ignored. Current value: bagging_fraction=0.45\n",
      "[LightGBM] [Warning] min_gain_to_split is set=0.0, min_split_gain=0.0 will be ignored. Current value: min_gain_to_split=0.0\n",
      "[LightGBM] [Warning] lambda_l2 is set=0, reg_lambda=0.0 will be ignored. Current value: lambda_l2=0\n",
      "[LightGBM] [Warning] feature_fraction is set=0.95, colsample_bytree=1.0 will be ignored. Current value: feature_fraction=0.95\n",
      "[LightGBM] [Warning] min_data_in_leaf is set=20, min_child_samples=20 will be ignored. Current value: min_data_in_leaf=20\n",
      "[LightGBM] [Warning] bagging_freq is set=1, subsample_freq=0 will be ignored. Current value: bagging_freq=1\n"
     ]
    },
    {
     "name": "stderr",
     "output_type": "stream",
     "text": [
      "\u001b[32m[I 2022-05-08 20:50:11,246]\u001b[0m Trial 539 finished with value: 0.2292908085827551 and parameters: {'n_estimators': 10000, 'learning_rate': 0.05, 'num_leaves': 180, 'max_depth': 12, 'min_data_in_leaf': 20, 'lambda_l1': 0, 'lambda_l2': 0, 'min_gain_to_split': 0.0, 'bagging_fraction': 0.45, 'bagging_freq': 1, 'feature_fraction': 0.95}. Best is trial 228 with value: 0.22842937334875865.\u001b[0m\n",
      "\u001b[32m[I 2022-05-08 20:50:11,354]\u001b[0m Trial 540 pruned. Trial was pruned at iteration 0.\u001b[0m\n"
     ]
    },
    {
     "name": "stdout",
     "output_type": "stream",
     "text": [
      "mean_loss 0.22929\n",
      "[LightGBM] [Warning] lambda_l1 is set=0, reg_alpha=0.0 will be ignored. Current value: lambda_l1=0\n",
      "[LightGBM] [Warning] bagging_fraction is set=0.8500000000000001, subsample=1.0 will be ignored. Current value: bagging_fraction=0.8500000000000001\n",
      "[LightGBM] [Warning] min_gain_to_split is set=0.0, min_split_gain=0.0 will be ignored. Current value: min_gain_to_split=0.0\n",
      "[LightGBM] [Warning] lambda_l2 is set=20, reg_lambda=0.0 will be ignored. Current value: lambda_l2=20\n",
      "[LightGBM] [Warning] feature_fraction is set=0.95, colsample_bytree=1.0 will be ignored. Current value: feature_fraction=0.95\n",
      "[LightGBM] [Warning] min_data_in_leaf is set=20, min_child_samples=20 will be ignored. Current value: min_data_in_leaf=20\n",
      "[LightGBM] [Warning] bagging_freq is set=1, subsample_freq=0 will be ignored. Current value: bagging_freq=1\n"
     ]
    },
    {
     "name": "stderr",
     "output_type": "stream",
     "text": [
      "\u001b[32m[I 2022-05-08 20:50:12,883]\u001b[0m Trial 541 finished with value: 0.23134629491929154 and parameters: {'n_estimators': 10000, 'learning_rate': 0.05, 'num_leaves': 180, 'max_depth': 11, 'min_data_in_leaf': 20, 'lambda_l1': 0, 'lambda_l2': 0, 'min_gain_to_split': 0.0, 'bagging_fraction': 0.65, 'bagging_freq': 1, 'feature_fraction': 0.95}. Best is trial 228 with value: 0.22842937334875865.\u001b[0m\n",
      "\u001b[32m[I 2022-05-08 20:50:13,004]\u001b[0m Trial 542 pruned. Trial was pruned at iteration 1.\u001b[0m\n"
     ]
    },
    {
     "name": "stdout",
     "output_type": "stream",
     "text": [
      "mean_loss 0.23135\n",
      "[LightGBM] [Warning] lambda_l1 is set=0, reg_alpha=0.0 will be ignored. Current value: lambda_l1=0\n",
      "[LightGBM] [Warning] bagging_fraction is set=0.75, subsample=1.0 will be ignored. Current value: bagging_fraction=0.75\n",
      "[LightGBM] [Warning] min_gain_to_split is set=0.0, min_split_gain=0.0 will be ignored. Current value: min_gain_to_split=0.0\n",
      "[LightGBM] [Warning] lambda_l2 is set=0, reg_lambda=0.0 will be ignored. Current value: lambda_l2=0\n",
      "[LightGBM] [Warning] feature_fraction is set=0.95, colsample_bytree=1.0 will be ignored. Current value: feature_fraction=0.95\n",
      "[LightGBM] [Warning] min_data_in_leaf is set=20, min_child_samples=20 will be ignored. Current value: min_data_in_leaf=20\n",
      "[LightGBM] [Warning] bagging_freq is set=1, subsample_freq=0 will be ignored. Current value: bagging_freq=1\n"
     ]
    },
    {
     "name": "stderr",
     "output_type": "stream",
     "text": [
      "\u001b[32m[I 2022-05-08 20:50:13,115]\u001b[0m Trial 543 pruned. Trial was pruned at iteration 0.\u001b[0m\n",
      "\u001b[32m[I 2022-05-08 20:50:13,245]\u001b[0m Trial 544 pruned. Trial was pruned at iteration 1.\u001b[0m\n",
      "\u001b[32m[I 2022-05-08 20:50:13,445]\u001b[0m Trial 545 pruned. Trial was pruned at iteration 1.\u001b[0m\n",
      "\u001b[32m[I 2022-05-08 20:50:13,600]\u001b[0m Trial 546 pruned. Trial was pruned at iteration 0.\u001b[0m\n",
      "\u001b[32m[I 2022-05-08 20:50:14,772]\u001b[0m Trial 547 finished with value: 0.22842937334875865 and parameters: {'n_estimators': 10000, 'learning_rate': 0.05, 'num_leaves': 180, 'max_depth': 12, 'min_data_in_leaf': 20, 'lambda_l1': 0, 'lambda_l2': 0, 'min_gain_to_split': 0.0, 'bagging_fraction': 0.75, 'bagging_freq': 1, 'feature_fraction': 0.95}. Best is trial 228 with value: 0.22842937334875865.\u001b[0m\n"
     ]
    },
    {
     "name": "stdout",
     "output_type": "stream",
     "text": [
      "mean_loss 0.22843\n",
      "[LightGBM] [Warning] lambda_l1 is set=0, reg_alpha=0.0 will be ignored. Current value: lambda_l1=0\n",
      "[LightGBM] [Warning] bagging_fraction is set=0.75, subsample=1.0 will be ignored. Current value: bagging_fraction=0.75\n",
      "[LightGBM] [Warning] min_gain_to_split is set=0.0, min_split_gain=0.0 will be ignored. Current value: min_gain_to_split=0.0\n",
      "[LightGBM] [Warning] lambda_l2 is set=0, reg_lambda=0.0 will be ignored. Current value: lambda_l2=0\n",
      "[LightGBM] [Warning] feature_fraction is set=0.95, colsample_bytree=1.0 will be ignored. Current value: feature_fraction=0.95\n",
      "[LightGBM] [Warning] min_data_in_leaf is set=20, min_child_samples=20 will be ignored. Current value: min_data_in_leaf=20\n",
      "[LightGBM] [Warning] bagging_freq is set=1, subsample_freq=0 will be ignored. Current value: bagging_freq=1\n"
     ]
    },
    {
     "name": "stderr",
     "output_type": "stream",
     "text": [
      "\u001b[32m[I 2022-05-08 20:50:15,798]\u001b[0m Trial 548 finished with value: 0.22842937334875865 and parameters: {'n_estimators': 10000, 'learning_rate': 0.05, 'num_leaves': 180, 'max_depth': 12, 'min_data_in_leaf': 20, 'lambda_l1': 0, 'lambda_l2': 0, 'min_gain_to_split': 0.0, 'bagging_fraction': 0.75, 'bagging_freq': 1, 'feature_fraction': 0.95}. Best is trial 228 with value: 0.22842937334875865.\u001b[0m\n",
      "\u001b[32m[I 2022-05-08 20:50:15,910]\u001b[0m Trial 549 pruned. Trial was pruned at iteration 0.\u001b[0m\n"
     ]
    },
    {
     "name": "stdout",
     "output_type": "stream",
     "text": [
      "mean_loss 0.22843\n",
      "[LightGBM] [Warning] lambda_l1 is set=0, reg_alpha=0.0 will be ignored. Current value: lambda_l1=0\n",
      "[LightGBM] [Warning] bagging_fraction is set=0.75, subsample=1.0 will be ignored. Current value: bagging_fraction=0.75\n",
      "[LightGBM] [Warning] min_gain_to_split is set=0.0, min_split_gain=0.0 will be ignored. Current value: min_gain_to_split=0.0\n",
      "[LightGBM] [Warning] lambda_l2 is set=0, reg_lambda=0.0 will be ignored. Current value: lambda_l2=0\n",
      "[LightGBM] [Warning] feature_fraction is set=0.95, colsample_bytree=1.0 will be ignored. Current value: feature_fraction=0.95\n",
      "[LightGBM] [Warning] min_data_in_leaf is set=20, min_child_samples=20 will be ignored. Current value: min_data_in_leaf=20\n",
      "[LightGBM] [Warning] bagging_freq is set=1, subsample_freq=0 will be ignored. Current value: bagging_freq=1\n"
     ]
    },
    {
     "name": "stderr",
     "output_type": "stream",
     "text": [
      "\u001b[32m[I 2022-05-08 20:50:16,033]\u001b[0m Trial 550 pruned. Trial was pruned at iteration 1.\u001b[0m\n",
      "\u001b[32m[I 2022-05-08 20:50:16,147]\u001b[0m Trial 551 pruned. Trial was pruned at iteration 0.\u001b[0m\n",
      "\u001b[32m[I 2022-05-08 20:50:17,261]\u001b[0m Trial 552 finished with value: 0.22842937334875865 and parameters: {'n_estimators': 10000, 'learning_rate': 0.05, 'num_leaves': 180, 'max_depth': 12, 'min_data_in_leaf': 20, 'lambda_l1': 0, 'lambda_l2': 0, 'min_gain_to_split': 0.0, 'bagging_fraction': 0.75, 'bagging_freq': 1, 'feature_fraction': 0.95}. Best is trial 228 with value: 0.22842937334875865.\u001b[0m\n",
      "\u001b[32m[I 2022-05-08 20:50:17,380]\u001b[0m Trial 553 pruned. Trial was pruned at iteration 0.\u001b[0m\n"
     ]
    },
    {
     "name": "stdout",
     "output_type": "stream",
     "text": [
      "mean_loss 0.22843\n",
      "[LightGBM] [Warning] lambda_l1 is set=0, reg_alpha=0.0 will be ignored. Current value: lambda_l1=0\n",
      "[LightGBM] [Warning] bagging_fraction is set=0.75, subsample=1.0 will be ignored. Current value: bagging_fraction=0.75\n",
      "[LightGBM] [Warning] min_gain_to_split is set=0.0, min_split_gain=0.0 will be ignored. Current value: min_gain_to_split=0.0\n",
      "[LightGBM] [Warning] lambda_l2 is set=0, reg_lambda=0.0 will be ignored. Current value: lambda_l2=0\n",
      "[LightGBM] [Warning] feature_fraction is set=0.95, colsample_bytree=1.0 will be ignored. Current value: feature_fraction=0.95\n",
      "[LightGBM] [Warning] min_data_in_leaf is set=20, min_child_samples=20 will be ignored. Current value: min_data_in_leaf=20\n",
      "[LightGBM] [Warning] bagging_freq is set=1, subsample_freq=0 will be ignored. Current value: bagging_freq=1\n"
     ]
    },
    {
     "name": "stderr",
     "output_type": "stream",
     "text": [
      "\u001b[32m[I 2022-05-08 20:50:17,529]\u001b[0m Trial 554 pruned. Trial was pruned at iteration 0.\u001b[0m\n",
      "\u001b[32m[I 2022-05-08 20:50:17,647]\u001b[0m Trial 555 pruned. Trial was pruned at iteration 0.\u001b[0m\n",
      "\u001b[32m[I 2022-05-08 20:50:18,713]\u001b[0m Trial 556 finished with value: 0.22842937334875865 and parameters: {'n_estimators': 10000, 'learning_rate': 0.05, 'num_leaves': 180, 'max_depth': 12, 'min_data_in_leaf': 20, 'lambda_l1': 0, 'lambda_l2': 0, 'min_gain_to_split': 0.0, 'bagging_fraction': 0.75, 'bagging_freq': 1, 'feature_fraction': 0.95}. Best is trial 228 with value: 0.22842937334875865.\u001b[0m\n",
      "\u001b[32m[I 2022-05-08 20:50:18,836]\u001b[0m Trial 557 pruned. Trial was pruned at iteration 1.\u001b[0m\n"
     ]
    },
    {
     "name": "stdout",
     "output_type": "stream",
     "text": [
      "mean_loss 0.22843\n",
      "[LightGBM] [Warning] lambda_l1 is set=0, reg_alpha=0.0 will be ignored. Current value: lambda_l1=0\n",
      "[LightGBM] [Warning] bagging_fraction is set=0.75, subsample=1.0 will be ignored. Current value: bagging_fraction=0.75\n",
      "[LightGBM] [Warning] min_gain_to_split is set=0.0, min_split_gain=0.0 will be ignored. Current value: min_gain_to_split=0.0\n",
      "[LightGBM] [Warning] lambda_l2 is set=0, reg_lambda=0.0 will be ignored. Current value: lambda_l2=0\n",
      "[LightGBM] [Warning] feature_fraction is set=0.8500000000000001, colsample_bytree=1.0 will be ignored. Current value: feature_fraction=0.8500000000000001\n",
      "[LightGBM] [Warning] min_data_in_leaf is set=20, min_child_samples=20 will be ignored. Current value: min_data_in_leaf=20\n",
      "[LightGBM] [Warning] bagging_freq is set=1, subsample_freq=0 will be ignored. Current value: bagging_freq=1\n"
     ]
    },
    {
     "name": "stderr",
     "output_type": "stream",
     "text": [
      "\u001b[32m[I 2022-05-08 20:50:19,999]\u001b[0m Trial 558 finished with value: 0.2298331829055895 and parameters: {'n_estimators': 10000, 'learning_rate': 0.05, 'num_leaves': 180, 'max_depth': 12, 'min_data_in_leaf': 20, 'lambda_l1': 0, 'lambda_l2': 0, 'min_gain_to_split': 0.0, 'bagging_fraction': 0.65, 'bagging_freq': 1, 'feature_fraction': 0.95}. Best is trial 228 with value: 0.22842937334875865.\u001b[0m\n"
     ]
    },
    {
     "name": "stdout",
     "output_type": "stream",
     "text": [
      "mean_loss 0.22983\n",
      "[LightGBM] [Warning] lambda_l1 is set=0, reg_alpha=0.0 will be ignored. Current value: lambda_l1=0\n",
      "[LightGBM] [Warning] bagging_fraction is set=0.75, subsample=1.0 will be ignored. Current value: bagging_fraction=0.75\n",
      "[LightGBM] [Warning] min_gain_to_split is set=0.0, min_split_gain=0.0 will be ignored. Current value: min_gain_to_split=0.0\n",
      "[LightGBM] [Warning] lambda_l2 is set=0, reg_lambda=0.0 will be ignored. Current value: lambda_l2=0\n",
      "[LightGBM] [Warning] feature_fraction is set=0.95, colsample_bytree=1.0 will be ignored. Current value: feature_fraction=0.95\n",
      "[LightGBM] [Warning] min_data_in_leaf is set=20, min_child_samples=20 will be ignored. Current value: min_data_in_leaf=20\n",
      "[LightGBM] [Warning] bagging_freq is set=1, subsample_freq=0 will be ignored. Current value: bagging_freq=1\n"
     ]
    },
    {
     "name": "stderr",
     "output_type": "stream",
     "text": [
      "\u001b[32m[I 2022-05-08 20:50:21,087]\u001b[0m Trial 559 finished with value: 0.22842937334875865 and parameters: {'n_estimators': 10000, 'learning_rate': 0.05, 'num_leaves': 180, 'max_depth': 12, 'min_data_in_leaf': 20, 'lambda_l1': 0, 'lambda_l2': 0, 'min_gain_to_split': 0.0, 'bagging_fraction': 0.75, 'bagging_freq': 1, 'feature_fraction': 0.95}. Best is trial 228 with value: 0.22842937334875865.\u001b[0m\n",
      "\u001b[32m[I 2022-05-08 20:50:21,202]\u001b[0m Trial 560 pruned. Trial was pruned at iteration 0.\u001b[0m\n"
     ]
    },
    {
     "name": "stdout",
     "output_type": "stream",
     "text": [
      "mean_loss 0.22843\n",
      "[LightGBM] [Warning] lambda_l1 is set=20, reg_alpha=0.0 will be ignored. Current value: lambda_l1=20\n",
      "[LightGBM] [Warning] bagging_fraction is set=0.75, subsample=1.0 will be ignored. Current value: bagging_fraction=0.75\n",
      "[LightGBM] [Warning] min_gain_to_split is set=0.0, min_split_gain=0.0 will be ignored. Current value: min_gain_to_split=0.0\n",
      "[LightGBM] [Warning] lambda_l2 is set=40, reg_lambda=0.0 will be ignored. Current value: lambda_l2=40\n",
      "[LightGBM] [Warning] feature_fraction is set=0.95, colsample_bytree=1.0 will be ignored. Current value: feature_fraction=0.95\n",
      "[LightGBM] [Warning] min_data_in_leaf is set=20, min_child_samples=20 will be ignored. Current value: min_data_in_leaf=20\n",
      "[LightGBM] [Warning] bagging_freq is set=1, subsample_freq=0 will be ignored. Current value: bagging_freq=1\n"
     ]
    },
    {
     "name": "stderr",
     "output_type": "stream",
     "text": [
      "\u001b[32m[I 2022-05-08 20:50:22,346]\u001b[0m Trial 561 finished with value: 0.22842937334875865 and parameters: {'n_estimators': 10000, 'learning_rate': 0.05, 'num_leaves': 180, 'max_depth': 12, 'min_data_in_leaf': 20, 'lambda_l1': 0, 'lambda_l2': 0, 'min_gain_to_split': 0.0, 'bagging_fraction': 0.75, 'bagging_freq': 1, 'feature_fraction': 0.95}. Best is trial 228 with value: 0.22842937334875865.\u001b[0m\n",
      "\u001b[32m[I 2022-05-08 20:50:22,493]\u001b[0m Trial 562 pruned. Trial was pruned at iteration 1.\u001b[0m\n"
     ]
    },
    {
     "name": "stdout",
     "output_type": "stream",
     "text": [
      "mean_loss 0.22843\n",
      "[LightGBM] [Warning] lambda_l1 is set=0, reg_alpha=0.0 will be ignored. Current value: lambda_l1=0\n",
      "[LightGBM] [Warning] bagging_fraction is set=0.75, subsample=1.0 will be ignored. Current value: bagging_fraction=0.75\n",
      "[LightGBM] [Warning] min_gain_to_split is set=0.0, min_split_gain=0.0 will be ignored. Current value: min_gain_to_split=0.0\n",
      "[LightGBM] [Warning] lambda_l2 is set=0, reg_lambda=0.0 will be ignored. Current value: lambda_l2=0\n",
      "[LightGBM] [Warning] feature_fraction is set=0.95, colsample_bytree=1.0 will be ignored. Current value: feature_fraction=0.95\n",
      "[LightGBM] [Warning] min_data_in_leaf is set=20, min_child_samples=20 will be ignored. Current value: min_data_in_leaf=20\n",
      "[LightGBM] [Warning] bagging_freq is set=1, subsample_freq=0 will be ignored. Current value: bagging_freq=1\n"
     ]
    },
    {
     "name": "stderr",
     "output_type": "stream",
     "text": [
      "\u001b[32m[I 2022-05-08 20:50:22,617]\u001b[0m Trial 563 pruned. Trial was pruned at iteration 1.\u001b[0m\n",
      "\u001b[32m[I 2022-05-08 20:50:22,742]\u001b[0m Trial 564 pruned. Trial was pruned at iteration 1.\u001b[0m\n",
      "\u001b[32m[I 2022-05-08 20:50:23,782]\u001b[0m Trial 565 finished with value: 0.2298331829055895 and parameters: {'n_estimators': 10000, 'learning_rate': 0.05, 'num_leaves': 180, 'max_depth': 12, 'min_data_in_leaf': 20, 'lambda_l1': 0, 'lambda_l2': 0, 'min_gain_to_split': 0.0, 'bagging_fraction': 0.65, 'bagging_freq': 1, 'feature_fraction': 0.95}. Best is trial 228 with value: 0.22842937334875865.\u001b[0m\n"
     ]
    },
    {
     "name": "stdout",
     "output_type": "stream",
     "text": [
      "mean_loss 0.22983\n",
      "[LightGBM] [Warning] lambda_l1 is set=0, reg_alpha=0.0 will be ignored. Current value: lambda_l1=0\n",
      "[LightGBM] [Warning] bagging_fraction is set=0.75, subsample=1.0 will be ignored. Current value: bagging_fraction=0.75\n",
      "[LightGBM] [Warning] min_gain_to_split is set=2.0, min_split_gain=0.0 will be ignored. Current value: min_gain_to_split=2.0\n",
      "[LightGBM] [Warning] lambda_l2 is set=0, reg_lambda=0.0 will be ignored. Current value: lambda_l2=0\n",
      "[LightGBM] [Warning] feature_fraction is set=0.95, colsample_bytree=1.0 will be ignored. Current value: feature_fraction=0.95\n",
      "[LightGBM] [Warning] min_data_in_leaf is set=20, min_child_samples=20 will be ignored. Current value: min_data_in_leaf=20\n",
      "[LightGBM] [Warning] bagging_freq is set=1, subsample_freq=0 will be ignored. Current value: bagging_freq=1\n"
     ]
    },
    {
     "name": "stderr",
     "output_type": "stream",
     "text": [
      "\u001b[32m[I 2022-05-08 20:50:24,794]\u001b[0m Trial 566 finished with value: 0.23315055812773933 and parameters: {'n_estimators': 10000, 'learning_rate': 0.05, 'num_leaves': 180, 'max_depth': 12, 'min_data_in_leaf': 20, 'lambda_l1': 0, 'lambda_l2': 0, 'min_gain_to_split': 2.0, 'bagging_fraction': 0.75, 'bagging_freq': 1, 'feature_fraction': 0.95}. Best is trial 228 with value: 0.22842937334875865.\u001b[0m\n"
     ]
    },
    {
     "name": "stdout",
     "output_type": "stream",
     "text": [
      "mean_loss 0.23315\n",
      "[LightGBM] [Warning] lambda_l1 is set=0, reg_alpha=0.0 will be ignored. Current value: lambda_l1=0\n",
      "[LightGBM] [Warning] bagging_fraction is set=0.75, subsample=1.0 will be ignored. Current value: bagging_fraction=0.75\n",
      "[LightGBM] [Warning] min_gain_to_split is set=0.0, min_split_gain=0.0 will be ignored. Current value: min_gain_to_split=0.0\n",
      "[LightGBM] [Warning] lambda_l2 is set=0, reg_lambda=0.0 will be ignored. Current value: lambda_l2=0\n",
      "[LightGBM] [Warning] feature_fraction is set=0.95, colsample_bytree=1.0 will be ignored. Current value: feature_fraction=0.95\n",
      "[LightGBM] [Warning] min_data_in_leaf is set=20, min_child_samples=20 will be ignored. Current value: min_data_in_leaf=20\n",
      "[LightGBM] [Warning] bagging_freq is set=1, subsample_freq=0 will be ignored. Current value: bagging_freq=1\n"
     ]
    },
    {
     "name": "stderr",
     "output_type": "stream",
     "text": [
      "\u001b[32m[I 2022-05-08 20:50:26,086]\u001b[0m Trial 567 finished with value: 0.22842937334875865 and parameters: {'n_estimators': 10000, 'learning_rate': 0.05, 'num_leaves': 180, 'max_depth': 12, 'min_data_in_leaf': 20, 'lambda_l1': 0, 'lambda_l2': 0, 'min_gain_to_split': 0.0, 'bagging_fraction': 0.75, 'bagging_freq': 1, 'feature_fraction': 0.95}. Best is trial 228 with value: 0.22842937334875865.\u001b[0m\n",
      "\u001b[32m[I 2022-05-08 20:50:26,268]\u001b[0m Trial 568 pruned. Trial was pruned at iteration 1.\u001b[0m\n"
     ]
    },
    {
     "name": "stdout",
     "output_type": "stream",
     "text": [
      "mean_loss 0.22843\n",
      "[LightGBM] [Warning] lambda_l1 is set=0, reg_alpha=0.0 will be ignored. Current value: lambda_l1=0\n",
      "[LightGBM] [Warning] bagging_fraction is set=0.8500000000000001, subsample=1.0 will be ignored. Current value: bagging_fraction=0.8500000000000001\n",
      "[LightGBM] [Warning] min_gain_to_split is set=0.0, min_split_gain=0.0 will be ignored. Current value: min_gain_to_split=0.0\n",
      "[LightGBM] [Warning] lambda_l2 is set=0, reg_lambda=0.0 will be ignored. Current value: lambda_l2=0\n",
      "[LightGBM] [Warning] feature_fraction is set=0.95, colsample_bytree=1.0 will be ignored. Current value: feature_fraction=0.95\n",
      "[LightGBM] [Warning] min_data_in_leaf is set=20, min_child_samples=20 will be ignored. Current value: min_data_in_leaf=20\n",
      "[LightGBM] [Warning] bagging_freq is set=1, subsample_freq=0 will be ignored. Current value: bagging_freq=1\n"
     ]
    },
    {
     "name": "stderr",
     "output_type": "stream",
     "text": [
      "\u001b[32m[I 2022-05-08 20:50:26,416]\u001b[0m Trial 569 pruned. Trial was pruned at iteration 0.\u001b[0m\n",
      "\u001b[32m[I 2022-05-08 20:50:26,549]\u001b[0m Trial 570 pruned. Trial was pruned at iteration 2.\u001b[0m\n",
      "\u001b[32m[I 2022-05-08 20:50:26,659]\u001b[0m Trial 571 pruned. Trial was pruned at iteration 0.\u001b[0m\n",
      "\u001b[32m[I 2022-05-08 20:50:26,786]\u001b[0m Trial 572 pruned. Trial was pruned at iteration 1.\u001b[0m\n",
      "\u001b[32m[I 2022-05-08 20:50:26,908]\u001b[0m Trial 573 pruned. Trial was pruned at iteration 1.\u001b[0m\n",
      "\u001b[32m[I 2022-05-08 20:50:27,933]\u001b[0m Trial 574 finished with value: 0.22842937334875865 and parameters: {'n_estimators': 10000, 'learning_rate': 0.05, 'num_leaves': 180, 'max_depth': 12, 'min_data_in_leaf': 20, 'lambda_l1': 0, 'lambda_l2': 0, 'min_gain_to_split': 0.0, 'bagging_fraction': 0.75, 'bagging_freq': 1, 'feature_fraction': 0.95}. Best is trial 228 with value: 0.22842937334875865.\u001b[0m\n",
      "\u001b[32m[I 2022-05-08 20:50:28,059]\u001b[0m Trial 575 pruned. Trial was pruned at iteration 1.\u001b[0m\n"
     ]
    },
    {
     "name": "stdout",
     "output_type": "stream",
     "text": [
      "mean_loss 0.22843\n",
      "[LightGBM] [Warning] lambda_l1 is set=0, reg_alpha=0.0 will be ignored. Current value: lambda_l1=0\n",
      "[LightGBM] [Warning] bagging_fraction is set=0.75, subsample=1.0 will be ignored. Current value: bagging_fraction=0.75\n",
      "[LightGBM] [Warning] min_gain_to_split is set=0.0, min_split_gain=0.0 will be ignored. Current value: min_gain_to_split=0.0\n",
      "[LightGBM] [Warning] lambda_l2 is set=0, reg_lambda=0.0 will be ignored. Current value: lambda_l2=0\n",
      "[LightGBM] [Warning] feature_fraction is set=0.95, colsample_bytree=1.0 will be ignored. Current value: feature_fraction=0.95\n",
      "[LightGBM] [Warning] min_data_in_leaf is set=20, min_child_samples=20 will be ignored. Current value: min_data_in_leaf=20\n",
      "[LightGBM] [Warning] bagging_freq is set=1, subsample_freq=0 will be ignored. Current value: bagging_freq=1\n"
     ]
    },
    {
     "name": "stderr",
     "output_type": "stream",
     "text": [
      "\u001b[32m[I 2022-05-08 20:50:29,679]\u001b[0m Trial 576 finished with value: 0.22842937334875865 and parameters: {'n_estimators': 10000, 'learning_rate': 0.05, 'num_leaves': 180, 'max_depth': 12, 'min_data_in_leaf': 20, 'lambda_l1': 0, 'lambda_l2': 0, 'min_gain_to_split': 0.0, 'bagging_fraction': 0.75, 'bagging_freq': 1, 'feature_fraction': 0.95}. Best is trial 228 with value: 0.22842937334875865.\u001b[0m\n",
      "\u001b[32m[I 2022-05-08 20:50:29,796]\u001b[0m Trial 577 pruned. Trial was pruned at iteration 0.\u001b[0m\n"
     ]
    },
    {
     "name": "stdout",
     "output_type": "stream",
     "text": [
      "mean_loss 0.22843\n",
      "[LightGBM] [Warning] lambda_l1 is set=0, reg_alpha=0.0 will be ignored. Current value: lambda_l1=0\n",
      "[LightGBM] [Warning] bagging_fraction is set=0.75, subsample=1.0 will be ignored. Current value: bagging_fraction=0.75\n",
      "[LightGBM] [Warning] min_gain_to_split is set=0.0, min_split_gain=0.0 will be ignored. Current value: min_gain_to_split=0.0\n",
      "[LightGBM] [Warning] lambda_l2 is set=20, reg_lambda=0.0 will be ignored. Current value: lambda_l2=20\n",
      "[LightGBM] [Warning] feature_fraction is set=0.95, colsample_bytree=1.0 will be ignored. Current value: feature_fraction=0.95\n",
      "[LightGBM] [Warning] min_data_in_leaf is set=20, min_child_samples=20 will be ignored. Current value: min_data_in_leaf=20\n",
      "[LightGBM] [Warning] bagging_freq is set=1, subsample_freq=0 will be ignored. Current value: bagging_freq=1\n"
     ]
    },
    {
     "name": "stderr",
     "output_type": "stream",
     "text": [
      "\u001b[32m[I 2022-05-08 20:50:29,952]\u001b[0m Trial 578 pruned. Trial was pruned at iteration 0.\u001b[0m\n",
      "\u001b[32m[I 2022-05-08 20:50:31,819]\u001b[0m Trial 579 finished with value: 0.22842937334875865 and parameters: {'n_estimators': 10000, 'learning_rate': 0.05, 'num_leaves': 180, 'max_depth': 12, 'min_data_in_leaf': 20, 'lambda_l1': 0, 'lambda_l2': 0, 'min_gain_to_split': 0.0, 'bagging_fraction': 0.75, 'bagging_freq': 1, 'feature_fraction': 0.95}. Best is trial 228 with value: 0.22842937334875865.\u001b[0m\n",
      "\u001b[32m[I 2022-05-08 20:50:31,937]\u001b[0m Trial 580 pruned. Trial was pruned at iteration 0.\u001b[0m\n"
     ]
    },
    {
     "name": "stdout",
     "output_type": "stream",
     "text": [
      "mean_loss 0.22843\n",
      "[LightGBM] [Warning] lambda_l1 is set=0, reg_alpha=0.0 will be ignored. Current value: lambda_l1=0\n",
      "[LightGBM] [Warning] bagging_fraction is set=0.75, subsample=1.0 will be ignored. Current value: bagging_fraction=0.75\n",
      "[LightGBM] [Warning] min_gain_to_split is set=0.0, min_split_gain=0.0 will be ignored. Current value: min_gain_to_split=0.0\n",
      "[LightGBM] [Warning] lambda_l2 is set=0, reg_lambda=0.0 will be ignored. Current value: lambda_l2=0\n",
      "[LightGBM] [Warning] feature_fraction is set=0.75, colsample_bytree=1.0 will be ignored. Current value: feature_fraction=0.75\n",
      "[LightGBM] [Warning] min_data_in_leaf is set=20, min_child_samples=20 will be ignored. Current value: min_data_in_leaf=20\n",
      "[LightGBM] [Warning] bagging_freq is set=1, subsample_freq=0 will be ignored. Current value: bagging_freq=1\n"
     ]
    },
    {
     "name": "stderr",
     "output_type": "stream",
     "text": [
      "\u001b[32m[I 2022-05-08 20:50:33,619]\u001b[0m Trial 581 finished with value: 0.22842937334875865 and parameters: {'n_estimators': 10000, 'learning_rate': 0.05, 'num_leaves': 180, 'max_depth': 12, 'min_data_in_leaf': 20, 'lambda_l1': 0, 'lambda_l2': 0, 'min_gain_to_split': 0.0, 'bagging_fraction': 0.75, 'bagging_freq': 1, 'feature_fraction': 0.95}. Best is trial 228 with value: 0.22842937334875865.\u001b[0m\n",
      "\u001b[32m[I 2022-05-08 20:50:33,758]\u001b[0m Trial 582 pruned. Trial was pruned at iteration 1.\u001b[0m\n"
     ]
    },
    {
     "name": "stdout",
     "output_type": "stream",
     "text": [
      "mean_loss 0.22843\n",
      "[LightGBM] [Warning] lambda_l1 is set=0, reg_alpha=0.0 will be ignored. Current value: lambda_l1=0\n",
      "[LightGBM] [Warning] bagging_fraction is set=0.75, subsample=1.0 will be ignored. Current value: bagging_fraction=0.75\n",
      "[LightGBM] [Warning] min_gain_to_split is set=0.0, min_split_gain=0.0 will be ignored. Current value: min_gain_to_split=0.0\n",
      "[LightGBM] [Warning] lambda_l2 is set=0, reg_lambda=0.0 will be ignored. Current value: lambda_l2=0\n",
      "[LightGBM] [Warning] feature_fraction is set=0.25, colsample_bytree=1.0 will be ignored. Current value: feature_fraction=0.25\n",
      "[LightGBM] [Warning] min_data_in_leaf is set=20, min_child_samples=20 will be ignored. Current value: min_data_in_leaf=20\n",
      "[LightGBM] [Warning] bagging_freq is set=1, subsample_freq=0 will be ignored. Current value: bagging_freq=1\n"
     ]
    },
    {
     "name": "stderr",
     "output_type": "stream",
     "text": [
      "\u001b[32m[I 2022-05-08 20:50:33,874]\u001b[0m Trial 583 pruned. Trial was pruned at iteration 0.\u001b[0m\n",
      "\u001b[32m[I 2022-05-08 20:50:34,001]\u001b[0m Trial 584 pruned. Trial was pruned at iteration 1.\u001b[0m\n",
      "\u001b[32m[I 2022-05-08 20:50:34,131]\u001b[0m Trial 585 pruned. Trial was pruned at iteration 1.\u001b[0m\n",
      "\u001b[32m[I 2022-05-08 20:50:34,249]\u001b[0m Trial 586 pruned. Trial was pruned at iteration 0.\u001b[0m\n",
      "\u001b[32m[I 2022-05-08 20:50:35,469]\u001b[0m Trial 587 finished with value: 0.22842937334875865 and parameters: {'n_estimators': 10000, 'learning_rate': 0.05, 'num_leaves': 180, 'max_depth': 12, 'min_data_in_leaf': 20, 'lambda_l1': 0, 'lambda_l2': 0, 'min_gain_to_split': 0.0, 'bagging_fraction': 0.75, 'bagging_freq': 1, 'feature_fraction': 0.95}. Best is trial 228 with value: 0.22842937334875865.\u001b[0m\n"
     ]
    },
    {
     "name": "stdout",
     "output_type": "stream",
     "text": [
      "mean_loss 0.22843\n",
      "[LightGBM] [Warning] lambda_l1 is set=0, reg_alpha=0.0 will be ignored. Current value: lambda_l1=0\n",
      "[LightGBM] [Warning] bagging_fraction is set=0.75, subsample=1.0 will be ignored. Current value: bagging_fraction=0.75\n",
      "[LightGBM] [Warning] min_gain_to_split is set=0.0, min_split_gain=0.0 will be ignored. Current value: min_gain_to_split=0.0\n",
      "[LightGBM] [Warning] lambda_l2 is set=0, reg_lambda=0.0 will be ignored. Current value: lambda_l2=0\n",
      "[LightGBM] [Warning] feature_fraction is set=0.95, colsample_bytree=1.0 will be ignored. Current value: feature_fraction=0.95\n",
      "[LightGBM] [Warning] min_data_in_leaf is set=20, min_child_samples=20 will be ignored. Current value: min_data_in_leaf=20\n",
      "[LightGBM] [Warning] bagging_freq is set=1, subsample_freq=0 will be ignored. Current value: bagging_freq=1\n"
     ]
    },
    {
     "name": "stderr",
     "output_type": "stream",
     "text": [
      "\u001b[32m[I 2022-05-08 20:50:36,561]\u001b[0m Trial 588 finished with value: 0.22842937334875865 and parameters: {'n_estimators': 10000, 'learning_rate': 0.05, 'num_leaves': 180, 'max_depth': 12, 'min_data_in_leaf': 20, 'lambda_l1': 0, 'lambda_l2': 0, 'min_gain_to_split': 0.0, 'bagging_fraction': 0.75, 'bagging_freq': 1, 'feature_fraction': 0.95}. Best is trial 228 with value: 0.22842937334875865.\u001b[0m\n",
      "\u001b[32m[I 2022-05-08 20:50:36,680]\u001b[0m Trial 589 pruned. Trial was pruned at iteration 0.\u001b[0m\n"
     ]
    },
    {
     "name": "stdout",
     "output_type": "stream",
     "text": [
      "mean_loss 0.22843\n",
      "[LightGBM] [Warning] lambda_l1 is set=0, reg_alpha=0.0 will be ignored. Current value: lambda_l1=0\n",
      "[LightGBM] [Warning] bagging_fraction is set=0.75, subsample=1.0 will be ignored. Current value: bagging_fraction=0.75\n",
      "[LightGBM] [Warning] min_gain_to_split is set=0.0, min_split_gain=0.0 will be ignored. Current value: min_gain_to_split=0.0\n",
      "[LightGBM] [Warning] lambda_l2 is set=0, reg_lambda=0.0 will be ignored. Current value: lambda_l2=0\n",
      "[LightGBM] [Warning] feature_fraction is set=0.95, colsample_bytree=1.0 will be ignored. Current value: feature_fraction=0.95\n",
      "[LightGBM] [Warning] min_data_in_leaf is set=20, min_child_samples=20 will be ignored. Current value: min_data_in_leaf=20\n",
      "[LightGBM] [Warning] bagging_freq is set=1, subsample_freq=0 will be ignored. Current value: bagging_freq=1\n"
     ]
    },
    {
     "name": "stderr",
     "output_type": "stream",
     "text": [
      "\u001b[32m[I 2022-05-08 20:50:37,755]\u001b[0m Trial 590 finished with value: 0.22842937334875865 and parameters: {'n_estimators': 10000, 'learning_rate': 0.05, 'num_leaves': 180, 'max_depth': 12, 'min_data_in_leaf': 20, 'lambda_l1': 0, 'lambda_l2': 0, 'min_gain_to_split': 0.0, 'bagging_fraction': 0.75, 'bagging_freq': 1, 'feature_fraction': 0.95}. Best is trial 228 with value: 0.22842937334875865.\u001b[0m\n"
     ]
    },
    {
     "name": "stdout",
     "output_type": "stream",
     "text": [
      "mean_loss 0.22843\n",
      "[LightGBM] [Warning] lambda_l1 is set=0, reg_alpha=0.0 will be ignored. Current value: lambda_l1=0\n",
      "[LightGBM] [Warning] bagging_fraction is set=0.65, subsample=1.0 will be ignored. Current value: bagging_fraction=0.65\n",
      "[LightGBM] [Warning] min_gain_to_split is set=0.0, min_split_gain=0.0 will be ignored. Current value: min_gain_to_split=0.0\n",
      "[LightGBM] [Warning] lambda_l2 is set=0, reg_lambda=0.0 will be ignored. Current value: lambda_l2=0\n",
      "[LightGBM] [Warning] feature_fraction is set=0.95, colsample_bytree=1.0 will be ignored. Current value: feature_fraction=0.95\n",
      "[LightGBM] [Warning] min_data_in_leaf is set=20, min_child_samples=20 will be ignored. Current value: min_data_in_leaf=20\n",
      "[LightGBM] [Warning] bagging_freq is set=1, subsample_freq=0 will be ignored. Current value: bagging_freq=1\n"
     ]
    },
    {
     "name": "stderr",
     "output_type": "stream",
     "text": [
      "\u001b[32m[I 2022-05-08 20:50:38,783]\u001b[0m Trial 591 finished with value: 0.2298331829055895 and parameters: {'n_estimators': 10000, 'learning_rate': 0.05, 'num_leaves': 180, 'max_depth': 12, 'min_data_in_leaf': 20, 'lambda_l1': 0, 'lambda_l2': 0, 'min_gain_to_split': 0.0, 'bagging_fraction': 0.65, 'bagging_freq': 1, 'feature_fraction': 0.95}. Best is trial 228 with value: 0.22842937334875865.\u001b[0m\n"
     ]
    },
    {
     "name": "stdout",
     "output_type": "stream",
     "text": [
      "mean_loss 0.22983\n",
      "[LightGBM] [Warning] lambda_l1 is set=0, reg_alpha=0.0 will be ignored. Current value: lambda_l1=0\n",
      "[LightGBM] [Warning] bagging_fraction is set=0.75, subsample=1.0 will be ignored. Current value: bagging_fraction=0.75\n",
      "[LightGBM] [Warning] min_gain_to_split is set=1.0, min_split_gain=0.0 will be ignored. Current value: min_gain_to_split=1.0\n",
      "[LightGBM] [Warning] lambda_l2 is set=0, reg_lambda=0.0 will be ignored. Current value: lambda_l2=0\n",
      "[LightGBM] [Warning] feature_fraction is set=0.95, colsample_bytree=1.0 will be ignored. Current value: feature_fraction=0.95\n",
      "[LightGBM] [Warning] min_data_in_leaf is set=20, min_child_samples=20 will be ignored. Current value: min_data_in_leaf=20\n",
      "[LightGBM] [Warning] bagging_freq is set=1, subsample_freq=0 will be ignored. Current value: bagging_freq=1\n"
     ]
    },
    {
     "name": "stderr",
     "output_type": "stream",
     "text": [
      "\u001b[32m[I 2022-05-08 20:50:39,803]\u001b[0m Trial 592 finished with value: 0.2309168145319522 and parameters: {'n_estimators': 10000, 'learning_rate': 0.05, 'num_leaves': 180, 'max_depth': 12, 'min_data_in_leaf': 20, 'lambda_l1': 0, 'lambda_l2': 0, 'min_gain_to_split': 1.0, 'bagging_fraction': 0.75, 'bagging_freq': 1, 'feature_fraction': 0.95}. Best is trial 228 with value: 0.22842937334875865.\u001b[0m\n"
     ]
    },
    {
     "name": "stdout",
     "output_type": "stream",
     "text": [
      "mean_loss 0.23092\n",
      "[LightGBM] [Warning] lambda_l1 is set=0, reg_alpha=0.0 will be ignored. Current value: lambda_l1=0\n",
      "[LightGBM] [Warning] bagging_fraction is set=0.75, subsample=1.0 will be ignored. Current value: bagging_fraction=0.75\n",
      "[LightGBM] [Warning] min_gain_to_split is set=0.0, min_split_gain=0.0 will be ignored. Current value: min_gain_to_split=0.0\n",
      "[LightGBM] [Warning] lambda_l2 is set=0, reg_lambda=0.0 will be ignored. Current value: lambda_l2=0\n",
      "[LightGBM] [Warning] feature_fraction is set=0.95, colsample_bytree=1.0 will be ignored. Current value: feature_fraction=0.95\n",
      "[LightGBM] [Warning] min_data_in_leaf is set=20, min_child_samples=20 will be ignored. Current value: min_data_in_leaf=20\n",
      "[LightGBM] [Warning] bagging_freq is set=1, subsample_freq=0 will be ignored. Current value: bagging_freq=1\n"
     ]
    },
    {
     "name": "stderr",
     "output_type": "stream",
     "text": [
      "\u001b[32m[I 2022-05-08 20:50:40,966]\u001b[0m Trial 593 finished with value: 0.22842937334875865 and parameters: {'n_estimators': 10000, 'learning_rate': 0.05, 'num_leaves': 180, 'max_depth': 12, 'min_data_in_leaf': 20, 'lambda_l1': 0, 'lambda_l2': 0, 'min_gain_to_split': 0.0, 'bagging_fraction': 0.75, 'bagging_freq': 1, 'feature_fraction': 0.95}. Best is trial 228 with value: 0.22842937334875865.\u001b[0m\n",
      "\u001b[32m[I 2022-05-08 20:50:41,082]\u001b[0m Trial 594 pruned. Trial was pruned at iteration 0.\u001b[0m\n"
     ]
    },
    {
     "name": "stdout",
     "output_type": "stream",
     "text": [
      "mean_loss 0.22843\n",
      "[LightGBM] [Warning] lambda_l1 is set=40, reg_alpha=0.0 will be ignored. Current value: lambda_l1=40\n",
      "[LightGBM] [Warning] bagging_fraction is set=0.75, subsample=1.0 will be ignored. Current value: bagging_fraction=0.75\n",
      "[LightGBM] [Warning] min_gain_to_split is set=0.0, min_split_gain=0.0 will be ignored. Current value: min_gain_to_split=0.0\n",
      "[LightGBM] [Warning] lambda_l2 is set=0, reg_lambda=0.0 will be ignored. Current value: lambda_l2=0\n",
      "[LightGBM] [Warning] feature_fraction is set=0.95, colsample_bytree=1.0 will be ignored. Current value: feature_fraction=0.95\n",
      "[LightGBM] [Warning] min_data_in_leaf is set=20, min_child_samples=20 will be ignored. Current value: min_data_in_leaf=20\n",
      "[LightGBM] [Warning] bagging_freq is set=1, subsample_freq=0 will be ignored. Current value: bagging_freq=1\n"
     ]
    },
    {
     "name": "stderr",
     "output_type": "stream",
     "text": [
      "\u001b[32m[I 2022-05-08 20:50:41,349]\u001b[0m Trial 595 pruned. Trial was pruned at iteration 1.\u001b[0m\n",
      "\u001b[32m[I 2022-05-08 20:50:42,576]\u001b[0m Trial 596 finished with value: 0.22842937334875865 and parameters: {'n_estimators': 10000, 'learning_rate': 0.05, 'num_leaves': 180, 'max_depth': 12, 'min_data_in_leaf': 20, 'lambda_l1': 0, 'lambda_l2': 0, 'min_gain_to_split': 0.0, 'bagging_fraction': 0.75, 'bagging_freq': 1, 'feature_fraction': 0.95}. Best is trial 228 with value: 0.22842937334875865.\u001b[0m\n",
      "\u001b[32m[I 2022-05-08 20:50:42,695]\u001b[0m Trial 597 pruned. Trial was pruned at iteration 0.\u001b[0m\n"
     ]
    },
    {
     "name": "stdout",
     "output_type": "stream",
     "text": [
      "mean_loss 0.22843\n",
      "[LightGBM] [Warning] lambda_l1 is set=0, reg_alpha=0.0 will be ignored. Current value: lambda_l1=0\n",
      "[LightGBM] [Warning] bagging_fraction is set=0.75, subsample=1.0 will be ignored. Current value: bagging_fraction=0.75\n",
      "[LightGBM] [Warning] min_gain_to_split is set=0.0, min_split_gain=0.0 will be ignored. Current value: min_gain_to_split=0.0\n",
      "[LightGBM] [Warning] lambda_l2 is set=0, reg_lambda=0.0 will be ignored. Current value: lambda_l2=0\n",
      "[LightGBM] [Warning] feature_fraction is set=0.95, colsample_bytree=1.0 will be ignored. Current value: feature_fraction=0.95\n",
      "[LightGBM] [Warning] min_data_in_leaf is set=20, min_child_samples=20 will be ignored. Current value: min_data_in_leaf=20\n",
      "[LightGBM] [Warning] bagging_freq is set=1, subsample_freq=0 will be ignored. Current value: bagging_freq=1\n"
     ]
    },
    {
     "name": "stderr",
     "output_type": "stream",
     "text": [
      "\u001b[32m[I 2022-05-08 20:50:43,871]\u001b[0m Trial 598 finished with value: 0.22842937334875865 and parameters: {'n_estimators': 10000, 'learning_rate': 0.05, 'num_leaves': 180, 'max_depth': 12, 'min_data_in_leaf': 20, 'lambda_l1': 0, 'lambda_l2': 0, 'min_gain_to_split': 0.0, 'bagging_fraction': 0.75, 'bagging_freq': 1, 'feature_fraction': 0.95}. Best is trial 228 with value: 0.22842937334875865.\u001b[0m\n",
      "\u001b[32m[I 2022-05-08 20:50:43,998]\u001b[0m Trial 599 pruned. Trial was pruned at iteration 1.\u001b[0m\n"
     ]
    },
    {
     "name": "stdout",
     "output_type": "stream",
     "text": [
      "mean_loss 0.22843\n",
      "[LightGBM] [Warning] lambda_l1 is set=0, reg_alpha=0.0 will be ignored. Current value: lambda_l1=0\n",
      "[LightGBM] [Warning] bagging_fraction is set=0.75, subsample=1.0 will be ignored. Current value: bagging_fraction=0.75\n",
      "[LightGBM] [Warning] min_gain_to_split is set=0.0, min_split_gain=0.0 will be ignored. Current value: min_gain_to_split=0.0\n",
      "[LightGBM] [Warning] lambda_l2 is set=0, reg_lambda=0.0 will be ignored. Current value: lambda_l2=0\n",
      "[LightGBM] [Warning] feature_fraction is set=0.95, colsample_bytree=1.0 will be ignored. Current value: feature_fraction=0.95\n",
      "[LightGBM] [Warning] min_data_in_leaf is set=20, min_child_samples=20 will be ignored. Current value: min_data_in_leaf=20\n",
      "[LightGBM] [Warning] bagging_freq is set=1, subsample_freq=0 will be ignored. Current value: bagging_freq=1\n"
     ]
    },
    {
     "name": "stderr",
     "output_type": "stream",
     "text": [
      "\u001b[32m[I 2022-05-08 20:50:44,148]\u001b[0m Trial 600 pruned. Trial was pruned at iteration 2.\u001b[0m\n",
      "\u001b[32m[I 2022-05-08 20:50:44,265]\u001b[0m Trial 601 pruned. Trial was pruned at iteration 0.\u001b[0m\n",
      "\u001b[32m[I 2022-05-08 20:50:44,428]\u001b[0m Trial 602 pruned. Trial was pruned at iteration 6.\u001b[0m\n",
      "\u001b[32m[I 2022-05-08 20:50:44,543]\u001b[0m Trial 603 pruned. Trial was pruned at iteration 0.\u001b[0m\n",
      "\u001b[32m[I 2022-05-08 20:50:45,768]\u001b[0m Trial 604 finished with value: 0.22842937334875865 and parameters: {'n_estimators': 10000, 'learning_rate': 0.05, 'num_leaves': 180, 'max_depth': 12, 'min_data_in_leaf': 20, 'lambda_l1': 0, 'lambda_l2': 0, 'min_gain_to_split': 0.0, 'bagging_fraction': 0.75, 'bagging_freq': 1, 'feature_fraction': 0.95}. Best is trial 228 with value: 0.22842937334875865.\u001b[0m\n",
      "\u001b[32m[I 2022-05-08 20:50:45,898]\u001b[0m Trial 605 pruned. Trial was pruned at iteration 0.\u001b[0m\n"
     ]
    },
    {
     "name": "stdout",
     "output_type": "stream",
     "text": [
      "mean_loss 0.22843\n",
      "[LightGBM] [Warning] lambda_l1 is set=0, reg_alpha=0.0 will be ignored. Current value: lambda_l1=0\n",
      "[LightGBM] [Warning] bagging_fraction is set=0.75, subsample=1.0 will be ignored. Current value: bagging_fraction=0.75\n",
      "[LightGBM] [Warning] min_gain_to_split is set=0.0, min_split_gain=0.0 will be ignored. Current value: min_gain_to_split=0.0\n",
      "[LightGBM] [Warning] lambda_l2 is set=0, reg_lambda=0.0 will be ignored. Current value: lambda_l2=0\n",
      "[LightGBM] [Warning] feature_fraction is set=0.95, colsample_bytree=1.0 will be ignored. Current value: feature_fraction=0.95\n",
      "[LightGBM] [Warning] min_data_in_leaf is set=20, min_child_samples=20 will be ignored. Current value: min_data_in_leaf=20\n",
      "[LightGBM] [Warning] bagging_freq is set=1, subsample_freq=0 will be ignored. Current value: bagging_freq=1\n"
     ]
    },
    {
     "name": "stderr",
     "output_type": "stream",
     "text": [
      "\u001b[32m[I 2022-05-08 20:50:46,018]\u001b[0m Trial 606 pruned. Trial was pruned at iteration 0.\u001b[0m\n",
      "\u001b[32m[I 2022-05-08 20:50:46,140]\u001b[0m Trial 607 pruned. Trial was pruned at iteration 0.\u001b[0m\n",
      "\u001b[32m[I 2022-05-08 20:50:46,267]\u001b[0m Trial 608 pruned. Trial was pruned at iteration 1.\u001b[0m\n",
      "\u001b[32m[I 2022-05-08 20:50:46,387]\u001b[0m Trial 609 pruned. Trial was pruned at iteration 0.\u001b[0m\n",
      "\u001b[32m[I 2022-05-08 20:50:46,513]\u001b[0m Trial 610 pruned. Trial was pruned at iteration 1.\u001b[0m\n",
      "\u001b[32m[I 2022-05-08 20:50:46,629]\u001b[0m Trial 611 pruned. Trial was pruned at iteration 0.\u001b[0m\n",
      "\u001b[32m[I 2022-05-08 20:50:47,712]\u001b[0m Trial 612 finished with value: 0.2292908085827551 and parameters: {'n_estimators': 10000, 'learning_rate': 0.05, 'num_leaves': 180, 'max_depth': 12, 'min_data_in_leaf': 20, 'lambda_l1': 0, 'lambda_l2': 0, 'min_gain_to_split': 0.0, 'bagging_fraction': 0.45, 'bagging_freq': 1, 'feature_fraction': 0.95}. Best is trial 228 with value: 0.22842937334875865.\u001b[0m\n",
      "\u001b[32m[I 2022-05-08 20:50:47,831]\u001b[0m Trial 613 pruned. Trial was pruned at iteration 0.\u001b[0m\n"
     ]
    },
    {
     "name": "stdout",
     "output_type": "stream",
     "text": [
      "mean_loss 0.22929\n",
      "[LightGBM] [Warning] lambda_l1 is set=0, reg_alpha=0.0 will be ignored. Current value: lambda_l1=0\n",
      "[LightGBM] [Warning] bagging_fraction is set=0.75, subsample=1.0 will be ignored. Current value: bagging_fraction=0.75\n",
      "[LightGBM] [Warning] min_gain_to_split is set=0.0, min_split_gain=0.0 will be ignored. Current value: min_gain_to_split=0.0\n",
      "[LightGBM] [Warning] lambda_l2 is set=80, reg_lambda=0.0 will be ignored. Current value: lambda_l2=80\n",
      "[LightGBM] [Warning] feature_fraction is set=0.95, colsample_bytree=1.0 will be ignored. Current value: feature_fraction=0.95\n",
      "[LightGBM] [Warning] min_data_in_leaf is set=20, min_child_samples=20 will be ignored. Current value: min_data_in_leaf=20\n",
      "[LightGBM] [Warning] bagging_freq is set=1, subsample_freq=0 will be ignored. Current value: bagging_freq=1\n"
     ]
    },
    {
     "name": "stderr",
     "output_type": "stream",
     "text": [
      "\u001b[32m[I 2022-05-08 20:50:47,974]\u001b[0m Trial 614 pruned. Trial was pruned at iteration 2.\u001b[0m\n",
      "\u001b[32m[I 2022-05-08 20:50:48,090]\u001b[0m Trial 615 pruned. Trial was pruned at iteration 0.\u001b[0m\n",
      "\u001b[32m[I 2022-05-08 20:50:48,211]\u001b[0m Trial 616 pruned. Trial was pruned at iteration 0.\u001b[0m\n",
      "\u001b[32m[I 2022-05-08 20:50:49,384]\u001b[0m Trial 617 finished with value: 0.22842937334875865 and parameters: {'n_estimators': 10000, 'learning_rate': 0.05, 'num_leaves': 180, 'max_depth': 12, 'min_data_in_leaf': 20, 'lambda_l1': 0, 'lambda_l2': 0, 'min_gain_to_split': 0.0, 'bagging_fraction': 0.75, 'bagging_freq': 1, 'feature_fraction': 0.95}. Best is trial 228 with value: 0.22842937334875865.\u001b[0m\n",
      "\u001b[32m[I 2022-05-08 20:50:49,512]\u001b[0m Trial 618 pruned. Trial was pruned at iteration 0.\u001b[0m\n"
     ]
    },
    {
     "name": "stdout",
     "output_type": "stream",
     "text": [
      "mean_loss 0.22843\n",
      "[LightGBM] [Warning] lambda_l1 is set=0, reg_alpha=0.0 will be ignored. Current value: lambda_l1=0\n",
      "[LightGBM] [Warning] bagging_fraction is set=0.75, subsample=1.0 will be ignored. Current value: bagging_fraction=0.75\n",
      "[LightGBM] [Warning] min_gain_to_split is set=0.0, min_split_gain=0.0 will be ignored. Current value: min_gain_to_split=0.0\n",
      "[LightGBM] [Warning] lambda_l2 is set=0, reg_lambda=0.0 will be ignored. Current value: lambda_l2=0\n",
      "[LightGBM] [Warning] feature_fraction is set=0.35, colsample_bytree=1.0 will be ignored. Current value: feature_fraction=0.35\n",
      "[LightGBM] [Warning] min_data_in_leaf is set=20, min_child_samples=20 will be ignored. Current value: min_data_in_leaf=20\n",
      "[LightGBM] [Warning] bagging_freq is set=1, subsample_freq=0 will be ignored. Current value: bagging_freq=1\n"
     ]
    },
    {
     "name": "stderr",
     "output_type": "stream",
     "text": [
      "\u001b[32m[I 2022-05-08 20:50:49,642]\u001b[0m Trial 619 pruned. Trial was pruned at iteration 1.\u001b[0m\n",
      "\u001b[32m[I 2022-05-08 20:50:51,351]\u001b[0m Trial 620 finished with value: 0.22842937334875865 and parameters: {'n_estimators': 10000, 'learning_rate': 0.05, 'num_leaves': 180, 'max_depth': 12, 'min_data_in_leaf': 20, 'lambda_l1': 0, 'lambda_l2': 0, 'min_gain_to_split': 0.0, 'bagging_fraction': 0.75, 'bagging_freq': 1, 'feature_fraction': 0.95}. Best is trial 228 with value: 0.22842937334875865.\u001b[0m\n",
      "\u001b[32m[I 2022-05-08 20:50:51,484]\u001b[0m Trial 621 pruned. Trial was pruned at iteration 1.\u001b[0m\n"
     ]
    },
    {
     "name": "stdout",
     "output_type": "stream",
     "text": [
      "mean_loss 0.22843\n",
      "[LightGBM] [Warning] lambda_l1 is set=0, reg_alpha=0.0 will be ignored. Current value: lambda_l1=0\n",
      "[LightGBM] [Warning] bagging_fraction is set=0.75, subsample=1.0 will be ignored. Current value: bagging_fraction=0.75\n",
      "[LightGBM] [Warning] min_gain_to_split is set=0.0, min_split_gain=0.0 will be ignored. Current value: min_gain_to_split=0.0\n",
      "[LightGBM] [Warning] lambda_l2 is set=0, reg_lambda=0.0 will be ignored. Current value: lambda_l2=0\n",
      "[LightGBM] [Warning] feature_fraction is set=0.95, colsample_bytree=1.0 will be ignored. Current value: feature_fraction=0.95\n",
      "[LightGBM] [Warning] min_data_in_leaf is set=20, min_child_samples=20 will be ignored. Current value: min_data_in_leaf=20\n",
      "[LightGBM] [Warning] bagging_freq is set=1, subsample_freq=0 will be ignored. Current value: bagging_freq=1\n"
     ]
    },
    {
     "name": "stderr",
     "output_type": "stream",
     "text": [
      "\u001b[32m[I 2022-05-08 20:50:51,606]\u001b[0m Trial 622 pruned. Trial was pruned at iteration 0.\u001b[0m\n",
      "\u001b[32m[I 2022-05-08 20:50:52,640]\u001b[0m Trial 623 finished with value: 0.22842937334875865 and parameters: {'n_estimators': 10000, 'learning_rate': 0.05, 'num_leaves': 180, 'max_depth': 12, 'min_data_in_leaf': 20, 'lambda_l1': 0, 'lambda_l2': 0, 'min_gain_to_split': 0.0, 'bagging_fraction': 0.75, 'bagging_freq': 1, 'feature_fraction': 0.95}. Best is trial 228 with value: 0.22842937334875865.\u001b[0m\n"
     ]
    },
    {
     "name": "stdout",
     "output_type": "stream",
     "text": [
      "mean_loss 0.22843\n",
      "[LightGBM] [Warning] lambda_l1 is set=0, reg_alpha=0.0 will be ignored. Current value: lambda_l1=0\n",
      "[LightGBM] [Warning] bagging_fraction is set=0.75, subsample=1.0 will be ignored. Current value: bagging_fraction=0.75\n",
      "[LightGBM] [Warning] min_gain_to_split is set=0.0, min_split_gain=0.0 will be ignored. Current value: min_gain_to_split=0.0\n",
      "[LightGBM] [Warning] lambda_l2 is set=0, reg_lambda=0.0 will be ignored. Current value: lambda_l2=0\n",
      "[LightGBM] [Warning] feature_fraction is set=0.95, colsample_bytree=1.0 will be ignored. Current value: feature_fraction=0.95\n",
      "[LightGBM] [Warning] min_data_in_leaf is set=20, min_child_samples=20 will be ignored. Current value: min_data_in_leaf=20\n",
      "[LightGBM] [Warning] bagging_freq is set=1, subsample_freq=0 will be ignored. Current value: bagging_freq=1\n"
     ]
    },
    {
     "name": "stderr",
     "output_type": "stream",
     "text": [
      "\u001b[32m[I 2022-05-08 20:50:53,790]\u001b[0m Trial 624 finished with value: 0.22842937334875865 and parameters: {'n_estimators': 10000, 'learning_rate': 0.05, 'num_leaves': 180, 'max_depth': 12, 'min_data_in_leaf': 20, 'lambda_l1': 0, 'lambda_l2': 0, 'min_gain_to_split': 0.0, 'bagging_fraction': 0.75, 'bagging_freq': 1, 'feature_fraction': 0.95}. Best is trial 228 with value: 0.22842937334875865.\u001b[0m\n"
     ]
    },
    {
     "name": "stdout",
     "output_type": "stream",
     "text": [
      "mean_loss 0.22843\n",
      "[LightGBM] [Warning] lambda_l1 is set=0, reg_alpha=0.0 will be ignored. Current value: lambda_l1=0\n",
      "[LightGBM] [Warning] bagging_fraction is set=0.75, subsample=1.0 will be ignored. Current value: bagging_fraction=0.75\n",
      "[LightGBM] [Warning] min_gain_to_split is set=0.0, min_split_gain=0.0 will be ignored. Current value: min_gain_to_split=0.0\n",
      "[LightGBM] [Warning] lambda_l2 is set=0, reg_lambda=0.0 will be ignored. Current value: lambda_l2=0\n",
      "[LightGBM] [Warning] feature_fraction is set=0.95, colsample_bytree=1.0 will be ignored. Current value: feature_fraction=0.95\n",
      "[LightGBM] [Warning] min_data_in_leaf is set=20, min_child_samples=20 will be ignored. Current value: min_data_in_leaf=20\n",
      "[LightGBM] [Warning] bagging_freq is set=1, subsample_freq=0 will be ignored. Current value: bagging_freq=1\n"
     ]
    },
    {
     "name": "stderr",
     "output_type": "stream",
     "text": [
      "\u001b[32m[I 2022-05-08 20:50:55,020]\u001b[0m Trial 625 finished with value: 0.22842937334875865 and parameters: {'n_estimators': 10000, 'learning_rate': 0.05, 'num_leaves': 180, 'max_depth': 12, 'min_data_in_leaf': 20, 'lambda_l1': 0, 'lambda_l2': 0, 'min_gain_to_split': 0.0, 'bagging_fraction': 0.75, 'bagging_freq': 1, 'feature_fraction': 0.95}. Best is trial 228 with value: 0.22842937334875865.\u001b[0m\n"
     ]
    },
    {
     "name": "stdout",
     "output_type": "stream",
     "text": [
      "mean_loss 0.22843\n",
      "[LightGBM] [Warning] lambda_l1 is set=0, reg_alpha=0.0 will be ignored. Current value: lambda_l1=0\n",
      "[LightGBM] [Warning] bagging_fraction is set=0.75, subsample=1.0 will be ignored. Current value: bagging_fraction=0.75\n",
      "[LightGBM] [Warning] min_gain_to_split is set=0.0, min_split_gain=0.0 will be ignored. Current value: min_gain_to_split=0.0\n",
      "[LightGBM] [Warning] lambda_l2 is set=0, reg_lambda=0.0 will be ignored. Current value: lambda_l2=0\n",
      "[LightGBM] [Warning] feature_fraction is set=0.95, colsample_bytree=1.0 will be ignored. Current value: feature_fraction=0.95\n",
      "[LightGBM] [Warning] min_data_in_leaf is set=20, min_child_samples=20 will be ignored. Current value: min_data_in_leaf=20\n",
      "[LightGBM] [Warning] bagging_freq is set=1, subsample_freq=0 will be ignored. Current value: bagging_freq=1\n"
     ]
    },
    {
     "name": "stderr",
     "output_type": "stream",
     "text": [
      "\u001b[32m[I 2022-05-08 20:50:56,090]\u001b[0m Trial 626 finished with value: 0.22842937334875865 and parameters: {'n_estimators': 10000, 'learning_rate': 0.05, 'num_leaves': 180, 'max_depth': 12, 'min_data_in_leaf': 20, 'lambda_l1': 0, 'lambda_l2': 0, 'min_gain_to_split': 0.0, 'bagging_fraction': 0.75, 'bagging_freq': 1, 'feature_fraction': 0.95}. Best is trial 228 with value: 0.22842937334875865.\u001b[0m\n",
      "\u001b[32m[I 2022-05-08 20:50:56,212]\u001b[0m Trial 627 pruned. Trial was pruned at iteration 0.\u001b[0m\n"
     ]
    },
    {
     "name": "stdout",
     "output_type": "stream",
     "text": [
      "mean_loss 0.22843\n",
      "[LightGBM] [Warning] lambda_l1 is set=0, reg_alpha=0.0 will be ignored. Current value: lambda_l1=0\n",
      "[LightGBM] [Warning] bagging_fraction is set=0.8500000000000001, subsample=1.0 will be ignored. Current value: bagging_fraction=0.8500000000000001\n",
      "[LightGBM] [Warning] min_gain_to_split is set=0.0, min_split_gain=0.0 will be ignored. Current value: min_gain_to_split=0.0\n",
      "[LightGBM] [Warning] lambda_l2 is set=0, reg_lambda=0.0 will be ignored. Current value: lambda_l2=0\n",
      "[LightGBM] [Warning] feature_fraction is set=0.95, colsample_bytree=1.0 will be ignored. Current value: feature_fraction=0.95\n",
      "[LightGBM] [Warning] min_data_in_leaf is set=20, min_child_samples=20 will be ignored. Current value: min_data_in_leaf=20\n",
      "[LightGBM] [Warning] bagging_freq is set=1, subsample_freq=0 will be ignored. Current value: bagging_freq=1\n"
     ]
    },
    {
     "name": "stderr",
     "output_type": "stream",
     "text": [
      "\u001b[32m[I 2022-05-08 20:50:56,341]\u001b[0m Trial 628 pruned. Trial was pruned at iteration 1.\u001b[0m\n",
      "\u001b[32m[I 2022-05-08 20:50:56,459]\u001b[0m Trial 629 pruned. Trial was pruned at iteration 0.\u001b[0m\n",
      "\u001b[32m[I 2022-05-08 20:50:56,597]\u001b[0m Trial 630 pruned. Trial was pruned at iteration 1.\u001b[0m\n",
      "\u001b[32m[I 2022-05-08 20:50:56,725]\u001b[0m Trial 631 pruned. Trial was pruned at iteration 0.\u001b[0m\n",
      "\u001b[32m[I 2022-05-08 20:50:56,867]\u001b[0m Trial 632 pruned. Trial was pruned at iteration 1.\u001b[0m\n",
      "\u001b[32m[I 2022-05-08 20:50:56,995]\u001b[0m Trial 633 pruned. Trial was pruned at iteration 0.\u001b[0m\n",
      "\u001b[32m[I 2022-05-08 20:50:57,118]\u001b[0m Trial 634 pruned. Trial was pruned at iteration 0.\u001b[0m\n",
      "\u001b[32m[I 2022-05-08 20:50:57,241]\u001b[0m Trial 635 pruned. Trial was pruned at iteration 0.\u001b[0m\n",
      "\u001b[32m[I 2022-05-08 20:50:57,383]\u001b[0m Trial 636 pruned. Trial was pruned at iteration 2.\u001b[0m\n",
      "\u001b[32m[I 2022-05-08 20:50:57,502]\u001b[0m Trial 637 pruned. Trial was pruned at iteration 0.\u001b[0m\n",
      "\u001b[32m[I 2022-05-08 20:50:57,621]\u001b[0m Trial 638 pruned. Trial was pruned at iteration 0.\u001b[0m\n",
      "\u001b[32m[I 2022-05-08 20:50:57,742]\u001b[0m Trial 639 pruned. Trial was pruned at iteration 0.\u001b[0m\n",
      "\u001b[32m[I 2022-05-08 20:50:57,870]\u001b[0m Trial 640 pruned. Trial was pruned at iteration 0.\u001b[0m\n",
      "\u001b[32m[I 2022-05-08 20:50:57,994]\u001b[0m Trial 641 pruned. Trial was pruned at iteration 0.\u001b[0m\n",
      "\u001b[32m[I 2022-05-08 20:50:58,119]\u001b[0m Trial 642 pruned. Trial was pruned at iteration 0.\u001b[0m\n",
      "\u001b[32m[I 2022-05-08 20:50:58,241]\u001b[0m Trial 643 pruned. Trial was pruned at iteration 0.\u001b[0m\n",
      "\u001b[32m[I 2022-05-08 20:50:58,366]\u001b[0m Trial 644 pruned. Trial was pruned at iteration 0.\u001b[0m\n",
      "\u001b[32m[I 2022-05-08 20:50:59,531]\u001b[0m Trial 645 finished with value: 0.22842937334875865 and parameters: {'n_estimators': 10000, 'learning_rate': 0.05, 'num_leaves': 180, 'max_depth': 12, 'min_data_in_leaf': 20, 'lambda_l1': 0, 'lambda_l2': 0, 'min_gain_to_split': 0.0, 'bagging_fraction': 0.75, 'bagging_freq': 1, 'feature_fraction': 0.95}. Best is trial 228 with value: 0.22842937334875865.\u001b[0m\n",
      "\u001b[32m[I 2022-05-08 20:50:59,653]\u001b[0m Trial 646 pruned. Trial was pruned at iteration 0.\u001b[0m\n"
     ]
    },
    {
     "name": "stdout",
     "output_type": "stream",
     "text": [
      "mean_loss 0.22843\n",
      "[LightGBM] [Warning] lambda_l1 is set=0, reg_alpha=0.0 will be ignored. Current value: lambda_l1=0\n",
      "[LightGBM] [Warning] bagging_fraction is set=0.75, subsample=1.0 will be ignored. Current value: bagging_fraction=0.75\n",
      "[LightGBM] [Warning] min_gain_to_split is set=0.0, min_split_gain=0.0 will be ignored. Current value: min_gain_to_split=0.0\n",
      "[LightGBM] [Warning] lambda_l2 is set=60, reg_lambda=0.0 will be ignored. Current value: lambda_l2=60\n",
      "[LightGBM] [Warning] feature_fraction is set=0.95, colsample_bytree=1.0 will be ignored. Current value: feature_fraction=0.95\n",
      "[LightGBM] [Warning] min_data_in_leaf is set=20, min_child_samples=20 will be ignored. Current value: min_data_in_leaf=20\n",
      "[LightGBM] [Warning] bagging_freq is set=1, subsample_freq=0 will be ignored. Current value: bagging_freq=1\n"
     ]
    },
    {
     "name": "stderr",
     "output_type": "stream",
     "text": [
      "\u001b[32m[I 2022-05-08 20:50:59,784]\u001b[0m Trial 647 pruned. Trial was pruned at iteration 1.\u001b[0m\n",
      "\u001b[32m[I 2022-05-08 20:50:59,924]\u001b[0m Trial 648 pruned. Trial was pruned at iteration 0.\u001b[0m\n",
      "\u001b[32m[I 2022-05-08 20:51:00,047]\u001b[0m Trial 649 pruned. Trial was pruned at iteration 0.\u001b[0m\n",
      "\u001b[32m[I 2022-05-08 20:51:01,141]\u001b[0m Trial 650 finished with value: 0.22842937334875865 and parameters: {'n_estimators': 10000, 'learning_rate': 0.05, 'num_leaves': 180, 'max_depth': 12, 'min_data_in_leaf': 20, 'lambda_l1': 0, 'lambda_l2': 0, 'min_gain_to_split': 0.0, 'bagging_fraction': 0.75, 'bagging_freq': 1, 'feature_fraction': 0.95}. Best is trial 228 with value: 0.22842937334875865.\u001b[0m\n",
      "\u001b[32m[I 2022-05-08 20:51:01,318]\u001b[0m Trial 651 pruned. Trial was pruned at iteration 2.\u001b[0m\n"
     ]
    },
    {
     "name": "stdout",
     "output_type": "stream",
     "text": [
      "mean_loss 0.22843\n",
      "[LightGBM] [Warning] lambda_l1 is set=0, reg_alpha=0.0 will be ignored. Current value: lambda_l1=0\n",
      "[LightGBM] [Warning] bagging_fraction is set=0.75, subsample=1.0 will be ignored. Current value: bagging_fraction=0.75\n",
      "[LightGBM] [Warning] min_gain_to_split is set=0.0, min_split_gain=0.0 will be ignored. Current value: min_gain_to_split=0.0\n",
      "[LightGBM] [Warning] lambda_l2 is set=0, reg_lambda=0.0 will be ignored. Current value: lambda_l2=0\n",
      "[LightGBM] [Warning] feature_fraction is set=0.8500000000000001, colsample_bytree=1.0 will be ignored. Current value: feature_fraction=0.8500000000000001\n",
      "[LightGBM] [Warning] min_data_in_leaf is set=20, min_child_samples=20 will be ignored. Current value: min_data_in_leaf=20\n",
      "[LightGBM] [Warning] bagging_freq is set=1, subsample_freq=0 will be ignored. Current value: bagging_freq=1\n"
     ]
    },
    {
     "name": "stderr",
     "output_type": "stream",
     "text": [
      "\u001b[32m[I 2022-05-08 20:51:02,345]\u001b[0m Trial 652 finished with value: 0.22842937334875865 and parameters: {'n_estimators': 10000, 'learning_rate': 0.05, 'num_leaves': 180, 'max_depth': 12, 'min_data_in_leaf': 20, 'lambda_l1': 0, 'lambda_l2': 0, 'min_gain_to_split': 0.0, 'bagging_fraction': 0.75, 'bagging_freq': 1, 'feature_fraction': 0.95}. Best is trial 228 with value: 0.22842937334875865.\u001b[0m\n"
     ]
    },
    {
     "name": "stdout",
     "output_type": "stream",
     "text": [
      "mean_loss 0.22843\n",
      "[LightGBM] [Warning] lambda_l1 is set=0, reg_alpha=0.0 will be ignored. Current value: lambda_l1=0\n",
      "[LightGBM] [Warning] bagging_fraction is set=0.75, subsample=1.0 will be ignored. Current value: bagging_fraction=0.75\n",
      "[LightGBM] [Warning] min_gain_to_split is set=0.0, min_split_gain=0.0 will be ignored. Current value: min_gain_to_split=0.0\n",
      "[LightGBM] [Warning] lambda_l2 is set=0, reg_lambda=0.0 will be ignored. Current value: lambda_l2=0\n",
      "[LightGBM] [Warning] feature_fraction is set=0.95, colsample_bytree=1.0 will be ignored. Current value: feature_fraction=0.95\n",
      "[LightGBM] [Warning] min_data_in_leaf is set=20, min_child_samples=20 will be ignored. Current value: min_data_in_leaf=20\n",
      "[LightGBM] [Warning] bagging_freq is set=1, subsample_freq=0 will be ignored. Current value: bagging_freq=1\n"
     ]
    },
    {
     "name": "stderr",
     "output_type": "stream",
     "text": [
      "\u001b[32m[I 2022-05-08 20:51:03,405]\u001b[0m Trial 653 finished with value: 0.22842937334875865 and parameters: {'n_estimators': 10000, 'learning_rate': 0.05, 'num_leaves': 180, 'max_depth': 12, 'min_data_in_leaf': 20, 'lambda_l1': 0, 'lambda_l2': 0, 'min_gain_to_split': 0.0, 'bagging_fraction': 0.75, 'bagging_freq': 1, 'feature_fraction': 0.95}. Best is trial 228 with value: 0.22842937334875865.\u001b[0m\n"
     ]
    },
    {
     "name": "stdout",
     "output_type": "stream",
     "text": [
      "mean_loss 0.22843\n",
      "[LightGBM] [Warning] lambda_l1 is set=0, reg_alpha=0.0 will be ignored. Current value: lambda_l1=0\n",
      "[LightGBM] [Warning] bagging_fraction is set=0.75, subsample=1.0 will be ignored. Current value: bagging_fraction=0.75\n",
      "[LightGBM] [Warning] min_gain_to_split is set=0.0, min_split_gain=0.0 will be ignored. Current value: min_gain_to_split=0.0\n",
      "[LightGBM] [Warning] lambda_l2 is set=0, reg_lambda=0.0 will be ignored. Current value: lambda_l2=0\n",
      "[LightGBM] [Warning] feature_fraction is set=0.95, colsample_bytree=1.0 will be ignored. Current value: feature_fraction=0.95\n",
      "[LightGBM] [Warning] min_data_in_leaf is set=20, min_child_samples=20 will be ignored. Current value: min_data_in_leaf=20\n",
      "[LightGBM] [Warning] bagging_freq is set=1, subsample_freq=0 will be ignored. Current value: bagging_freq=1\n"
     ]
    },
    {
     "name": "stderr",
     "output_type": "stream",
     "text": [
      "\u001b[32m[I 2022-05-08 20:51:04,827]\u001b[0m Trial 654 finished with value: 0.22842937334875865 and parameters: {'n_estimators': 10000, 'learning_rate': 0.05, 'num_leaves': 180, 'max_depth': 12, 'min_data_in_leaf': 20, 'lambda_l1': 0, 'lambda_l2': 0, 'min_gain_to_split': 0.0, 'bagging_fraction': 0.75, 'bagging_freq': 1, 'feature_fraction': 0.95}. Best is trial 228 with value: 0.22842937334875865.\u001b[0m\n"
     ]
    },
    {
     "name": "stdout",
     "output_type": "stream",
     "text": [
      "mean_loss 0.22843\n",
      "[LightGBM] [Warning] lambda_l1 is set=0, reg_alpha=0.0 will be ignored. Current value: lambda_l1=0\n",
      "[LightGBM] [Warning] bagging_fraction is set=0.75, subsample=1.0 will be ignored. Current value: bagging_fraction=0.75\n",
      "[LightGBM] [Warning] min_gain_to_split is set=0.0, min_split_gain=0.0 will be ignored. Current value: min_gain_to_split=0.0\n",
      "[LightGBM] [Warning] lambda_l2 is set=0, reg_lambda=0.0 will be ignored. Current value: lambda_l2=0\n",
      "[LightGBM] [Warning] feature_fraction is set=0.95, colsample_bytree=1.0 will be ignored. Current value: feature_fraction=0.95\n",
      "[LightGBM] [Warning] min_data_in_leaf is set=20, min_child_samples=20 will be ignored. Current value: min_data_in_leaf=20\n",
      "[LightGBM] [Warning] bagging_freq is set=1, subsample_freq=0 will be ignored. Current value: bagging_freq=1\n"
     ]
    },
    {
     "name": "stderr",
     "output_type": "stream",
     "text": [
      "\u001b[32m[I 2022-05-08 20:51:05,924]\u001b[0m Trial 655 finished with value: 0.22842937334875865 and parameters: {'n_estimators': 10000, 'learning_rate': 0.05, 'num_leaves': 180, 'max_depth': 12, 'min_data_in_leaf': 20, 'lambda_l1': 0, 'lambda_l2': 0, 'min_gain_to_split': 0.0, 'bagging_fraction': 0.75, 'bagging_freq': 1, 'feature_fraction': 0.95}. Best is trial 228 with value: 0.22842937334875865.\u001b[0m\n",
      "\u001b[32m[I 2022-05-08 20:51:06,048]\u001b[0m Trial 656 pruned. Trial was pruned at iteration 0.\u001b[0m\n"
     ]
    },
    {
     "name": "stdout",
     "output_type": "stream",
     "text": [
      "mean_loss 0.22843\n",
      "[LightGBM] [Warning] lambda_l1 is set=0, reg_alpha=0.0 will be ignored. Current value: lambda_l1=0\n",
      "[LightGBM] [Warning] bagging_fraction is set=0.75, subsample=1.0 will be ignored. Current value: bagging_fraction=0.75\n",
      "[LightGBM] [Warning] min_gain_to_split is set=0.0, min_split_gain=0.0 will be ignored. Current value: min_gain_to_split=0.0\n",
      "[LightGBM] [Warning] lambda_l2 is set=0, reg_lambda=0.0 will be ignored. Current value: lambda_l2=0\n",
      "[LightGBM] [Warning] feature_fraction is set=0.95, colsample_bytree=1.0 will be ignored. Current value: feature_fraction=0.95\n",
      "[LightGBM] [Warning] min_data_in_leaf is set=20, min_child_samples=20 will be ignored. Current value: min_data_in_leaf=20\n",
      "[LightGBM] [Warning] bagging_freq is set=1, subsample_freq=0 will be ignored. Current value: bagging_freq=1\n"
     ]
    },
    {
     "name": "stderr",
     "output_type": "stream",
     "text": [
      "\u001b[32m[I 2022-05-08 20:51:06,183]\u001b[0m Trial 657 pruned. Trial was pruned at iteration 1.\u001b[0m\n",
      "\u001b[32m[I 2022-05-08 20:51:06,348]\u001b[0m Trial 658 pruned. Trial was pruned at iteration 0.\u001b[0m\n",
      "\u001b[32m[I 2022-05-08 20:51:06,471]\u001b[0m Trial 659 pruned. Trial was pruned at iteration 0.\u001b[0m\n",
      "\u001b[32m[I 2022-05-08 20:51:06,593]\u001b[0m Trial 660 pruned. Trial was pruned at iteration 0.\u001b[0m\n",
      "\u001b[32m[I 2022-05-08 20:51:06,720]\u001b[0m Trial 661 pruned. Trial was pruned at iteration 0.\u001b[0m\n",
      "\u001b[32m[I 2022-05-08 20:51:07,928]\u001b[0m Trial 662 finished with value: 0.22842937334875865 and parameters: {'n_estimators': 10000, 'learning_rate': 0.05, 'num_leaves': 180, 'max_depth': 12, 'min_data_in_leaf': 20, 'lambda_l1': 0, 'lambda_l2': 0, 'min_gain_to_split': 0.0, 'bagging_fraction': 0.75, 'bagging_freq': 1, 'feature_fraction': 0.95}. Best is trial 228 with value: 0.22842937334875865.\u001b[0m\n",
      "\u001b[32m[I 2022-05-08 20:51:08,060]\u001b[0m Trial 663 pruned. Trial was pruned at iteration 0.\u001b[0m\n"
     ]
    },
    {
     "name": "stdout",
     "output_type": "stream",
     "text": [
      "mean_loss 0.22843\n",
      "[LightGBM] [Warning] lambda_l1 is set=0, reg_alpha=0.0 will be ignored. Current value: lambda_l1=0\n",
      "[LightGBM] [Warning] bagging_fraction is set=0.8500000000000001, subsample=1.0 will be ignored. Current value: bagging_fraction=0.8500000000000001\n",
      "[LightGBM] [Warning] min_gain_to_split is set=0.0, min_split_gain=0.0 will be ignored. Current value: min_gain_to_split=0.0\n",
      "[LightGBM] [Warning] lambda_l2 is set=0, reg_lambda=0.0 will be ignored. Current value: lambda_l2=0\n",
      "[LightGBM] [Warning] feature_fraction is set=0.95, colsample_bytree=1.0 will be ignored. Current value: feature_fraction=0.95\n",
      "[LightGBM] [Warning] min_data_in_leaf is set=20, min_child_samples=20 will be ignored. Current value: min_data_in_leaf=20\n",
      "[LightGBM] [Warning] bagging_freq is set=1, subsample_freq=0 will be ignored. Current value: bagging_freq=1\n"
     ]
    },
    {
     "name": "stderr",
     "output_type": "stream",
     "text": [
      "\u001b[32m[I 2022-05-08 20:51:08,209]\u001b[0m Trial 664 pruned. Trial was pruned at iteration 2.\u001b[0m\n",
      "\u001b[32m[I 2022-05-08 20:51:08,340]\u001b[0m Trial 665 pruned. Trial was pruned at iteration 1.\u001b[0m\n",
      "\u001b[32m[I 2022-05-08 20:51:08,471]\u001b[0m Trial 666 pruned. Trial was pruned at iteration 1.\u001b[0m\n",
      "\u001b[32m[I 2022-05-08 20:51:09,625]\u001b[0m Trial 667 finished with value: 0.22842937334875865 and parameters: {'n_estimators': 10000, 'learning_rate': 0.05, 'num_leaves': 180, 'max_depth': 12, 'min_data_in_leaf': 20, 'lambda_l1': 0, 'lambda_l2': 0, 'min_gain_to_split': 0.0, 'bagging_fraction': 0.75, 'bagging_freq': 1, 'feature_fraction': 0.95}. Best is trial 228 with value: 0.22842937334875865.\u001b[0m\n"
     ]
    },
    {
     "name": "stdout",
     "output_type": "stream",
     "text": [
      "mean_loss 0.22843\n",
      "[LightGBM] [Warning] lambda_l1 is set=0, reg_alpha=0.0 will be ignored. Current value: lambda_l1=0\n",
      "[LightGBM] [Warning] bagging_fraction is set=0.75, subsample=1.0 will be ignored. Current value: bagging_fraction=0.75\n",
      "[LightGBM] [Warning] min_gain_to_split is set=0.0, min_split_gain=0.0 will be ignored. Current value: min_gain_to_split=0.0\n",
      "[LightGBM] [Warning] lambda_l2 is set=0, reg_lambda=0.0 will be ignored. Current value: lambda_l2=0\n",
      "[LightGBM] [Warning] feature_fraction is set=0.95, colsample_bytree=1.0 will be ignored. Current value: feature_fraction=0.95\n",
      "[LightGBM] [Warning] min_data_in_leaf is set=20, min_child_samples=20 will be ignored. Current value: min_data_in_leaf=20\n",
      "[LightGBM] [Warning] bagging_freq is set=1, subsample_freq=0 will be ignored. Current value: bagging_freq=1\n"
     ]
    },
    {
     "name": "stderr",
     "output_type": "stream",
     "text": [
      "\u001b[32m[I 2022-05-08 20:51:10,817]\u001b[0m Trial 668 finished with value: 0.22842937334875865 and parameters: {'n_estimators': 10000, 'learning_rate': 0.05, 'num_leaves': 180, 'max_depth': 12, 'min_data_in_leaf': 20, 'lambda_l1': 0, 'lambda_l2': 0, 'min_gain_to_split': 0.0, 'bagging_fraction': 0.75, 'bagging_freq': 1, 'feature_fraction': 0.95}. Best is trial 228 with value: 0.22842937334875865.\u001b[0m\n",
      "\u001b[32m[I 2022-05-08 20:51:10,958]\u001b[0m Trial 669 pruned. Trial was pruned at iteration 0.\u001b[0m\n"
     ]
    },
    {
     "name": "stdout",
     "output_type": "stream",
     "text": [
      "mean_loss 0.22843\n",
      "[LightGBM] [Warning] lambda_l1 is set=0, reg_alpha=0.0 will be ignored. Current value: lambda_l1=0\n",
      "[LightGBM] [Warning] bagging_fraction is set=0.65, subsample=1.0 will be ignored. Current value: bagging_fraction=0.65\n",
      "[LightGBM] [Warning] min_gain_to_split is set=0.0, min_split_gain=0.0 will be ignored. Current value: min_gain_to_split=0.0\n",
      "[LightGBM] [Warning] lambda_l2 is set=0, reg_lambda=0.0 will be ignored. Current value: lambda_l2=0\n",
      "[LightGBM] [Warning] feature_fraction is set=0.95, colsample_bytree=1.0 will be ignored. Current value: feature_fraction=0.95\n",
      "[LightGBM] [Warning] min_data_in_leaf is set=20, min_child_samples=20 will be ignored. Current value: min_data_in_leaf=20\n",
      "[LightGBM] [Warning] bagging_freq is set=1, subsample_freq=0 will be ignored. Current value: bagging_freq=1\n"
     ]
    },
    {
     "name": "stderr",
     "output_type": "stream",
     "text": [
      "\u001b[32m[I 2022-05-08 20:51:11,121]\u001b[0m Trial 670 pruned. Trial was pruned at iteration 1.\u001b[0m\n",
      "\u001b[32m[I 2022-05-08 20:51:12,688]\u001b[0m Trial 671 finished with value: 0.22842937334875865 and parameters: {'n_estimators': 10000, 'learning_rate': 0.05, 'num_leaves': 180, 'max_depth': 12, 'min_data_in_leaf': 20, 'lambda_l1': 0, 'lambda_l2': 0, 'min_gain_to_split': 0.0, 'bagging_fraction': 0.75, 'bagging_freq': 1, 'feature_fraction': 0.95}. Best is trial 228 with value: 0.22842937334875865.\u001b[0m\n",
      "\u001b[32m[I 2022-05-08 20:51:12,864]\u001b[0m Trial 672 pruned. Trial was pruned at iteration 0.\u001b[0m\n"
     ]
    },
    {
     "name": "stdout",
     "output_type": "stream",
     "text": [
      "mean_loss 0.22843\n",
      "[LightGBM] [Warning] lambda_l1 is set=0, reg_alpha=0.0 will be ignored. Current value: lambda_l1=0\n",
      "[LightGBM] [Warning] bagging_fraction is set=0.8500000000000001, subsample=1.0 will be ignored. Current value: bagging_fraction=0.8500000000000001\n",
      "[LightGBM] [Warning] min_gain_to_split is set=0.0, min_split_gain=0.0 will be ignored. Current value: min_gain_to_split=0.0\n",
      "[LightGBM] [Warning] lambda_l2 is set=0, reg_lambda=0.0 will be ignored. Current value: lambda_l2=0\n",
      "[LightGBM] [Warning] feature_fraction is set=0.95, colsample_bytree=1.0 will be ignored. Current value: feature_fraction=0.95\n",
      "[LightGBM] [Warning] min_data_in_leaf is set=20, min_child_samples=20 will be ignored. Current value: min_data_in_leaf=20\n",
      "[LightGBM] [Warning] bagging_freq is set=1, subsample_freq=0 will be ignored. Current value: bagging_freq=1\n"
     ]
    },
    {
     "name": "stderr",
     "output_type": "stream",
     "text": [
      "\u001b[32m[I 2022-05-08 20:51:13,191]\u001b[0m Trial 673 pruned. Trial was pruned at iteration 1.\u001b[0m\n",
      "\u001b[32m[I 2022-05-08 20:51:15,489]\u001b[0m Trial 674 finished with value: 0.22842937334875865 and parameters: {'n_estimators': 10000, 'learning_rate': 0.05, 'num_leaves': 180, 'max_depth': 12, 'min_data_in_leaf': 20, 'lambda_l1': 0, 'lambda_l2': 0, 'min_gain_to_split': 0.0, 'bagging_fraction': 0.75, 'bagging_freq': 1, 'feature_fraction': 0.95}. Best is trial 228 with value: 0.22842937334875865.\u001b[0m\n",
      "\u001b[32m[I 2022-05-08 20:51:15,682]\u001b[0m Trial 675 pruned. Trial was pruned at iteration 0.\u001b[0m\n"
     ]
    },
    {
     "name": "stdout",
     "output_type": "stream",
     "text": [
      "mean_loss 0.22843\n",
      "[LightGBM] [Warning] lambda_l1 is set=0, reg_alpha=0.0 will be ignored. Current value: lambda_l1=0\n",
      "[LightGBM] [Warning] bagging_fraction is set=0.75, subsample=1.0 will be ignored. Current value: bagging_fraction=0.75\n",
      "[LightGBM] [Warning] min_gain_to_split is set=1.0, min_split_gain=0.0 will be ignored. Current value: min_gain_to_split=1.0\n",
      "[LightGBM] [Warning] lambda_l2 is set=0, reg_lambda=0.0 will be ignored. Current value: lambda_l2=0\n",
      "[LightGBM] [Warning] feature_fraction is set=0.95, colsample_bytree=1.0 will be ignored. Current value: feature_fraction=0.95\n",
      "[LightGBM] [Warning] min_data_in_leaf is set=20, min_child_samples=20 will be ignored. Current value: min_data_in_leaf=20\n",
      "[LightGBM] [Warning] bagging_freq is set=1, subsample_freq=0 will be ignored. Current value: bagging_freq=1\n"
     ]
    },
    {
     "name": "stderr",
     "output_type": "stream",
     "text": [
      "\u001b[32m[I 2022-05-08 20:51:18,258]\u001b[0m Trial 676 finished with value: 0.22842937334875865 and parameters: {'n_estimators': 10000, 'learning_rate': 0.05, 'num_leaves': 180, 'max_depth': 12, 'min_data_in_leaf': 20, 'lambda_l1': 0, 'lambda_l2': 0, 'min_gain_to_split': 0.0, 'bagging_fraction': 0.75, 'bagging_freq': 1, 'feature_fraction': 0.95}. Best is trial 228 with value: 0.22842937334875865.\u001b[0m\n",
      "\u001b[32m[I 2022-05-08 20:51:18,440]\u001b[0m Trial 677 pruned. Trial was pruned at iteration 0.\u001b[0m\n"
     ]
    },
    {
     "name": "stdout",
     "output_type": "stream",
     "text": [
      "mean_loss 0.22843\n",
      "[LightGBM] [Warning] lambda_l1 is set=20, reg_alpha=0.0 will be ignored. Current value: lambda_l1=20\n",
      "[LightGBM] [Warning] bagging_fraction is set=0.75, subsample=1.0 will be ignored. Current value: bagging_fraction=0.75\n",
      "[LightGBM] [Warning] min_gain_to_split is set=0.0, min_split_gain=0.0 will be ignored. Current value: min_gain_to_split=0.0\n",
      "[LightGBM] [Warning] lambda_l2 is set=0, reg_lambda=0.0 will be ignored. Current value: lambda_l2=0\n",
      "[LightGBM] [Warning] feature_fraction is set=0.95, colsample_bytree=1.0 will be ignored. Current value: feature_fraction=0.95\n",
      "[LightGBM] [Warning] min_data_in_leaf is set=20, min_child_samples=20 will be ignored. Current value: min_data_in_leaf=20\n",
      "[LightGBM] [Warning] bagging_freq is set=1, subsample_freq=0 will be ignored. Current value: bagging_freq=1\n"
     ]
    },
    {
     "name": "stderr",
     "output_type": "stream",
     "text": [
      "\u001b[32m[I 2022-05-08 20:51:18,658]\u001b[0m Trial 678 pruned. Trial was pruned at iteration 1.\u001b[0m\n",
      "\u001b[32m[I 2022-05-08 20:51:18,829]\u001b[0m Trial 679 pruned. Trial was pruned at iteration 0.\u001b[0m\n",
      "\u001b[32m[I 2022-05-08 20:51:18,994]\u001b[0m Trial 680 pruned. Trial was pruned at iteration 1.\u001b[0m\n",
      "\u001b[32m[I 2022-05-08 20:51:19,127]\u001b[0m Trial 681 pruned. Trial was pruned at iteration 0.\u001b[0m\n",
      "\u001b[32m[I 2022-05-08 20:51:19,254]\u001b[0m Trial 682 pruned. Trial was pruned at iteration 0.\u001b[0m\n",
      "\u001b[32m[I 2022-05-08 20:51:19,380]\u001b[0m Trial 683 pruned. Trial was pruned at iteration 0.\u001b[0m\n",
      "\u001b[32m[I 2022-05-08 20:51:19,516]\u001b[0m Trial 684 pruned. Trial was pruned at iteration 0.\u001b[0m\n",
      "\u001b[32m[I 2022-05-08 20:51:19,679]\u001b[0m Trial 685 pruned. Trial was pruned at iteration 2.\u001b[0m\n",
      "\u001b[32m[I 2022-05-08 20:51:19,808]\u001b[0m Trial 686 pruned. Trial was pruned at iteration 0.\u001b[0m\n",
      "\u001b[32m[I 2022-05-08 20:51:19,951]\u001b[0m Trial 687 pruned. Trial was pruned at iteration 0.\u001b[0m\n",
      "\u001b[32m[I 2022-05-08 20:51:20,090]\u001b[0m Trial 688 pruned. Trial was pruned at iteration 1.\u001b[0m\n",
      "\u001b[32m[I 2022-05-08 20:51:20,230]\u001b[0m Trial 689 pruned. Trial was pruned at iteration 1.\u001b[0m\n",
      "\u001b[32m[I 2022-05-08 20:51:20,377]\u001b[0m Trial 690 pruned. Trial was pruned at iteration 0.\u001b[0m\n",
      "\u001b[32m[I 2022-05-08 20:51:21,470]\u001b[0m Trial 691 finished with value: 0.22842937334875865 and parameters: {'n_estimators': 10000, 'learning_rate': 0.05, 'num_leaves': 180, 'max_depth': 12, 'min_data_in_leaf': 20, 'lambda_l1': 0, 'lambda_l2': 0, 'min_gain_to_split': 0.0, 'bagging_fraction': 0.75, 'bagging_freq': 1, 'feature_fraction': 0.95}. Best is trial 228 with value: 0.22842937334875865.\u001b[0m\n"
     ]
    },
    {
     "name": "stdout",
     "output_type": "stream",
     "text": [
      "mean_loss 0.22843\n",
      "[LightGBM] [Warning] lambda_l1 is set=0, reg_alpha=0.0 will be ignored. Current value: lambda_l1=0\n",
      "[LightGBM] [Warning] bagging_fraction is set=0.75, subsample=1.0 will be ignored. Current value: bagging_fraction=0.75\n",
      "[LightGBM] [Warning] min_gain_to_split is set=0.0, min_split_gain=0.0 will be ignored. Current value: min_gain_to_split=0.0\n",
      "[LightGBM] [Warning] lambda_l2 is set=0, reg_lambda=0.0 will be ignored. Current value: lambda_l2=0\n",
      "[LightGBM] [Warning] feature_fraction is set=0.95, colsample_bytree=1.0 will be ignored. Current value: feature_fraction=0.95\n",
      "[LightGBM] [Warning] min_data_in_leaf is set=20, min_child_samples=20 will be ignored. Current value: min_data_in_leaf=20\n",
      "[LightGBM] [Warning] bagging_freq is set=1, subsample_freq=0 will be ignored. Current value: bagging_freq=1\n"
     ]
    },
    {
     "name": "stderr",
     "output_type": "stream",
     "text": [
      "\u001b[32m[I 2022-05-08 20:51:22,543]\u001b[0m Trial 692 finished with value: 0.22842937334875865 and parameters: {'n_estimators': 10000, 'learning_rate': 0.05, 'num_leaves': 180, 'max_depth': 12, 'min_data_in_leaf': 20, 'lambda_l1': 0, 'lambda_l2': 0, 'min_gain_to_split': 0.0, 'bagging_fraction': 0.75, 'bagging_freq': 1, 'feature_fraction': 0.95}. Best is trial 228 with value: 0.22842937334875865.\u001b[0m\n",
      "\u001b[32m[I 2022-05-08 20:51:22,681]\u001b[0m Trial 693 pruned. Trial was pruned at iteration 1.\u001b[0m\n"
     ]
    },
    {
     "name": "stdout",
     "output_type": "stream",
     "text": [
      "mean_loss 0.22843\n",
      "[LightGBM] [Warning] lambda_l1 is set=0, reg_alpha=0.0 will be ignored. Current value: lambda_l1=0\n",
      "[LightGBM] [Warning] bagging_fraction is set=0.75, subsample=1.0 will be ignored. Current value: bagging_fraction=0.75\n",
      "[LightGBM] [Warning] min_gain_to_split is set=0.0, min_split_gain=0.0 will be ignored. Current value: min_gain_to_split=0.0\n",
      "[LightGBM] [Warning] lambda_l2 is set=0, reg_lambda=0.0 will be ignored. Current value: lambda_l2=0\n",
      "[LightGBM] [Warning] feature_fraction is set=0.95, colsample_bytree=1.0 will be ignored. Current value: feature_fraction=0.95\n",
      "[LightGBM] [Warning] min_data_in_leaf is set=20, min_child_samples=20 will be ignored. Current value: min_data_in_leaf=20\n",
      "[LightGBM] [Warning] bagging_freq is set=1, subsample_freq=0 will be ignored. Current value: bagging_freq=1\n"
     ]
    },
    {
     "name": "stderr",
     "output_type": "stream",
     "text": [
      "\u001b[32m[I 2022-05-08 20:51:24,975]\u001b[0m Trial 694 finished with value: 0.22842937334875865 and parameters: {'n_estimators': 10000, 'learning_rate': 0.05, 'num_leaves': 180, 'max_depth': 12, 'min_data_in_leaf': 20, 'lambda_l1': 0, 'lambda_l2': 0, 'min_gain_to_split': 0.0, 'bagging_fraction': 0.75, 'bagging_freq': 1, 'feature_fraction': 0.95}. Best is trial 228 with value: 0.22842937334875865.\u001b[0m\n",
      "\u001b[32m[I 2022-05-08 20:51:25,111]\u001b[0m Trial 695 pruned. Trial was pruned at iteration 0.\u001b[0m\n"
     ]
    },
    {
     "name": "stdout",
     "output_type": "stream",
     "text": [
      "mean_loss 0.22843\n",
      "[LightGBM] [Warning] lambda_l1 is set=20, reg_alpha=0.0 will be ignored. Current value: lambda_l1=20\n",
      "[LightGBM] [Warning] bagging_fraction is set=0.75, subsample=1.0 will be ignored. Current value: bagging_fraction=0.75\n",
      "[LightGBM] [Warning] min_gain_to_split is set=0.0, min_split_gain=0.0 will be ignored. Current value: min_gain_to_split=0.0\n",
      "[LightGBM] [Warning] lambda_l2 is set=0, reg_lambda=0.0 will be ignored. Current value: lambda_l2=0\n",
      "[LightGBM] [Warning] feature_fraction is set=0.95, colsample_bytree=1.0 will be ignored. Current value: feature_fraction=0.95\n",
      "[LightGBM] [Warning] min_data_in_leaf is set=20, min_child_samples=20 will be ignored. Current value: min_data_in_leaf=20\n",
      "[LightGBM] [Warning] bagging_freq is set=1, subsample_freq=0 will be ignored. Current value: bagging_freq=1\n"
     ]
    },
    {
     "name": "stderr",
     "output_type": "stream",
     "text": [
      "\u001b[32m[I 2022-05-08 20:51:27,539]\u001b[0m Trial 696 finished with value: 0.22842937334875865 and parameters: {'n_estimators': 10000, 'learning_rate': 0.05, 'num_leaves': 180, 'max_depth': 12, 'min_data_in_leaf': 20, 'lambda_l1': 0, 'lambda_l2': 0, 'min_gain_to_split': 0.0, 'bagging_fraction': 0.75, 'bagging_freq': 1, 'feature_fraction': 0.95}. Best is trial 228 with value: 0.22842937334875865.\u001b[0m\n",
      "\u001b[32m[I 2022-05-08 20:51:27,719]\u001b[0m Trial 697 pruned. Trial was pruned at iteration 7.\u001b[0m\n"
     ]
    },
    {
     "name": "stdout",
     "output_type": "stream",
     "text": [
      "mean_loss 0.22843\n",
      "[LightGBM] [Warning] lambda_l1 is set=0, reg_alpha=0.0 will be ignored. Current value: lambda_l1=0\n",
      "[LightGBM] [Warning] bagging_fraction is set=0.65, subsample=1.0 will be ignored. Current value: bagging_fraction=0.65\n",
      "[LightGBM] [Warning] min_gain_to_split is set=0.0, min_split_gain=0.0 will be ignored. Current value: min_gain_to_split=0.0\n",
      "[LightGBM] [Warning] lambda_l2 is set=0, reg_lambda=0.0 will be ignored. Current value: lambda_l2=0\n",
      "[LightGBM] [Warning] feature_fraction is set=0.95, colsample_bytree=1.0 will be ignored. Current value: feature_fraction=0.95\n",
      "[LightGBM] [Warning] min_data_in_leaf is set=20, min_child_samples=20 will be ignored. Current value: min_data_in_leaf=20\n",
      "[LightGBM] [Warning] bagging_freq is set=1, subsample_freq=0 will be ignored. Current value: bagging_freq=1\n"
     ]
    },
    {
     "name": "stderr",
     "output_type": "stream",
     "text": [
      "\u001b[32m[I 2022-05-08 20:51:27,846]\u001b[0m Trial 698 pruned. Trial was pruned at iteration 0.\u001b[0m\n",
      "\u001b[32m[I 2022-05-08 20:51:28,888]\u001b[0m Trial 699 finished with value: 0.22842937334875865 and parameters: {'n_estimators': 10000, 'learning_rate': 0.05, 'num_leaves': 180, 'max_depth': 12, 'min_data_in_leaf': 20, 'lambda_l1': 0, 'lambda_l2': 0, 'min_gain_to_split': 0.0, 'bagging_fraction': 0.75, 'bagging_freq': 1, 'feature_fraction': 0.95}. Best is trial 228 with value: 0.22842937334875865.\u001b[0m\n"
     ]
    },
    {
     "name": "stdout",
     "output_type": "stream",
     "text": [
      "mean_loss 0.22843\n",
      "[LightGBM] [Warning] lambda_l1 is set=0, reg_alpha=0.0 will be ignored. Current value: lambda_l1=0\n",
      "[LightGBM] [Warning] bagging_fraction is set=0.75, subsample=1.0 will be ignored. Current value: bagging_fraction=0.75\n",
      "[LightGBM] [Warning] min_gain_to_split is set=0.0, min_split_gain=0.0 will be ignored. Current value: min_gain_to_split=0.0\n",
      "[LightGBM] [Warning] lambda_l2 is set=0, reg_lambda=0.0 will be ignored. Current value: lambda_l2=0\n",
      "[LightGBM] [Warning] feature_fraction is set=0.95, colsample_bytree=1.0 will be ignored. Current value: feature_fraction=0.95\n",
      "[LightGBM] [Warning] min_data_in_leaf is set=20, min_child_samples=20 will be ignored. Current value: min_data_in_leaf=20\n",
      "[LightGBM] [Warning] bagging_freq is set=1, subsample_freq=0 will be ignored. Current value: bagging_freq=1\n"
     ]
    },
    {
     "name": "stderr",
     "output_type": "stream",
     "text": [
      "\u001b[32m[I 2022-05-08 20:51:29,927]\u001b[0m Trial 700 finished with value: 0.22842937334875865 and parameters: {'n_estimators': 10000, 'learning_rate': 0.05, 'num_leaves': 180, 'max_depth': 12, 'min_data_in_leaf': 20, 'lambda_l1': 0, 'lambda_l2': 0, 'min_gain_to_split': 0.0, 'bagging_fraction': 0.75, 'bagging_freq': 1, 'feature_fraction': 0.95}. Best is trial 228 with value: 0.22842937334875865.\u001b[0m\n",
      "\u001b[32m[I 2022-05-08 20:51:30,058]\u001b[0m Trial 701 pruned. Trial was pruned at iteration 0.\u001b[0m\n"
     ]
    },
    {
     "name": "stdout",
     "output_type": "stream",
     "text": [
      "mean_loss 0.22843\n",
      "[LightGBM] [Warning] lambda_l1 is set=0, reg_alpha=0.0 will be ignored. Current value: lambda_l1=0\n",
      "[LightGBM] [Warning] bagging_fraction is set=0.55, subsample=1.0 will be ignored. Current value: bagging_fraction=0.55\n",
      "[LightGBM] [Warning] min_gain_to_split is set=0.0, min_split_gain=0.0 will be ignored. Current value: min_gain_to_split=0.0\n",
      "[LightGBM] [Warning] lambda_l2 is set=0, reg_lambda=0.0 will be ignored. Current value: lambda_l2=0\n",
      "[LightGBM] [Warning] feature_fraction is set=0.95, colsample_bytree=1.0 will be ignored. Current value: feature_fraction=0.95\n",
      "[LightGBM] [Warning] min_data_in_leaf is set=20, min_child_samples=20 will be ignored. Current value: min_data_in_leaf=20\n",
      "[LightGBM] [Warning] bagging_freq is set=1, subsample_freq=0 will be ignored. Current value: bagging_freq=1\n"
     ]
    },
    {
     "name": "stderr",
     "output_type": "stream",
     "text": [
      "\u001b[32m[I 2022-05-08 20:51:30,190]\u001b[0m Trial 702 pruned. Trial was pruned at iteration 0.\u001b[0m\n",
      "\u001b[32m[I 2022-05-08 20:51:30,326]\u001b[0m Trial 703 pruned. Trial was pruned at iteration 1.\u001b[0m\n",
      "\u001b[32m[I 2022-05-08 20:51:30,461]\u001b[0m Trial 704 pruned. Trial was pruned at iteration 1.\u001b[0m\n",
      "\u001b[32m[I 2022-05-08 20:51:30,600]\u001b[0m Trial 705 pruned. Trial was pruned at iteration 1.\u001b[0m\n",
      "\u001b[32m[I 2022-05-08 20:51:30,727]\u001b[0m Trial 706 pruned. Trial was pruned at iteration 0.\u001b[0m\n",
      "\u001b[32m[I 2022-05-08 20:51:30,865]\u001b[0m Trial 707 pruned. Trial was pruned at iteration 1.\u001b[0m\n",
      "\u001b[32m[I 2022-05-08 20:51:31,001]\u001b[0m Trial 708 pruned. Trial was pruned at iteration 1.\u001b[0m\n",
      "\u001b[32m[I 2022-05-08 20:51:31,132]\u001b[0m Trial 709 pruned. Trial was pruned at iteration 0.\u001b[0m\n",
      "\u001b[32m[I 2022-05-08 20:51:31,262]\u001b[0m Trial 710 pruned. Trial was pruned at iteration 0.\u001b[0m\n",
      "\u001b[32m[I 2022-05-08 20:51:31,453]\u001b[0m Trial 711 pruned. Trial was pruned at iteration 0.\u001b[0m\n",
      "\u001b[32m[I 2022-05-08 20:51:32,739]\u001b[0m Trial 712 finished with value: 0.22842937334875865 and parameters: {'n_estimators': 10000, 'learning_rate': 0.05, 'num_leaves': 180, 'max_depth': 12, 'min_data_in_leaf': 20, 'lambda_l1': 0, 'lambda_l2': 0, 'min_gain_to_split': 0.0, 'bagging_fraction': 0.75, 'bagging_freq': 1, 'feature_fraction': 0.95}. Best is trial 228 with value: 0.22842937334875865.\u001b[0m\n"
     ]
    },
    {
     "name": "stdout",
     "output_type": "stream",
     "text": [
      "mean_loss 0.22843\n",
      "[LightGBM] [Warning] lambda_l1 is set=0, reg_alpha=0.0 will be ignored. Current value: lambda_l1=0\n",
      "[LightGBM] [Warning] bagging_fraction is set=0.75, subsample=1.0 will be ignored. Current value: bagging_fraction=0.75\n",
      "[LightGBM] [Warning] min_gain_to_split is set=0.0, min_split_gain=0.0 will be ignored. Current value: min_gain_to_split=0.0\n",
      "[LightGBM] [Warning] lambda_l2 is set=0, reg_lambda=0.0 will be ignored. Current value: lambda_l2=0\n",
      "[LightGBM] [Warning] feature_fraction is set=0.95, colsample_bytree=1.0 will be ignored. Current value: feature_fraction=0.95\n",
      "[LightGBM] [Warning] min_data_in_leaf is set=20, min_child_samples=20 will be ignored. Current value: min_data_in_leaf=20\n",
      "[LightGBM] [Warning] bagging_freq is set=1, subsample_freq=0 will be ignored. Current value: bagging_freq=1\n"
     ]
    },
    {
     "name": "stderr",
     "output_type": "stream",
     "text": [
      "\u001b[32m[I 2022-05-08 20:51:33,931]\u001b[0m Trial 713 finished with value: 0.22842937334875865 and parameters: {'n_estimators': 10000, 'learning_rate': 0.05, 'num_leaves': 180, 'max_depth': 12, 'min_data_in_leaf': 20, 'lambda_l1': 0, 'lambda_l2': 0, 'min_gain_to_split': 0.0, 'bagging_fraction': 0.75, 'bagging_freq': 1, 'feature_fraction': 0.95}. Best is trial 228 with value: 0.22842937334875865.\u001b[0m\n",
      "\u001b[32m[I 2022-05-08 20:51:34,061]\u001b[0m Trial 714 pruned. Trial was pruned at iteration 0.\u001b[0m\n"
     ]
    },
    {
     "name": "stdout",
     "output_type": "stream",
     "text": [
      "mean_loss 0.22843\n",
      "[LightGBM] [Warning] lambda_l1 is set=0, reg_alpha=0.0 will be ignored. Current value: lambda_l1=0\n",
      "[LightGBM] [Warning] bagging_fraction is set=0.75, subsample=1.0 will be ignored. Current value: bagging_fraction=0.75\n",
      "[LightGBM] [Warning] min_gain_to_split is set=0.0, min_split_gain=0.0 will be ignored. Current value: min_gain_to_split=0.0\n",
      "[LightGBM] [Warning] lambda_l2 is set=0, reg_lambda=0.0 will be ignored. Current value: lambda_l2=0\n",
      "[LightGBM] [Warning] feature_fraction is set=0.95, colsample_bytree=1.0 will be ignored. Current value: feature_fraction=0.95\n",
      "[LightGBM] [Warning] min_data_in_leaf is set=20, min_child_samples=20 will be ignored. Current value: min_data_in_leaf=20\n",
      "[LightGBM] [Warning] bagging_freq is set=1, subsample_freq=0 will be ignored. Current value: bagging_freq=1\n"
     ]
    },
    {
     "name": "stderr",
     "output_type": "stream",
     "text": [
      "\u001b[32m[I 2022-05-08 20:51:34,234]\u001b[0m Trial 715 pruned. Trial was pruned at iteration 5.\u001b[0m\n",
      "\u001b[32m[I 2022-05-08 20:51:34,367]\u001b[0m Trial 716 pruned. Trial was pruned at iteration 0.\u001b[0m\n",
      "\u001b[32m[I 2022-05-08 20:51:34,537]\u001b[0m Trial 717 pruned. Trial was pruned at iteration 1.\u001b[0m\n",
      "\u001b[32m[I 2022-05-08 20:51:34,673]\u001b[0m Trial 718 pruned. Trial was pruned at iteration 0.\u001b[0m\n",
      "\u001b[32m[I 2022-05-08 20:51:34,822]\u001b[0m Trial 719 pruned. Trial was pruned at iteration 2.\u001b[0m\n",
      "\u001b[32m[I 2022-05-08 20:51:35,937]\u001b[0m Trial 720 finished with value: 0.22842937334875865 and parameters: {'n_estimators': 10000, 'learning_rate': 0.05, 'num_leaves': 180, 'max_depth': 12, 'min_data_in_leaf': 20, 'lambda_l1': 0, 'lambda_l2': 0, 'min_gain_to_split': 0.0, 'bagging_fraction': 0.75, 'bagging_freq': 1, 'feature_fraction': 0.95}. Best is trial 228 with value: 0.22842937334875865.\u001b[0m\n",
      "\u001b[32m[I 2022-05-08 20:51:36,070]\u001b[0m Trial 721 pruned. Trial was pruned at iteration 0.\u001b[0m\n"
     ]
    },
    {
     "name": "stdout",
     "output_type": "stream",
     "text": [
      "mean_loss 0.22843\n",
      "[LightGBM] [Warning] lambda_l1 is set=0, reg_alpha=0.0 will be ignored. Current value: lambda_l1=0\n",
      "[LightGBM] [Warning] bagging_fraction is set=0.8500000000000001, subsample=1.0 will be ignored. Current value: bagging_fraction=0.8500000000000001\n",
      "[LightGBM] [Warning] min_gain_to_split is set=1.0, min_split_gain=0.0 will be ignored. Current value: min_gain_to_split=1.0\n",
      "[LightGBM] [Warning] lambda_l2 is set=0, reg_lambda=0.0 will be ignored. Current value: lambda_l2=0\n",
      "[LightGBM] [Warning] feature_fraction is set=0.95, colsample_bytree=1.0 will be ignored. Current value: feature_fraction=0.95\n",
      "[LightGBM] [Warning] min_data_in_leaf is set=20, min_child_samples=20 will be ignored. Current value: min_data_in_leaf=20\n",
      "[LightGBM] [Warning] bagging_freq is set=1, subsample_freq=0 will be ignored. Current value: bagging_freq=1\n"
     ]
    },
    {
     "name": "stderr",
     "output_type": "stream",
     "text": [
      "\u001b[32m[I 2022-05-08 20:51:36,214]\u001b[0m Trial 722 pruned. Trial was pruned at iteration 0.\u001b[0m\n",
      "\u001b[32m[I 2022-05-08 20:51:36,344]\u001b[0m Trial 723 pruned. Trial was pruned at iteration 0.\u001b[0m\n",
      "\u001b[32m[I 2022-05-08 20:51:37,393]\u001b[0m Trial 724 finished with value: 0.22842937334875865 and parameters: {'n_estimators': 10000, 'learning_rate': 0.05, 'num_leaves': 180, 'max_depth': 12, 'min_data_in_leaf': 20, 'lambda_l1': 0, 'lambda_l2': 0, 'min_gain_to_split': 0.0, 'bagging_fraction': 0.75, 'bagging_freq': 1, 'feature_fraction': 0.95}. Best is trial 228 with value: 0.22842937334875865.\u001b[0m\n",
      "\u001b[32m[I 2022-05-08 20:51:37,565]\u001b[0m Trial 725 pruned. Trial was pruned at iteration 5.\u001b[0m\n"
     ]
    },
    {
     "name": "stdout",
     "output_type": "stream",
     "text": [
      "mean_loss 0.22843\n",
      "[LightGBM] [Warning] lambda_l1 is set=0, reg_alpha=0.0 will be ignored. Current value: lambda_l1=0\n",
      "[LightGBM] [Warning] bagging_fraction is set=0.45, subsample=1.0 will be ignored. Current value: bagging_fraction=0.45\n",
      "[LightGBM] [Warning] min_gain_to_split is set=0.0, min_split_gain=0.0 will be ignored. Current value: min_gain_to_split=0.0\n",
      "[LightGBM] [Warning] lambda_l2 is set=0, reg_lambda=0.0 will be ignored. Current value: lambda_l2=0\n",
      "[LightGBM] [Warning] feature_fraction is set=0.95, colsample_bytree=1.0 will be ignored. Current value: feature_fraction=0.95\n",
      "[LightGBM] [Warning] min_data_in_leaf is set=20, min_child_samples=20 will be ignored. Current value: min_data_in_leaf=20\n",
      "[LightGBM] [Warning] bagging_freq is set=1, subsample_freq=0 will be ignored. Current value: bagging_freq=1\n"
     ]
    },
    {
     "name": "stderr",
     "output_type": "stream",
     "text": [
      "\u001b[32m[I 2022-05-08 20:51:37,709]\u001b[0m Trial 726 pruned. Trial was pruned at iteration 1.\u001b[0m\n",
      "\u001b[32m[I 2022-05-08 20:51:39,589]\u001b[0m Trial 727 finished with value: 0.22842937334875865 and parameters: {'n_estimators': 10000, 'learning_rate': 0.05, 'num_leaves': 180, 'max_depth': 12, 'min_data_in_leaf': 20, 'lambda_l1': 0, 'lambda_l2': 0, 'min_gain_to_split': 0.0, 'bagging_fraction': 0.75, 'bagging_freq': 1, 'feature_fraction': 0.95}. Best is trial 228 with value: 0.22842937334875865.\u001b[0m\n",
      "\u001b[32m[I 2022-05-08 20:51:39,758]\u001b[0m Trial 728 pruned. Trial was pruned at iteration 0.\u001b[0m\n"
     ]
    },
    {
     "name": "stdout",
     "output_type": "stream",
     "text": [
      "mean_loss 0.22843\n",
      "[LightGBM] [Warning] lambda_l1 is set=20, reg_alpha=0.0 will be ignored. Current value: lambda_l1=20\n",
      "[LightGBM] [Warning] bagging_fraction is set=0.75, subsample=1.0 will be ignored. Current value: bagging_fraction=0.75\n",
      "[LightGBM] [Warning] min_gain_to_split is set=0.0, min_split_gain=0.0 will be ignored. Current value: min_gain_to_split=0.0\n",
      "[LightGBM] [Warning] lambda_l2 is set=0, reg_lambda=0.0 will be ignored. Current value: lambda_l2=0\n",
      "[LightGBM] [Warning] feature_fraction is set=0.95, colsample_bytree=1.0 will be ignored. Current value: feature_fraction=0.95\n",
      "[LightGBM] [Warning] min_data_in_leaf is set=20, min_child_samples=20 will be ignored. Current value: min_data_in_leaf=20\n",
      "[LightGBM] [Warning] bagging_freq is set=1, subsample_freq=0 will be ignored. Current value: bagging_freq=1\n"
     ]
    },
    {
     "name": "stderr",
     "output_type": "stream",
     "text": [
      "\u001b[32m[I 2022-05-08 20:51:41,137]\u001b[0m Trial 729 finished with value: 0.22842937334875865 and parameters: {'n_estimators': 10000, 'learning_rate': 0.05, 'num_leaves': 180, 'max_depth': 12, 'min_data_in_leaf': 20, 'lambda_l1': 0, 'lambda_l2': 0, 'min_gain_to_split': 0.0, 'bagging_fraction': 0.75, 'bagging_freq': 1, 'feature_fraction': 0.95}. Best is trial 228 with value: 0.22842937334875865.\u001b[0m\n"
     ]
    },
    {
     "name": "stdout",
     "output_type": "stream",
     "text": [
      "mean_loss 0.22843\n",
      "[LightGBM] [Warning] lambda_l1 is set=0, reg_alpha=0.0 will be ignored. Current value: lambda_l1=0\n",
      "[LightGBM] [Warning] bagging_fraction is set=0.75, subsample=1.0 will be ignored. Current value: bagging_fraction=0.75\n",
      "[LightGBM] [Warning] min_gain_to_split is set=0.0, min_split_gain=0.0 will be ignored. Current value: min_gain_to_split=0.0\n",
      "[LightGBM] [Warning] lambda_l2 is set=0, reg_lambda=0.0 will be ignored. Current value: lambda_l2=0\n",
      "[LightGBM] [Warning] feature_fraction is set=0.95, colsample_bytree=1.0 will be ignored. Current value: feature_fraction=0.95\n",
      "[LightGBM] [Warning] min_data_in_leaf is set=20, min_child_samples=20 will be ignored. Current value: min_data_in_leaf=20\n",
      "[LightGBM] [Warning] bagging_freq is set=1, subsample_freq=0 will be ignored. Current value: bagging_freq=1\n"
     ]
    },
    {
     "name": "stderr",
     "output_type": "stream",
     "text": [
      "\u001b[32m[I 2022-05-08 20:51:42,340]\u001b[0m Trial 730 finished with value: 0.22842937334875865 and parameters: {'n_estimators': 10000, 'learning_rate': 0.05, 'num_leaves': 180, 'max_depth': 12, 'min_data_in_leaf': 20, 'lambda_l1': 0, 'lambda_l2': 0, 'min_gain_to_split': 0.0, 'bagging_fraction': 0.75, 'bagging_freq': 1, 'feature_fraction': 0.95}. Best is trial 228 with value: 0.22842937334875865.\u001b[0m\n",
      "\u001b[32m[I 2022-05-08 20:51:42,486]\u001b[0m Trial 731 pruned. Trial was pruned at iteration 0.\u001b[0m\n"
     ]
    },
    {
     "name": "stdout",
     "output_type": "stream",
     "text": [
      "mean_loss 0.22843\n",
      "[LightGBM] [Warning] lambda_l1 is set=0, reg_alpha=0.0 will be ignored. Current value: lambda_l1=0\n",
      "[LightGBM] [Warning] bagging_fraction is set=0.75, subsample=1.0 will be ignored. Current value: bagging_fraction=0.75\n",
      "[LightGBM] [Warning] min_gain_to_split is set=0.0, min_split_gain=0.0 will be ignored. Current value: min_gain_to_split=0.0\n",
      "[LightGBM] [Warning] lambda_l2 is set=0, reg_lambda=0.0 will be ignored. Current value: lambda_l2=0\n",
      "[LightGBM] [Warning] feature_fraction is set=0.45, colsample_bytree=1.0 will be ignored. Current value: feature_fraction=0.45\n",
      "[LightGBM] [Warning] min_data_in_leaf is set=20, min_child_samples=20 will be ignored. Current value: min_data_in_leaf=20\n",
      "[LightGBM] [Warning] bagging_freq is set=1, subsample_freq=0 will be ignored. Current value: bagging_freq=1\n"
     ]
    },
    {
     "name": "stderr",
     "output_type": "stream",
     "text": [
      "\u001b[32m[I 2022-05-08 20:51:42,618]\u001b[0m Trial 732 pruned. Trial was pruned at iteration 0.\u001b[0m\n",
      "\u001b[32m[I 2022-05-08 20:51:42,773]\u001b[0m Trial 733 pruned. Trial was pruned at iteration 0.\u001b[0m\n",
      "\u001b[32m[I 2022-05-08 20:51:44,027]\u001b[0m Trial 734 finished with value: 0.22842937334875865 and parameters: {'n_estimators': 10000, 'learning_rate': 0.05, 'num_leaves': 180, 'max_depth': 12, 'min_data_in_leaf': 20, 'lambda_l1': 0, 'lambda_l2': 0, 'min_gain_to_split': 0.0, 'bagging_fraction': 0.75, 'bagging_freq': 1, 'feature_fraction': 0.95}. Best is trial 228 with value: 0.22842937334875865.\u001b[0m\n",
      "\u001b[32m[I 2022-05-08 20:51:44,162]\u001b[0m Trial 735 pruned. Trial was pruned at iteration 0.\u001b[0m\n"
     ]
    },
    {
     "name": "stdout",
     "output_type": "stream",
     "text": [
      "mean_loss 0.22843\n",
      "[LightGBM] [Warning] lambda_l1 is set=0, reg_alpha=0.0 will be ignored. Current value: lambda_l1=0\n",
      "[LightGBM] [Warning] bagging_fraction is set=0.65, subsample=1.0 will be ignored. Current value: bagging_fraction=0.65\n",
      "[LightGBM] [Warning] min_gain_to_split is set=0.0, min_split_gain=0.0 will be ignored. Current value: min_gain_to_split=0.0\n",
      "[LightGBM] [Warning] lambda_l2 is set=0, reg_lambda=0.0 will be ignored. Current value: lambda_l2=0\n",
      "[LightGBM] [Warning] feature_fraction is set=0.95, colsample_bytree=1.0 will be ignored. Current value: feature_fraction=0.95\n",
      "[LightGBM] [Warning] min_data_in_leaf is set=20, min_child_samples=20 will be ignored. Current value: min_data_in_leaf=20\n",
      "[LightGBM] [Warning] bagging_freq is set=1, subsample_freq=0 will be ignored. Current value: bagging_freq=1\n"
     ]
    },
    {
     "name": "stderr",
     "output_type": "stream",
     "text": [
      "\u001b[32m[I 2022-05-08 20:51:44,291]\u001b[0m Trial 736 pruned. Trial was pruned at iteration 0.\u001b[0m\n",
      "\u001b[32m[I 2022-05-08 20:51:44,421]\u001b[0m Trial 737 pruned. Trial was pruned at iteration 0.\u001b[0m\n",
      "\u001b[32m[I 2022-05-08 20:51:50,183]\u001b[0m Trial 738 finished with value: 0.22842937334875865 and parameters: {'n_estimators': 10000, 'learning_rate': 0.05, 'num_leaves': 180, 'max_depth': 12, 'min_data_in_leaf': 20, 'lambda_l1': 0, 'lambda_l2': 0, 'min_gain_to_split': 0.0, 'bagging_fraction': 0.75, 'bagging_freq': 1, 'feature_fraction': 0.95}. Best is trial 228 with value: 0.22842937334875865.\u001b[0m\n"
     ]
    },
    {
     "name": "stdout",
     "output_type": "stream",
     "text": [
      "mean_loss 0.22843\n",
      "[LightGBM] [Warning] lambda_l1 is set=0, reg_alpha=0.0 will be ignored. Current value: lambda_l1=0\n",
      "[LightGBM] [Warning] bagging_fraction is set=0.75, subsample=1.0 will be ignored. Current value: bagging_fraction=0.75\n",
      "[LightGBM] [Warning] min_gain_to_split is set=0.0, min_split_gain=0.0 will be ignored. Current value: min_gain_to_split=0.0\n",
      "[LightGBM] [Warning] lambda_l2 is set=0, reg_lambda=0.0 will be ignored. Current value: lambda_l2=0\n",
      "[LightGBM] [Warning] feature_fraction is set=0.95, colsample_bytree=1.0 will be ignored. Current value: feature_fraction=0.95\n",
      "[LightGBM] [Warning] min_data_in_leaf is set=20, min_child_samples=20 will be ignored. Current value: min_data_in_leaf=20\n",
      "[LightGBM] [Warning] bagging_freq is set=1, subsample_freq=0 will be ignored. Current value: bagging_freq=1\n"
     ]
    },
    {
     "name": "stderr",
     "output_type": "stream",
     "text": [
      "\u001b[32m[I 2022-05-08 20:51:53,896]\u001b[0m Trial 739 finished with value: 0.22842937334875865 and parameters: {'n_estimators': 10000, 'learning_rate': 0.05, 'num_leaves': 180, 'max_depth': 12, 'min_data_in_leaf': 20, 'lambda_l1': 0, 'lambda_l2': 0, 'min_gain_to_split': 0.0, 'bagging_fraction': 0.75, 'bagging_freq': 1, 'feature_fraction': 0.95}. Best is trial 228 with value: 0.22842937334875865.\u001b[0m\n"
     ]
    },
    {
     "name": "stdout",
     "output_type": "stream",
     "text": [
      "mean_loss 0.22843\n",
      "[LightGBM] [Warning] lambda_l1 is set=0, reg_alpha=0.0 will be ignored. Current value: lambda_l1=0\n",
      "[LightGBM] [Warning] bagging_fraction is set=0.75, subsample=1.0 will be ignored. Current value: bagging_fraction=0.75\n",
      "[LightGBM] [Warning] min_gain_to_split is set=0.0, min_split_gain=0.0 will be ignored. Current value: min_gain_to_split=0.0\n",
      "[LightGBM] [Warning] lambda_l2 is set=0, reg_lambda=0.0 will be ignored. Current value: lambda_l2=0\n",
      "[LightGBM] [Warning] feature_fraction is set=0.95, colsample_bytree=1.0 will be ignored. Current value: feature_fraction=0.95\n",
      "[LightGBM] [Warning] min_data_in_leaf is set=20, min_child_samples=20 will be ignored. Current value: min_data_in_leaf=20\n",
      "[LightGBM] [Warning] bagging_freq is set=1, subsample_freq=0 will be ignored. Current value: bagging_freq=1\n"
     ]
    },
    {
     "name": "stderr",
     "output_type": "stream",
     "text": [
      "\u001b[32m[I 2022-05-08 20:51:54,999]\u001b[0m Trial 740 finished with value: 0.22842937334875865 and parameters: {'n_estimators': 10000, 'learning_rate': 0.05, 'num_leaves': 180, 'max_depth': 12, 'min_data_in_leaf': 20, 'lambda_l1': 0, 'lambda_l2': 0, 'min_gain_to_split': 0.0, 'bagging_fraction': 0.75, 'bagging_freq': 1, 'feature_fraction': 0.95}. Best is trial 228 with value: 0.22842937334875865.\u001b[0m\n"
     ]
    },
    {
     "name": "stdout",
     "output_type": "stream",
     "text": [
      "mean_loss 0.22843\n",
      "[LightGBM] [Warning] lambda_l1 is set=0, reg_alpha=0.0 will be ignored. Current value: lambda_l1=0\n",
      "[LightGBM] [Warning] bagging_fraction is set=0.75, subsample=1.0 will be ignored. Current value: bagging_fraction=0.75\n",
      "[LightGBM] [Warning] min_gain_to_split is set=0.0, min_split_gain=0.0 will be ignored. Current value: min_gain_to_split=0.0\n",
      "[LightGBM] [Warning] lambda_l2 is set=0, reg_lambda=0.0 will be ignored. Current value: lambda_l2=0\n",
      "[LightGBM] [Warning] feature_fraction is set=0.95, colsample_bytree=1.0 will be ignored. Current value: feature_fraction=0.95\n",
      "[LightGBM] [Warning] min_data_in_leaf is set=20, min_child_samples=20 will be ignored. Current value: min_data_in_leaf=20\n",
      "[LightGBM] [Warning] bagging_freq is set=1, subsample_freq=0 will be ignored. Current value: bagging_freq=1\n"
     ]
    },
    {
     "name": "stderr",
     "output_type": "stream",
     "text": [
      "\u001b[32m[I 2022-05-08 20:51:56,198]\u001b[0m Trial 741 finished with value: 0.22842937334875865 and parameters: {'n_estimators': 10000, 'learning_rate': 0.05, 'num_leaves': 180, 'max_depth': 12, 'min_data_in_leaf': 20, 'lambda_l1': 0, 'lambda_l2': 0, 'min_gain_to_split': 0.0, 'bagging_fraction': 0.75, 'bagging_freq': 1, 'feature_fraction': 0.95}. Best is trial 228 with value: 0.22842937334875865.\u001b[0m\n"
     ]
    },
    {
     "name": "stdout",
     "output_type": "stream",
     "text": [
      "mean_loss 0.22843\n",
      "[LightGBM] [Warning] lambda_l1 is set=0, reg_alpha=0.0 will be ignored. Current value: lambda_l1=0\n",
      "[LightGBM] [Warning] bagging_fraction is set=0.75, subsample=1.0 will be ignored. Current value: bagging_fraction=0.75\n",
      "[LightGBM] [Warning] min_gain_to_split is set=0.0, min_split_gain=0.0 will be ignored. Current value: min_gain_to_split=0.0\n",
      "[LightGBM] [Warning] lambda_l2 is set=0, reg_lambda=0.0 will be ignored. Current value: lambda_l2=0\n",
      "[LightGBM] [Warning] feature_fraction is set=0.95, colsample_bytree=1.0 will be ignored. Current value: feature_fraction=0.95\n",
      "[LightGBM] [Warning] min_data_in_leaf is set=20, min_child_samples=20 will be ignored. Current value: min_data_in_leaf=20\n",
      "[LightGBM] [Warning] bagging_freq is set=1, subsample_freq=0 will be ignored. Current value: bagging_freq=1\n"
     ]
    },
    {
     "name": "stderr",
     "output_type": "stream",
     "text": [
      "\u001b[32m[I 2022-05-08 20:51:57,298]\u001b[0m Trial 742 finished with value: 0.22842937334875865 and parameters: {'n_estimators': 10000, 'learning_rate': 0.05, 'num_leaves': 180, 'max_depth': 12, 'min_data_in_leaf': 20, 'lambda_l1': 0, 'lambda_l2': 0, 'min_gain_to_split': 0.0, 'bagging_fraction': 0.75, 'bagging_freq': 1, 'feature_fraction': 0.95}. Best is trial 228 with value: 0.22842937334875865.\u001b[0m\n",
      "\u001b[32m[I 2022-05-08 20:51:57,429]\u001b[0m Trial 743 pruned. Trial was pruned at iteration 0.\u001b[0m\n"
     ]
    },
    {
     "name": "stdout",
     "output_type": "stream",
     "text": [
      "mean_loss 0.22843\n",
      "[LightGBM] [Warning] lambda_l1 is set=0, reg_alpha=0.0 will be ignored. Current value: lambda_l1=0\n",
      "[LightGBM] [Warning] bagging_fraction is set=0.75, subsample=1.0 will be ignored. Current value: bagging_fraction=0.75\n",
      "[LightGBM] [Warning] min_gain_to_split is set=0.0, min_split_gain=0.0 will be ignored. Current value: min_gain_to_split=0.0\n",
      "[LightGBM] [Warning] lambda_l2 is set=0, reg_lambda=0.0 will be ignored. Current value: lambda_l2=0\n",
      "[LightGBM] [Warning] feature_fraction is set=0.95, colsample_bytree=1.0 will be ignored. Current value: feature_fraction=0.95\n",
      "[LightGBM] [Warning] min_data_in_leaf is set=20, min_child_samples=20 will be ignored. Current value: min_data_in_leaf=20\n",
      "[LightGBM] [Warning] bagging_freq is set=1, subsample_freq=0 will be ignored. Current value: bagging_freq=1\n"
     ]
    },
    {
     "name": "stderr",
     "output_type": "stream",
     "text": [
      "\u001b[32m[I 2022-05-08 20:51:57,660]\u001b[0m Trial 744 pruned. Trial was pruned at iteration 0.\u001b[0m\n",
      "\u001b[32m[I 2022-05-08 20:51:57,798]\u001b[0m Trial 745 pruned. Trial was pruned at iteration 0.\u001b[0m\n",
      "\u001b[32m[I 2022-05-08 20:51:57,932]\u001b[0m Trial 746 pruned. Trial was pruned at iteration 0.\u001b[0m\n",
      "\u001b[32m[I 2022-05-08 20:51:58,138]\u001b[0m Trial 747 pruned. Trial was pruned at iteration 0.\u001b[0m\n",
      "\u001b[32m[I 2022-05-08 20:51:58,272]\u001b[0m Trial 748 pruned. Trial was pruned at iteration 0.\u001b[0m\n",
      "\u001b[32m[I 2022-05-08 20:51:58,408]\u001b[0m Trial 749 pruned. Trial was pruned at iteration 0.\u001b[0m\n",
      "\u001b[32m[I 2022-05-08 20:51:58,617]\u001b[0m Trial 750 pruned. Trial was pruned at iteration 0.\u001b[0m\n",
      "\u001b[32m[I 2022-05-08 20:51:59,765]\u001b[0m Trial 751 finished with value: 0.22842937334875865 and parameters: {'n_estimators': 10000, 'learning_rate': 0.05, 'num_leaves': 180, 'max_depth': 12, 'min_data_in_leaf': 20, 'lambda_l1': 0, 'lambda_l2': 0, 'min_gain_to_split': 0.0, 'bagging_fraction': 0.75, 'bagging_freq': 1, 'feature_fraction': 0.95}. Best is trial 228 with value: 0.22842937334875865.\u001b[0m\n"
     ]
    },
    {
     "name": "stdout",
     "output_type": "stream",
     "text": [
      "mean_loss 0.22843\n",
      "[LightGBM] [Warning] lambda_l1 is set=0, reg_alpha=0.0 will be ignored. Current value: lambda_l1=0\n",
      "[LightGBM] [Warning] bagging_fraction is set=0.75, subsample=1.0 will be ignored. Current value: bagging_fraction=0.75\n",
      "[LightGBM] [Warning] min_gain_to_split is set=0.0, min_split_gain=0.0 will be ignored. Current value: min_gain_to_split=0.0\n",
      "[LightGBM] [Warning] lambda_l2 is set=0, reg_lambda=0.0 will be ignored. Current value: lambda_l2=0\n",
      "[LightGBM] [Warning] feature_fraction is set=0.95, colsample_bytree=1.0 will be ignored. Current value: feature_fraction=0.95\n",
      "[LightGBM] [Warning] min_data_in_leaf is set=20, min_child_samples=20 will be ignored. Current value: min_data_in_leaf=20\n",
      "[LightGBM] [Warning] bagging_freq is set=1, subsample_freq=0 will be ignored. Current value: bagging_freq=1\n"
     ]
    },
    {
     "name": "stderr",
     "output_type": "stream",
     "text": [
      "\u001b[32m[I 2022-05-08 20:51:59,977]\u001b[0m Trial 752 pruned. Trial was pruned at iteration 1.\u001b[0m\n",
      "\u001b[32m[I 2022-05-08 20:52:00,122]\u001b[0m Trial 753 pruned. Trial was pruned at iteration 1.\u001b[0m\n",
      "\u001b[32m[I 2022-05-08 20:52:00,277]\u001b[0m Trial 754 pruned. Trial was pruned at iteration 3.\u001b[0m\n",
      "\u001b[32m[I 2022-05-08 20:52:00,409]\u001b[0m Trial 755 pruned. Trial was pruned at iteration 0.\u001b[0m\n",
      "\u001b[32m[I 2022-05-08 20:52:00,543]\u001b[0m Trial 756 pruned. Trial was pruned at iteration 0.\u001b[0m\n",
      "\u001b[32m[I 2022-05-08 20:52:01,569]\u001b[0m Trial 757 finished with value: 0.22842937334875865 and parameters: {'n_estimators': 10000, 'learning_rate': 0.05, 'num_leaves': 180, 'max_depth': 12, 'min_data_in_leaf': 20, 'lambda_l1': 0, 'lambda_l2': 0, 'min_gain_to_split': 0.0, 'bagging_fraction': 0.75, 'bagging_freq': 1, 'feature_fraction': 0.95}. Best is trial 228 with value: 0.22842937334875865.\u001b[0m\n",
      "\u001b[32m[I 2022-05-08 20:52:01,706]\u001b[0m Trial 758 pruned. Trial was pruned at iteration 0.\u001b[0m\n"
     ]
    },
    {
     "name": "stdout",
     "output_type": "stream",
     "text": [
      "mean_loss 0.22843\n",
      "[LightGBM] [Warning] lambda_l1 is set=0, reg_alpha=0.0 will be ignored. Current value: lambda_l1=0\n",
      "[LightGBM] [Warning] bagging_fraction is set=0.75, subsample=1.0 will be ignored. Current value: bagging_fraction=0.75\n",
      "[LightGBM] [Warning] min_gain_to_split is set=0.0, min_split_gain=0.0 will be ignored. Current value: min_gain_to_split=0.0\n",
      "[LightGBM] [Warning] lambda_l2 is set=0, reg_lambda=0.0 will be ignored. Current value: lambda_l2=0\n",
      "[LightGBM] [Warning] feature_fraction is set=0.95, colsample_bytree=1.0 will be ignored. Current value: feature_fraction=0.95\n",
      "[LightGBM] [Warning] min_data_in_leaf is set=20, min_child_samples=20 will be ignored. Current value: min_data_in_leaf=20\n",
      "[LightGBM] [Warning] bagging_freq is set=1, subsample_freq=0 will be ignored. Current value: bagging_freq=1\n"
     ]
    },
    {
     "name": "stderr",
     "output_type": "stream",
     "text": [
      "\u001b[32m[I 2022-05-08 20:52:04,959]\u001b[0m Trial 759 finished with value: 0.22842937334875865 and parameters: {'n_estimators': 10000, 'learning_rate': 0.05, 'num_leaves': 180, 'max_depth': 12, 'min_data_in_leaf': 20, 'lambda_l1': 0, 'lambda_l2': 0, 'min_gain_to_split': 0.0, 'bagging_fraction': 0.75, 'bagging_freq': 1, 'feature_fraction': 0.95}. Best is trial 228 with value: 0.22842937334875865.\u001b[0m\n"
     ]
    },
    {
     "name": "stdout",
     "output_type": "stream",
     "text": [
      "mean_loss 0.22843\n",
      "[LightGBM] [Warning] lambda_l1 is set=0, reg_alpha=0.0 will be ignored. Current value: lambda_l1=0\n",
      "[LightGBM] [Warning] bagging_fraction is set=0.75, subsample=1.0 will be ignored. Current value: bagging_fraction=0.75\n",
      "[LightGBM] [Warning] min_gain_to_split is set=0.0, min_split_gain=0.0 will be ignored. Current value: min_gain_to_split=0.0\n",
      "[LightGBM] [Warning] lambda_l2 is set=0, reg_lambda=0.0 will be ignored. Current value: lambda_l2=0\n",
      "[LightGBM] [Warning] feature_fraction is set=0.95, colsample_bytree=1.0 will be ignored. Current value: feature_fraction=0.95\n",
      "[LightGBM] [Warning] min_data_in_leaf is set=20, min_child_samples=20 will be ignored. Current value: min_data_in_leaf=20\n",
      "[LightGBM] [Warning] bagging_freq is set=1, subsample_freq=0 will be ignored. Current value: bagging_freq=1\n"
     ]
    },
    {
     "name": "stderr",
     "output_type": "stream",
     "text": [
      "\u001b[32m[I 2022-05-08 20:52:05,301]\u001b[0m Trial 760 pruned. Trial was pruned at iteration 1.\u001b[0m\n",
      "\u001b[32m[I 2022-05-08 20:52:11,566]\u001b[0m Trial 761 finished with value: 0.22842937334875865 and parameters: {'n_estimators': 10000, 'learning_rate': 0.05, 'num_leaves': 180, 'max_depth': 12, 'min_data_in_leaf': 20, 'lambda_l1': 0, 'lambda_l2': 0, 'min_gain_to_split': 0.0, 'bagging_fraction': 0.75, 'bagging_freq': 1, 'feature_fraction': 0.95}. Best is trial 228 with value: 0.22842937334875865.\u001b[0m\n"
     ]
    },
    {
     "name": "stdout",
     "output_type": "stream",
     "text": [
      "mean_loss 0.22843\n",
      "[LightGBM] [Warning] lambda_l1 is set=0, reg_alpha=0.0 will be ignored. Current value: lambda_l1=0\n",
      "[LightGBM] [Warning] bagging_fraction is set=0.75, subsample=1.0 will be ignored. Current value: bagging_fraction=0.75\n",
      "[LightGBM] [Warning] min_gain_to_split is set=0.0, min_split_gain=0.0 will be ignored. Current value: min_gain_to_split=0.0\n",
      "[LightGBM] [Warning] lambda_l2 is set=0, reg_lambda=0.0 will be ignored. Current value: lambda_l2=0\n",
      "[LightGBM] [Warning] feature_fraction is set=0.95, colsample_bytree=1.0 will be ignored. Current value: feature_fraction=0.95\n",
      "[LightGBM] [Warning] min_data_in_leaf is set=20, min_child_samples=20 will be ignored. Current value: min_data_in_leaf=20\n",
      "[LightGBM] [Warning] bagging_freq is set=1, subsample_freq=0 will be ignored. Current value: bagging_freq=1\n"
     ]
    },
    {
     "name": "stderr",
     "output_type": "stream",
     "text": [
      "\u001b[32m[I 2022-05-08 20:52:16,791]\u001b[0m Trial 762 finished with value: 0.22842937334875865 and parameters: {'n_estimators': 10000, 'learning_rate': 0.05, 'num_leaves': 180, 'max_depth': 12, 'min_data_in_leaf': 20, 'lambda_l1': 0, 'lambda_l2': 0, 'min_gain_to_split': 0.0, 'bagging_fraction': 0.75, 'bagging_freq': 1, 'feature_fraction': 0.95}. Best is trial 228 with value: 0.22842937334875865.\u001b[0m\n",
      "\u001b[32m[I 2022-05-08 20:52:16,937]\u001b[0m Trial 763 pruned. Trial was pruned at iteration 0.\u001b[0m\n"
     ]
    },
    {
     "name": "stdout",
     "output_type": "stream",
     "text": [
      "mean_loss 0.22843\n",
      "[LightGBM] [Warning] lambda_l1 is set=0, reg_alpha=0.0 will be ignored. Current value: lambda_l1=0\n",
      "[LightGBM] [Warning] bagging_fraction is set=0.75, subsample=1.0 will be ignored. Current value: bagging_fraction=0.75\n",
      "[LightGBM] [Warning] min_gain_to_split is set=0.0, min_split_gain=0.0 will be ignored. Current value: min_gain_to_split=0.0\n",
      "[LightGBM] [Warning] lambda_l2 is set=40, reg_lambda=0.0 will be ignored. Current value: lambda_l2=40\n",
      "[LightGBM] [Warning] feature_fraction is set=0.95, colsample_bytree=1.0 will be ignored. Current value: feature_fraction=0.95\n",
      "[LightGBM] [Warning] min_data_in_leaf is set=20, min_child_samples=20 will be ignored. Current value: min_data_in_leaf=20\n",
      "[LightGBM] [Warning] bagging_freq is set=1, subsample_freq=0 will be ignored. Current value: bagging_freq=1\n"
     ]
    },
    {
     "name": "stderr",
     "output_type": "stream",
     "text": [
      "\u001b[32m[I 2022-05-08 20:52:17,170]\u001b[0m Trial 764 pruned. Trial was pruned at iteration 1.\u001b[0m\n",
      "\u001b[32m[I 2022-05-08 20:52:17,407]\u001b[0m Trial 765 pruned. Trial was pruned at iteration 0.\u001b[0m\n",
      "\u001b[32m[I 2022-05-08 20:52:17,624]\u001b[0m Trial 766 pruned. Trial was pruned at iteration 0.\u001b[0m\n",
      "\u001b[32m[I 2022-05-08 20:52:17,774]\u001b[0m Trial 767 pruned. Trial was pruned at iteration 0.\u001b[0m\n",
      "\u001b[32m[I 2022-05-08 20:52:18,072]\u001b[0m Trial 768 pruned. Trial was pruned at iteration 1.\u001b[0m\n",
      "\u001b[32m[I 2022-05-08 20:52:18,295]\u001b[0m Trial 769 pruned. Trial was pruned at iteration 0.\u001b[0m\n",
      "\u001b[32m[I 2022-05-08 20:52:18,486]\u001b[0m Trial 770 pruned. Trial was pruned at iteration 0.\u001b[0m\n",
      "\u001b[32m[I 2022-05-08 20:52:18,690]\u001b[0m Trial 771 pruned. Trial was pruned at iteration 0.\u001b[0m\n",
      "\u001b[32m[I 2022-05-08 20:52:18,942]\u001b[0m Trial 772 pruned. Trial was pruned at iteration 0.\u001b[0m\n",
      "\u001b[32m[I 2022-05-08 20:52:20,294]\u001b[0m Trial 773 pruned. Trial was pruned at iteration 2.\u001b[0m\n",
      "\u001b[32m[I 2022-05-08 20:52:20,464]\u001b[0m Trial 774 pruned. Trial was pruned at iteration 4.\u001b[0m\n",
      "\u001b[32m[I 2022-05-08 20:52:22,028]\u001b[0m Trial 775 finished with value: 0.22842937334875865 and parameters: {'n_estimators': 10000, 'learning_rate': 0.05, 'num_leaves': 180, 'max_depth': 12, 'min_data_in_leaf': 20, 'lambda_l1': 0, 'lambda_l2': 0, 'min_gain_to_split': 0.0, 'bagging_fraction': 0.75, 'bagging_freq': 1, 'feature_fraction': 0.95}. Best is trial 228 with value: 0.22842937334875865.\u001b[0m\n"
     ]
    },
    {
     "name": "stdout",
     "output_type": "stream",
     "text": [
      "mean_loss 0.22843\n",
      "[LightGBM] [Warning] lambda_l1 is set=0, reg_alpha=0.0 will be ignored. Current value: lambda_l1=0\n",
      "[LightGBM] [Warning] bagging_fraction is set=0.75, subsample=1.0 will be ignored. Current value: bagging_fraction=0.75\n",
      "[LightGBM] [Warning] min_gain_to_split is set=0.0, min_split_gain=0.0 will be ignored. Current value: min_gain_to_split=0.0\n",
      "[LightGBM] [Warning] lambda_l2 is set=0, reg_lambda=0.0 will be ignored. Current value: lambda_l2=0\n",
      "[LightGBM] [Warning] feature_fraction is set=0.95, colsample_bytree=1.0 will be ignored. Current value: feature_fraction=0.95\n",
      "[LightGBM] [Warning] min_data_in_leaf is set=20, min_child_samples=20 will be ignored. Current value: min_data_in_leaf=20\n",
      "[LightGBM] [Warning] bagging_freq is set=1, subsample_freq=0 will be ignored. Current value: bagging_freq=1\n"
     ]
    },
    {
     "name": "stderr",
     "output_type": "stream",
     "text": [
      "\u001b[32m[I 2022-05-08 20:52:22,259]\u001b[0m Trial 776 pruned. Trial was pruned at iteration 1.\u001b[0m\n",
      "\u001b[32m[I 2022-05-08 20:52:22,446]\u001b[0m Trial 777 pruned. Trial was pruned at iteration 5.\u001b[0m\n",
      "\u001b[32m[I 2022-05-08 20:52:22,689]\u001b[0m Trial 778 pruned. Trial was pruned at iteration 1.\u001b[0m\n",
      "\u001b[32m[I 2022-05-08 20:52:22,853]\u001b[0m Trial 779 pruned. Trial was pruned at iteration 1.\u001b[0m\n",
      "\u001b[32m[I 2022-05-08 20:52:23,027]\u001b[0m Trial 780 pruned. Trial was pruned at iteration 0.\u001b[0m\n",
      "\u001b[32m[I 2022-05-08 20:52:24,860]\u001b[0m Trial 781 finished with value: 0.22842937334875865 and parameters: {'n_estimators': 10000, 'learning_rate': 0.05, 'num_leaves': 180, 'max_depth': 12, 'min_data_in_leaf': 20, 'lambda_l1': 0, 'lambda_l2': 0, 'min_gain_to_split': 0.0, 'bagging_fraction': 0.75, 'bagging_freq': 1, 'feature_fraction': 0.95}. Best is trial 228 with value: 0.22842937334875865.\u001b[0m\n"
     ]
    },
    {
     "name": "stdout",
     "output_type": "stream",
     "text": [
      "mean_loss 0.22843\n",
      "[LightGBM] [Warning] lambda_l1 is set=0, reg_alpha=0.0 will be ignored. Current value: lambda_l1=0\n",
      "[LightGBM] [Warning] bagging_fraction is set=0.75, subsample=1.0 will be ignored. Current value: bagging_fraction=0.75\n",
      "[LightGBM] [Warning] min_gain_to_split is set=0.0, min_split_gain=0.0 will be ignored. Current value: min_gain_to_split=0.0\n",
      "[LightGBM] [Warning] lambda_l2 is set=0, reg_lambda=0.0 will be ignored. Current value: lambda_l2=0\n",
      "[LightGBM] [Warning] feature_fraction is set=0.95, colsample_bytree=1.0 will be ignored. Current value: feature_fraction=0.95\n",
      "[LightGBM] [Warning] min_data_in_leaf is set=20, min_child_samples=20 will be ignored. Current value: min_data_in_leaf=20\n",
      "[LightGBM] [Warning] bagging_freq is set=1, subsample_freq=0 will be ignored. Current value: bagging_freq=1\n"
     ]
    },
    {
     "name": "stderr",
     "output_type": "stream",
     "text": [
      "\u001b[32m[I 2022-05-08 20:52:26,534]\u001b[0m Trial 782 finished with value: 0.22842937334875865 and parameters: {'n_estimators': 10000, 'learning_rate': 0.05, 'num_leaves': 180, 'max_depth': 12, 'min_data_in_leaf': 20, 'lambda_l1': 0, 'lambda_l2': 0, 'min_gain_to_split': 0.0, 'bagging_fraction': 0.75, 'bagging_freq': 1, 'feature_fraction': 0.95}. Best is trial 228 with value: 0.22842937334875865.\u001b[0m\n",
      "\u001b[32m[I 2022-05-08 20:52:26,681]\u001b[0m Trial 783 pruned. Trial was pruned at iteration 0.\u001b[0m\n"
     ]
    },
    {
     "name": "stdout",
     "output_type": "stream",
     "text": [
      "mean_loss 0.22843\n",
      "[LightGBM] [Warning] lambda_l1 is set=0, reg_alpha=0.0 will be ignored. Current value: lambda_l1=0\n",
      "[LightGBM] [Warning] bagging_fraction is set=0.75, subsample=1.0 will be ignored. Current value: bagging_fraction=0.75\n",
      "[LightGBM] [Warning] min_gain_to_split is set=0.0, min_split_gain=0.0 will be ignored. Current value: min_gain_to_split=0.0\n",
      "[LightGBM] [Warning] lambda_l2 is set=0, reg_lambda=0.0 will be ignored. Current value: lambda_l2=0\n",
      "[LightGBM] [Warning] feature_fraction is set=0.95, colsample_bytree=1.0 will be ignored. Current value: feature_fraction=0.95\n",
      "[LightGBM] [Warning] min_data_in_leaf is set=20, min_child_samples=20 will be ignored. Current value: min_data_in_leaf=20\n",
      "[LightGBM] [Warning] bagging_freq is set=1, subsample_freq=0 will be ignored. Current value: bagging_freq=1\n"
     ]
    },
    {
     "name": "stderr",
     "output_type": "stream",
     "text": [
      "\u001b[32m[I 2022-05-08 20:52:26,829]\u001b[0m Trial 784 pruned. Trial was pruned at iteration 1.\u001b[0m\n",
      "\u001b[32m[I 2022-05-08 20:52:26,985]\u001b[0m Trial 785 pruned. Trial was pruned at iteration 0.\u001b[0m\n",
      "\u001b[32m[I 2022-05-08 20:52:28,173]\u001b[0m Trial 786 finished with value: 0.22842937334875865 and parameters: {'n_estimators': 10000, 'learning_rate': 0.05, 'num_leaves': 180, 'max_depth': 12, 'min_data_in_leaf': 20, 'lambda_l1': 0, 'lambda_l2': 0, 'min_gain_to_split': 0.0, 'bagging_fraction': 0.75, 'bagging_freq': 1, 'feature_fraction': 0.95}. Best is trial 228 with value: 0.22842937334875865.\u001b[0m\n",
      "\u001b[32m[I 2022-05-08 20:52:28,351]\u001b[0m Trial 787 pruned. Trial was pruned at iteration 1.\u001b[0m\n"
     ]
    },
    {
     "name": "stdout",
     "output_type": "stream",
     "text": [
      "mean_loss 0.22843\n",
      "[LightGBM] [Warning] lambda_l1 is set=0, reg_alpha=0.0 will be ignored. Current value: lambda_l1=0\n",
      "[LightGBM] [Warning] bagging_fraction is set=0.75, subsample=1.0 will be ignored. Current value: bagging_fraction=0.75\n",
      "[LightGBM] [Warning] min_gain_to_split is set=0.0, min_split_gain=0.0 will be ignored. Current value: min_gain_to_split=0.0\n",
      "[LightGBM] [Warning] lambda_l2 is set=0, reg_lambda=0.0 will be ignored. Current value: lambda_l2=0\n",
      "[LightGBM] [Warning] feature_fraction is set=0.95, colsample_bytree=1.0 will be ignored. Current value: feature_fraction=0.95\n",
      "[LightGBM] [Warning] min_data_in_leaf is set=20, min_child_samples=20 will be ignored. Current value: min_data_in_leaf=20\n",
      "[LightGBM] [Warning] bagging_freq is set=1, subsample_freq=0 will be ignored. Current value: bagging_freq=1\n"
     ]
    },
    {
     "name": "stderr",
     "output_type": "stream",
     "text": [
      "\u001b[32m[I 2022-05-08 20:52:28,512]\u001b[0m Trial 788 pruned. Trial was pruned at iteration 1.\u001b[0m\n",
      "\u001b[32m[I 2022-05-08 20:52:29,947]\u001b[0m Trial 789 finished with value: 0.22842937334875865 and parameters: {'n_estimators': 10000, 'learning_rate': 0.05, 'num_leaves': 180, 'max_depth': 12, 'min_data_in_leaf': 20, 'lambda_l1': 0, 'lambda_l2': 0, 'min_gain_to_split': 0.0, 'bagging_fraction': 0.75, 'bagging_freq': 1, 'feature_fraction': 0.95}. Best is trial 228 with value: 0.22842937334875865.\u001b[0m\n",
      "\u001b[32m[I 2022-05-08 20:52:30,110]\u001b[0m Trial 790 pruned. Trial was pruned at iteration 3.\u001b[0m\n"
     ]
    },
    {
     "name": "stdout",
     "output_type": "stream",
     "text": [
      "mean_loss 0.22843\n",
      "[LightGBM] [Warning] lambda_l1 is set=0, reg_alpha=0.0 will be ignored. Current value: lambda_l1=0\n",
      "[LightGBM] [Warning] bagging_fraction is set=0.65, subsample=1.0 will be ignored. Current value: bagging_fraction=0.65\n",
      "[LightGBM] [Warning] min_gain_to_split is set=0.0, min_split_gain=0.0 will be ignored. Current value: min_gain_to_split=0.0\n",
      "[LightGBM] [Warning] lambda_l2 is set=0, reg_lambda=0.0 will be ignored. Current value: lambda_l2=0\n",
      "[LightGBM] [Warning] feature_fraction is set=0.95, colsample_bytree=1.0 will be ignored. Current value: feature_fraction=0.95\n",
      "[LightGBM] [Warning] min_data_in_leaf is set=20, min_child_samples=20 will be ignored. Current value: min_data_in_leaf=20\n",
      "[LightGBM] [Warning] bagging_freq is set=1, subsample_freq=0 will be ignored. Current value: bagging_freq=1\n"
     ]
    },
    {
     "name": "stderr",
     "output_type": "stream",
     "text": [
      "\u001b[32m[I 2022-05-08 20:52:30,291]\u001b[0m Trial 791 pruned. Trial was pruned at iteration 0.\u001b[0m\n",
      "\u001b[32m[I 2022-05-08 20:52:30,521]\u001b[0m Trial 792 pruned. Trial was pruned at iteration 0.\u001b[0m\n",
      "\u001b[32m[I 2022-05-08 20:52:30,708]\u001b[0m Trial 793 pruned. Trial was pruned at iteration 1.\u001b[0m\n",
      "\u001b[32m[I 2022-05-08 20:52:30,859]\u001b[0m Trial 794 pruned. Trial was pruned at iteration 0.\u001b[0m\n",
      "\u001b[32m[I 2022-05-08 20:52:31,006]\u001b[0m Trial 795 pruned. Trial was pruned at iteration 0.\u001b[0m\n",
      "\u001b[32m[I 2022-05-08 20:52:32,073]\u001b[0m Trial 796 finished with value: 0.22842937334875865 and parameters: {'n_estimators': 10000, 'learning_rate': 0.05, 'num_leaves': 180, 'max_depth': 12, 'min_data_in_leaf': 20, 'lambda_l1': 0, 'lambda_l2': 0, 'min_gain_to_split': 0.0, 'bagging_fraction': 0.75, 'bagging_freq': 1, 'feature_fraction': 0.95}. Best is trial 228 with value: 0.22842937334875865.\u001b[0m\n",
      "\u001b[32m[I 2022-05-08 20:52:32,217]\u001b[0m Trial 797 pruned. Trial was pruned at iteration 0.\u001b[0m\n"
     ]
    },
    {
     "name": "stdout",
     "output_type": "stream",
     "text": [
      "mean_loss 0.22843\n",
      "[LightGBM] [Warning] lambda_l1 is set=40, reg_alpha=0.0 will be ignored. Current value: lambda_l1=40\n",
      "[LightGBM] [Warning] bagging_fraction is set=0.75, subsample=1.0 will be ignored. Current value: bagging_fraction=0.75\n",
      "[LightGBM] [Warning] min_gain_to_split is set=0.0, min_split_gain=0.0 will be ignored. Current value: min_gain_to_split=0.0\n",
      "[LightGBM] [Warning] lambda_l2 is set=0, reg_lambda=0.0 will be ignored. Current value: lambda_l2=0\n",
      "[LightGBM] [Warning] feature_fraction is set=0.95, colsample_bytree=1.0 will be ignored. Current value: feature_fraction=0.95\n",
      "[LightGBM] [Warning] min_data_in_leaf is set=20, min_child_samples=20 will be ignored. Current value: min_data_in_leaf=20\n",
      "[LightGBM] [Warning] bagging_freq is set=1, subsample_freq=0 will be ignored. Current value: bagging_freq=1\n"
     ]
    },
    {
     "name": "stderr",
     "output_type": "stream",
     "text": [
      "\u001b[32m[I 2022-05-08 20:52:32,362]\u001b[0m Trial 798 pruned. Trial was pruned at iteration 0.\u001b[0m\n",
      "\u001b[32m[I 2022-05-08 20:52:32,535]\u001b[0m Trial 799 pruned. Trial was pruned at iteration 4.\u001b[0m\n",
      "\u001b[32m[I 2022-05-08 20:52:32,679]\u001b[0m Trial 800 pruned. Trial was pruned at iteration 0.\u001b[0m\n",
      "\u001b[32m[I 2022-05-08 20:52:32,830]\u001b[0m Trial 801 pruned. Trial was pruned at iteration 0.\u001b[0m\n",
      "\u001b[32m[I 2022-05-08 20:52:33,028]\u001b[0m Trial 802 pruned. Trial was pruned at iteration 0.\u001b[0m\n",
      "\u001b[32m[I 2022-05-08 20:52:33,193]\u001b[0m Trial 803 pruned. Trial was pruned at iteration 0.\u001b[0m\n",
      "\u001b[32m[I 2022-05-08 20:52:34,379]\u001b[0m Trial 804 finished with value: 0.22842937334875865 and parameters: {'n_estimators': 10000, 'learning_rate': 0.05, 'num_leaves': 180, 'max_depth': 12, 'min_data_in_leaf': 20, 'lambda_l1': 0, 'lambda_l2': 0, 'min_gain_to_split': 0.0, 'bagging_fraction': 0.75, 'bagging_freq': 1, 'feature_fraction': 0.95}. Best is trial 228 with value: 0.22842937334875865.\u001b[0m\n"
     ]
    },
    {
     "name": "stdout",
     "output_type": "stream",
     "text": [
      "mean_loss 0.22843\n",
      "[LightGBM] [Warning] lambda_l1 is set=0, reg_alpha=0.0 will be ignored. Current value: lambda_l1=0\n",
      "[LightGBM] [Warning] bagging_fraction is set=0.75, subsample=1.0 will be ignored. Current value: bagging_fraction=0.75\n",
      "[LightGBM] [Warning] min_gain_to_split is set=0.0, min_split_gain=0.0 will be ignored. Current value: min_gain_to_split=0.0\n",
      "[LightGBM] [Warning] lambda_l2 is set=0, reg_lambda=0.0 will be ignored. Current value: lambda_l2=0\n",
      "[LightGBM] [Warning] feature_fraction is set=0.95, colsample_bytree=1.0 will be ignored. Current value: feature_fraction=0.95\n",
      "[LightGBM] [Warning] min_data_in_leaf is set=20, min_child_samples=20 will be ignored. Current value: min_data_in_leaf=20\n",
      "[LightGBM] [Warning] bagging_freq is set=1, subsample_freq=0 will be ignored. Current value: bagging_freq=1\n"
     ]
    },
    {
     "name": "stderr",
     "output_type": "stream",
     "text": [
      "\u001b[32m[I 2022-05-08 20:52:35,506]\u001b[0m Trial 805 finished with value: 0.22842937334875865 and parameters: {'n_estimators': 10000, 'learning_rate': 0.05, 'num_leaves': 180, 'max_depth': 12, 'min_data_in_leaf': 20, 'lambda_l1': 0, 'lambda_l2': 0, 'min_gain_to_split': 0.0, 'bagging_fraction': 0.75, 'bagging_freq': 1, 'feature_fraction': 0.95}. Best is trial 228 with value: 0.22842937334875865.\u001b[0m\n",
      "\u001b[32m[I 2022-05-08 20:52:35,648]\u001b[0m Trial 806 pruned. Trial was pruned at iteration 0.\u001b[0m\n"
     ]
    },
    {
     "name": "stdout",
     "output_type": "stream",
     "text": [
      "mean_loss 0.22843\n",
      "[LightGBM] [Warning] lambda_l1 is set=0, reg_alpha=0.0 will be ignored. Current value: lambda_l1=0\n",
      "[LightGBM] [Warning] bagging_fraction is set=0.75, subsample=1.0 will be ignored. Current value: bagging_fraction=0.75\n",
      "[LightGBM] [Warning] min_gain_to_split is set=0.0, min_split_gain=0.0 will be ignored. Current value: min_gain_to_split=0.0\n",
      "[LightGBM] [Warning] lambda_l2 is set=20, reg_lambda=0.0 will be ignored. Current value: lambda_l2=20\n",
      "[LightGBM] [Warning] feature_fraction is set=0.95, colsample_bytree=1.0 will be ignored. Current value: feature_fraction=0.95\n",
      "[LightGBM] [Warning] min_data_in_leaf is set=20, min_child_samples=20 will be ignored. Current value: min_data_in_leaf=20\n",
      "[LightGBM] [Warning] bagging_freq is set=1, subsample_freq=0 will be ignored. Current value: bagging_freq=1\n"
     ]
    },
    {
     "name": "stderr",
     "output_type": "stream",
     "text": [
      "\u001b[32m[I 2022-05-08 20:52:35,804]\u001b[0m Trial 807 pruned. Trial was pruned at iteration 1.\u001b[0m\n",
      "\u001b[32m[I 2022-05-08 20:52:35,980]\u001b[0m Trial 808 pruned. Trial was pruned at iteration 4.\u001b[0m\n",
      "\u001b[32m[I 2022-05-08 20:52:36,136]\u001b[0m Trial 809 pruned. Trial was pruned at iteration 0.\u001b[0m\n",
      "\u001b[32m[I 2022-05-08 20:52:37,375]\u001b[0m Trial 810 finished with value: 0.22842937334875865 and parameters: {'n_estimators': 10000, 'learning_rate': 0.05, 'num_leaves': 180, 'max_depth': 12, 'min_data_in_leaf': 20, 'lambda_l1': 0, 'lambda_l2': 0, 'min_gain_to_split': 0.0, 'bagging_fraction': 0.75, 'bagging_freq': 1, 'feature_fraction': 0.95}. Best is trial 228 with value: 0.22842937334875865.\u001b[0m\n"
     ]
    },
    {
     "name": "stdout",
     "output_type": "stream",
     "text": [
      "mean_loss 0.22843\n",
      "[LightGBM] [Warning] lambda_l1 is set=0, reg_alpha=0.0 will be ignored. Current value: lambda_l1=0\n",
      "[LightGBM] [Warning] bagging_fraction is set=0.75, subsample=1.0 will be ignored. Current value: bagging_fraction=0.75\n",
      "[LightGBM] [Warning] min_gain_to_split is set=0.0, min_split_gain=0.0 will be ignored. Current value: min_gain_to_split=0.0\n",
      "[LightGBM] [Warning] lambda_l2 is set=0, reg_lambda=0.0 will be ignored. Current value: lambda_l2=0\n",
      "[LightGBM] [Warning] feature_fraction is set=0.95, colsample_bytree=1.0 will be ignored. Current value: feature_fraction=0.95\n",
      "[LightGBM] [Warning] min_data_in_leaf is set=20, min_child_samples=20 will be ignored. Current value: min_data_in_leaf=20\n",
      "[LightGBM] [Warning] bagging_freq is set=1, subsample_freq=0 will be ignored. Current value: bagging_freq=1\n"
     ]
    },
    {
     "name": "stderr",
     "output_type": "stream",
     "text": [
      "\u001b[32m[I 2022-05-08 20:52:38,691]\u001b[0m Trial 811 finished with value: 0.22842937334875865 and parameters: {'n_estimators': 10000, 'learning_rate': 0.05, 'num_leaves': 180, 'max_depth': 12, 'min_data_in_leaf': 20, 'lambda_l1': 0, 'lambda_l2': 0, 'min_gain_to_split': 0.0, 'bagging_fraction': 0.75, 'bagging_freq': 1, 'feature_fraction': 0.95}. Best is trial 228 with value: 0.22842937334875865.\u001b[0m\n",
      "\u001b[32m[I 2022-05-08 20:52:38,833]\u001b[0m Trial 812 pruned. Trial was pruned at iteration 0.\u001b[0m\n"
     ]
    },
    {
     "name": "stdout",
     "output_type": "stream",
     "text": [
      "mean_loss 0.22843\n",
      "[LightGBM] [Warning] lambda_l1 is set=0, reg_alpha=0.0 will be ignored. Current value: lambda_l1=0\n",
      "[LightGBM] [Warning] bagging_fraction is set=0.75, subsample=1.0 will be ignored. Current value: bagging_fraction=0.75\n",
      "[LightGBM] [Warning] min_gain_to_split is set=0.0, min_split_gain=0.0 will be ignored. Current value: min_gain_to_split=0.0\n",
      "[LightGBM] [Warning] lambda_l2 is set=0, reg_lambda=0.0 will be ignored. Current value: lambda_l2=0\n",
      "[LightGBM] [Warning] feature_fraction is set=0.95, colsample_bytree=1.0 will be ignored. Current value: feature_fraction=0.95\n",
      "[LightGBM] [Warning] min_data_in_leaf is set=20, min_child_samples=20 will be ignored. Current value: min_data_in_leaf=20\n",
      "[LightGBM] [Warning] bagging_freq is set=1, subsample_freq=0 will be ignored. Current value: bagging_freq=1\n"
     ]
    },
    {
     "name": "stderr",
     "output_type": "stream",
     "text": [
      "\u001b[32m[I 2022-05-08 20:52:38,983]\u001b[0m Trial 813 pruned. Trial was pruned at iteration 1.\u001b[0m\n",
      "\u001b[32m[I 2022-05-08 20:52:40,250]\u001b[0m Trial 814 finished with value: 0.22842937334875865 and parameters: {'n_estimators': 10000, 'learning_rate': 0.05, 'num_leaves': 180, 'max_depth': 12, 'min_data_in_leaf': 20, 'lambda_l1': 0, 'lambda_l2': 0, 'min_gain_to_split': 0.0, 'bagging_fraction': 0.75, 'bagging_freq': 1, 'feature_fraction': 0.95}. Best is trial 228 with value: 0.22842937334875865.\u001b[0m\n",
      "\u001b[32m[I 2022-05-08 20:52:40,413]\u001b[0m Trial 815 pruned. Trial was pruned at iteration 0.\u001b[0m\n"
     ]
    },
    {
     "name": "stdout",
     "output_type": "stream",
     "text": [
      "mean_loss 0.22843\n",
      "[LightGBM] [Warning] lambda_l1 is set=0, reg_alpha=0.0 will be ignored. Current value: lambda_l1=0\n",
      "[LightGBM] [Warning] bagging_fraction is set=0.75, subsample=1.0 will be ignored. Current value: bagging_fraction=0.75\n",
      "[LightGBM] [Warning] min_gain_to_split is set=0.0, min_split_gain=0.0 will be ignored. Current value: min_gain_to_split=0.0\n",
      "[LightGBM] [Warning] lambda_l2 is set=0, reg_lambda=0.0 will be ignored. Current value: lambda_l2=0\n",
      "[LightGBM] [Warning] feature_fraction is set=0.95, colsample_bytree=1.0 will be ignored. Current value: feature_fraction=0.95\n",
      "[LightGBM] [Warning] min_data_in_leaf is set=20, min_child_samples=20 will be ignored. Current value: min_data_in_leaf=20\n",
      "[LightGBM] [Warning] bagging_freq is set=1, subsample_freq=0 will be ignored. Current value: bagging_freq=1\n"
     ]
    },
    {
     "name": "stderr",
     "output_type": "stream",
     "text": [
      "\u001b[32m[I 2022-05-08 20:52:40,624]\u001b[0m Trial 816 pruned. Trial was pruned at iteration 0.\u001b[0m\n",
      "\u001b[32m[I 2022-05-08 20:52:40,803]\u001b[0m Trial 817 pruned. Trial was pruned at iteration 5.\u001b[0m\n",
      "\u001b[32m[I 2022-05-08 20:52:41,024]\u001b[0m Trial 818 pruned. Trial was pruned at iteration 6.\u001b[0m\n",
      "\u001b[32m[I 2022-05-08 20:52:41,174]\u001b[0m Trial 819 pruned. Trial was pruned at iteration 1.\u001b[0m\n",
      "\u001b[32m[I 2022-05-08 20:52:41,318]\u001b[0m Trial 820 pruned. Trial was pruned at iteration 0.\u001b[0m\n",
      "\u001b[32m[I 2022-05-08 20:52:41,459]\u001b[0m Trial 821 pruned. Trial was pruned at iteration 0.\u001b[0m\n",
      "\u001b[32m[I 2022-05-08 20:52:41,612]\u001b[0m Trial 822 pruned. Trial was pruned at iteration 0.\u001b[0m\n",
      "\u001b[32m[I 2022-05-08 20:52:41,752]\u001b[0m Trial 823 pruned. Trial was pruned at iteration 0.\u001b[0m\n",
      "\u001b[32m[I 2022-05-08 20:52:41,896]\u001b[0m Trial 824 pruned. Trial was pruned at iteration 0.\u001b[0m\n",
      "\u001b[32m[I 2022-05-08 20:52:42,048]\u001b[0m Trial 825 pruned. Trial was pruned at iteration 1.\u001b[0m\n",
      "\u001b[32m[I 2022-05-08 20:52:42,195]\u001b[0m Trial 826 pruned. Trial was pruned at iteration 0.\u001b[0m\n",
      "\u001b[32m[I 2022-05-08 20:52:42,346]\u001b[0m Trial 827 pruned. Trial was pruned at iteration 1.\u001b[0m\n",
      "\u001b[32m[I 2022-05-08 20:52:42,505]\u001b[0m Trial 828 pruned. Trial was pruned at iteration 2.\u001b[0m\n",
      "\u001b[32m[I 2022-05-08 20:52:43,670]\u001b[0m Trial 829 finished with value: 0.22842937334875865 and parameters: {'n_estimators': 10000, 'learning_rate': 0.05, 'num_leaves': 180, 'max_depth': 12, 'min_data_in_leaf': 20, 'lambda_l1': 0, 'lambda_l2': 0, 'min_gain_to_split': 0.0, 'bagging_fraction': 0.75, 'bagging_freq': 1, 'feature_fraction': 0.95}. Best is trial 228 with value: 0.22842937334875865.\u001b[0m\n",
      "\u001b[32m[I 2022-05-08 20:52:43,813]\u001b[0m Trial 830 pruned. Trial was pruned at iteration 0.\u001b[0m\n"
     ]
    },
    {
     "name": "stdout",
     "output_type": "stream",
     "text": [
      "mean_loss 0.22843\n",
      "[LightGBM] [Warning] lambda_l1 is set=0, reg_alpha=0.0 will be ignored. Current value: lambda_l1=0\n",
      "[LightGBM] [Warning] bagging_fraction is set=0.75, subsample=1.0 will be ignored. Current value: bagging_fraction=0.75\n",
      "[LightGBM] [Warning] min_gain_to_split is set=0.0, min_split_gain=0.0 will be ignored. Current value: min_gain_to_split=0.0\n",
      "[LightGBM] [Warning] lambda_l2 is set=40, reg_lambda=0.0 will be ignored. Current value: lambda_l2=40\n",
      "[LightGBM] [Warning] feature_fraction is set=0.95, colsample_bytree=1.0 will be ignored. Current value: feature_fraction=0.95\n",
      "[LightGBM] [Warning] min_data_in_leaf is set=20, min_child_samples=20 will be ignored. Current value: min_data_in_leaf=20\n",
      "[LightGBM] [Warning] bagging_freq is set=1, subsample_freq=0 will be ignored. Current value: bagging_freq=1\n"
     ]
    },
    {
     "name": "stderr",
     "output_type": "stream",
     "text": [
      "\u001b[32m[I 2022-05-08 20:52:43,969]\u001b[0m Trial 831 pruned. Trial was pruned at iteration 1.\u001b[0m\n",
      "\u001b[32m[I 2022-05-08 20:52:44,114]\u001b[0m Trial 832 pruned. Trial was pruned at iteration 0.\u001b[0m\n",
      "\u001b[32m[I 2022-05-08 20:52:44,268]\u001b[0m Trial 833 pruned. Trial was pruned at iteration 1.\u001b[0m\n",
      "\u001b[32m[I 2022-05-08 20:52:45,440]\u001b[0m Trial 834 finished with value: 0.22842937334875865 and parameters: {'n_estimators': 10000, 'learning_rate': 0.05, 'num_leaves': 180, 'max_depth': 12, 'min_data_in_leaf': 20, 'lambda_l1': 0, 'lambda_l2': 0, 'min_gain_to_split': 0.0, 'bagging_fraction': 0.75, 'bagging_freq': 1, 'feature_fraction': 0.95}. Best is trial 228 with value: 0.22842937334875865.\u001b[0m\n",
      "\u001b[32m[I 2022-05-08 20:52:45,591]\u001b[0m Trial 835 pruned. Trial was pruned at iteration 1.\u001b[0m\n"
     ]
    },
    {
     "name": "stdout",
     "output_type": "stream",
     "text": [
      "mean_loss 0.22843\n",
      "[LightGBM] [Warning] lambda_l1 is set=0, reg_alpha=0.0 will be ignored. Current value: lambda_l1=0\n",
      "[LightGBM] [Warning] bagging_fraction is set=0.75, subsample=1.0 will be ignored. Current value: bagging_fraction=0.75\n",
      "[LightGBM] [Warning] min_gain_to_split is set=0.0, min_split_gain=0.0 will be ignored. Current value: min_gain_to_split=0.0\n",
      "[LightGBM] [Warning] lambda_l2 is set=0, reg_lambda=0.0 will be ignored. Current value: lambda_l2=0\n",
      "[LightGBM] [Warning] feature_fraction is set=0.95, colsample_bytree=1.0 will be ignored. Current value: feature_fraction=0.95\n",
      "[LightGBM] [Warning] min_data_in_leaf is set=20, min_child_samples=20 will be ignored. Current value: min_data_in_leaf=20\n",
      "[LightGBM] [Warning] bagging_freq is set=1, subsample_freq=0 will be ignored. Current value: bagging_freq=1\n"
     ]
    },
    {
     "name": "stderr",
     "output_type": "stream",
     "text": [
      "\u001b[32m[I 2022-05-08 20:52:45,744]\u001b[0m Trial 836 pruned. Trial was pruned at iteration 0.\u001b[0m\n",
      "\u001b[32m[I 2022-05-08 20:52:45,901]\u001b[0m Trial 837 pruned. Trial was pruned at iteration 0.\u001b[0m\n",
      "\u001b[32m[I 2022-05-08 20:52:46,047]\u001b[0m Trial 838 pruned. Trial was pruned at iteration 0.\u001b[0m\n",
      "\u001b[32m[I 2022-05-08 20:52:46,199]\u001b[0m Trial 839 pruned. Trial was pruned at iteration 1.\u001b[0m\n",
      "\u001b[32m[I 2022-05-08 20:52:46,342]\u001b[0m Trial 840 pruned. Trial was pruned at iteration 0.\u001b[0m\n",
      "\u001b[32m[I 2022-05-08 20:52:46,498]\u001b[0m Trial 841 pruned. Trial was pruned at iteration 1.\u001b[0m\n",
      "\u001b[32m[I 2022-05-08 20:52:46,640]\u001b[0m Trial 842 pruned. Trial was pruned at iteration 0.\u001b[0m\n",
      "\u001b[32m[I 2022-05-08 20:52:46,785]\u001b[0m Trial 843 pruned. Trial was pruned at iteration 0.\u001b[0m\n",
      "\u001b[32m[I 2022-05-08 20:52:46,931]\u001b[0m Trial 844 pruned. Trial was pruned at iteration 0.\u001b[0m\n",
      "\u001b[32m[I 2022-05-08 20:52:47,081]\u001b[0m Trial 845 pruned. Trial was pruned at iteration 0.\u001b[0m\n",
      "\u001b[32m[I 2022-05-08 20:52:47,228]\u001b[0m Trial 846 pruned. Trial was pruned at iteration 0.\u001b[0m\n",
      "\u001b[32m[I 2022-05-08 20:52:47,376]\u001b[0m Trial 847 pruned. Trial was pruned at iteration 0.\u001b[0m\n",
      "\u001b[32m[I 2022-05-08 20:52:47,522]\u001b[0m Trial 848 pruned. Trial was pruned at iteration 0.\u001b[0m\n",
      "\u001b[32m[I 2022-05-08 20:52:47,673]\u001b[0m Trial 849 pruned. Trial was pruned at iteration 0.\u001b[0m\n",
      "\u001b[32m[I 2022-05-08 20:52:48,791]\u001b[0m Trial 850 finished with value: 0.22842937334875865 and parameters: {'n_estimators': 10000, 'learning_rate': 0.05, 'num_leaves': 180, 'max_depth': 12, 'min_data_in_leaf': 20, 'lambda_l1': 0, 'lambda_l2': 0, 'min_gain_to_split': 0.0, 'bagging_fraction': 0.75, 'bagging_freq': 1, 'feature_fraction': 0.95}. Best is trial 228 with value: 0.22842937334875865.\u001b[0m\n",
      "\u001b[32m[I 2022-05-08 20:52:48,956]\u001b[0m Trial 851 pruned. Trial was pruned at iteration 0.\u001b[0m\n"
     ]
    },
    {
     "name": "stdout",
     "output_type": "stream",
     "text": [
      "mean_loss 0.22843\n",
      "[LightGBM] [Warning] lambda_l1 is set=0, reg_alpha=0.0 will be ignored. Current value: lambda_l1=0\n",
      "[LightGBM] [Warning] bagging_fraction is set=0.75, subsample=1.0 will be ignored. Current value: bagging_fraction=0.75\n",
      "[LightGBM] [Warning] min_gain_to_split is set=0.0, min_split_gain=0.0 will be ignored. Current value: min_gain_to_split=0.0\n",
      "[LightGBM] [Warning] lambda_l2 is set=0, reg_lambda=0.0 will be ignored. Current value: lambda_l2=0\n",
      "[LightGBM] [Warning] feature_fraction is set=0.95, colsample_bytree=1.0 will be ignored. Current value: feature_fraction=0.95\n",
      "[LightGBM] [Warning] min_data_in_leaf is set=20, min_child_samples=20 will be ignored. Current value: min_data_in_leaf=20\n",
      "[LightGBM] [Warning] bagging_freq is set=1, subsample_freq=0 will be ignored. Current value: bagging_freq=1\n"
     ]
    },
    {
     "name": "stderr",
     "output_type": "stream",
     "text": [
      "\u001b[32m[I 2022-05-08 20:52:49,138]\u001b[0m Trial 852 pruned. Trial was pruned at iteration 5.\u001b[0m\n",
      "\u001b[32m[I 2022-05-08 20:52:49,325]\u001b[0m Trial 853 pruned. Trial was pruned at iteration 0.\u001b[0m\n",
      "\u001b[32m[I 2022-05-08 20:52:49,749]\u001b[0m Trial 854 pruned. Trial was pruned at iteration 12.\u001b[0m\n",
      "\u001b[32m[I 2022-05-08 20:52:49,900]\u001b[0m Trial 855 pruned. Trial was pruned at iteration 0.\u001b[0m\n",
      "\u001b[32m[I 2022-05-08 20:52:50,085]\u001b[0m Trial 856 pruned. Trial was pruned at iteration 0.\u001b[0m\n",
      "\u001b[32m[I 2022-05-08 20:52:51,886]\u001b[0m Trial 857 finished with value: 0.22842937334875865 and parameters: {'n_estimators': 10000, 'learning_rate': 0.05, 'num_leaves': 180, 'max_depth': 12, 'min_data_in_leaf': 20, 'lambda_l1': 0, 'lambda_l2': 0, 'min_gain_to_split': 0.0, 'bagging_fraction': 0.75, 'bagging_freq': 1, 'feature_fraction': 0.95}. Best is trial 228 with value: 0.22842937334875865.\u001b[0m\n",
      "\u001b[32m[I 2022-05-08 20:52:52,068]\u001b[0m Trial 858 pruned. Trial was pruned at iteration 0.\u001b[0m\n"
     ]
    },
    {
     "name": "stdout",
     "output_type": "stream",
     "text": [
      "mean_loss 0.22843\n",
      "[LightGBM] [Warning] lambda_l1 is set=40, reg_alpha=0.0 will be ignored. Current value: lambda_l1=40\n",
      "[LightGBM] [Warning] bagging_fraction is set=0.65, subsample=1.0 will be ignored. Current value: bagging_fraction=0.65\n",
      "[LightGBM] [Warning] min_gain_to_split is set=0.0, min_split_gain=0.0 will be ignored. Current value: min_gain_to_split=0.0\n",
      "[LightGBM] [Warning] lambda_l2 is set=0, reg_lambda=0.0 will be ignored. Current value: lambda_l2=0\n",
      "[LightGBM] [Warning] feature_fraction is set=0.95, colsample_bytree=1.0 will be ignored. Current value: feature_fraction=0.95\n",
      "[LightGBM] [Warning] min_data_in_leaf is set=20, min_child_samples=20 will be ignored. Current value: min_data_in_leaf=20\n",
      "[LightGBM] [Warning] bagging_freq is set=1, subsample_freq=0 will be ignored. Current value: bagging_freq=1\n"
     ]
    },
    {
     "name": "stderr",
     "output_type": "stream",
     "text": [
      "\u001b[32m[I 2022-05-08 20:52:54,350]\u001b[0m Trial 859 finished with value: 0.22842937334875865 and parameters: {'n_estimators': 10000, 'learning_rate': 0.05, 'num_leaves': 180, 'max_depth': 12, 'min_data_in_leaf': 20, 'lambda_l1': 0, 'lambda_l2': 0, 'min_gain_to_split': 0.0, 'bagging_fraction': 0.75, 'bagging_freq': 1, 'feature_fraction': 0.95}. Best is trial 228 with value: 0.22842937334875865.\u001b[0m\n"
     ]
    },
    {
     "name": "stdout",
     "output_type": "stream",
     "text": [
      "mean_loss 0.22843\n",
      "[LightGBM] [Warning] lambda_l1 is set=0, reg_alpha=0.0 will be ignored. Current value: lambda_l1=0\n",
      "[LightGBM] [Warning] bagging_fraction is set=0.75, subsample=1.0 will be ignored. Current value: bagging_fraction=0.75\n",
      "[LightGBM] [Warning] min_gain_to_split is set=0.0, min_split_gain=0.0 will be ignored. Current value: min_gain_to_split=0.0\n",
      "[LightGBM] [Warning] lambda_l2 is set=0, reg_lambda=0.0 will be ignored. Current value: lambda_l2=0\n",
      "[LightGBM] [Warning] feature_fraction is set=0.95, colsample_bytree=1.0 will be ignored. Current value: feature_fraction=0.95\n",
      "[LightGBM] [Warning] min_data_in_leaf is set=20, min_child_samples=20 will be ignored. Current value: min_data_in_leaf=20\n",
      "[LightGBM] [Warning] bagging_freq is set=1, subsample_freq=0 will be ignored. Current value: bagging_freq=1\n"
     ]
    },
    {
     "name": "stderr",
     "output_type": "stream",
     "text": [
      "\u001b[32m[I 2022-05-08 20:52:56,265]\u001b[0m Trial 860 finished with value: 0.22842937334875865 and parameters: {'n_estimators': 10000, 'learning_rate': 0.05, 'num_leaves': 180, 'max_depth': 12, 'min_data_in_leaf': 20, 'lambda_l1': 0, 'lambda_l2': 0, 'min_gain_to_split': 0.0, 'bagging_fraction': 0.75, 'bagging_freq': 1, 'feature_fraction': 0.95}. Best is trial 228 with value: 0.22842937334875865.\u001b[0m\n",
      "\u001b[32m[I 2022-05-08 20:52:56,429]\u001b[0m Trial 861 pruned. Trial was pruned at iteration 0.\u001b[0m\n"
     ]
    },
    {
     "name": "stdout",
     "output_type": "stream",
     "text": [
      "mean_loss 0.22843\n",
      "[LightGBM] [Warning] lambda_l1 is set=0, reg_alpha=0.0 will be ignored. Current value: lambda_l1=0\n",
      "[LightGBM] [Warning] bagging_fraction is set=0.75, subsample=1.0 will be ignored. Current value: bagging_fraction=0.75\n",
      "[LightGBM] [Warning] min_gain_to_split is set=0.0, min_split_gain=0.0 will be ignored. Current value: min_gain_to_split=0.0\n",
      "[LightGBM] [Warning] lambda_l2 is set=0, reg_lambda=0.0 will be ignored. Current value: lambda_l2=0\n",
      "[LightGBM] [Warning] feature_fraction is set=0.95, colsample_bytree=1.0 will be ignored. Current value: feature_fraction=0.95\n",
      "[LightGBM] [Warning] min_data_in_leaf is set=20, min_child_samples=20 will be ignored. Current value: min_data_in_leaf=20\n",
      "[LightGBM] [Warning] bagging_freq is set=1, subsample_freq=0 will be ignored. Current value: bagging_freq=1\n"
     ]
    },
    {
     "name": "stderr",
     "output_type": "stream",
     "text": [
      "\u001b[32m[I 2022-05-08 20:52:56,600]\u001b[0m Trial 862 pruned. Trial was pruned at iteration 1.\u001b[0m\n",
      "\u001b[32m[I 2022-05-08 20:52:56,758]\u001b[0m Trial 863 pruned. Trial was pruned at iteration 1.\u001b[0m\n",
      "\u001b[32m[I 2022-05-08 20:52:56,908]\u001b[0m Trial 864 pruned. Trial was pruned at iteration 0.\u001b[0m\n",
      "\u001b[32m[I 2022-05-08 20:52:57,071]\u001b[0m Trial 865 pruned. Trial was pruned at iteration 1.\u001b[0m\n",
      "\u001b[32m[I 2022-05-08 20:52:57,227]\u001b[0m Trial 866 pruned. Trial was pruned at iteration 0.\u001b[0m\n",
      "\u001b[32m[I 2022-05-08 20:52:57,460]\u001b[0m Trial 867 pruned. Trial was pruned at iteration 9.\u001b[0m\n",
      "\u001b[32m[I 2022-05-08 20:52:58,950]\u001b[0m Trial 868 finished with value: 0.22842937334875865 and parameters: {'n_estimators': 10000, 'learning_rate': 0.05, 'num_leaves': 180, 'max_depth': 12, 'min_data_in_leaf': 20, 'lambda_l1': 0, 'lambda_l2': 0, 'min_gain_to_split': 0.0, 'bagging_fraction': 0.75, 'bagging_freq': 1, 'feature_fraction': 0.95}. Best is trial 228 with value: 0.22842937334875865.\u001b[0m\n",
      "\u001b[32m[I 2022-05-08 20:52:59,105]\u001b[0m Trial 869 pruned. Trial was pruned at iteration 0.\u001b[0m\n"
     ]
    },
    {
     "name": "stdout",
     "output_type": "stream",
     "text": [
      "mean_loss 0.22843\n",
      "[LightGBM] [Warning] lambda_l1 is set=0, reg_alpha=0.0 will be ignored. Current value: lambda_l1=0\n",
      "[LightGBM] [Warning] bagging_fraction is set=0.8500000000000001, subsample=1.0 will be ignored. Current value: bagging_fraction=0.8500000000000001\n",
      "[LightGBM] [Warning] min_gain_to_split is set=0.0, min_split_gain=0.0 will be ignored. Current value: min_gain_to_split=0.0\n",
      "[LightGBM] [Warning] lambda_l2 is set=0, reg_lambda=0.0 will be ignored. Current value: lambda_l2=0\n",
      "[LightGBM] [Warning] feature_fraction is set=0.95, colsample_bytree=1.0 will be ignored. Current value: feature_fraction=0.95\n",
      "[LightGBM] [Warning] min_data_in_leaf is set=20, min_child_samples=20 will be ignored. Current value: min_data_in_leaf=20\n",
      "[LightGBM] [Warning] bagging_freq is set=1, subsample_freq=0 will be ignored. Current value: bagging_freq=1\n"
     ]
    },
    {
     "name": "stderr",
     "output_type": "stream",
     "text": [
      "\u001b[32m[I 2022-05-08 20:52:59,262]\u001b[0m Trial 870 pruned. Trial was pruned at iteration 0.\u001b[0m\n",
      "\u001b[32m[I 2022-05-08 20:52:59,411]\u001b[0m Trial 871 pruned. Trial was pruned at iteration 0.\u001b[0m\n",
      "\u001b[32m[I 2022-05-08 20:52:59,559]\u001b[0m Trial 872 pruned. Trial was pruned at iteration 0.\u001b[0m\n",
      "\u001b[32m[I 2022-05-08 20:52:59,720]\u001b[0m Trial 873 pruned. Trial was pruned at iteration 1.\u001b[0m\n",
      "\u001b[32m[I 2022-05-08 20:52:59,873]\u001b[0m Trial 874 pruned. Trial was pruned at iteration 0.\u001b[0m\n",
      "\u001b[32m[I 2022-05-08 20:53:00,039]\u001b[0m Trial 875 pruned. Trial was pruned at iteration 1.\u001b[0m\n",
      "\u001b[32m[I 2022-05-08 20:53:00,211]\u001b[0m Trial 876 pruned. Trial was pruned at iteration 3.\u001b[0m\n",
      "\u001b[32m[I 2022-05-08 20:53:00,407]\u001b[0m Trial 877 pruned. Trial was pruned at iteration 5.\u001b[0m\n",
      "\u001b[32m[I 2022-05-08 20:53:00,565]\u001b[0m Trial 878 pruned. Trial was pruned at iteration 0.\u001b[0m\n",
      "\u001b[32m[I 2022-05-08 20:53:00,722]\u001b[0m Trial 879 pruned. Trial was pruned at iteration 0.\u001b[0m\n",
      "\u001b[32m[I 2022-05-08 20:53:00,943]\u001b[0m Trial 880 pruned. Trial was pruned at iteration 1.\u001b[0m\n",
      "\u001b[32m[I 2022-05-08 20:53:03,611]\u001b[0m Trial 881 finished with value: 0.22842937334875865 and parameters: {'n_estimators': 10000, 'learning_rate': 0.05, 'num_leaves': 180, 'max_depth': 12, 'min_data_in_leaf': 20, 'lambda_l1': 0, 'lambda_l2': 0, 'min_gain_to_split': 0.0, 'bagging_fraction': 0.75, 'bagging_freq': 1, 'feature_fraction': 0.95}. Best is trial 228 with value: 0.22842937334875865.\u001b[0m\n"
     ]
    },
    {
     "name": "stdout",
     "output_type": "stream",
     "text": [
      "mean_loss 0.22843\n",
      "[LightGBM] [Warning] lambda_l1 is set=0, reg_alpha=0.0 will be ignored. Current value: lambda_l1=0\n",
      "[LightGBM] [Warning] bagging_fraction is set=0.75, subsample=1.0 will be ignored. Current value: bagging_fraction=0.75\n",
      "[LightGBM] [Warning] min_gain_to_split is set=0.0, min_split_gain=0.0 will be ignored. Current value: min_gain_to_split=0.0\n",
      "[LightGBM] [Warning] lambda_l2 is set=0, reg_lambda=0.0 will be ignored. Current value: lambda_l2=0\n",
      "[LightGBM] [Warning] feature_fraction is set=0.8500000000000001, colsample_bytree=1.0 will be ignored. Current value: feature_fraction=0.8500000000000001\n",
      "[LightGBM] [Warning] min_data_in_leaf is set=20, min_child_samples=20 will be ignored. Current value: min_data_in_leaf=20\n",
      "[LightGBM] [Warning] bagging_freq is set=1, subsample_freq=0 will be ignored. Current value: bagging_freq=1\n"
     ]
    },
    {
     "name": "stderr",
     "output_type": "stream",
     "text": [
      "\u001b[32m[I 2022-05-08 20:53:03,816]\u001b[0m Trial 882 pruned. Trial was pruned at iteration 0.\u001b[0m\n",
      "\u001b[32m[I 2022-05-08 20:53:03,968]\u001b[0m Trial 883 pruned. Trial was pruned at iteration 0.\u001b[0m\n",
      "\u001b[32m[I 2022-05-08 20:53:04,296]\u001b[0m Trial 884 pruned. Trial was pruned at iteration 0.\u001b[0m\n",
      "\u001b[32m[I 2022-05-08 20:53:04,732]\u001b[0m Trial 885 pruned. Trial was pruned at iteration 5.\u001b[0m\n",
      "\u001b[32m[I 2022-05-08 20:53:04,925]\u001b[0m Trial 886 pruned. Trial was pruned at iteration 5.\u001b[0m\n",
      "\u001b[32m[I 2022-05-08 20:53:05,111]\u001b[0m Trial 887 pruned. Trial was pruned at iteration 0.\u001b[0m\n",
      "\u001b[32m[I 2022-05-08 20:53:06,620]\u001b[0m Trial 888 finished with value: 0.22842937334875865 and parameters: {'n_estimators': 10000, 'learning_rate': 0.05, 'num_leaves': 180, 'max_depth': 12, 'min_data_in_leaf': 20, 'lambda_l1': 0, 'lambda_l2': 0, 'min_gain_to_split': 0.0, 'bagging_fraction': 0.75, 'bagging_freq': 1, 'feature_fraction': 0.95}. Best is trial 228 with value: 0.22842937334875865.\u001b[0m\n",
      "\u001b[32m[I 2022-05-08 20:53:06,779]\u001b[0m Trial 889 pruned. Trial was pruned at iteration 0.\u001b[0m\n"
     ]
    },
    {
     "name": "stdout",
     "output_type": "stream",
     "text": [
      "mean_loss 0.22843\n",
      "[LightGBM] [Warning] lambda_l1 is set=0, reg_alpha=0.0 will be ignored. Current value: lambda_l1=0\n",
      "[LightGBM] [Warning] bagging_fraction is set=0.75, subsample=1.0 will be ignored. Current value: bagging_fraction=0.75\n",
      "[LightGBM] [Warning] min_gain_to_split is set=0.0, min_split_gain=0.0 will be ignored. Current value: min_gain_to_split=0.0\n",
      "[LightGBM] [Warning] lambda_l2 is set=0, reg_lambda=0.0 will be ignored. Current value: lambda_l2=0\n",
      "[LightGBM] [Warning] feature_fraction is set=0.95, colsample_bytree=1.0 will be ignored. Current value: feature_fraction=0.95\n",
      "[LightGBM] [Warning] min_data_in_leaf is set=20, min_child_samples=20 will be ignored. Current value: min_data_in_leaf=20\n",
      "[LightGBM] [Warning] bagging_freq is set=1, subsample_freq=0 will be ignored. Current value: bagging_freq=1\n"
     ]
    },
    {
     "name": "stderr",
     "output_type": "stream",
     "text": [
      "\u001b[32m[I 2022-05-08 20:53:06,947]\u001b[0m Trial 890 pruned. Trial was pruned at iteration 1.\u001b[0m\n",
      "\u001b[32m[I 2022-05-08 20:53:07,119]\u001b[0m Trial 891 pruned. Trial was pruned at iteration 2.\u001b[0m\n",
      "\u001b[32m[I 2022-05-08 20:53:08,391]\u001b[0m Trial 892 finished with value: 0.22842937334875865 and parameters: {'n_estimators': 10000, 'learning_rate': 0.05, 'num_leaves': 180, 'max_depth': 12, 'min_data_in_leaf': 20, 'lambda_l1': 0, 'lambda_l2': 0, 'min_gain_to_split': 0.0, 'bagging_fraction': 0.75, 'bagging_freq': 1, 'feature_fraction': 0.95}. Best is trial 228 with value: 0.22842937334875865.\u001b[0m\n",
      "\u001b[32m[I 2022-05-08 20:53:08,540]\u001b[0m Trial 893 pruned. Trial was pruned at iteration 0.\u001b[0m\n"
     ]
    },
    {
     "name": "stdout",
     "output_type": "stream",
     "text": [
      "mean_loss 0.22843\n",
      "[LightGBM] [Warning] lambda_l1 is set=0, reg_alpha=0.0 will be ignored. Current value: lambda_l1=0\n",
      "[LightGBM] [Warning] bagging_fraction is set=0.8500000000000001, subsample=1.0 will be ignored. Current value: bagging_fraction=0.8500000000000001\n",
      "[LightGBM] [Warning] min_gain_to_split is set=0.0, min_split_gain=0.0 will be ignored. Current value: min_gain_to_split=0.0\n",
      "[LightGBM] [Warning] lambda_l2 is set=100, reg_lambda=0.0 will be ignored. Current value: lambda_l2=100\n",
      "[LightGBM] [Warning] feature_fraction is set=0.95, colsample_bytree=1.0 will be ignored. Current value: feature_fraction=0.95\n",
      "[LightGBM] [Warning] min_data_in_leaf is set=20, min_child_samples=20 will be ignored. Current value: min_data_in_leaf=20\n",
      "[LightGBM] [Warning] bagging_freq is set=1, subsample_freq=0 will be ignored. Current value: bagging_freq=1\n"
     ]
    },
    {
     "name": "stderr",
     "output_type": "stream",
     "text": [
      "\u001b[32m[I 2022-05-08 20:53:08,700]\u001b[0m Trial 894 pruned. Trial was pruned at iteration 0.\u001b[0m\n",
      "\u001b[32m[I 2022-05-08 20:53:08,855]\u001b[0m Trial 895 pruned. Trial was pruned at iteration 0.\u001b[0m\n",
      "\u001b[32m[I 2022-05-08 20:53:09,258]\u001b[0m Trial 896 pruned. Trial was pruned at iteration 21.\u001b[0m\n",
      "\u001b[32m[I 2022-05-08 20:53:09,420]\u001b[0m Trial 897 pruned. Trial was pruned at iteration 1.\u001b[0m\n",
      "\u001b[32m[I 2022-05-08 20:53:09,573]\u001b[0m Trial 898 pruned. Trial was pruned at iteration 0.\u001b[0m\n",
      "\u001b[32m[I 2022-05-08 20:53:09,724]\u001b[0m Trial 899 pruned. Trial was pruned at iteration 0.\u001b[0m\n",
      "\u001b[32m[I 2022-05-08 20:53:09,882]\u001b[0m Trial 900 pruned. Trial was pruned at iteration 0.\u001b[0m\n",
      "\u001b[32m[I 2022-05-08 20:53:10,082]\u001b[0m Trial 901 pruned. Trial was pruned at iteration 6.\u001b[0m\n",
      "\u001b[32m[I 2022-05-08 20:53:11,175]\u001b[0m Trial 902 finished with value: 0.22842937334875865 and parameters: {'n_estimators': 10000, 'learning_rate': 0.05, 'num_leaves': 180, 'max_depth': 12, 'min_data_in_leaf': 20, 'lambda_l1': 0, 'lambda_l2': 0, 'min_gain_to_split': 0.0, 'bagging_fraction': 0.75, 'bagging_freq': 1, 'feature_fraction': 0.95}. Best is trial 228 with value: 0.22842937334875865.\u001b[0m\n",
      "\u001b[32m[I 2022-05-08 20:53:11,337]\u001b[0m Trial 903 pruned. Trial was pruned at iteration 1.\u001b[0m\n"
     ]
    },
    {
     "name": "stdout",
     "output_type": "stream",
     "text": [
      "mean_loss 0.22843\n",
      "[LightGBM] [Warning] lambda_l1 is set=0, reg_alpha=0.0 will be ignored. Current value: lambda_l1=0\n",
      "[LightGBM] [Warning] bagging_fraction is set=0.75, subsample=1.0 will be ignored. Current value: bagging_fraction=0.75\n",
      "[LightGBM] [Warning] min_gain_to_split is set=0.0, min_split_gain=0.0 will be ignored. Current value: min_gain_to_split=0.0\n",
      "[LightGBM] [Warning] lambda_l2 is set=0, reg_lambda=0.0 will be ignored. Current value: lambda_l2=0\n",
      "[LightGBM] [Warning] feature_fraction is set=0.95, colsample_bytree=1.0 will be ignored. Current value: feature_fraction=0.95\n",
      "[LightGBM] [Warning] min_data_in_leaf is set=20, min_child_samples=20 will be ignored. Current value: min_data_in_leaf=20\n",
      "[LightGBM] [Warning] bagging_freq is set=1, subsample_freq=0 will be ignored. Current value: bagging_freq=1\n"
     ]
    },
    {
     "name": "stderr",
     "output_type": "stream",
     "text": [
      "\u001b[32m[I 2022-05-08 20:53:11,490]\u001b[0m Trial 904 pruned. Trial was pruned at iteration 0.\u001b[0m\n",
      "\u001b[32m[I 2022-05-08 20:53:11,649]\u001b[0m Trial 905 pruned. Trial was pruned at iteration 0.\u001b[0m\n",
      "\u001b[32m[I 2022-05-08 20:53:11,815]\u001b[0m Trial 906 pruned. Trial was pruned at iteration 1.\u001b[0m\n",
      "\u001b[32m[I 2022-05-08 20:53:11,974]\u001b[0m Trial 907 pruned. Trial was pruned at iteration 0.\u001b[0m\n",
      "\u001b[32m[I 2022-05-08 20:53:12,132]\u001b[0m Trial 908 pruned. Trial was pruned at iteration 0.\u001b[0m\n",
      "\u001b[32m[I 2022-05-08 20:53:12,305]\u001b[0m Trial 909 pruned. Trial was pruned at iteration 1.\u001b[0m\n",
      "\u001b[32m[I 2022-05-08 20:53:12,580]\u001b[0m Trial 910 pruned. Trial was pruned at iteration 1.\u001b[0m\n",
      "\u001b[32m[I 2022-05-08 20:53:13,755]\u001b[0m Trial 911 finished with value: 0.22842937334875865 and parameters: {'n_estimators': 10000, 'learning_rate': 0.05, 'num_leaves': 180, 'max_depth': 12, 'min_data_in_leaf': 20, 'lambda_l1': 0, 'lambda_l2': 0, 'min_gain_to_split': 0.0, 'bagging_fraction': 0.75, 'bagging_freq': 1, 'feature_fraction': 0.95}. Best is trial 228 with value: 0.22842937334875865.\u001b[0m\n",
      "\u001b[32m[I 2022-05-08 20:53:13,925]\u001b[0m Trial 912 pruned. Trial was pruned at iteration 1.\u001b[0m\n"
     ]
    },
    {
     "name": "stdout",
     "output_type": "stream",
     "text": [
      "mean_loss 0.22843\n",
      "[LightGBM] [Warning] lambda_l1 is set=0, reg_alpha=0.0 will be ignored. Current value: lambda_l1=0\n",
      "[LightGBM] [Warning] bagging_fraction is set=0.75, subsample=1.0 will be ignored. Current value: bagging_fraction=0.75\n",
      "[LightGBM] [Warning] min_gain_to_split is set=0.0, min_split_gain=0.0 will be ignored. Current value: min_gain_to_split=0.0\n",
      "[LightGBM] [Warning] lambda_l2 is set=0, reg_lambda=0.0 will be ignored. Current value: lambda_l2=0\n",
      "[LightGBM] [Warning] feature_fraction is set=0.95, colsample_bytree=1.0 will be ignored. Current value: feature_fraction=0.95\n",
      "[LightGBM] [Warning] min_data_in_leaf is set=20, min_child_samples=20 will be ignored. Current value: min_data_in_leaf=20\n",
      "[LightGBM] [Warning] bagging_freq is set=1, subsample_freq=0 will be ignored. Current value: bagging_freq=1\n"
     ]
    },
    {
     "name": "stderr",
     "output_type": "stream",
     "text": [
      "\u001b[32m[I 2022-05-08 20:53:14,078]\u001b[0m Trial 913 pruned. Trial was pruned at iteration 0.\u001b[0m\n",
      "\u001b[32m[I 2022-05-08 20:53:14,244]\u001b[0m Trial 914 pruned. Trial was pruned at iteration 0.\u001b[0m\n",
      "\u001b[32m[I 2022-05-08 20:53:14,401]\u001b[0m Trial 915 pruned. Trial was pruned at iteration 0.\u001b[0m\n",
      "\u001b[32m[I 2022-05-08 20:53:15,607]\u001b[0m Trial 916 finished with value: 0.22842937334875865 and parameters: {'n_estimators': 10000, 'learning_rate': 0.05, 'num_leaves': 180, 'max_depth': 12, 'min_data_in_leaf': 20, 'lambda_l1': 0, 'lambda_l2': 0, 'min_gain_to_split': 0.0, 'bagging_fraction': 0.75, 'bagging_freq': 1, 'feature_fraction': 0.95}. Best is trial 228 with value: 0.22842937334875865.\u001b[0m\n",
      "\u001b[32m[I 2022-05-08 20:53:15,761]\u001b[0m Trial 917 pruned. Trial was pruned at iteration 0.\u001b[0m\n"
     ]
    },
    {
     "name": "stdout",
     "output_type": "stream",
     "text": [
      "mean_loss 0.22843\n",
      "[LightGBM] [Warning] lambda_l1 is set=80, reg_alpha=0.0 will be ignored. Current value: lambda_l1=80\n",
      "[LightGBM] [Warning] bagging_fraction is set=0.75, subsample=1.0 will be ignored. Current value: bagging_fraction=0.75\n",
      "[LightGBM] [Warning] min_gain_to_split is set=0.0, min_split_gain=0.0 will be ignored. Current value: min_gain_to_split=0.0\n",
      "[LightGBM] [Warning] lambda_l2 is set=0, reg_lambda=0.0 will be ignored. Current value: lambda_l2=0\n",
      "[LightGBM] [Warning] feature_fraction is set=0.95, colsample_bytree=1.0 will be ignored. Current value: feature_fraction=0.95\n",
      "[LightGBM] [Warning] min_data_in_leaf is set=20, min_child_samples=20 will be ignored. Current value: min_data_in_leaf=20\n",
      "[LightGBM] [Warning] bagging_freq is set=1, subsample_freq=0 will be ignored. Current value: bagging_freq=1\n"
     ]
    },
    {
     "name": "stderr",
     "output_type": "stream",
     "text": [
      "\u001b[32m[I 2022-05-08 20:53:15,919]\u001b[0m Trial 918 pruned. Trial was pruned at iteration 0.\u001b[0m\n",
      "\u001b[32m[I 2022-05-08 20:53:16,089]\u001b[0m Trial 919 pruned. Trial was pruned at iteration 0.\u001b[0m\n",
      "\u001b[32m[I 2022-05-08 20:53:16,248]\u001b[0m Trial 920 pruned. Trial was pruned at iteration 0.\u001b[0m\n",
      "\u001b[32m[I 2022-05-08 20:53:16,400]\u001b[0m Trial 921 pruned. Trial was pruned at iteration 0.\u001b[0m\n",
      "\u001b[32m[I 2022-05-08 20:53:16,557]\u001b[0m Trial 922 pruned. Trial was pruned at iteration 0.\u001b[0m\n",
      "\u001b[32m[I 2022-05-08 20:53:16,721]\u001b[0m Trial 923 pruned. Trial was pruned at iteration 1.\u001b[0m\n",
      "\u001b[32m[I 2022-05-08 20:53:16,885]\u001b[0m Trial 924 pruned. Trial was pruned at iteration 0.\u001b[0m\n",
      "\u001b[32m[I 2022-05-08 20:53:17,039]\u001b[0m Trial 925 pruned. Trial was pruned at iteration 0.\u001b[0m\n",
      "\u001b[32m[I 2022-05-08 20:53:17,198]\u001b[0m Trial 926 pruned. Trial was pruned at iteration 0.\u001b[0m\n",
      "\u001b[32m[I 2022-05-08 20:53:17,360]\u001b[0m Trial 927 pruned. Trial was pruned at iteration 0.\u001b[0m\n",
      "\u001b[32m[I 2022-05-08 20:53:17,538]\u001b[0m Trial 928 pruned. Trial was pruned at iteration 3.\u001b[0m\n",
      "\u001b[32m[I 2022-05-08 20:53:17,730]\u001b[0m Trial 929 pruned. Trial was pruned at iteration 5.\u001b[0m\n",
      "\u001b[32m[I 2022-05-08 20:53:17,891]\u001b[0m Trial 930 pruned. Trial was pruned at iteration 0.\u001b[0m\n",
      "\u001b[32m[I 2022-05-08 20:53:18,054]\u001b[0m Trial 931 pruned. Trial was pruned at iteration 1.\u001b[0m\n",
      "\u001b[32m[I 2022-05-08 20:53:18,212]\u001b[0m Trial 932 pruned. Trial was pruned at iteration 0.\u001b[0m\n",
      "\u001b[32m[I 2022-05-08 20:53:18,379]\u001b[0m Trial 933 pruned. Trial was pruned at iteration 0.\u001b[0m\n",
      "\u001b[32m[I 2022-05-08 20:53:18,533]\u001b[0m Trial 934 pruned. Trial was pruned at iteration 0.\u001b[0m\n",
      "\u001b[32m[I 2022-05-08 20:53:18,690]\u001b[0m Trial 935 pruned. Trial was pruned at iteration 0.\u001b[0m\n",
      "\u001b[32m[I 2022-05-08 20:53:18,843]\u001b[0m Trial 936 pruned. Trial was pruned at iteration 0.\u001b[0m\n",
      "\u001b[32m[I 2022-05-08 20:53:19,004]\u001b[0m Trial 937 pruned. Trial was pruned at iteration 0.\u001b[0m\n",
      "\u001b[32m[I 2022-05-08 20:53:20,167]\u001b[0m Trial 938 finished with value: 0.22842937334875865 and parameters: {'n_estimators': 10000, 'learning_rate': 0.05, 'num_leaves': 180, 'max_depth': 12, 'min_data_in_leaf': 20, 'lambda_l1': 0, 'lambda_l2': 0, 'min_gain_to_split': 0.0, 'bagging_fraction': 0.75, 'bagging_freq': 1, 'feature_fraction': 0.95}. Best is trial 228 with value: 0.22842937334875865.\u001b[0m\n",
      "\u001b[32m[I 2022-05-08 20:53:20,328]\u001b[0m Trial 939 pruned. Trial was pruned at iteration 0.\u001b[0m\n"
     ]
    },
    {
     "name": "stdout",
     "output_type": "stream",
     "text": [
      "mean_loss 0.22843\n",
      "[LightGBM] [Warning] lambda_l1 is set=0, reg_alpha=0.0 will be ignored. Current value: lambda_l1=0\n",
      "[LightGBM] [Warning] bagging_fraction is set=0.75, subsample=1.0 will be ignored. Current value: bagging_fraction=0.75\n",
      "[LightGBM] [Warning] min_gain_to_split is set=0.0, min_split_gain=0.0 will be ignored. Current value: min_gain_to_split=0.0\n",
      "[LightGBM] [Warning] lambda_l2 is set=0, reg_lambda=0.0 will be ignored. Current value: lambda_l2=0\n",
      "[LightGBM] [Warning] feature_fraction is set=0.95, colsample_bytree=1.0 will be ignored. Current value: feature_fraction=0.95\n",
      "[LightGBM] [Warning] min_data_in_leaf is set=20, min_child_samples=20 will be ignored. Current value: min_data_in_leaf=20\n",
      "[LightGBM] [Warning] bagging_freq is set=1, subsample_freq=0 will be ignored. Current value: bagging_freq=1\n"
     ]
    },
    {
     "name": "stderr",
     "output_type": "stream",
     "text": [
      "\u001b[32m[I 2022-05-08 20:53:20,503]\u001b[0m Trial 940 pruned. Trial was pruned at iteration 0.\u001b[0m\n",
      "\u001b[32m[I 2022-05-08 20:53:21,634]\u001b[0m Trial 941 finished with value: 0.22842937334875865 and parameters: {'n_estimators': 10000, 'learning_rate': 0.05, 'num_leaves': 180, 'max_depth': 12, 'min_data_in_leaf': 20, 'lambda_l1': 0, 'lambda_l2': 0, 'min_gain_to_split': 0.0, 'bagging_fraction': 0.75, 'bagging_freq': 1, 'feature_fraction': 0.95}. Best is trial 228 with value: 0.22842937334875865.\u001b[0m\n"
     ]
    },
    {
     "name": "stdout",
     "output_type": "stream",
     "text": [
      "mean_loss 0.22843\n"
     ]
    },
    {
     "name": "stderr",
     "output_type": "stream",
     "text": [
      "\u001b[32m[I 2022-05-08 20:53:21,918]\u001b[0m Trial 942 pruned. Trial was pruned at iteration 1.\u001b[0m\n",
      "\u001b[32m[I 2022-05-08 20:53:22,078]\u001b[0m Trial 943 pruned. Trial was pruned at iteration 0.\u001b[0m\n"
     ]
    },
    {
     "name": "stdout",
     "output_type": "stream",
     "text": [
      "[LightGBM] [Warning] lambda_l1 is set=0, reg_alpha=0.0 will be ignored. Current value: lambda_l1=0\n",
      "[LightGBM] [Warning] bagging_fraction is set=0.35, subsample=1.0 will be ignored. Current value: bagging_fraction=0.35\n",
      "[LightGBM] [Warning] min_gain_to_split is set=0.0, min_split_gain=0.0 will be ignored. Current value: min_gain_to_split=0.0\n",
      "[LightGBM] [Warning] lambda_l2 is set=0, reg_lambda=0.0 will be ignored. Current value: lambda_l2=0\n",
      "[LightGBM] [Warning] feature_fraction is set=0.95, colsample_bytree=1.0 will be ignored. Current value: feature_fraction=0.95\n",
      "[LightGBM] [Warning] min_data_in_leaf is set=20, min_child_samples=20 will be ignored. Current value: min_data_in_leaf=20\n",
      "[LightGBM] [Warning] bagging_freq is set=1, subsample_freq=0 will be ignored. Current value: bagging_freq=1\n"
     ]
    },
    {
     "name": "stderr",
     "output_type": "stream",
     "text": [
      "\u001b[32m[I 2022-05-08 20:53:22,241]\u001b[0m Trial 944 pruned. Trial was pruned at iteration 0.\u001b[0m\n",
      "\u001b[32m[I 2022-05-08 20:53:22,426]\u001b[0m Trial 945 pruned. Trial was pruned at iteration 3.\u001b[0m\n",
      "\u001b[32m[I 2022-05-08 20:53:22,621]\u001b[0m Trial 946 pruned. Trial was pruned at iteration 1.\u001b[0m\n",
      "\u001b[32m[I 2022-05-08 20:53:22,795]\u001b[0m Trial 947 pruned. Trial was pruned at iteration 1.\u001b[0m\n",
      "\u001b[32m[I 2022-05-08 20:53:22,955]\u001b[0m Trial 948 pruned. Trial was pruned at iteration 0.\u001b[0m\n",
      "\u001b[32m[I 2022-05-08 20:53:24,194]\u001b[0m Trial 949 finished with value: 0.22842937334875865 and parameters: {'n_estimators': 10000, 'learning_rate': 0.05, 'num_leaves': 180, 'max_depth': 12, 'min_data_in_leaf': 20, 'lambda_l1': 0, 'lambda_l2': 0, 'min_gain_to_split': 0.0, 'bagging_fraction': 0.75, 'bagging_freq': 1, 'feature_fraction': 0.95}. Best is trial 228 with value: 0.22842937334875865.\u001b[0m\n",
      "\u001b[32m[I 2022-05-08 20:53:24,353]\u001b[0m Trial 950 pruned. Trial was pruned at iteration 0.\u001b[0m\n"
     ]
    },
    {
     "name": "stdout",
     "output_type": "stream",
     "text": [
      "mean_loss 0.22843\n",
      "[LightGBM] [Warning] lambda_l1 is set=0, reg_alpha=0.0 will be ignored. Current value: lambda_l1=0\n",
      "[LightGBM] [Warning] bagging_fraction is set=0.65, subsample=1.0 will be ignored. Current value: bagging_fraction=0.65\n",
      "[LightGBM] [Warning] min_gain_to_split is set=0.0, min_split_gain=0.0 will be ignored. Current value: min_gain_to_split=0.0\n",
      "[LightGBM] [Warning] lambda_l2 is set=0, reg_lambda=0.0 will be ignored. Current value: lambda_l2=0\n",
      "[LightGBM] [Warning] feature_fraction is set=0.8500000000000001, colsample_bytree=1.0 will be ignored. Current value: feature_fraction=0.8500000000000001\n",
      "[LightGBM] [Warning] min_data_in_leaf is set=20, min_child_samples=20 will be ignored. Current value: min_data_in_leaf=20\n",
      "[LightGBM] [Warning] bagging_freq is set=1, subsample_freq=0 will be ignored. Current value: bagging_freq=1\n"
     ]
    },
    {
     "name": "stderr",
     "output_type": "stream",
     "text": [
      "\u001b[32m[I 2022-05-08 20:53:24,541]\u001b[0m Trial 951 pruned. Trial was pruned at iteration 3.\u001b[0m\n",
      "\u001b[32m[I 2022-05-08 20:53:24,712]\u001b[0m Trial 952 pruned. Trial was pruned at iteration 1.\u001b[0m\n",
      "\u001b[32m[I 2022-05-08 20:53:24,865]\u001b[0m Trial 953 pruned. Trial was pruned at iteration 0.\u001b[0m\n",
      "\u001b[32m[I 2022-05-08 20:53:25,028]\u001b[0m Trial 954 pruned. Trial was pruned at iteration 0.\u001b[0m\n",
      "\u001b[32m[I 2022-05-08 20:53:25,341]\u001b[0m Trial 955 pruned. Trial was pruned at iteration 16.\u001b[0m\n",
      "\u001b[32m[I 2022-05-08 20:53:25,498]\u001b[0m Trial 956 pruned. Trial was pruned at iteration 0.\u001b[0m\n",
      "\u001b[32m[I 2022-05-08 20:53:25,658]\u001b[0m Trial 957 pruned. Trial was pruned at iteration 0.\u001b[0m\n",
      "\u001b[32m[I 2022-05-08 20:53:25,821]\u001b[0m Trial 958 pruned. Trial was pruned at iteration 0.\u001b[0m\n",
      "\u001b[32m[I 2022-05-08 20:53:25,979]\u001b[0m Trial 959 pruned. Trial was pruned at iteration 0.\u001b[0m\n",
      "\u001b[32m[I 2022-05-08 20:53:26,141]\u001b[0m Trial 960 pruned. Trial was pruned at iteration 0.\u001b[0m\n",
      "\u001b[32m[I 2022-05-08 20:53:26,314]\u001b[0m Trial 961 pruned. Trial was pruned at iteration 0.\u001b[0m\n",
      "\u001b[32m[I 2022-05-08 20:53:26,491]\u001b[0m Trial 962 pruned. Trial was pruned at iteration 1.\u001b[0m\n",
      "\u001b[32m[I 2022-05-08 20:53:26,657]\u001b[0m Trial 963 pruned. Trial was pruned at iteration 0.\u001b[0m\n",
      "\u001b[32m[I 2022-05-08 20:53:27,922]\u001b[0m Trial 964 finished with value: 0.22842937334875865 and parameters: {'n_estimators': 10000, 'learning_rate': 0.05, 'num_leaves': 180, 'max_depth': 12, 'min_data_in_leaf': 20, 'lambda_l1': 0, 'lambda_l2': 0, 'min_gain_to_split': 0.0, 'bagging_fraction': 0.75, 'bagging_freq': 1, 'feature_fraction': 0.95}. Best is trial 228 with value: 0.22842937334875865.\u001b[0m\n",
      "\u001b[32m[I 2022-05-08 20:53:28,083]\u001b[0m Trial 965 pruned. Trial was pruned at iteration 0.\u001b[0m\n"
     ]
    },
    {
     "name": "stdout",
     "output_type": "stream",
     "text": [
      "mean_loss 0.22843\n",
      "[LightGBM] [Warning] lambda_l1 is set=0, reg_alpha=0.0 will be ignored. Current value: lambda_l1=0\n",
      "[LightGBM] [Warning] bagging_fraction is set=0.75, subsample=1.0 will be ignored. Current value: bagging_fraction=0.75\n",
      "[LightGBM] [Warning] min_gain_to_split is set=0.0, min_split_gain=0.0 will be ignored. Current value: min_gain_to_split=0.0\n",
      "[LightGBM] [Warning] lambda_l2 is set=0, reg_lambda=0.0 will be ignored. Current value: lambda_l2=0\n",
      "[LightGBM] [Warning] feature_fraction is set=0.95, colsample_bytree=1.0 will be ignored. Current value: feature_fraction=0.95\n",
      "[LightGBM] [Warning] min_data_in_leaf is set=20, min_child_samples=20 will be ignored. Current value: min_data_in_leaf=20\n",
      "[LightGBM] [Warning] bagging_freq is set=1, subsample_freq=0 will be ignored. Current value: bagging_freq=1\n"
     ]
    },
    {
     "name": "stderr",
     "output_type": "stream",
     "text": [
      "\u001b[32m[I 2022-05-08 20:53:28,260]\u001b[0m Trial 966 pruned. Trial was pruned at iteration 2.\u001b[0m\n",
      "\u001b[32m[I 2022-05-08 20:53:29,393]\u001b[0m Trial 967 finished with value: 0.22842937334875865 and parameters: {'n_estimators': 10000, 'learning_rate': 0.05, 'num_leaves': 180, 'max_depth': 12, 'min_data_in_leaf': 20, 'lambda_l1': 0, 'lambda_l2': 0, 'min_gain_to_split': 0.0, 'bagging_fraction': 0.75, 'bagging_freq': 1, 'feature_fraction': 0.95}. Best is trial 228 with value: 0.22842937334875865.\u001b[0m\n",
      "\u001b[32m[I 2022-05-08 20:53:29,552]\u001b[0m Trial 968 pruned. Trial was pruned at iteration 0.\u001b[0m\n"
     ]
    },
    {
     "name": "stdout",
     "output_type": "stream",
     "text": [
      "mean_loss 0.22843\n",
      "[LightGBM] [Warning] lambda_l1 is set=0, reg_alpha=0.0 will be ignored. Current value: lambda_l1=0\n",
      "[LightGBM] [Warning] bagging_fraction is set=0.75, subsample=1.0 will be ignored. Current value: bagging_fraction=0.75\n",
      "[LightGBM] [Warning] min_gain_to_split is set=0.0, min_split_gain=0.0 will be ignored. Current value: min_gain_to_split=0.0\n",
      "[LightGBM] [Warning] lambda_l2 is set=40, reg_lambda=0.0 will be ignored. Current value: lambda_l2=40\n",
      "[LightGBM] [Warning] feature_fraction is set=0.95, colsample_bytree=1.0 will be ignored. Current value: feature_fraction=0.95\n",
      "[LightGBM] [Warning] min_data_in_leaf is set=20, min_child_samples=20 will be ignored. Current value: min_data_in_leaf=20\n",
      "[LightGBM] [Warning] bagging_freq is set=1, subsample_freq=0 will be ignored. Current value: bagging_freq=1\n"
     ]
    },
    {
     "name": "stderr",
     "output_type": "stream",
     "text": [
      "\u001b[32m[I 2022-05-08 20:53:29,712]\u001b[0m Trial 969 pruned. Trial was pruned at iteration 0.\u001b[0m\n",
      "\u001b[32m[I 2022-05-08 20:53:29,873]\u001b[0m Trial 970 pruned. Trial was pruned at iteration 0.\u001b[0m\n",
      "\u001b[32m[I 2022-05-08 20:53:30,040]\u001b[0m Trial 971 pruned. Trial was pruned at iteration 0.\u001b[0m\n",
      "\u001b[32m[I 2022-05-08 20:53:30,247]\u001b[0m Trial 972 pruned. Trial was pruned at iteration 6.\u001b[0m\n",
      "\u001b[32m[I 2022-05-08 20:53:30,438]\u001b[0m Trial 973 pruned. Trial was pruned at iteration 4.\u001b[0m\n",
      "\u001b[32m[I 2022-05-08 20:53:30,610]\u001b[0m Trial 974 pruned. Trial was pruned at iteration 1.\u001b[0m\n",
      "\u001b[32m[I 2022-05-08 20:53:30,775]\u001b[0m Trial 975 pruned. Trial was pruned at iteration 0.\u001b[0m\n",
      "\u001b[32m[I 2022-05-08 20:53:30,933]\u001b[0m Trial 976 pruned. Trial was pruned at iteration 0.\u001b[0m\n",
      "\u001b[32m[I 2022-05-08 20:53:31,105]\u001b[0m Trial 977 pruned. Trial was pruned at iteration 1.\u001b[0m\n",
      "\u001b[32m[I 2022-05-08 20:53:31,277]\u001b[0m Trial 978 pruned. Trial was pruned at iteration 1.\u001b[0m\n",
      "\u001b[32m[I 2022-05-08 20:53:31,457]\u001b[0m Trial 979 pruned. Trial was pruned at iteration 2.\u001b[0m\n",
      "\u001b[32m[I 2022-05-08 20:53:31,621]\u001b[0m Trial 980 pruned. Trial was pruned at iteration 0.\u001b[0m\n",
      "\u001b[32m[I 2022-05-08 20:53:31,780]\u001b[0m Trial 981 pruned. Trial was pruned at iteration 0.\u001b[0m\n",
      "\u001b[32m[I 2022-05-08 20:53:31,946]\u001b[0m Trial 982 pruned. Trial was pruned at iteration 0.\u001b[0m\n",
      "\u001b[32m[I 2022-05-08 20:53:32,105]\u001b[0m Trial 983 pruned. Trial was pruned at iteration 0.\u001b[0m\n",
      "\u001b[32m[I 2022-05-08 20:53:32,263]\u001b[0m Trial 984 pruned. Trial was pruned at iteration 0.\u001b[0m\n",
      "\u001b[32m[I 2022-05-08 20:53:32,450]\u001b[0m Trial 985 pruned. Trial was pruned at iteration 3.\u001b[0m\n",
      "\u001b[32m[I 2022-05-08 20:53:33,574]\u001b[0m Trial 986 finished with value: 0.22842937334875865 and parameters: {'n_estimators': 10000, 'learning_rate': 0.05, 'num_leaves': 180, 'max_depth': 12, 'min_data_in_leaf': 20, 'lambda_l1': 0, 'lambda_l2': 0, 'min_gain_to_split': 0.0, 'bagging_fraction': 0.75, 'bagging_freq': 1, 'feature_fraction': 0.95}. Best is trial 228 with value: 0.22842937334875865.\u001b[0m\n"
     ]
    },
    {
     "name": "stdout",
     "output_type": "stream",
     "text": [
      "mean_loss 0.22843\n",
      "[LightGBM] [Warning] lambda_l1 is set=0, reg_alpha=0.0 will be ignored. Current value: lambda_l1=0\n",
      "[LightGBM] [Warning] bagging_fraction is set=0.75, subsample=1.0 will be ignored. Current value: bagging_fraction=0.75\n",
      "[LightGBM] [Warning] min_gain_to_split is set=0.0, min_split_gain=0.0 will be ignored. Current value: min_gain_to_split=0.0\n",
      "[LightGBM] [Warning] lambda_l2 is set=0, reg_lambda=0.0 will be ignored. Current value: lambda_l2=0\n",
      "[LightGBM] [Warning] feature_fraction is set=0.95, colsample_bytree=1.0 will be ignored. Current value: feature_fraction=0.95\n",
      "[LightGBM] [Warning] min_data_in_leaf is set=20, min_child_samples=20 will be ignored. Current value: min_data_in_leaf=20\n",
      "[LightGBM] [Warning] bagging_freq is set=1, subsample_freq=0 will be ignored. Current value: bagging_freq=1\n"
     ]
    },
    {
     "name": "stderr",
     "output_type": "stream",
     "text": [
      "\u001b[32m[I 2022-05-08 20:53:33,837]\u001b[0m Trial 987 pruned. Trial was pruned at iteration 12.\u001b[0m\n",
      "\u001b[32m[I 2022-05-08 20:53:34,073]\u001b[0m Trial 988 pruned. Trial was pruned at iteration 10.\u001b[0m\n",
      "\u001b[32m[I 2022-05-08 20:53:34,315]\u001b[0m Trial 989 pruned. Trial was pruned at iteration 8.\u001b[0m\n",
      "\u001b[32m[I 2022-05-08 20:53:34,486]\u001b[0m Trial 990 pruned. Trial was pruned at iteration 0.\u001b[0m\n",
      "\u001b[32m[I 2022-05-08 20:53:34,658]\u001b[0m Trial 991 pruned. Trial was pruned at iteration 0.\u001b[0m\n",
      "\u001b[32m[I 2022-05-08 20:53:34,870]\u001b[0m Trial 992 pruned. Trial was pruned at iteration 6.\u001b[0m\n",
      "\u001b[32m[I 2022-05-08 20:53:35,035]\u001b[0m Trial 993 pruned. Trial was pruned at iteration 0.\u001b[0m\n",
      "\u001b[32m[I 2022-05-08 20:53:35,241]\u001b[0m Trial 994 pruned. Trial was pruned at iteration 1.\u001b[0m\n",
      "\u001b[32m[I 2022-05-08 20:53:35,407]\u001b[0m Trial 995 pruned. Trial was pruned at iteration 0.\u001b[0m\n",
      "\u001b[32m[I 2022-05-08 20:53:35,575]\u001b[0m Trial 996 pruned. Trial was pruned at iteration 0.\u001b[0m\n",
      "\u001b[32m[I 2022-05-08 20:53:35,751]\u001b[0m Trial 997 pruned. Trial was pruned at iteration 0.\u001b[0m\n",
      "\u001b[32m[I 2022-05-08 20:53:36,013]\u001b[0m Trial 998 pruned. Trial was pruned at iteration 11.\u001b[0m\n",
      "\u001b[32m[I 2022-05-08 20:53:36,181]\u001b[0m Trial 999 pruned. Trial was pruned at iteration 0.\u001b[0m\n"
     ]
    }
   ],
   "source": [
    "study = optuna.create_study(direction=\"minimize\", study_name=\"LGBM Classifier\")\n",
    "func = lambda trial: objective(trial, X, y)\n",
    "study.optimize(func, n_trials=1000)"
   ]
  },
  {
   "cell_type": "code",
   "execution_count": 31,
   "metadata": {},
   "outputs": [
    {
     "name": "stdout",
     "output_type": "stream",
     "text": [
      "\tBest value (binary_logloss): 0.22843\n",
      "\tBest params:\n",
      "\t\tn_estimators: 10000\n",
      "\t\tlearning_rate: 0.05\n",
      "\t\tnum_leaves: 180\n",
      "\t\tmax_depth: 12\n",
      "\t\tmin_data_in_leaf: 20\n",
      "\t\tlambda_l1: 0\n",
      "\t\tlambda_l2: 0\n",
      "\t\tmin_gain_to_split: 0.0\n",
      "\t\tbagging_fraction: 0.75\n",
      "\t\tbagging_freq: 1\n",
      "\t\tfeature_fraction: 0.95\n"
     ]
    }
   ],
   "source": [
    "print(f\"\\tBest value (binary_logloss): {study.best_value:.5f}\")\n",
    "print(f\"\\tBest params:\")\n",
    "\n",
    "selected_params = {}\n",
    "for key, value in study.best_params.items():\n",
    "    print(f\"\\t\\t{key}: {value}\")\n",
    "    selected_params[key] = value"
   ]
  },
  {
   "cell_type": "code",
   "execution_count": 32,
   "metadata": {},
   "outputs": [
    {
     "data": {
      "text/plain": [
       "{'n_estimators': 10000,\n",
       " 'learning_rate': 0.05,\n",
       " 'num_leaves': 180,\n",
       " 'max_depth': 12,\n",
       " 'min_data_in_leaf': 20,\n",
       " 'lambda_l1': 0,\n",
       " 'lambda_l2': 0,\n",
       " 'min_gain_to_split': 0.0,\n",
       " 'bagging_fraction': 0.75,\n",
       " 'bagging_freq': 1,\n",
       " 'feature_fraction': 0.95}"
      ]
     },
     "execution_count": 32,
     "metadata": {},
     "output_type": "execute_result"
    }
   ],
   "source": [
    "selected_params"
   ]
  },
  {
   "cell_type": "code",
   "execution_count": 33,
   "metadata": {},
   "outputs": [],
   "source": [
    "classifier = lgbm.LGBMClassifier(objective=\"binary\", **selected_params)"
   ]
  },
  {
   "cell_type": "code",
   "execution_count": 34,
   "metadata": {},
   "outputs": [
    {
     "data": {
      "text/plain": [
       "LGBMClassifier(bagging_fraction=0.75, bagging_freq=1, feature_fraction=0.95,\n",
       "               lambda_l1=0, lambda_l2=0, learning_rate=0.05, max_depth=12,\n",
       "               min_data_in_leaf=20, min_gain_to_split=0.0, n_estimators=10000,\n",
       "               num_leaves=180, objective='binary')"
      ]
     },
     "execution_count": 34,
     "metadata": {},
     "output_type": "execute_result"
    }
   ],
   "source": [
    "classifier.fit(X_train, y_train)"
   ]
  },
  {
   "cell_type": "code",
   "execution_count": 35,
   "metadata": {},
   "outputs": [
    {
     "name": "stdout",
     "output_type": "stream",
     "text": [
      "Lightgbm model:\n",
      "Classification report on cross-validation data:\n",
      "f1-score of macro average: 0.7622\n",
      "\n"
     ]
    }
   ],
   "source": [
    "print(\"Lightgbm model:\")\n",
    "#           \"\\nClassification report on trainng data\\n\", \n",
    "#           classification_report(y_sc_train, lr_lst[i].predict(X_sc_train)))\n",
    "\n",
    "cl_rep = classification_report(y_cv, classifier.predict(X_cv), output_dict=True)\n",
    "f1_sc = cl_rep['macro avg']['f1-score']\n",
    "print('Classification report on cross-validation data:')\n",
    "print(f\"f1-score of macro average: {f1_sc:.4f}\\n\")"
   ]
  },
  {
   "cell_type": "code",
   "execution_count": 36,
   "metadata": {},
   "outputs": [
    {
     "name": "stdout",
     "output_type": "stream",
     "text": [
      "roc_auc_score on cross-validation data 0.9297\n",
      "\n"
     ]
    }
   ],
   "source": [
    "from sklearn.metrics import roc_curve, auc, roc_auc_score\n",
    "auc_sc = roc_auc_score(y_cv, classifier.predict_proba(X_cv)[:, 1])\n",
    "print(f\"roc_auc_score on cross-validation data {auc_sc:.4f}\\n\")"
   ]
  },
  {
   "cell_type": "code",
   "execution_count": null,
   "metadata": {},
   "outputs": [],
   "source": []
  },
  {
   "cell_type": "code",
   "execution_count": 38,
   "metadata": {},
   "outputs": [
    {
     "data": {
      "text/plain": [
       "LGBMClassifier(bagging_fraction=0.75, bagging_freq=1, feature_fraction=0.95,\n",
       "               lambda_l1=0, lambda_l2=0, learning_rate=0.05, max_depth=12,\n",
       "               min_data_in_leaf=20, min_gain_to_split=0.0, n_estimators=10000,\n",
       "               num_leaves=180, objective='binary')"
      ]
     },
     "execution_count": 38,
     "metadata": {},
     "output_type": "execute_result"
    }
   ],
   "source": [
    "import joblib\n",
    "joblib.dump(classifier, \"best_lightgbm_model_one_hot_1000_search_is_unbalanced_classifier.sav\")\n",
    "clf_load = joblib.load(\"best_lightgbm_model_one_hot_1000_search_is_unbalanced_classifier.sav\")\n",
    "clf_load"
   ]
  },
  {
   "cell_type": "code",
   "execution_count": 42,
   "metadata": {},
   "outputs": [
    {
     "data": {
      "text/plain": [
       "0.9297375452053904"
      ]
     },
     "execution_count": 42,
     "metadata": {},
     "output_type": "execute_result"
    }
   ],
   "source": [
    "roc_auc_score(y_cv, classifier.predict_proba(X_cv)[:,1])"
   ]
  },
  {
   "cell_type": "code",
   "execution_count": 43,
   "metadata": {},
   "outputs": [
    {
     "data": {
      "text/plain": [
       "0.925485301356723"
      ]
     },
     "execution_count": 43,
     "metadata": {},
     "output_type": "execute_result"
    }
   ],
   "source": [
    "roc_auc_score(y_test, classifier.predict_proba(X_test)[:,1])\n",
    "### The best neural network model on test data"
   ]
  },
  {
   "cell_type": "code",
   "execution_count": null,
   "metadata": {},
   "outputs": [],
   "source": []
  }
 ],
 "metadata": {
  "kernelspec": {
   "display_name": "torch18",
   "language": "python",
   "name": "torch18"
  },
  "language_info": {
   "codemirror_mode": {
    "name": "ipython",
    "version": 3
   },
   "file_extension": ".py",
   "mimetype": "text/x-python",
   "name": "python",
   "nbconvert_exporter": "python",
   "pygments_lexer": "ipython3",
   "version": "3.8.2"
  }
 },
 "nbformat": 4,
 "nbformat_minor": 2
}
