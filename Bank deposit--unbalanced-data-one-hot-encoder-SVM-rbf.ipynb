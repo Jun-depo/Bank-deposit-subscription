{
 "cells": [
  {
   "cell_type": "markdown",
   "metadata": {},
   "source": [
    "data: https://archive.ics.uci.edu/ml/datasets/Bank+Marketing"
   ]
  },
  {
   "cell_type": "code",
   "execution_count": 1,
   "metadata": {},
   "outputs": [],
   "source": [
    "import pandas as pd\n",
    "import numpy as np\n",
    "import matplotlib.pyplot as plt"
   ]
  },
  {
   "cell_type": "code",
   "execution_count": 2,
   "metadata": {},
   "outputs": [
    {
     "data": {
      "text/html": [
       "<div>\n",
       "<style scoped>\n",
       "    .dataframe tbody tr th:only-of-type {\n",
       "        vertical-align: middle;\n",
       "    }\n",
       "\n",
       "    .dataframe tbody tr th {\n",
       "        vertical-align: top;\n",
       "    }\n",
       "\n",
       "    .dataframe thead th {\n",
       "        text-align: right;\n",
       "    }\n",
       "</style>\n",
       "<table border=\"1\" class=\"dataframe\">\n",
       "  <thead>\n",
       "    <tr style=\"text-align: right;\">\n",
       "      <th></th>\n",
       "      <th>age</th>\n",
       "      <th>job</th>\n",
       "      <th>marital</th>\n",
       "      <th>education</th>\n",
       "      <th>default</th>\n",
       "      <th>housing</th>\n",
       "      <th>loan</th>\n",
       "      <th>contact</th>\n",
       "      <th>month</th>\n",
       "      <th>day_of_week</th>\n",
       "      <th>...</th>\n",
       "      <th>campaign</th>\n",
       "      <th>pdays</th>\n",
       "      <th>previous</th>\n",
       "      <th>poutcome</th>\n",
       "      <th>emp.var.rate</th>\n",
       "      <th>cons.price.idx</th>\n",
       "      <th>cons.conf.idx</th>\n",
       "      <th>euribor3m</th>\n",
       "      <th>nr.employed</th>\n",
       "      <th>y</th>\n",
       "    </tr>\n",
       "  </thead>\n",
       "  <tbody>\n",
       "    <tr>\n",
       "      <th>0</th>\n",
       "      <td>56</td>\n",
       "      <td>housemaid</td>\n",
       "      <td>married</td>\n",
       "      <td>basic.4y</td>\n",
       "      <td>no</td>\n",
       "      <td>no</td>\n",
       "      <td>no</td>\n",
       "      <td>telephone</td>\n",
       "      <td>may</td>\n",
       "      <td>mon</td>\n",
       "      <td>...</td>\n",
       "      <td>1</td>\n",
       "      <td>999</td>\n",
       "      <td>0</td>\n",
       "      <td>nonexistent</td>\n",
       "      <td>1.1</td>\n",
       "      <td>93.994</td>\n",
       "      <td>-36.4</td>\n",
       "      <td>4.857</td>\n",
       "      <td>5191.0</td>\n",
       "      <td>no</td>\n",
       "    </tr>\n",
       "    <tr>\n",
       "      <th>1</th>\n",
       "      <td>57</td>\n",
       "      <td>services</td>\n",
       "      <td>married</td>\n",
       "      <td>high.school</td>\n",
       "      <td>unknown</td>\n",
       "      <td>no</td>\n",
       "      <td>no</td>\n",
       "      <td>telephone</td>\n",
       "      <td>may</td>\n",
       "      <td>mon</td>\n",
       "      <td>...</td>\n",
       "      <td>1</td>\n",
       "      <td>999</td>\n",
       "      <td>0</td>\n",
       "      <td>nonexistent</td>\n",
       "      <td>1.1</td>\n",
       "      <td>93.994</td>\n",
       "      <td>-36.4</td>\n",
       "      <td>4.857</td>\n",
       "      <td>5191.0</td>\n",
       "      <td>no</td>\n",
       "    </tr>\n",
       "    <tr>\n",
       "      <th>2</th>\n",
       "      <td>37</td>\n",
       "      <td>services</td>\n",
       "      <td>married</td>\n",
       "      <td>high.school</td>\n",
       "      <td>no</td>\n",
       "      <td>yes</td>\n",
       "      <td>no</td>\n",
       "      <td>telephone</td>\n",
       "      <td>may</td>\n",
       "      <td>mon</td>\n",
       "      <td>...</td>\n",
       "      <td>1</td>\n",
       "      <td>999</td>\n",
       "      <td>0</td>\n",
       "      <td>nonexistent</td>\n",
       "      <td>1.1</td>\n",
       "      <td>93.994</td>\n",
       "      <td>-36.4</td>\n",
       "      <td>4.857</td>\n",
       "      <td>5191.0</td>\n",
       "      <td>no</td>\n",
       "    </tr>\n",
       "    <tr>\n",
       "      <th>3</th>\n",
       "      <td>40</td>\n",
       "      <td>admin.</td>\n",
       "      <td>married</td>\n",
       "      <td>basic.6y</td>\n",
       "      <td>no</td>\n",
       "      <td>no</td>\n",
       "      <td>no</td>\n",
       "      <td>telephone</td>\n",
       "      <td>may</td>\n",
       "      <td>mon</td>\n",
       "      <td>...</td>\n",
       "      <td>1</td>\n",
       "      <td>999</td>\n",
       "      <td>0</td>\n",
       "      <td>nonexistent</td>\n",
       "      <td>1.1</td>\n",
       "      <td>93.994</td>\n",
       "      <td>-36.4</td>\n",
       "      <td>4.857</td>\n",
       "      <td>5191.0</td>\n",
       "      <td>no</td>\n",
       "    </tr>\n",
       "    <tr>\n",
       "      <th>4</th>\n",
       "      <td>56</td>\n",
       "      <td>services</td>\n",
       "      <td>married</td>\n",
       "      <td>high.school</td>\n",
       "      <td>no</td>\n",
       "      <td>no</td>\n",
       "      <td>yes</td>\n",
       "      <td>telephone</td>\n",
       "      <td>may</td>\n",
       "      <td>mon</td>\n",
       "      <td>...</td>\n",
       "      <td>1</td>\n",
       "      <td>999</td>\n",
       "      <td>0</td>\n",
       "      <td>nonexistent</td>\n",
       "      <td>1.1</td>\n",
       "      <td>93.994</td>\n",
       "      <td>-36.4</td>\n",
       "      <td>4.857</td>\n",
       "      <td>5191.0</td>\n",
       "      <td>no</td>\n",
       "    </tr>\n",
       "  </tbody>\n",
       "</table>\n",
       "<p>5 rows × 21 columns</p>\n",
       "</div>"
      ],
      "text/plain": [
       "   age        job  marital    education  default housing loan    contact  \\\n",
       "0   56  housemaid  married     basic.4y       no      no   no  telephone   \n",
       "1   57   services  married  high.school  unknown      no   no  telephone   \n",
       "2   37   services  married  high.school       no     yes   no  telephone   \n",
       "3   40     admin.  married     basic.6y       no      no   no  telephone   \n",
       "4   56   services  married  high.school       no      no  yes  telephone   \n",
       "\n",
       "  month day_of_week  ...  campaign  pdays  previous     poutcome emp.var.rate  \\\n",
       "0   may         mon  ...         1    999         0  nonexistent          1.1   \n",
       "1   may         mon  ...         1    999         0  nonexistent          1.1   \n",
       "2   may         mon  ...         1    999         0  nonexistent          1.1   \n",
       "3   may         mon  ...         1    999         0  nonexistent          1.1   \n",
       "4   may         mon  ...         1    999         0  nonexistent          1.1   \n",
       "\n",
       "   cons.price.idx  cons.conf.idx  euribor3m  nr.employed   y  \n",
       "0          93.994          -36.4      4.857       5191.0  no  \n",
       "1          93.994          -36.4      4.857       5191.0  no  \n",
       "2          93.994          -36.4      4.857       5191.0  no  \n",
       "3          93.994          -36.4      4.857       5191.0  no  \n",
       "4          93.994          -36.4      4.857       5191.0  no  \n",
       "\n",
       "[5 rows x 21 columns]"
      ]
     },
     "execution_count": 2,
     "metadata": {},
     "output_type": "execute_result"
    }
   ],
   "source": [
    "df_ori = pd.read_csv(\"bank-additional/bank-additional-full.csv\",  sep=';')\n",
    "df_ori.head()"
   ]
  },
  {
   "cell_type": "code",
   "execution_count": 3,
   "metadata": {},
   "outputs": [
    {
     "data": {
      "text/html": [
       "<div>\n",
       "<style scoped>\n",
       "    .dataframe tbody tr th:only-of-type {\n",
       "        vertical-align: middle;\n",
       "    }\n",
       "\n",
       "    .dataframe tbody tr th {\n",
       "        vertical-align: top;\n",
       "    }\n",
       "\n",
       "    .dataframe thead th {\n",
       "        text-align: right;\n",
       "    }\n",
       "</style>\n",
       "<table border=\"1\" class=\"dataframe\">\n",
       "  <thead>\n",
       "    <tr style=\"text-align: right;\">\n",
       "      <th></th>\n",
       "      <th>age</th>\n",
       "      <th>job</th>\n",
       "      <th>marital</th>\n",
       "      <th>education</th>\n",
       "      <th>default</th>\n",
       "      <th>housing</th>\n",
       "      <th>loan</th>\n",
       "      <th>contact</th>\n",
       "      <th>month</th>\n",
       "      <th>day_of_week</th>\n",
       "      <th>...</th>\n",
       "      <th>campaign</th>\n",
       "      <th>pdays</th>\n",
       "      <th>previous</th>\n",
       "      <th>poutcome</th>\n",
       "      <th>emp.var.rate</th>\n",
       "      <th>cons.price.idx</th>\n",
       "      <th>cons.conf.idx</th>\n",
       "      <th>euribor3m</th>\n",
       "      <th>nr.employed</th>\n",
       "      <th>y</th>\n",
       "    </tr>\n",
       "  </thead>\n",
       "  <tbody>\n",
       "    <tr>\n",
       "      <th>0</th>\n",
       "      <td>1.642226</td>\n",
       "      <td>0</td>\n",
       "      <td>2</td>\n",
       "      <td>1</td>\n",
       "      <td>0</td>\n",
       "      <td>0</td>\n",
       "      <td>0</td>\n",
       "      <td>0</td>\n",
       "      <td>5</td>\n",
       "      <td>1</td>\n",
       "      <td>...</td>\n",
       "      <td>-0.559326</td>\n",
       "      <td>0.211884</td>\n",
       "      <td>-0.37161</td>\n",
       "      <td>1</td>\n",
       "      <td>0.727466</td>\n",
       "      <td>0.804082</td>\n",
       "      <td>0.877437</td>\n",
       "      <td>0.786089</td>\n",
       "      <td>0.401641</td>\n",
       "      <td>0</td>\n",
       "    </tr>\n",
       "    <tr>\n",
       "      <th>1</th>\n",
       "      <td>-0.196449</td>\n",
       "      <td>1</td>\n",
       "      <td>2</td>\n",
       "      <td>4</td>\n",
       "      <td>0</td>\n",
       "      <td>1</td>\n",
       "      <td>0</td>\n",
       "      <td>0</td>\n",
       "      <td>5</td>\n",
       "      <td>1</td>\n",
       "      <td>...</td>\n",
       "      <td>-0.559326</td>\n",
       "      <td>0.211884</td>\n",
       "      <td>-0.37161</td>\n",
       "      <td>1</td>\n",
       "      <td>0.727466</td>\n",
       "      <td>0.804082</td>\n",
       "      <td>0.877437</td>\n",
       "      <td>0.786089</td>\n",
       "      <td>0.401641</td>\n",
       "      <td>0</td>\n",
       "    </tr>\n",
       "    <tr>\n",
       "      <th>2</th>\n",
       "      <td>0.093868</td>\n",
       "      <td>2</td>\n",
       "      <td>2</td>\n",
       "      <td>2</td>\n",
       "      <td>0</td>\n",
       "      <td>0</td>\n",
       "      <td>0</td>\n",
       "      <td>0</td>\n",
       "      <td>5</td>\n",
       "      <td>1</td>\n",
       "      <td>...</td>\n",
       "      <td>-0.559326</td>\n",
       "      <td>0.211884</td>\n",
       "      <td>-0.37161</td>\n",
       "      <td>1</td>\n",
       "      <td>0.727466</td>\n",
       "      <td>0.804082</td>\n",
       "      <td>0.877437</td>\n",
       "      <td>0.786089</td>\n",
       "      <td>0.401641</td>\n",
       "      <td>0</td>\n",
       "    </tr>\n",
       "    <tr>\n",
       "      <th>3</th>\n",
       "      <td>1.642226</td>\n",
       "      <td>1</td>\n",
       "      <td>2</td>\n",
       "      <td>4</td>\n",
       "      <td>0</td>\n",
       "      <td>0</td>\n",
       "      <td>1</td>\n",
       "      <td>0</td>\n",
       "      <td>5</td>\n",
       "      <td>1</td>\n",
       "      <td>...</td>\n",
       "      <td>-0.559326</td>\n",
       "      <td>0.211884</td>\n",
       "      <td>-0.37161</td>\n",
       "      <td>1</td>\n",
       "      <td>0.727466</td>\n",
       "      <td>0.804082</td>\n",
       "      <td>0.877437</td>\n",
       "      <td>0.786089</td>\n",
       "      <td>0.401641</td>\n",
       "      <td>0</td>\n",
       "    </tr>\n",
       "    <tr>\n",
       "      <th>4</th>\n",
       "      <td>1.932543</td>\n",
       "      <td>2</td>\n",
       "      <td>2</td>\n",
       "      <td>5</td>\n",
       "      <td>0</td>\n",
       "      <td>0</td>\n",
       "      <td>0</td>\n",
       "      <td>0</td>\n",
       "      <td>5</td>\n",
       "      <td>1</td>\n",
       "      <td>...</td>\n",
       "      <td>-0.559326</td>\n",
       "      <td>0.211884</td>\n",
       "      <td>-0.37161</td>\n",
       "      <td>1</td>\n",
       "      <td>0.727466</td>\n",
       "      <td>0.804082</td>\n",
       "      <td>0.877437</td>\n",
       "      <td>0.786089</td>\n",
       "      <td>0.401641</td>\n",
       "      <td>0</td>\n",
       "    </tr>\n",
       "  </tbody>\n",
       "</table>\n",
       "<p>5 rows × 21 columns</p>\n",
       "</div>"
      ],
      "text/plain": [
       "        age  job  marital  education  default  housing  loan  contact  month  \\\n",
       "0  1.642226    0        2          1        0        0     0        0      5   \n",
       "1 -0.196449    1        2          4        0        1     0        0      5   \n",
       "2  0.093868    2        2          2        0        0     0        0      5   \n",
       "3  1.642226    1        2          4        0        0     1        0      5   \n",
       "4  1.932543    2        2          5        0        0     0        0      5   \n",
       "\n",
       "   day_of_week  ...  campaign     pdays  previous  poutcome  emp.var.rate  \\\n",
       "0            1  ... -0.559326  0.211884  -0.37161         1      0.727466   \n",
       "1            1  ... -0.559326  0.211884  -0.37161         1      0.727466   \n",
       "2            1  ... -0.559326  0.211884  -0.37161         1      0.727466   \n",
       "3            1  ... -0.559326  0.211884  -0.37161         1      0.727466   \n",
       "4            1  ... -0.559326  0.211884  -0.37161         1      0.727466   \n",
       "\n",
       "   cons.price.idx  cons.conf.idx  euribor3m  nr.employed  y  \n",
       "0        0.804082       0.877437   0.786089     0.401641  0  \n",
       "1        0.804082       0.877437   0.786089     0.401641  0  \n",
       "2        0.804082       0.877437   0.786089     0.401641  0  \n",
       "3        0.804082       0.877437   0.786089     0.401641  0  \n",
       "4        0.804082       0.877437   0.786089     0.401641  0  \n",
       "\n",
       "[5 rows x 21 columns]"
      ]
     },
     "execution_count": 3,
     "metadata": {},
     "output_type": "execute_result"
    }
   ],
   "source": [
    "df=pd.read_csv('bank_additional_full_clean_normalized.csv')\n",
    "df.head()"
   ]
  },
  {
   "cell_type": "code",
   "execution_count": 4,
   "metadata": {},
   "outputs": [],
   "source": [
    "X = df.iloc[:, 0:-1]\n",
    "y = df.y"
   ]
  },
  {
   "cell_type": "code",
   "execution_count": 5,
   "metadata": {},
   "outputs": [
    {
     "data": {
      "text/html": [
       "<div>\n",
       "<style scoped>\n",
       "    .dataframe tbody tr th:only-of-type {\n",
       "        vertical-align: middle;\n",
       "    }\n",
       "\n",
       "    .dataframe tbody tr th {\n",
       "        vertical-align: top;\n",
       "    }\n",
       "\n",
       "    .dataframe thead th {\n",
       "        text-align: right;\n",
       "    }\n",
       "</style>\n",
       "<table border=\"1\" class=\"dataframe\">\n",
       "  <thead>\n",
       "    <tr style=\"text-align: right;\">\n",
       "      <th></th>\n",
       "      <th>age</th>\n",
       "      <th>job</th>\n",
       "      <th>marital</th>\n",
       "      <th>education</th>\n",
       "      <th>default</th>\n",
       "      <th>housing</th>\n",
       "      <th>loan</th>\n",
       "      <th>contact</th>\n",
       "      <th>month</th>\n",
       "      <th>day_of_week</th>\n",
       "      <th>duration</th>\n",
       "      <th>campaign</th>\n",
       "      <th>pdays</th>\n",
       "      <th>previous</th>\n",
       "      <th>poutcome</th>\n",
       "      <th>emp.var.rate</th>\n",
       "      <th>cons.price.idx</th>\n",
       "      <th>cons.conf.idx</th>\n",
       "      <th>euribor3m</th>\n",
       "      <th>nr.employed</th>\n",
       "    </tr>\n",
       "  </thead>\n",
       "  <tbody>\n",
       "    <tr>\n",
       "      <th>0</th>\n",
       "      <td>1.642226</td>\n",
       "      <td>0</td>\n",
       "      <td>2</td>\n",
       "      <td>1</td>\n",
       "      <td>0</td>\n",
       "      <td>0</td>\n",
       "      <td>0</td>\n",
       "      <td>0</td>\n",
       "      <td>5</td>\n",
       "      <td>1</td>\n",
       "      <td>0.005792</td>\n",
       "      <td>-0.559326</td>\n",
       "      <td>0.211884</td>\n",
       "      <td>-0.37161</td>\n",
       "      <td>1</td>\n",
       "      <td>0.727466</td>\n",
       "      <td>0.804082</td>\n",
       "      <td>0.877437</td>\n",
       "      <td>0.786089</td>\n",
       "      <td>0.401641</td>\n",
       "    </tr>\n",
       "    <tr>\n",
       "      <th>1</th>\n",
       "      <td>-0.196449</td>\n",
       "      <td>1</td>\n",
       "      <td>2</td>\n",
       "      <td>4</td>\n",
       "      <td>0</td>\n",
       "      <td>1</td>\n",
       "      <td>0</td>\n",
       "      <td>0</td>\n",
       "      <td>5</td>\n",
       "      <td>1</td>\n",
       "      <td>-0.127941</td>\n",
       "      <td>-0.559326</td>\n",
       "      <td>0.211884</td>\n",
       "      <td>-0.37161</td>\n",
       "      <td>1</td>\n",
       "      <td>0.727466</td>\n",
       "      <td>0.804082</td>\n",
       "      <td>0.877437</td>\n",
       "      <td>0.786089</td>\n",
       "      <td>0.401641</td>\n",
       "    </tr>\n",
       "    <tr>\n",
       "      <th>2</th>\n",
       "      <td>0.093868</td>\n",
       "      <td>2</td>\n",
       "      <td>2</td>\n",
       "      <td>2</td>\n",
       "      <td>0</td>\n",
       "      <td>0</td>\n",
       "      <td>0</td>\n",
       "      <td>0</td>\n",
       "      <td>5</td>\n",
       "      <td>1</td>\n",
       "      <td>-0.414513</td>\n",
       "      <td>-0.559326</td>\n",
       "      <td>0.211884</td>\n",
       "      <td>-0.37161</td>\n",
       "      <td>1</td>\n",
       "      <td>0.727466</td>\n",
       "      <td>0.804082</td>\n",
       "      <td>0.877437</td>\n",
       "      <td>0.786089</td>\n",
       "      <td>0.401641</td>\n",
       "    </tr>\n",
       "    <tr>\n",
       "      <th>3</th>\n",
       "      <td>1.642226</td>\n",
       "      <td>1</td>\n",
       "      <td>2</td>\n",
       "      <td>4</td>\n",
       "      <td>0</td>\n",
       "      <td>0</td>\n",
       "      <td>1</td>\n",
       "      <td>0</td>\n",
       "      <td>5</td>\n",
       "      <td>1</td>\n",
       "      <td>0.181556</td>\n",
       "      <td>-0.559326</td>\n",
       "      <td>0.211884</td>\n",
       "      <td>-0.37161</td>\n",
       "      <td>1</td>\n",
       "      <td>0.727466</td>\n",
       "      <td>0.804082</td>\n",
       "      <td>0.877437</td>\n",
       "      <td>0.786089</td>\n",
       "      <td>0.401641</td>\n",
       "    </tr>\n",
       "    <tr>\n",
       "      <th>4</th>\n",
       "      <td>1.932543</td>\n",
       "      <td>2</td>\n",
       "      <td>2</td>\n",
       "      <td>5</td>\n",
       "      <td>0</td>\n",
       "      <td>0</td>\n",
       "      <td>0</td>\n",
       "      <td>0</td>\n",
       "      <td>5</td>\n",
       "      <td>1</td>\n",
       "      <td>-0.460365</td>\n",
       "      <td>-0.559326</td>\n",
       "      <td>0.211884</td>\n",
       "      <td>-0.37161</td>\n",
       "      <td>1</td>\n",
       "      <td>0.727466</td>\n",
       "      <td>0.804082</td>\n",
       "      <td>0.877437</td>\n",
       "      <td>0.786089</td>\n",
       "      <td>0.401641</td>\n",
       "    </tr>\n",
       "  </tbody>\n",
       "</table>\n",
       "</div>"
      ],
      "text/plain": [
       "        age  job  marital  education  default  housing  loan  contact  month  \\\n",
       "0  1.642226    0        2          1        0        0     0        0      5   \n",
       "1 -0.196449    1        2          4        0        1     0        0      5   \n",
       "2  0.093868    2        2          2        0        0     0        0      5   \n",
       "3  1.642226    1        2          4        0        0     1        0      5   \n",
       "4  1.932543    2        2          5        0        0     0        0      5   \n",
       "\n",
       "   day_of_week  duration  campaign     pdays  previous  poutcome  \\\n",
       "0            1  0.005792 -0.559326  0.211884  -0.37161         1   \n",
       "1            1 -0.127941 -0.559326  0.211884  -0.37161         1   \n",
       "2            1 -0.414513 -0.559326  0.211884  -0.37161         1   \n",
       "3            1  0.181556 -0.559326  0.211884  -0.37161         1   \n",
       "4            1 -0.460365 -0.559326  0.211884  -0.37161         1   \n",
       "\n",
       "   emp.var.rate  cons.price.idx  cons.conf.idx  euribor3m  nr.employed  \n",
       "0      0.727466        0.804082       0.877437   0.786089     0.401641  \n",
       "1      0.727466        0.804082       0.877437   0.786089     0.401641  \n",
       "2      0.727466        0.804082       0.877437   0.786089     0.401641  \n",
       "3      0.727466        0.804082       0.877437   0.786089     0.401641  \n",
       "4      0.727466        0.804082       0.877437   0.786089     0.401641  "
      ]
     },
     "execution_count": 5,
     "metadata": {},
     "output_type": "execute_result"
    }
   ],
   "source": [
    "X.head()"
   ]
  },
  {
   "cell_type": "code",
   "execution_count": 6,
   "metadata": {},
   "outputs": [
    {
     "data": {
      "text/plain": [
       "(0.2118836362185938, -4.749052297919588)"
      ]
     },
     "execution_count": 6,
     "metadata": {},
     "output_type": "execute_result"
    }
   ],
   "source": [
    "X.pdays.max(), X.pdays.min()"
   ]
  },
  {
   "cell_type": "code",
   "execution_count": 7,
   "metadata": {},
   "outputs": [
    {
     "data": {
      "text/plain": [
       "0    0\n",
       "1    0\n",
       "Name: y, dtype: int64"
      ]
     },
     "execution_count": 7,
     "metadata": {},
     "output_type": "execute_result"
    }
   ],
   "source": [
    "y.head(2)"
   ]
  },
  {
   "cell_type": "code",
   "execution_count": 8,
   "metadata": {},
   "outputs": [],
   "source": [
    "from sklearn.model_selection import train_test_split"
   ]
  },
  {
   "cell_type": "code",
   "execution_count": 9,
   "metadata": {},
   "outputs": [],
   "source": [
    "X_train, X_temp, y_train, y_temp = train_test_split(X, y, test_size=0.4, random_state=101)"
   ]
  },
  {
   "cell_type": "code",
   "execution_count": 10,
   "metadata": {},
   "outputs": [],
   "source": [
    "X_cv, X_test, y_cv, y_test = train_test_split(X_temp, y_temp, test_size=0.5, random_state=101)"
   ]
  },
  {
   "cell_type": "code",
   "execution_count": 11,
   "metadata": {},
   "outputs": [],
   "source": [
    "from sklearn.svm import SVC"
   ]
  },
  {
   "cell_type": "code",
   "execution_count": 12,
   "metadata": {},
   "outputs": [],
   "source": [
    "from sklearn.metrics import classification_report"
   ]
  },
  {
   "cell_type": "code",
   "execution_count": 13,
   "metadata": {},
   "outputs": [
    {
     "data": {
      "text/plain": [
       "Index(['age', 'job', 'marital', 'education', 'default', 'housing', 'loan',\n",
       "       'contact', 'month', 'day_of_week', 'duration', 'campaign', 'pdays',\n",
       "       'previous', 'poutcome', 'emp.var.rate', 'cons.price.idx',\n",
       "       'cons.conf.idx', 'euribor3m', 'nr.employed', 'y'],\n",
       "      dtype='object')"
      ]
     },
     "execution_count": 13,
     "metadata": {},
     "output_type": "execute_result"
    }
   ],
   "source": [
    "df_ori.columns"
   ]
  },
  {
   "cell_type": "code",
   "execution_count": 14,
   "metadata": {},
   "outputs": [
    {
     "name": "stdout",
     "output_type": "stream",
     "text": [
      "Number of samples: 30488\n",
      "Number of features: 19\n",
      "Number of categorical features: 10\n",
      "Number of numerical features: 9\n"
     ]
    }
   ],
   "source": [
    "categorical_columns_subset = [\n",
    "    'job', 'marital', 'education', 'default', 'housing', 'loan', 'contact', 'month', 'day_of_week', 'poutcome'\n",
    "]\n",
    "\n",
    "numerical_columns_subset = [\n",
    "    'duration', 'campaign', 'pdays',\n",
    "    'previous', 'emp.var.rate', 'cons.price.idx', \n",
    "    'cons.conf.idx', 'euribor3m', 'nr.employed'\n",
    "]\n",
    "\n",
    "X = X[categorical_columns_subset + numerical_columns_subset]\n",
    "X[categorical_columns_subset] = X[categorical_columns_subset].astype(\"category\")\n",
    "\n",
    "n_categorical_features = X.select_dtypes(include=\"category\").shape[1]\n",
    "n_numerical_features = X.select_dtypes(include=\"number\").shape[1]\n",
    "\n",
    "print(f\"Number of samples: {X.shape[0]}\")\n",
    "print(f\"Number of features: {X.shape[1]}\")\n",
    "print(f\"Number of categorical features: {n_categorical_features}\")\n",
    "print(f\"Number of numerical features: {n_numerical_features}\")"
   ]
  },
  {
   "cell_type": "code",
   "execution_count": 15,
   "metadata": {},
   "outputs": [],
   "source": [
    "from sklearn.preprocessing import OneHotEncoder\n",
    "from sklearn.compose import make_column_transformer\n",
    "from sklearn.compose import make_column_selector\n",
    "from sklearn.pipeline import make_pipeline\n",
    "\n",
    "one_hot_encoder = make_column_transformer(\n",
    "    (\n",
    "        OneHotEncoder(sparse=False, handle_unknown=\"ignore\"),\n",
    "        make_column_selector(dtype_include=\"category\"),\n",
    "    ),\n",
    "    remainder=\"passthrough\",\n",
    ")\n",
    "\n"
   ]
  },
  {
   "cell_type": "code",
   "execution_count": 16,
   "metadata": {},
   "outputs": [],
   "source": [
    "svc1 = make_pipeline(\n",
    "    one_hot_encoder, SVC(C=1.0, probability=True)\n",
    ")\n",
    "clf_svc1 = svc1.fit(X_train, y_train)"
   ]
  },
  {
   "cell_type": "code",
   "execution_count": 17,
   "metadata": {},
   "outputs": [],
   "source": [
    "svc2 = make_pipeline(\n",
    "    one_hot_encoder, SVC(C=3.0, probability=True)\n",
    ")\n",
    "clf_svc2 = svc2.fit(X_train, y_train)"
   ]
  },
  {
   "cell_type": "code",
   "execution_count": 18,
   "metadata": {},
   "outputs": [],
   "source": [
    "svc3 = make_pipeline(\n",
    "    one_hot_encoder, SVC(C=10.0, probability=True)\n",
    ")\n",
    "clf_svc3 = svc3.fit(X_train, y_train)"
   ]
  },
  {
   "cell_type": "code",
   "execution_count": 19,
   "metadata": {},
   "outputs": [],
   "source": [
    "svc4 = make_pipeline(\n",
    "    one_hot_encoder, SVC(C=30.0, probability=True)\n",
    ")\n",
    "clf_svc4 = svc4.fit(X_train, y_train)"
   ]
  },
  {
   "cell_type": "code",
   "execution_count": 20,
   "metadata": {},
   "outputs": [],
   "source": [
    "svc5 = make_pipeline(\n",
    "    one_hot_encoder, SVC(C=100.0, probability=True)\n",
    ")\n",
    "clf_svc5 = svc5.fit(X_train, y_train)"
   ]
  },
  {
   "cell_type": "code",
   "execution_count": 21,
   "metadata": {},
   "outputs": [],
   "source": [
    "svc6 = make_pipeline(\n",
    "    one_hot_encoder, SVC(C=300.0, probability=True)\n",
    ")\n",
    "clf_svc6 = svc6.fit(X_train, y_train)"
   ]
  },
  {
   "cell_type": "code",
   "execution_count": 22,
   "metadata": {},
   "outputs": [],
   "source": [
    "svc7 = make_pipeline(\n",
    "    one_hot_encoder, SVC(C=1000.0, probability=True)\n",
    ")\n",
    "clf_svc7 = svc7.fit(X_train, y_train)"
   ]
  },
  {
   "cell_type": "code",
   "execution_count": 23,
   "metadata": {},
   "outputs": [],
   "source": [
    "svc_lst = [clf_svc1, clf_svc2, clf_svc3, clf_svc4, clf_svc5, clf_svc6, clf_svc7]\n",
    "svc_c = [1, 3, 10, 30, 100, 300, 1000, 3000]"
   ]
  },
  {
   "cell_type": "code",
   "execution_count": 24,
   "metadata": {},
   "outputs": [
    {
     "name": "stdout",
     "output_type": "stream",
     "text": [
      "SVM classifier 1, C=1\n",
      "Classification report on cross-validation data:\n",
      "f1-score of macro average: \n",
      " 0.6878\n",
      "----------------------------------------------------------------------------------\n",
      "SVM classifier 2, C=3\n",
      "Classification report on cross-validation data:\n",
      "f1-score of macro average: \n",
      " 0.7115\n",
      "----------------------------------------------------------------------------------\n",
      "SVM classifier 3, C=10\n",
      "Classification report on cross-validation data:\n",
      "f1-score of macro average: \n",
      " 0.7269\n",
      "----------------------------------------------------------------------------------\n",
      "SVM classifier 4, C=30\n",
      "Classification report on cross-validation data:\n",
      "f1-score of macro average: \n",
      " 0.7411\n",
      "----------------------------------------------------------------------------------\n",
      "SVM classifier 5, C=100\n",
      "Classification report on cross-validation data:\n",
      "f1-score of macro average: \n",
      " 0.7411\n",
      "----------------------------------------------------------------------------------\n",
      "SVM classifier 6, C=300\n",
      "Classification report on cross-validation data:\n",
      "f1-score of macro average: \n",
      " 0.7381\n",
      "----------------------------------------------------------------------------------\n",
      "SVM classifier 7, C=1000\n",
      "Classification report on cross-validation data:\n",
      "f1-score of macro average: \n",
      " 0.7379\n",
      "----------------------------------------------------------------------------------\n",
      "\n",
      "The best SVM classifier is classifier 4 with Micro-Average F1_score 0.7411\n"
     ]
    }
   ],
   "source": [
    "best_f1 = 0\n",
    "best_idx = 999\n",
    "for i in range(len(svc_lst)):\n",
    "#     print(\"svc model, C=\", svc_c[i], \"\\nClassification report on trainng data\\n\", \n",
    "#           classification_report(y_train, svc_lst[i].predict(X_train)))\n",
    "    print(f\"SVM classifier {i+1}, C={svc_c[i]}\")\n",
    "    cl_rep = classification_report(y_cv, svc_lst[i].predict(X_cv), output_dict=True)\n",
    "    f1_sc = cl_rep['macro avg']['f1-score']\n",
    "    \n",
    "    if f1_sc > best_f1:\n",
    "        best_f1 = f1_sc\n",
    "        best_idx = i+1\n",
    "    print('Classification report on cross-validation data:')\n",
    "    print(f\"f1-score of macro average: \\n {f1_sc:.4f}\")\n",
    "    print(\"----------------------------------------------------------------------------------\")\n",
    "    \n",
    "print(f\"\\nThe best SVM classifier is classifier {best_idx} with Micro-Average F1_score {best_f1:.4f}\")\n",
    "    "
   ]
  },
  {
   "cell_type": "code",
   "execution_count": 35,
   "metadata": {},
   "outputs": [
    {
     "name": "stdout",
     "output_type": "stream",
     "text": [
      "SVM classifier 1, C=1\n",
      "Classification report on Test data:\n",
      "f1-score of macro average: \n",
      " 0.6785\n",
      "----------------------------------------------------------------------------------\n",
      "SVM classifier 2, C=3\n",
      "Classification report on Test data:\n",
      "f1-score of macro average: \n",
      " 0.6958\n",
      "----------------------------------------------------------------------------------\n",
      "SVM classifier 3, C=10\n",
      "Classification report on Test data:\n",
      "f1-score of macro average: \n",
      " 0.7227\n",
      "----------------------------------------------------------------------------------\n",
      "SVM classifier 4, C=30\n",
      "Classification report on Test data:\n",
      "f1-score of macro average: \n",
      " 0.7323\n",
      "----------------------------------------------------------------------------------\n",
      "SVM classifier 5, C=100\n",
      "Classification report on Test data:\n",
      "f1-score of macro average: \n",
      " 0.7339\n",
      "----------------------------------------------------------------------------------\n",
      "SVM classifier 6, C=300\n",
      "Classification report on Test data:\n",
      "f1-score of macro average: \n",
      " 0.7389\n",
      "----------------------------------------------------------------------------------\n",
      "SVM classifier 7, C=1000\n",
      "Classification report on Test data:\n",
      "f1-score of macro average: \n",
      " 0.7287\n",
      "----------------------------------------------------------------------------------\n",
      "\n",
      "The best SVM classifier is classifier 6 with Micro-Average F1_score 0.7389\n"
     ]
    }
   ],
   "source": [
    "best_f1 = 0\n",
    "best_idx = 999\n",
    "for i in range(len(svc_lst)):\n",
    "#     print(\"svc model, C=\", svc_c[i], \"\\nClassification report on trainng data\\n\", \n",
    "#           classification_report(y_train, svc_lst[i].predict(X_train)))\n",
    "    print(f\"SVM classifier {i+1}, C={svc_c[i]}\")\n",
    "    cl_rep = classification_report(y_test, svc_lst[i].predict(X_test), output_dict=True)\n",
    "    f1_sc = cl_rep['macro avg']['f1-score']\n",
    "    \n",
    "    if f1_sc > best_f1:\n",
    "        best_f1 = f1_sc\n",
    "        best_idx = i+1\n",
    "    print('Classification report on Test data:')\n",
    "    print(f\"f1-score of macro average: \\n {f1_sc:.4f}\")\n",
    "    print(\"----------------------------------------------------------------------------------\")\n",
    "    \n",
    "print(f\"\\nThe best SVM classifier is classifier {best_idx} with Micro-Average F1_score {best_f1:.4f}\")"
   ]
  },
  {
   "cell_type": "code",
   "execution_count": 25,
   "metadata": {},
   "outputs": [],
   "source": [
    "from sklearn.metrics import roc_curve, auc, roc_auc_score"
   ]
  },
  {
   "cell_type": "code",
   "execution_count": 26,
   "metadata": {},
   "outputs": [
    {
     "name": "stdout",
     "output_type": "stream",
     "text": [
      "SVM classifier 1, C=1\n",
      "roc_auc_score on cross-validation data\n",
      " 0.9309317885117493\n",
      "----------------------------------------------------------------------------------\n",
      "SVM classifier 2, C=3\n",
      "roc_auc_score on cross-validation data\n",
      " 0.931753543453935\n",
      "----------------------------------------------------------------------------------\n",
      "SVM classifier 3, C=10\n",
      "roc_auc_score on cross-validation data\n",
      " 0.9287058537940095\n",
      "----------------------------------------------------------------------------------\n",
      "SVM classifier 4, C=30\n",
      "roc_auc_score on cross-validation data\n",
      " 0.9194505315180903\n",
      "----------------------------------------------------------------------------------\n",
      "SVM classifier 5, C=100\n",
      "roc_auc_score on cross-validation data\n",
      " 0.9133858128050856\n",
      "----------------------------------------------------------------------------------\n",
      "SVM classifier 6, C=300\n",
      "roc_auc_score on cross-validation data\n",
      " 0.9020716687884145\n",
      "----------------------------------------------------------------------------------\n",
      "SVM classifier 7, C=1000\n",
      "roc_auc_score on cross-validation data\n",
      " 0.8930354051457112\n",
      "----------------------------------------------------------------------------------\n",
      "The SVM classifier is classifier 2 with roc_auc_score 0.931753543453935\n"
     ]
    }
   ],
   "source": [
    "best_auc = 0\n",
    "best_idx = 999\n",
    "\n",
    "for i in range(len(svc_lst)):\n",
    "    print(f\"SVM classifier {i+1}, C={svc_c[i]}\")\n",
    "    auc_sc = roc_auc_score(y_cv, svc_lst[i].predict_proba(X_cv)[:,1])\n",
    "    \n",
    "    if auc_sc > best_auc:\n",
    "        best_auc = auc_sc\n",
    "        best_idx = i+1\n",
    "    \n",
    "    print(\"roc_auc_score on cross-validation data\\n\", auc_sc)\n",
    "    print(\"----------------------------------------------------------------------------------\")\n",
    "    \n",
    "print(f\"The SVM classifier is classifier {best_idx} with roc_auc_score {best_auc}\")\n",
    "#     print(\"\\nsvc model\",i+1, \", C =\", svc_c[i], \"\\n roc_auc_score on trainng data\\n\", \n",
    "#           roc_auc_score(y_train, svc_lst[i].predict(X_train)))"
   ]
  },
  {
   "cell_type": "code",
   "execution_count": 34,
   "metadata": {},
   "outputs": [
    {
     "name": "stdout",
     "output_type": "stream",
     "text": [
      "SVM classifier 1, C=1\n",
      "roc_auc_score on Test data\n",
      " 0.9298477602299016\n",
      "----------------------------------------------------------------------------------\n",
      "SVM classifier 2, C=3\n",
      "roc_auc_score on Test data\n",
      " 0.9300938888121427\n",
      "----------------------------------------------------------------------------------\n",
      "SVM classifier 3, C=10\n",
      "roc_auc_score on Test data\n",
      " 0.9257249848723341\n",
      "----------------------------------------------------------------------------------\n",
      "SVM classifier 4, C=30\n",
      "roc_auc_score on Test data\n",
      " 0.916693744053514\n",
      "----------------------------------------------------------------------------------\n",
      "SVM classifier 5, C=100\n",
      "roc_auc_score on Test data\n",
      " 0.910534692456013\n",
      "----------------------------------------------------------------------------------\n",
      "SVM classifier 6, C=300\n",
      "roc_auc_score on Test data\n",
      " 0.9033682647837669\n",
      "----------------------------------------------------------------------------------\n",
      "SVM classifier 7, C=1000\n",
      "roc_auc_score on Test data\n",
      " 0.8976099017625918\n",
      "----------------------------------------------------------------------------------\n",
      "The SVM classifier is classifier 2 with roc_auc_score 0.9300938888121427\n"
     ]
    }
   ],
   "source": [
    "best_auc = 0\n",
    "best_idx = 999\n",
    "\n",
    "for i in range(len(svc_lst)):\n",
    "    print(f\"SVM classifier {i+1}, C={svc_c[i]}\")\n",
    "    auc_sc = roc_auc_score(y_test, svc_lst[i].predict_proba(X_test)[:,1])\n",
    "    \n",
    "    if auc_sc > best_auc:\n",
    "        best_auc = auc_sc\n",
    "        best_idx = i+1\n",
    "    \n",
    "    print(\"roc_auc_score on Test data\\n\", auc_sc)\n",
    "    print(\"----------------------------------------------------------------------------------\")\n",
    "    \n",
    "print(f\"The SVM classifier is classifier {best_idx} with roc_auc_score {best_auc}\")\n",
    "#     print(\"\\nsvc model\",i+1, \", C =\", svc_c[i], \"\\n roc_auc_score on trainng data\\n\", \n",
    "#           roc_auc_score(y_train, svc_lst[i].predict(X_train)))"
   ]
  },
  {
   "cell_type": "markdown",
   "metadata": {},
   "source": [
    "### clf_svc4 (C=30) had the bestmacro average F1 on the cross-validation data. \n",
    "### clf_svc6 (C=300) had the bestmacro average F1 on test data.  \n",
    "### clf_svc2 (C=3) had the best roc_auc_score on the cross-validation data. \n",
    "### clf_svc2 (C=3) had the best roc_auc_score on the Test data."
   ]
  },
  {
   "cell_type": "code",
   "execution_count": 38,
   "metadata": {},
   "outputs": [
    {
     "data": {
      "text/plain": [
       "['best_SVC_model_one_hot_C30.sav']"
      ]
     },
     "execution_count": 38,
     "metadata": {},
     "output_type": "execute_result"
    }
   ],
   "source": [
    "from joblib import dump, load\n",
    "dump(clf_svc4, \"best_SVC_model_one_hot_C30.sav\")"
   ]
  },
  {
   "cell_type": "code",
   "execution_count": 39,
   "metadata": {},
   "outputs": [],
   "source": [
    "clf_load = load(\"best_SVC_model_one_hot_C30.sav\")"
   ]
  },
  {
   "cell_type": "code",
   "execution_count": 40,
   "metadata": {},
   "outputs": [
    {
     "data": {
      "text/plain": [
       "{'0': {'precision': 0.9266903914590747,\n",
       "  'recall': 0.9712793733681462,\n",
       "  'f1-score': 0.9484611181934073,\n",
       "  'support': 5362},\n",
       " '1': {'precision': 0.6778242677824268,\n",
       "  'recall': 0.44021739130434784,\n",
       "  'f1-score': 0.5337726523887973,\n",
       "  'support': 736},\n",
       " 'accuracy': 0.907182682846835,\n",
       " 'macro avg': {'precision': 0.8022573296207507,\n",
       "  'recall': 0.705748382336247,\n",
       "  'f1-score': 0.7411168852911023,\n",
       "  'support': 6098},\n",
       " 'weighted avg': {'precision': 0.8966534175289316,\n",
       "  'recall': 0.907182682846835,\n",
       "  'f1-score': 0.898410165285537,\n",
       "  'support': 6098}}"
      ]
     },
     "execution_count": 40,
     "metadata": {},
     "output_type": "execute_result"
    }
   ],
   "source": [
    "classification_report(y_cv, clf_load.predict(X_cv), output_dict=True)"
   ]
  },
  {
   "cell_type": "code",
   "execution_count": 41,
   "metadata": {},
   "outputs": [
    {
     "data": {
      "text/plain": [
       "0.916693744053514"
      ]
     },
     "execution_count": 41,
     "metadata": {},
     "output_type": "execute_result"
    }
   ],
   "source": [
    "roc_auc_score(y_test, clf_load.predict_proba(X_test)[:, 1])"
   ]
  },
  {
   "cell_type": "code",
   "execution_count": 42,
   "metadata": {},
   "outputs": [
    {
     "data": {
      "text/plain": [
       "0.9194505315180903"
      ]
     },
     "execution_count": 42,
     "metadata": {},
     "output_type": "execute_result"
    }
   ],
   "source": [
    "roc_auc_score(y_cv, clf_load.predict_proba(X_cv)[:, 1])"
   ]
  },
  {
   "cell_type": "code",
   "execution_count": null,
   "metadata": {},
   "outputs": [],
   "source": []
  }
 ],
 "metadata": {
  "kernelspec": {
   "display_name": "torch18",
   "language": "python",
   "name": "torch18"
  },
  "language_info": {
   "codemirror_mode": {
    "name": "ipython",
    "version": 3
   },
   "file_extension": ".py",
   "mimetype": "text/x-python",
   "name": "python",
   "nbconvert_exporter": "python",
   "pygments_lexer": "ipython3",
   "version": "3.8.2"
  }
 },
 "nbformat": 4,
 "nbformat_minor": 2
}
